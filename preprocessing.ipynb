{
 "cells": [
  {
   "cell_type": "markdown",
   "id": "172030c4-24a4-4fbd-8c6f-f4aaeeab3d50",
   "metadata": {},
   "source": [
    "# Installing and Importing Libraries"
   ]
  },
  {
   "cell_type": "code",
   "execution_count": 15,
   "id": "41adac63-99eb-4675-9c25-41e007ca7c90",
   "metadata": {
    "scrolled": true
   },
   "outputs": [
    {
     "name": "stdout",
     "output_type": "stream",
     "text": [
      "Collecting nltk\n",
      "  Downloading nltk-3.8.1-py3-none-any.whl.metadata (2.8 kB)\n",
      "Requirement already satisfied: click in c:\\users\\yuguerten\\appdata\\local\\programs\\python\\python311\\lib\\site-packages (from nltk) (8.1.7)\n",
      "Requirement already satisfied: joblib in c:\\users\\yuguerten\\appdata\\local\\programs\\python\\python311\\lib\\site-packages (from nltk) (1.3.2)\n",
      "Requirement already satisfied: regex>=2021.8.3 in c:\\users\\yuguerten\\appdata\\local\\programs\\python\\python311\\lib\\site-packages (from nltk) (2023.12.25)\n",
      "Requirement already satisfied: tqdm in c:\\users\\yuguerten\\appdata\\local\\programs\\python\\python311\\lib\\site-packages (from nltk) (4.66.1)\n",
      "Requirement already satisfied: colorama in c:\\users\\yuguerten\\appdata\\local\\programs\\python\\python311\\lib\\site-packages (from click->nltk) (0.4.6)\n",
      "Downloading nltk-3.8.1-py3-none-any.whl (1.5 MB)\n",
      "   ---------------------------------------- 0.0/1.5 MB ? eta -:--:--\n",
      "   ---------------------------------------- 0.0/1.5 MB ? eta -:--:--\n",
      "    --------------------------------------- 0.0/1.5 MB 217.9 kB/s eta 0:00:07\n",
      "   - -------------------------------------- 0.0/1.5 MB 326.8 kB/s eta 0:00:05\n",
      "   - -------------------------------------- 0.1/1.5 MB 327.7 kB/s eta 0:00:05\n",
      "   -- ------------------------------------- 0.1/1.5 MB 381.3 kB/s eta 0:00:04\n",
      "   -- ------------------------------------- 0.1/1.5 MB 392.2 kB/s eta 0:00:04\n",
      "   --- ------------------------------------ 0.1/1.5 MB 400.9 kB/s eta 0:00:04\n",
      "   ---- ----------------------------------- 0.2/1.5 MB 416.7 kB/s eta 0:00:04\n",
      "   ---- ----------------------------------- 0.2/1.5 MB 436.9 kB/s eta 0:00:04\n",
      "   ----- ---------------------------------- 0.2/1.5 MB 454.0 kB/s eta 0:00:03\n",
      "   ----- ---------------------------------- 0.2/1.5 MB 458.5 kB/s eta 0:00:03\n",
      "   ------ --------------------------------- 0.2/1.5 MB 450.6 kB/s eta 0:00:03\n",
      "   ------- -------------------------------- 0.3/1.5 MB 472.9 kB/s eta 0:00:03\n",
      "   ------- -------------------------------- 0.3/1.5 MB 465.5 kB/s eta 0:00:03\n",
      "   -------- ------------------------------- 0.3/1.5 MB 457.1 kB/s eta 0:00:03\n",
      "   -------- ------------------------------- 0.3/1.5 MB 466.1 kB/s eta 0:00:03\n",
      "   --------- ------------------------------ 0.4/1.5 MB 473.7 kB/s eta 0:00:03\n",
      "   ---------- ----------------------------- 0.4/1.5 MB 475.4 kB/s eta 0:00:03\n",
      "   ---------- ----------------------------- 0.4/1.5 MB 470.0 kB/s eta 0:00:03\n",
      "   ----------- ---------------------------- 0.4/1.5 MB 482.7 kB/s eta 0:00:03\n",
      "   ----------- ---------------------------- 0.5/1.5 MB 477.6 kB/s eta 0:00:03\n",
      "   ------------ --------------------------- 0.5/1.5 MB 471.0 kB/s eta 0:00:03\n",
      "   ------------- -------------------------- 0.5/1.5 MB 476.7 kB/s eta 0:00:03\n",
      "   -------------- ------------------------- 0.5/1.5 MB 477.4 kB/s eta 0:00:03\n",
      "   -------------- ------------------------- 0.6/1.5 MB 482.4 kB/s eta 0:00:02\n",
      "   -------------- ------------------------- 0.6/1.5 MB 478.3 kB/s eta 0:00:02\n",
      "   --------------- ------------------------ 0.6/1.5 MB 487.2 kB/s eta 0:00:02\n",
      "   ---------------- ----------------------- 0.6/1.5 MB 483.3 kB/s eta 0:00:02\n",
      "   ----------------- ---------------------- 0.6/1.5 MB 483.5 kB/s eta 0:00:02\n",
      "   ----------------- ---------------------- 0.7/1.5 MB 487.6 kB/s eta 0:00:02\n",
      "   ------------------ --------------------- 0.7/1.5 MB 482.5 kB/s eta 0:00:02\n",
      "   ------------------ --------------------- 0.7/1.5 MB 486.3 kB/s eta 0:00:02\n",
      "   ------------------- -------------------- 0.7/1.5 MB 482.7 kB/s eta 0:00:02\n",
      "   -------------------- ------------------- 0.8/1.5 MB 489.8 kB/s eta 0:00:02\n",
      "   -------------------- ------------------- 0.8/1.5 MB 486.7 kB/s eta 0:00:02\n",
      "   --------------------- ------------------ 0.8/1.5 MB 486.7 kB/s eta 0:00:02\n",
      "   --------------------- ------------------ 0.8/1.5 MB 490.0 kB/s eta 0:00:02\n",
      "   ---------------------- ----------------- 0.9/1.5 MB 489.9 kB/s eta 0:00:02\n",
      "   ----------------------- ---------------- 0.9/1.5 MB 488.7 kB/s eta 0:00:02\n",
      "   ----------------------- ---------------- 0.9/1.5 MB 485.7 kB/s eta 0:00:02\n",
      "   ------------------------ --------------- 0.9/1.5 MB 491.5 kB/s eta 0:00:02\n",
      "   ------------------------ --------------- 0.9/1.5 MB 488.9 kB/s eta 0:00:02\n",
      "   ------------------------- -------------- 1.0/1.5 MB 488.9 kB/s eta 0:00:02\n",
      "   -------------------------- ------------- 1.0/1.5 MB 491.5 kB/s eta 0:00:02\n",
      "   --------------------------- ------------ 1.0/1.5 MB 491.4 kB/s eta 0:00:01\n",
      "   --------------------------- ------------ 1.0/1.5 MB 493.9 kB/s eta 0:00:01\n",
      "   --------------------------- ------------ 1.1/1.5 MB 487.8 kB/s eta 0:00:01\n",
      "   ----------------------------- ---------- 1.1/1.5 MB 492.7 kB/s eta 0:00:01\n",
      "   ----------------------------- ---------- 1.1/1.5 MB 490.2 kB/s eta 0:00:01\n",
      "   ----------------------------- ---------- 1.1/1.5 MB 492.6 kB/s eta 0:00:01\n",
      "   ------------------------------ --------- 1.2/1.5 MB 492.6 kB/s eta 0:00:01\n",
      "   ------------------------------- -------- 1.2/1.5 MB 491.5 kB/s eta 0:00:01\n",
      "   ------------------------------- -------- 1.2/1.5 MB 491.4 kB/s eta 0:00:01\n",
      "   -------------------------------- ------- 1.2/1.5 MB 489.4 kB/s eta 0:00:01\n",
      "   --------------------------------- ------ 1.3/1.5 MB 493.6 kB/s eta 0:00:01\n",
      "   --------------------------------- ------ 1.3/1.5 MB 491.4 kB/s eta 0:00:01\n",
      "   --------------------------------- ------ 1.3/1.5 MB 491.4 kB/s eta 0:00:01\n",
      "   --------------------------------- ------ 1.3/1.5 MB 491.4 kB/s eta 0:00:01\n",
      "   --------------------------------- ------ 1.3/1.5 MB 491.4 kB/s eta 0:00:01\n",
      "   --------------------------------- ------ 1.3/1.5 MB 491.4 kB/s eta 0:00:01\n",
      "   ---------------------------------- ----- 1.3/1.5 MB 457.6 kB/s eta 0:00:01\n",
      "   ----------------------------------- ---- 1.4/1.5 MB 469.0 kB/s eta 0:00:01\n",
      "   ------------------------------------ --- 1.4/1.5 MB 471.1 kB/s eta 0:00:01\n",
      "   ------------------------------------ --- 1.4/1.5 MB 469.6 kB/s eta 0:00:01\n",
      "   ------------------------------------- -- 1.4/1.5 MB 471.0 kB/s eta 0:00:01\n",
      "   ------------------------------------- -- 1.4/1.5 MB 469.6 kB/s eta 0:00:01\n",
      "   -------------------------------------- - 1.5/1.5 MB 471.4 kB/s eta 0:00:01\n",
      "   -------------------------------------- - 1.5/1.5 MB 470.0 kB/s eta 0:00:01\n",
      "   ---------------------------------------  1.5/1.5 MB 467.2 kB/s eta 0:00:01\n",
      "   ---------------------------------------- 1.5/1.5 MB 468.4 kB/s eta 0:00:00\n",
      "Installing collected packages: nltk\n",
      "Successfully installed nltk-3.8.1\n"
     ]
    },
    {
     "name": "stderr",
     "output_type": "stream",
     "text": [
      "\n",
      "[notice] A new release of pip is available: 23.3.2 -> 24.0\n",
      "[notice] To update, run: python.exe -m pip install --upgrade pip\n"
     ]
    }
   ],
   "source": [
    "!pip install nltk"
   ]
  },
  {
   "cell_type": "code",
   "execution_count": 20,
   "id": "056adffc-53e9-4bb0-a0b9-2a372e0880a3",
   "metadata": {},
   "outputs": [
    {
     "name": "stderr",
     "output_type": "stream",
     "text": [
      "[nltk_data] Downloading package stopwords to\n",
      "[nltk_data]     C:\\Users\\yuguerten\\AppData\\Roaming\\nltk_data...\n",
      "[nltk_data]   Package stopwords is already up-to-date!\n"
     ]
    },
    {
     "data": {
      "text/plain": [
       "True"
      ]
     },
     "execution_count": 20,
     "metadata": {},
     "output_type": "execute_result"
    }
   ],
   "source": [
    "nltk.download('stopwords')"
   ]
  },
  {
   "cell_type": "code",
   "execution_count": 22,
   "id": "199380de-7f86-4d43-b122-98473bc24c50",
   "metadata": {
    "scrolled": true
   },
   "outputs": [
    {
     "name": "stdout",
     "output_type": "stream",
     "text": [
      "Collecting Arabic-Stopwords\n",
      "  Downloading Arabic_Stopwords-0.4.3-py3-none-any.whl.metadata (8.9 kB)\n",
      "Collecting pyarabic>=0.6.2 (from Arabic-Stopwords)\n",
      "  Downloading PyArabic-0.6.15-py3-none-any.whl.metadata (10 kB)\n",
      "Requirement already satisfied: six>=1.14.0 in c:\\users\\yuguerten\\appdata\\local\\programs\\python\\python311\\lib\\site-packages (from pyarabic>=0.6.2->Arabic-Stopwords) (1.16.0)\n",
      "Downloading Arabic_Stopwords-0.4.3-py3-none-any.whl (360 kB)\n",
      "   ---------------------------------------- 0.0/360.5 kB ? eta -:--:--\n",
      "   ---------------------------------------- 0.0/360.5 kB ? eta -:--:--\n",
      "   - -------------------------------------- 10.2/360.5 kB ? eta -:--:--\n",
      "   --- ----------------------------------- 30.7/360.5 kB 435.7 kB/s eta 0:00:01\n",
      "   ---- ---------------------------------- 41.0/360.5 kB 281.8 kB/s eta 0:00:02\n",
      "   ------ -------------------------------- 61.4/360.5 kB 328.2 kB/s eta 0:00:01\n",
      "   ------- ------------------------------- 71.7/360.5 kB 302.7 kB/s eta 0:00:01\n",
      "   ------- ------------------------------- 71.7/360.5 kB 302.7 kB/s eta 0:00:01\n",
      "   ------- ------------------------------- 71.7/360.5 kB 302.7 kB/s eta 0:00:01\n",
      "   ------- ------------------------------- 71.7/360.5 kB 302.7 kB/s eta 0:00:01\n",
      "   ------- ------------------------------- 71.7/360.5 kB 302.7 kB/s eta 0:00:01\n",
      "   ------- ------------------------------- 71.7/360.5 kB 302.7 kB/s eta 0:00:01\n",
      "   ------- ------------------------------- 71.7/360.5 kB 302.7 kB/s eta 0:00:01\n",
      "   ------- ------------------------------- 71.7/360.5 kB 302.7 kB/s eta 0:00:01\n",
      "   --------------- ---------------------- 143.4/360.5 kB 243.4 kB/s eta 0:00:01\n",
      "   --------------- ---------------------- 143.4/360.5 kB 243.4 kB/s eta 0:00:01\n",
      "   ---------------- --------------------- 153.6/360.5 kB 213.3 kB/s eta 0:00:01\n",
      "   ---------------- --------------------- 153.6/360.5 kB 213.3 kB/s eta 0:00:01\n",
      "   ---------------- --------------------- 153.6/360.5 kB 213.3 kB/s eta 0:00:01\n",
      "   ---------------- --------------------- 153.6/360.5 kB 213.3 kB/s eta 0:00:01\n",
      "   ------------------ ------------------- 174.1/360.5 kB 197.9 kB/s eta 0:00:01\n",
      "   ------------------ ------------------- 174.1/360.5 kB 197.9 kB/s eta 0:00:01\n",
      "   ------------------ ------------------- 174.1/360.5 kB 197.9 kB/s eta 0:00:01\n",
      "   ------------------ ------------------- 174.1/360.5 kB 197.9 kB/s eta 0:00:01\n",
      "   ------------------ ------------------- 174.1/360.5 kB 197.9 kB/s eta 0:00:01\n",
      "   -------------------- ----------------- 194.6/360.5 kB 173.6 kB/s eta 0:00:01\n",
      "   ----------------------- -------------- 225.3/360.5 kB 191.1 kB/s eta 0:00:01\n",
      "   ------------------------ ------------- 235.5/360.5 kB 189.8 kB/s eta 0:00:01\n",
      "   ------------------------ ------------- 235.5/360.5 kB 189.8 kB/s eta 0:00:01\n",
      "   -------------------------- ----------- 256.0/360.5 kB 189.5 kB/s eta 0:00:01\n",
      "   -------------------------- ----------- 256.0/360.5 kB 189.5 kB/s eta 0:00:01\n",
      "   -------------------------- ----------- 256.0/360.5 kB 189.5 kB/s eta 0:00:01\n",
      "   ----------------------------- -------- 276.5/360.5 kB 187.2 kB/s eta 0:00:01\n",
      "   ----------------------------- -------- 276.5/360.5 kB 187.2 kB/s eta 0:00:01\n",
      "   ------------------------------ ------- 286.7/360.5 kB 182.5 kB/s eta 0:00:01\n",
      "   ------------------------------ ------- 286.7/360.5 kB 182.5 kB/s eta 0:00:01\n",
      "   ------------------------------ ------- 286.7/360.5 kB 182.5 kB/s eta 0:00:01\n",
      "   ------------------------------ ------- 286.7/360.5 kB 182.5 kB/s eta 0:00:01\n",
      "   ------------------------------ ------- 286.7/360.5 kB 182.5 kB/s eta 0:00:01\n",
      "   -------------------------------- ----- 307.2/360.5 kB 171.3 kB/s eta 0:00:01\n",
      "   -------------------------------- ----- 307.2/360.5 kB 171.3 kB/s eta 0:00:01\n",
      "   --------------------------------- ---- 317.4/360.5 kB 169.5 kB/s eta 0:00:01\n",
      "   --------------------------------- ---- 317.4/360.5 kB 169.5 kB/s eta 0:00:01\n",
      "   --------------------------------- ---- 317.4/360.5 kB 169.5 kB/s eta 0:00:01\n",
      "   --------------------------------- ---- 317.4/360.5 kB 169.5 kB/s eta 0:00:01\n",
      "   --------------------------------- ---- 317.4/360.5 kB 169.5 kB/s eta 0:00:01\n",
      "   ----------------------------------- -- 337.9/360.5 kB 157.7 kB/s eta 0:00:01\n",
      "   -------------------------------------- 360.5/360.5 kB 166.1 kB/s eta 0:00:00\n",
      "Downloading PyArabic-0.6.15-py3-none-any.whl (126 kB)\n",
      "   ---------------------------------------- 0.0/126.4 kB ? eta -:--:--\n",
      "   ---------------------------------------- 0.0/126.4 kB ? eta -:--:--\n",
      "   ---------------------------------------- 0.0/126.4 kB ? eta -:--:--\n",
      "   ---------------------------------------- 0.0/126.4 kB ? eta -:--:--\n",
      "   ---------------------------------------- 0.0/126.4 kB ? eta -:--:--\n",
      "   ---------------------------------------- 0.0/126.4 kB ? eta -:--:--\n",
      "   ---------------------------------------- 0.0/126.4 kB ? eta -:--:--\n",
      "   --- ------------------------------------ 10.2/126.4 kB ? eta -:--:--\n",
      "   --- ------------------------------------ 10.2/126.4 kB ? eta -:--:--\n",
      "   --- ------------------------------------ 10.2/126.4 kB ? eta -:--:--\n",
      "   --- ------------------------------------ 10.2/126.4 kB ? eta -:--:--\n",
      "   --- ------------------------------------ 10.2/126.4 kB ? eta -:--:--\n",
      "   --- ------------------------------------ 10.2/126.4 kB ? eta -:--:--\n",
      "   --- ------------------------------------ 10.2/126.4 kB ? eta -:--:--\n",
      "   --- ------------------------------------ 10.2/126.4 kB ? eta -:--:--\n",
      "   --- ------------------------------------ 10.2/126.4 kB ? eta -:--:--\n",
      "   --- ------------------------------------ 10.2/126.4 kB ? eta -:--:--\n",
      "   --------- ------------------------------ 30.7/126.4 kB 43.7 kB/s eta 0:00:03\n",
      "   --------- ------------------------------ 30.7/126.4 kB 43.7 kB/s eta 0:00:03\n",
      "   --------- ------------------------------ 30.7/126.4 kB 43.7 kB/s eta 0:00:03\n",
      "   --------- ------------------------------ 30.7/126.4 kB 43.7 kB/s eta 0:00:03\n",
      "   --------- ------------------------------ 30.7/126.4 kB 43.7 kB/s eta 0:00:03\n",
      "   --------- ------------------------------ 30.7/126.4 kB 43.7 kB/s eta 0:00:03\n",
      "   --------- ------------------------------ 30.7/126.4 kB 43.7 kB/s eta 0:00:03\n",
      "   --------- ------------------------------ 30.7/126.4 kB 43.7 kB/s eta 0:00:03\n",
      "   --------- ------------------------------ 30.7/126.4 kB 43.7 kB/s eta 0:00:03\n",
      "   ------------ --------------------------- 41.0/126.4 kB 35.1 kB/s eta 0:00:03\n",
      "   ------------ --------------------------- 41.0/126.4 kB 35.1 kB/s eta 0:00:03\n",
      "   ------------ --------------------------- 41.0/126.4 kB 35.1 kB/s eta 0:00:03\n",
      "   ------------ --------------------------- 41.0/126.4 kB 35.1 kB/s eta 0:00:03\n",
      "   ------------ --------------------------- 41.0/126.4 kB 35.1 kB/s eta 0:00:03\n",
      "   ------------ --------------------------- 41.0/126.4 kB 35.1 kB/s eta 0:00:03\n",
      "   ------------ --------------------------- 41.0/126.4 kB 35.1 kB/s eta 0:00:03\n",
      "   ------------ --------------------------- 41.0/126.4 kB 35.1 kB/s eta 0:00:03\n",
      "   ------------ --------------------------- 41.0/126.4 kB 35.1 kB/s eta 0:00:03\n",
      "   ------------ --------------------------- 41.0/126.4 kB 35.1 kB/s eta 0:00:03\n",
      "   ------------------- -------------------- 61.4/126.4 kB 38.1 kB/s eta 0:00:02\n",
      "   ------------------- -------------------- 61.4/126.4 kB 38.1 kB/s eta 0:00:02\n",
      "   ------------------- -------------------- 61.4/126.4 kB 38.1 kB/s eta 0:00:02\n",
      "   ------------------- -------------------- 61.4/126.4 kB 38.1 kB/s eta 0:00:02\n",
      "   ------------------- -------------------- 61.4/126.4 kB 38.1 kB/s eta 0:00:02\n",
      "   ------------------- -------------------- 61.4/126.4 kB 38.1 kB/s eta 0:00:02\n",
      "   ------------------- -------------------- 61.4/126.4 kB 38.1 kB/s eta 0:00:02\n",
      "   ------------------- -------------------- 61.4/126.4 kB 38.1 kB/s eta 0:00:02\n",
      "   ---------------------- ----------------- 71.7/126.4 kB 35.4 kB/s eta 0:00:02\n",
      "   ---------------------- ----------------- 71.7/126.4 kB 35.4 kB/s eta 0:00:02\n",
      "   ---------------------- ----------------- 71.7/126.4 kB 35.4 kB/s eta 0:00:02\n",
      "   ---------------------- ----------------- 71.7/126.4 kB 35.4 kB/s eta 0:00:02\n",
      "   ---------------------- ----------------- 71.7/126.4 kB 35.4 kB/s eta 0:00:02\n",
      "   ---------------------- ----------------- 71.7/126.4 kB 35.4 kB/s eta 0:00:02\n",
      "   ---------------------- ----------------- 71.7/126.4 kB 35.4 kB/s eta 0:00:02\n",
      "   ---------------------- ----------------- 71.7/126.4 kB 35.4 kB/s eta 0:00:02\n",
      "   ---------------------- ----------------- 71.7/126.4 kB 35.4 kB/s eta 0:00:02\n",
      "   ---------------------- ----------------- 71.7/126.4 kB 35.4 kB/s eta 0:00:02\n",
      "   ---------------------- ----------------- 71.7/126.4 kB 35.4 kB/s eta 0:00:02\n",
      "   ----------------------------- ---------- 92.2/126.4 kB 36.9 kB/s eta 0:00:01\n",
      "   ----------------------------- ---------- 92.2/126.4 kB 36.9 kB/s eta 0:00:01\n",
      "   ----------------------------- ---------- 92.2/126.4 kB 36.9 kB/s eta 0:00:01\n",
      "   ----------------------------- ---------- 92.2/126.4 kB 36.9 kB/s eta 0:00:01\n",
      "   ----------------------------- ---------- 92.2/126.4 kB 36.9 kB/s eta 0:00:01\n",
      "   ----------------------------- ---------- 92.2/126.4 kB 36.9 kB/s eta 0:00:01\n",
      "   ----------------------------- ---------- 92.2/126.4 kB 36.9 kB/s eta 0:00:01\n",
      "   ----------------------------- ---------- 92.2/126.4 kB 36.9 kB/s eta 0:00:01\n",
      "   ----------------------------- ---------- 92.2/126.4 kB 36.9 kB/s eta 0:00:01\n",
      "   ----------------------------- ---------- 92.2/126.4 kB 36.9 kB/s eta 0:00:01\n",
      "   ----------------------------- ---------- 92.2/126.4 kB 36.9 kB/s eta 0:00:01\n",
      "   ------------------------------- ------- 102.4/126.4 kB 33.5 kB/s eta 0:00:01\n",
      "   ------------------------------- ------- 102.4/126.4 kB 33.5 kB/s eta 0:00:01\n",
      "   ------------------------------- ------- 102.4/126.4 kB 33.5 kB/s eta 0:00:01\n",
      "   ------------------------------- ------- 102.4/126.4 kB 33.5 kB/s eta 0:00:01\n",
      "   ------------------------------- ------- 102.4/126.4 kB 33.5 kB/s eta 0:00:01\n",
      "   ------------------------------- ------- 102.4/126.4 kB 33.5 kB/s eta 0:00:01\n",
      "   ------------------------------- ------- 102.4/126.4 kB 33.5 kB/s eta 0:00:01\n",
      "   ------------------------------- ------- 102.4/126.4 kB 33.5 kB/s eta 0:00:01\n",
      "   ------------------------------- ------- 102.4/126.4 kB 33.5 kB/s eta 0:00:01\n",
      "   ------------------------------- ------- 102.4/126.4 kB 33.5 kB/s eta 0:00:01\n",
      "   ------------------------------- ------- 102.4/126.4 kB 33.5 kB/s eta 0:00:01\n",
      "   ------------------------------- ------- 102.4/126.4 kB 33.5 kB/s eta 0:00:01\n",
      "   ------------------------------- ------- 102.4/126.4 kB 33.5 kB/s eta 0:00:01\n",
      "   ------------------------------- ------- 102.4/126.4 kB 33.5 kB/s eta 0:00:01\n",
      "   ------------------------------- ------- 102.4/126.4 kB 33.5 kB/s eta 0:00:01\n",
      "   ------------------------------- ------- 102.4/126.4 kB 33.5 kB/s eta 0:00:01\n",
      "   ------------------------------------- - 122.9/126.4 kB 32.0 kB/s eta 0:00:01\n",
      "   --------------------------------------- 126.4/126.4 kB 33.0 kB/s eta 0:00:00\n",
      "Installing collected packages: pyarabic, Arabic-Stopwords\n",
      "Successfully installed Arabic-Stopwords-0.4.3 pyarabic-0.6.15\n"
     ]
    },
    {
     "name": "stderr",
     "output_type": "stream",
     "text": [
      "\n",
      "[notice] A new release of pip is available: 23.3.2 -> 24.0\n",
      "[notice] To update, run: python.exe -m pip install --upgrade pip\n"
     ]
    }
   ],
   "source": [
    "!pip install Arabic-Stopwords"
   ]
  },
  {
   "cell_type": "code",
   "execution_count": 24,
   "id": "00e1e5d3-bb91-4a81-acb9-18834599766f",
   "metadata": {},
   "outputs": [
    {
     "name": "stdout",
     "output_type": "stream",
     "text": [
      "Requirement already satisfied: PyArabic in c:\\users\\yuguerten\\appdata\\local\\programs\\python\\python311\\lib\\site-packages (0.6.15)\n",
      "Requirement already satisfied: six>=1.14.0 in c:\\users\\yuguerten\\appdata\\local\\programs\\python\\python311\\lib\\site-packages (from PyArabic) (1.16.0)\n"
     ]
    },
    {
     "name": "stderr",
     "output_type": "stream",
     "text": [
      "\n",
      "[notice] A new release of pip is available: 23.3.2 -> 24.0\n",
      "[notice] To update, run: python.exe -m pip install --upgrade pip\n"
     ]
    }
   ],
   "source": [
    "!pip install PyArabic"
   ]
  },
  {
   "cell_type": "code",
   "execution_count": 23,
   "id": "f97c9953-b386-4d5a-8a8a-4aeca82c502d",
   "metadata": {
    "scrolled": true
   },
   "outputs": [
    {
     "name": "stdout",
     "output_type": "stream",
     "text": [
      "Collecting Tashaphyne\n",
      "  Downloading Tashaphyne-0.3.6-py3-none-any.whl.metadata (18 kB)\n",
      "Requirement already satisfied: pyarabic in c:\\users\\yuguerten\\appdata\\local\\programs\\python\\python311\\lib\\site-packages (from Tashaphyne) (0.6.15)\n",
      "Requirement already satisfied: six>=1.14.0 in c:\\users\\yuguerten\\appdata\\local\\programs\\python\\python311\\lib\\site-packages (from pyarabic->Tashaphyne) (1.16.0)\n",
      "Downloading Tashaphyne-0.3.6-py3-none-any.whl (251 kB)\n",
      "   ---------------------------------------- 0.0/251.5 kB ? eta -:--:--\n",
      "   - -------------------------------------- 10.2/251.5 kB ? eta -:--:--\n",
      "   - -------------------------------------- 10.2/251.5 kB ? eta -:--:--\n",
      "   ---- ---------------------------------- 30.7/251.5 kB 262.6 kB/s eta 0:00:01\n",
      "   ------ -------------------------------- 41.0/251.5 kB 196.9 kB/s eta 0:00:02\n",
      "   ------ -------------------------------- 41.0/251.5 kB 196.9 kB/s eta 0:00:02\n",
      "   ------ -------------------------------- 41.0/251.5 kB 196.9 kB/s eta 0:00:02\n",
      "   ------ -------------------------------- 41.0/251.5 kB 196.9 kB/s eta 0:00:02\n",
      "   ------ -------------------------------- 41.0/251.5 kB 196.9 kB/s eta 0:00:02\n",
      "   ------ -------------------------------- 41.0/251.5 kB 196.9 kB/s eta 0:00:02\n",
      "   ------ -------------------------------- 41.0/251.5 kB 196.9 kB/s eta 0:00:02\n",
      "   ------ -------------------------------- 41.0/251.5 kB 196.9 kB/s eta 0:00:02\n",
      "   ------ -------------------------------- 41.0/251.5 kB 196.9 kB/s eta 0:00:02\n",
      "   ------ -------------------------------- 41.0/251.5 kB 196.9 kB/s eta 0:00:02\n",
      "   ------------------ ------------------- 122.9/251.5 kB 189.6 kB/s eta 0:00:01\n",
      "   ------------------ ------------------- 122.9/251.5 kB 189.6 kB/s eta 0:00:01\n",
      "   ------------------ ------------------- 122.9/251.5 kB 189.6 kB/s eta 0:00:01\n",
      "   --------------------- ---------------- 143.4/251.5 kB 181.1 kB/s eta 0:00:01\n",
      "   ----------------------- -------------- 153.6/251.5 kB 176.3 kB/s eta 0:00:01\n",
      "   ----------------------- -------------- 153.6/251.5 kB 176.3 kB/s eta 0:00:01\n",
      "   ----------------------- -------------- 153.6/251.5 kB 176.3 kB/s eta 0:00:01\n",
      "   ----------------------- -------------- 153.6/251.5 kB 176.3 kB/s eta 0:00:01\n",
      "   ----------------------- -------------- 153.6/251.5 kB 176.3 kB/s eta 0:00:01\n",
      "   ----------------------- -------------- 153.6/251.5 kB 176.3 kB/s eta 0:00:01\n",
      "   ----------------------- -------------- 153.6/251.5 kB 176.3 kB/s eta 0:00:01\n",
      "   ----------------------- -------------- 153.6/251.5 kB 176.3 kB/s eta 0:00:01\n",
      "   ----------------------- -------------- 153.6/251.5 kB 176.3 kB/s eta 0:00:01\n",
      "   -------------------------- ----------- 174.1/251.5 kB 132.7 kB/s eta 0:00:01\n",
      "   ------------------------------ ------- 204.8/251.5 kB 155.6 kB/s eta 0:00:01\n",
      "   ------------------------------ ------- 204.8/251.5 kB 155.6 kB/s eta 0:00:01\n",
      "   ----------------------------------- -- 235.5/251.5 kB 162.0 kB/s eta 0:00:01\n",
      "   ----------------------------------- -- 235.5/251.5 kB 162.0 kB/s eta 0:00:01\n",
      "   -------------------------------------- 251.5/251.5 kB 166.1 kB/s eta 0:00:00\n",
      "Installing collected packages: Tashaphyne\n",
      "Successfully installed Tashaphyne-0.3.6\n"
     ]
    },
    {
     "name": "stderr",
     "output_type": "stream",
     "text": [
      "\n",
      "[notice] A new release of pip is available: 23.3.2 -> 24.0\n",
      "[notice] To update, run: python.exe -m pip install --upgrade pip\n"
     ]
    }
   ],
   "source": [
    "!pip install Tashaphyne"
   ]
  },
  {
   "cell_type": "code",
   "execution_count": 78,
   "id": "db99e023-2ef9-4e6a-be23-504c0764ba47",
   "metadata": {},
   "outputs": [],
   "source": [
    "import pandas as pd\n",
    "import matplotlib.pyplot as plt\n",
    "import seaborn as sns\n",
    "\n",
    "# Text preprocessing packages\n",
    "import nltk # Text libarary\n",
    "# nltk.download('stopwords')\n",
    "import string # Removing special characters {#, @, ...}\n",
    "import re # Regex Package\n",
    "import regex\n",
    "# Corpora is a group presenting multiple collections of text documents. A single collection is called corpus.\n",
    "from nltk.corpus import stopwords # Stopwords\n",
    "import arabicstopwords.arabicstopwords as stp #more range of arabic stop words\n",
    "from nltk.stem.isri import ISRIStemmer\n",
    "import pyarabic.araby as araby\n",
    "from tashaphyne.stemming import ArabicLightStemmer\n",
    "\n",
    "from nltk.stem import SnowballStemmer, WordNetLemmatizer"
   ]
  },
  {
   "cell_type": "markdown",
   "id": "7706a294-dba1-4020-9afd-347a291fe5c0",
   "metadata": {},
   "source": [
    "# Explotary Data Analysis"
   ]
  },
  {
   "cell_type": "code",
   "execution_count": 2,
   "id": "5f475c69-21b7-436e-81af-567a50297ec6",
   "metadata": {},
   "outputs": [
    {
     "data": {
      "text/html": [
       "<div>\n",
       "<style scoped>\n",
       "    .dataframe tbody tr th:only-of-type {\n",
       "        vertical-align: middle;\n",
       "    }\n",
       "\n",
       "    .dataframe tbody tr th {\n",
       "        vertical-align: top;\n",
       "    }\n",
       "\n",
       "    .dataframe thead th {\n",
       "        text-align: right;\n",
       "    }\n",
       "</style>\n",
       "<table border=\"1\" class=\"dataframe\">\n",
       "  <thead>\n",
       "    <tr style=\"text-align: right;\">\n",
       "      <th></th>\n",
       "      <th>Body</th>\n",
       "      <th>category</th>\n",
       "    </tr>\n",
       "  </thead>\n",
       "  <tbody>\n",
       "    <tr>\n",
       "      <th>0</th>\n",
       "      <td>‭BBC Arabic‬ - ‮الش...</td>\n",
       "      <td>اخبار الشرق الاوسط</td>\n",
       "    </tr>\n",
       "    <tr>\n",
       "      <th>1</th>\n",
       "      <td>‭BBC Arabic‬ - ‮الش...</td>\n",
       "      <td>اخبار الشرق الاوسط</td>\n",
       "    </tr>\n",
       "    <tr>\n",
       "      <th>2</th>\n",
       "      <td>‭BBC Arabic‬ - ‮الش...</td>\n",
       "      <td>اخبار الشرق الاوسط</td>\n",
       "    </tr>\n",
       "    <tr>\n",
       "      <th>3</th>\n",
       "      <td>‭BBC Arabic‬ - ‮الش...</td>\n",
       "      <td>اخبار الشرق الاوسط</td>\n",
       "    </tr>\n",
       "    <tr>\n",
       "      <th>4</th>\n",
       "      <td>‭BBC Arabic‬ - ‮الش...</td>\n",
       "      <td>اخبار الشرق الاوسط</td>\n",
       "    </tr>\n",
       "  </tbody>\n",
       "</table>\n",
       "</div>"
      ],
      "text/plain": [
       "                                                Body            category\n",
       "0                             ‭BBC Arabic‬ - ‮الش...  اخبار الشرق الاوسط\n",
       "1                             ‭BBC Arabic‬ - ‮الش...  اخبار الشرق الاوسط\n",
       "2                             ‭BBC Arabic‬ - ‮الش...  اخبار الشرق الاوسط\n",
       "3                             ‭BBC Arabic‬ - ‮الش...  اخبار الشرق الاوسط\n",
       "4                             ‭BBC Arabic‬ - ‮الش...  اخبار الشرق الاوسط"
      ]
     },
     "execution_count": 2,
     "metadata": {},
     "output_type": "execute_result"
    }
   ],
   "source": [
    "df = pd.read_csv('dataset.csv',encoding='utf-8')\n",
    "df.head(5)"
   ]
  },
  {
   "cell_type": "code",
   "execution_count": 3,
   "id": "2a86164b-d068-4c60-9aa1-f3ac59f28673",
   "metadata": {},
   "outputs": [
    {
     "data": {
      "text/plain": [
       "(4763, 2)"
      ]
     },
     "execution_count": 3,
     "metadata": {},
     "output_type": "execute_result"
    }
   ],
   "source": [
    "df.shape"
   ]
  },
  {
   "cell_type": "code",
   "execution_count": 5,
   "id": "f216d8d7-267f-47bf-8b6b-ffd82386344c",
   "metadata": {},
   "outputs": [
    {
     "name": "stdout",
     "output_type": "stream",
     "text": [
      "<class 'pandas.core.frame.DataFrame'>\n",
      "RangeIndex: 4763 entries, 0 to 4762\n",
      "Data columns (total 2 columns):\n",
      " #   Column    Non-Null Count  Dtype \n",
      "---  ------    --------------  ----- \n",
      " 0   Body      4763 non-null   object\n",
      " 1   category  4763 non-null   object\n",
      "dtypes: object(2)\n",
      "memory usage: 74.6+ KB\n"
     ]
    }
   ],
   "source": [
    "df.info()"
   ]
  },
  {
   "cell_type": "code",
   "execution_count": 26,
   "id": "de36e197-76a2-4646-839f-952eac45c6d4",
   "metadata": {},
   "outputs": [
    {
     "data": {
      "text/plain": [
       "Body        0\n",
       "category    0\n",
       "dtype: int64"
      ]
     },
     "execution_count": 26,
     "metadata": {},
     "output_type": "execute_result"
    }
   ],
   "source": [
    "df.isnull().sum()"
   ]
  },
  {
   "cell_type": "code",
   "execution_count": 27,
   "id": "13632cbc-69b1-4bf6-90c6-23d12fffb079",
   "metadata": {},
   "outputs": [
    {
     "data": {
      "text/plain": [
       "508"
      ]
     },
     "execution_count": 27,
     "metadata": {},
     "output_type": "execute_result"
    }
   ],
   "source": [
    "df.duplicated().sum()"
   ]
  },
  {
   "cell_type": "code",
   "execution_count": 28,
   "id": "dd8790c7-bb1d-40ba-b7b0-0923cac27248",
   "metadata": {},
   "outputs": [
    {
     "data": {
      "text/html": [
       "<div>\n",
       "<style scoped>\n",
       "    .dataframe tbody tr th:only-of-type {\n",
       "        vertical-align: middle;\n",
       "    }\n",
       "\n",
       "    .dataframe tbody tr th {\n",
       "        vertical-align: top;\n",
       "    }\n",
       "\n",
       "    .dataframe thead th {\n",
       "        text-align: right;\n",
       "    }\n",
       "</style>\n",
       "<table border=\"1\" class=\"dataframe\">\n",
       "  <thead>\n",
       "    <tr style=\"text-align: right;\">\n",
       "      <th></th>\n",
       "      <th>Body</th>\n",
       "      <th>category</th>\n",
       "    </tr>\n",
       "  </thead>\n",
       "  <tbody>\n",
       "    <tr>\n",
       "      <th>107</th>\n",
       "      <td>‭BBC Arabic‬ - ‮...</td>\n",
       "      <td>اخبار الشرق الاوسط</td>\n",
       "    </tr>\n",
       "    <tr>\n",
       "      <th>108</th>\n",
       "      <td>‭BBC Arabic‬ - ‮...</td>\n",
       "      <td>اخبار الشرق الاوسط</td>\n",
       "    </tr>\n",
       "    <tr>\n",
       "      <th>109</th>\n",
       "      <td>‭BBC Arabic‬ - ‮...</td>\n",
       "      <td>اخبار الشرق الاوسط</td>\n",
       "    </tr>\n",
       "    <tr>\n",
       "      <th>110</th>\n",
       "      <td>‭BBC Arabic‬ - ‮...</td>\n",
       "      <td>اخبار الشرق الاوسط</td>\n",
       "    </tr>\n",
       "    <tr>\n",
       "      <th>111</th>\n",
       "      <td>‭BBC Arabic‬ - ‮...</td>\n",
       "      <td>اخبار الشرق الاوسط</td>\n",
       "    </tr>\n",
       "    <tr>\n",
       "      <th>...</th>\n",
       "      <td>...</td>\n",
       "      <td>...</td>\n",
       "    </tr>\n",
       "    <tr>\n",
       "      <th>4754</th>\n",
       "      <td>‭BBC Arabic‬ - ‮منو...</td>\n",
       "      <td>منوعات</td>\n",
       "    </tr>\n",
       "    <tr>\n",
       "      <th>4756</th>\n",
       "      <td>‭BBC Arabic‬ - ‮...</td>\n",
       "      <td>منوعات</td>\n",
       "    </tr>\n",
       "    <tr>\n",
       "      <th>4758</th>\n",
       "      <td>‭BBC Arabic‬ - ‮منو...</td>\n",
       "      <td>منوعات</td>\n",
       "    </tr>\n",
       "    <tr>\n",
       "      <th>4760</th>\n",
       "      <td>‭BBC Arabic‬ - ‮منو...</td>\n",
       "      <td>منوعات</td>\n",
       "    </tr>\n",
       "    <tr>\n",
       "      <th>4762</th>\n",
       "      <td>‭BBC Arabic‬ - ‮...</td>\n",
       "      <td>منوعات</td>\n",
       "    </tr>\n",
       "  </tbody>\n",
       "</table>\n",
       "<p>508 rows × 2 columns</p>\n",
       "</div>"
      ],
      "text/plain": [
       "                                                   Body            category\n",
       "107                                 ‭BBC Arabic‬ - ‮...  اخبار الشرق الاوسط\n",
       "108                                 ‭BBC Arabic‬ - ‮...  اخبار الشرق الاوسط\n",
       "109                                 ‭BBC Arabic‬ - ‮...  اخبار الشرق الاوسط\n",
       "110                                 ‭BBC Arabic‬ - ‮...  اخبار الشرق الاوسط\n",
       "111                                 ‭BBC Arabic‬ - ‮...  اخبار الشرق الاوسط\n",
       "...                                                 ...                 ...\n",
       "4754                             ‭BBC Arabic‬ - ‮منو...              منوعات\n",
       "4756                                ‭BBC Arabic‬ - ‮...              منوعات\n",
       "4758                             ‭BBC Arabic‬ - ‮منو...              منوعات\n",
       "4760                             ‭BBC Arabic‬ - ‮منو...              منوعات\n",
       "4762                                ‭BBC Arabic‬ - ‮...              منوعات\n",
       "\n",
       "[508 rows x 2 columns]"
      ]
     },
     "execution_count": 28,
     "metadata": {},
     "output_type": "execute_result"
    }
   ],
   "source": [
    "df[df['Body'].duplicated() == True]"
   ]
  },
  {
   "cell_type": "code",
   "execution_count": 29,
   "id": "bcde16cb-3911-4399-bea3-71e6a24e08bc",
   "metadata": {},
   "outputs": [
    {
     "data": {
      "text/plain": [
       "'                              \\u202dBBC Arabic\\u202c - \\u202eالشرق الأوسط\\u202c - \\u202eبالصور: تفجيرات العراق\\u202c                                        الرئيسية          الشرق الأوسط   \\t\\t  العالم   \\t\\t  شارك برأيك   \\t\\t  اقتصاد وأعمال   \\t\\t  منوعات  \\t \\t\\t  علوم وتكنولوجيا   \\t\\t  رياضة   \\t\\t  راديو وتلفزيون                  بالصور: تفجيرات العراق                           '"
      ]
     },
     "execution_count": 29,
     "metadata": {},
     "output_type": "execute_result"
    }
   ],
   "source": [
    "df['Body'].T[111]"
   ]
  },
  {
   "cell_type": "code",
   "execution_count": 30,
   "id": "fdf4a890-2903-4d7d-ad70-e6d8d9ad5fa6",
   "metadata": {},
   "outputs": [
    {
     "data": {
      "text/plain": [
       "'                              \\u202dBBC Arabic\\u202c - \\u202eالشرق الأوسط\\u202c - \\u202eبالصور: تفجيرات العراق\\u202c                                        الرئيسية          الشرق الأوسط   \\t\\t  العالم   \\t\\t  شارك برأيك   \\t\\t  اقتصاد وأعمال   \\t\\t  منوعات  \\t \\t\\t  علوم وتكنولوجيا   \\t\\t  رياضة   \\t\\t  راديو وتلفزيون                  بالصور: تفجيرات العراق                           '"
      ]
     },
     "execution_count": 30,
     "metadata": {},
     "output_type": "execute_result"
    }
   ],
   "source": [
    "df['Body'].T[110]"
   ]
  },
  {
   "cell_type": "raw",
   "id": "6b81ab68-4cc9-4832-9924-dd578618eb2d",
   "metadata": {},
   "source": [
    "header of the website ok let's keep going first we need to drop the duplicates"
   ]
  },
  {
   "cell_type": "code",
   "execution_count": 31,
   "id": "404cb451-efdf-45f4-ab0e-65064f9731be",
   "metadata": {},
   "outputs": [],
   "source": [
    "index = df[df['Body'].duplicated() == True].index\n",
    "df.drop(index, axis = 0, inplace = True)"
   ]
  },
  {
   "cell_type": "code",
   "execution_count": 32,
   "id": "c1b748fa-bd67-44ef-97a9-3df4cb91ca3b",
   "metadata": {},
   "outputs": [
    {
     "data": {
      "text/plain": [
       "(4255, 2)"
      ]
     },
     "execution_count": 32,
     "metadata": {},
     "output_type": "execute_result"
    }
   ],
   "source": [
    "df.shape"
   ]
  },
  {
   "cell_type": "code",
   "execution_count": 34,
   "id": "39f1568b-f1c2-433f-ad73-dd7366135713",
   "metadata": {},
   "outputs": [
    {
     "data": {
      "text/plain": [
       "754"
      ]
     },
     "execution_count": 34,
     "metadata": {},
     "output_type": "execute_result"
    }
   ],
   "source": [
    "#are there any stop words in the data?\n",
    "arabic_stopwords = stopwords.words(\"arabic\")\n",
    "len(arabic_stopwords)"
   ]
  },
  {
   "cell_type": "code",
   "execution_count": 35,
   "id": "8d4cf89a-f347-4383-8dcb-93d102900edc",
   "metadata": {},
   "outputs": [
    {
     "data": {
      "text/plain": [
       "stop_words\n",
       "24     189\n",
       "20     181\n",
       "22     178\n",
       "19     167\n",
       "21     166\n",
       "      ... \n",
       "3        1\n",
       "141      1\n",
       "68       1\n",
       "78       1\n",
       "89       1\n",
       "Name: count, Length: 86, dtype: int64"
      ]
     },
     "execution_count": 35,
     "metadata": {},
     "output_type": "execute_result"
    }
   ],
   "source": [
    "df['stop_words'] = df['Body'].apply(lambda x: len(set(x.split()) & set(arabic_stopwords)))\n",
    "df.stop_words.value_counts()"
   ]
  },
  {
   "cell_type": "code",
   "execution_count": 36,
   "id": "52feeefd-d9a2-4132-b625-d3c79c6e70ed",
   "metadata": {},
   "outputs": [
    {
     "data": {
      "text/html": [
       "<div>\n",
       "<style scoped>\n",
       "    .dataframe tbody tr th:only-of-type {\n",
       "        vertical-align: middle;\n",
       "    }\n",
       "\n",
       "    .dataframe tbody tr th {\n",
       "        vertical-align: top;\n",
       "    }\n",
       "\n",
       "    .dataframe thead th {\n",
       "        text-align: right;\n",
       "    }\n",
       "</style>\n",
       "<table border=\"1\" class=\"dataframe\">\n",
       "  <thead>\n",
       "    <tr style=\"text-align: right;\">\n",
       "      <th></th>\n",
       "      <th>985</th>\n",
       "      <th>3052</th>\n",
       "      <th>4183</th>\n",
       "      <th>1142</th>\n",
       "      <th>3517</th>\n",
       "      <th>3535</th>\n",
       "      <th>2059</th>\n",
       "      <th>3992</th>\n",
       "      <th>1170</th>\n",
       "      <th>1803</th>\n",
       "    </tr>\n",
       "  </thead>\n",
       "  <tbody>\n",
       "    <tr>\n",
       "      <th>Body</th>\n",
       "      <td>‭BBC Arabic‬ - ‮...</td>\n",
       "      <td>‭BBC Arabic‬ - ‮...</td>\n",
       "      <td>‭BBC Arabic‬ - ‮ريا...</td>\n",
       "      <td>‭BBC Arabic‬ - ‮الش...</td>\n",
       "      <td>‭BBC Arabic‬ - ‮...</td>\n",
       "      <td>‭BBC Arabic‬ - ‮...</td>\n",
       "      <td>‭BBC Arabic‬ - ‮...</td>\n",
       "      <td>‭BBC Arabic‬ - ‮...</td>\n",
       "      <td>‭BBC Arabic‬ - ‮...</td>\n",
       "      <td>‭BBC Arabic‬ - ‮...</td>\n",
       "    </tr>\n",
       "    <tr>\n",
       "      <th>category</th>\n",
       "      <td>اخبار الشرق الاوسط</td>\n",
       "      <td>اخبار العالم</td>\n",
       "      <td>رياضة</td>\n",
       "      <td>اخبار الشرق الاوسط</td>\n",
       "      <td>اخبار العالم</td>\n",
       "      <td>اخبار العالم</td>\n",
       "      <td>اخبار الشرق الاوسط</td>\n",
       "      <td>اقتصاد و اعمال</td>\n",
       "      <td>اخبار الشرق الاوسط</td>\n",
       "      <td>اخبار الشرق الاوسط</td>\n",
       "    </tr>\n",
       "    <tr>\n",
       "      <th>stop_words</th>\n",
       "      <td>73</td>\n",
       "      <td>19</td>\n",
       "      <td>44</td>\n",
       "      <td>29</td>\n",
       "      <td>25</td>\n",
       "      <td>17</td>\n",
       "      <td>22</td>\n",
       "      <td>23</td>\n",
       "      <td>19</td>\n",
       "      <td>30</td>\n",
       "    </tr>\n",
       "  </tbody>\n",
       "</table>\n",
       "</div>"
      ],
      "text/plain": [
       "                                                         985   \\\n",
       "Body                                      ‭BBC Arabic‬ - ‮...   \n",
       "category                                   اخبار الشرق الاوسط   \n",
       "stop_words                                                 73   \n",
       "\n",
       "                                                         3052  \\\n",
       "Body                                      ‭BBC Arabic‬ - ‮...   \n",
       "category                                         اخبار العالم   \n",
       "stop_words                                                 19   \n",
       "\n",
       "                                                         4183  \\\n",
       "Body                                   ‭BBC Arabic‬ - ‮ريا...   \n",
       "category                                                رياضة   \n",
       "stop_words                                                 44   \n",
       "\n",
       "                                                         1142  \\\n",
       "Body                                   ‭BBC Arabic‬ - ‮الش...   \n",
       "category                                   اخبار الشرق الاوسط   \n",
       "stop_words                                                 29   \n",
       "\n",
       "                                                         3517  \\\n",
       "Body                                      ‭BBC Arabic‬ - ‮...   \n",
       "category                                         اخبار العالم   \n",
       "stop_words                                                 25   \n",
       "\n",
       "                                                         3535  \\\n",
       "Body                                      ‭BBC Arabic‬ - ‮...   \n",
       "category                                         اخبار العالم   \n",
       "stop_words                                                 17   \n",
       "\n",
       "                                                         2059  \\\n",
       "Body                                      ‭BBC Arabic‬ - ‮...   \n",
       "category                                   اخبار الشرق الاوسط   \n",
       "stop_words                                                 22   \n",
       "\n",
       "                                                         3992  \\\n",
       "Body                                      ‭BBC Arabic‬ - ‮...   \n",
       "category                                       اقتصاد و اعمال   \n",
       "stop_words                                                 23   \n",
       "\n",
       "                                                         1170  \\\n",
       "Body                                      ‭BBC Arabic‬ - ‮...   \n",
       "category                                   اخبار الشرق الاوسط   \n",
       "stop_words                                                 19   \n",
       "\n",
       "                                                         1803  \n",
       "Body                                      ‭BBC Arabic‬ - ‮...  \n",
       "category                                   اخبار الشرق الاوسط  \n",
       "stop_words                                                 30  "
      ]
     },
     "execution_count": 36,
     "metadata": {},
     "output_type": "execute_result"
    }
   ],
   "source": [
    "df.sample(10).T"
   ]
  },
  {
   "cell_type": "code",
   "execution_count": 51,
   "id": "0e7fb146-3831-48b6-9bf3-babd95271164",
   "metadata": {},
   "outputs": [
    {
     "data": {
      "text/plain": [
       "category\n",
       "اخبار الشرق الاوسط    2158\n",
       "اخبار العالم          1353\n",
       "اقتصاد و اعمال         280\n",
       "علوم وتكنولوجيا        205\n",
       "رياضة                  150\n",
       "منوعات                  68\n",
       "عرض الصحف               41\n",
       "Name: count, dtype: int64"
      ]
     },
     "execution_count": 51,
     "metadata": {},
     "output_type": "execute_result"
    }
   ],
   "source": [
    " df['category'].value_counts()"
   ]
  },
  {
   "cell_type": "code",
   "execution_count": 53,
   "id": "2f696ce3-ef1c-46ea-ba66-dea81aeb3ac3",
   "metadata": {},
   "outputs": [],
   "source": [
    "category_mapping = {\n",
    "    'اخبار الشرق الاوسط': 1,\n",
    "    'اخبار العالم': 2,\n",
    "    'اقتصاد و اعمال': 3,\n",
    "    'علوم وتكنولوجيا': 4,\n",
    "    'رياضة': 5,\n",
    "    'منوعات': 6,\n",
    "    'عرض الصحف': 7\n",
    "}"
   ]
  },
  {
   "cell_type": "code",
   "execution_count": 58,
   "id": "dff1c508-ff4d-40bd-ad7c-71337c4baed6",
   "metadata": {},
   "outputs": [
    {
     "data": {
      "text/html": [
       "<div>\n",
       "<style scoped>\n",
       "    .dataframe tbody tr th:only-of-type {\n",
       "        vertical-align: middle;\n",
       "    }\n",
       "\n",
       "    .dataframe tbody tr th {\n",
       "        vertical-align: top;\n",
       "    }\n",
       "\n",
       "    .dataframe thead th {\n",
       "        text-align: right;\n",
       "    }\n",
       "</style>\n",
       "<table border=\"1\" class=\"dataframe\">\n",
       "  <thead>\n",
       "    <tr style=\"text-align: right;\">\n",
       "      <th></th>\n",
       "      <th>Body</th>\n",
       "      <th>category</th>\n",
       "      <th>stop_words</th>\n",
       "    </tr>\n",
       "  </thead>\n",
       "  <tbody>\n",
       "    <tr>\n",
       "      <th>0</th>\n",
       "      <td>‭BBC Arabic‬ - ‮الش...</td>\n",
       "      <td>1</td>\n",
       "      <td>56</td>\n",
       "    </tr>\n",
       "    <tr>\n",
       "      <th>1</th>\n",
       "      <td>‭BBC Arabic‬ - ‮الش...</td>\n",
       "      <td>1</td>\n",
       "      <td>21</td>\n",
       "    </tr>\n",
       "    <tr>\n",
       "      <th>2</th>\n",
       "      <td>‭BBC Arabic‬ - ‮الش...</td>\n",
       "      <td>1</td>\n",
       "      <td>41</td>\n",
       "    </tr>\n",
       "    <tr>\n",
       "      <th>3</th>\n",
       "      <td>‭BBC Arabic‬ - ‮الش...</td>\n",
       "      <td>1</td>\n",
       "      <td>6</td>\n",
       "    </tr>\n",
       "    <tr>\n",
       "      <th>4</th>\n",
       "      <td>‭BBC Arabic‬ - ‮الش...</td>\n",
       "      <td>1</td>\n",
       "      <td>23</td>\n",
       "    </tr>\n",
       "    <tr>\n",
       "      <th>...</th>\n",
       "      <td>...</td>\n",
       "      <td>...</td>\n",
       "      <td>...</td>\n",
       "    </tr>\n",
       "    <tr>\n",
       "      <th>4753</th>\n",
       "      <td>‭BBC Arabic‬ - ‮منو...</td>\n",
       "      <td>6</td>\n",
       "      <td>29</td>\n",
       "    </tr>\n",
       "    <tr>\n",
       "      <th>4755</th>\n",
       "      <td>‭BBC Arabic‬ - ‮...</td>\n",
       "      <td>6</td>\n",
       "      <td>26</td>\n",
       "    </tr>\n",
       "    <tr>\n",
       "      <th>4757</th>\n",
       "      <td>‭BBC Arabic‬ - ‮منو...</td>\n",
       "      <td>6</td>\n",
       "      <td>13</td>\n",
       "    </tr>\n",
       "    <tr>\n",
       "      <th>4759</th>\n",
       "      <td>‭BBC Arabic‬ - ‮منو...</td>\n",
       "      <td>6</td>\n",
       "      <td>17</td>\n",
       "    </tr>\n",
       "    <tr>\n",
       "      <th>4761</th>\n",
       "      <td>‭BBC Arabic‬ - ‮...</td>\n",
       "      <td>6</td>\n",
       "      <td>40</td>\n",
       "    </tr>\n",
       "  </tbody>\n",
       "</table>\n",
       "<p>4255 rows × 3 columns</p>\n",
       "</div>"
      ],
      "text/plain": [
       "                                                   Body  category  stop_words\n",
       "0                                ‭BBC Arabic‬ - ‮الش...         1          56\n",
       "1                                ‭BBC Arabic‬ - ‮الش...         1          21\n",
       "2                                ‭BBC Arabic‬ - ‮الش...         1          41\n",
       "3                                ‭BBC Arabic‬ - ‮الش...         1           6\n",
       "4                                ‭BBC Arabic‬ - ‮الش...         1          23\n",
       "...                                                 ...       ...         ...\n",
       "4753                             ‭BBC Arabic‬ - ‮منو...         6          29\n",
       "4755                                ‭BBC Arabic‬ - ‮...         6          26\n",
       "4757                             ‭BBC Arabic‬ - ‮منو...         6          13\n",
       "4759                             ‭BBC Arabic‬ - ‮منو...         6          17\n",
       "4761                                ‭BBC Arabic‬ - ‮...         6          40\n",
       "\n",
       "[4255 rows x 3 columns]"
      ]
     },
     "execution_count": 58,
     "metadata": {},
     "output_type": "execute_result"
    }
   ],
   "source": [
    "df['category'] = df['category'].map(category_mapping)\n",
    "df"
   ]
  },
  {
   "cell_type": "code",
   "execution_count": 67,
   "id": "3dc508b0-f9a8-406e-bf99-f0d9af6a3095",
   "metadata": {},
   "outputs": [
    {
     "data": {
      "image/png": "[encoded data removed]",
      "text/plain": [
       "<Figure size 640x480 with 1 Axes>"
      ]
     },
     "metadata": {},
     "output_type": "display_data"
    }
   ],
   "source": [
    "custom_palette = sns.color_palette(\"husl\", len(df['category'].unique()))\n",
    "sns.histplot(df, x=\"stop_words\", hue=\"category\", element=\"poly\",palette=custom_palette)\n",
    "plt.xlabel('Stop Words')\n",
    "plt.ylabel('Count')\n",
    "plt.title('Distribution of Stop Words')\n",
    "plt.tight_layout()\n",
    "plt.show()"
   ]
  },
  {
   "cell_type": "code",
   "execution_count": 68,
   "id": "e7f08eec-0ae9-4ce1-9539-b8d0f043407c",
   "metadata": {},
   "outputs": [
    {
     "data": {
      "text/plain": [
       "'إلى'"
      ]
     },
     "execution_count": 68,
     "metadata": {},
     "output_type": "execute_result"
    }
   ],
   "source": [
    "arabic_stopwords[20]"
   ]
  },
  {
   "cell_type": "code",
   "execution_count": 69,
   "id": "dec8b683-52af-4e1e-8d66-1151e70aee34",
   "metadata": {},
   "outputs": [
    {
     "data": {
      "text/plain": [
       "<Axes: xlabel='category'>"
      ]
     },
     "execution_count": 69,
     "metadata": {},
     "output_type": "execute_result"
    },
    {
     "data": {
      "image/png": "[encoded data removed]",
      "text/plain": [
       "<Figure size 640x480 with 1 Axes>"
      ]
     },
     "metadata": {},
     "output_type": "display_data"
    }
   ],
   "source": [
    "categories_count = my_df['category'].value_counts()\n",
    "categories_count.plot(kind='bar')"
   ]
  },
  {
   "cell_type": "markdown",
   "id": "34b996bd-38b0-4f97-ae14-89fd83033bed",
   "metadata": {},
   "source": [
    "# Text Preprocessing Packages and Data Cleaning"
   ]
  },
  {
   "cell_type": "code",
   "execution_count": 99,
   "id": "9dafe056-6a41-4335-a8b4-42e162ade030",
   "metadata": {},
   "outputs": [
    {
     "name": "stdout",
     "output_type": "stream",
     "text": [
      "<class 'pandas.core.frame.DataFrame'>\n",
      "Index: 4255 entries, 0 to 4761\n",
      "Data columns (total 3 columns):\n",
      " #   Column      Non-Null Count  Dtype \n",
      "---  ------      --------------  ----- \n",
      " 0   Body        4255 non-null   object\n",
      " 1   category    4255 non-null   int64 \n",
      " 2   stop_words  4255 non-null   int64 \n",
      "dtypes: int64(2), object(1)\n",
      "memory usage: 262.0+ KB\n"
     ]
    }
   ],
   "source": [
    "df.info()"
   ]
  },
  {
   "cell_type": "code",
   "execution_count": 104,
   "id": "fdd770e6-eb5f-48a4-b84c-2be1fc377226",
   "metadata": {},
   "outputs": [],
   "source": [
    "df['Body'] = df['Body'].astype('string')"
   ]
  },
  {
   "cell_type": "code",
   "execution_count": 105,
   "id": "616dd282-5ac7-4839-9e0c-1398699a5ab1",
   "metadata": {},
   "outputs": [
    {
     "name": "stdout",
     "output_type": "stream",
     "text": [
      "<class 'pandas.core.frame.DataFrame'>\n",
      "Index: 4255 entries, 0 to 4761\n",
      "Data columns (total 3 columns):\n",
      " #   Column      Non-Null Count  Dtype \n",
      "---  ------      --------------  ----- \n",
      " 0   Body        4255 non-null   string\n",
      " 1   category    4255 non-null   int64 \n",
      " 2   stop_words  4255 non-null   int64 \n",
      "dtypes: int64(2), string(1)\n",
      "memory usage: 262.0 KB\n"
     ]
    }
   ],
   "source": [
    "df.info()"
   ]
  },
  {
   "cell_type": "code",
   "execution_count": 108,
   "id": "d10605c9-b09e-4e71-a931-1037a18823b8",
   "metadata": {},
   "outputs": [
    {
     "data": {
      "text/plain": [
       "'                           \\u202dBBC Arabic\\u202c - \\u202eالشرق الأوسط\\u202c - \\u202eأوباما يدين \"إجراءات طهران غير العادلة\"\\u202c                          content=\\'الرئيس الامريكي يدين &#34;الإجراءات غير العادلة&#34; التي اتخذتها السلطات الإيرانية لقمع المحتجين على نتائج الانتخابات الرئاسية.\\' />                           الرئيسية          الشرق الأوسط   \\t\\t  العالم   \\t\\t  شارك برأيك   \\t\\t  اقتصاد وأعمال   \\t\\t  منوعات  \\t \\t\\t  علوم وتكنولوجيا   \\t\\t  رياضة   \\t\\t  راديو وتلفزيون                  أوباما يدين \"إجراءات طهران غير العادلة\"                أدان الرئيس الأمريكي باراك أوباما بشدة اليوم الثلاثاء \"الإجراءات غير العادلة\"  التي اتخذتها السلطات الإيرانية لقمع المحتجين على نتائج الانتخابات الرئاسية التي  شهدتها البلاد في الثاني عشر من الشهر الجاري.               ففي مؤتمر صحفي عقده اليوم، قال الرئيس الأمريكي: \"إن الولايات المتحدة، ومعها  المجتمع الدولي، شعرت بالهلع والغضب بسبب التهديدات وأعمال الضرب والسجن التي  شهدتها إيران خلال الأيام القليلة الماضية.\"               إدانة أمريكية               وأضاف أوباما قائلا: \"أنا أدين بشدة هذه الأعمال والإجراءات غير العادلة، وأضم  صوتي إلى صوت الشعب الأمريكي الذي يشعر بالحزن على فقدان أي شخص بريء لحياته.\"               وأردف بقوله: \"لكن يجب أن نشهد أيضا بشجاعة الإيرانيين وكرامة الشعب الإيراني  وبالانفتاح المميز ضمن المجتمع الإيراني.\"               وأشار الرئيس الأمريكي إلى مقتل المتظاهرة الإيرانية الشابة ندا آغا سلطان التي  انتشرت لقطة فيديو عبر شبكة الإنترنت توثق للحظة مفارقتها الحياة.               وقال أوباما في هذا الصدد: \"لقد شاهدنا امرأة شجاعة تقف في وجه الوحشية  والتهديد، ورأينا الصورة المحزنة لامرأة تنزف حتى الموت على الطريق\".               استقلال إيران               لكن الرئيس الأمريكي استدرك قائلا: \"إن الولايات المتحدة تحترم سيادة الجمهورية  الإسلامية الإيرانية، ولا تتدخل في أي حال من الأحوال بشؤون إيران. لكننا نأسف  للعنف الذي يُمارس ضد المدنيين الأبرياء في أي مكان يقع فيه ذلك.\"               وقال: \"إنه لمن الزيف الواضح أن تقول طهران إن الغرب يثير ويفتعل القلاقل  والفوضى في إيران.\"               وحذر الرئيس الأمريكي القيادة الإيرانية من أن \"الأفكار القمعية لن تجدي نفعا\"،  نافياً أن يكون قد تباطأ في التجاوب مع الأزمة.               طرد دبلوماسي متبادل               وفي جانب آخر من تطورات الأزمة الإيرانية، طردت بريطانيا دبلوماسيين إيرانيين في  رد على قرار طهران بطرد دبلوماسيين بريطانيين.               وتعليقا على الخطوة الجديدة، قال رئيس الوزراء البريطاني، جوردون براون: \"في رد  على التصرف الإيراني، أبلغنا السفير الإيراني اليوم بأننا سنطرد دبلوماسيين من  سفارتهم في لندن. إنني آسف لقيام إيران بوضعنا في هذا الموقف\".               انتقاد بان كي مون               من جانب آخر، انتقدت إيران الأمين العام للأمم المتحدة بان كي مون بسبب ما جاء  في البيان الذي أصدره في وقت سابق اليوم الثلاثاء ووصفته وزارة الخارجية الإيرانية  بأنه \"تدخل\" في شؤونها، حسب الإذاعة المحلية الرسمية.               وقال حسن قشقوي، المتحدث باسم الخارجية الإيرانية: \"إن هذه المواقف تتناقض بشكل  واضح مع واجبات الأمين العام للأمم المتحدة والقانون الدولي، وتعد تدخلا واضحا في  الشؤون الداخلية لإيران\".               وكان بان قد طالب السلطات الإيرانية بوضع حد فوري للاعتقالات والتهديدات  واستعمال العنف ضد المتظاهرين.               وجاء في بيان الأمين العام للأمم المتحدة: \"ندعو السلطات الإيرانية إلى احترام  الحقوق المدنية والسياسية الأساسية، وخصوصا حريات التعبير والتجمع والإعلام\".               وجاءت دعوة أمين عام المنظمة الدولية بُعيد إعلان مجلس صيانة الدستور في إيران  رفضه مطالب كان قد تقدم بها اثنان من المرشحين الذين خسروا الانتخابات الرئاسية  مؤخرا بشأن إلغاء نتائج الانتخابات.               وبرَّر المجلس رفضه لمطالب المرشَّحيْن بقوله \"إن عملية الاقتراع لم تشهد تزويرا  يمكن أن يؤثر على نتيجتها الفعلية\".               تمديد مهلة               وقد وافق المرشد الأعلى للثورة الايرانية، آية الله علي خامنئي، على تمديد  المهلة المقررة لتلقي الطعون بنتائج الانتخابات لمدة خمسة أيام إضافية.               وقال مجلس صيانة الدستور إن من شأن هذا التأجيل إزالة أي غموض أو التباس يحيط  بالموقف.               وكان المجلس قد اعترف بوجد بعض الأخطاء، إلا أنه قال إنها لا تؤثر على نتيجة  الانتخابات التي فاز بها الرئيس محمود أحمدي نجاد على منافسيه الثلاثة الآخرين.               في هذه الأثناء، دعا المرشح المعارض، مهدي كروبي، إلى تأبين \"الشهداء\" الذين  سقطوا خلال المظاهرات التي اندلعت احتجاجا على نتائج الانتخابات الرئاسية وبلغ  عددهم 17 قتيلا.               دعوت عبَّادي               أمَّا شيرين عبادي، الناشطة الإيرانية في مجال حقوق الإنسان والحائزة على جائزة  نوبل للسلام، فقالت إنه يتعين على الاتحاد الأوروبي مطالبة الحكومة الإيرانية  باحترام حق الإيرانيين بالتظاهر السلمي.               وأضافت بقولها إنه يتعين على الاتحاد الأوروبي التلويح لإيران بخفض مستوى  علاقاته مع طهران في حالة تقاعسها عن ذلك، داعية إلى إعادة إجراء الانتخابات تحت  إشراف منظمات دولية.               وكانت السلطات الإيرانية قد أعلنت أنها \"ستلقِّن مثيري الشغب درسا قاسيا، في حال  استمرار المظاهرات احتجاجا على نتائج الانتخابات\".               فقد دعت وزارة الداخلية الإيرانية المرشح المعارض الخاسر، مير حسين موسوي، إلى  \"احترام القانون وتصويت الشعب\" الذي انتخب أحمدي نجاد لولاية ثانية.               تنصيب الرئيس               من جانب آخر، أعلنت وكالة الأنباء الرسمية الإيرانية الثلاثاء أن الرئيس الجديد  وحكومته سيؤديان اليمين الدستورية أمام مجلس الشورى في الفترة الممتدة بين 26  يوليو/تموز و19 أغسطس/أب القادمين.               وذكرت الوكالة أن \"مكتب مجلس الشورى حدد الفترة المذكورة لأداء الرئيس اليمين  الدستورية وتقديمه حكومته الجديدة\".               وكان من اللافت أن الوكالة لم تذكر بالاسم الرئيس محمود أحمدي نجاد الذي أعلن  فوزه بالانتخابات بنسبة 63 بالمائة من الأصوات، وذلك على الرغم من طعون المعارضة  بقانونية النتائج.               إلى ذلك، ألغت اتحادات طلابية إيرانية تظاهرة كانت قد دعت إليها أمام السفارة  البريطانية في طهران الثلاثاء، وذلك بعدما أعلنت السلطات أنها غير مُرخَّص لها.               ونقلت الوكالة عن القائد الطلابي، إحسان يواري، قوله: \"إن الطلاب الإيرانيين  ألغوا التظاهرة اليوم وأرجأوها إلى يوم آخر لعدم الحصول على ترخيص\".               تفريق مظاهرة               يُشار إلى أن شرطة مكافحة الشغب الإيرانية كانت قد فرَّقت يوم أمس الاثنين حشدا  جماهيريا للمعارضة وسط العاصمة طهران، كان قد نُظِّم احتجاجا على إعلان فوز أحمدي  نجاد بالانتخابات الرئاسية.               وقد أكد شهود عيان أن شرطة مكافحة الشغب استخدمت الغازات المسيلة للدموع لتفريق  المتظاهرين.               وكان الحرس الثوري الإيراني قد حذَر من أنه سيتم قمع أي مظاهرات جديدة تُنظَّم  احتجاجا على نتائج الانتخابات الرئاسية، قائلا إنه سيتعامل بطريقة \"ثورية\" مع أي  تظاهرات غير مرخَّصة.                         '"
      ]
     },
     "execution_count": 108,
     "metadata": {},
     "output_type": "execute_result"
    }
   ],
   "source": [
    "df['Body'][8]"
   ]
  },
  {
   "cell_type": "markdown",
   "id": "7282dd3c-e4b3-4ac7-81de-2837d29ae593",
   "metadata": {},
   "source": [
    "# Cleaning the Dataset"
   ]
  },
  {
   "cell_type": "code",
   "execution_count": 145,
   "id": "4b0e2410-962a-4a68-b435-fb81e46d1dc0",
   "metadata": {},
   "outputs": [],
   "source": [
    "def remove_stop_words(text):\n",
    "    Text=[i for i in str(text).split() if i not in arabic_stopwords]\n",
    "    return \" \".join(Text)\n",
    "\n",
    "def ISRI_Stemmer(text):\n",
    "    #making an object\n",
    "    stemmer = ISRIStemmer()\n",
    "    \n",
    "    #stemming each word\n",
    "    text = stemmer.stem(text)\n",
    "    text = stemmer.pre32(text)\n",
    "    text = stemmer.suf32(text)\n",
    "    \n",
    "    return text\n",
    "\n",
    "def Snowball_stemmer(text):\n",
    "    text = text.split()\n",
    "    #making an object\n",
    "    stemmer = SnowballStemmer(\"arabic\")\n",
    "    \n",
    "    #stemming each word\n",
    "    text=[stemmer.stem(y) for y in text]\n",
    "    \n",
    "    return \" \" .join(text)\n",
    "\n",
    "def Arabic_Light_Stemmer(text):\n",
    "    #making an object\n",
    "    Arabic_Stemmer = ArabicLightStemmer()\n",
    "    \n",
    "    #stemming each word\n",
    "    text=[Arabic_Stemmer.light_stem(y) for y in text.split()]\n",
    "    \n",
    "    return \" \" .join(text)\n",
    "\n",
    "def normalizeArabic(text):\n",
    "    text = text.strip()\n",
    "    text = re.sub(\"ى\", \"ي\", text)\n",
    "    text = re.sub(\"ؤ\", \"ء\", text)\n",
    "    text = re.sub(\"ئ\", \"ء\", text)\n",
    "    text = re.sub(\"ة\", \"ه\", text)\n",
    "    \n",
    "    #remove repetetions\n",
    "    text = re.sub(\"[إأٱآا]\", \"ا\", text)\n",
    "    text = text.replace('وو', 'و')\n",
    "    text = text.replace('يي', 'ي')\n",
    "    text = text.replace('ييي', 'ي')\n",
    "    text = text.replace('اا', 'ا')\n",
    "\n",
    "    ## remove extra whitespace\n",
    "    text = re.sub('\\s+', ' ', text)\n",
    "    \n",
    "    # Remove longation\n",
    "    text = re.sub(r'(.)\\1+', r\"\\1\\1\", text) \n",
    "    \n",
    "    #Strip vowels from a text, include Shadda.\n",
    "    text = araby.strip_tashkeel(text)\n",
    "    \n",
    "    #Strip diacritics from a text, include harakats and small lettres The striped marks are\n",
    "    text = araby.strip_diacritics(text)\n",
    "    text=''.join([i for i in text if not i.isdigit()])\n",
    "    return text\n",
    "\n",
    "def Removing_non_arabic(text):\n",
    "    text = re.sub('[A-Za-z]+',' ',text)\n",
    "    return text\n",
    "\n",
    "def Removing_numbers(text):\n",
    "    text=''.join([i for i in text if not i.isdigit()])\n",
    "    return text\n",
    "\n",
    "def Removing_punctuations(text):\n",
    "    ## Remove punctuations\n",
    "    text = re.sub('[%s]' % re.escape(\"\"\"!\"#$%&'()*+,،-./:;<=>؟?@[\\]^_`{|}~\"\"\"), ' ', text)\n",
    "    text = text.replace('؛',\"\", )\n",
    "    \n",
    "    ## remove extra whitespace\n",
    "    text = re.sub('\\s+', ' ', text)\n",
    "    text =  \" \".join(text.split())\n",
    "    return text.strip()\n",
    "\n",
    "\n",
    "def remove_extra_Space(text):\n",
    "    ## remove extra whitespace\n",
    "    text = re.sub('\\s+', ' ', text)\n",
    "    return  \" \".join(text.split())\n",
    "\n",
    "def remove_hashtages_and_mentions(text):\n",
    "    text = re.sub(\"@[A-Za-z0-9_]+\",\"\", text)\n",
    "    text = re.sub(\"#[A-Za-z0-9_]+\",\"\", text)\n",
    "    return text\n",
    "def replace_random_text(text):\n",
    "    text = text.replace('\\u202c', '')\n",
    "    text = text.replace('\\u202e', '')\n",
    "    text = text.replace('\\u202d', '')\n",
    "    return text\n",
    "def remove_stopwords_robustly(text):\n",
    "    # Split the text into words\n",
    "    words = text.split()\n",
    "    \n",
    "    # Remove stop words\n",
    "    filtered_words = [word for word in words if word not in stp.stopwords_list()]\n",
    "    \n",
    "    # Join the filtered words back into a string\n",
    "    filtered_text = ' '.join(filtered_words)\n",
    "    \n",
    "    return filtered_text"
   ]
  },
  {
   "cell_type": "code",
   "execution_count": null,
   "id": "6072b3d2-0284-42e7-92b9-d5bd31a97bb3",
   "metadata": {},
   "outputs": [],
   "source": [
    "df['Body'] = df['Body'].apply(remove_stop_words)"
   ]
  },
  {
   "cell_type": "code",
   "execution_count": 113,
   "id": "a1adb2ea-b39c-4547-befc-f03a7043003b",
   "metadata": {},
   "outputs": [],
   "source": [
    "df['Body'] = df['Body'].apply(Arabic_Light_Stemmer)"
   ]
  },
  {
   "cell_type": "code",
   "execution_count": 115,
   "id": "a5c96d24-3ee7-490c-9299-80408201da54",
   "metadata": {},
   "outputs": [],
   "source": [
    "df['Body'] = df['Body'].apply(normalizeArabic)"
   ]
  },
  {
   "cell_type": "code",
   "execution_count": 116,
   "id": "3d7c3929-922d-41f7-8ddf-8f42a1e99d48",
   "metadata": {},
   "outputs": [],
   "source": [
    "df['Body'] = df['Body'].apply(Removing_non_arabic)"
   ]
  },
  {
   "cell_type": "code",
   "execution_count": 117,
   "id": "da069916-f302-4859-a514-e6cd95fff21b",
   "metadata": {},
   "outputs": [],
   "source": [
    "df['Body'] = df['Body'].apply(Removing_numbers)"
   ]
  },
  {
   "cell_type": "code",
   "execution_count": 118,
   "id": "233c0abc-16a1-407d-9c5b-04b43296379b",
   "metadata": {},
   "outputs": [],
   "source": [
    "df['Body'] = df['Body'].apply(Removing_punctuations)"
   ]
  },
  {
   "cell_type": "code",
   "execution_count": 119,
   "id": "6f7da252-79e2-4796-8e91-830ce2a7b37f",
   "metadata": {},
   "outputs": [],
   "source": [
    "my_data = pd.DataFrame(df['Body'].apply(Removing_numbers))"
   ]
  },
  {
   "cell_type": "code",
   "execution_count": 120,
   "id": "6d214851-32eb-4681-be57-f61531851fb5",
   "metadata": {},
   "outputs": [],
   "source": [
    "df['Body'] = df['Body'].apply(remove_extra_Space)"
   ]
  },
  {
   "cell_type": "code",
   "execution_count": 121,
   "id": "161492f3-da24-44c7-b770-fbeba805dca2",
   "metadata": {},
   "outputs": [],
   "source": [
    "my_data = pd.DataFrame(df['Body'].apply(remove_extra_Space))"
   ]
  },
  {
   "cell_type": "code",
   "execution_count": 122,
   "id": "02d99047-abef-439a-be7d-61e6a26937f5",
   "metadata": {},
   "outputs": [],
   "source": [
    "df['Body'] = df['Body'].apply(remove_hashtages_and_mentions)"
   ]
  },
  {
   "cell_type": "code",
   "execution_count": 137,
   "id": "8fbd25fd-a679-4d19-badc-6b0898cc5fb2",
   "metadata": {},
   "outputs": [],
   "source": [
    "df['Body'] = df['Body'].apply(replace_random_text)"
   ]
  },
  {
   "cell_type": "code",
   "execution_count": 138,
   "id": "52186e85-0a49-4d94-ae7f-247acfcedba4",
   "metadata": {},
   "outputs": [
    {
     "data": {
      "text/html": [
       "<div>\n",
       "<style scoped>\n",
       "    .dataframe tbody tr th:only-of-type {\n",
       "        vertical-align: middle;\n",
       "    }\n",
       "\n",
       "    .dataframe tbody tr th {\n",
       "        vertical-align: top;\n",
       "    }\n",
       "\n",
       "    .dataframe thead th {\n",
       "        text-align: right;\n",
       "    }\n",
       "</style>\n",
       "<table border=\"1\" class=\"dataframe\">\n",
       "  <thead>\n",
       "    <tr style=\"text-align: right;\">\n",
       "      <th></th>\n",
       "      <th>Body</th>\n",
       "      <th>category</th>\n",
       "      <th>stop_words</th>\n",
       "    </tr>\n",
       "  </thead>\n",
       "  <tbody>\n",
       "    <tr>\n",
       "      <th>0</th>\n",
       "      <td>الشرق اوسط سءال جواب حدث انتخاب الايرانيه  ا...</td>\n",
       "      <td>1</td>\n",
       "      <td>56</td>\n",
       "    </tr>\n",
       "    <tr>\n",
       "      <th>1</th>\n",
       "      <td>الشرق اوسط الكونجرس امريك نتقد تصرفات حكوم ا...</td>\n",
       "      <td>1</td>\n",
       "      <td>21</td>\n",
       "    </tr>\n",
       "    <tr>\n",
       "      <th>2</th>\n",
       "      <td>الشرق اوسط خامنء رفض اعاد الانتخابات علي خام...</td>\n",
       "      <td>1</td>\n",
       "      <td>41</td>\n",
       "    </tr>\n",
       "    <tr>\n",
       "      <th>3</th>\n",
       "      <td>الشرق اوسط مقتل شخص نفجار ركوك مقتل شخص اصاب...</td>\n",
       "      <td>1</td>\n",
       "      <td>6</td>\n",
       "    </tr>\n",
       "    <tr>\n",
       "      <th>4</th>\n",
       "      <td>الشرق اوسط دعو دور جوار صومال تدخل عسكريا رء...</td>\n",
       "      <td>1</td>\n",
       "      <td>23</td>\n",
       "    </tr>\n",
       "  </tbody>\n",
       "</table>\n",
       "</div>"
      ],
      "text/plain": [
       "                                                Body  category  stop_words\n",
       "0    الشرق اوسط سءال جواب حدث انتخاب الايرانيه  ا...         1          56\n",
       "1    الشرق اوسط الكونجرس امريك نتقد تصرفات حكوم ا...         1          21\n",
       "2    الشرق اوسط خامنء رفض اعاد الانتخابات علي خام...         1          41\n",
       "3    الشرق اوسط مقتل شخص نفجار ركوك مقتل شخص اصاب...         1           6\n",
       "4    الشرق اوسط دعو دور جوار صومال تدخل عسكريا رء...         1          23"
      ]
     },
     "execution_count": 138,
     "metadata": {},
     "output_type": "execute_result"
    }
   ],
   "source": [
    "df.head()"
   ]
  },
  {
   "cell_type": "code",
   "execution_count": 139,
   "id": "f7f3cc93-6e43-4f5e-9c79-f9ab7cb329b1",
   "metadata": {},
   "outputs": [],
   "source": [
    "my_data = df[['Body', 'category']].copy()"
   ]
  },
  {
   "cell_type": "code",
   "execution_count": 140,
   "id": "36cce5d6-e956-42d6-8eaf-92468a226f97",
   "metadata": {},
   "outputs": [
    {
     "data": {
      "text/html": [
       "<div>\n",
       "<style scoped>\n",
       "    .dataframe tbody tr th:only-of-type {\n",
       "        vertical-align: middle;\n",
       "    }\n",
       "\n",
       "    .dataframe tbody tr th {\n",
       "        vertical-align: top;\n",
       "    }\n",
       "\n",
       "    .dataframe thead th {\n",
       "        text-align: right;\n",
       "    }\n",
       "</style>\n",
       "<table border=\"1\" class=\"dataframe\">\n",
       "  <thead>\n",
       "    <tr style=\"text-align: right;\">\n",
       "      <th></th>\n",
       "      <th>Body</th>\n",
       "      <th>category</th>\n",
       "    </tr>\n",
       "  </thead>\n",
       "  <tbody>\n",
       "    <tr>\n",
       "      <th>0</th>\n",
       "      <td>الشرق اوسط سءال جواب حدث انتخاب الايرانيه  ا...</td>\n",
       "      <td>1</td>\n",
       "    </tr>\n",
       "    <tr>\n",
       "      <th>1</th>\n",
       "      <td>الشرق اوسط الكونجرس امريك نتقد تصرفات حكوم ا...</td>\n",
       "      <td>1</td>\n",
       "    </tr>\n",
       "    <tr>\n",
       "      <th>2</th>\n",
       "      <td>الشرق اوسط خامنء رفض اعاد الانتخابات علي خام...</td>\n",
       "      <td>1</td>\n",
       "    </tr>\n",
       "    <tr>\n",
       "      <th>3</th>\n",
       "      <td>الشرق اوسط مقتل شخص نفجار ركوك مقتل شخص اصاب...</td>\n",
       "      <td>1</td>\n",
       "    </tr>\n",
       "    <tr>\n",
       "      <th>4</th>\n",
       "      <td>الشرق اوسط دعو دور جوار صومال تدخل عسكريا رء...</td>\n",
       "      <td>1</td>\n",
       "    </tr>\n",
       "    <tr>\n",
       "      <th>...</th>\n",
       "      <td>...</td>\n",
       "      <td>...</td>\n",
       "    </tr>\n",
       "    <tr>\n",
       "      <th>4753</th>\n",
       "      <td>منوعات جاكس حصد ملاي رحيله مايكل جاكس حطم ار...</td>\n",
       "      <td>6</td>\n",
       "    </tr>\n",
       "    <tr>\n",
       "      <th>4755</th>\n",
       "      <td>منوعات م مدي اقع لم ولانسك جديد الشبح  فيلم ...</td>\n",
       "      <td>6</td>\n",
       "    </tr>\n",
       "    <tr>\n",
       "      <th>4757</th>\n",
       "      <td>منوعات رحيل ممثل امريك روبرت ولب الممثل امري...</td>\n",
       "      <td>6</td>\n",
       "    </tr>\n",
       "    <tr>\n",
       "      <th>4759</th>\n",
       "      <td>منوعات الشرط بحث قاتل ابن شيرل اسي الشرطه بر...</td>\n",
       "      <td>6</td>\n",
       "    </tr>\n",
       "    <tr>\n",
       "      <th>4761</th>\n",
       "      <td>منوعات سرت حساب مكسب خسار قمم عربيه موفد سي ...</td>\n",
       "      <td>6</td>\n",
       "    </tr>\n",
       "  </tbody>\n",
       "</table>\n",
       "<p>4255 rows × 2 columns</p>\n",
       "</div>"
      ],
      "text/plain": [
       "                                                   Body  category\n",
       "0       الشرق اوسط سءال جواب حدث انتخاب الايرانيه  ا...         1\n",
       "1       الشرق اوسط الكونجرس امريك نتقد تصرفات حكوم ا...         1\n",
       "2       الشرق اوسط خامنء رفض اعاد الانتخابات علي خام...         1\n",
       "3       الشرق اوسط مقتل شخص نفجار ركوك مقتل شخص اصاب...         1\n",
       "4       الشرق اوسط دعو دور جوار صومال تدخل عسكريا رء...         1\n",
       "...                                                 ...       ...\n",
       "4753    منوعات جاكس حصد ملاي رحيله مايكل جاكس حطم ار...         6\n",
       "4755    منوعات م مدي اقع لم ولانسك جديد الشبح  فيلم ...         6\n",
       "4757    منوعات رحيل ممثل امريك روبرت ولب الممثل امري...         6\n",
       "4759    منوعات الشرط بحث قاتل ابن شيرل اسي الشرطه بر...         6\n",
       "4761    منوعات سرت حساب مكسب خسار قمم عربيه موفد سي ...         6\n",
       "\n",
       "[4255 rows x 2 columns]"
      ]
     },
     "execution_count": 140,
     "metadata": {},
     "output_type": "execute_result"
    }
   ],
   "source": [
    "my_data"
   ]
  },
  {
   "cell_type": "code",
   "execution_count": 141,
   "id": "0f1e45a1-437b-4f45-bc2b-2dd0ad4651f5",
   "metadata": {},
   "outputs": [
    {
     "data": {
      "text/plain": [
       "'  الشرق اوسط سءال جواب حدث انتخاب الايرانيه  اجابات اسءل مطروح ازم نشا عقب انتخاب رءاس ايران رءيس شرق اوسط عالم شار را قتصاد عمال منوع علوم وتكنولوجيا رياض رادي تلفزي سءال جواب حدث انتخاب الايرانيه طرح كثير تساءل ظهور تاءج انتخاب رءاس ايران جج مظاهر اسع عمال عنف محتج نتاءج رجال امن عضها جه عتراض معارض حمد نجاد قول معارض رءيس ايران طريق اعلن نتاءج انت مثير للاستغراب في انتخاب سابقه تم رز اصو علا نتاءج قليم اقليم مر جاء نتاءج دفع ملاي اصو مره سب مرشح يها تغير سب مرشح مجموع اصوات ان صح نتاءج عني ان رءيس محمود حمد جاد حقق نتاءج ايجاب مناطق قرو حضر حد سواء عني ان مرشح اخرين حصل نتاءج هزيل مناطق واقاليمهم معلوم ان حمد جاد شعب بير مناطق قرو شعب متدن غا مدن عرف ان مناطق عيش كثير اقل عاد صوت صالح مرشح معارض نظام ان مرشح فوز مسقط راسه مر ختلف مره لم عط سلط جواب اي تساءل ردد نصار مرشح مير حس موسوي صحيح ان امر ثير ارتياب حسب اراء محلين عني ضرور ان انتخاب شهد عمل زوير بيره مدي نظيم معارض احمد نجاد مرشح اصلاح خاسر الانتخابات مير حس موسوي منظم تذكر قبل ترشح انتخاب قاعد سبي مد عاما رغم ان منظم اصلاح ثلاث يرا اعلن دعم الانتخابات هو يتزعمها منظم حظي دعم نظيم محترم شكل وعا معارض منظمه هي حظي شعب بير طلاب جامعات امكان تعبء الاف استخدام انترنت وساءل اخري متوقع ان ستمر الاحتجاجات اصلاحي صدر يا قول ان حدث انتخاب انقلاب حظي حمد جاد دعم مرشد اعلي ثور مطلق مك سبر خباي سياس الايرانيه ظهر ان حمد جاد حظي دعم اي له خامنء كامل قبل الانتخابات عبر خامنء دعم عد مرات قاءل نه فضل رءيس عرف بلاد ثوره ان سياس خارج صحيحه حدث شيء دل غير راي خلال حمل انتخاب علا نتاءج سارع خامنء لي ترحيب نتاءج نه دع احق مجلس خبراء نظر مزاعم تزوير هدد ازم منصب مرشد اعلي او سمعته مصداق خامنء كو محك قد ساءل رجل دي ارز محترم محسن اديفار خامنء رحب نتاءج ورا ان صدق علي مجلس خبراء رسميا سبق عرض خامنء انتقاد قرب حمد نجاد نبغي مرشد اعلي ثور ان بقي سياس حزبيه ماذا عد مك تهدء وضع مجلس خبراء يام تصديق تاءج انتخاب او رفض دعو لي جراء غيرها قد طلب مرشح خاسر وفير ادل حصول زوير يدعون كو ضرب قاض رءيس مرشد اعلي سبب وضي عارم بلاد تال احتمال ثان ضعيف جدا جه اخري صعب صور ان مظاهر هدا وحدها غلب ظن نه زداد حماس سبب اجراء امن مشدد عل سلط امنيه عتبر مرشد اعلي ثور يرا قانون قد صدر قرار كو حل سط هذه ازم دعوي ان بلاد او دين خطر ختام مجتمع ايران منقسم جد سواء سياسي او اقتصاديا غلب ظن ان نوع احتجاج حدث انت تاءج الانتخابات'"
      ]
     },
     "execution_count": 141,
     "metadata": {},
     "output_type": "execute_result"
    }
   ],
   "source": [
    "my_data['Body'][0]"
   ]
  },
  {
   "cell_type": "code",
   "execution_count": 142,
   "id": "3efa007e-80f5-4b2f-bafb-5f70aa6e6459",
   "metadata": {},
   "outputs": [
    {
     "data": {
      "text/plain": [
       "'  الشرق اوسط الكونجرس امريك نتقد تصرفات حكوم الايرانيه الكونجرس امريك ندد عتبر قمع حكوم ايران متظاهر محتج تاءج انتخاب رءاس الاخيره رءيس شرق اوسط عالم شار را قتصاد عمال منوع علوم وتكنولوجيا رياض رادي تلفزي كونجرس امريك نتقد تصرفات حكوم ايران دد كونجرس امريك عتبر قمع حكوم ايران متظاهر محتج تاءج انتخاب رءاس اخيره دا دخل منع حجب اتصال عبر هواتف محمول انترنت قد جد ادانه جاء صياغ غو معتدله صد طرف مجلس الجمهوررين ادروا ها والديموقراطين عتبر محلل ان تصويت داخل كونجرس ادان حكوم ايران مثاب نتقاد مباشر رءيس ارا اوبام تصرف حكوم ايران محتج عقب الانتخابات ادان اوروب كان اتحاد اوروب صدر يا دع يرا لي سماح ايراني تظاهر سلم ضم حر تعبير لي الابتعاد استخدام عنف ضد تظاهر سلميه جاء موقف اوروب تنديد شديد مرشد اعلي ثور ايران علي خامنء مواقف دول غرب زاء انتخاب تظاهر اعقبتها خص حكوم بريطان ذكر وصف ان شريره جانب دع رءيس فرنس نيكول ساركوز يرا لي عدم دفع امور وصول لي سما نقط اللاعوده قال خلال مشارك قم اتحاد اوروبي نامل ان صل قياد ايران لي نقط اللاعوده تزام قيم اضاف ل ريد ان خلق نطباع اخر ان دول اوروب تدخل مسال انتخاب الايرانيه لكن ملتزم قيم وقناعاتنا عندم ري ان تاءج انتخاب سليم لتزم وروب صمت حيال نه كو ابتعد قيم احتج ريطانيا موقف خامنء استدع سفير ايران لي زار خارج سليم رسال حتجاج رسم تصريح خامنءي جانب عل رءيس وزراء بريطان جورد راون ان اتحاد اوروب دي عنف ضد متظاهر يرا قمح حر اعلام حر تعبير ايران ضاف راون نحن ريد علاق جيد يرا توقف رهن يرا ان انتخاب جر انت نزيهه ضم حر را افراد ايران عدم لجوء لي قمع عنف مفرط انتقد مفوض امم متحد حقوق انس ناف يلان عنف مفرط جا يه حكوم ايران ضد متظاهر يرا قال ان الاعمال خارج قان قو باسيج قو امن مك ان ءد لي دهور اوضاع ايران قال ناطق اسم مفوض ان تقارير تحدث عتقال مء معارض متظاهر مدافع حقوق انس ايران جه قال منظم عفو دول نه متاكد ان عدد متظاهر قتل احتجاج شهد يرا خير ليس سبعه اعلن حكوم الايرانيه'"
      ]
     },
     "execution_count": 142,
     "metadata": {},
     "output_type": "execute_result"
    }
   ],
   "source": [
    "my_data['Body'][1]"
   ]
  },
  {
   "cell_type": "code",
   "execution_count": 143,
   "id": "2a0deb58-0437-4f5b-ad5b-1ad6504d1a42",
   "metadata": {},
   "outputs": [
    {
     "data": {
      "text/plain": [
       "'  الشرق اوسط اير فرج حد موظف سفار بريطان المعتقلين انباء فراج طهر حد موظف ايراني سفار بريطان طهران رءيس شرق اوسط عالم شار را قتصاد عمال منوع علوم وتكنولوجيا رياض رادي تلفزي يرا فرج حد موظف سفار بريطان معتقل عل زير خارج بريطان ديفيد مليباند ان يرا فرج حد موظف ايراني سفار بريطان طهر احد قال مليباند ان ناءب زير خارج ايران بلغ سفير بريطن طهر نه تم وج اتهام لي موظف تسع تم اعتقالهم ذكر ان موظف تم طلاق سراح عد يام في حال اكد طلاق سراح ثامن بقي قيد اعتقال مستشار سياس سفار افاد ان انباء نه تم وج تهم عمل ضد مصلح وطنيه اد خطو ايران لي وتر علاقت طهر جه دن غير عواصم الاوروبيه قد استدع دول روب سفراء يرا عواصم خطو منسق احتجاج عتقال يرا موظفين اوقف دول اوروب منح حامل جواز سفر دبلوماس ايران تاشير دخول لي دول اوروب هدد اتحاد اوروب اتخاذ مزيد اجراء حال عدم خلاء سبيل موظف المعتقلين'"
      ]
     },
     "execution_count": 143,
     "metadata": {},
     "output_type": "execute_result"
    }
   ],
   "source": [
    "my_data['Body'][67]"
   ]
  },
  {
   "cell_type": "code",
   "execution_count": 144,
   "id": "2846463b-63ed-4ffa-a7df-274c46c7dd63",
   "metadata": {},
   "outputs": [
    {
     "data": {
      "text/plain": [
       "'  الشرق اوسط الحكوم سودان فرج مسلح حرك عدل مساوا دارفور الحكومه سودان فرج مسلح عناصر حرك عدل مساوا بين محكوم اعدام وصل جانب لي تفاق طار اسس مفاوض تسو نهاء صراع قليم دارفور رءيس شرق اوسط عالم شار را قتصاد عمال منوع علوم وتكنولوجيا رياض رادي تلفزي اخر تحديث اربعاء راير شباط حكوم سودان فرج مسلح حرك عدل مساوا دارفور افرج سلط سودان معتقل حرك عدل عدل مساواه كبر حرك تمرد قليم دارفور وصل طرف ثلاثاء لي تفاق طار ضع سس مفاوض تسو صراع اقليم سوداني مفرج عن محكوم اعدام ينما عل مسءول عدل مساوا ان حرك فرج جنود حكومي محتجز ديها عل زير عدل سودان عبد باسط سبدر ان رءيس سودان عمر حس بشير مر اطلاق سراح سجناء ضاف ان مثل صف عدد معتقل حرك حكوم صدر حق حكام ان اق سجناء فرج عن قدم عمل سلام قد نعش تفاق دوح ثلاثاء تفاق قف طلاق نار سبق ايام قليل عاصم تشاد جامي امال انهاء صراع دارفور مستمر سنوات رحب زعيم حركه خليل ابراهيم اتفاق عتبر خطو جد هامه ينما عرب بشير مل برام تفاق سلام هاءي اقليم حلول واسط مارس اذار مقبل لم وقع حرك تمرد اقليم اتفاق عد دعو دع زعيم حرك خليل ابراهيم قي جماع مناوء حكوم اقليم لي مشارك عمل سلام جهود مصالح تنسيق حرك دلا دخول مفاوض منفصل حكوم خرطوم توصل لي اتفاق مماثله رفض ممثل حكوم سودان مفاوض دوح مي حس عمر دعو قال ان خرطوم تصل باق جماعات قد قي قبض مسلح فرج عن اربعاء هجوم شن حرك مدين درم عام قتل شخص دي لي دمار بير كان ضمن عدد بير نصار مسلح حرك عتقل عقب هجوم خضع محاكم سريع صدر حكام اعدام من عدم عدد من فعل ذكر ان صراع دارفور دي لي مقتل لف شخص غالب مدني لي شريد ملي شخص خلال سنو سبع ماضيه اصدر محكم جنا دول مذكر عتقال رءيس بشير تهم رتكاب جراءم حرب ضد انسان حق مدني اقليم'"
      ]
     },
     "execution_count": 144,
     "metadata": {},
     "output_type": "execute_result"
    }
   ],
   "source": [
    "my_data['Body'][2002]"
   ]
  },
  {
   "cell_type": "code",
   "execution_count": 147,
   "id": "10211aa6-cdc5-48bc-8b94-79fe3f133b25",
   "metadata": {},
   "outputs": [],
   "source": [
    "my_data['Body'] = my_data['Body'].apply(remove_stopwords_robustly)"
   ]
  },
  {
   "cell_type": "code",
   "execution_count": 148,
   "id": "09b11f5a-38c0-4f80-b97c-bef363b719e0",
   "metadata": {},
   "outputs": [
    {
     "data": {
      "text/plain": [
       "'الشرق اوسط الحكوم سودان فرج مسلح حرك عدل مساوا دارفور الحكومه سودان فرج مسلح عناصر حرك عدل مساوا محكوم اعدام وصل جانب تفاق طار اسس مفاوض تسو نهاء صراع قليم دارفور رءيس اوسط عالم شار را قتصاد عمال منوع علوم وتكنولوجيا رياض رادي تلفزي اخر تحديث اربعاء راير شباط حكوم سودان فرج مسلح حرك عدل مساوا دارفور افرج سلط سودان معتقل حرك عدل عدل مساواه كبر حرك تمرد قليم دارفور وصل طرف ثلاثاء تفاق طار ضع سس مفاوض تسو صراع اقليم سوداني مفرج محكوم اعدام ينما مسءول عدل مساوا ان حرك فرج جنود حكومي محتجز ديها زير عدل سودان عبد باسط سبدر ان رءيس سودان عمر حس بشير مر اطلاق سراح سجناء ضاف ان صف عدد معتقل حرك حكوم صدر حق حكام ان اق سجناء فرج قدم عمل سلام نعش تفاق دوح ثلاثاء تفاق قف طلاق نار سبق ايام قليل عاصم تشاد جامي امال انهاء صراع دارفور مستمر سنوات رحب زعيم حركه خليل ابراهيم اتفاق عتبر خطو جد هامه ينما عرب بشير مل برام تفاق سلام هاءي اقليم حلول واسط مارس اذار مقبل وقع حرك تمرد اقليم اتفاق عد دعو دع زعيم حرك خليل ابراهيم قي جماع مناوء حكوم اقليم مشارك عمل سلام جهود مصالح تنسيق حرك دلا دخول مفاوض منفصل حكوم خرطوم توصل اتفاق مماثله رفض ممثل حكوم سودان مفاوض دوح مي حس عمر دعو قال ان خرطوم تصل باق جماعات قي قبض مسلح فرج اربعاء هجوم شن حرك مدين درم عام قتل شخص دي دمار بير عدد بير نصار مسلح حرك عتقل عقب هجوم خضع محاكم سريع صدر حكام اعدام عدم عدد ذكر ان صراع دارفور دي مقتل لف شخص غالب مدني شريد ملي شخص سنو سبع ماضيه اصدر محكم جنا دول مذكر عتقال رءيس بشير تهم رتكاب جراءم حرب ضد انسان حق مدني اقليم'"
      ]
     },
     "execution_count": 148,
     "metadata": {},
     "output_type": "execute_result"
    }
   ],
   "source": [
    "my_data['Body'][2002]"
   ]
  },
  {
   "cell_type": "code",
   "execution_count": 149,
   "id": "eb666a48-87b6-4a95-8855-4bfed2323f34",
   "metadata": {},
   "outputs": [
    {
     "data": {
      "text/html": [
       "<div>\n",
       "<style scoped>\n",
       "    .dataframe tbody tr th:only-of-type {\n",
       "        vertical-align: middle;\n",
       "    }\n",
       "\n",
       "    .dataframe tbody tr th {\n",
       "        vertical-align: top;\n",
       "    }\n",
       "\n",
       "    .dataframe thead th {\n",
       "        text-align: right;\n",
       "    }\n",
       "</style>\n",
       "<table border=\"1\" class=\"dataframe\">\n",
       "  <thead>\n",
       "    <tr style=\"text-align: right;\">\n",
       "      <th></th>\n",
       "      <th>Body</th>\n",
       "      <th>category</th>\n",
       "    </tr>\n",
       "  </thead>\n",
       "  <tbody>\n",
       "    <tr>\n",
       "      <th>0</th>\n",
       "      <td>الشرق اوسط سءال جواب حدث انتخاب الايرانيه اجاب...</td>\n",
       "      <td>1</td>\n",
       "    </tr>\n",
       "    <tr>\n",
       "      <th>1</th>\n",
       "      <td>الشرق اوسط الكونجرس امريك نتقد تصرفات حكوم الا...</td>\n",
       "      <td>1</td>\n",
       "    </tr>\n",
       "    <tr>\n",
       "      <th>2</th>\n",
       "      <td>الشرق اوسط خامنء رفض اعاد الانتخابات خامنء رفض...</td>\n",
       "      <td>1</td>\n",
       "    </tr>\n",
       "    <tr>\n",
       "      <th>3</th>\n",
       "      <td>الشرق اوسط مقتل شخص نفجار ركوك مقتل شخص اصاب ع...</td>\n",
       "      <td>1</td>\n",
       "    </tr>\n",
       "    <tr>\n",
       "      <th>4</th>\n",
       "      <td>الشرق اوسط دعو دور جوار صومال تدخل عسكريا رءيس...</td>\n",
       "      <td>1</td>\n",
       "    </tr>\n",
       "  </tbody>\n",
       "</table>\n",
       "</div>"
      ],
      "text/plain": [
       "                                                Body  category\n",
       "0  الشرق اوسط سءال جواب حدث انتخاب الايرانيه اجاب...         1\n",
       "1  الشرق اوسط الكونجرس امريك نتقد تصرفات حكوم الا...         1\n",
       "2  الشرق اوسط خامنء رفض اعاد الانتخابات خامنء رفض...         1\n",
       "3  الشرق اوسط مقتل شخص نفجار ركوك مقتل شخص اصاب ع...         1\n",
       "4  الشرق اوسط دعو دور جوار صومال تدخل عسكريا رءيس...         1"
      ]
     },
     "execution_count": 149,
     "metadata": {},
     "output_type": "execute_result"
    }
   ],
   "source": [
    "my_data.head()"
   ]
  },
  {
   "cell_type": "code",
   "execution_count": 150,
   "id": "e8a2adda-54b0-438d-b574-e81f2b3b82d6",
   "metadata": {},
   "outputs": [
    {
     "data": {
      "text/plain": [
       "5"
      ]
     },
     "execution_count": 150,
     "metadata": {},
     "output_type": "execute_result"
    }
   ],
   "source": [
    "my_data.duplicated().sum()"
   ]
  },
  {
   "cell_type": "code",
   "execution_count": 152,
   "id": "fa39a6ee-5151-441f-b01b-31e9b3ee23c9",
   "metadata": {},
   "outputs": [],
   "source": [
    "index = my_data[my_data['Body'].duplicated() == True].index\n",
    "my_data.drop(index, axis = 0, inplace = True)\n",
    "\n",
    "#resetting the index of the data\n",
    "my_data.reset_index(drop=True, inplace = True)"
   ]
  },
  {
   "cell_type": "code",
   "execution_count": 153,
   "id": "9199ab1a-7b8a-469c-9d65-d1f161e88dcb",
   "metadata": {},
   "outputs": [
    {
     "data": {
      "text/plain": [
       "0"
      ]
     },
     "execution_count": 153,
     "metadata": {},
     "output_type": "execute_result"
    }
   ],
   "source": [
    "my_data.duplicated().sum()"
   ]
  },
  {
   "cell_type": "code",
   "execution_count": 154,
   "id": "3b299fd5-69c5-43c2-ad88-199cf7257fe5",
   "metadata": {},
   "outputs": [],
   "source": [
    "my_data.to_csv('newsfeed.csv', index=False) "
   ]
  }
 ],
 "metadata": {
  "kernelspec": {
   "display_name": "Python 3 (ipykernel)",
   "language": "python",
   "name": "python3"
  },
  "language_info": {
   "codemirror_mode": {
    "name": "ipython",
    "version": 3
   },
   "file_extension": ".py",
   "mimetype": "text/x-python",
   "name": "python",
   "nbconvert_exporter": "python",
   "pygments_lexer": "ipython3",
   "version": "3.11.5"
  }
 },
 "nbformat": 4,
 "nbformat_minor": 5
}
