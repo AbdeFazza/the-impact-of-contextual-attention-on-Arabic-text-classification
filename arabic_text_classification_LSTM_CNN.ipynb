{
  "cells": [
    {
      "cell_type": "code",
      "execution_count": null,
      "metadata": {
        "_cell_guid": "b1076dfc-b9ad-4769-8c92-a6c4dae69d19",
        "_kg_hide-input": false,
        "_kg_hide-output": false,
        "_uuid": "8f2839f25d086af736a60e9eeb907d3b93b6e0e5",
        "colab": {
          "base_uri": "https://localhost:8080/"
        },
        "execution": {
          "iopub.execute_input": "2024-05-07T21:33:11.06893Z",
          "iopub.status.busy": "2024-05-07T21:33:11.068513Z",
          "iopub.status.idle": "2024-05-07T21:33:11.452242Z",
          "shell.execute_reply": "2024-05-07T21:33:11.451268Z",
          "shell.execute_reply.started": "2024-05-07T21:33:11.068897Z"
        },
        "id": "8URmWZlrenXE",
        "outputId": "41a60a4b-1c3a-4689-e40a-7603c5ca2cea",
        "trusted": true
      },
      "outputs": [],
      "source": [
        "import numpy as np\n",
        "import pandas as pd"
      ]
    },
    {
      "cell_type": "markdown",
      "metadata": {
        "id": "URR3IQHSenXF"
      },
      "source": [
        "# Creating the Dataset from txt files"
      ]
    },
    {
      "cell_type": "code",
      "execution_count": 3,
      "metadata": {
        "execution": {
          "iopub.execute_input": "2024-05-01T20:02:40.199573Z",
          "iopub.status.busy": "2024-05-01T20:02:40.199168Z",
          "iopub.status.idle": "2024-05-01T20:02:40.203467Z",
          "shell.execute_reply": "2024-05-01T20:02:40.202498Z",
          "shell.execute_reply.started": "2024-05-01T20:02:40.199548Z"
        },
        "id": "LFfqqYzGenXG",
        "trusted": true
      },
      "outputs": [],
      "source": [
        "import pandas as pd\n",
        "import os"
      ]
    },
    {
      "cell_type": "code",
      "execution_count": 4,
      "metadata": {
        "execution": {
          "iopub.execute_input": "2024-05-01T20:02:40.204819Z",
          "iopub.status.busy": "2024-05-01T20:02:40.20454Z",
          "iopub.status.idle": "2024-05-01T20:02:40.22191Z",
          "shell.execute_reply": "2024-05-01T20:02:40.221012Z",
          "shell.execute_reply.started": "2024-05-01T20:02:40.204779Z"
        },
        "id": "Sbz4x3EJenXG",
        "trusted": true
      },
      "outputs": [],
      "source": [
        "# def read_txt_file(file_path):\n",
        "#     with open(file_path, 'r', encoding='utf-8') as file:\n",
        "#         content = file.read()\n",
        "#     return content"
      ]
    },
    {
      "cell_type": "code",
      "execution_count": 5,
      "metadata": {
        "execution": {
          "iopub.execute_input": "2024-05-01T20:02:40.224126Z",
          "iopub.status.busy": "2024-05-01T20:02:40.223843Z",
          "iopub.status.idle": "2024-05-01T20:02:40.231158Z",
          "shell.execute_reply": "2024-05-01T20:02:40.230279Z",
          "shell.execute_reply.started": "2024-05-01T20:02:40.224087Z"
        },
        "id": "MY8xg15qenXG",
        "trusted": true
      },
      "outputs": [],
      "source": [
        "#base_dir = '/kaggle/input/bbc-arabic-utf8/bbc-arabic-utf8'\n",
        "#dfs = []"
      ]
    },
    {
      "cell_type": "code",
      "execution_count": 6,
      "metadata": {
        "execution": {
          "iopub.execute_input": "2024-05-01T20:02:40.232648Z",
          "iopub.status.busy": "2024-05-01T20:02:40.232398Z",
          "iopub.status.idle": "2024-05-01T20:02:40.24113Z",
          "shell.execute_reply": "2024-05-01T20:02:40.240157Z",
          "shell.execute_reply.started": "2024-05-01T20:02:40.232627Z"
        },
        "id": "3Q5rI5oKenXH",
        "trusted": true
      },
      "outputs": [],
      "source": [
        "#print(os.listdir(base_dir))"
      ]
    },
    {
      "cell_type": "code",
      "execution_count": 7,
      "metadata": {
        "execution": {
          "iopub.execute_input": "2024-05-01T20:02:40.242935Z",
          "iopub.status.busy": "2024-05-01T20:02:40.242274Z",
          "iopub.status.idle": "2024-05-01T20:02:58.415834Z",
          "shell.execute_reply": "2024-05-01T20:02:58.414829Z",
          "shell.execute_reply.started": "2024-05-01T20:02:40.242904Z"
        },
        "id": "RFlZ60PQenXH",
        "trusted": true
      },
      "outputs": [],
      "source": [
        "# for category in os.listdir(base_dir):\n",
        "#     category_dir = os.path.join(base_dir, category)\n",
        "#     if os.path.isdir(category_dir):\n",
        "#         Loop through .txt files in the category directory\n",
        "#         for txt_file in os.listdir(category_dir):\n",
        "#             if txt_file.endswith('.txt'):\n",
        "#                 txt_file_path = os.path.join(category_dir, txt_file)\n",
        "#                 Read the content of the .txt file\n",
        "#                body = read_txt_file(txt_file_path)\n",
        "#                 Create a DataFrame for the current .txt file\n",
        "#                df = pd.DataFrame({'Body': [body], 'category': [category]})\n",
        "#                 Append the DataFrame to the list\n",
        "#                 dfs.append(df)"
      ]
    },
    {
      "cell_type": "code",
      "execution_count": 8,
      "metadata": {
        "execution": {
          "iopub.execute_input": "2024-05-01T20:02:58.417469Z",
          "iopub.status.busy": "2024-05-01T20:02:58.417106Z",
          "iopub.status.idle": "2024-05-01T20:02:58.725285Z",
          "shell.execute_reply": "2024-05-01T20:02:58.724164Z",
          "shell.execute_reply.started": "2024-05-01T20:02:58.417434Z"
        },
        "id": "oOWw6m6yenXH",
        "trusted": true
      },
      "outputs": [],
      "source": [
        "#df = pd.concat(dfs, ignore_index=True)"
      ]
    },
    {
      "cell_type": "code",
      "execution_count": 9,
      "metadata": {
        "execution": {
          "iopub.execute_input": "2024-05-01T20:02:58.727062Z",
          "iopub.status.busy": "2024-05-01T20:02:58.726634Z",
          "iopub.status.idle": "2024-05-01T20:02:58.738777Z",
          "shell.execute_reply": "2024-05-01T20:02:58.737908Z",
          "shell.execute_reply.started": "2024-05-01T20:02:58.727029Z"
        },
        "id": "O3E9zLE9enXI",
        "trusted": true
      },
      "outputs": [],
      "source": [
        "#df['Body'][5]"
      ]
    },
    {
      "cell_type": "code",
      "execution_count": 10,
      "metadata": {
        "execution": {
          "iopub.execute_input": "2024-05-01T20:02:58.740434Z",
          "iopub.status.busy": "2024-05-01T20:02:58.740068Z",
          "iopub.status.idle": "2024-05-01T20:02:58.764659Z",
          "shell.execute_reply": "2024-05-01T20:02:58.763658Z",
          "shell.execute_reply.started": "2024-05-01T20:02:58.740384Z"
        },
        "id": "3vDBwVMfenXI",
        "trusted": true
      },
      "outputs": [],
      "source": [
        "# df.info()"
      ]
    },
    {
      "cell_type": "code",
      "execution_count": 11,
      "metadata": {
        "execution": {
          "iopub.execute_input": "2024-05-01T20:02:58.76915Z",
          "iopub.status.busy": "2024-05-01T20:02:58.76882Z",
          "iopub.status.idle": "2024-05-01T20:02:58.777654Z",
          "shell.execute_reply": "2024-05-01T20:02:58.776936Z",
          "shell.execute_reply.started": "2024-05-01T20:02:58.769089Z"
        },
        "id": "zNWTfrUvenXI",
        "trusted": true
      },
      "outputs": [],
      "source": [
        "# df.isnull().sum()"
      ]
    },
    {
      "cell_type": "code",
      "execution_count": 12,
      "metadata": {
        "execution": {
          "iopub.execute_input": "2024-05-01T20:02:58.778862Z",
          "iopub.status.busy": "2024-05-01T20:02:58.778623Z",
          "iopub.status.idle": "2024-05-01T20:02:59.400921Z",
          "shell.execute_reply": "2024-05-01T20:02:59.400167Z",
          "shell.execute_reply.started": "2024-05-01T20:02:58.778841Z"
        },
        "id": "4dV3TqEGenXI",
        "trusted": true
      },
      "outputs": [],
      "source": [
        "# save the df into dataset.csv\n",
        "# df.to_csv('dataset.csv', index=False)"
      ]
    },
    {
      "cell_type": "markdown",
      "metadata": {
        "id": "JkvN_HO_enXI"
      },
      "source": [
        "# Installing and Importing Libraries"
      ]
    },
    {
      "cell_type": "code",
      "execution_count": 13,
      "metadata": {
        "colab": {
          "base_uri": "https://localhost:8080/"
        },
        "execution": {
          "iopub.execute_input": "2024-05-07T21:33:18.434302Z",
          "iopub.status.busy": "2024-05-07T21:33:18.433814Z",
          "iopub.status.idle": "2024-05-07T21:33:32.352433Z",
          "shell.execute_reply": "2024-05-07T21:33:32.351301Z",
          "shell.execute_reply.started": "2024-05-07T21:33:18.434273Z"
        },
        "id": "sA2iF3PZenXI",
        "outputId": "30495057-435e-4fa1-9a67-442821dddeda",
        "trusted": true
      },
      "outputs": [
        {
          "name": "stdout",
          "output_type": "stream",
          "text": [
            "Requirement already satisfied: nltk in /usr/local/lib/python3.10/dist-packages (3.8.1)\n",
            "Requirement already satisfied: click in /usr/local/lib/python3.10/dist-packages (from nltk) (8.1.7)\n",
            "Requirement already satisfied: joblib in /usr/local/lib/python3.10/dist-packages (from nltk) (1.4.2)\n",
            "Requirement already satisfied: regex>=2021.8.3 in /usr/local/lib/python3.10/dist-packages (from nltk) (2023.12.25)\n",
            "Requirement already satisfied: tqdm in /usr/local/lib/python3.10/dist-packages (from nltk) (4.66.4)\n"
          ]
        }
      ],
      "source": [
        "!pip install nltk"
      ]
    },
    {
      "cell_type": "code",
      "execution_count": 14,
      "metadata": {
        "colab": {
          "base_uri": "https://localhost:8080/"
        },
        "execution": {
          "iopub.execute_input": "2024-05-07T21:33:32.354574Z",
          "iopub.status.busy": "2024-05-07T21:33:32.354248Z",
          "iopub.status.idle": "2024-05-07T21:33:33.622331Z",
          "shell.execute_reply": "2024-05-07T21:33:33.621457Z",
          "shell.execute_reply.started": "2024-05-07T21:33:32.354543Z"
        },
        "id": "pbsGTb7BenXI",
        "outputId": "43b88a5a-29a6-40be-a15a-265b65513025",
        "trusted": true
      },
      "outputs": [
        {
          "name": "stderr",
          "output_type": "stream",
          "text": [
            "[nltk_data] Downloading package stopwords to /root/nltk_data...\n",
            "[nltk_data]   Unzipping corpora/stopwords.zip.\n"
          ]
        },
        {
          "data": {
            "text/plain": [
              "True"
            ]
          },
          "execution_count": 14,
          "metadata": {},
          "output_type": "execute_result"
        }
      ],
      "source": [
        "import nltk\n",
        "nltk.download('stopwords')"
      ]
    },
    {
      "cell_type": "code",
      "execution_count": 15,
      "metadata": {
        "colab": {
          "base_uri": "https://localhost:8080/"
        },
        "execution": {
          "iopub.execute_input": "2024-05-07T21:33:33.624013Z",
          "iopub.status.busy": "2024-05-07T21:33:33.623647Z",
          "iopub.status.idle": "2024-05-07T21:33:48.19722Z",
          "shell.execute_reply": "2024-05-07T21:33:48.196275Z",
          "shell.execute_reply.started": "2024-05-07T21:33:33.623988Z"
        },
        "id": "ldMyEAw2enXJ",
        "outputId": "81fbae52-06f3-4c86-fc05-357e3867eeaa",
        "trusted": true
      },
      "outputs": [
        {
          "name": "stdout",
          "output_type": "stream",
          "text": [
            "Collecting Arabic-Stopwords\n",
            "  Downloading Arabic_Stopwords-0.4.3-py3-none-any.whl (360 kB)\n",
            "\u001b[2K     \u001b[90m━━━━━━━━━━━━━━━━━━━━━━━━━━━━━━━━━━━━━━━━\u001b[0m \u001b[32m360.5/360.5 kB\u001b[0m \u001b[31m7.0 MB/s\u001b[0m eta \u001b[36m0:00:00\u001b[0m\n",
            "\u001b[?25hCollecting pyarabic>=0.6.2 (from Arabic-Stopwords)\n",
            "  Downloading PyArabic-0.6.15-py3-none-any.whl (126 kB)\n",
            "\u001b[2K     \u001b[90m━━━━━━━━━━━━━━━━━━━━━━━━━━━━━━━━━━━━━━━━\u001b[0m \u001b[32m126.4/126.4 kB\u001b[0m \u001b[31m8.5 MB/s\u001b[0m eta \u001b[36m0:00:00\u001b[0m\n",
            "\u001b[?25hRequirement already satisfied: six>=1.14.0 in /usr/local/lib/python3.10/dist-packages (from pyarabic>=0.6.2->Arabic-Stopwords) (1.16.0)\n",
            "Installing collected packages: pyarabic, Arabic-Stopwords\n",
            "Successfully installed Arabic-Stopwords-0.4.3 pyarabic-0.6.15\n"
          ]
        }
      ],
      "source": [
        "!pip install Arabic-Stopwords"
      ]
    },
    {
      "cell_type": "code",
      "execution_count": 16,
      "metadata": {
        "colab": {
          "base_uri": "https://localhost:8080/"
        },
        "execution": {
          "iopub.execute_input": "2024-05-07T21:33:48.200128Z",
          "iopub.status.busy": "2024-05-07T21:33:48.199837Z",
          "iopub.status.idle": "2024-05-07T21:34:01.345682Z",
          "shell.execute_reply": "2024-05-07T21:34:01.344745Z",
          "shell.execute_reply.started": "2024-05-07T21:33:48.2001Z"
        },
        "id": "RXX3C5d3enXJ",
        "outputId": "9de4d763-25dd-4631-87b5-033ed5e4812e",
        "trusted": true
      },
      "outputs": [
        {
          "name": "stdout",
          "output_type": "stream",
          "text": [
            "Requirement already satisfied: PyArabic in /usr/local/lib/python3.10/dist-packages (0.6.15)\n",
            "Requirement already satisfied: six>=1.14.0 in /usr/local/lib/python3.10/dist-packages (from PyArabic) (1.16.0)\n"
          ]
        }
      ],
      "source": [
        "!pip install PyArabic"
      ]
    },
    {
      "cell_type": "code",
      "execution_count": 17,
      "metadata": {
        "colab": {
          "base_uri": "https://localhost:8080/"
        },
        "execution": {
          "iopub.execute_input": "2024-05-07T21:34:01.347391Z",
          "iopub.status.busy": "2024-05-07T21:34:01.347087Z",
          "iopub.status.idle": "2024-05-07T21:34:15.727541Z",
          "shell.execute_reply": "2024-05-07T21:34:15.726442Z",
          "shell.execute_reply.started": "2024-05-07T21:34:01.347362Z"
        },
        "id": "srt3FvdAenXJ",
        "outputId": "545e620a-3d4d-4ec8-9ecc-ee422b703243",
        "trusted": true
      },
      "outputs": [
        {
          "name": "stdout",
          "output_type": "stream",
          "text": [
            "Collecting Tashaphyne\n",
            "  Downloading Tashaphyne-0.3.6-py3-none-any.whl (251 kB)\n",
            "\u001b[?25l     \u001b[90m━━━━━━━━━━━━━━━━━━━━━━━━━━━━━━━━━━━━━━━━\u001b[0m \u001b[32m0.0/251.5 kB\u001b[0m \u001b[31m?\u001b[0m eta \u001b[36m-:--:--\u001b[0m\r\u001b[2K     \u001b[91m━━━━━━━━━━━━━━━━━━━━━━━━━━━━━\u001b[0m\u001b[90m╺\u001b[0m\u001b[90m━━━━━━━━━━\u001b[0m \u001b[32m184.3/251.5 kB\u001b[0m \u001b[31m5.3 MB/s\u001b[0m eta \u001b[36m0:00:01\u001b[0m\r\u001b[2K     \u001b[90m━━━━━━━━━━━━━━━━━━━━━━━━━━━━━━━━━━━━━━━━\u001b[0m \u001b[32m251.5/251.5 kB\u001b[0m \u001b[31m5.5 MB/s\u001b[0m eta \u001b[36m0:00:00\u001b[0m\n",
            "\u001b[?25hRequirement already satisfied: pyarabic in /usr/local/lib/python3.10/dist-packages (from Tashaphyne) (0.6.15)\n",
            "Requirement already satisfied: six>=1.14.0 in /usr/local/lib/python3.10/dist-packages (from pyarabic->Tashaphyne) (1.16.0)\n",
            "Installing collected packages: Tashaphyne\n",
            "Successfully installed Tashaphyne-0.3.6\n"
          ]
        }
      ],
      "source": [
        "!pip install Tashaphyne"
      ]
    },
    {
      "cell_type": "code",
      "execution_count": 18,
      "metadata": {
        "execution": {
          "iopub.execute_input": "2024-05-07T21:34:15.729628Z",
          "iopub.status.busy": "2024-05-07T21:34:15.729287Z",
          "iopub.status.idle": "2024-05-07T21:34:28.542151Z",
          "shell.execute_reply": "2024-05-07T21:34:28.541326Z",
          "shell.execute_reply.started": "2024-05-07T21:34:15.729596Z"
        },
        "id": "AfuAOtyMenXJ",
        "trusted": true
      },
      "outputs": [],
      "source": [
        "import matplotlib.pyplot as plt\n",
        "import seaborn as sns\n",
        "import string\n",
        "import re\n",
        "import regex\n",
        "import nltk\n",
        "from nltk.corpus import stopwords # Stopwords\n",
        "import arabicstopwords.arabicstopwords as stp #more of arabic stop words\n",
        "from nltk.stem.isri import ISRIStemmer\n",
        "import pyarabic.araby as araby\n",
        "from tashaphyne.stemming import ArabicLightStemmer\n",
        "from nltk.stem import SnowballStemmer, WordNetLemmatizer\n",
        "import tensorflow as tf\n",
        "from tensorflow.keras.layers import Embedding\n",
        "from tensorflow.keras.preprocessing.sequence import pad_sequences\n",
        "from tensorflow.keras.models import Sequential\n",
        "from tensorflow.keras.preprocessing.text import one_hot\n",
        "from tensorflow.keras.layers import LSTM\n",
        "from tensorflow.keras.layers import Dense\n",
        "from tensorflow.keras.layers import Bidirectional\n",
        "from tensorflow.keras.layers import Dropout\n",
        "from keras.callbacks import EarlyStopping\n",
        "from tensorflow.keras.utils import to_categorical\n",
        "from sklearn.preprocessing import OneHotEncoder\n",
        "from sklearn.model_selection import train_test_split\n",
        "from sklearn.metrics import confusion_matrix\n",
        "from sklearn.metrics import classification_report\n",
        "from keras.layers import GlobalMaxPooling1D\n",
        "from keras.layers import Conv1D\n",
        "from keras.callbacks import EarlyStopping, ReduceLROnPlateau, ModelCheckpoint"
      ]
    },
    {
      "cell_type": "markdown",
      "metadata": {
        "id": "iPcJFKpmenXJ"
      },
      "source": [
        "# Explotary Data Analysis"
      ]
    },
    {
      "cell_type": "code",
      "execution_count": 19,
      "metadata": {
        "colab": {
          "base_uri": "https://localhost:8080/",
          "height": 363
        },
        "execution": {
          "iopub.execute_input": "2024-05-07T21:34:28.543873Z",
          "iopub.status.busy": "2024-05-07T21:34:28.543304Z",
          "iopub.status.idle": "2024-05-07T21:34:29.387669Z",
          "shell.execute_reply": "2024-05-07T21:34:29.38674Z",
          "shell.execute_reply.started": "2024-05-07T21:34:28.543845Z"
        },
        "id": "Og0ySPt-enXJ",
        "outputId": "dd376e5a-52a1-4114-9267-ff89a9a45d81",
        "trusted": true
      },
      "outputs": [
        {
          "data": {
            "application/vnd.google.colaboratory.intrinsic+json": {
              "summary": "{\n  \"name\": \"df\",\n  \"rows\": 10,\n  \"fields\": [\n    {\n      \"column\": \"category\",\n      \"properties\": {\n        \"dtype\": \"string\",\n        \"num_unique_values\": 5,\n        \"samples\": [\n          \"Entertainment\",\n          \"Science and Technology\",\n          \"World\"\n        ],\n        \"semantic_type\": \"\",\n        \"description\": \"\"\n      }\n    },\n    {\n      \"column\": \"Body\",\n      \"properties\": {\n        \"dtype\": \"string\",\n        \"num_unique_values\": 10,\n        \"samples\": [\n          \". - \\\"\\u0627\\u0628\\u0644\\\" \\u062a\\u0637\\u0644\\u0642 \\u0647\\u0627\\u062a\\u0641  \\u0627\\u0644\\u0627\\u0633\\u0631\\u0639 \\u0645\\u0646 \\u0633\\u0627\\u0628\\u0642\\u064a\\u0647  ( +:) - // \\\"\\u0627\\u0628\\u0644\\\" \\u062a\\u0637\\u0644\\u0642 \\u0647\\u0627\\u062a\\u0641  \\u0627\\u0644\\u0627\\u0633\\u0631\\u0639 \\u0645\\u0646 \\u0633\\u0627\\u0628\\u0642\\u064a\\u0647 ''\\u0627\\u0628\\u0644'' \\u062a\\u0637\\u0644\\u0642 \\u0646\\u0645\\u0648\\u0630\\u062c  \\u0627\\u0644\\u0627\\u0633\\u0631\\u0639 \\u0648\\u0627\\u0644\\u0627\\u0643\\u062b\\u0631 \\u062a\\u0637\\u0648\\u0631\\u0627 \\u0645\\u0646 \\u0633\\u0627\\u0628\\u0642\\u0647  \\u062f\\u0628\\u064a\\u060c \\u0627\\u0644\\u0627\\u0645\\u0627\\u0631\\u0627\\u062a \\u0627\\u0644\\u0639\\u0631\\u0628\\u064a\\u0647 \\u0627\\u0644\\u0645\\u062a\\u062d\\u062f\\u0647 ( ) -- \\u0627\\u0639\\u0644\\u0646\\u062a \\u0634\\u0631\\u0643\\u0647 \\\"\\u0627\\u0628\\u0644\\\" \\u0627\\u0644\\u0627\\u062b\\u0646\\u064a\\u0646\\u060c \\u0627\\u0637\\u0644\\u0627\\u0642\\u0647\\u0627 \\u0647\\u0627\\u062a\\u0641  \\u0627\\u0644\\u062c\\u0648\\u0627\\u0644\\u060c \\u0648\\u0627\\u0644\\u0630\\u064a \\u0633\\u064a\\u0643\\u0648\\u0646 \\u0627\\u0633\\u0631\\u0639 \\u0645\\u0646 \\u0633\\u0627\\u0628\\u0642\\u0647  \\u060c \\u062d\\u064a\\u062b \\u0633\\u064a\\u062d\\u062a\\u0648\\u064a \\u0639\\u0644\\u064a \\u062e\\u0635\\u0627\\u0621\\u0635 \\u062c\\u062f\\u064a\\u062f\\u0647 \\u0645\\u062b\\u0644 \\u0643\\u0627\\u0645\\u064a\\u0631\\u0627 \\u0641\\u064a\\u062f\\u064a\\u0648 \\u0648\\u0628\\u0631\\u0627\\u0645\\u062c \\u062d\\u062f\\u064a\\u062b\\u0647 \\u0648\\u0633\\u064a\\u0637\\u0631\\u062d \\u0641\\u064a \\u0627\\u0644\\u0627\\u0633\\u0648\\u0627\\u0642 \\u0627\\u0644\\u0627\\u0645\\u0631\\u064a\\u0643\\u064a\\u0647 \\u064a\\u0648\\u0645  \\u064a\\u0648\\u0646\\u064a\\u0648/\\u062d\\u0632\\u064a\\u0631\\u0627\\u0646 \\u0627\\u0644\\u0645\\u0642\\u0628\\u0644. \\u0648\\u062a\\u0634\\u0645\\u0644 \\u062e\\u0635\\u0627\\u0621\\u0635 \\u0627\\u0644\\u0647\\u0627\\u062a\\u0641 \\u0627\\u0644\\u062c\\u062f\\u064a\\u062f \\u0627\\u062d\\u062a\\u0648\\u0627\\u0621\\u0647 \\u0639\\u0644\\u064a \\u0643\\u0627\\u0645\\u064a\\u0631\\u0627 \\u062c\\u064a\\u062f\\u0647 \\u0642\\u0627\\u062f\\u0631\\u0647 \\u0639\\u0644\\u064a \\u062a\\u0635\\u0648\\u064a\\u0631 \\u0644\\u0642\\u0637\\u0627\\u062a \\u0641\\u064a\\u062f\\u064a\\u0648 \\u0648\\u062a\\u062d\\u062a\\u0648\\u064a \\u0639\\u0644\\u064a \\u0639\\u062f\\u0633\\u0647 \\u062a\\u0642\\u0631\\u064a\\u0628 \\u0648\\u062a\\u0628\\u0639\\u064a\\u062f \\u0644\\u0644\\u0642\\u0637\\u0627\\u062a (\\u0632\\u0648\\u0645)\\u060c \\u0643\\u0645\\u0627 \\u0627\\u0646\\u0647\\u0627 \\u062a\\u0645\\u0643\\u0646 \\u0627\\u0644\\u0645\\u0633\\u062a\\u062e\\u062f\\u0645\\u064a\\u0646 \\u0645\\u0646 \\u0627\\u0646 \\u064a\\u0646\\u0642\\u0631\\u0648\\u0627 \\u0639\\u0644\\u064a \\u0627\\u0644\\u0634\\u0627\\u0634\\u0647 \\u0644\\u062a\\u062d\\u062f\\u064a\\u062f \\u0627\\u0644\\u0645\\u0646\\u0637\\u0642\\u0647 \\u0627\\u0644\\u062a\\u064a \\u064a\\u0631\\u064a\\u062f\\u0648\\u0646 \\u0627\\u0644\\u062a\\u0631\\u0643\\u064a\\u0632 \\u0639\\u0644\\u064a\\u0647\\u0627 \\u0641\\u064a \\u0627\\u0644\\u0635\\u0648\\u0631\\u0647. \\u0631\\u0648\\u0627\\u0628\\u0637 \\u0630\\u0627\\u062a \\u0639\\u0644\\u0627\\u0642\\u0647 \\\"\\u0627\\u0628\\u0644\\\" \\u062a\\u0637\\u0644\\u0642 \\u0644\\u0644\\u0627\\u062a\\u0635\\u0627\\u0644 \\u0627\\u0644\\u0627\\u0633\\u0644\\u0643\\u064a \\u0628\\u0627\\u0644\\u0627\\u0646\\u062a\\u0631\\u0646\\u062a \\u062a\\u0635\\u0645\\u064a\\u0645 \\u0628\\u0631\\u0646\\u0627\\u0645\\u062c \\u0644\\u0645\\u062a\\u0627\\u0628\\u0639\\u0647 \\u0627\\u0646\\u0641\\u0644\\u0648\\u0646\\u0632\\u0627 \\u0627\\u0644\\u062e\\u0646\\u0627\\u0632\\u064a\\u0631 \\u0639\\u0644\\u064a \\u0648\\u0645\\u0646 \\u0646\\u0627\\u062d\\u064a\\u0647 \\u0627\\u0644\\u0634\\u0643\\u0644 \\u0641\\u0644\\u0646 \\u064a\\u0643\\u0648\\u0646 \\u0627\\u0644\\u0646\\u0645\\u0648\\u0630\\u062c \\u0627\\u0644\\u062c\\u062f\\u064a\\u062f \\u0645\\u062e\\u062a\\u0644\\u0641\\u0627 \\u0639\\u0646 \\u0633\\u0627\\u0628\\u0642\\u0647\\u060c \\u0641\\u0647\\u0648 \\u0633\\u064a\\u0628\\u0642\\u064a \\u0634\\u0643\\u0644\\u0647 \\u0645\\u0633\\u062a\\u0637\\u064a\\u0644\\u0627 \\u0648\\u0633\\u064a\\u062d\\u062a\\u0648\\u064a \\u0639\\u0644\\u064a \\u0634\\u0627\\u0634\\u0647 \\u062a\\u0639\\u0645\\u0644 \\u0628\\u0627\\u0644\\u0644\\u0645\\u0633\\u060c \\u0648\\u0644\\u0643\\u0646\\u060c \\u0628\\u062d\\u0633\\u0628 \\u0627\\u0644\\u0634\\u0631\\u0643\\u0647\\u060c \\u0641\\u0627\\u0646 \\u062e\\u0635\\u0627\\u0621\\u0635\\u0647 \\u0627\\u0644\\u062c\\u062f\\u064a\\u062f\\u0647 \\u0647\\u064a \\u0627\\u0644\\u0639\\u0627\\u0645\\u0644 \\u0627\\u0644\\u0645\\u0645\\u064a\\u0632 \\u0641\\u064a\\u0647. \\u0648\\u0628\\u0627\\u0644\\u0646\\u0633\\u0628\\u0647 \\u0644\\u0633\\u0639\\u0631 \\u0627\\u0644\\u062c\\u0647\\u0627\\u0632 \\u0641\\u0627\\u0646\\u0647 \\u0633\\u064a\\u062e\\u062a\\u0644\\u0641 \\u0646\\u0633\\u0628\\u0647 \\u0644\\u0645\\u0633\\u0627\\u062d\\u0647 \\u062a\\u062e\\u0632\\u064a\\u0646 \\u0627\\u0644\\u0645\\u0639\\u0644\\u0648\\u0645\\u0627\\u062a \\u0641\\u064a\\u0647\\u060c \\u0641\\u0627\\u0644\\u0627\\u062c\\u0647\\u0632\\u0647 \\u0627\\u0644\\u062a\\u064a \\u062a\\u062d\\u062a\\u0648\\u064a \\u0639\\u0644\\u064a \\u0645\\u0633\\u0627\\u062d\\u0647 \\u062a\\u062a\\u062c\\u0627\\u0648\\u0632  \\u063a\\u064a\\u063a\\u0627 \\u0628\\u0627\\u064a\\u062a \\u0641\\u0633\\u064a\\u0643\\u0648\\u0646 \\u0633\\u0639\\u0631\\u0647\\u0627 \\u0641\\u064a \\u0627\\u0644\\u0648\\u0644\\u0627\\u064a\\u0627\\u062a \\u0627\\u0644\\u0645\\u062a\\u062d\\u062f\\u0647 \\u0633\\u0643\\u0648\\u0646  \\u062f\\u0648\\u0644\\u0627\\u0631\\u0627\\u060c \\u0627\\u0645 \\u0627\\u0630\\u0627 \\u0628\\u0644\\u063a\\u062a \\u0645\\u0633\\u0627\\u062d\\u062a\\u0647  \\u063a\\u064a\\u063a\\u0627 \\u0628\\u0627\\u064a\\u062a \\u0641\\u0633\\u064a\\u0643\\u0648\\u0646 \\u062b\\u0645\\u0646\\u0647  \\u062f\\u0648\\u0644\\u0627\\u0631\\u0627. \\u0648\\u0643\\u0627\\u0646\\u062a \\u0634\\u0631\\u0643\\u0647 \\\"\\u0627\\u0628\\u0644\\\" \\u0627\\u0646\\u062a\\u0647\\u0632\\u062a \\u0641\\u0631\\u0635\\u0647 \\u0645\\u0621\\u062a\\u0645\\u0631\\u0647\\u0627 \\u0644\\u0645\\u0637\\u0648\\u0631\\u064a \\u0627\\u0644\\u0628\\u0631\\u0627\\u0645\\u062c \\u0627\\u0644\\u0645\\u0639\\u0642\\u0648\\u062f \\u0628\\u0645\\u062f\\u064a\\u0646\\u0647 \\u0633\\u0627\\u0646 \\u0641\\u0631\\u0627\\u0646\\u0633\\u064a\\u0633\\u0643\\u0648 \\u0641\\u064a \\u0643\\u0627\\u0644\\u0641\\u0648\\u0631\\u0646\\u064a\\u0627\\u060c \\u0644\\u0644\\u0627\\u0639\\u0644\\u0627\\u0646 \\u0639\\u0646 \\u062c\\u0647\\u0627\\u0632\\u0647\\u0627 \\u0627\\u0644\\u062c\\u062f\\u064a\\u062f\\u060c \\u062d\\u064a\\u062b \\u0643\\u0627\\u0646 \\u0645\\u0646 \\u0627\\u0644\\u0644\\u0627\\u0641\\u062a \\u063a\\u064a\\u0627\\u0628 \\u0643\\u0628\\u064a\\u0631 \\u062e\\u0628\\u0631\\u0627\\u0621\\u0647\\u0627 \\u0627\\u0644\\u062a\\u0646\\u0641\\u064a\\u0630\\u064a\\u0646\\u060c \\u0633\\u062a\\u064a\\u0641 \\u062c\\u0648\\u0628\\u0632\\u060c \\u0639\\u0646 \\u0627\\u0644\\u0645\\u0621\\u062a\\u0645\\u0631\\u060c \\u0648\\u0630\\u0644\\u0643 \\u0646\\u0638\\u0631\\u0627 \\u0644\\u0627\\u062e\\u0630\\u0647 \\u0627\\u062c\\u0627\\u0632\\u0647 \\u0645\\u0631\\u0636\\u064a\\u0647. \\u064a\\u0630\\u0643\\u0631 \\u0627\\u0646 \\u0646\\u0645\\u0648\\u0630\\u062c \\u0627\\u0644\\u0640  \\u0643\\u0627\\u0646 \\u0642\\u062f \\u0633\\u0628\\u0642\\u0647  \\u0648\\u0627\\u0644\\u0630\\u064a \\u0639\\u062f\\u062a\\u0647 \\u0627\\u0644\\u0634\\u0631\\u0643\\u0647 \\u0628\\u0645\\u062b\\u0627\\u0628\\u0647 \\u062b\\u0648\\u0631\\u0647 \\u0641\\u064a \\u0637\\u0631\\u0642 \\u0627\\u0633\\u062a\\u062e\\u062f\\u0627\\u0645 \\u0627\\u0644\\u0646\\u0627\\u0633 \\u0644\\u0644\\u0647\\u0648\\u0627\\u062a\\u0641 \\u0627\\u0644\\u062c\\u0648\\u0627\\u0644\\u0647.\",\n          \"\\u0639\\u0631\\u0636\\u062a \\u0645\\u0642\\u062a\\u0646\\u064a\\u0627\\u062a \\u063a\\u0631\\u064a\\u0628\\u0629 \\u0644\\u0644\\u0628\\u064a\\u0639 \\u0645\\u0646 \\u0645\\u0648\\u0627\\u0642\\u0639 \\u0627\\u0644\\u0645\\u0632\\u0627\\u062f\\u0627\\u062a \\u0627\\u0644\\u0634\\u0647\\u064a\\u0631\\u0629 \\u0641\\u064a \\u062f\\u0628\\u064a\\u060c \\u0644\\u0642\\u0627\\u0621 \\u0627\\u0643\\u062b\\u0631 \\u0645\\u0646 \\u0627\\u0644\\u0641 \\u062f\\u0648\\u0644\\u0627\\u0631\\u060c \\u0639\\u0644\\u0649 \\u0645\\u0648\\u0642\\u0639 \\u0627\\u0644\\u0627\\u0646\\u062a\\u0631\\u0646\\u062a \\u062c\\u0648\\u062c\\u0644 \\u0648\\u0642\\u0627\\u0644 \\u0645\\u062d\\u0645\\u062f \\u0639\\u0644\\u064a\\u060c \\u0645\\u062f\\u064a\\u0631 \\u0639\\u0627\\u0645 \\u0634\\u0631\\u0643\\u0629 \\u062c\\u0648\\u062c\\u0644 \\u0641\\u064a \\u062f\\u0628\\u064a\\u060c \\u0627\\u0646 \\u062c\\u0648\\u062c\\u0644 \\u062a\\u0642\\u062f\\u0645 \\u062e\\u062f\\u0645\\u0627\\u062a\\u0647\\u0627 \\u0639\\u0628\\u0631 \\u0627\\u0644\\u0627\\u0646\\u062a\\u0631\\u0646\\u062a\\u060c \\u0645\\u0646 \\u062e\\u0644\\u0627\\u0644 \\u0645\\u0648\\u0642\\u0639\\u0647\\u0627 \\u0627\\u0644\\u0627\\u0644\\u0643\\u062a\\u0631\\u0648\\u0646\\u064a\\u060c \\u0627\\u0644\\u0630\\u064a \\u064a\\u0648\\u0641\\u0631 \\u062e\\u062f\\u0645\\u0627\\u062a\\u0647\\u0627 \\u0639\\u0628\\u0631 \\u0627\\u0644\\u0627\\u0646\\u062a\\u0631\\u0646\\u062a\\u060c \\u0645\\u0646 \\u062e\\u0644\\u0627\\u0644 \\u0645\\u0648\\u0642\\u0639\\u0647\\u0627 \\u0627\\u0644\\u0627\\u0644\\u0643\\u062a\\u0631\\u0648\\u0646\\u064a\\u060c \\u0627\\u0644\\u0630\\u064a \\u064a\\u0648\\u0641\\u0631 \\u062e\\u062f\\u0645\\u0627\\u062a\\u0647\\u0627 \\u0639\\u0628\\u0631 \\u0627\\u0644\\u0627\\u0646\\u062a\\u0631\\u0646\\u062a\\u060c \\u0645\\u0646 \\u062e\\u0644\\u0627\\u0644 \\u0645\\u0648\\u0642\\u0639\\u0647\\u0627 \\u0627\\u0644\\u0627\\u0644\\u0643\\u062a\\u0631\\u0648\\u0646\\u064a\\u060c \\u0627\\u0644\\u0630\\u064a \\u064a\\u0648\\u0641\\u0631 \\u062e\\u062f\\u0645\\u0627\\u062a\\u0647\\u0627 \\u0639\\u0628\\u0631 \\u0627\\u0644\\u0627\\u0646\\u062a\\u0631\\u0646\\u062a\\u060c \\u0645\\u0646 \\u062e\\u0644\\u0627\\u0644 \\u0645\\u0648\\u0642\\u0639\",\n          \"- \\u0639\\u0644\\u0648\\u0645 \\u0648\\u062a\\u0643\\u0646\\u0648\\u0644\\u0648\\u062c\\u064a\\u0627 - \\u0635\\u0648\\u0631 \\u0645\\u0644\\u0648\\u0646\\u0647 \\u0644\\u0627\\u0639\\u0645\\u0627\\u0642 \\u0627\\u0644\\u0641\\u0636\\u0627\\u0621 \\u0627\\u0644\\u0631\\u0621\\u064a\\u0633\\u064a\\u0647 \\u0627\\u0644\\u0634\\u0631\\u0642 \\u0627\\u0644\\u0627\\u0648\\u0633\\u0637 \\u0627\\u0644\\u0639\\u0627\\u0644\\u0645 \\u0634\\u0627\\u0631\\u0643 \\u0628\\u0631\\u0627\\u064a\\u0643 \\u0627\\u0642\\u062a\\u0635\\u0627\\u062f \\u0648\\u0627\\u0639\\u0645\\u0627\\u0644 \\u0645\\u0646\\u0648\\u0639\\u0627\\u062a \\u0639\\u0644\\u0648\\u0645 \\u0648\\u062a\\u0643\\u0646\\u0648\\u0644\\u0648\\u062c\\u064a\\u0627 \\u0631\\u064a\\u0627\\u0636\\u0647 \\u0631\\u0627\\u062f\\u064a\\u0648 \\u0648\\u062a\\u0644\\u0641\\u0632\\u064a\\u0648\\u0646 \\u0627\\u062e\\u0631 \\u062a\\u062d\\u062f\\u064a\\u062b: \\u0627\\u0644\\u062e\\u0645\\u064a\\u0633,  \\u064a\\u0648\\u0644\\u064a\\u0648/ \\u062a\\u0645\\u0648\\u0632, , : \\u0635\\u0648\\u0631 \\u0645\\u0644\\u0648\\u0646\\u0647 \\u0644\\u0627\\u0639\\u0645\\u0627\\u0642 \\u0627\\u0644\\u0641\\u0636\\u0627\\u0621\"\n        ],\n        \"semantic_type\": \"\",\n        \"description\": \"\"\n      }\n    }\n  ]\n}",
              "type": "dataframe"
            },
            "text/html": [
              "\n",
              "  <div id=\"df-4f76f0e2-7d0d-4ef9-b6d6-21fd149eb7e4\" class=\"colab-df-container\">\n",
              "    <div>\n",
              "<style scoped>\n",
              "    .dataframe tbody tr th:only-of-type {\n",
              "        vertical-align: middle;\n",
              "    }\n",
              "\n",
              "    .dataframe tbody tr th {\n",
              "        vertical-align: top;\n",
              "    }\n",
              "\n",
              "    .dataframe thead th {\n",
              "        text-align: right;\n",
              "    }\n",
              "</style>\n",
              "<table border=\"1\" class=\"dataframe\">\n",
              "  <thead>\n",
              "    <tr style=\"text-align: right;\">\n",
              "      <th></th>\n",
              "      <th>category</th>\n",
              "      <th>Body</th>\n",
              "    </tr>\n",
              "  </thead>\n",
              "  <tbody>\n",
              "    <tr>\n",
              "      <th>158</th>\n",
              "      <td>Business</td>\n",
              "      <td>. - الامارات: المجلس الوطني يقر قانونا لضمان ا...</td>\n",
              "    </tr>\n",
              "    <tr>\n",
              "      <th>9121</th>\n",
              "      <td>Entertainment</td>\n",
              "      <td>عرضت مقتنيات غريبة للبيع من مواقع المزادات الش...</td>\n",
              "    </tr>\n",
              "    <tr>\n",
              "      <th>6140</th>\n",
              "      <td>World</td>\n",
              "      <td>- العالم - اطلاق سراح رهينتين في دارفور =\"امرا...</td>\n",
              "    </tr>\n",
              "    <tr>\n",
              "      <th>3971</th>\n",
              "      <td>World</td>\n",
              "      <td>. - روسيا تقود تكتلا عسكريا جديدا لدول سوفيتيه...</td>\n",
              "    </tr>\n",
              "    <tr>\n",
              "      <th>11090</th>\n",
              "      <td>Sport</td>\n",
              "      <td>- رياضه - فيضانات شمالي انجلترا الرءيسيه الشرق...</td>\n",
              "    </tr>\n",
              "    <tr>\n",
              "      <th>7709</th>\n",
              "      <td>Science and Technology</td>\n",
              "      <td>- علوم وتكنولوجيا - صور ملونه لاعماق الفضاء ال...</td>\n",
              "    </tr>\n",
              "    <tr>\n",
              "      <th>3024</th>\n",
              "      <td>Sport</td>\n",
              "      <td>. - الزمالك يستعيد طعم الفوز والاسماعيلي يفلت ...</td>\n",
              "    </tr>\n",
              "    <tr>\n",
              "      <th>10948</th>\n",
              "      <td>Sport</td>\n",
              "      <td>. - الهلال يتصدر ابطال افريقيا.. والحدود يتعثر...</td>\n",
              "    </tr>\n",
              "    <tr>\n",
              "      <th>2205</th>\n",
              "      <td>Science and Technology</td>\n",
              "      <td>. - \"ابل\" تطلق هاتف  الاسرع من سابقيه  ( +:) -...</td>\n",
              "    </tr>\n",
              "    <tr>\n",
              "      <th>4097</th>\n",
              "      <td>World</td>\n",
              "      <td>. - كوريا الشماليه تهدد باعتبار عقوبات محتمله ...</td>\n",
              "    </tr>\n",
              "  </tbody>\n",
              "</table>\n",
              "</div>\n",
              "    <div class=\"colab-df-buttons\">\n",
              "\n",
              "  <div class=\"colab-df-container\">\n",
              "    <button class=\"colab-df-convert\" onclick=\"convertToInteractive('df-4f76f0e2-7d0d-4ef9-b6d6-21fd149eb7e4')\"\n",
              "            title=\"Convert this dataframe to an interactive table.\"\n",
              "            style=\"display:none;\">\n",
              "\n",
              "  <svg xmlns=\"http://www.w3.org/2000/svg\" height=\"24px\" viewBox=\"0 -960 960 960\">\n",
              "    <path d=\"M120-120v-720h720v720H120Zm60-500h600v-160H180v160Zm220 220h160v-160H400v160Zm0 220h160v-160H400v160ZM180-400h160v-160H180v160Zm440 0h160v-160H620v160ZM180-180h160v-160H180v160Zm440 0h160v-160H620v160Z\"/>\n",
              "  </svg>\n",
              "    </button>\n",
              "\n",
              "  <style>\n",
              "    .colab-df-container {\n",
              "      display:flex;\n",
              "      gap: 12px;\n",
              "    }\n",
              "\n",
              "    .colab-df-convert {\n",
              "      background-color: #E8F0FE;\n",
              "      border: none;\n",
              "      border-radius: 50%;\n",
              "      cursor: pointer;\n",
              "      display: none;\n",
              "      fill: #1967D2;\n",
              "      height: 32px;\n",
              "      padding: 0 0 0 0;\n",
              "      width: 32px;\n",
              "    }\n",
              "\n",
              "    .colab-df-convert:hover {\n",
              "      background-color: #E2EBFA;\n",
              "      box-shadow: 0px 1px 2px rgba(60, 64, 67, 0.3), 0px 1px 3px 1px rgba(60, 64, 67, 0.15);\n",
              "      fill: #174EA6;\n",
              "    }\n",
              "\n",
              "    .colab-df-buttons div {\n",
              "      margin-bottom: 4px;\n",
              "    }\n",
              "\n",
              "    [theme=dark] .colab-df-convert {\n",
              "      background-color: #3B4455;\n",
              "      fill: #D2E3FC;\n",
              "    }\n",
              "\n",
              "    [theme=dark] .colab-df-convert:hover {\n",
              "      background-color: #434B5C;\n",
              "      box-shadow: 0px 1px 3px 1px rgba(0, 0, 0, 0.15);\n",
              "      filter: drop-shadow(0px 1px 2px rgba(0, 0, 0, 0.3));\n",
              "      fill: #FFFFFF;\n",
              "    }\n",
              "  </style>\n",
              "\n",
              "    <script>\n",
              "      const buttonEl =\n",
              "        document.querySelector('#df-4f76f0e2-7d0d-4ef9-b6d6-21fd149eb7e4 button.colab-df-convert');\n",
              "      buttonEl.style.display =\n",
              "        google.colab.kernel.accessAllowed ? 'block' : 'none';\n",
              "\n",
              "      async function convertToInteractive(key) {\n",
              "        const element = document.querySelector('#df-4f76f0e2-7d0d-4ef9-b6d6-21fd149eb7e4');\n",
              "        const dataTable =\n",
              "          await google.colab.kernel.invokeFunction('convertToInteractive',\n",
              "                                                    [key], {});\n",
              "        if (!dataTable) return;\n",
              "\n",
              "        const docLinkHtml = 'Like what you see? Visit the ' +\n",
              "          '<a target=\"_blank\" href=https://colab.research.google.com/notebooks/data_table.ipynb>data table notebook</a>'\n",
              "          + ' to learn more about interactive tables.';\n",
              "        element.innerHTML = '';\n",
              "        dataTable['output_type'] = 'display_data';\n",
              "        await google.colab.output.renderOutput(dataTable, element);\n",
              "        const docLink = document.createElement('div');\n",
              "        docLink.innerHTML = docLinkHtml;\n",
              "        element.appendChild(docLink);\n",
              "      }\n",
              "    </script>\n",
              "  </div>\n",
              "\n",
              "\n",
              "<div id=\"df-aebe9866-07c7-44b2-b70a-0883117a4338\">\n",
              "  <button class=\"colab-df-quickchart\" onclick=\"quickchart('df-aebe9866-07c7-44b2-b70a-0883117a4338')\"\n",
              "            title=\"Suggest charts\"\n",
              "            style=\"display:none;\">\n",
              "\n",
              "<svg xmlns=\"http://www.w3.org/2000/svg\" height=\"24px\"viewBox=\"0 0 24 24\"\n",
              "     width=\"24px\">\n",
              "    <g>\n",
              "        <path d=\"M19 3H5c-1.1 0-2 .9-2 2v14c0 1.1.9 2 2 2h14c1.1 0 2-.9 2-2V5c0-1.1-.9-2-2-2zM9 17H7v-7h2v7zm4 0h-2V7h2v10zm4 0h-2v-4h2v4z\"/>\n",
              "    </g>\n",
              "</svg>\n",
              "  </button>\n",
              "\n",
              "<style>\n",
              "  .colab-df-quickchart {\n",
              "      --bg-color: #E8F0FE;\n",
              "      --fill-color: #1967D2;\n",
              "      --hover-bg-color: #E2EBFA;\n",
              "      --hover-fill-color: #174EA6;\n",
              "      --disabled-fill-color: #AAA;\n",
              "      --disabled-bg-color: #DDD;\n",
              "  }\n",
              "\n",
              "  [theme=dark] .colab-df-quickchart {\n",
              "      --bg-color: #3B4455;\n",
              "      --fill-color: #D2E3FC;\n",
              "      --hover-bg-color: #434B5C;\n",
              "      --hover-fill-color: #FFFFFF;\n",
              "      --disabled-bg-color: #3B4455;\n",
              "      --disabled-fill-color: #666;\n",
              "  }\n",
              "\n",
              "  .colab-df-quickchart {\n",
              "    background-color: var(--bg-color);\n",
              "    border: none;\n",
              "    border-radius: 50%;\n",
              "    cursor: pointer;\n",
              "    display: none;\n",
              "    fill: var(--fill-color);\n",
              "    height: 32px;\n",
              "    padding: 0;\n",
              "    width: 32px;\n",
              "  }\n",
              "\n",
              "  .colab-df-quickchart:hover {\n",
              "    background-color: var(--hover-bg-color);\n",
              "    box-shadow: 0 1px 2px rgba(60, 64, 67, 0.3), 0 1px 3px 1px rgba(60, 64, 67, 0.15);\n",
              "    fill: var(--button-hover-fill-color);\n",
              "  }\n",
              "\n",
              "  .colab-df-quickchart-complete:disabled,\n",
              "  .colab-df-quickchart-complete:disabled:hover {\n",
              "    background-color: var(--disabled-bg-color);\n",
              "    fill: var(--disabled-fill-color);\n",
              "    box-shadow: none;\n",
              "  }\n",
              "\n",
              "  .colab-df-spinner {\n",
              "    border: 2px solid var(--fill-color);\n",
              "    border-color: transparent;\n",
              "    border-bottom-color: var(--fill-color);\n",
              "    animation:\n",
              "      spin 1s steps(1) infinite;\n",
              "  }\n",
              "\n",
              "  @keyframes spin {\n",
              "    0% {\n",
              "      border-color: transparent;\n",
              "      border-bottom-color: var(--fill-color);\n",
              "      border-left-color: var(--fill-color);\n",
              "    }\n",
              "    20% {\n",
              "      border-color: transparent;\n",
              "      border-left-color: var(--fill-color);\n",
              "      border-top-color: var(--fill-color);\n",
              "    }\n",
              "    30% {\n",
              "      border-color: transparent;\n",
              "      border-left-color: var(--fill-color);\n",
              "      border-top-color: var(--fill-color);\n",
              "      border-right-color: var(--fill-color);\n",
              "    }\n",
              "    40% {\n",
              "      border-color: transparent;\n",
              "      border-right-color: var(--fill-color);\n",
              "      border-top-color: var(--fill-color);\n",
              "    }\n",
              "    60% {\n",
              "      border-color: transparent;\n",
              "      border-right-color: var(--fill-color);\n",
              "    }\n",
              "    80% {\n",
              "      border-color: transparent;\n",
              "      border-right-color: var(--fill-color);\n",
              "      border-bottom-color: var(--fill-color);\n",
              "    }\n",
              "    90% {\n",
              "      border-color: transparent;\n",
              "      border-bottom-color: var(--fill-color);\n",
              "    }\n",
              "  }\n",
              "</style>\n",
              "\n",
              "  <script>\n",
              "    async function quickchart(key) {\n",
              "      const quickchartButtonEl =\n",
              "        document.querySelector('#' + key + ' button');\n",
              "      quickchartButtonEl.disabled = true;  // To prevent multiple clicks.\n",
              "      quickchartButtonEl.classList.add('colab-df-spinner');\n",
              "      try {\n",
              "        const charts = await google.colab.kernel.invokeFunction(\n",
              "            'suggestCharts', [key], {});\n",
              "      } catch (error) {\n",
              "        console.error('Error during call to suggestCharts:', error);\n",
              "      }\n",
              "      quickchartButtonEl.classList.remove('colab-df-spinner');\n",
              "      quickchartButtonEl.classList.add('colab-df-quickchart-complete');\n",
              "    }\n",
              "    (() => {\n",
              "      let quickchartButtonEl =\n",
              "        document.querySelector('#df-aebe9866-07c7-44b2-b70a-0883117a4338 button');\n",
              "      quickchartButtonEl.style.display =\n",
              "        google.colab.kernel.accessAllowed ? 'block' : 'none';\n",
              "    })();\n",
              "  </script>\n",
              "</div>\n",
              "\n",
              "    </div>\n",
              "  </div>\n"
            ],
            "text/plain": [
              "                     category  \\\n",
              "158                  Business   \n",
              "9121            Entertainment   \n",
              "6140                    World   \n",
              "3971                    World   \n",
              "11090                   Sport   \n",
              "7709   Science and Technology   \n",
              "3024                    Sport   \n",
              "10948                   Sport   \n",
              "2205   Science and Technology   \n",
              "4097                    World   \n",
              "\n",
              "                                                    Body  \n",
              "158    . - الامارات: المجلس الوطني يقر قانونا لضمان ا...  \n",
              "9121   عرضت مقتنيات غريبة للبيع من مواقع المزادات الش...  \n",
              "6140   - العالم - اطلاق سراح رهينتين في دارفور =\"امرا...  \n",
              "3971   . - روسيا تقود تكتلا عسكريا جديدا لدول سوفيتيه...  \n",
              "11090  - رياضه - فيضانات شمالي انجلترا الرءيسيه الشرق...  \n",
              "7709   - علوم وتكنولوجيا - صور ملونه لاعماق الفضاء ال...  \n",
              "3024   . - الزمالك يستعيد طعم الفوز والاسماعيلي يفلت ...  \n",
              "10948  . - الهلال يتصدر ابطال افريقيا.. والحدود يتعثر...  \n",
              "2205   . - \"ابل\" تطلق هاتف  الاسرع من سابقيه  ( +:) -...  \n",
              "4097   . - كوريا الشماليه تهدد باعتبار عقوبات محتمله ...  "
            ]
          },
          "execution_count": 19,
          "metadata": {},
          "output_type": "execute_result"
        }
      ],
      "source": [
        "df = pd.read_csv('/kaggle/input/my-datastet/train_data.csv',encoding='utf-8')\n",
        "df.sample(10)"
      ]
    },
    {
      "cell_type": "code",
      "execution_count": 20,
      "metadata": {
        "colab": {
          "base_uri": "https://localhost:8080/"
        },
        "execution": {
          "iopub.execute_input": "2024-05-07T21:34:29.38952Z",
          "iopub.status.busy": "2024-05-07T21:34:29.38913Z",
          "iopub.status.idle": "2024-05-07T21:34:29.398153Z",
          "shell.execute_reply": "2024-05-07T21:34:29.397162Z",
          "shell.execute_reply.started": "2024-05-07T21:34:29.389485Z"
        },
        "id": "gFClHl36enXK",
        "outputId": "8eab5325-97e7-45c7-eb2a-d49c35fc37cd",
        "trusted": true
      },
      "outputs": [
        {
          "data": {
            "text/plain": [
              "(11204, 2)"
            ]
          },
          "execution_count": 20,
          "metadata": {},
          "output_type": "execute_result"
        }
      ],
      "source": [
        "df.shape"
      ]
    },
    {
      "cell_type": "code",
      "execution_count": 21,
      "metadata": {
        "colab": {
          "base_uri": "https://localhost:8080/"
        },
        "execution": {
          "iopub.execute_input": "2024-05-07T21:34:29.39965Z",
          "iopub.status.busy": "2024-05-07T21:34:29.399365Z",
          "iopub.status.idle": "2024-05-07T21:34:29.422109Z",
          "shell.execute_reply": "2024-05-07T21:34:29.421268Z",
          "shell.execute_reply.started": "2024-05-07T21:34:29.399627Z"
        },
        "id": "6D24ztUIenXK",
        "outputId": "e6c1f4c3-f2b0-4c52-eba9-2aee3a46a713",
        "trusted": true
      },
      "outputs": [
        {
          "name": "stdout",
          "output_type": "stream",
          "text": [
            "<class 'pandas.core.frame.DataFrame'>\n",
            "RangeIndex: 11204 entries, 0 to 11203\n",
            "Data columns (total 2 columns):\n",
            " #   Column    Non-Null Count  Dtype \n",
            "---  ------    --------------  ----- \n",
            " 0   category  11204 non-null  object\n",
            " 1   Body      11204 non-null  object\n",
            "dtypes: object(2)\n",
            "memory usage: 175.2+ KB\n"
          ]
        }
      ],
      "source": [
        "df.info()"
      ]
    },
    {
      "cell_type": "code",
      "execution_count": 22,
      "metadata": {
        "colab": {
          "base_uri": "https://localhost:8080/"
        },
        "execution": {
          "iopub.execute_input": "2024-05-07T21:34:29.426245Z",
          "iopub.status.busy": "2024-05-07T21:34:29.425923Z",
          "iopub.status.idle": "2024-05-07T21:34:29.437557Z",
          "shell.execute_reply": "2024-05-07T21:34:29.436606Z",
          "shell.execute_reply.started": "2024-05-07T21:34:29.426221Z"
        },
        "id": "g0oFzFvdenXK",
        "outputId": "762dc718-eb39-4d3e-f9c6-16c9adef831f",
        "trusted": true
      },
      "outputs": [
        {
          "data": {
            "text/plain": [
              "category    0\n",
              "Body        0\n",
              "dtype: int64"
            ]
          },
          "execution_count": 22,
          "metadata": {},
          "output_type": "execute_result"
        }
      ],
      "source": [
        "df.isnull().sum()"
      ]
    },
    {
      "cell_type": "code",
      "execution_count": 23,
      "metadata": {
        "colab": {
          "base_uri": "https://localhost:8080/"
        },
        "execution": {
          "iopub.execute_input": "2024-05-07T21:34:29.439154Z",
          "iopub.status.busy": "2024-05-07T21:34:29.438769Z",
          "iopub.status.idle": "2024-05-07T21:34:29.600797Z",
          "shell.execute_reply": "2024-05-07T21:34:29.599847Z",
          "shell.execute_reply.started": "2024-05-07T21:34:29.439122Z"
        },
        "id": "WN8LpIrpenXK",
        "outputId": "37735325-904e-4441-be26-6c8d3ead8860",
        "trusted": true
      },
      "outputs": [
        {
          "data": {
            "text/plain": [
              "1805"
            ]
          },
          "execution_count": 23,
          "metadata": {},
          "output_type": "execute_result"
        }
      ],
      "source": [
        "df.duplicated().sum()"
      ]
    },
    {
      "cell_type": "code",
      "execution_count": 24,
      "metadata": {
        "colab": {
          "base_uri": "https://localhost:8080/",
          "height": 423
        },
        "execution": {
          "iopub.execute_input": "2024-05-07T21:34:29.602381Z",
          "iopub.status.busy": "2024-05-07T21:34:29.60206Z",
          "iopub.status.idle": "2024-05-07T21:34:29.636744Z",
          "shell.execute_reply": "2024-05-07T21:34:29.63593Z",
          "shell.execute_reply.started": "2024-05-07T21:34:29.602355Z"
        },
        "id": "nXoiVE-BenXK",
        "outputId": "4cd88ea7-2994-4cc1-e950-a0c36826cd65",
        "trusted": true
      },
      "outputs": [
        {
          "data": {
            "application/vnd.google.colaboratory.intrinsic+json": {
              "summary": "{\n  \"name\": \"df[df['Body']\",\n  \"rows\": 1818,\n  \"fields\": [\n    {\n      \"column\": \"category\",\n      \"properties\": {\n        \"dtype\": \"category\",\n        \"num_unique_values\": 6,\n        \"samples\": [\n          \"Business\",\n          \"Science and Technology\",\n          \"Entertainment\"\n        ],\n        \"semantic_type\": \"\",\n        \"description\": \"\"\n      }\n    },\n    {\n      \"column\": \"Body\",\n      \"properties\": {\n        \"dtype\": \"string\",\n        \"num_unique_values\": 1132,\n        \"samples\": [\n          \". - \\u062a\\u0635\\u0641\\u064a\\u0627\\u062a \\u0627\\u0644\\u0645\\u0648\\u0646\\u062f\\u064a\\u0627\\u0644: \\u0627\\u0644\\u0627\\u0631\\u062c\\u0646\\u062a\\u064a\\u0646 \\u062a\\u062a\\u0627\\u0647\\u0644 \\u0628\\u0635\\u0639\\u0648\\u0628\\u0647.. \\u0648\\u0641\\u0631\\u0646\\u0633\\u0627 \\u0644\\u0644\\u0645\\u0644\\u062d\\u0642 \\u0627\\u0644\\u062b\\u0644\\u0627\\u062b\\u0627\\u0621,  \\u062a\\u0634\\u0631\\u064a\\u0646 \\u0627\\u0644\\u0627\\u0648\\u0644/\\u0627\\u0643\\u062a\\u0648\\u0628\\u0631 , \\u0627\\u062e\\u0631 \\u062a\\u062d\\u062f\\u064a\\u062b : ( +) \\u062a\\u0635\\u0641\\u064a\\u0627\\u062a \\u0627\\u0644\\u0645\\u0648\\u0646\\u062f\\u064a\\u0627\\u0644: \\u0627\\u0644\\u0627\\u0631\\u062c\\u0646\\u062a\\u064a\\u0646 \\u062a\\u062a\\u0627\\u0647\\u0644 \\u0628\\u0635\\u0639\\u0648\\u0628\\u0647.. \\u0648\\u0641\\u0631\\u0646\\u0633\\u0627 \\u0644\\u0644\\u0645\\u0644\\u062d\\u0642 \\u0627\\u0644\\u0628\\u0631\\u0627\\u0632\\u064a\\u0644\\u064a\\u0648\\u0646 \\u062d\\u0633\\u0645\\u0648\\u0627 \\u0627\\u0645\\u0631\\u0647\\u0645 \\u0645\\u0628\\u0643\\u0631\\u0627 \\u062f\\u0628\\u064a\\u060c \\u0627\\u0644\\u0627\\u0645\\u0627\\u0631\\u0627\\u062a \\u0627\\u0644\\u0639\\u0631\\u0628\\u064a\\u0647 \\u0627\\u0644\\u0645\\u062a\\u062d\\u062f\\u0647 ( )-- \\u062a\\u0645\\u0643\\u0646 \\u0645\\u0646\\u062a\\u062e\\u0628 \\u0627\\u0644\\u0627\\u0631\\u062c\\u0646\\u062a\\u064a\\u0646 \\u0645\\u0646 \\u062d\\u062c\\u0632 \\u062a\\u0630\\u0643\\u0631\\u0647 \\u0627\\u0644\\u0630\\u0647\\u0627\\u0628 \\u0627\\u0644\\u064a \\u0628\\u0637\\u0648\\u0644\\u0647 \\u0643\\u0627\\u0633 \\u0627\\u0644\\u0639\\u0627\\u0644\\u0645 \\\"\\u062c\\u0646\\u0648\\u0628 \\u0627\\u0641\\u0631\\u064a\\u0642\\u064a\\u0627 \\\"\\u060c \\u0628\\u0635\\u0639\\u0648\\u0628\\u0647 \\u0628\\u0627\\u0644\\u063a\\u0647\\u060c \\u0639\\u0644\\u064a \\u062d\\u0633\\u0627\\u0628 \\u0627\\u0648\\u0631\\u0648\\u063a\\u0648\\u0627\\u064a\\u060c \\u0628\\u0647\\u062f\\u0641 \\u0642\\u0627\\u062a\\u0644 \\u0641\\u064a \\u0627\\u0644\\u062f\\u0642\\u0627\\u0621\\u0642 \\u0627\\u0644\\u0627\\u062e\\u064a\\u0631\\u0647 \\u0645\\u0646 \\u0627\\u0644\\u0645\\u0628\\u0627\\u0631\\u0627\\u0647\\u060c \\u0641\\u064a \\u0627\\u0644\\u0648\\u0642\\u062a \\u0627\\u0644\\u0630\\u064a \\u0627\\u0628\\u0642\\u064a \\u0641\\u064a\\u0647 \\u0627\\u0644\\u0645\\u0646\\u062a\\u062e\\u0628 \\u0627\\u0644\\u0641\\u0631\\u0646\\u0633\\u064a \\u0639\\u0644\\u064a \\u0627\\u0645\\u0627\\u0644\\u0647 \\u0641\\u064a \\u0627\\u0644\\u062a\\u0627\\u0647\\u0644 \\u0644\\u0644\\u0645\\u0648\\u0646\\u062f\\u064a\\u0627\\u0644\\u060c \\u0628\\u0639\\u062f\\u0645\\u0627 \\u062d\\u062c\\u0632 \\u0645\\u0643\\u0627\\u0646\\u0627 \\u0644\\u0647 \\u0641\\u064a \\\"\\u0627\\u0644\\u0645\\u0644\\u062d\\u0642 \\u0627\\u0644\\u0627\\u0648\\u0631\\u0648\\u0628\\u064a\\\"\\u060c \\u0627\\u0644\\u064a \\u062c\\u0627\\u0646\\u0628 \\u0633\\u0628\\u0639\\u0647 \\u0645\\u0646\\u062a\\u062e\\u0628\\u0627\\u062a \\u0627\\u0628\\u0631\\u0632\\u0647\\u0627 \\u0627\\u0644\\u0628\\u0631\\u062a\\u063a\\u0627\\u0644. \\u0648\\u0628\\u0627\\u0644\\u0639\\u0648\\u062f\\u0647 \\u0627\\u0644\\u064a \\u0645\\u0648\\u0627\\u062c\\u0647\\u0647 \\u0645\\u0648\\u0646\\u062a\\u0641\\u064a\\u062f\\u064a\\u0648 \\u0628\\u064a\\u0646 \\u0627\\u0644\\u0645\\u0646\\u062a\\u062e\\u0628\\u064a\\u0646 \\u0627\\u0644\\u0627\\u0631\\u062c\\u0646\\u062a\\u064a\\u0646\\u064a \\u0648\\u0627\\u0644\\u0627\\u0648\\u0631\\u0648\\u063a\\u0648\\u0627\\u0646\\u064a\\u060c \\u0641\\u064a \\u0627\\u0637\\u0627\\u0631 \\u0645\\u0646\\u0627\\u0641\\u0633\\u0627\\u062a \\u0627\\u0644\\u062c\\u0648\\u0644\\u0647 \\u0627\\u0644\\u0640 \\u0645\\u0646 \\u062a\\u0635\\u0641\\u064a\\u0627\\u062a \\u0627\\u0645\\u0631\\u064a\\u0643\\u0627 \\u0627\\u0644\\u062c\\u0646\\u0648\\u0628\\u064a\\u0647 \\u0627\\u0644\\u0645\\u0621\\u0647\\u0644\\u0647 \\u0644\\u0644\\u0645\\u0648\\u0646\\u062f\\u064a\\u0627\\u0644\\u060c \\u0641\\u0642\\u062f \\u062a\\u0645\\u0643\\u0646 \\u0627\\u0644\\u0644\\u0627\\u0639\\u0628 \\u0627\\u0644\\u0628\\u062f\\u064a\\u0644\\u060c \\u0645\\u0627\\u0631\\u064a\\u0648 \\u0628\\u0648\\u0644\\u0627\\u062a\\u064a\\u060c \\u0645\\u0646 \\u0642\\u064a\\u0627\\u062f\\u0647 \\\"\\u0631\\u0627\\u0642\\u0635\\u064a \\u0627\\u0644\\u062a\\u0627\\u0646\\u063a\\u0648\\\" \\u0627\\u0644\\u064a \\u0641\\u0648\\u0632 \\u0645\\u0633\\u062a\\u062d\\u0642 \\u062e\\u0627\\u0631\\u062c \\u0627\\u0631\\u0636\\u0645\\u060c \\u0628\\u0647\\u062f\\u0641 \\u0648\\u062d\\u064a\\u062f \\u0641\\u064a \\u0627\\u0644\\u062f\\u0642\\u064a\\u0642\\u0647  \\u0645\\u0646 \\u0639\\u0645\\u0631 \\u0627\\u0644\\u0644\\u0642\\u0627\\u0621\\u060c \\u0644\\u064a\\u062d\\u062c\\u0632 \\u0628\\u0637\\u0627\\u0642\\u0647 \\u0627\\u0644\\u062a\\u0627\\u0647\\u0644 \\u0627\\u0644\\u0627\\u062e\\u064a\\u0631\\u0647 \\u0644\\u0645\\u0646\\u062a\\u062e\\u0628 \\u0628\\u0644\\u0627\\u062f\\u0647. \\u0648\\u0628\\u0647\\u0630\\u0627 \\u0627\\u0644\\u0641\\u0648\\u0632 \\u064a\\u0646\\u0636\\u0645 \\u0645\\u0646\\u062a\\u062e\\u0628 \\u0627\\u0644\\u0627\\u0631\\u062c\\u0646\\u062a\\u064a\\u0646 \\u0627\\u0644\\u064a \\u0645\\u0646\\u062a\\u062e\\u0628\\u0627\\u062a \\u0627\\u0644\\u0628\\u0631\\u0627\\u0632\\u064a\\u0644 \\u0648\\u062a\\u0634\\u064a\\u0644\\u064a \\u0648\\u0628\\u0627\\u0631\\u0627\\u063a\\u0648\\u0627\\u064a\\u060c \\u0628\\u064a\\u0646\\u0645\\u0627 \\u0645\\u0627 \\u0632\\u0627\\u0644 \\u0627\\u0645\\u0644 \\u0627\\u0644\\u062a\\u0627\\u0647\\u0644 \\u064a\\u0631\\u0627\\u0648\\u062f \\u0645\\u0646\\u062a\\u062e\\u0628 \\u0627\\u0648\\u0631\\u0648\\u063a\\u0648\\u0627\\u064a\\u060c \\u0628\\u0639\\u062f\\u0645\\u0627 \\u0627\\u062d\\u062a\\u0644 \\u0627\\u0644\\u0645\\u0631\\u0643\\u0632 \\u0627\\u0644\\u062e\\u0627\\u0645\\u0633\\u060c \\u0644\\u064a\\u0636\\u0645\\u0646 \\u062a\\u0627\\u0647\\u0644\\u0647 \\u0627\\u0644\\u064a \\\"\\u0627\\u0644\\u0645\\u0644\\u062d\\u0642\\\" \\u0627\\u0644\\u0630\\u064a \\u0633\\u064a\\u062c\\u0645\\u0639\\u0647 \\u0645\\u0639 \\u0645\\u0646\\u062a\\u062e\\u0628 \\u0643\\u0648\\u0633\\u062a\\u0627\\u0631\\u064a\\u0643\\u0627\\u060c \\u0627\\u0644\\u0630\\u064a \\u062d\\u0644 \\u0631\\u0627\\u0628\\u0639\\u0627 \\u0628\\u062a\\u0635\\u0641\\u064a\\u0627\\u062a \\u0627\\u0645\\u0631\\u064a\\u0643\\u0627 \\u0627\\u0644\\u0634\\u0645\\u0627\\u0644\\u064a\\u0647 \\u0648\\u0627\\u0644\\u0628\\u062d\\u0631 \\u0627\\u0644\\u0643\\u0627\\u0631\\u064a\\u0628\\u064a \\\"\\u0627\\u0644\\u0643\\u0648\\u0646\\u0643\\u0627\\u0643\\u0627\\u0641.\\\" \\u0627\\u0645\\u0627 \\u0627\\u0644\\u0645\\u0646\\u062a\\u062e\\u0628 \\u0627\\u0644\\u0628\\u0631\\u0627\\u0632\\u064a\\u0644\\u064a\\u060c \\u0627\\u0644\\u0630\\u064a \\u064a\\u062d\\u062a\\u0644 \\u0635\\u062f\\u0627\\u0631\\u0647 \\u062a\\u0635\\u0641\\u064a\\u0627\\u062a \\u0627\\u0645\\u0631\\u064a\\u0643\\u0627 \\u0627\\u0644\\u062c\\u0646\\u0648\\u0628\\u064a\\u0647\\u060c \\u0641\\u0642\\u062f \\u0633\\u0642\\u0637 \\u0641\\u064a \\u0641\\u062e \\u0627\\u0644\\u062a\\u0639\\u0627\\u062f\\u0644 \\u0627\\u0644\\u0633\\u0644\\u0628\\u064a \\u0639\\u0644\\u064a \\u0645\\u0644\\u0639\\u0628\\u0647 \\u0627\\u0645\\u0627\\u0645 \\u0645\\u0646\\u062a\\u062e\\u0628 \\u0641\\u0646\\u0632\\u0648\\u064a\\u0644\\u0627\\u060c \\u0628\\u064a\\u0646\\u0645\\u0627 \\u0641\\u0627\\u0632\\u062a \\u062a\\u0634\\u064a\\u0644\\u064a \\u0639\\u0644\\u064a \\u0636\\u064a\\u0641\\u062a\\u0647\\u0627 \\u0627\\u0644\\u0627\\u0643\\u0648\\u0627\\u062f\\u0648\\u0631 \\u0628\\u0647\\u062f\\u0641 \\u0646\\u0638\\u064a\\u0641\\u060c \\u0648\\u0647\\u064a \\u0646\\u0641\\u0633 \\u0646\\u062a\\u064a\\u062c\\u0647 \\u0627\\u0644\\u0644\\u0642\\u0627\\u0621 \\u0627\\u0644\\u0630\\u064a \\u062c\\u0645\\u0639 \\u0628\\u064a\\u0646 \\u0628\\u064a\\u0631\\u0648 \\u0648\\u0628\\u0648\\u0644\\u064a\\u0641\\u064a\\u0627 \\u0639\\u0644\\u064a \\u0645\\u0644\\u0639\\u0628 \\u0627\\u0644\\u0627\\u0648\\u0644\\u064a\\u060c \\u0628\\u064a\\u0646\\u0645\\u0627 \\u0641\\u0627\\u0632\\u062a \\u0643\\u0648\\u0644\\u0648\\u0645\\u0628\\u064a\\u0627 \\u0639\\u0644\\u064a \\u0645\\u0636\\u064a\\u0641\\u062a\\u0647\\u0627 \\u0628\\u0627\\u0631\\u0627\\u063a\\u0648\\u0627\\u064a \\u0628\\u0647\\u062f\\u0641\\u064a\\u0646 \\u0646\\u0638\\u064a\\u0641\\u064a\\u0646. \\u0648\\u0641\\u064a \\u062a\\u0635\\u0641\\u064a\\u0627\\u062a \\u0627\\u0644\\u0643\\u0648\\u0646\\u0643\\u0627\\u0643\\u0627\\u0641\\u060c \\u062a\\u0645\\u0643\\u0646 \\u0645\\u0646\\u062a\\u062e\\u0628 \\u0647\\u0646\\u062f\\u0648\\u0631\\u0627\\u0633 \\u0645\\u0646 \\u062d\\u062c\\u0632 \\u0628\\u0637\\u0627\\u0642\\u0647 \\u0627\\u0644\\u062a\\u0627\\u0647\\u0644 \\u0627\\u0644\\u062b\\u0627\\u0644\\u062b\\u0647 \\u0648\\u0627\\u0644\\u0627\\u062e\\u064a\\u0631\\u0647\\u060c \\u0628\\u0639\\u062f \\u0641\\u0648\\u0632\\u0647 \\u0639\\u0644\\u064a \\u0645\\u0636\\u064a\\u0641\\u0647 \\u0627\\u0644\\u0633\\u0644\\u0641\\u0627\\u062f\\u0648\\u0631 \\u0628\\u0647\\u062f\\u0641 \\u0646\\u0638\\u064a\\u0641\\u060c \\u0644\\u064a\\u0631\\u0641\\u0639 \\u0631\\u0635\\u064a\\u062f\\u0647 \\u0627\\u0644\\u064a  \\u0646\\u0642\\u0637\\u0647\\u060c \\u0644\\u064a\\u0646\\u062a\\u0632\\u0639 \\u0627\\u0644\\u0645\\u0631\\u0643\\u0632 \\u0627\\u0644\\u062b\\u0627\\u0644\\u062b \\u0645\\u0646 \\u0645\\u0646\\u062a\\u062e\\u0628 \\u0643\\u0648\\u0633\\u062a\\u0627\\u0631\\u064a\\u0643\\u0627 \\u0628\\u0641\\u0627\\u0631\\u0642 \\u0627\\u0644\\u0627\\u0647\\u062f\\u0627\\u0641\\u060c \\u0628\\u064a\\u0646\\u0645\\u0627 \\u062a\\u0631\\u0627\\u062c\\u0639 \\u0627\\u0644\\u0627\\u062e\\u064a\\u0631 \\u0627\\u0644\\u064a \\u0627\\u0644\\u0645\\u0631\\u0643\\u0632 \\u0627\\u0644\\u0631\\u0627\\u0628\\u0639 \\u0644\\u064a\\u062e\\u0648\\u0636 \\u0645\\u0628\\u0627\\u0631\\u0627\\u0647 \\u0627\\u0644\\u0645\\u0644\\u062d\\u0642 \\u0627\\u0645\\u0627\\u0645 \\u0627\\u0648\\u0631\\u0648\\u063a\\u0648\\u0627\\u064a \\u0641\\u064a \\u0646\\u0648\\u0641\\u0645\\u0628\\u0631/ \\u062a\\u0634\\u0631\\u064a\\u0646 \\u0627\\u0644\\u062b\\u0627\\u0646\\u064a \\u0627\\u0644\\u0645\\u0642\\u0628\\u0644. \\u0648\\u0643\\u0627\\u0646 \\u0645\\u0646\\u062a\\u062e\\u0628 \\u0643\\u0648\\u0633\\u062a\\u0627\\u0631\\u064a\\u0643\\u0627 \\u0642\\u0631\\u064a\\u0628\\u0627 \\u0645\\u0646 \\u0627\\u0644\\u062a\\u0627\\u0647\\u0644 \\u0627\\u0644\\u064a \\u0627\\u0644\\u0645\\u0648\\u0646\\u062f\\u064a\\u0627\\u0644 \\u0645\\u0628\\u0627\\u0634\\u0631\\u0647\\u060c \\u0628\\u0639\\u062f \\u062a\\u0642\\u062f\\u0645\\u0647 \\u0639\\u0644\\u064a \\u0645\\u0636\\u064a\\u0641\\u0647 \\u0627\\u0644\\u0648\\u0644\\u0627\\u064a\\u0627\\u062a \\u0627\\u0644\\u0645\\u062a\\u062d\\u062f\\u0647 \\u0627\\u0644\\u0627\\u0645\\u0631\\u064a\\u0643\\u064a\\u0647 \\u0628\\u0647\\u062f\\u0641\\u064a\\u0646 \\u0646\\u0638\\u064a\\u0641\\u064a\\u0646\\u060c \\u0639\\u0646 \\u0637\\u0631\\u064a\\u0642 \\u0628\\u0631\\u0627\\u064a\\u0646 \\u0631\\u0648\\u064a\\u0632 \\u063a\\u0648\\u0646\\u0632\\u0627\\u0644\\u064a\\u0632 \\u0641\\u064a \\u0627\\u0644\\u062f\\u0642\\u064a\\u0642\\u062a\\u064a\\u0646  \\u0648\\u060c \\u0627\\u0644\\u0627 \\u0627\\u0644\\u0645\\u0646\\u062a\\u062e\\u0628 \\u0627\\u0644\\u0627\\u0645\\u0631\\u064a\\u0643\\u064a\\u060c \\u0646\\u062c\\u062d \\u0641\\u064a \\u062a\\u0642\\u0644\\u064a\\u0635 \\u0627\\u0644\\u0641\\u0627\\u0631\\u0642 \\u0628\\u0647\\u062f\\u0641 \\u0644\\u0645\\u0627\\u064a\\u0643\\u0644 \\u0628\\u0631\\u0627\\u062f\\u0644\\u064a \\u0641\\u064a \\u0627\\u0644\\u062f\\u0642\\u064a\\u0642\\u0647 \\u060c \\u062b\\u0645 \\u0627\\u062f\\u0631\\u0643 \\u0628\\u0648\\u0631\\u0646\\u0634\\u062a\\u0627\\u064a\\u0646 \\u0627\\u0644\\u062a\\u0639\\u0627\\u062f\\u0644 \\u0644\\u0644\\u0627\\u0645\\u0631\\u064a\\u0643\\u064a\\u0646 \\u0641\\u064a \\u0627\\u0644\\u062f\\u0642\\u064a\\u0642\\u0647 \\u0627\\u0644\\u0627\\u062e\\u064a\\u0631\\u0647. \\u0648\\u064a\\u062a\\u0635\\u062f\\u0631 \\u0627\\u0644\\u0645\\u0646\\u062a\\u062e\\u0628 \\u0627\\u0644\\u0627\\u0645\\u0631\\u064a\\u0643\\u064a \\u0627\\u0644\\u0645\\u062c\\u0645\\u0648\\u0639\\u0647 \\u0628\\u0631\\u0635\\u064a\\u062f  \\u0646\\u0642\\u0637\\u0647\\u060c \\u064a\\u0644\\u064a\\u0647 \\u0645\\u0646\\u062a\\u062e\\u0628 \\u0627\\u0644\\u0645\\u0643\\u0633\\u064a\\u0643\\u060c \\u0627\\u0644\\u0630\\u064a \\u0646\\u062c\\u062d \\u0641\\u064a \\u0627\\u0644\\u0627\\u062d\\u062a\\u0641\\u0627\\u0638 \\u0628\\u0645\\u0631\\u0643\\u0632\\u0647\\u060c \\u0628\\u0639\\u062f \\u062a\\u0639\\u0627\\u062f\\u0644\\u0647 \\u0645\\u0639 \\u0645\\u0636\\u064a\\u0641\\u0647 \\u062a\\u0631\\u064a\\u0646\\u062f\\u0627\\u062f \\u0648\\u062a\\u0648\\u0628\\u0627\\u063a\\u0648 \\u0628\\u0647\\u062f\\u0641\\u064a\\u0646 \\u0644\\u0643\\u0644 \\u0645\\u0646\\u0647\\u0645\\u0627\\u060c \\u0641\\u064a \\u0645\\u0646\\u0627\\u0641\\u0633\\u0627\\u062a \\u0627\\u0644\\u062c\\u0648\\u0644\\u0647 \\u0627\\u0644\\u0639\\u0627\\u0634\\u0631\\u0647 \\u0648\\u0627\\u0644\\u0627\\u062e\\u064a\\u0631\\u0647 \\u0645\\u0646 \\u0627\\u0644\\u062a\\u0635\\u0641\\u064a\\u0627\\u062a. \\u0631\\u0648\\u0627\\u0628\\u0637 \\u0630\\u0627\\u062a \\u0639\\u0644\\u0627\\u0642\\u0647 \\u0645\\u0635\\u0631 \\u0648\\u0627\\u0644\\u062c\\u0632\\u0627\\u0621\\u0631 \\u0641\\u064a \\\"\\u062d\\u0633\\u0628\\u0647 \\u0628\\u0631\\u0645\\u0627\\\".. \\u0648\\u0627\\u0644\\u062d\\u0644 \\u0631\\u0628\\u0645\\u0627 \\u0645\\u0628\\u0627\\u0631\\u0627\\u0647 \\u0641\\u0627\\u0635\\u0644\\u0647 \\u062a\\u0635\\u0641\\u064a\\u0627\\u062a \\u0627\\u0644\\u0645\\u0648\\u0646\\u062f\\u064a\\u0627\\u0644: \\u0645\\u0647\\u0645\\u0647 \\u0645\\u0633\\u062a\\u062d\\u064a\\u0644\\u0647 \\u0644\\u0644\\u0628\\u062d\\u0631\\u064a\\u0646.. \\u0648\\u062e\\u0631\\u0648\\u062c \\u0627\\u0644\\u0645\\u063a\\u0631\\u0628 \\u0628\\u0631\\u0634\\u0644\\u0648\\u0646\\u0647 \\u064a\\u0636\\u0645\\u0646 \\u062a\\u0648\\u0627\\u062c\\u062f  \\u0645\\u0646 \\u0644\\u0627\\u0639\\u0628\\u064a\\u0647 \\u0628\\u0643\\u0627\\u0633 \\u0627\\u0644\\u0639\\u0627\\u0644\\u0645 \\u0648 \\u0628\\u0627\\u0644\\u0627\\u0646\\u062a\\u0638\\u0627\\u0631 \\u0627\\u0645\\u0627 \\u0641\\u064a \\u0627\\u0644\\u0642\\u0627\\u0631\\u0647 \\u0627\\u0644\\u0627\\u0648\\u0631\\u0648\\u0628\\u064a\\u0647\\u060c \\u0641\\u0642\\u062f \\u0627\\u0633\\u0641\\u0631\\u062a \\u0627\\u0644\\u062c\\u0648\\u0644\\u0647 \\u0627\\u0644\\u0627\\u062e\\u064a\\u0631\\u0647 \\u0645\\u0646 \\u0627\\u0644\\u062a\\u0635\\u0641\\u064a\\u0627\\u062a \\u0627\\u0644\\u062a\\u064a \\u062c\\u0631\\u062a \\u0628\\u0645\\u0634\\u0627\\u0631\\u0643\\u0647  \\u0645\\u0646\\u062a\\u062e\\u0628\\u0627 \\u0645\\u0648\\u0632\\u0639\\u0647 \\u0639\\u0644\\u064a \\u062a\\u0633\\u0639 \\u0645\\u062c\\u0645\\u0648\\u0639\\u0627\\u062a\\u060c \\u0639\\u0646 \\u062a\\u0627\\u0647\\u0644 \\u062a\\u0633\\u0639\\u0647 \\u0645\\u0646\\u062a\\u062e\\u0628\\u0627\\u062a \\u0645\\u0628\\u0627\\u0634\\u0631\\u0647 \\u0627\\u0644\\u064a \\u0627\\u0644\\u0645\\u0648\\u0646\\u062f\\u064a\\u0627\\u0644\\u060c \\u0628\\u0639\\u062f\\u0645\\u0627 \\u0627\\u062d\\u062a\\u0644\\u062a \\u0635\\u062f\\u0627\\u0631\\u0647 \\u0645\\u062c\\u0645\\u0648\\u0639\\u0627\\u062a\\u0647\\u0627\\u060c \\u0628\\u064a\\u0646\\u0645\\u0627 \\u0633\\u062a\\u062e\\u0648\\u0636 \\u062b\\u0645\\u0627\\u0646\\u064a\\u0647 \\u0645\\u0646\\u062a\\u062e\\u0628\\u0627\\u062a \\u0627\\u0644\\u0645\\u0644\\u062d\\u0642 \\u0627\\u0644\\u0627\\u0648\\u0631\\u0648\\u0628\\u064a\\u060c \\u0644\\u062d\\u0633\\u0645 \\u0627\\u062e\\u0631 \\u0627\\u0631\\u0628\\u0639 \\u0628\\u0637\\u0627\\u0642\\u0627\\u062a \\u062a\\u0627\\u0647\\u0644 \\u0639\\u0646 \\u0627\\u0644\\u0642\\u0627\\u0631\\u0647 \\u0627\\u0644\\u0639\\u062c\\u0648\\u0632. \\u0641\\u0641\\u064a \\u0627\\u0644\\u0645\\u062c\\u0645\\u0648\\u0639\\u0647 \\u0627\\u0644\\u0627\\u0648\\u0644\\u064a\\u060c \\u062a\\u0644\\u0642\\u064a \\u0645\\u0646\\u062a\\u062e\\u0628 \\u0627\\u0644\\u062f\\u0646\\u0645\\u0627\\u0631\\u0643\\u060c \\u0645\\u062a\\u0635\\u062f\\u0631 \\u0627\\u0644\\u0645\\u062c\\u0645\\u0648\\u0639\\u0647 \\u0648\\u0627\\u0644\\u0630\\u064a \\u0636\\u0645\\u0646 \\u062a\\u0627\\u0647\\u0644\\u0647 \\u0644\\u0644\\u0645\\u0648\\u0646\\u062f\\u064a\\u0627\\u0644 \\u0645\\u0646 \\u0627\\u0644\\u062c\\u0648\\u0644\\u0647 \\u0627\\u0644\\u0633\\u0627\\u0628\\u0642\\u0647\\u060c \\u0647\\u0632\\u064a\\u0645\\u0647 \\\"\\u063a\\u064a\\u0631 \\u0645\\u0621\\u062b\\u0631\\u0647\\\" \\u0639\\u0644\\u064a \\u0627\\u0631\\u0636\\u0647 \\u0627\\u0645\\u0627\\u0645 \\u0636\\u064a\\u0641\\u0647 \\u0627\\u0644\\u0645\\u0646\\u062a\\u062e\\u0628 \\u0627\\u0644\\u0645\\u062c\\u0631\\u064a\\u060c \\u0628\\u0647\\u062f\\u0641 \\u062f\\u0648\\u0646 \\u0631\\u062f\\u060c \\u0628\\u064a\\u0646\\u0645\\u0627 \\u0646\\u062c\\u062d \\u0645\\u0646\\u062a\\u062e\\u0628 \\u0627\\u0644\\u0628\\u0631\\u062a\\u063a\\u0627\\u0644 \\u0641\\u064a \\u0627\\u0644\\u0627\\u062d\\u062a\\u0641\\u0627\\u0638 \\u0628\\u0627\\u0644\\u0645\\u0631\\u0643\\u0632 \\u0627\\u0644\\u062b\\u0627\\u0646\\u064a \\u0628\\u0640 \\u0646\\u0642\\u0637\\u0647\\u060c \\u0648\\u0627\\u0644\\u062a\\u0627\\u0647\\u0644 \\u0644\\u0644\\u0645\\u0644\\u062d\\u0642 \\u0627\\u0644\\u0627\\u0648\\u0631\\u0648\\u0628\\u064a\\u060c \\u0628\\u0641\\u0648\\u0632 \\u0643\\u0628\\u064a\\u0631 \\u0639\\u0644\\u064a \\u0645\\u0627\\u0644\\u0637\\u0647 \\u0628\\u0627\\u0631\\u0628\\u0639\\u0647 \\u0627\\u0647\\u062f\\u0627\\u0641 \\u0646\\u0638\\u064a\\u0641\\u0647\\u060c \\u0641\\u064a \\u0627\\u0644\\u0648\\u0642\\u062a \\u0627\\u0644\\u0630\\u064a \\u0641\\u0627\\u0632 \\u0641\\u064a\\u0647 \\u0645\\u0646\\u062a\\u062e\\u0628 \\u0627\\u0644\\u0633\\u0648\\u064a\\u062f \\u0639\\u0644\\u064a \\u0627\\u0644\\u0628\\u0627\\u0646\\u064a\\u0627 \\u0628\\u0627\\u0631\\u0628\\u0639\\u0647 \\u0627\\u0647\\u062f\\u0627\\u0641 \\u0644\\u0648\\u0627\\u062d\\u062f. \\u0648\\u0641\\u064a \\u0627\\u0644\\u0645\\u062c\\u0645\\u0648\\u0639\\u0647 \\u0627\\u0644\\u062b\\u0627\\u0646\\u064a\\u0647\\u060c \\u0639\\u0632\\u0632 \\u0627\\u0644\\u0645\\u0646\\u062a\\u062e\\u0628 \\u0627\\u0644\\u0633\\u0648\\u064a\\u0633\\u0631\\u064a \\u0635\\u062f\\u0627\\u0631\\u062a\\u0647 \\u0644\\u064a\\u062a\\u0627\\u0647\\u0644 \\u0645\\u0628\\u0627\\u0634\\u0631\\u0647 \\u0627\\u0644\\u064a \\u062c\\u0646\\u0648\\u0628 \\u0627\\u0641\\u0631\\u064a\\u0642\\u064a\\u0627\\u060c \\u0631\\u063a\\u0645 \\u062a\\u0639\\u0627\\u062f\\u0644\\u0647 \\u0633\\u0644\\u0628\\u064a\\u0627 \\u0645\\u0639 \\u0636\\u064a\\u0641\\u0647 \\u0645\\u0646\\u062a\\u062e\\u0628 \\u0627\\u0633\\u0631\\u0627\\u0621\\u064a\\u0644\\u060c \\u0648\\u0646\\u062c\\u062d \\u0645\\u0646\\u062a\\u062e\\u0628 \\u0627\\u0644\\u064a\\u0648\\u0646\\u0627\\u0646 \\u0641\\u064a \\u062d\\u062c\\u0632 \\u0627\\u0644\\u0645\\u0631\\u0643\\u0632 \\u0627\\u0644\\u062b\\u0627\\u0646\\u064a \\u0648\\u0627\\u0644\\u062a\\u0627\\u0647\\u0644 \\u0644\\u0644\\u0645\\u0644\\u062d\\u0642\\u060c \\u0628\\u0639\\u062f \\u0641\\u0648\\u0632\\u0647 \\u0639\\u0644\\u064a \\u0636\\u064a\\u0641\\u0647 \\u0645\\u0646\\u062a\\u062e\\u0628 \\u0644\\u0648\\u0643\\u0633\\u0645\\u0628\\u0631\\u063a \\u0628\\u0647\\u062f\\u0641\\u064a\\u0646 \\u0644\\u0647\\u062f\\u0641\\u060c \\u0641\\u064a\\u0645\\u0627 \\u0641\\u0627\\u0632 \\u0645\\u0646\\u062a\\u062e\\u0628 \\u0644\\u0627\\u062a\\u0641\\u064a\\u0627 \\u0639\\u0644\\u064a \\u0645\\u0648\\u0644\\u062f\\u0648\\u0641\\u0627 \\u0628\\u062b\\u0644\\u0627\\u062b\\u0647 \\u0627\\u0647\\u062f\\u0627\\u0641 \\u0645\\u0642\\u0627\\u0628\\u0644 \\u0647\\u062f\\u0641\\u064a\\u0646. \\u0648\\u062a\\u0645\\u0643\\u0646 \\u0645\\u0646\\u062a\\u062e\\u0628 \\u0633\\u0644\\u0648\\u0641\\u0627\\u0643\\u064a\\u0627 \\u0645\\u0646 \\u0627\\u0644\\u062a\\u0627\\u0647\\u0644 \\u0644\\u0628\\u0637\\u0648\\u0644\\u0647 \\u0643\\u0627\\u0633 \\u0627\\u0644\\u0639\\u0627\\u0644\\u0645 \\u0644\\u0627\\u0648\\u0644 \\u0645\\u0631\\u0647 \\u0641\\u064a \\u062a\\u0627\\u0631\\u064a\\u062e\\u0647\\u060c \\u0628\\u0641\\u0648\\u0632\\u0647 \\u0639\\u0644\\u064a \\u0645\\u0636\\u064a\\u0641\\u0647 \\u0628\\u0648\\u0644\\u0646\\u062f\\u0627 \\u0628\\u0647\\u062f\\u0641 \\u062f\\u0648\\u0646 \\u0631\\u062f\\u060c \\u0644\\u064a\\u0639\\u0632\\u0632 \\u0635\\u062f\\u0627\\u0631\\u062a\\u0647 \\u0644\\u0644\\u0645\\u062c\\u0645\\u0648\\u0639\\u0647 \\u0627\\u0644\\u062b\\u0627\\u0644\\u062b\\u0647\\u060c \\u0628\\u064a\\u0646\\u0645\\u0627 \\u062c\\u0627\\u0621\\u062a \\u0633\\u0644\\u0648\\u0641\\u064a\\u0646\\u064a\\u0627 \\u0641\\u064a \\u0627\\u0644\\u0645\\u0631\\u0643\\u0632 \\u0627\\u0644\\u062b\\u0627\\u0646\\u064a \\u0628\\u0641\\u0648\\u0632 \\u0643\\u0628\\u064a\\u0631 \\u0639\\u0644\\u064a \\u0645\\u0636\\u064a\\u0641\\u062a\\u0647\\u0627 \\u0633\\u0627\\u0646 \\u0645\\u0627\\u0631\\u064a\\u0646\\u0648\\u060c \\u0628\\u062b\\u0644\\u0627\\u062b\\u064a\\u0647 \\u0646\\u0638\\u064a\\u0641\\u0647\\u060c \\u0641\\u064a\\u0645\\u0627 \\u062a\\u0639\\u0627\\u062f\\u0644\\u062a \\u0627\\u0644\\u062a\\u0634\\u064a\\u0643 \\u0648\\u0627\\u064a\\u0631\\u0644\\u0646\\u062f\\u0627 \\u0627\\u0644\\u0634\\u0645\\u0627\\u0644\\u064a\\u0647 \\u0633\\u0644\\u0628\\u064a\\u0627. \\u0627\\u0645\\u0627 \\u0641\\u064a \\u0627\\u0644\\u0645\\u062c\\u0645\\u0648\\u0639\\u0647 \\u0627\\u0644\\u0631\\u0627\\u0628\\u0639\\u0647\\u060c \\u0627\\u0644\\u062a\\u064a \\u062a\\u0627\\u0647\\u0644 \\u0639\\u0646\\u0647\\u0627 \\u0645\\u0646\\u062a\\u062e\\u0628 \\u0627\\u0644\\u0645\\u0627\\u0646\\u064a\\u0627 \\u0645\\u0628\\u0643\\u0631\\u0627\\u060c \\u0646\\u062c\\u0627 \\u0627\\u0635\\u062d\\u0627\\u0628 \\u0627\\u0644\\u0635\\u062f\\u0627\\u0631\\u0647 \\u0645\\u0646 \\u062a\\u0644\\u0642\\u064a \\u0647\\u0632\\u064a\\u0645\\u0647 \\u0639\\u0644\\u064a \\u0645\\u0644\\u0639\\u0628\\u0647\\u0645 \\u0627\\u0645\\u0627\\u0645 \\u0645\\u0646\\u062a\\u062e\\u0628 \\u0641\\u0646\\u0644\\u0646\\u062f\\u0627\\u060c \\u0627\\u0644\\u0630\\u064a \\u062a\\u0642\\u062f\\u0645 \\u0628\\u0647\\u062f\\u0641 \\u0641\\u064a \\u0627\\u0644\\u062f\\u0642\\u064a\\u0642\\u0647  \\u0645\\u0646 \\u0627\\u0644\\u0634\\u0648\\u0637 \\u0627\\u0644\\u0627\\u0648\\u0644\\u060c \\u0627\\u0644\\u0627 \\u0627\\u0646 \\u0644\\u0648\\u0643\\u0627\\u0633 \\u0628\\u0648\\u062f\\u0648\\u0644\\u0633\\u0643\\u064a \\u062a\\u0645\\u0643\\u0646 \\u0645\\u0646 \\u0627\\u062f\\u0631\\u0627\\u0643 \\u0627\\u0644\\u062a\\u0639\\u0627\\u062f\\u0644 \\u0644\\u0644\\u0627\\u0644\\u0645\\u0627\\u0646 \\u0641\\u064a \\u0627\\u0644\\u062f\\u0642\\u064a\\u0642\\u0647 \\u0627\\u0644\\u0627\\u062e\\u064a\\u0631\\u0647\\u060c \\u0648\\u062c\\u0627\\u0621 \\u0645\\u0646\\u062a\\u062e\\u0628 \\u0631\\u0648\\u0633\\u064a\\u0627 \\u0641\\u064a \\u0627\\u0644\\u0645\\u0631\\u0643\\u0632 \\u0627\\u0644\\u062b\\u0627\\u0646\\u064a\\u060c \\u0628\\u062a\\u0639\\u0627\\u062f\\u0644\\u0647 \\u0645\\u0639 \\u0645\\u0636\\u064a\\u0641\\u0647 \\u0627\\u0644\\u0627\\u0630\\u0631\\u0628\\u064a\\u062c\\u0627\\u0646\\u064a \\u0628\\u0647\\u062f\\u0641 \\u0644\\u0643\\u0644 \\u0645\\u0646\\u0647\\u0645\\u0627\\u060c \\u0641\\u064a\\u0645\\u0627 \\u0627\\u0646\\u062a\\u0647\\u062a \\u062b\\u0627\\u0644\\u062b \\u0645\\u0628\\u0627\\u0631\\u064a\\u0627\\u062a \\u0627\\u0644\\u0645\\u062c\\u0645\\u0648\\u0639\\u0647 \\u0628\\u0641\\u0648\\u0632 \\u0648\\u064a\\u0644\\u0632 \\u0639\\u0644\\u064a \\u0645\\u0636\\u064a\\u0641\\u062a\\u0647\\u0627 \\u0644\\u064a\\u0634\\u062a\\u0646\\u0634\\u062a\\u0627\\u064a\\u0646 \\u0628\\u0647\\u062f\\u0641\\u064a\\u0646 \\u0646\\u0638\\u064a\\u0641\\u064a\\u0646. \\u0643\\u0645\\u0627 \\u0648\\u0627\\u0635\\u0644 \\\"\\u0627\\u0644\\u0645\\u0627\\u062a\\u0627\\u062f\\u0648\\u0631\\\" \\u0627\\u0644\\u0627\\u0633\\u0628\\u0627\\u0646\\u064a \\u062d\\u0635\\u062f \\u062c\\u0645\\u064a\\u0639 \\u0627\\u0644\\u0646\\u0642\\u0627\\u0637\\u060c \\u0645\\u062d\\u0642\\u0642\\u0627 \\u0641\\u0648\\u0632\\u0647 \\u0627\\u0644\\u0639\\u0627\\u0634\\u0631 \\u0641\\u064a \\u0627\\u0637\\u0627\\u0631 \\u0627\\u0644\\u0645\\u062c\\u0645\\u0648\\u0639\\u0647 \\u0627\\u0644\\u062e\\u0627\\u0645\\u0633\\u0647\\u060c \\u0639\\u0644\\u064a \\u0645\\u0636\\u064a\\u0641\\u0647 \\u0627\\u0644\\u0628\\u0648\\u0633\\u0646\\u0647 \\u0648\\u0627\\u0644\\u0647\\u0631\\u0633\\u0643 \\u0628\\u062e\\u0645\\u0633\\u0647 \\u0627\\u0647\\u062f\\u0627\\u0641 \\u0645\\u0642\\u0627\\u0628\\u0644 \\u0647\\u062f\\u0641\\u064a\\u0646\\u060c \\u0648\\u0644\\u0645 \\u062a\\u0621\\u062b\\u0631 \\u0647\\u0632\\u064a\\u0645\\u0647 \\u0627\\u0644\\u0627\\u062e\\u064a\\u0631 \\u0639\\u0644\\u064a \\u062a\\u0631\\u062a\\u064a\\u0628\\u0647 \\u0641\\u064a \\u0627\\u0644\\u0645\\u0631\\u0643\\u0632 \\u0627\\u0644\\u062b\\u0627\\u0646\\u064a \\u0648\\u062a\\u0627\\u0647\\u0644\\u0647 \\u0644\\u0644\\u0645\\u0644\\u062d\\u0642\\u060c \\u0641\\u064a\\u0645\\u0627 \\u0641\\u0627\\u0632 \\u0645\\u0646\\u062a\\u062e\\u0628 \\u062a\\u0631\\u0643\\u064a\\u0627 \\u0639\\u0644\\u064a \\u0627\\u0631\\u0645\\u064a\\u0646\\u064a\\u0627 \\u0628\\u0647\\u062f\\u0641\\u064a\\u0646 \\u062f\\u0648\\u0646 \\u0631\\u062f\\u060c \\u0648\\u0627\\u0633\\u062a\\u0648\\u0646\\u064a\\u0627 \\u0639\\u0644\\u064a \\u0628\\u0644\\u062c\\u064a\\u0643\\u0627 \\u0628\\u0627\\u0644\\u0646\\u062a\\u064a\\u062c\\u0647 \\u0646\\u0641\\u0633\\u0647\\u0627. \\u0648\\u0639\\u0632\\u0632 \\u0645\\u0646\\u062a\\u062e\\u0628 \\u0627\\u0646\\u062c\\u0644\\u062a\\u0631\\u0627 \\u0635\\u062f\\u0627\\u0631\\u062a\\u0647 \\u0644\\u0644\\u0645\\u062c\\u0645\\u0648\\u0639\\u0647 \\u0627\\u0644\\u0633\\u0627\\u062f\\u0633\\u0647\\u060c \\u0628\\u062b\\u0644\\u0627\\u062b\\u064a\\u0647 \\u0646\\u0638\\u064a\\u0641\\u0647 \\u0641\\u064a \\u0645\\u0631\\u0645\\u064a \\u0636\\u064a\\u0641\\u0647 \\u0631\\u0648\\u0633\\u064a\\u0627 \\u0627\\u0644\\u0628\\u064a\\u0636\\u0627\\u0621\\u060c \\u0628\\u064a\\u0646\\u0645\\u0627 \\u062d\\u0642\\u0642 \\u0645\\u0646\\u062a\\u062e\\u0628 \\u0627\\u0648\\u0643\\u0631\\u0627\\u0646\\u064a\\u0627\\u060c \\u0635\\u0627\\u062d\\u0628 \\u0627\\u0644\\u0645\\u0631\\u0643\\u0632 \\u0627\\u0644\\u062b\\u0627\\u0646\\u064a\\u060c \\u0641\\u0648\\u0632\\u0627 \\u0643\\u0628\\u064a\\u0631\\u0627 \\u0639\\u0644\\u064a \\u0645\\u0636\\u064a\\u0641\\u0647 \\u0627\\u0646\\u062f\\u0648\\u0631\\u0627 \\u0628\\u0633\\u062f\\u0627\\u0633\\u064a\\u0647 \\u0646\\u0638\\u064a\\u0641\\u0647\\u060c \\u0641\\u064a\\u0645\\u0627 \\u0641\\u0627\\u0632\\u062a \\u0643\\u0631\\u0648\\u0627\\u062a\\u064a\\u0627 \\u0639\\u0644\\u064a \\u0645\\u0636\\u064a\\u0641\\u062a\\u0647\\u0627 \\u0643\\u0627\\u0632\\u0627\\u062e\\u0633\\u062a\\u0627\\u0646 \\u0628\\u0647\\u062f\\u0641\\u064a\\u0646 \\u0645\\u0642\\u0627\\u0628\\u0644 \\u0647\\u062f\\u0641. \\u0634\\u0647\\u062f\\u062a \\u0627\\u0644\\u0645\\u062c\\u0645\\u0648\\u0639\\u0647 \\u0627\\u0644\\u0633\\u0627\\u0628\\u0639\\u0647 \\u0645\\u0641\\u0627\\u062c\\u0627\\u0647 \\u063a\\u064a\\u0631 \\u0645\\u062a\\u0648\\u0642\\u0639\\u0647\\u060c \\u0627\\u0644\\u0627 \\u0627\\u0646\\u0647\\u0627 \\u0644\\u0645 \\u062a\\u0621\\u062b\\u0631 \\u0639\\u0644\\u064a \\u0627\\u0644\\u062a\\u0631\\u062a\\u064a\\u0628\\u060c \\u062d\\u064a\\u062b \\u062e\\u0633\\u0631 \\u0627\\u0644\\u0645\\u0646\\u062a\\u062e\\u0628 \\u0627\\u0644\\u0635\\u0631\\u0628\\u064a\\u060c \\u0635\\u0627\\u062d\\u0628 \\u0627\\u0644\\u0635\\u062f\\u0627\\u0631\\u0647\\u060c \\u0645\\u0628\\u0627\\u0631\\u0627\\u062a\\u0647 \\u0627\\u0644\\u0627\\u062e\\u064a\\u0631\\u0647 \\u0627\\u0645\\u0627\\u0645 \\u0645\\u0636\\u064a\\u0641\\u0647 \\u0644\\u064a\\u062a\\u0648\\u0627\\u0646\\u064a\\u0627 \\u0628\\u0647\\u062f\\u0641\\u064a\\u0646 \\u0644\\u0647\\u062f\\u0641\\u060c \\u0643\\u0645\\u0627 \\u062d\\u0642\\u0642 \\u0627\\u0644\\u0645\\u0646\\u062a\\u062e\\u0628 \\u0627\\u0644\\u0641\\u0631\\u0646\\u0633\\u064a\\u060c \\u0627\\u0644\\u0630\\u064a \\u0645\\u0627 \\u0632\\u0627\\u0644\\u062a \\u0627\\u0645\\u0627\\u0645\\u0647 \\u0641\\u0631\\u0635\\u0647 \\u0627\\u0644\\u062a\\u0627\\u0647\\u0644 \\u0639\\u0628\\u0631 \\u0627\\u0644\\u0645\\u0644\\u062d\\u0642\\u060c \\u0641\\u0648\\u0632\\u0627 \\u0645\\u0633\\u062a\\u062d\\u0642\\u0627 \\u0639\\u0644\\u064a \\u0627\\u0644\\u0646\\u0645\\u0633\\u0627 \\u0628\\u062b\\u0644\\u0627\\u062b\\u0647 \\u0627\\u0647\\u062f\\u0627\\u0641 \\u0644\\u0648\\u0627\\u062d\\u062f\\u060c \\u0641\\u064a\\u0645\\u0627 \\u0641\\u0627\\u0632\\u062a \\u0631\\u0648\\u0645\\u0627\\u0646\\u064a\\u0627 \\u0639\\u0644\\u064a \\u062c\\u0632\\u0631 \\u0641\\u0627\\u0631\\u0648\\u0647 \\u0628\\u062b\\u0644\\u0627\\u062b\\u0647 \\u0644\\u0648\\u0627\\u062d\\u062f. \\u0648\\u062d\\u0642\\u0642 \\u0627\\u0644\\u0645\\u0646\\u062a\\u062e\\u0628 \\u0627\\u0644\\u0627\\u064a\\u0637\\u0627\\u0644\\u064a \\u0641\\u0648\\u0632\\u0627 \\u0635\\u0639\\u0628\\u0627 \\u0639\\u0644\\u064a \\u0636\\u064a\\u0641\\u0647 \\u0627\\u0644\\u0642\\u0628\\u0631\\u0635\\u064a \\u0628\\u062b\\u0644\\u0627\\u062b\\u0647 \\u0627\\u0647\\u062f\\u0627\\u0641 \\u0644\\u0647\\u062f\\u0641\\u064a\\u0646\\u060c \\u0645\\u0639\\u0632\\u0632\\u0627 \\u0635\\u062f\\u0627\\u0631\\u062a\\u0647 \\u0644\\u0644\\u0645\\u062c\\u0645\\u0648\\u0639\\u0647 \\u0627\\u0644\\u062b\\u0627\\u0645\\u0646\\u0647\\u060c \\u0628\\u064a\\u0646\\u0645\\u0627 \\u062a\\u0639\\u0627\\u062f\\u0644 \\u0645\\u0646\\u062a\\u062e\\u0628 \\u0627\\u064a\\u0631\\u0644\\u0646\\u062f\\u0627\\u060c \\u0635\\u0627\\u062d\\u0628 \\u0627\\u0644\\u0645\\u0631\\u0643\\u0632 \\u0627\\u0644\\u062b\\u0627\\u0646\\u064a\\u060c \\u0633\\u0644\\u0628\\u064a\\u0627 \\u0645\\u0639 \\u0636\\u064a\\u0641\\u0647 \\u0627\\u0644\\u062c\\u0628\\u0644 \\u0627\\u0644\\u0627\\u0633\\u0648\\u062f\\u060c \\u0641\\u064a\\u0645\\u0627 \\u062d\\u0642\\u0642\\u062a \\u0628\\u0644\\u063a\\u0627\\u0631\\u064a\\u0627 \\u0641\\u0648\\u0632\\u0627 \\u0643\\u0628\\u064a\\u0631\\u0627 \\u0639\\u0644\\u064a \\u062c\\u0648\\u0631\\u062c\\u064a\\u0627 \\u0628\\u0633\\u062a\\u0647 \\u0627\\u0647\\u062f\\u0627\\u0641 \\u0645\\u0642\\u0627\\u0628\\u0644 \\u0647\\u062f\\u0641\\u064a\\u0646. \\u0648\\u0643\\u0627\\u0646 \\u0645\\u0646\\u062a\\u062e\\u0628 \\u0647\\u0648\\u0644\\u0646\\u062f\\u0627 \\u0642\\u062f \\u062a\\u0635\\u062f\\u0631 \\u0627\\u0644\\u0645\\u062c\\u0645\\u0648\\u0639\\u0647 \\u0627\\u0644\\u062a\\u0627\\u0633\\u0639\\u0647 \\u0648\\u0627\\u0644\\u0627\\u062e\\u064a\\u0631\\u0647\\u060c \\u0627\\u0644\\u062a\\u064a \\u062a\\u0636\\u0645 \\u062e\\u0645\\u0633\\u0647 \\u0645\\u0646\\u062a\\u062e\\u0628\\u0627\\u062a \\u0641\\u0642\\u0637\\u060c \\u0628\\u064a\\u0646\\u0645\\u0627 \\u0641\\u0634\\u0644 \\u0645\\u0646\\u062a\\u062e\\u0628 \\u0627\\u0644\\u0646\\u0631\\u0648\\u064a\\u062c \\u0641\\u064a \\u0627\\u0644\\u062a\\u0627\\u0647\\u0644 \\u0644\\u0644\\u0645\\u0644\\u062d\\u0642 \\u0627\\u0644\\u0627\\u0648\\u0631\\u0648\\u0628\\u064a\\u060c \\u062d\\u064a\\u062b \\u0627\\u062d\\u062a\\u0644\\u062a \\u0627\\u0644\\u0645\\u0631\\u0643\\u0632 \\u0627\\u0644\\u062b\\u0627\\u0646\\u064a \\u0628\\u0631\\u0635\\u064a\\u062f \\u0639\\u0634\\u0631 \\u0646\\u0642\\u0627\\u0637 \\u0645\\u0646 \\u062b\\u0645\\u0627\\u0646 \\u0645\\u0628\\u0627\\u0631\\u064a\\u0627\\u062a.\",\n          \". - \\u0627\\u0644\\u0634\\u0627\\u0631\\u0642\\u0647 \\u0627\\u0644\\u0627\\u0645\\u0627\\u0631\\u0627\\u062a\\u064a \\u064a\\u062a\\u0627\\u0647\\u0644 \\u0644\\u062f\\u0648\\u0631\\u064a \\u0627\\u0644\\u0645\\u062c\\u0645\\u0648\\u0639\\u0627\\u062a \\u0628\\u062f\\u0648\\u0631\\u064a \\u0627\\u0628\\u0637\\u0627\\u0644 \\u0627\\u0633\\u064a\\u0627  ( +:) - // \\u0627\\u0644\\u0634\\u0627\\u0631\\u0642\\u0647 \\u0627\\u0644\\u0627\\u0645\\u0627\\u0631\\u0627\\u062a\\u064a \\u064a\\u062a\\u0627\\u0647\\u0644 \\u0644\\u062f\\u0648\\u0631\\u064a \\u0627\\u0644\\u0645\\u062c\\u0645\\u0648\\u0639\\u0627\\u062a \\u0628\\u062f\\u0648\\u0631\\u064a \\u0627\\u0628\\u0637\\u0627\\u0644 \\u0627\\u0633\\u064a\\u0627 \\u0627\\u0631\\u062a\\u0641\\u0639 \\u0639\\u062f\\u062f \\u0627\\u0644\\u0641\\u0631\\u0642 \\u0627\\u0644\\u0627\\u0645\\u0627\\u0631\\u0627\\u062a\\u064a\\u0647 \\u0627\\u0644\\u0645\\u0634\\u0627\\u0631\\u0643\\u0647 \\u0641\\u064a \\u0627\\u0644\\u0628\\u0637\\u0648\\u0644\\u0647 \\u0627\\u0644\\u064a \\u0627\\u0631\\u0628\\u0639\\u0647 \\u0627\\u0644\\u0634\\u0627\\u0631\\u0642\\u0647\\u060c \\u0627\\u0644\\u0627\\u0645\\u0627\\u0631\\u0627\\u062a \\u0627\\u0644\\u0639\\u0631\\u0628\\u064a\\u0647 \\u0627\\u0644\\u0645\\u062a\\u062d\\u062f\\u0647 ( ) -- \\u062a\\u0627\\u0647\\u0644 \\u0641\\u0631\\u064a\\u0642 \\u0627\\u0644\\u0634\\u0627\\u0631\\u0642\\u0647 \\u0627\\u0644\\u0627\\u0645\\u0627\\u0631\\u0627\\u062a\\u064a \\u0644\\u062f\\u0648\\u0631\\u064a \\u0627\\u0644\\u0645\\u062c\\u0645\\u0648\\u0639\\u0627\\u062a \\u0644\\u0628\\u0637\\u0648\\u0644\\u0647 \\u062f\\u0648\\u0631\\u064a \\u0627\\u0644\\u0645\\u062d\\u062a\\u0631\\u0641\\u064a\\u0646 \\u0627\\u0644\\u0627\\u0633\\u064a\\u0648\\u064a \\u0628\\u0639\\u062f \\u062a\\u063a\\u0644\\u0628\\u0647 \\u0644\\u0627\\u0631\\u0628\\u0639\\u0627\\u0621 \\u0639\\u0644\\u064a \\u0636\\u064a\\u0641\\u0647 \\\"\\u062f\\u064a\\u0645\\u0628\\u0648\\\" \\u0627\\u0644\\u0647\\u0646\\u062f\\u064a \\u0628\\u062b\\u0644\\u0627\\u062b\\u0647 \\u0627\\u0647\\u062f\\u0627\\u0641 \\u062f\\u0648\\u0646 \\u0631\\u062f \\u0639\\u0644\\u064a \\u0633\\u062a\\u0627\\u062f \\u0627\\u0644\\u0634\\u0627\\u0631\\u0642\\u0647 \\u0641\\u064a \\u0627\\u0644\\u062f\\u0648\\u0631 \\u0627\\u0644\\u062a\\u0645\\u0647\\u064a\\u062f\\u064a \\u0627\\u0644\\u062b\\u0627\\u0646\\u064a \\u0644\\u062f\\u0648\\u0631\\u064a \\u0627\\u0628\\u0637\\u0627\\u0644 \\u0627\\u0633\\u064a\\u0627 . \\u0627\\u0646\\u0636\\u0645 \\u0641\\u0631\\u064a\\u0642 \\u0627\\u0644\\u0634\\u0627\\u0631\\u0642\\u0647 \\u0644\\u0641\\u0631\\u064a\\u0642 \\u0627\\u0644\\u0645\\u062c\\u0645\\u0648\\u0639\\u0647 \\u0627\\u0644\\u062b\\u0627\\u0646\\u064a\\u0647 \\u0641\\u064a \\u062f\\u0648\\u0631\\u064a \\u0627\\u0644\\u0645\\u062c\\u0645\\u0648\\u0639\\u0627\\u062a \\u0648\\u0627\\u0644\\u062a\\u064a \\u062a\\u0636\\u0645 \\u0641\\u0631\\u0642 \\u0628\\u064a\\u0631\\u0648\\u0632\\u064a \\u0627\\u0644\\u0627\\u064a\\u0631\\u0627\\u0646\\u064a \\u0648\\u0627\\u0644\\u063a\\u0631\\u0627\\u0641\\u0647 \\u0627\\u0644\\u0642\\u0637\\u0631\\u064a \\u0648\\u0627\\u0644\\u0634\\u0628\\u0627\\u0628 \\u0627\\u0644\\u0633\\u0639\\u0648\\u062f\\u064a \\u0648\\u0633\\u064a\\u0648\\u0627\\u062c\\u0647 \\u0627\\u0644\\u0634\\u0627\\u0631\\u0642\\u0647 \\u0628\\u0637\\u0644 \\u0627\\u064a\\u0631\\u0627\\u0646 \\u0641\\u064a \\u0627\\u0648\\u0644\\u064a \\u0645\\u0628\\u0627\\u0631\\u064a\\u0627\\u062a \\u062f\\u0648\\u0631\\u064a \\u0627\\u0644\\u0645\\u062c\\u0645\\u0648\\u0639\\u0627\\u062a \\u0641\\u064a \\u0627\\u0644\\u0639\\u0627\\u0634\\u0631 \\u0645\\u0646 \\u0645\\u0627\\u0631\\u0633 / \\u0627\\u0630\\u0627\\u0631 \\u0627\\u0644\\u0645\\u0642\\u0628\\u0644 \\u0628\\u0627\\u064a\\u0631\\u0627\\u0646. \\u0648\\u062a\\u0642\\u062f\\u0645 \\u0627\\u0644\\u0634\\u0627\\u0631\\u0642\\u0647 \\u0641\\u064a \\u0627\\u0644\\u0634\\u0648\\u0637 \\u0627\\u0644\\u0627\\u0648\\u0644 \\u0628\\u0647\\u062f\\u0641\\u064a \\u0627\\u0644\\u0645\\u0647\\u0627\\u062c\\u0645 \\u0627\\u0644\\u0628\\u0631\\u0627\\u0632\\u064a\\u0644\\u064a \\u0627\\u0646\\u062f\\u0631\\u0633\\u0648\\u0646 \\u0641\\u064a \\u0627\\u0644\\u062f\\u0642\\u064a\\u0642\\u0647 \\u0627\\u0644\\u0633\\u0627\\u0628\\u0639\\u0647 \\u0648\\u0645\\u0648\\u0627\\u0637\\u0646\\u0647 \\u062c\\u0627\\u0646 \\u0643\\u0627\\u0631\\u0644\\u0648\\u0633 \\u0641\\u064a \\u0627\\u0644\\u062f\\u0642\\u064a\\u0642\\u0647 \\u060c \\u062b\\u0645 \\u0627\\u0636\\u0627\\u0641 \\u0645\\u0648\\u0633\\u064a \\u0628\\u0644\\u0648\\u0634\\u064a \\u0627\\u0644\\u0647\\u062f\\u0641 \\u0627\\u0644\\u062b\\u0627\\u0644\\u062b \\u0641\\u064a \\u0627\\u0644\\u062f\\u0642\\u064a\\u0642\\u0647 . \\u0648\\u0631\\u0641\\u0639 \\u0627\\u0644\\u0634\\u0627\\u0631\\u0642\\u0647 \\u0628\\u062a\\u0627\\u0647\\u0644\\u0647 \\u0639\\u062f\\u062f \\u0627\\u0644\\u0641\\u0631\\u0642 \\u0627\\u0644\\u0627\\u0645\\u0627\\u0631\\u0627\\u062a\\u064a\\u0647 \\u0627\\u0644\\u0645\\u0634\\u0627\\u0631\\u0643\\u0647 \\u0641\\u064a \\u062f\\u0648\\u0631\\u064a \\u0627\\u0628\\u0637\\u0627\\u0644 \\u0627\\u0633\\u064a\\u0627 \\u0628\\u0646\\u0633\\u062e\\u062a\\u0647 \\u0627\\u0644\\u062c\\u062f\\u064a\\u062f\\u0647 \\u0627\\u0644\\u064a \\u0627\\u0631\\u0628\\u0639\\u0647 \\u0628\\u0639\\u062f \\u0627\\u0644\\u0627\\u0647\\u0644\\u064a \\u0648\\u0627\\u0644\\u062c\\u0632\\u064a\\u0631\\u0647 \\u0648\\u0627\\u0644\\u0634\\u0628\\u0627\\u0628. \\u0631\\u0648\\u0627\\u0628\\u0637 \\u0630\\u0627\\u062a \\u0639\\u0644\\u0627\\u0642\\u0647 \\u0643\\u0627\\u0633 \\u0627\\u0644\\u0627\\u062a\\u062d\\u0627\\u062f \\u0627\\u0644\\u0627\\u0633\\u064a\\u0648\\u064a: \\u0627\\u0644\\u0645\\u062d\\u0631\\u0642 \\u0627\\u0644\\u0628\\u062d\\u0631\\u064a\\u0646\\u064a \\u0628\\u0645\\u0648\\u0627\\u062c\\u0647\\u0647 \\u0627\\u0644\\u0641\\u064a\\u0635\\u0644\\u064a \\u0627\\u0644\\u0627\\u0631\\u062f\\u0646\\u064a \\u0645\\u0648\\u0627\\u062c\\u0647\\u0627\\u062a \\u062e\\u0644\\u064a\\u062c\\u064a\\u0647 \\\"\\u0633\\u0627\\u062e\\u0646\\u0647\\\" \\u0641\\u064a \\u062f\\u0648\\u0631\\u064a \\u0627\\u0628\\u0637\\u0627\\u0644 \\u0627\\u0633\\u064a\\u0627  \\u0648\\u0628\\u062f\\u0627 \\u0627\\u0644\\u0634\\u0627\\u0631\\u0642\\u0647 \\u0627\\u0644\\u0645\\u0628\\u0627\\u0631\\u0627\\u0647 \\u0628\\u0627\\u0646\\u062f\\u0641\\u0627\\u0639 \\u0647\\u062c\\u0648\\u0645\\u064a \\u0644\\u064a\\u0646\\u062c\\u062d \\u0641\\u064a \\u0627\\u0641\\u062a\\u062a\\u0627\\u062d \\u0627\\u0644\\u062a\\u0633\\u062c\\u064a\\u0644 \\u0628\\u0639\\u062f \\u0645\\u0631\\u0648\\u0631 \\u0633\\u0628\\u0639 \\u062f\\u0642\\u0627\\u0621\\u0642 \\u0639\\u0646\\u062f\\u0645\\u0627 \\u0627\\u0631\\u0633\\u0644 \\u0646\\u0648\\u0627\\u0641 \\u0645\\u0628\\u0627\\u0631\\u0643 \\u0636\\u0631\\u0628\\u0647 \\u062d\\u0631\\u0647 \\u0645\\u0646 \\u0627\\u0644\\u062c\\u0647\\u0647 \\u0627\\u0644\\u064a\\u0645\\u0646\\u064a \\u0648\\u0635\\u0644\\u062a \\u0627\\u0644\\u064a \\u0627\\u0646\\u062f\\u0631\\u0633\\u0648\\u0646 \\u0644\\u064a\\u0633\\u062f\\u062f \\u0641\\u064a \\u0627\\u0644\\u0645\\u0631\\u0645\\u064a. \\u0648\\u0627\\u0635\\u0644 \\u0627\\u0635\\u062d\\u0627\\u0628 \\u0627\\u0644\\u0627\\u0631\\u0636 \\u0645\\u062d\\u0627\\u0648\\u0644\\u0627\\u062a\\u0647\\u0645 \\u0627\\u0644\\u0647\\u062c\\u0648\\u0645\\u064a\\u0647 \\u0644\\u064a\\u0646\\u062c\\u062d \\u0643\\u0627\\u0631\\u0644\\u0648\\u0633 \\u0641\\u064a \\u0627\\u0636\\u0627\\u0641\\u0647 \\u0627\\u0644\\u0647\\u062f\\u0641 \\u0627\\u0644\\u062b\\u0627\\u0646\\u064a \\u0628\\u0627\\u0644\\u062f\\u0642\\u064a\\u0642\\u0647  \\u0628\\u0639\\u062f\\u0645\\u0627 \\u0627\\u0642\\u062a\\u062d\\u0645 \\u0645\\u0646\\u0637\\u0642\\u0647 \\u0627\\u0644\\u062c\\u0632\\u0627\\u0621 \\u0648\\u062a\\u062e\\u0644\\u0635 \\u0645\\u0646 \\u0633\\u0645\\u064a\\u0631 \\u0643\\u0648\\u062f\\u0627 \\u0648\\u0633\\u062f\\u062f \\u0643\\u0631\\u0647 \\u0644\\u0645 \\u064a\\u0646\\u062c\\u062d \\u0627\\u0644\\u062d\\u0627\\u0631\\u0633 \\u0627\\u0628\\u0647\\u064a\\u062c\\u064a\\u062a \\u0645\\u0648\\u0646\\u062f\\u0627\\u0644 \\u0641\\u064a \\u0627\\u0644\\u062a\\u0639\\u0627\\u0645\\u0644 \\u0645\\u0639\\u0647\\u0627\\u060c \\u0648\\u0641\\u0642\\u0627 \\u0644\\u0645\\u0648\\u0642\\u0639 \\u0627\\u0644\\u0627\\u062a\\u062d\\u0627\\u062f \\u0627\\u0644\\u0627\\u0633\\u064a\\u0648\\u064a \\u0644\\u0643\\u0631\\u0647 \\u0627\\u0644\\u0642\\u062f\\u0645. \\u0648\\u062a\\u0648\\u0627\\u0635\\u0644\\u062a \\u0633\\u064a\\u0637\\u0631\\u0647 \\u0627\\u0635\\u062d\\u0627\\u0628 \\u0627\\u0644\\u0627\\u0631\\u0636 \\u0641\\u064a \\u0627\\u0644\\u0634\\u0648\\u0637 \\u0627\\u0644\\u062b\\u0627\\u0646\\u064a \\u0644\\u064a\\u0646\\u062c\\u062d \\u0627\\u0644\\u0628\\u0644\\u0648\\u0634\\u064a \\u0628\\u0627\\u0636\\u0627\\u0641\\u0647 \\u0627\\u0644\\u0647\\u062f\\u0641 \\u0627\\u0644\\u062b\\u0627\\u0644\\u062b \\u0628\\u0643\\u0631\\u0647 \\u0631\\u0627\\u0633\\u064a\\u0647 \\u0627\\u062b\\u0631 \\u0627\\u0644\\u0636\\u0631\\u0628\\u0647 \\u0627\\u0644\\u0631\\u0643\\u0646\\u064a\\u0647 \\u0627\\u0644\\u062a\\u064a \\u0646\\u0641\\u0630\\u0647\\u0627 \\u0643\\u0627\\u0631\\u0644\\u0648\\u0633. \\u0648\\u0628\\u0639\\u062f \\u0630\\u0644\\u0643 \\u062a\\u062d\\u0633\\u0646 \\u0627\\u062f\\u0627\\u0621 \\u0627\\u0644\\u0641\\u0631\\u064a\\u0642 \\u0627\\u0644\\u0647\\u0646\\u062f\\u064a \\u0641\\u0633\\u062f\\u062f \\u0631\\u0627\\u0646\\u062a\\u064a \\u0645\\u0627\\u0631\\u062a\\u0646\\u0632 \\u0643\\u0631\\u0647 \\u0645\\u0646 \\u062f\\u0627\\u062e\\u0644 \\u0645\\u0646\\u0637\\u0642\\u0647 \\u0627\\u0644\\u062c\\u0632\\u0627\\u0621 \\u062a\\u0635\\u062f\\u064a \\u0644\\u0647\\u0627 \\u0631\\u0627\\u0634\\u062f \\u0627\\u062d\\u0645\\u062f \\u062d\\u0627\\u0631\\u0633 \\u0627\\u0644\\u0634\\u0627\\u0631\\u0642\\u0647 \\u0627\\u0644\\u0630\\u064a \\u0639\\u0627\\u062f \\u0644\\u064a\\u062a\\u0635\\u062f\\u064a \\u0644\\u0645\\u062d\\u0627\\u0648\\u0644\\u0647 \\u0627\\u0644\\u0628\\u0631\\u0627\\u0632\\u064a\\u0644\\u064a \\u0628\\u064a\\u062a\\u0648. \\u0648\\u0641\\u064a \\u0627\\u0644\\u062f\\u0642\\u0627\\u0621\\u0642 \\u0627\\u0644\\u0627\\u062e\\u064a\\u0631\\u0647 \\u0633\\u0646\\u062d\\u062a \\u0627\\u0644\\u0645\\u0632\\u064a\\u062f \\u0645\\u0646 \\u0627\\u0644\\u0641\\u0631\\u0635 \\u0644\\u0644\\u0627\\u0639\\u0628\\u064a \\u0627\\u0644\\u0634\\u0627\\u0631\\u0642\\u0647 \\u0645\\u0646 \\u0627\\u062c\\u0644 \\u0632\\u064a\\u0627\\u062f\\u0647 \\u0631\\u0635\\u064a\\u062f\\u0647\\u0645 \\u0645\\u0646 \\u0627\\u0644\\u0627\\u0647\\u062f\\u0627\\u0641 \\u0641\\u0627\\u0647\\u062f\\u0631 \\u0633\\u0627\\u0644\\u0645 \\u0633\\u064a\\u0641 \\u0641\\u0631\\u0635\\u0647 \\u0641\\u064a \\u0645\\u0648\\u0627\\u062c\\u0647\\u0647 \\u0627\\u0644\\u062d\\u0627\\u0631\\u0633\\u060c \\u062b\\u0645 \\u0633\\u062f\\u062f \\u0643\\u0627\\u0631\\u0644\\u0648\\u0633 \\u0643\\u0631\\u0647 \\u0633\\u064a\\u0637\\u0631 \\u0639\\u0644\\u064a\\u0647\\u0627 \\u0627\\u0644\\u062d\\u0627\\u0631\\u0633 \\u0645\\u0648\\u0646\\u062f\\u0627\\u0644. \\u0648\\u0628\\u062a\\u0627\\u0647\\u0644 \\u0627\\u0644\\u0634\\u0627\\u0631\\u0642\\u0647 \\u0644\\u062f\\u0648\\u0631\\u064a \\u0627\\u0644\\u0645\\u062c\\u0645\\u0648\\u0639\\u0627\\u062a \\u062a\\u0643\\u0648\\u0646 \\u0627\\u0644\\u0645\\u062c\\u0645\\u0648\\u0639\\u0627\\u062a \\u0627\\u0644\\u062b\\u0645\\u0627\\u0646\\u064a\\u0647 \\u0642\\u062f \\u0627\\u0643\\u062a\\u0645\\u0644\\u062a \\u0628\\u0639\\u062f \\u062a\\u0627\\u0647\\u0644 \\u0641\\u0631\\u064a\\u0642 \\u0627\\u0644\\u062c\\u064a\\u0634 \\u0627\\u0644\\u0633\\u0646\\u063a\\u0627\\u0641\\u0648\\u0631\\u064a \\u0627\\u0644\\u0630\\u064a \\u062a\\u063a\\u0644\\u0628 \\u0627\\u0644\\u0627\\u0631\\u0628\\u0639\\u0627\\u0621 \\u0639\\u0644\\u064a \\u0636\\u064a\\u0641\\u0647 \\\"\\u0645\\u064a\\u062f\\u0627\\u0646\\\" \\u0627\\u0644\\u0627\\u0646\\u062f\\u0648\\u0646\\u064a\\u0633\\u064a \\u0628\\u0647\\u062f\\u0641\\u064a\\u0646 \\u0644\\u0647\\u062f\\u0641\\u060c \\u0644\\u064a\\u0646\\u0636\\u0645 \\u0627\\u0644\\u064a \\u0627\\u0644\\u0645\\u062c\\u0645\\u0648\\u0639\\u0647 \\u0627\\u0644\\u0633\\u0627\\u0628\\u0639\\u0647 \\u0627\\u0644\\u062a\\u064a \\u062a\\u0636\\u0645 \\u0641\\u0631\\u0642 \\u0634\\u0646\\u063a\\u0647\\u0627\\u064a \\u0634\\u0646\\u0647\\u0648\\u0627 \\u0627\\u0644\\u0635\\u064a\\u0646\\u064a \\u0648\\u0633\\u0648\\u0646 \\u0633\\u0627\\u0645\\u0633\\u0646\\u063a \\u0628\\u0644\\u0648 \\u0648\\u064a\\u0646\\u063a\\u0631 \\u0628\\u0637\\u0644 \\u0643\\u0648\\u0631\\u064a\\u0627 \\u0627\\u0644\\u062c\\u0646\\u0648\\u0628\\u064a\\u0647 \\u0648\\u0643\\u0627\\u0634\\u064a\\u0645\\u0627 \\u0627\\u0646\\u062a\\u0644\\u0631\\u0632 \\u0627\\u0644\\u064a\\u0627\\u0628\\u0627\\u0646\\u064a. \\u0648\\u0643\\u0627\\u0646\\u062a \\u0642\\u0631\\u0639\\u0647 \\u0628\\u0637\\u0648\\u0644\\u0647 \\u062f\\u0648\\u0631\\u064a \\u0627\\u0628\\u0637\\u0627\\u0644 \\u0627\\u0633\\u064a\\u0627 \\u0642\\u062f \\u0627\\u0628\\u0639\\u062f\\u062a \\u062e\\u0645\\u0633\\u0647 \\u0641\\u0631\\u0642 \\u0627\\u0633\\u064a\\u0648\\u064a\\u0647 \\u0645\\u0646 \\u0627\\u0644\\u0645\\u062c\\u0645\\u0648\\u0639\\u0627\\u062a \\u0628\\u0646\\u0627\\u0621 \\u0639\\u0644\\u064a \\u062a\\u0635\\u0646\\u064a\\u0641 \\u0627\\u0644\\u0627\\u062a\\u062d\\u0627\\u062f \\u0627\\u0644\\u0627\\u0633\\u064a\\u0648\\u064a \\u0644\\u0643\\u0631\\u0647 \\u0627\\u0644\\u0642\\u062f\\u0645 \\u0648\\u0627\\u0644\\u0630\\u064a \\u064a\\u0639\\u062a\\u0645\\u062f \\u0639\\u0644\\u064a \\u062a\\u0627\\u0631\\u064a\\u062e \\u0643\\u0644 \\u0641\\u0631\\u064a\\u0642 \\u0648\\u0639\\u062f\\u062f \\u0645\\u0634\\u0627\\u0631\\u0643\\u0627\\u062a\\u0647 \\u0627\\u0644\\u0633\\u0627\\u0628\\u0642\\u0647 \\u0648\\u0628\\u0637\\u0648\\u0644\\u0627\\u062a\\u0647 \\u0648\\u0627\\u062c\\u0631\\u062a \\u062a\\u0635\\u0641\\u064a\\u0627\\u062a \\u0628\\u064a\\u0646 \\u0627\\u0644\\u0641\\u0631\\u0642 \\u0627\\u0644\\u062e\\u0645\\u0633\\u0647 \\u064a\\u0635\\u0639\\u062f \\u0645\\u0646\\u0647\\u0627 \\u0641\\u0631\\u064a\\u0642\\u064a\\u0646 \\u0644\\u062f\\u0648\\u0631\\u064a \\u0627\\u0644\\u0645\\u062c\\u0645\\u0648\\u0639\\u0627\\u062a.\",\n          \". - \\u0645\\u0627\\u0646 \\u064a\\u0648\\u0646\\u0627\\u064a\\u062a\\u062f \\u064a\\u062e\\u0637\\u0637 \\u0644\\u0634\\u0631\\u0627\\u0621 \\u0631\\u064a\\u0628\\u064a\\u0631\\u064a \\u0648\\u0628\\u0646\\u0632\\u064a\\u0645\\u0647 \\\"\\u0628\\u062b\\u0645\\u0646\\\" \\u0631\\u0648\\u0646\\u0627\\u0644\\u062f\\u0648  ( +:) - // \\u0645\\u0627\\u0646 \\u064a\\u0648\\u0646\\u0627\\u064a\\u062a\\u062f \\u064a\\u062e\\u0637\\u0637 \\u0644\\u0634\\u0631\\u0627\\u0621 \\u0631\\u064a\\u0628\\u064a\\u0631\\u064a \\u0648\\u0628\\u0646\\u0632\\u064a\\u0645\\u0647 \\\"\\u0628\\u062b\\u0645\\u0646\\\" \\u0631\\u0648\\u0646\\u0627\\u0644\\u062f\\u0648 \\u0641\\u064a\\u0631\\u063a\\u0633\\u0648\\u0646 \\u0648\\u0636\\u0639 \\u0645\\u062c\\u0645\\u0648\\u0639\\u0647 \\u0628\\u062f\\u0627\\u0621\\u0644 \\u0644\\u062a\\u0639\\u0648\\u064a\\u0636 \\u0631\\u0648\\u0646\\u0627\\u0644\\u062f\\u0648 \\u0644\\u0646\\u062f\\u0646\\u060c \\u0628\\u0631\\u064a\\u0637\\u0627\\u0646\\u064a\\u0627 ( )-- \\u0627\\u0641\\u0627\\u062f\\u062a \\u062a\\u0642\\u0627\\u0631\\u064a\\u0631 \\u0628\\u0627\\u0646 \\u0645\\u062f\\u0631\\u0628 \\u0641\\u0631\\u064a\\u0642 \\u0645\\u0627\\u0646\\u0634\\u0633\\u062a\\u0631 \\u064a\\u0648\\u0646\\u0627\\u064a\\u062a\\u062f \\u0627\\u0644\\u0627\\u0646\\u062c\\u0644\\u064a\\u0632\\u064a\\u060c \\u0627\\u0644\\u0633\\u064a\\u0631 \\u0627\\u0644\\u064a\\u0643\\u0633 \\u0641\\u064a\\u0631\\u063a\\u0633\\u0648\\u0646\\u060c \\u062d\\u0635\\u0644 \\u0639\\u0644\\u064a \\u062a\\u0641\\u0648\\u064a\\u0636 \\u0645\\u0646 \\u0627\\u062f\\u0627\\u0631\\u0647 \\u0627\\u0644\\u0646\\u0627\\u062f\\u064a \\u0644\\u0627\\u0646\\u0641\\u0627\\u0642  \\u0645\\u0644\\u064a\\u0648\\u0646 \\u062c\\u0646\\u064a\\u0647 \\u0627\\u0633\\u062a\\u0631\\u0644\\u064a\\u0646\\u064a ( \\u0645\\u0644\\u064a\\u0648\\u0646 \\u062f\\u0648\\u0644\\u0627\\u0631)\\u060c \\u0639\\u0644\\u064a \\u0627\\u0644\\u062a\\u0639\\u0627\\u0642\\u062f \\u0645\\u0639 \\u0644\\u0627\\u0639\\u0628\\u064a\\u0646 \\u062c\\u062f\\u062f\\u060c \\u0648\\u0630\\u0644\\u0643 \\u0628\\u0639\\u062f\\u0645\\u0627 \\u0627\\u0639\\u0637\\u064a \\u0627\\u0644\\u0645\\u062f\\u064a\\u0631 \\u0627\\u0644\\u0641\\u0646\\u064a \\u0627\\u0644\\u0636\\u0648\\u0621 \\u0627\\u0644\\u0627\\u062e\\u0636\\u0631 \\u0644\\u0644\\u0646\\u062c\\u0645 \\u0643\\u0631\\u064a\\u0633\\u062a\\u064a\\u0627\\u0646\\u0648 \\u0631\\u0648\\u0646\\u0627\\u0644\\u062f\\u0648 \\u0644\\u0644\\u062a\\u0641\\u0627\\u0648\\u0636 \\u0645\\u0639 \\u0631\\u064a\\u0627\\u0644 \\u0645\\u062f\\u0631\\u064a\\u062f \\u0627\\u0644\\u0627\\u0633\\u0628\\u0627\\u0646\\u064a. \\u0648\\u0644\\u0641\\u062a\\u062a \\u0627\\u0644\\u062a\\u0642\\u0627\\u0631\\u064a\\u0631 \\u0627\\u0644\\u064a \\u0627\\u0646 \\u0627\\u0644\\u0646\\u0627\\u062f\\u064a \\u0627\\u0644\\u0630\\u064a \\u0627\\u0639\\u0637\\u064a \\u0645\\u0648\\u0627\\u0641\\u0642\\u062a\\u0647 \\u0627\\u0644\\u062e\\u0645\\u064a\\u0633 \\u0639\\u0644\\u064a \\u0628\\u064a\\u0639 \\u0631\\u0648\\u0646\\u0627\\u0644\\u062f\\u0648 \\u0628\\u0645\\u0628\\u0644\\u063a  \\u0645\\u0644\\u064a\\u0648\\u0646 \\u062f\\u0648\\u0644\\u0627\\u0631\\u060c \\u062f\\u062e\\u0644 \\u0641\\u064a \\u0645\\u0646\\u0627\\u0641\\u0633\\u0647 \\u0634\\u0631\\u0633\\u0647 \\u0645\\u0639 \\u0646\\u0638\\u064a\\u0631\\u0647 \\u0627\\u0644\\u0627\\u0646\\u062c\\u0644\\u064a\\u0632\\u064a \\u062a\\u0634\\u064a\\u0644\\u0633\\u064a\\u060c \\u0644\\u0644\\u062a\\u0639\\u0627\\u0642\\u062f \\u0645\\u0639 \\u0627\\u0644\\u0641\\u0631\\u0646\\u0633\\u064a \\u0627\\u0644\\u062f\\u0648\\u0644\\u064a \\u0641\\u0631\\u0627\\u0646\\u0643 \\u0631\\u064a\\u0628\\u064a\\u0631\\u064a\\u060c \\u0646\\u062c\\u0645 \\u0628\\u0627\\u064a\\u0631\\u0646 \\u0645\\u064a\\u0648\\u0646\\u064a\\u062e\\u060c \\u0627\\u0644\\u0630\\u064a \\u0645\\u0646 \\u0627\\u0644\\u0645\\u062a\\u0648\\u0642\\u0639 \\u0627\\u0646 \\u064a\\u0635\\u0644 \\u0633\\u0639\\u0631\\u0647 \\u0627\\u0644\\u064a  \\u0645\\u0644\\u064a\\u0648\\u0646 \\u062c\\u0646\\u064a\\u0647 \\u0627\\u0633\\u062a\\u0631\\u0644\\u064a\\u0646\\u064a ( \\u0645\\u0644\\u0627\\u064a\\u0646 \\u062f\\u0648\\u0644\\u0627\\u0631). \\u0631\\u0648\\u0627\\u0628\\u0637 \\u0630\\u0627\\u062a \\u0639\\u0644\\u0627\\u0642\\u0647 \\u0628\\u0639\\u062f \\u0643\\u0627\\u0643\\u0627.. \\u0639\\u064a\\u0646 \\u0631\\u064a\\u0627\\u0644 \\u0645\\u062f\\u0631\\u064a\\u062f \\u0639\\u0644\\u064a \\u0631\\u0648\\u0646\\u0627\\u0644\\u062f\\u0648 \\u0648\\u0641\\u064a\\u0627 \\u0643\\u0631\\u064a\\u0633\\u062a\\u064a\\u0627\\u0646\\u0648 \\u0631\\u0648\\u0646\\u0627\\u0644\\u062f\\u0648 \\u0627\\u0644\\u064a \\u0631\\u064a\\u0627\\u0644 \\u0645\\u062f\\u0631\\u064a\\u062f \\u0645\\u0642\\u0627\\u0628\\u0644  \\u0645\\u0644\\u064a\\u0648\\u0646 \\u062f\\u0648\\u0644\\u0627\\u0631 \\u0628\\u0644\\u0627\\u062a\\u064a\\u0646\\u064a: \\u0635\\u0641\\u0642\\u0647 \\u0627\\u0646\\u062a\\u0642\\u0627\\u0644 \\u0631\\u0648\\u0646\\u0627\\u0644\\u062f\\u0648 \\u0644\\u0644\\u0631\\u064a\\u0627\\u0644 \\\"\\u062a\\u062a\\u062d\\u062f\\u064a \\u0627\\u0644\\u0644\\u0639\\u0628 \\u0627\\u0644\\u0646\\u0638\\u064a\\u0641\\\" \\u0643\\u0645\\u0627 \\u0642\\u0627\\u0645 \\u0641\\u064a\\u0631\\u063a\\u0633\\u0648\\u0646 \\u0628\\u0648\\u0636\\u0639 \\u0643\\u0631\\u064a\\u0645 \\u0628\\u0646\\u0632\\u064a\\u0645\\u0647\\u060c \\u0645\\u0647\\u0627\\u062c\\u0645 \\u0641\\u0631\\u064a\\u0642 \\u0644\\u064a\\u0648\\u0646 \\u0627\\u0644\\u0641\\u0631\\u0646\\u0633\\u064a\\u060c \\u0639\\u0644\\u064a \\u0642\\u0627\\u0621\\u0645\\u0647 \\u0627\\u0644\\u0645\\u0637\\u0644\\u0648\\u0628\\u064a\\u0646 \\u0644\\u0644\\u0646\\u0627\\u062f\\u064a \\u0627\\u0644\\u0627\\u0646\\u062c\\u0644\\u064a\\u0632\\u064a\\u060c \\u0646\\u0638\\u064a\\u0631  \\u0645\\u0644\\u064a\\u0648\\u0646 \\u062f\\u0648\\u0644\\u0627\\u0631\\u060c \\u0628\\u0627\\u0644\\u0627\\u0636\\u0627\\u0641\\u0647 \\u0627\\u0644\\u064a \\u0627\\u0646\\u0647 \\u064a\\u0627\\u0645\\u0644 \\u0641\\u064a \\u0627\\u0644\\u062a\\u0639\\u0627\\u0642\\u062f \\u0645\\u0639 \\u062c\\u0646\\u0627\\u062d \\u0648\\u064a\\u063a\\u0627\\u0646\\u060c \\u0627\\u0646\\u0637\\u0648\\u0646\\u064a\\u0648 \\u0641\\u0627\\u0644\\u064a\\u0646\\u0633\\u064a\\u0627\\u060c \\u0646\\u0638\\u064a\\u0631  \\u0645\\u0644\\u064a\\u0648\\u0646 \\u062f\\u0648\\u0644\\u0627\\u0631. \\u0648\\u0627\\u0648\\u0631\\u062f \\u0627\\u0644\\u0645\\u0648\\u0642\\u0639 \\u0627\\u0644\\u0627\\u0644\\u0643\\u062a\\u0631\\u0648\\u0646\\u064a \\u0627\\u0644\\u0631\\u0633\\u0645\\u064a \\u0644\\u0641\\u0631\\u064a\\u0642 \\u0645\\u0627\\u0646\\u0634\\u0633\\u062a\\u0631 \\u064a\\u0648\\u0646\\u0627\\u064a\\u062a\\u062f \\u0647\\u0630\\u0647 \\u0627\\u0644\\u0645\\u0639\\u0644\\u0648\\u0645\\u0627\\u062a \\u0646\\u0642\\u0644\\u0627 \\u0639\\u0646 \\u062a\\u0642\\u0627\\u0631\\u064a\\u0631 \\u0635\\u062d\\u0641\\u064a\\u0647 \\u0628\\u0631\\u064a\\u0637\\u0627\\u0646\\u064a\\u0647 \\u062f\\u0648\\u0646 \\u0627\\u0646 \\u064a\\u0646\\u0641\\u064a\\u0647\\u0627 \\u0627\\u0648 \\u064a\\u0621\\u0643\\u062f\\u0647\\u0627. \\u0648\\u0627\\u0646 \\u0643\\u0627\\u0646 \\u0642\\u062f \\u0627\\u0634\\u0627\\u0631 \\u0627\\u0644\\u064a \\u0627\\u0646 \\u0627\\u062f\\u0627\\u0631\\u0647 \\u0627\\u0644\\u0646\\u0627\\u062f\\u064a \\u0642\\u0631\\u0631\\u062a \\u0648\\u0636\\u0639 \\u0642\\u064a\\u0645\\u0647 \\u0627\\u0646\\u062a\\u0642\\u0627\\u0644 \\u0631\\u0648\\u0646\\u0627\\u0644\\u062f\\u0648\\u060c \\u0628\\u0627\\u0644\\u0627\\u0636\\u0627\\u0641\\u0647 \\u0627\\u0644\\u064a \\u0627\\u0644\\u0645\\u064a\\u0632\\u0627\\u0646\\u064a\\u0647 \\u0627\\u0644\\u0633\\u0646\\u0648\\u064a\\u0647 \\u0644\\u0644\\u062a\\u0639\\u0627\\u0642\\u062f\\u0627\\u062a\\u060c \\u0642\\u064a\\u062f \\u062a\\u0635\\u0631\\u0641 \\u0627\\u0644\\u062c\\u0647\\u0627\\u0632 \\u0627\\u0644\\u0641\\u0646\\u064a\\u060c \\u0644\\u0627\\u0628\\u0631\\u0627\\u0645 \\u0627\\u0644\\u062a\\u0639\\u0627\\u0642\\u062f\\u0627\\u062a \\u0627\\u0644\\u062c\\u062f\\u064a\\u062f\\u0647 \\u0641\\u064a \\u0627\\u0644\\u0635\\u064a\\u0641 \\u0627\\u0644\\u062c\\u0627\\u0631\\u064a. \\u0643\\u0645\\u0627 \\u0627\\u0634\\u0627\\u0631 \\u0627\\u0644\\u064a \\u0627\\u0646 \\u0627\\u0644\\u0627\\u0643\\u0648\\u0627\\u062f\\u0648\\u0631\\u064a \\u0641\\u0627\\u0644\\u064a\\u0646\\u0633\\u064a\\u0627\\u060c \\u0643\\u0627\\u0646 \\u0647\\u062f\\u0641\\u0627 \\u0644\\u0641\\u064a\\u0631\\u063a\\u0633\\u0648\\u0646 \\u0644\\u0641\\u062a\\u0631\\u0647 \\u0637\\u0648\\u064a\\u0644\\u0647\\u060c \\u0648\\u0627\\u0646\\u0647 \\u0642\\u062f \\u0627\\u0635\\u0628\\u062d \\u0639\\u0644\\u064a \\u0627\\u0639\\u062a\\u0627\\u0628 \\u0627\\u0644\\u0627\\u0646\\u062a\\u0642\\u0627\\u0644 \\u0627\\u0644\\u064a \\u0627\\u0648\\u0644\\u062f \\u062a\\u0631\\u0627\\u0641\\u0648\\u0631\\u062f\\u060c \\u0628\\u0627\\u0644\\u0627\\u0636\\u0627\\u0641\\u0647 \\u0627\\u0644\\u064a \\u0627\\u0646 \\u0645\\u0627\\u0646 \\u064a\\u0648\\u0646\\u0627\\u064a\\u062a\\u064a\\u062f \\u0644\\u0627 \\u064a\\u0632\\u0627\\u0644 \\u064a\\u062a\\u0641\\u0627\\u0648\\u0636 \\u0645\\u0639 \\u0627\\u0644\\u0645\\u0647\\u0627\\u062c\\u0645 \\u0627\\u0644\\u0627\\u0631\\u062c\\u0646\\u062a\\u064a\\u0646\\u064a \\u0643\\u0627\\u0631\\u0644\\u0648\\u0633 \\u062a\\u064a\\u0641\\u064a\\u0632\\u060c \\u0644\\u0643\\u064a \\u064a\\u0633\\u062a\\u0645\\u0631 \\u0645\\u0639 \\u0627\\u0644\\u0646\\u0627\\u062f\\u064a \\u0644\\u0641\\u062a\\u0631\\u0647 \\u0627\\u0637\\u0648\\u0644.\"\n        ],\n        \"semantic_type\": \"\",\n        \"description\": \"\"\n      }\n    }\n  ]\n}",
              "type": "dataframe"
            },
            "text/html": [
              "\n",
              "  <div id=\"df-a71994da-64ab-4b36-9387-bb3866b96f1c\" class=\"colab-df-container\">\n",
              "    <div>\n",
              "<style scoped>\n",
              "    .dataframe tbody tr th:only-of-type {\n",
              "        vertical-align: middle;\n",
              "    }\n",
              "\n",
              "    .dataframe tbody tr th {\n",
              "        vertical-align: top;\n",
              "    }\n",
              "\n",
              "    .dataframe thead th {\n",
              "        text-align: right;\n",
              "    }\n",
              "</style>\n",
              "<table border=\"1\" class=\"dataframe\">\n",
              "  <thead>\n",
              "    <tr style=\"text-align: right;\">\n",
              "      <th></th>\n",
              "      <th>category</th>\n",
              "      <th>Body</th>\n",
              "    </tr>\n",
              "  </thead>\n",
              "  <tbody>\n",
              "    <tr>\n",
              "      <th>424</th>\n",
              "      <td>Business</td>\n",
              "      <td>. - الاسوا مازال في انتظار اقتصاد الولايات الم...</td>\n",
              "    </tr>\n",
              "    <tr>\n",
              "      <th>2410</th>\n",
              "      <td>Science and Technology</td>\n",
              "      <td>. - اسءله واجوبه حول فيروس انفلونزا الخنازير  ...</td>\n",
              "    </tr>\n",
              "    <tr>\n",
              "      <th>4260</th>\n",
              "      <td>Middle East News</td>\n",
              "      <td>- الشرق الاوسط - بالصور: تفجيرات العراق الرءيس...</td>\n",
              "    </tr>\n",
              "    <tr>\n",
              "      <th>4261</th>\n",
              "      <td>Middle East News</td>\n",
              "      <td>- الشرق الاوسط - بالصور: تفجيرات العراق الرءيس...</td>\n",
              "    </tr>\n",
              "    <tr>\n",
              "      <th>4262</th>\n",
              "      <td>Middle East News</td>\n",
              "      <td>- الشرق الاوسط - بالصور: تفجيرات العراق الرءيس...</td>\n",
              "    </tr>\n",
              "    <tr>\n",
              "      <th>...</th>\n",
              "      <td>...</td>\n",
              "      <td>...</td>\n",
              "    </tr>\n",
              "    <tr>\n",
              "      <th>11199</th>\n",
              "      <td>Sport</td>\n",
              "      <td>- رياضه - دوري ابطال اوروبا: بايرن ميونيخ يصعق...</td>\n",
              "    </tr>\n",
              "    <tr>\n",
              "      <th>11200</th>\n",
              "      <td>Sport</td>\n",
              "      <td>- رياضه - دوري ابطال اوروبا : تعادل برشلونه وا...</td>\n",
              "    </tr>\n",
              "    <tr>\n",
              "      <th>11201</th>\n",
              "      <td>Sport</td>\n",
              "      <td>- رياضه - دوري ابطال اوروبا : تعادل برشلونه وا...</td>\n",
              "    </tr>\n",
              "    <tr>\n",
              "      <th>11202</th>\n",
              "      <td>Sport</td>\n",
              "      <td>- رياضه - دوري ابطال اوروبا: انتر ميلان يفوز ب...</td>\n",
              "    </tr>\n",
              "    <tr>\n",
              "      <th>11203</th>\n",
              "      <td>Sport</td>\n",
              "      <td>- رياضه - دوري ابطال اوروبا: انتر ميلان يفوز ب...</td>\n",
              "    </tr>\n",
              "  </tbody>\n",
              "</table>\n",
              "<p>1818 rows × 2 columns</p>\n",
              "</div>\n",
              "    <div class=\"colab-df-buttons\">\n",
              "\n",
              "  <div class=\"colab-df-container\">\n",
              "    <button class=\"colab-df-convert\" onclick=\"convertToInteractive('df-a71994da-64ab-4b36-9387-bb3866b96f1c')\"\n",
              "            title=\"Convert this dataframe to an interactive table.\"\n",
              "            style=\"display:none;\">\n",
              "\n",
              "  <svg xmlns=\"http://www.w3.org/2000/svg\" height=\"24px\" viewBox=\"0 -960 960 960\">\n",
              "    <path d=\"M120-120v-720h720v720H120Zm60-500h600v-160H180v160Zm220 220h160v-160H400v160Zm0 220h160v-160H400v160ZM180-400h160v-160H180v160Zm440 0h160v-160H620v160ZM180-180h160v-160H180v160Zm440 0h160v-160H620v160Z\"/>\n",
              "  </svg>\n",
              "    </button>\n",
              "\n",
              "  <style>\n",
              "    .colab-df-container {\n",
              "      display:flex;\n",
              "      gap: 12px;\n",
              "    }\n",
              "\n",
              "    .colab-df-convert {\n",
              "      background-color: #E8F0FE;\n",
              "      border: none;\n",
              "      border-radius: 50%;\n",
              "      cursor: pointer;\n",
              "      display: none;\n",
              "      fill: #1967D2;\n",
              "      height: 32px;\n",
              "      padding: 0 0 0 0;\n",
              "      width: 32px;\n",
              "    }\n",
              "\n",
              "    .colab-df-convert:hover {\n",
              "      background-color: #E2EBFA;\n",
              "      box-shadow: 0px 1px 2px rgba(60, 64, 67, 0.3), 0px 1px 3px 1px rgba(60, 64, 67, 0.15);\n",
              "      fill: #174EA6;\n",
              "    }\n",
              "\n",
              "    .colab-df-buttons div {\n",
              "      margin-bottom: 4px;\n",
              "    }\n",
              "\n",
              "    [theme=dark] .colab-df-convert {\n",
              "      background-color: #3B4455;\n",
              "      fill: #D2E3FC;\n",
              "    }\n",
              "\n",
              "    [theme=dark] .colab-df-convert:hover {\n",
              "      background-color: #434B5C;\n",
              "      box-shadow: 0px 1px 3px 1px rgba(0, 0, 0, 0.15);\n",
              "      filter: drop-shadow(0px 1px 2px rgba(0, 0, 0, 0.3));\n",
              "      fill: #FFFFFF;\n",
              "    }\n",
              "  </style>\n",
              "\n",
              "    <script>\n",
              "      const buttonEl =\n",
              "        document.querySelector('#df-a71994da-64ab-4b36-9387-bb3866b96f1c button.colab-df-convert');\n",
              "      buttonEl.style.display =\n",
              "        google.colab.kernel.accessAllowed ? 'block' : 'none';\n",
              "\n",
              "      async function convertToInteractive(key) {\n",
              "        const element = document.querySelector('#df-a71994da-64ab-4b36-9387-bb3866b96f1c');\n",
              "        const dataTable =\n",
              "          await google.colab.kernel.invokeFunction('convertToInteractive',\n",
              "                                                    [key], {});\n",
              "        if (!dataTable) return;\n",
              "\n",
              "        const docLinkHtml = 'Like what you see? Visit the ' +\n",
              "          '<a target=\"_blank\" href=https://colab.research.google.com/notebooks/data_table.ipynb>data table notebook</a>'\n",
              "          + ' to learn more about interactive tables.';\n",
              "        element.innerHTML = '';\n",
              "        dataTable['output_type'] = 'display_data';\n",
              "        await google.colab.output.renderOutput(dataTable, element);\n",
              "        const docLink = document.createElement('div');\n",
              "        docLink.innerHTML = docLinkHtml;\n",
              "        element.appendChild(docLink);\n",
              "      }\n",
              "    </script>\n",
              "  </div>\n",
              "\n",
              "\n",
              "<div id=\"df-dfdfb444-bf7f-4fda-8732-0920194cb8a7\">\n",
              "  <button class=\"colab-df-quickchart\" onclick=\"quickchart('df-dfdfb444-bf7f-4fda-8732-0920194cb8a7')\"\n",
              "            title=\"Suggest charts\"\n",
              "            style=\"display:none;\">\n",
              "\n",
              "<svg xmlns=\"http://www.w3.org/2000/svg\" height=\"24px\"viewBox=\"0 0 24 24\"\n",
              "     width=\"24px\">\n",
              "    <g>\n",
              "        <path d=\"M19 3H5c-1.1 0-2 .9-2 2v14c0 1.1.9 2 2 2h14c1.1 0 2-.9 2-2V5c0-1.1-.9-2-2-2zM9 17H7v-7h2v7zm4 0h-2V7h2v10zm4 0h-2v-4h2v4z\"/>\n",
              "    </g>\n",
              "</svg>\n",
              "  </button>\n",
              "\n",
              "<style>\n",
              "  .colab-df-quickchart {\n",
              "      --bg-color: #E8F0FE;\n",
              "      --fill-color: #1967D2;\n",
              "      --hover-bg-color: #E2EBFA;\n",
              "      --hover-fill-color: #174EA6;\n",
              "      --disabled-fill-color: #AAA;\n",
              "      --disabled-bg-color: #DDD;\n",
              "  }\n",
              "\n",
              "  [theme=dark] .colab-df-quickchart {\n",
              "      --bg-color: #3B4455;\n",
              "      --fill-color: #D2E3FC;\n",
              "      --hover-bg-color: #434B5C;\n",
              "      --hover-fill-color: #FFFFFF;\n",
              "      --disabled-bg-color: #3B4455;\n",
              "      --disabled-fill-color: #666;\n",
              "  }\n",
              "\n",
              "  .colab-df-quickchart {\n",
              "    background-color: var(--bg-color);\n",
              "    border: none;\n",
              "    border-radius: 50%;\n",
              "    cursor: pointer;\n",
              "    display: none;\n",
              "    fill: var(--fill-color);\n",
              "    height: 32px;\n",
              "    padding: 0;\n",
              "    width: 32px;\n",
              "  }\n",
              "\n",
              "  .colab-df-quickchart:hover {\n",
              "    background-color: var(--hover-bg-color);\n",
              "    box-shadow: 0 1px 2px rgba(60, 64, 67, 0.3), 0 1px 3px 1px rgba(60, 64, 67, 0.15);\n",
              "    fill: var(--button-hover-fill-color);\n",
              "  }\n",
              "\n",
              "  .colab-df-quickchart-complete:disabled,\n",
              "  .colab-df-quickchart-complete:disabled:hover {\n",
              "    background-color: var(--disabled-bg-color);\n",
              "    fill: var(--disabled-fill-color);\n",
              "    box-shadow: none;\n",
              "  }\n",
              "\n",
              "  .colab-df-spinner {\n",
              "    border: 2px solid var(--fill-color);\n",
              "    border-color: transparent;\n",
              "    border-bottom-color: var(--fill-color);\n",
              "    animation:\n",
              "      spin 1s steps(1) infinite;\n",
              "  }\n",
              "\n",
              "  @keyframes spin {\n",
              "    0% {\n",
              "      border-color: transparent;\n",
              "      border-bottom-color: var(--fill-color);\n",
              "      border-left-color: var(--fill-color);\n",
              "    }\n",
              "    20% {\n",
              "      border-color: transparent;\n",
              "      border-left-color: var(--fill-color);\n",
              "      border-top-color: var(--fill-color);\n",
              "    }\n",
              "    30% {\n",
              "      border-color: transparent;\n",
              "      border-left-color: var(--fill-color);\n",
              "      border-top-color: var(--fill-color);\n",
              "      border-right-color: var(--fill-color);\n",
              "    }\n",
              "    40% {\n",
              "      border-color: transparent;\n",
              "      border-right-color: var(--fill-color);\n",
              "      border-top-color: var(--fill-color);\n",
              "    }\n",
              "    60% {\n",
              "      border-color: transparent;\n",
              "      border-right-color: var(--fill-color);\n",
              "    }\n",
              "    80% {\n",
              "      border-color: transparent;\n",
              "      border-right-color: var(--fill-color);\n",
              "      border-bottom-color: var(--fill-color);\n",
              "    }\n",
              "    90% {\n",
              "      border-color: transparent;\n",
              "      border-bottom-color: var(--fill-color);\n",
              "    }\n",
              "  }\n",
              "</style>\n",
              "\n",
              "  <script>\n",
              "    async function quickchart(key) {\n",
              "      const quickchartButtonEl =\n",
              "        document.querySelector('#' + key + ' button');\n",
              "      quickchartButtonEl.disabled = true;  // To prevent multiple clicks.\n",
              "      quickchartButtonEl.classList.add('colab-df-spinner');\n",
              "      try {\n",
              "        const charts = await google.colab.kernel.invokeFunction(\n",
              "            'suggestCharts', [key], {});\n",
              "      } catch (error) {\n",
              "        console.error('Error during call to suggestCharts:', error);\n",
              "      }\n",
              "      quickchartButtonEl.classList.remove('colab-df-spinner');\n",
              "      quickchartButtonEl.classList.add('colab-df-quickchart-complete');\n",
              "    }\n",
              "    (() => {\n",
              "      let quickchartButtonEl =\n",
              "        document.querySelector('#df-dfdfb444-bf7f-4fda-8732-0920194cb8a7 button');\n",
              "      quickchartButtonEl.style.display =\n",
              "        google.colab.kernel.accessAllowed ? 'block' : 'none';\n",
              "    })();\n",
              "  </script>\n",
              "</div>\n",
              "\n",
              "    </div>\n",
              "  </div>\n"
            ],
            "text/plain": [
              "                     category  \\\n",
              "424                  Business   \n",
              "2410   Science and Technology   \n",
              "4260         Middle East News   \n",
              "4261         Middle East News   \n",
              "4262         Middle East News   \n",
              "...                       ...   \n",
              "11199                   Sport   \n",
              "11200                   Sport   \n",
              "11201                   Sport   \n",
              "11202                   Sport   \n",
              "11203                   Sport   \n",
              "\n",
              "                                                    Body  \n",
              "424    . - الاسوا مازال في انتظار اقتصاد الولايات الم...  \n",
              "2410   . - اسءله واجوبه حول فيروس انفلونزا الخنازير  ...  \n",
              "4260   - الشرق الاوسط - بالصور: تفجيرات العراق الرءيس...  \n",
              "4261   - الشرق الاوسط - بالصور: تفجيرات العراق الرءيس...  \n",
              "4262   - الشرق الاوسط - بالصور: تفجيرات العراق الرءيس...  \n",
              "...                                                  ...  \n",
              "11199  - رياضه - دوري ابطال اوروبا: بايرن ميونيخ يصعق...  \n",
              "11200  - رياضه - دوري ابطال اوروبا : تعادل برشلونه وا...  \n",
              "11201  - رياضه - دوري ابطال اوروبا : تعادل برشلونه وا...  \n",
              "11202  - رياضه - دوري ابطال اوروبا: انتر ميلان يفوز ب...  \n",
              "11203  - رياضه - دوري ابطال اوروبا: انتر ميلان يفوز ب...  \n",
              "\n",
              "[1818 rows x 2 columns]"
            ]
          },
          "execution_count": 24,
          "metadata": {},
          "output_type": "execute_result"
        }
      ],
      "source": [
        "df[df['Body'].duplicated() == True]"
      ]
    },
    {
      "cell_type": "code",
      "execution_count": 25,
      "metadata": {
        "execution": {
          "iopub.execute_input": "2024-05-07T21:34:29.638636Z",
          "iopub.status.busy": "2024-05-07T21:34:29.638318Z",
          "iopub.status.idle": "2024-05-07T21:34:29.651188Z",
          "shell.execute_reply": "2024-05-07T21:34:29.650307Z",
          "shell.execute_reply.started": "2024-05-07T21:34:29.638612Z"
        },
        "id": "VnxJc2dIenXK",
        "trusted": true
      },
      "outputs": [],
      "source": [
        "index = df[df['Body'].duplicated() == True].index\n",
        "df.drop(index, axis = 0, inplace = True)"
      ]
    },
    {
      "cell_type": "code",
      "execution_count": 26,
      "metadata": {
        "colab": {
          "base_uri": "https://localhost:8080/"
        },
        "execution": {
          "iopub.execute_input": "2024-05-07T21:34:29.652955Z",
          "iopub.status.busy": "2024-05-07T21:34:29.652526Z",
          "iopub.status.idle": "2024-05-07T21:34:29.660902Z",
          "shell.execute_reply": "2024-05-07T21:34:29.659817Z",
          "shell.execute_reply.started": "2024-05-07T21:34:29.652918Z"
        },
        "id": "jhh2W7tUenXK",
        "outputId": "c03bf4bd-efc3-4ef8-9fef-2f9774ca8b10",
        "trusted": true
      },
      "outputs": [
        {
          "data": {
            "text/plain": [
              "(9386, 2)"
            ]
          },
          "execution_count": 26,
          "metadata": {},
          "output_type": "execute_result"
        }
      ],
      "source": [
        "df.shape"
      ]
    },
    {
      "cell_type": "code",
      "execution_count": 27,
      "metadata": {
        "colab": {
          "base_uri": "https://localhost:8080/"
        },
        "execution": {
          "iopub.execute_input": "2024-05-07T21:34:29.663166Z",
          "iopub.status.busy": "2024-05-07T21:34:29.662295Z",
          "iopub.status.idle": "2024-05-07T21:34:29.676293Z",
          "shell.execute_reply": "2024-05-07T21:34:29.675331Z",
          "shell.execute_reply.started": "2024-05-07T21:34:29.66313Z"
        },
        "id": "VmKZJSLjenXL",
        "outputId": "d378f235-fdc9-4938-fb7d-9119c2f06f45",
        "trusted": true
      },
      "outputs": [
        {
          "data": {
            "text/plain": [
              "754"
            ]
          },
          "execution_count": 27,
          "metadata": {},
          "output_type": "execute_result"
        }
      ],
      "source": [
        "arabic_stopwords = stopwords.words(\"arabic\")\n",
        "len(arabic_stopwords)"
      ]
    },
    {
      "cell_type": "code",
      "execution_count": 28,
      "metadata": {
        "colab": {
          "base_uri": "https://localhost:8080/"
        },
        "execution": {
          "iopub.execute_input": "2024-05-07T21:34:29.677874Z",
          "iopub.status.busy": "2024-05-07T21:34:29.677503Z",
          "iopub.status.idle": "2024-05-07T21:34:30.601636Z",
          "shell.execute_reply": "2024-05-07T21:34:30.600689Z",
          "shell.execute_reply.started": "2024-05-07T21:34:29.677849Z"
        },
        "id": "9wh0A8H6enXL",
        "outputId": "8f575468-7122-4112-a9f5-173f482009d9",
        "trusted": true
      },
      "outputs": [
        {
          "data": {
            "text/plain": [
              "stop_words\n",
              "21     441\n",
              "19     440\n",
              "20     433\n",
              "22     430\n",
              "17     405\n",
              "      ... \n",
              "65       1\n",
              "79       1\n",
              "100      1\n",
              "99       1\n",
              "63       1\n",
              "Name: count, Length: 72, dtype: int64"
            ]
          },
          "execution_count": 28,
          "metadata": {},
          "output_type": "execute_result"
        }
      ],
      "source": [
        "df['stop_words'] = df['Body'].apply(lambda x: len(set(x.split()) & set(arabic_stopwords)))\n",
        "df.stop_words.value_counts()"
      ]
    },
    {
      "cell_type": "code",
      "execution_count": 29,
      "metadata": {
        "colab": {
          "base_uri": "https://localhost:8080/"
        },
        "execution": {
          "iopub.execute_input": "2024-05-07T21:34:30.603053Z",
          "iopub.status.busy": "2024-05-07T21:34:30.602741Z",
          "iopub.status.idle": "2024-05-07T21:34:30.612201Z",
          "shell.execute_reply": "2024-05-07T21:34:30.611227Z",
          "shell.execute_reply.started": "2024-05-07T21:34:30.603028Z"
        },
        "id": "3DLnYcbmenXL",
        "outputId": "21167b1f-8992-4bc3-ba69-c03fec3da954",
        "trusted": true
      },
      "outputs": [
        {
          "data": {
            "text/plain": [
              "category\n",
              "Middle East News          2410\n",
              "World                     2203\n",
              "Business                  1735\n",
              "Science and Technology    1360\n",
              "Sport                      912\n",
              "Entertainment              766\n",
              "Name: count, dtype: int64"
            ]
          },
          "execution_count": 29,
          "metadata": {},
          "output_type": "execute_result"
        }
      ],
      "source": [
        " df['category'].value_counts()"
      ]
    },
    {
      "cell_type": "code",
      "execution_count": 30,
      "metadata": {
        "colab": {
          "base_uri": "https://localhost:8080/",
          "height": 424
        },
        "execution": {
          "iopub.execute_input": "2024-05-07T21:34:30.614061Z",
          "iopub.status.busy": "2024-05-07T21:34:30.61373Z",
          "iopub.status.idle": "2024-05-07T21:34:30.834845Z",
          "shell.execute_reply": "2024-05-07T21:34:30.833839Z",
          "shell.execute_reply.started": "2024-05-07T21:34:30.61403Z"
        },
        "id": "7MQNONctenXL",
        "outputId": "cbe4d59b-ed08-4186-ad09-0a2c040fee52",
        "trusted": true
      },
      "outputs": [
        {
          "data": {
            "text/plain": [
              "<Axes: ylabel='count'>"
            ]
          },
          "execution_count": 30,
          "metadata": {},
          "output_type": "execute_result"
        },
        {
          "data": {
            "image/png": "[encoded data removed]",
            "text/plain": [
              "<Figure size 640x480 with 1 Axes>"
            ]
          },
          "metadata": {},
          "output_type": "display_data"
        }
      ],
      "source": [
        " df['category'].value_counts().plot(kind='pie')"
      ]
    },
    {
      "cell_type": "code",
      "execution_count": 31,
      "metadata": {
        "colab": {
          "base_uri": "https://localhost:8080/"
        },
        "execution": {
          "iopub.execute_input": "2024-05-07T21:34:30.837233Z",
          "iopub.status.busy": "2024-05-07T21:34:30.836549Z",
          "iopub.status.idle": "2024-05-07T21:34:30.849847Z",
          "shell.execute_reply": "2024-05-07T21:34:30.848715Z",
          "shell.execute_reply.started": "2024-05-07T21:34:30.837199Z"
        },
        "id": "2SA3aaO_enXL",
        "outputId": "629c6588-2f59-4862-dbd1-db00345f582b",
        "trusted": true
      },
      "outputs": [
        {
          "data": {
            "text/plain": [
              "Index([1010, 1011, 1012, 1013, 1014, 1015, 1016, 1017, 1018, 1019,\n",
              "       ...\n",
              "       5776, 5778, 5779, 5780, 5781, 5782, 5783, 5784, 5786, 5787],\n",
              "      dtype='int64', length=2410)"
            ]
          },
          "execution_count": 31,
          "metadata": {},
          "output_type": "execute_result"
        }
      ],
      "source": [
        "middle_east_rows = df[df['category'] == 'Middle East News'].index\n",
        "middle_east_rows"
      ]
    },
    {
      "cell_type": "code",
      "execution_count": 32,
      "metadata": {
        "colab": {
          "base_uri": "https://localhost:8080/"
        },
        "execution": {
          "iopub.execute_input": "2024-05-07T21:34:30.852339Z",
          "iopub.status.busy": "2024-05-07T21:34:30.851632Z",
          "iopub.status.idle": "2024-05-07T21:34:30.867431Z",
          "shell.execute_reply": "2024-05-07T21:34:30.865853Z",
          "shell.execute_reply.started": "2024-05-07T21:34:30.852303Z"
        },
        "id": "zS7-wJ6PenXL",
        "outputId": "5e2275e7-2bba-4f19-86fd-a42cbe079eee",
        "trusted": true
      },
      "outputs": [
        {
          "data": {
            "text/plain": [
              "Index([3211, 3212, 3213, 3214, 3215, 3216, 3217, 3218, 3219, 3220,\n",
              "       ...\n",
              "       7150, 7152, 7154, 7156, 7158, 7160, 7161, 7162, 7164, 7166],\n",
              "      dtype='int64', length=2203)"
            ]
          },
          "execution_count": 32,
          "metadata": {},
          "output_type": "execute_result"
        }
      ],
      "source": [
        "world_rows = df[df['category'] == 'World'].index\n",
        "world_rows"
      ]
    },
    {
      "cell_type": "code",
      "execution_count": 33,
      "metadata": {
        "execution": {
          "iopub.execute_input": "2024-05-07T21:34:30.871055Z",
          "iopub.status.busy": "2024-05-07T21:34:30.87009Z",
          "iopub.status.idle": "2024-05-07T21:34:30.883144Z",
          "shell.execute_reply": "2024-05-07T21:34:30.881124Z",
          "shell.execute_reply.started": "2024-05-07T21:34:30.871005Z"
        },
        "id": "ndYUIAloenXL",
        "trusted": true
      },
      "outputs": [],
      "source": [
        "rows_to_drop = np.random.choice(middle_east_rows, size=400, replace=False)\n",
        "df = df.drop(rows_to_drop)"
      ]
    },
    {
      "cell_type": "code",
      "execution_count": 34,
      "metadata": {
        "execution": {
          "iopub.execute_input": "2024-05-07T21:34:30.887614Z",
          "iopub.status.busy": "2024-05-07T21:34:30.886418Z",
          "iopub.status.idle": "2024-05-07T21:34:30.897194Z",
          "shell.execute_reply": "2024-05-07T21:34:30.896062Z",
          "shell.execute_reply.started": "2024-05-07T21:34:30.887563Z"
        },
        "id": "E0hYvMnPenXM",
        "trusted": true
      },
      "outputs": [],
      "source": [
        "rows_to_drop = np.random.choice(world_rows, size=200, replace=False)\n",
        "df = df.drop(rows_to_drop)"
      ]
    },
    {
      "cell_type": "code",
      "execution_count": 35,
      "metadata": {
        "colab": {
          "base_uri": "https://localhost:8080/",
          "height": 434
        },
        "execution": {
          "iopub.execute_input": "2024-05-07T21:34:30.899547Z",
          "iopub.status.busy": "2024-05-07T21:34:30.898738Z",
          "iopub.status.idle": "2024-05-07T21:34:31.055976Z",
          "shell.execute_reply": "2024-05-07T21:34:31.054917Z",
          "shell.execute_reply.started": "2024-05-07T21:34:30.899509Z"
        },
        "id": "EobfP0X2enXM",
        "outputId": "f4c1566f-8fed-4c71-cc89-a66dacce7319",
        "trusted": true
      },
      "outputs": [
        {
          "data": {
            "image/png": "[encoded data removed]",
            "text/plain": [
              "<Figure size 640x480 with 1 Axes>"
            ]
          },
          "metadata": {},
          "output_type": "display_data"
        }
      ],
      "source": [
        "# Get value counts\n",
        "category_counts = df['category'].value_counts()\n",
        "\n",
        "# Plot pie chart with percentages and title\n",
        "category_counts.plot(kind='pie', autopct='%1.1f%%')\n",
        "plt.axis('equal')\n",
        "plt.title('Category Distribution')\n",
        "plt.show()"
      ]
    },
    {
      "cell_type": "code",
      "execution_count": 36,
      "metadata": {
        "colab": {
          "base_uri": "https://localhost:8080/",
          "height": 624
        },
        "execution": {
          "iopub.execute_input": "2024-05-07T21:34:31.057476Z",
          "iopub.status.busy": "2024-05-07T21:34:31.057194Z",
          "iopub.status.idle": "2024-05-07T21:34:31.347095Z",
          "shell.execute_reply": "2024-05-07T21:34:31.346199Z",
          "shell.execute_reply.started": "2024-05-07T21:34:31.057452Z"
        },
        "id": "WwbH4UK-enXM",
        "outputId": "c901e778-e9ad-4d8d-cfb3-1bf829e3d348",
        "trusted": true
      },
      "outputs": [
        {
          "data": {
            "image/png": "[encoded data removed]",
            "text/plain": [
              "<Figure size 640x480 with 1 Axes>"
            ]
          },
          "metadata": {},
          "output_type": "display_data"
        }
      ],
      "source": [
        "# Plot bar chart with title\n",
        "category_counts.plot(kind='bar')\n",
        "plt.title('Category Counts')\n",
        "plt.xlabel('Category')\n",
        "plt.ylabel('Count')\n",
        "plt.show()"
      ]
    },
    {
      "cell_type": "markdown",
      "metadata": {
        "id": "_bwPDqzRenXQ"
      },
      "source": [
        "# Data Cleaning and Preprocessing"
      ]
    },
    {
      "cell_type": "code",
      "execution_count": 37,
      "metadata": {
        "colab": {
          "base_uri": "https://localhost:8080/"
        },
        "execution": {
          "iopub.execute_input": "2024-05-07T21:34:31.349232Z",
          "iopub.status.busy": "2024-05-07T21:34:31.348336Z",
          "iopub.status.idle": "2024-05-07T21:34:31.362172Z",
          "shell.execute_reply": "2024-05-07T21:34:31.360916Z",
          "shell.execute_reply.started": "2024-05-07T21:34:31.3492Z"
        },
        "id": "kDGx9BkIenXQ",
        "outputId": "cfb2dc5a-71c4-4b75-9b8e-dc84374301d9",
        "trusted": true
      },
      "outputs": [
        {
          "name": "stdout",
          "output_type": "stream",
          "text": [
            "<class 'pandas.core.frame.DataFrame'>\n",
            "Index: 8786 entries, 0 to 10221\n",
            "Data columns (total 3 columns):\n",
            " #   Column      Non-Null Count  Dtype \n",
            "---  ------      --------------  ----- \n",
            " 0   category    8786 non-null   object\n",
            " 1   Body        8786 non-null   object\n",
            " 2   stop_words  8786 non-null   int64 \n",
            "dtypes: int64(1), object(2)\n",
            "memory usage: 274.6+ KB\n"
          ]
        }
      ],
      "source": [
        "df.info()"
      ]
    },
    {
      "cell_type": "code",
      "execution_count": 38,
      "metadata": {
        "execution": {
          "iopub.execute_input": "2024-05-07T21:34:31.364266Z",
          "iopub.status.busy": "2024-05-07T21:34:31.363966Z",
          "iopub.status.idle": "2024-05-07T21:34:31.377767Z",
          "shell.execute_reply": "2024-05-07T21:34:31.376983Z",
          "shell.execute_reply.started": "2024-05-07T21:34:31.364242Z"
        },
        "id": "WVqYcP5cenXQ",
        "trusted": true
      },
      "outputs": [],
      "source": [
        "df['Body'] = df['Body'].astype('string')"
      ]
    },
    {
      "cell_type": "code",
      "execution_count": 39,
      "metadata": {
        "colab": {
          "base_uri": "https://localhost:8080/"
        },
        "execution": {
          "iopub.execute_input": "2024-05-07T21:34:31.379121Z",
          "iopub.status.busy": "2024-05-07T21:34:31.37884Z",
          "iopub.status.idle": "2024-05-07T21:34:31.394678Z",
          "shell.execute_reply": "2024-05-07T21:34:31.393767Z",
          "shell.execute_reply.started": "2024-05-07T21:34:31.379099Z"
        },
        "id": "kuafxgk2enXQ",
        "outputId": "40a42f17-33c5-4c35-f9fc-e9d6d7b44033",
        "trusted": true
      },
      "outputs": [
        {
          "name": "stdout",
          "output_type": "stream",
          "text": [
            "<class 'pandas.core.frame.DataFrame'>\n",
            "Index: 8786 entries, 0 to 10221\n",
            "Data columns (total 3 columns):\n",
            " #   Column      Non-Null Count  Dtype \n",
            "---  ------      --------------  ----- \n",
            " 0   category    8786 non-null   object\n",
            " 1   Body        8786 non-null   string\n",
            " 2   stop_words  8786 non-null   int64 \n",
            "dtypes: int64(1), object(1), string(1)\n",
            "memory usage: 274.6+ KB\n"
          ]
        }
      ],
      "source": [
        "df.info()"
      ]
    },
    {
      "cell_type": "code",
      "execution_count": 40,
      "metadata": {
        "colab": {
          "base_uri": "https://localhost:8080/",
          "height": 109
        },
        "execution": {
          "iopub.execute_input": "2024-05-07T21:34:31.403649Z",
          "iopub.status.busy": "2024-05-07T21:34:31.403321Z",
          "iopub.status.idle": "2024-05-07T21:34:31.409864Z",
          "shell.execute_reply": "2024-05-07T21:34:31.409028Z",
          "shell.execute_reply.started": "2024-05-07T21:34:31.403626Z"
        },
        "id": "6-23vvMienXQ",
        "outputId": "b932868a-ea0c-4395-9811-7e3ad37125fb",
        "trusted": true
      },
      "outputs": [
        {
          "data": {
            "application/vnd.google.colaboratory.intrinsic+json": {
              "type": "string"
            },
            "text/plain": [
              "'. - \"احد اخضر\" ينعش ذاكره الصعود في البورصات العربيه  ( +:) - // \"احد اخضر\" ينعش ذاكره الصعود في البورصات العربيه اللون الاخضر عم شاشات تداول الاسواق العربيه دبي، الامارات العربيه المتحده( ) -- انعكست نتاءج الانباء الايجابيه التي تلقتها اسواق المال الدوليه مطلع الاسبوع علي اداء البورصات العربيه، التي شهدت، الاحد، يوما \"اخضر\" اعاد لذاكرتها ايام الانتعاش. وكانت الاسواق الدوليه انتعشت مستجيبه لقرارات قمه العشرين، التي عقدت في لندن الاسبوع الماضي، والتي تضمنت دعم الاقتصاد العالمي، وانعاش اسواق المال، وتنشيط التجاره، في خطه تزيد قيمتها علي تريليون دولار. ففي اكبر بورصه عربيه، واصل المءشر السعودي ارتفاعه لليوم الثاني علي التوالي مسجلا . في الماءه، تضاف الي ارتفاعه القياسي السبت، ليستقر عند مستوي خمسه الاف نقطه، بعد ان كان تراجع دونه خلال التعاملات. ويوم السبت، حقق المءشر صعودا بنحو . في الماءه، هو الاعلي له في يوم واحد منذ سته اسابيع، وسط تحسن معنويات المتعاملين الذين استجابوا لانتعاش الاسواق الدوليه. وسجلت السوق السعوديه، الاحد، تعاملات بنحو . مليارات ريال، وهي ضعف القيمه التي اعتادت عليها السوق في الاشهر الماضيه، والتي تحققت من تداول اكثر من  مليون سهم، من خلال نحو  الف صفقه نقديه. وبعد قفزه كبيره، انهي مءشر سوق الكويت للاوراق الماليه يومه علي ارتفاع بنحو  نقطه، تعادل . في الماءه من قيمته، وهو اكبر ارتفاع له في يوم واحد منذ اشهر، ليستقر عند مستوي  نقطه. روابط ذات علاقه الاسهم السعوديه تستهل تداولات الاسبوع بارتفاع قياسي قمه  تقر خطه انعاش الاقتصاد العالمي بترليون دولار التفاءل بشان قمه العشرين يدفع النفط للارتفاع وقفزت قيمه التعاملات علي الاسهم الكويتيه لتصل . مليون دينار، تحققت من تداول نحو  مليون سهم، وسط ارتفاع جميع مءشرات قطاعات السوق. وقاد قطاع البنوك الانتعاش، ليسجل مءشره ارتفاعا بنحو  نقطه، تبعه مءشر الخدمات، الذي قفز بنحو  نقطه، ثم قطاع الشركات غير الكويتيه بارتفاع  نقطه. وتصدر سهم \"الوطنيه للصناعات الاستهلاكيه\" قاءمه الاسهم الرابحه بعدما صعد لاكثر من  في الماءه، في حين مني سهم \"حيات للاتصالات\" باكبر خساره، متراجعا . في الماءه. وفي الامارات العربيه، بدات الاسهم في بورصه دبي اسبوعها علي ارتفاع، اذ حقق مءشر السوق الرءيسي صعودا بنحو . في الماءه، الي مستوي  نقطه، في حين حقق مءشر بورصه ابوظبي الاصغر ارتفاعا بنحو . في الماءه، الي مستوي  نقطه. وفي المجمل، صعد مءشر سوق الامارات المالي، الذي يقيس اداء السوقين بنحو . في الماءه، ليصل مستوي  نقطه، ما جعل الاسهم تعوض نحو . مليارات دولار من خساءرها. وحققت بورصتا الامارات تعاملات بنحو . مليار درهم اماراتي، من خلال تداول نحو . مليار سهم من خلال اكثر من  الف صفقه. وتوالت الارتفاعات في بورصات الخليج الصغيره، حيث كان لقطر نصيب الاسد منها، اذ قفز مءشر بورصه الدوحه لاكثر من . في الماءه، ليصل مستوي  نقطه، تبعه المءشر العماني بارتفاع بنحو . في الماءه الي مستوي  نقطه، في حين سجل مءشر البحرين صعودا بنحو . في الماءه. وحققت الاسهم الاردنيه ايضا ارتفاعا بنحو اثنين في الماءه، صعد بمءشرها الي مستوي  نقطه. في حين استطاع مءشر \"كيس \"، الذي يقيس اداء اكبر  شركه مصريه، ان يغلق مرتفعا بنحو سته في الماءه الي مستوي  نقطه.'"
            ]
          },
          "execution_count": 40,
          "metadata": {},
          "output_type": "execute_result"
        }
      ],
      "source": [
        "df['Body'][88]"
      ]
    },
    {
      "cell_type": "code",
      "execution_count": 41,
      "metadata": {
        "execution": {
          "iopub.execute_input": "2024-05-07T21:34:31.411547Z",
          "iopub.status.busy": "2024-05-07T21:34:31.411224Z",
          "iopub.status.idle": "2024-05-07T21:34:31.428645Z",
          "shell.execute_reply": "2024-05-07T21:34:31.427758Z",
          "shell.execute_reply.started": "2024-05-07T21:34:31.41152Z"
        },
        "id": "tqk7U4GDenXQ",
        "trusted": true
      },
      "outputs": [],
      "source": [
        "def Arabic_Light_Stemmer(text):\n",
        "    #making an object\n",
        "    Arabic_Stemmer = ArabicLightStemmer()\n",
        "\n",
        "    #stemming each word\n",
        "    text=[Arabic_Stemmer.light_stem(y) for y in text.split()]\n",
        "\n",
        "    return \" \" .join(text)\n",
        "\n",
        "def normalizeArabic(text):\n",
        "    text = text.strip()\n",
        "    text = re.sub(\"ى\", \"ي\", text)\n",
        "    text = re.sub(\"ؤ\", \"ء\", text)\n",
        "    text = re.sub(\"ئ\", \"ء\", text)\n",
        "    text = re.sub(\"ة\", \"ه\", text)\n",
        "\n",
        "    #remove repetetions\n",
        "    text = re.sub(\"[إأٱآا]\", \"ا\", text)\n",
        "    text = text.replace('وو', 'و')\n",
        "    text = text.replace('يي', 'ي')\n",
        "    text = text.replace('ييي', 'ي')\n",
        "    text = text.replace('اا', 'ا')\n",
        "\n",
        "    ## remove extra whitespace\n",
        "    text = re.sub('\\s+', ' ', text)\n",
        "\n",
        "    # Remove longation\n",
        "    text = re.sub(r'(.)\\1+', r\"\\1\\1\", text)\n",
        "\n",
        "    #Strip vowels from a text, include Shadda.\n",
        "    text = araby.strip_tashkeel(text)\n",
        "\n",
        "    #Strip diacritics from a text, include harakats and small lettres The striped marks are\n",
        "    text = araby.strip_diacritics(text)\n",
        "    text=''.join([i for i in text if not i.isdigit()])\n",
        "    return text\n",
        "\n",
        "def Removing_non_arabic(text):\n",
        "    text = re.sub('[A-Za-z]+',' ',text)\n",
        "    return text\n",
        "\n",
        "def Removing_numbers(text):\n",
        "    text=''.join([i for i in text if not i.isdigit()])\n",
        "    return text\n",
        "\n",
        "def Removing_punctuations(text):\n",
        "    ## Remove punctuations\n",
        "    text = re.sub('[%s]' % re.escape(\"\"\"!\"#$%&'()*+,،-./:;<=>؟?@[\\]^_`{|}~\"\"\"), ' ', text)\n",
        "    text = text.replace('؛',\"\", )\n",
        "\n",
        "    ## remove extra whitespace\n",
        "    text = re.sub('\\s+', ' ', text)\n",
        "    text =  \" \".join(text.split())\n",
        "    return text.strip()\n",
        "\n",
        "def remove_extra_Space(text):\n",
        "    ## remove extra whitespace\n",
        "    text = re.sub('\\s+', ' ', text)\n",
        "    return  \" \".join(text.split())\n",
        "\n",
        "def remove_hashtages_and_mentions(text):\n",
        "    text = re.sub(\"@[A-Za-z0-9_]+\",\"\", text)\n",
        "    text = re.sub(\"#[A-Za-z0-9_]+\",\"\", text)\n",
        "    return text\n",
        "\n",
        "def replace_random_text(text):\n",
        "    text = text.replace('\\u202c', '')\n",
        "    text = text.replace('\\u202e', '')\n",
        "    text = text.replace('\\u202d', '')\n",
        "    return text\n",
        "\n",
        "def remove_stopwords_robustly(text):\n",
        "    # Split the text into words\n",
        "    words = text.split()\n",
        "\n",
        "    # Remove stop words\n",
        "    filtered_words = [word for word in words if word not in stp.stopwords_list()]\n",
        "\n",
        "    # Join the filtered words back into a string\n",
        "    filtered_text = ' '.join(filtered_words)\n",
        "\n",
        "    return filtered_text\n",
        "\n",
        "def remove_stop_words(text):\n",
        "    Text=[i for i in str(text).split() if i not in arabic_stopwords]\n",
        "    return \" \".join(Text)"
      ]
    },
    {
      "cell_type": "code",
      "execution_count": 42,
      "metadata": {
        "execution": {
          "iopub.execute_input": "2024-05-07T21:34:31.429981Z",
          "iopub.status.busy": "2024-05-07T21:34:31.42969Z",
          "iopub.status.idle": "2024-05-07T21:35:01.115272Z",
          "shell.execute_reply": "2024-05-07T21:35:01.114392Z",
          "shell.execute_reply.started": "2024-05-07T21:34:31.42996Z"
        },
        "id": "60WcPHVUenXR",
        "trusted": true
      },
      "outputs": [],
      "source": [
        "df['Body'] = df['Body'].apply(remove_stop_words)"
      ]
    },
    {
      "cell_type": "code",
      "execution_count": 43,
      "metadata": {
        "execution": {
          "iopub.execute_input": "2024-05-07T21:35:01.116704Z",
          "iopub.status.busy": "2024-05-07T21:35:01.116397Z",
          "iopub.status.idle": "2024-05-07T21:38:11.969938Z",
          "shell.execute_reply": "2024-05-07T21:38:11.96907Z",
          "shell.execute_reply.started": "2024-05-07T21:35:01.116672Z"
        },
        "id": "miJ6do_lenXR",
        "trusted": true
      },
      "outputs": [],
      "source": [
        "df['Body'] = df['Body'].apply(Arabic_Light_Stemmer)"
      ]
    },
    {
      "cell_type": "code",
      "execution_count": 44,
      "metadata": {
        "execution": {
          "iopub.execute_input": "2024-05-07T21:38:11.971634Z",
          "iopub.status.busy": "2024-05-07T21:38:11.971313Z",
          "iopub.status.idle": "2024-05-07T21:38:23.432379Z",
          "shell.execute_reply": "2024-05-07T21:38:23.43161Z",
          "shell.execute_reply.started": "2024-05-07T21:38:11.971608Z"
        },
        "id": "gxBi6yzYenXR",
        "trusted": true
      },
      "outputs": [],
      "source": [
        "df['Body'] = df['Body'].apply(normalizeArabic)"
      ]
    },
    {
      "cell_type": "code",
      "execution_count": 45,
      "metadata": {
        "execution": {
          "iopub.execute_input": "2024-05-07T21:38:23.433844Z",
          "iopub.status.busy": "2024-05-07T21:38:23.433531Z",
          "iopub.status.idle": "2024-05-07T21:38:24.138322Z",
          "shell.execute_reply": "2024-05-07T21:38:24.137238Z",
          "shell.execute_reply.started": "2024-05-07T21:38:23.433816Z"
        },
        "id": "AhJECi6HenXR",
        "trusted": true
      },
      "outputs": [],
      "source": [
        "df['Body'] = df['Body'].apply(Removing_non_arabic)"
      ]
    },
    {
      "cell_type": "code",
      "execution_count": 46,
      "metadata": {
        "execution": {
          "iopub.execute_input": "2024-05-07T21:38:24.140317Z",
          "iopub.status.busy": "2024-05-07T21:38:24.13967Z",
          "iopub.status.idle": "2024-05-07T21:38:26.161554Z",
          "shell.execute_reply": "2024-05-07T21:38:26.160712Z",
          "shell.execute_reply.started": "2024-05-07T21:38:24.140277Z"
        },
        "id": "UULzByo3enXR",
        "trusted": true
      },
      "outputs": [],
      "source": [
        "df['Body'] = df['Body'].apply(Removing_numbers)"
      ]
    },
    {
      "cell_type": "code",
      "execution_count": 47,
      "metadata": {
        "execution": {
          "iopub.execute_input": "2024-05-07T21:38:26.163209Z",
          "iopub.status.busy": "2024-05-07T21:38:26.162919Z",
          "iopub.status.idle": "2024-05-07T21:38:28.251862Z",
          "shell.execute_reply": "2024-05-07T21:38:28.250827Z",
          "shell.execute_reply.started": "2024-05-07T21:38:26.163186Z"
        },
        "id": "fUn6Lr5kenXR",
        "trusted": true
      },
      "outputs": [],
      "source": [
        "df['Body'] = df['Body'].apply(Removing_punctuations)"
      ]
    },
    {
      "cell_type": "code",
      "execution_count": 48,
      "metadata": {
        "colab": {
          "base_uri": "https://localhost:8080/",
          "height": 109
        },
        "execution": {
          "iopub.execute_input": "2024-05-07T21:38:28.254023Z",
          "iopub.status.busy": "2024-05-07T21:38:28.253253Z",
          "iopub.status.idle": "2024-05-07T21:38:28.260562Z",
          "shell.execute_reply": "2024-05-07T21:38:28.259614Z",
          "shell.execute_reply.started": "2024-05-07T21:38:28.253985Z"
        },
        "id": "u70RbiFzenXS",
        "outputId": "3761e8c4-d552-4141-9ca0-721d1ed736e9",
        "trusted": true
      },
      "outputs": [
        {
          "data": {
            "application/vnd.google.colaboratory.intrinsic+json": {
              "type": "string"
            },
            "text/plain": [
              "'احد اخضر نعش ذاكر صعود بورص عربيه احد اخضر نعش ذاكر صعود بورص عربيه لون اخضر عم شاش داول اسواق عربيه دبي امار عربيه متحده انعكس تاءج انباء ايجابيه تلق سواق مال دوليه مطلع اسبوع علي داء بورص عربيه شهدت احد وم اخضر عاد ذاكر يام انتعاش انت اسواق دوليه انتعش مستجيب قرار قم عشرين عقد دن اسبوع ماضي التي تضمن دعم اقتصاد عالمي نعاش سواق مال نشيط تجاره خط زيد قيم علي ريلي دولار في كبر ورص عربيه صل مءشر سعود رتفاع يوم ثان علي توال مسجل ماءه ضاف لي رتفاع قياس سبت ستقر مستو خمس اف نقطه ان راجع دو خلال التعاملات وم سبت حقق مءشر صعود نحو ماءه اعل وم ست اسابيع سط حس معنو متعامل ستجاب انتعاش اسواق دوليه سجل سوق سعوديه احد تعامل نحو مليار ريال هي ضعف قيمه اعتاد علي سوق اشهر ماضيه التي تحقق داول كثر ملي سهم خلال لف صفق نقديه بعد قفز بيره نه مءشر سوق كويت اوراق ماليه وم علي رتفاع نحو نقطه عادل ماءه قيمته كبر رتفاع وم اشهر ستقر مستو نقطه روابط علاق اسهم سعوديه ستهل تداول اسبوع ارتفاع قياس قم قر خط نعاش اقتصاد عالم ترليون تفاءل شان قم عشر دفع نفط ارتفاع قفز قيم تعامل علي اسهم كويتيه صل ملي دينار تحقق داول ملي سهم سط رتفاع مءشر قطاع سوق قاد قطاع بنوك انتعاش سجل مءشر رتفاع نحو نقطه بع مءشر خدمات قفز نحو نقطه قطاع شرك كويتيه ارتفاع نقطه صدر سهم الوطن صناع الاستهلاكيه قاءم اسهم رابحه عدما صعد اكثر ماءه من سهم ح للاتصالات اكبر خساره متراجع ماءه في امار عربيه دات اسهم ورص دب سبوع علي ارتفاع اذ حقق مءشر سوق رءيس صعود نحو ماءه لي مستو نقطه حقق مءشر ورص ابوظب اصغر رتفاع نحو ماءه لي مستو نقطه في مجمل صعد مءشر سوق امار مالي قيس داء سوق نحو ماءه صل مستو نقطه اسهم عوض مليار خساءرها حقق ورصتا امار تعامل نحو مليار اماراتي خلال داول مليار سهم خلال كثر لف صفقه والت ارتفاع ورص خليج صغيره قطر صيب اسد منها اذ قفز مءشر ورص دوحه اكثر ماءه صل مستو نقطه بع مءشر عمان ارتفاع نحو ماءه لي مستو نقطه سجل مءشر بحر صعود نحو ماءه حقق اسهم اردنيه يض رتفاع نحو ماءه صعد مءشر لي مستو نقطه ستطاع مءشر كيس قيس داء كبر شرك مصريه ان غلق مرتفع نحو ست ماءه لي مستو نقطه'"
            ]
          },
          "execution_count": 48,
          "metadata": {},
          "output_type": "execute_result"
        }
      ],
      "source": [
        "df['Body'][88]"
      ]
    },
    {
      "cell_type": "code",
      "execution_count": 49,
      "metadata": {
        "execution": {
          "iopub.execute_input": "2024-05-07T21:38:28.262205Z",
          "iopub.status.busy": "2024-05-07T21:38:28.261845Z",
          "iopub.status.idle": "2024-05-07T21:38:28.316577Z",
          "shell.execute_reply": "2024-05-07T21:38:28.315669Z",
          "shell.execute_reply.started": "2024-05-07T21:38:28.262174Z"
        },
        "id": "C2j0MqDDenXS",
        "trusted": true
      },
      "outputs": [],
      "source": [
        "df['Body'] = df['Body'].apply(remove_hashtages_and_mentions)"
      ]
    },
    {
      "cell_type": "code",
      "execution_count": 50,
      "metadata": {
        "execution": {
          "iopub.execute_input": "2024-05-07T21:38:28.318024Z",
          "iopub.status.busy": "2024-05-07T21:38:28.317711Z",
          "iopub.status.idle": "2024-05-07T21:38:28.345932Z",
          "shell.execute_reply": "2024-05-07T21:38:28.34502Z",
          "shell.execute_reply.started": "2024-05-07T21:38:28.318001Z"
        },
        "id": "QkiMs8XYenXS",
        "trusted": true
      },
      "outputs": [],
      "source": [
        "df['Body'] = df['Body'].apply(replace_random_text)"
      ]
    },
    {
      "cell_type": "code",
      "execution_count": 51,
      "metadata": {
        "colab": {
          "base_uri": "https://localhost:8080/",
          "height": 363
        },
        "execution": {
          "iopub.execute_input": "2024-05-07T21:38:28.347328Z",
          "iopub.status.busy": "2024-05-07T21:38:28.347029Z",
          "iopub.status.idle": "2024-05-07T21:38:28.365553Z",
          "shell.execute_reply": "2024-05-07T21:38:28.364499Z",
          "shell.execute_reply.started": "2024-05-07T21:38:28.347306Z"
        },
        "id": "R4ZUkmsWenXS",
        "outputId": "43a96d67-eb49-49c3-f137-5ed0b28100e3",
        "trusted": true
      },
      "outputs": [
        {
          "data": {
            "application/vnd.google.colaboratory.intrinsic+json": {
              "summary": "{\n  \"name\": \"df\",\n  \"rows\": 10,\n  \"fields\": [\n    {\n      \"column\": \"category\",\n      \"properties\": {\n        \"dtype\": \"string\",\n        \"num_unique_values\": 5,\n        \"samples\": [\n          \"Business\",\n          \"Middle East News\",\n          \"World\"\n        ],\n        \"semantic_type\": \"\",\n        \"description\": \"\"\n      }\n    },\n    {\n      \"column\": \"Body\",\n      \"properties\": {\n        \"dtype\": \"string\",\n        \"num_unique_values\": 10,\n        \"samples\": [\n          \"\\u0634\\u0631\\u0642 \\u0627\\u0648\\u0633\\u0637 \\u0631\\u0632\\u0627 \\u064a\\u0627\\u0645\\u0631 \\u062a\\u0639\\u0644\\u064a\\u0642 \\u0639\\u0637\\u0644\\u0647 \\u0627\\u0644\\u0628\\u0631\\u0644\\u0645\\u0627\\u0646\\u064a\\u0647 \\u0634\\u062a\\u0648\\u064a\\u0647 \\u0627\\u0644\\u0631\\u0621\\u064a\\u0633 \\u0627\\u0641\\u063a\\u0627\\u0646 \\u062d\\u0627\\u0645\\u062f \\u0631\\u0632\\u0627 \\u0639\\u0644\\u0642 \\u0631\\u0647 \\u0639\\u0637\\u0644\\u0647 \\u0627\\u0644\\u0628\\u0631\\u0644\\u0645\\u0627\\u0646\\u064a\\u0647 \\u0634\\u062a\\u0648\\u064a\\u0647 \\u062d\\u062a \\u0645\\u0648\\u0627\\u0641\\u0642 \\u0627\\u0639\\u0636\\u0627\\u0621 \\u0639\\u0644\\u064a \\u062d\\u0643\\u0648\\u0645\\u0647 \\u062c\\u062f\\u064a\\u062f\\u0647 \\u0631\\u0621\\u064a\\u0633\\u064a\\u0647 \\u0634\\u0631\\u0642 \\u0627\\u0648\\u0633\\u0637 \\u0639\\u0627\\u0644\\u0645 \\u0634\\u0627\\u0631 \\u0631\\u0627 \\u0642\\u062a\\u0635\\u0627\\u062f \\u0639\\u0645\\u0627\\u0644 \\u0645\\u0646\\u0648\\u0639 \\u0639\\u0644\\u0648\\u0645 \\u0648\\u062a\\u0643\\u0646\\u0648\\u0644\\u0648\\u062c\\u064a\\u0627 \\u0631\\u064a\\u0627\\u0636 \\u0631\\u0627\\u062f\\u064a \\u062a\\u0644\\u0641\\u0632\\u064a \\u062e\\u0631 \\u062a\\u062d\\u062f\\u064a\\u062b \\u0627\\u062b\\u0646\\u064a\\u0646 \\u064a\\u0646\\u0627\\u064a\\u0631 \\u062b\\u0627\\u0646\\u064a \\u0631\\u0632\\u0627 \\u064a\\u0627\\u0645\\u0631 \\u062a\\u0639\\u0644\\u064a\\u0642 \\u0639\\u0637\\u0644\\u0647 \\u0627\\u0644\\u0628\\u0631\\u0644\\u0645\\u0627\\u0646\\u064a\\u0647 \\u0634\\u062a\\u0648\\u064a\\u0647 \\u0631\\u0621\\u064a\\u0633 \\u0627\\u0641\\u063a\\u0627\\u0646 \\u062d\\u0627\\u0645\\u062f \\u0631\\u0632\\u0627 \\u0631\\u0647 \\u0639\\u0637\\u0644\\u0647 \\u0627\\u0644\\u0628\\u0631\\u0644\\u0645\\u0627\\u0646\\u064a\\u0647 \\u0634\\u062a\\u0648\\u064a\\u0647 \\u062d\\u062a \\u0645\\u0648\\u0627\\u0641\\u0642 \\u0627\\u0639\\u0636\\u0627\\u0621 \\u0639\\u0644\\u064a \\u062d\\u0643\\u0648\\u0645\\u0647 \\u062c\\u062f\\u064a\\u062f\\u0647 \\u0643\\u0627\\u0646 \\u0628\\u0631\\u0644\\u0645 \\u0631\\u0641\\u0636 \\u0645\\u0639\\u0638\\u0645 \\u0645\\u0631\\u0634\\u062d \\u0631\\u0632\\u0627 \\u0639\\u0636\\u0648 \\u062d\\u0643\\u0648\\u0645\\u062a\\u0647 \\u0648\\u0627\\u062e\\u0631 \\u0627\\u0633\\u0628\\u0648\\u0639 \\u0645\\u0627\\u0636\\u064a \\u0643\\u0627\\u0646 \\u0645\\u0641\\u062a\\u0631\\u0636 \\u0627\\u0646 \\u0628\\u062f \\u0639\\u0637\\u0644\\u0647 \\u0627\\u0644\\u0628\\u0631\\u0644\\u0645\\u0627\\u0646\\u064a\\u0647 \\u0648\\u0645 \\u062b\\u0644\\u0627\\u062b\\u0627\\u0621 \\u062a\\u0633\\u062a\\u063a\\u0631\\u0642 \\u0633\\u062a \\u0627\\u0633\\u0627\\u0628\\u064a\\u0639 \\u0645\\u062a\\u0648\\u0642\\u0639 \\u0627\\u0646 \\u0639\\u0631\\u0636 \\u0631\\u0621\\u064a\\u0633 \\u0631\\u0632\\u0627 \\u0634\\u0643\\u064a\\u0644 \\u062d\\u0643\\u0648\\u0645 \\u062c\\u062f\\u064a\\u062f \\u063a\\u0636 \\u0627\\u064a\\u0627\\u0645 \\u0633\\u0628\\u0628 \\u0631\\u0641\\u0636 \\u0628\\u0631\\u0644\\u0645 \\u0644\\u0640 \\u0635\\u0644 \\u0645\\u0631\\u0634\\u062d \\u0631\\u0621\\u064a\\u0633 \\u0627\\u0641\\u063a\\u0627\\u0646\\u064a \\u0638\\u0644 \\u0628\\u0644\\u0627\\u062f \\u062f\\u0648\\u0646 \\u062c\\u0647\\u0627\\u0632 \\u062a\\u0646\\u0641\\u064a\\u0630\\u064a \\u0639\\u0644\\u0645 \\u0627\\u0646 \\u0631\\u0632\\u0627 \\u062a\\u0648\\u062c \\u0628\\u0636\\u0639 \\u0633\\u0627\\u0628\\u064a\\u0639 \\u0644\\u064a \\u062f\\u0646 \\u062d\\u0636\\u0648\\u0631 \\u0645\\u0621\\u062a\\u0645\\u0631 \\u0645\\u0627\\u0646\\u062d\\u064a\\u0646 \\u0641\\u064a \\u0627\\u062b\\u0646\\u0627\\u0621 \\u0642\\u0627\\u0644 \\u0627\\u0645\\u0645 \\u0645\\u062a\\u062d\\u062f\\u0647 \\u0627\\u0646 \\u0645\\u0648\\u064a\\u0644 \\u0627\\u0646\\u062a\\u062e\\u0627\\u0628 \\u0627\\u0644\\u0628\\u0631\\u0644\\u0645\\u0627\\u0646\\u064a\\u0647 \\u0647\\u0630\\u0647 \\u0633\\u0646\\u0647 \\u0627\\u0641\\u063a\\u0627\\u0646\\u0633 \\u0645\\u0634\\u0631\\u0648\\u0637 \\u0627\\u062f\\u062e\\u0627\\u0644 \\u0627\\u0635\\u0644\\u0627\\u062d \\u0639\\u0644\\u064a \\u0647\\u064a\\u0621 \\u0627\\u0644\\u0627\\u0646\\u062a\\u062e\\u0627\\u0628\\u064a\\u0647\",\n          \"\\u0631\\u064a\\u0627\\u0636 \\u0645\\u0646\\u062a\\u062e\\u0628 \\u0646\\u0647\\u0627\\u0621 \\u0627\\u0633 \\u0639\\u0627\\u0644\\u0645 \\u0627\\u0643\\u062a\\u0645\\u0627\\u0644 \\u0639\\u0642\\u062f \\u0645\\u0646\\u062a\\u062e\\u0628 \\u0645\\u0634\\u0627\\u0631\\u0643\\u0647 \\u0646\\u0647\\u0627\\u0621 \\u0627\\u0633 \\u0639\\u0627\\u0644\\u0645 \\u062c\\u0646\\u0648\\u0628 \\u0641\\u0631\\u064a\\u0642\\u064a \\u062e\\u0631 \\u0627\\u0648\\u0631\\u0627\\u062c\\u0648\\u0627 \\u0639\\u0627\\u062f\\u0644 \\u0643\\u0648\\u0633\\u062a\\u0627\\u0631\\u064a\\u0643\\u0627 \\u062e\\u0645\\u064a\\u0633 \\u0631\\u0621\\u064a\\u0633\\u064a\\u0647 \\u0634\\u0631\\u0642 \\u0627\\u0648\\u0633\\u0637 \\u0639\\u0627\\u0644\\u0645 \\u0634\\u0627\\u0631 \\u0631\\u0627 \\u0642\\u062a\\u0635\\u0627\\u062f \\u0639\\u0645\\u0627\\u0644 \\u0645\\u0646\\u0648\\u0639 \\u0639\\u0644\\u0648\\u0645 \\u0648\\u062a\\u0643\\u0646\\u0648\\u0644\\u0648\\u062c\\u064a\\u0627 \\u0631\\u064a\\u0627\\u0636 \\u0631\\u0627\\u062f\\u064a \\u062a\\u0644\\u0641\\u0632\\u064a \\u062e\\u0631 \\u062a\\u062d\\u062f\\u064a\\u062b \\u062e\\u0645\\u064a\\u0633 \\u0646\\u0648\\u0641\\u0645\\u0628\\u0631 \\u062b\\u0627\\u0646\\u064a \\u0645\\u0646\\u062a\\u062e\\u0628 \\u0646\\u0647\\u0627\\u0621 \\u0627\\u0633 \\u0639\\u0627\\u0644\\u0645 \\u0634\\u0627\\u0631 \\u0646\\u0647\\u0627\\u0621 \\u0627\\u0633 \\u0639\\u0627\\u0644\\u0645 \\u0645\\u0642\\u0627\\u0645\\u0647 \\u062c\\u0646\\u0648\\u0628 \\u0641\\u0631\\u064a\\u0642\\u064a \\u0645\\u0646\\u062a\\u062e\\u0628 \\u062a\\u0627\\u0647\\u0644 \\u0637\\u0631\\u064a\\u0642 \\u062a\\u0635\\u0641 \\u0642\\u0627\\u0631\\u064a\\u0647 \\u0644\\u064a \\u062c\\u0627\\u0646\\u0628 \\u062f\\u0648\\u0644\\u0647 \\u0645\\u0636\\u064a\\u0641\\u0647 \\u062d\\u0633\\u0628 \\u062d\\u0635\\u0635 \\u0645\\u0642\\u0631\\u0631\\u0647 \\u0643\\u0644 \\u0642\\u0627\\u0631\\u0647 \\u062a\\u0627\\u0647\\u0644 \\u0648\\u0631\\u0648\\u0628 \\u0645\\u0646\\u062a\\u062e\\u0628 \\u062f\\u0646\\u0645\\u0627\\u0631\\u0643 \\u0633\\u0648\\u064a\\u0633\\u0631\\u0627 \\u0633\\u0644\\u0648\\u0641\\u0627\\u0643\\u064a\\u0627 \\u0645\\u0627\\u0646\\u064a\\u0627 \\u0627\\u0633\\u0628\\u0627\\u0646\\u064a\\u0627 \\u0627\\u0646\\u062c\\u0644\\u062a\\u0631\\u0627 \\u0635\\u0631\\u0628\\u064a\\u0627 \\u0627\\u064a\\u0637\\u0627\\u0644\\u064a\\u0627 \\u0647\\u0648\\u0644\\u0646\\u062f\\u0627 \\u0631\\u0646\\u0633\\u0627 \\u0628\\u0631\\u062a\\u063a\\u0627\\u0644 \\u0633\\u0644\\u0648\\u0641\\u064a\\u0646\\u064a\\u0627 \\u064a\\u0648\\u0646\\u0627\\u0646 \\u064a\\u0646\\u0645\\u0627 \\u062a\\u0627\\u0647\\u0644 \\u0642\\u0627\\u0631 \\u0641\\u0631\\u064a\\u0642\\u064a \\u0633\\u062a \\u0645\\u0646\\u062a\\u062e\\u0628 \\u0627\\u0644\\u0643\\u0627\\u0645\\u064a\\u0631\\u0648\\u0646 \\u0646\\u064a\\u062c\\u064a\\u0631\\u064a\\u0627 \\u063a\\u0627\\u0646\\u0627 \\u0633\\u0627\\u062d\\u0644 \\u0639\\u0627\\u062c \\u062c\\u0632\\u0627\\u0621\\u0631 \\u062c\\u0646\\u0648\\u0628 \\u0641\\u0631\\u064a\\u0642\\u064a \\u0648\\u0635\\u0641 \\u062f\\u0648\\u0644\\u0647 \\u0645\\u0646\\u0638\\u0645\\u0647 \\u0641\\u0627\\u0632 \\u0645\\u0642\\u0627\\u0639\\u062f \\u0627\\u0645\\u0631\\u064a\\u0643 \\u062c\\u0646\\u0648\\u0628\\u064a\\u0647 \\u062e\\u0645\\u0633 \\u0628\\u0631\\u0627\\u0632\\u064a\\u0644 \\u0627\\u0644\\u0628\\u0627\\u0631\\u0627\\u062c\\u0648\\u0627\\u064a \\u0634\\u064a\\u0644 \\u0627\\u0631\\u062c\\u0646 \\u062e\\u064a\\u0631 \\u0627\\u0648\\u0631\\u0648\\u062c\\u0648\\u0627 \\u0639\\u0627\\u062f\\u0644 \\u0643\\u0648\\u0633\\u062a\\u0627\\u0631\\u064a\\u0643\\u0627 \\u0647\\u062f\\u0641 \\u0643\\u0644 \\u0645\\u0628\\u0627\\u0631\\u0627 \\u0627\\u064a\\u0627\\u0628 \\u0627\\u0646\\u062a \\u0632\\u062a \\u0647\\u062f\\u0641 \\u0645\\u0642\\u0627\\u0628\\u0644 \\u0645\\u0628\\u0627\\u0631\\u0627 \\u0630\\u0647\\u0627\\u0628 \\u0645\\u0627 \\u0628\\u0637\\u0627\\u0642 \\u0627\\u0633\\u064a\\u0648\\u064a\\u0647 \\u0642\\u062f \\u0627\\u0646\\u062a \\u0635\\u064a\\u0628 \\u064a\\u0627\\u0628\\u0627\\u0646 \\u0627\\u0633\\u062a\\u0631\\u0627\\u0644\\u064a\\u0627 \\u0648\\u0631\\u064a\\u0627 \\u062c\\u0646\\u0648\\u0628\\u064a\\u0647 \\u0648\\u0631\\u064a\\u0627 \\u0634\\u0645\\u0627\\u0644\\u064a\\u0647 \\u0639\\u0646 \\u0645\\u0646\\u0637\\u0642 \\u0627\\u0644\\u0643\\u0648\\u0646\\u0643\\u0627\\u0643\\u0627\\u0641 \\u062a\\u0627\\u0647\\u0644 \\u0645\\u0646\\u062a\\u062e\\u0628 \\u0645\\u0643\\u0633\\u064a\\u0643 \\u0648\\u0644\\u0627 \\u0645\\u062a\\u062d\\u062f\\u0647 \\u0648\\u0647\\u0646\\u062f\\u0648\\u0631\\u0627\\u0633 \\u064a\\u0646\\u0645\\u0627 \\u062d\\u062c\\u0632 \\u0646\\u064a\\u0648\\u0632\\u0644\\u0646\\u062f \\u0645\\u0642\\u0639\\u062f \\u0645\\u0644\\u062d\\u0642 \\u0627\\u0648\\u0642\\u064a\\u0627\\u0646\\u064a \\u0627\\u0633\\u064a\\u0627 \\u0631\\u0646\\u0633 \\u0633\\u0644\\u0648\\u0641\\u064a\\u0646\\u064a \\u0628\\u0631\\u062a\\u063a\\u0627\\u0644 \\u0643\\u0627\\u0646 \\u0648\\u0645 \\u0627\\u0631\\u0628\\u0639\\u0627\\u0621 \\u062d\\u0627\\u0633\\u0645 \\u0646\\u0633\\u0628\\u0647 \\u0645\\u062b\\u064a\\u0644 \\u0648\\u0631\\u0648\\u0628 \\u0627\\u0644\\u0645\\u0648\\u0646\\u062f\\u064a\\u0627\\u0644 \\u0634\\u0647\\u062f \\u062a\\u0627\\u0647\\u0644 \\u062b\\u0644\\u0627\\u062b \\u0645\\u0646\\u062a\\u062e\\u0628 \\u0648\\u0631\\u0648\\u0628 \\u0644\\u064a \\u0627\\u0633 \\u0639\\u0627\\u0644\\u0645 \\u062c\\u0646\\u0648\\u0628 \\u0627\\u0641\\u0631\\u064a\\u0642\\u064a\\u0627 \\u0642\\u062f \\u062a\\u0627\\u0647\\u0644 \\u0631\\u0646\\u0633 \\u0639\\u0627\\u062f\\u0644 \\u0627\\u064a\\u0631\\u0644\\u0646\\u062f \\u0647\\u062f\\u0641 \\u0643\\u0644 \\u0627\\u0646\\u062a \\u0646\\u062a\\u064a\\u062c\\u0647 \\u0627\\u0641 \\u0648\\u0635\\u0648\\u0644 \\u0645\\u0646\\u062a\\u062e\\u0628 \\u0641\\u0631\\u0646\\u0633 \\u0644\\u064a \\u062c\\u0646\\u0648\\u0628 \\u0627\\u0641\\u0631\\u064a\\u0642\\u064a\\u0627 \\u0627\\u0646\\u062a\\u0647 \\u0645\\u0628\\u0627\\u0631\\u0627\\u0647 \\u0627\\u0648\\u0644 \\u062f\\u0628\\u0644 \\u0641\\u0648\\u0632 \\u0635\\u0641\\u0631 \\u0627\\u0646\\u062a \\u0627\\u064a\\u0631\\u0644\\u0646\\u062f \\u062a\\u0642\\u062f\\u0645 \\u0647\\u062f\\u0641 \\u062f\\u0642\\u064a\\u0642\\u0647 \\u062d\\u0631\\u0632 \\u0631\\u0648\\u0628 \\u064a\\u0646 \\u0646\\u062a\\u0647\\u064a \\u0648\\u0642\\u062a \\u0627\\u0635\\u0644 \\u0647\\u0630\\u0647 \\u0646\\u062a\\u064a\\u062c\\u0647 \\u0641\\u064a \\u0634\\u0648\\u0637 \\u0627\\u0636\\u0627\\u0641 \\u0627\\u0648\\u0644 \\u0627\\u0644\\u062f\\u0642\\u064a\\u0642 \\u062d\\u0631\\u0632 \\u0627\\u0639\\u0628 \\u0645\\u0646\\u062a\\u062e\\u0628 \\u0641\\u0631\\u0646\\u0633 \\u064a\\u0627\\u0645 \\u062c\\u0627\\u0644\\u0627\\u0633 \\u0647\\u062f\\u0641 \\u062a\\u0639\\u0627\\u062f\\u0644 \\u0627\\u0641\\u064a\\u0627 \\u062a\\u0627\\u0647\\u0644 \\u0631\\u0646\\u0633\\u0627 \\u062d\\u062a\\u062c \\u0627\\u0639\\u0628\\u0648 \\u0627\\u064a\\u0631\\u0644\\u0646\\u062f \\u0634\\u062f \\u0639\\u0644\\u064a \\u0647\\u062f\\u0641 \\u0639\\u0644\\u064a \\u0639\\u062a\\u0628\\u0627\\u0631 \\u0627\\u0646 \\u0646\\u062c\\u0645 \\u0641\\u0631\\u0646\\u0633 \\u064a\\u0631 \\u0647\\u0646\\u0631 \\u0645\\u0633 \\u0643\\u0631\\u0647 \\u064a\\u062f \\u0627\\u0646 \\u0645\\u0631\\u0631 \\u0644\\u064a \\u062c\\u0627\\u0644\\u0627\\u0633 \\u0642\\u062f \\u0627\\u0638\\u0647\\u0631 \\u0627\\u0639\\u0627\\u062f\\u0647 \\u0627\\u0644\\u062a\\u0644\\u0641\\u0632\\u064a\\u0648\\u0646\\u064a\\u0647 \\u0641\\u0639\\u0644 \\u0627\\u0646 \\u0646\\u062c\\u0645 \\u0641\\u0631\\u0646\\u0633 \\u0646\\u0641\\u0633 \\u0643\\u0631\\u0647 \\u064a\\u062f \\u0627\\u0646 \\u0645\\u0631\\u0631 \\u0644\\u064a \\u0632\\u0645\\u064a\\u0644\\u0647 \\u0639\\u0644\\u064a \\u0645\\u0644\\u0639\\u0628 \\u0628\\u064a\\u0644\\u064a\\u0646\\u0648 \\u0628\\u0648\\u0644\\u064a\\u0647 \\u0627\\u0633\\u062a\\u0637\\u0627\\u0639 \\u0628\\u0631\\u062a\\u063a\\u0627\\u0644 \\u0641\\u0648\\u0632 \\u0639\\u0644\\u064a \\u0645\\u0636\\u064a\\u0641 \\u0628\\u0648\\u0633\\u0646\\u0647 \\u0647\\u062f\\u0641 \\u0645\\u0642\\u0627\\u0628\\u0644 \\u062a\\u0627\\u0647\\u0644 \\u0644\\u064a \\u0627\\u0633 \\u0639\\u0627\\u0644\\u0645 \\u0645\\u0631\\u0647 \\u062e\\u0627\\u0645\\u0633\\u0647 \\u062a\\u0627\\u0631\\u064a\\u062e\\u0647\\u0627 \\u0633\\u062c\\u0644 \\u0631\\u0627\\u0648\\u0644 \\u0645\\u064a\\u0631\\u064a\\u0644\\u064a\\u0633 \\u0647\\u062f\\u0641 \\u0645\\u0628\\u0627\\u0631\\u0627\\u0647 \\u0648\\u062d\\u064a\\u062f \\u062f\\u0642\\u064a\\u0642\\u0647 \\u0645\\u0631\\u064a\\u0631 \\u0648\\u064a\\u0633 \\u0646\\u0627\\u0646\\u064a \\u0627\\u0646\\u062a \\u0628\\u0631\\u062a\\u063a\\u0627\\u0644 \\u0632\\u062a \\u0639\\u0644\\u064a \\u0628\\u0648\\u0633\\u0646\\u0647 \\u0646\\u0641\\u0633 \\u0646\\u062a\\u064a\\u062c\\u0647 \\u062e\\u0644\\u0627\\u0644 \\u0642\\u0627\\u0621 \\u0633\\u0628\\u062a \\u0645\\u0627\\u0636 \\u0634\\u0628\\u0648\\u0646\\u0647 \\u0630\\u0643\\u0631 \\u0627\\u0646 \\u0628\\u0631\\u062a\\u063a\\u0627\\u0644 \\u0634\\u0627\\u0631\\u0643 \\u0646\\u0647\\u0627\\u0621 \\u0627\\u0633 \\u0639\\u0627\\u0644\\u0645 \\u0639\\u0648\\u0627\\u0645 \\u0648 \\u0645\\u0627 \\u0633\\u0644\\u0648\\u0641\\u064a\\u0646\\u064a \\u0642\\u062f \\u062a\\u0627\\u0647\\u0644 \\u0646\\u0647\\u0627\\u0621 \\u0627\\u0633 \\u0639\\u0627\\u0644\\u0645 \\u0645\\u0631\\u0647 \\u062b\\u0627\\u0646\\u064a\\u0647 \\u062a\\u0627\\u0631\\u064a\\u062e \\u0648\\u0632 \\u0635\\u0641\\u0631 \\u0639\\u0644\\u064a \\u0631\\u0648\\u0633\\u064a\\u0627 \\u0633\\u062c\\u0644 \\u0632\\u0644\\u0627\\u062a\\u0643 \\u062f\\u064a\\u062f\\u064a\\u062a\\u0634 \\u0647\\u062f\\u0641 \\u0645\\u0628\\u0627\\u0631\\u0627\\u0647 \\u0648\\u062d\\u064a\\u062f \\u062f\\u0642\\u064a\\u0642\\u0647 \\u0627\\u0641\\u064a\\u0627 \\u062a\\u0627\\u0647\\u0644 \\u0633\\u0644\\u0648\\u0641\\u064a\\u0646\\u064a \\u062e\\u0633\\u0627\\u0631 \\u0646\\u062a\\u064a\\u062c \\u0633\\u0628\\u062a \\u0645\\u0627\\u0636 \\u0645\\u0648\\u0633\\u0643\\u0648\",\n          \"\\u0630\\u0627 \\u0627\\u0631\\u062f \\u0627\\u0628\\u0642\\u0627\\u0621 \\u0639\\u0644\\u064a \\u0634\\u0628\\u0627\\u0628 \\u062f\\u0645\\u0627\\u063a \\u0639\\u0644\\u064a \\u0631\\u064a\\u0627\\u0636\\u0647 \\u0630\\u0627 \\u0627\\u0631\\u062f \\u0627\\u0628\\u0642\\u0627\\u0621 \\u0639\\u0644\\u064a \\u0634\\u0628\\u0627\\u0628 \\u062f\\u0645\\u0627\\u063a \\u0639\\u0644\\u064a \\u0631\\u064a\\u0627\\u0636\\u0647 \\u0634\\u0628\\u0627\\u0628 \\u062f\\u0645\\u0627\\u063a \\u062f\\u0648\\u0645 \\u0637\\u0648\\u0644 \\u0631\\u064a\\u0627\\u0636\\u0647 \\u062f\\u0628\\u064a \\u0627\\u0645\\u0627\\u0631 \\u0639\\u0631\\u0628\\u064a\\u0647 \\u0645\\u062a\\u062d\\u062f\\u0647 \\u062b\\u0645 \\u062c\\u0631\\u0628 \\u062c\\u062f\\u064a\\u062f \\u0627\\u062c\\u0631\\u064a \\u0639\\u0644\\u064a \\u0621\\u0631 \\u0627\\u0644\\u0645\\u062e\\u062a\\u0628\\u0631\\u0627\\u062a \\u062b\\u0628\\u062a\\u062a \\u0627\\u0646 \\u062a\\u0645\\u0627\\u0631 \\u0631\\u064a\\u0627\\u0636\\u064a\\u0647 \\u064a\\u0648\\u0645\\u064a\\u0647 \\u062d\\u0627\\u0641\\u0638 \\u0639\\u0644\\u064a \\u0634\\u0628\\u0627\\u0628 \\u062f\\u0645\\u0627\\u063a \\u0645\\u0639 \\u0647\\u0630\\u0627 \\u062c\\u0628 \\u0627\\u0646 \\u0646\\u062a\\u0638\\u0631 \\u0637\\u0648\\u064a\\u0644 \\u062d\\u062a \\u0628\\u062f \\u0645\\u0645\\u0627\\u0631\\u0633 \\u0631\\u064a\\u0627\\u0636\\u0647 \\u0627\\u0646 \\u0641\\u0627\\u0639\\u0644 \\u062f\\u0645\\u0627\\u063a \\u062a\\u0645\\u0627\\u0631 \\u0642\\u0644 \\u0645\\u0631\\u0648\\u0631 \\u0632\\u0645\\u0646 \\u062e\\u062a\\u0641\\u064a \\u0633\\u0631\\u0639 \\u0648\\u0635\\u0648\\u0644 \\u0644\\u064a \\u0645\\u062a\\u0648\\u0633\\u0637 \\u0639\\u0645\\u0631 \\u0643\\u062f \\u0645\\u062c\\u0645\\u0648\\u0639 \\u0628\\u0627\\u062d\\u062b \\u0645\\u062e\\u062a\\u0628\\u0631 \\u0645\\u0631\\u0643\\u0632 \\u064a\\u0648\\u0645\\u064a\\u0646\\u0643\\u0648 \\u062a\\u0627\\u0628\\u0639 \\u062c\\u0627\\u0645\\u0639 \\u0634\\u064a\\u0646\\u063a \\u0646\\u063a \\u0637\\u0628\\u064a\\u0647 \\u0648\\u0637\\u0646\\u064a\\u0647 \\u062a\\u0627\\u064a\\u0648\\u0627\\u0646 \\u0641\\u064a \\u0633\\u0627\\u0628\\u0642 \\u0647\\u0621\\u0644\\u0627\\u0621 \\u0628\\u0627\\u062d\\u062b \\u0627\\u0646 \\u0627\\u062f\\u0645\\u063a\\u0647 \\u0634\\u0627\\u0628\\u0647 \\u0646\\u062a\\u062c \\u062e\\u0644\\u0627\\u064a \\u062c\\u062f\\u064a\\u062f \\u062f\\u0641\\u0639 \\u0644\\u064a \\u0634\\u0628\\u0643 \\u062f\\u0645\\u0627\\u063a \\u0627\\u0635\\u0644\\u064a\\u0647 \\u062a\\u062c\\u0631\\u0628 \\u0627\\u062c\\u0631\\u064a \\u0639\\u0644\\u064a \\u0621\\u0631\\u0627\\u0646 \\u062a\\u0627\\u0643\\u062f \\u0646\\u0647 \\u0642\\u062f\\u0645 \\u062d\\u064a\\u0648\\u0627\\u0646 \\u0639\\u0645\\u0631 \\u064a\\u0627\\u062e\\u0630 \\u062a\\u0641\\u0627\\u0639\\u0644 \\u062a\\u0628\\u0627\\u0637\\u0621 \\u0635\\u0648\\u0631 \\u0628\\u064a\\u0631\\u0647 \\u0621\\u062f\\u064a \\u0644\\u064a \\u0642\\u0635 \\u0634\\u0643\\u064a\\u0644 \\u062e\\u0644\\u0627\\u064a \\u062f\\u0645\\u0627\\u063a \\u062c\\u062f\\u064a\\u062f\\u0647 \\u062d\\u062f\\u062b \\u062d\\u0627\\u0644 \\u0636\\u0639\\u0641 \\u0630\\u0627\\u0643\\u0631\\u0647 \\u0642\\u0644 \\u0642\\u062f\\u0631\\u0647 \\u0639\\u0644\\u064a \\u062a\\u0639\\u0644\\u0645 \\u0633\\u0621\\u0627\\u0644 \\u0645\\u0637\\u0631\\u0648\\u062d \\u0647\\u0648 \\u0645\\u0643 \\u062d\\u0633 \\u062a\\u0631\\u0627\\u062c\\u0639 \\u0639\\u0642\\u0644 \\u0645\\u0631\\u062a\\u0628\\u0637 \\u0639\\u0645\\u0631 \\u062e\\u0644\\u0627\\u0644 \\u0645\\u0645\\u0627\\u0631\\u0633 \\u062a\\u0645\\u0627\\u0631 \\u0631\\u064a\\u0627\\u0636\\u064a\\u0647 \\u0645\\u0639\\u0631\\u0641 \\u0627\\u062c\\u0627\\u0628\\u0647 \\u0639\\u0644\\u064a \\u0633\\u0621\\u0627\\u0644 \\u0643\\u0648 \\u0641\\u0631\\u064a\\u0642 \\u062a\\u062f\\u0631\\u064a\\u0628 \\u0621\\u0631 \\u0639\\u0644\\u064a \\u062c\\u0631 \\u0639\\u062c\\u0644 \\u062a\\u0645\\u0631 \\u0642\\u062f\\u0631 \\u0635\\u0644 \\u0644\\u064a \\u0645\\u0627\\u0621\\u0647 \\u0642\\u062f\\u0631\\u062a\\u0647\\u0645 \\u0630\\u0644\\u0643 \\u0634\\u0643\\u0644 \\u0648\\u0645\\u064a \\u0639\\u0644\\u064a \\u0645\\u062f \\u062e\\u0645\\u0633 \\u0627\\u0633\\u0627\\u0628\\u064a\\u0639 \\u0631\\u0648\\u0627\\u0628\\u0637 \\u0639\\u0644\\u0627\\u0642 \\u0646\\u0648\\u0645 \\u0631\\u064a\\u0627\\u0636\\u0647 \\u062e\\u064a\\u0631 \\u0642\\u0627 \\u0633\\u0631\\u0637 \\u0641\\u0621\\u0631 \\u0645\\u0631\\u0627\\u0642\\u0628\\u0647 \\u0643\\u0646 \\u0645\\u062a\\u0645\\u0631\\u0646 \\u0639\\u0644\\u064a \\u062a\\u0645\\u0627\\u0631 \\u0631\\u064a\\u0627\\u0636\\u064a\\u0647 \\u0631\\u063a\\u0645 \\u0648\\u0641\\u0631 \\u062c\\u0647\\u0627\\u0632 \\u062c\\u0631 \\u0639\\u062c\\u0644\\u0627\\u062a \\u062f\\u0627\\u062a \\u0641\\u0621\\u0631 \\u062a\\u0645\\u0631 \\u0633\\u0646 \\u0634\\u0647\\u0648\\u0631 \\u0633\\u0646 \\u0645\\u062a\\u0648\\u0633\\u0637 \\u0644\\u062f\\u064a \\u0641\\u0627\\u0631 \\u0627\\u0648 \\u0633\\u0646 \\u0634\\u0647\\u0631\\u0627 \\u0639\\u0645\\u0631 \\u0645\\u062a\\u0648\\u0633\\u0637 \\u0639\\u0627\\u062f \\u0644\\u062f\\u064a \\u0641\\u0627\\u0631 \\u0628\\u064a \\u0627\\u0646 \\u0641\\u0627\\u0631 \\u0645\\u0627\\u0631\\u0633 \\u0631\\u064a\\u0627\\u0636\\u0647 \\u0634\\u0643\\u0644 \\u0648\\u0645\\u064a \\u0632\\u062f\\u0627\\u062f \\u0645\\u0648 \\u062e\\u0644\\u0627\\u064a \\u062f\\u0645\\u0627\\u063a\\u064a\\u0647 \\u062c\\u062f\\u064a\\u062f\\u0647 \\u0644\\u062f\\u064a \\u0645\\u0642\\u062f\\u0627\\u0631 \\u0632\\u064a\\u0627\\u062f \\u063a\\u064a\\u0631 \\u0641\\u0621\\u0631 \\u0643\\u0633\\u0648\\u0644\\u0647 \\u062d\\u062a\\u0641\\u0638 \\u0645\\u0642\\u0627\\u0631\\u0646\\u0647 \\u062a\\u0637\\u0648\\u0631 \\u0647\\u0621\\u0644\\u0627\\u0621 \\u0641\\u0621\\u0631 \\u0633\\u0628 \\u0639\\u0627\\u0644 \\u0646\\u0648\\u0631\\u0648\\u0646 \\u0639\\u0635\\u0628\\u064a\\u0647 \\u0635\\u0648\\u0631 \\u0627\\u0636\\u062d\\u0647 \\u0627\\u0646\\u062f\\u0645\\u062c \\u0634\\u0628\\u0643\\u0647 \\u0627\\u0635\\u0644\\u064a\\u0647 \\u062f\\u0645\\u0627\\u063a \\u0628\\u064a \\u0627\\u0646 \\u062c\\u0631 \\u0639\\u0644\\u064a \\u062c\\u0647\\u0627\\u0632 \\u062e\\u0627\\u0635 \\u0630\\u0644\\u0643 \\u0627\\u064a\\u0632\\u064a\\u062f \\u0639\\u062f\\u062f \\u0646\\u0648\\u0631\\u0648\\u0646 \\u0639\\u0635\\u0628\\u064a\\u0647 \\u062c\\u062f\\u064a\\u062f\\u0647 \\u062d\\u0633\\u0628 \\u0646\\u0647 \\u062d\\u0633 \\u0648\\u0639\\u064a\\u062a \\u0627\\u064a\\u0636\\u0627 \\u0636\\u064a\\u0641 \\u0628\\u0627\\u062d\\u062b \\u0627\\u0646 \\u0645\\u0645\\u0627\\u0631\\u0633 \\u062c\\u0631 \\u0635\\u0648\\u0631 \\u0645\\u062a\\u0648\\u0627\\u062a\\u0631 \\u0634\\u0627 \\u0627\\u0646 \\u062d\\u0631\\u0636 \\u0639\\u0646\\u0627\\u0635\\u0631 \\u0643\\u064a\\u0645\\u0627\\u0648\\u064a\\u0647 \\u062e\\u0627\\u0635\\u0647 \\u0633\\u0646 \\u0645\\u062a\\u0648\\u0633\\u0637\\u0647 \\u0645\\u0648\\u0627\\u062c\\u0647 \\u0645\\u062d\\u064a\\u0637 \\u0634\\u0628 \\u0645\\u0648\\u062c\\u0648\\u062f \\u0627\\u062f\\u0645\\u063a\\u0647 \\u0634\\u0627\\u0628\\u0647 \\u0628\\u064a \\u0627\\u0646 \\u0641\\u0621\\u0631 \\u062f\\u0627\\u062a \\u0645\\u0645\\u0627\\u0631\\u0633 \\u0631\\u064a\\u0627\\u0636\\u0647 \\u062f\\u0627 \\u0645\\u062a\\u0648\\u0633\\u0637 \\u0639\\u0645\\u0631 \\u0627\\u0633\\u062a\\u0637\\u0627\\u0639 \\u0627\\u0646 \\u062d\\u0635\\u0644 \\u0639\\u0644\\u064a \\u062a\\u0627\\u0621\\u062c \\u0641\\u0636\\u0644 \\u0638\\u0647\\u0631 \\u0644\\u062f\\u064a \\u0641\\u0621\\u0631 \\u0645\\u0627\\u0631\\u0633 \\u0631\\u064a\\u0627\\u0636\\u0647 \\u0627\\u0635\\u0644\\u0627 \\u0644\\u0627 \\u062f\\u0621 \\u0645\\u0631\\u062d\\u0644\\u0647 \\u0645\\u062a\\u0648\\u0633\\u0637\\u0647 \\u0639\\u0645\\u0631 \\u062e\\u062a\\u062a\\u0645 \\u062f\\u0643\\u062a\\u0648\\u0631 \\u0643\\u0648 \\u062f\\u0631\\u0627\\u0633\\u062a\\u0647 \\u0642\\u0627\\u0621\\u0644\\u0627 \\u0627\\u0646 \\u0639\\u0645\\u0631 \\u0645\\u062a\\u0648\\u0633\\u0637 \\u0645\\u062b\\u0644 \\u0642\\u0637 \\u062a\\u062d\\u0648\\u0644 \\u0645\\u0647\\u0645 \\u062c\\u062f \\u062d\\u064a\\u0627\\u0647 \\u0645\\u0644\\u0641\\u062a \\u0627\\u0646\\u062a\\u0628\\u0627\\u0647 \\u0627\\u0646 \\u062a\\u0628\\u062f\\u0644 \\u062d\\u0627\\u0635\\u0644\\u0647 \\u062f\\u0645\\u0627\\u063a \\u062c\\u0631\\u0627\\u0621 \\u0645\\u0645\\u0627\\u0631\\u0633 \\u0631\\u064a\\u0627\\u0636\\u0647 \\u0644\\u062f\\u064a \\u0641\\u0621\\u0631 \\u0646\\u062a\\u062c \\u0642\\u0635 \\u0647\\u0631\\u0645\\u0648\\u0646 \\u0634\\u062f\\u0647 \\u0633\\u0628\\u0642 \\u0627\\u0634\\u0627\\u0631 \\u062d\\u062f \\u062f\\u0631\\u0627\\u0633 \\u0644\\u064a \\u0627\\u0646 \\u062a\\u0628\\u062f\\u0644 \\u0627\\u064a\\u062c\\u0627\\u0628\\u064a\\u0647 \\u062d\\u062f\\u062b \\u062a\\u064a\\u062c \\u0632\\u064a\\u0627\\u062f \\u0627\\u0641\\u0631\\u0627\\u0632 \\u062c\\u0632\\u064a\\u0621 \\u0645\\u062d\\u0631\\u0636\\u0647 \\u062a\\u062d\\u0641\\u0632\\u062e\\u0644\\u0627\\u064a\\u0627 \\u062f\\u0645\\u0627\\u063a \\u0639\\u0644\\u064a \\u0646\\u0645\\u0648 \\u0627\\u0633\\u062a\\u0645\\u0631\\u0627\\u0631 \\u062d\\u064a\\u0627\\u0647 \\u0630\\u0643\\u0631 \\u0627\\u0646 \\u062a\\u0627\\u0621\\u062c \\u062f\\u0631\\u0627\\u0633\\u0647 \\u0645\\u062b\\u064a\\u0631\\u0647 \\u0646\\u0634\\u0631 \\u0645\\u0621\\u062e\\u0631 \\u0645\\u062c\\u0644\"\n        ],\n        \"semantic_type\": \"\",\n        \"description\": \"\"\n      }\n    },\n    {\n      \"column\": \"stop_words\",\n      \"properties\": {\n        \"dtype\": \"number\",\n        \"std\": 7,\n        \"min\": 9,\n        \"max\": 34,\n        \"num_unique_values\": 9,\n        \"samples\": [\n          9,\n          19,\n          31\n        ],\n        \"semantic_type\": \"\",\n        \"description\": \"\"\n      }\n    }\n  ]\n}",
              "type": "dataframe"
            },
            "text/html": [
              "\n",
              "  <div id=\"df-8461ef1f-6cbb-4623-a514-ca45a624c99f\" class=\"colab-df-container\">\n",
              "    <div>\n",
              "<style scoped>\n",
              "    .dataframe tbody tr th:only-of-type {\n",
              "        vertical-align: middle;\n",
              "    }\n",
              "\n",
              "    .dataframe tbody tr th {\n",
              "        vertical-align: top;\n",
              "    }\n",
              "\n",
              "    .dataframe thead th {\n",
              "        text-align: right;\n",
              "    }\n",
              "</style>\n",
              "<table border=\"1\" class=\"dataframe\">\n",
              "  <thead>\n",
              "    <tr style=\"text-align: right;\">\n",
              "      <th></th>\n",
              "      <th>category</th>\n",
              "      <th>Body</th>\n",
              "      <th>stop_words</th>\n",
              "    </tr>\n",
              "  </thead>\n",
              "  <tbody>\n",
              "    <tr>\n",
              "      <th>3084</th>\n",
              "      <td>Sport</td>\n",
              "      <td>الفيفا رفض طلب ايرلند المخدوعه اعاد مبارا رنس ...</td>\n",
              "      <td>23</td>\n",
              "    </tr>\n",
              "    <tr>\n",
              "      <th>7556</th>\n",
              "      <td>Sport</td>\n",
              "      <td>رياض منتخب نهاء اس عالم اكتمال عقد منتخب مشارك...</td>\n",
              "      <td>19</td>\n",
              "    </tr>\n",
              "    <tr>\n",
              "      <th>340</th>\n",
              "      <td>Business</td>\n",
              "      <td>جنرال موتورز شك قدر علي استمرار جنرال موتورز ش...</td>\n",
              "      <td>14</td>\n",
              "    </tr>\n",
              "    <tr>\n",
              "      <th>3821</th>\n",
              "      <td>World</td>\n",
              "      <td>حرير مراسل نيويور تايمز مختطف افغانس حرير مراس...</td>\n",
              "      <td>19</td>\n",
              "    </tr>\n",
              "    <tr>\n",
              "      <th>7873</th>\n",
              "      <td>Science and Technology</td>\n",
              "      <td>علوم وتكنولوجيا هاتف محمول جديد سمح مدراء تجسس...</td>\n",
              "      <td>34</td>\n",
              "    </tr>\n",
              "    <tr>\n",
              "      <th>2300</th>\n",
              "      <td>Science and Technology</td>\n",
              "      <td>ذا ارد ابقاء علي شباب دماغ علي رياضه ذا ارد اب...</td>\n",
              "      <td>25</td>\n",
              "    </tr>\n",
              "    <tr>\n",
              "      <th>6799</th>\n",
              "      <td>World</td>\n",
              "      <td>عالم هايتي نقاذ مرا عمر يام انقاض فرق انقاذ ها...</td>\n",
              "      <td>31</td>\n",
              "    </tr>\n",
              "    <tr>\n",
              "      <th>2035</th>\n",
              "      <td>Science and Technology</td>\n",
              "      <td>ركان تشايتن عاود فور مجدد جنوب شيل ركان تشايتن...</td>\n",
              "      <td>21</td>\n",
              "    </tr>\n",
              "    <tr>\n",
              "      <th>5376</th>\n",
              "      <td>Middle East News</td>\n",
              "      <td>شرق اوسط رزا يامر تعليق عطله البرلمانيه شتويه ...</td>\n",
              "      <td>9</td>\n",
              "    </tr>\n",
              "    <tr>\n",
              "      <th>4865</th>\n",
              "      <td>Middle East News</td>\n",
              "      <td>شرق اوسط امنتس طالب غاء حكم عدام علي معارض ير ...</td>\n",
              "      <td>28</td>\n",
              "    </tr>\n",
              "  </tbody>\n",
              "</table>\n",
              "</div>\n",
              "    <div class=\"colab-df-buttons\">\n",
              "\n",
              "  <div class=\"colab-df-container\">\n",
              "    <button class=\"colab-df-convert\" onclick=\"convertToInteractive('df-8461ef1f-6cbb-4623-a514-ca45a624c99f')\"\n",
              "            title=\"Convert this dataframe to an interactive table.\"\n",
              "            style=\"display:none;\">\n",
              "\n",
              "  <svg xmlns=\"http://www.w3.org/2000/svg\" height=\"24px\" viewBox=\"0 -960 960 960\">\n",
              "    <path d=\"M120-120v-720h720v720H120Zm60-500h600v-160H180v160Zm220 220h160v-160H400v160Zm0 220h160v-160H400v160ZM180-400h160v-160H180v160Zm440 0h160v-160H620v160ZM180-180h160v-160H180v160Zm440 0h160v-160H620v160Z\"/>\n",
              "  </svg>\n",
              "    </button>\n",
              "\n",
              "  <style>\n",
              "    .colab-df-container {\n",
              "      display:flex;\n",
              "      gap: 12px;\n",
              "    }\n",
              "\n",
              "    .colab-df-convert {\n",
              "      background-color: #E8F0FE;\n",
              "      border: none;\n",
              "      border-radius: 50%;\n",
              "      cursor: pointer;\n",
              "      display: none;\n",
              "      fill: #1967D2;\n",
              "      height: 32px;\n",
              "      padding: 0 0 0 0;\n",
              "      width: 32px;\n",
              "    }\n",
              "\n",
              "    .colab-df-convert:hover {\n",
              "      background-color: #E2EBFA;\n",
              "      box-shadow: 0px 1px 2px rgba(60, 64, 67, 0.3), 0px 1px 3px 1px rgba(60, 64, 67, 0.15);\n",
              "      fill: #174EA6;\n",
              "    }\n",
              "\n",
              "    .colab-df-buttons div {\n",
              "      margin-bottom: 4px;\n",
              "    }\n",
              "\n",
              "    [theme=dark] .colab-df-convert {\n",
              "      background-color: #3B4455;\n",
              "      fill: #D2E3FC;\n",
              "    }\n",
              "\n",
              "    [theme=dark] .colab-df-convert:hover {\n",
              "      background-color: #434B5C;\n",
              "      box-shadow: 0px 1px 3px 1px rgba(0, 0, 0, 0.15);\n",
              "      filter: drop-shadow(0px 1px 2px rgba(0, 0, 0, 0.3));\n",
              "      fill: #FFFFFF;\n",
              "    }\n",
              "  </style>\n",
              "\n",
              "    <script>\n",
              "      const buttonEl =\n",
              "        document.querySelector('#df-8461ef1f-6cbb-4623-a514-ca45a624c99f button.colab-df-convert');\n",
              "      buttonEl.style.display =\n",
              "        google.colab.kernel.accessAllowed ? 'block' : 'none';\n",
              "\n",
              "      async function convertToInteractive(key) {\n",
              "        const element = document.querySelector('#df-8461ef1f-6cbb-4623-a514-ca45a624c99f');\n",
              "        const dataTable =\n",
              "          await google.colab.kernel.invokeFunction('convertToInteractive',\n",
              "                                                    [key], {});\n",
              "        if (!dataTable) return;\n",
              "\n",
              "        const docLinkHtml = 'Like what you see? Visit the ' +\n",
              "          '<a target=\"_blank\" href=https://colab.research.google.com/notebooks/data_table.ipynb>data table notebook</a>'\n",
              "          + ' to learn more about interactive tables.';\n",
              "        element.innerHTML = '';\n",
              "        dataTable['output_type'] = 'display_data';\n",
              "        await google.colab.output.renderOutput(dataTable, element);\n",
              "        const docLink = document.createElement('div');\n",
              "        docLink.innerHTML = docLinkHtml;\n",
              "        element.appendChild(docLink);\n",
              "      }\n",
              "    </script>\n",
              "  </div>\n",
              "\n",
              "\n",
              "<div id=\"df-543d8885-76f6-4749-838f-002372f4c174\">\n",
              "  <button class=\"colab-df-quickchart\" onclick=\"quickchart('df-543d8885-76f6-4749-838f-002372f4c174')\"\n",
              "            title=\"Suggest charts\"\n",
              "            style=\"display:none;\">\n",
              "\n",
              "<svg xmlns=\"http://www.w3.org/2000/svg\" height=\"24px\"viewBox=\"0 0 24 24\"\n",
              "     width=\"24px\">\n",
              "    <g>\n",
              "        <path d=\"M19 3H5c-1.1 0-2 .9-2 2v14c0 1.1.9 2 2 2h14c1.1 0 2-.9 2-2V5c0-1.1-.9-2-2-2zM9 17H7v-7h2v7zm4 0h-2V7h2v10zm4 0h-2v-4h2v4z\"/>\n",
              "    </g>\n",
              "</svg>\n",
              "  </button>\n",
              "\n",
              "<style>\n",
              "  .colab-df-quickchart {\n",
              "      --bg-color: #E8F0FE;\n",
              "      --fill-color: #1967D2;\n",
              "      --hover-bg-color: #E2EBFA;\n",
              "      --hover-fill-color: #174EA6;\n",
              "      --disabled-fill-color: #AAA;\n",
              "      --disabled-bg-color: #DDD;\n",
              "  }\n",
              "\n",
              "  [theme=dark] .colab-df-quickchart {\n",
              "      --bg-color: #3B4455;\n",
              "      --fill-color: #D2E3FC;\n",
              "      --hover-bg-color: #434B5C;\n",
              "      --hover-fill-color: #FFFFFF;\n",
              "      --disabled-bg-color: #3B4455;\n",
              "      --disabled-fill-color: #666;\n",
              "  }\n",
              "\n",
              "  .colab-df-quickchart {\n",
              "    background-color: var(--bg-color);\n",
              "    border: none;\n",
              "    border-radius: 50%;\n",
              "    cursor: pointer;\n",
              "    display: none;\n",
              "    fill: var(--fill-color);\n",
              "    height: 32px;\n",
              "    padding: 0;\n",
              "    width: 32px;\n",
              "  }\n",
              "\n",
              "  .colab-df-quickchart:hover {\n",
              "    background-color: var(--hover-bg-color);\n",
              "    box-shadow: 0 1px 2px rgba(60, 64, 67, 0.3), 0 1px 3px 1px rgba(60, 64, 67, 0.15);\n",
              "    fill: var(--button-hover-fill-color);\n",
              "  }\n",
              "\n",
              "  .colab-df-quickchart-complete:disabled,\n",
              "  .colab-df-quickchart-complete:disabled:hover {\n",
              "    background-color: var(--disabled-bg-color);\n",
              "    fill: var(--disabled-fill-color);\n",
              "    box-shadow: none;\n",
              "  }\n",
              "\n",
              "  .colab-df-spinner {\n",
              "    border: 2px solid var(--fill-color);\n",
              "    border-color: transparent;\n",
              "    border-bottom-color: var(--fill-color);\n",
              "    animation:\n",
              "      spin 1s steps(1) infinite;\n",
              "  }\n",
              "\n",
              "  @keyframes spin {\n",
              "    0% {\n",
              "      border-color: transparent;\n",
              "      border-bottom-color: var(--fill-color);\n",
              "      border-left-color: var(--fill-color);\n",
              "    }\n",
              "    20% {\n",
              "      border-color: transparent;\n",
              "      border-left-color: var(--fill-color);\n",
              "      border-top-color: var(--fill-color);\n",
              "    }\n",
              "    30% {\n",
              "      border-color: transparent;\n",
              "      border-left-color: var(--fill-color);\n",
              "      border-top-color: var(--fill-color);\n",
              "      border-right-color: var(--fill-color);\n",
              "    }\n",
              "    40% {\n",
              "      border-color: transparent;\n",
              "      border-right-color: var(--fill-color);\n",
              "      border-top-color: var(--fill-color);\n",
              "    }\n",
              "    60% {\n",
              "      border-color: transparent;\n",
              "      border-right-color: var(--fill-color);\n",
              "    }\n",
              "    80% {\n",
              "      border-color: transparent;\n",
              "      border-right-color: var(--fill-color);\n",
              "      border-bottom-color: var(--fill-color);\n",
              "    }\n",
              "    90% {\n",
              "      border-color: transparent;\n",
              "      border-bottom-color: var(--fill-color);\n",
              "    }\n",
              "  }\n",
              "</style>\n",
              "\n",
              "  <script>\n",
              "    async function quickchart(key) {\n",
              "      const quickchartButtonEl =\n",
              "        document.querySelector('#' + key + ' button');\n",
              "      quickchartButtonEl.disabled = true;  // To prevent multiple clicks.\n",
              "      quickchartButtonEl.classList.add('colab-df-spinner');\n",
              "      try {\n",
              "        const charts = await google.colab.kernel.invokeFunction(\n",
              "            'suggestCharts', [key], {});\n",
              "      } catch (error) {\n",
              "        console.error('Error during call to suggestCharts:', error);\n",
              "      }\n",
              "      quickchartButtonEl.classList.remove('colab-df-spinner');\n",
              "      quickchartButtonEl.classList.add('colab-df-quickchart-complete');\n",
              "    }\n",
              "    (() => {\n",
              "      let quickchartButtonEl =\n",
              "        document.querySelector('#df-543d8885-76f6-4749-838f-002372f4c174 button');\n",
              "      quickchartButtonEl.style.display =\n",
              "        google.colab.kernel.accessAllowed ? 'block' : 'none';\n",
              "    })();\n",
              "  </script>\n",
              "</div>\n",
              "\n",
              "    </div>\n",
              "  </div>\n"
            ],
            "text/plain": [
              "                    category  \\\n",
              "3084                   Sport   \n",
              "7556                   Sport   \n",
              "340                 Business   \n",
              "3821                   World   \n",
              "7873  Science and Technology   \n",
              "2300  Science and Technology   \n",
              "6799                   World   \n",
              "2035  Science and Technology   \n",
              "5376        Middle East News   \n",
              "4865        Middle East News   \n",
              "\n",
              "                                                   Body  stop_words  \n",
              "3084  الفيفا رفض طلب ايرلند المخدوعه اعاد مبارا رنس ...          23  \n",
              "7556  رياض منتخب نهاء اس عالم اكتمال عقد منتخب مشارك...          19  \n",
              "340   جنرال موتورز شك قدر علي استمرار جنرال موتورز ش...          14  \n",
              "3821  حرير مراسل نيويور تايمز مختطف افغانس حرير مراس...          19  \n",
              "7873  علوم وتكنولوجيا هاتف محمول جديد سمح مدراء تجسس...          34  \n",
              "2300  ذا ارد ابقاء علي شباب دماغ علي رياضه ذا ارد اب...          25  \n",
              "6799  عالم هايتي نقاذ مرا عمر يام انقاض فرق انقاذ ها...          31  \n",
              "2035  ركان تشايتن عاود فور مجدد جنوب شيل ركان تشايتن...          21  \n",
              "5376  شرق اوسط رزا يامر تعليق عطله البرلمانيه شتويه ...           9  \n",
              "4865  شرق اوسط امنتس طالب غاء حكم عدام علي معارض ير ...          28  "
            ]
          },
          "execution_count": 51,
          "metadata": {},
          "output_type": "execute_result"
        }
      ],
      "source": [
        "df.sample(10)"
      ]
    },
    {
      "cell_type": "code",
      "execution_count": 52,
      "metadata": {
        "execution": {
          "iopub.execute_input": "2024-05-07T21:38:28.367174Z",
          "iopub.status.busy": "2024-05-07T21:38:28.366832Z",
          "iopub.status.idle": "2024-05-07T21:38:28.37486Z",
          "shell.execute_reply": "2024-05-07T21:38:28.373958Z",
          "shell.execute_reply.started": "2024-05-07T21:38:28.367151Z"
        },
        "id": "SOVKUAUSenXS",
        "trusted": true
      },
      "outputs": [],
      "source": [
        "my_data = df.copy()"
      ]
    },
    {
      "cell_type": "code",
      "execution_count": 53,
      "metadata": {
        "colab": {
          "base_uri": "https://localhost:8080/",
          "height": 423
        },
        "execution": {
          "iopub.execute_input": "2024-05-07T21:38:28.376523Z",
          "iopub.status.busy": "2024-05-07T21:38:28.376173Z",
          "iopub.status.idle": "2024-05-07T21:38:28.391139Z",
          "shell.execute_reply": "2024-05-07T21:38:28.390092Z",
          "shell.execute_reply.started": "2024-05-07T21:38:28.376498Z"
        },
        "id": "pTkBPOwxenXV",
        "outputId": "d63c5735-c4da-4547-e25f-852dc41adaea",
        "trusted": true
      },
      "outputs": [
        {
          "data": {
            "application/vnd.google.colaboratory.intrinsic+json": {
              "summary": "{\n  \"name\": \"my_data\",\n  \"rows\": 8786,\n  \"fields\": [\n    {\n      \"column\": \"category\",\n      \"properties\": {\n        \"dtype\": \"category\",\n        \"num_unique_values\": 6,\n        \"samples\": [\n          \"Business\",\n          \"Entertainment\",\n          \"World\"\n        ],\n        \"semantic_type\": \"\",\n        \"description\": \"\"\n      }\n    },\n    {\n      \"column\": \"Body\",\n      \"properties\": {\n        \"dtype\": \"string\",\n        \"num_unique_values\": 8785,\n        \"samples\": [\n          \"\\u0633\\u062e\\u0637 \\u0639\\u0631\\u0628 \\u0627\\u0646\\u062a\\u062e\\u0627\\u0628 \\u0627\\u0633\\u0631\\u0627\\u0621\\u064a\\u0644 \\u0631\\u0621\\u0627\\u0633 \\u062c\\u0646 \\u062a\\u0646\\u0645\\u064a\\u0647 \\u0627\\u0645\\u0645\\u064a\\u0647 \\u0633\\u062e\\u0637 \\u0639\\u0631\\u0628 \\u0627\\u0646\\u062a\\u062e\\u0627\\u0628 \\u0627\\u0633\\u0631\\u0627\\u0621\\u064a\\u0644 \\u0631\\u0621\\u0627\\u0633 \\u062c\\u0646 \\u062a\\u0646\\u0645\\u064a\\u0647 \\u0627\\u0645\\u0645\\u064a\\u0647 \\u0639\\u0631\\u0628 \\u0642\\u0648\\u0644 \\u0627\\u0646 \\u0627\\u0633\\u0631\\u0627\\u0621\\u064a\\u0644 \\u0627\\u0631\\u0639 \\u0647\\u062f\\u0645 \\u0644\\u064a\\u0633 \\u0628\\u0646\\u0627\\u0621 \\u062f\\u0628\\u064a \\u0627\\u0645\\u0627\\u0631 \\u0639\\u0631\\u0628\\u064a\\u0647 \\u0645\\u062a\\u062d\\u062f\\u0647 \\u0642\\u0627\\u0644 \\u062a\\u0642\\u0627\\u0631\\u064a\\u0631 \\u0639\\u0644\\u0627\\u0645 \\u0627\\u0646 \\u0645\\u062c\\u0645\\u0648\\u0639\\u0647 \\u0639\\u0631\\u0628\\u064a\\u0647 \\u0627\\u0645\\u0645 \\u0645\\u062a\\u062d\\u062f\\u0647 \\u0627\\u0639\\u0644\\u0646 \\u0645\\u0639\\u0627\\u0631\\u0636 \\u0634\\u062f\\u064a\\u062f\\u0647 \\u0627\\u062e\\u062a\\u064a\\u0627\\u0631 \\u0627\\u0633\\u0631\\u0627\\u0621\\u064a\\u0644 \\u0646\\u062a\\u062e\\u0627\\u0628 \\u0631\\u0621\\u0627\\u0633 \\u062f\\u0648\\u0631\\u0647 \\u062b\\u0627\\u0644\\u062b\\u0647 \\u0627\\u0631\\u0628\\u0639 \\u062c\\u0646\\u0647 \\u0633\\u0643 \\u062a\\u0646\\u0645\\u064a\\u0647 \\u0627\\u0646\\u062a \\u0644\\u062c\\u0646\\u0647 \\u0627\\u0646\\u062a\\u062e\\u0628 \\u0645\\u0645\\u062b\\u0644 \\u0627\\u0633\\u0631\\u0627\\u0621\\u064a\\u0644 \\u062f\\u0627\\u0646\\u064a\\u0627\\u0644 \\u0627\\u0631\\u0645\\u0648 \\u0631\\u0621\\u064a\\u0633 \\u062f\\u0648\\u0631\\u0647 \\u062f\\u0639\\u0645 \\u062f\\u0648\\u0644 \\u0627\\u0648\\u0631\\u0648\\u0628\\u064a\\u0647 \\u0631\\u063a\\u0645 \\u0627\\u0646 \\u0645\\u062c\\u0645\\u0648\\u0639\\u0647 \\u0639\\u0631\\u0628\\u064a\\u0647 \\u062c\\u0647 \\u0631\\u0633\\u0627\\u0644 \\u0644\\u064a \\u0633\\u0643\\u0631\\u062a\\u064a\\u0631 \\u0639\\u0627\\u0645 \\u0648\\u0645 \\u0646\\u062a\\u062e\\u0627\\u0628 \\u0645\\u0646\\u062f\\u0648\\u0628 \\u0627\\u0633\\u0631\\u0627\\u0621\\u064a\\u0644 \\u0643\\u062f \\u0631\\u0621\\u064a\\u0633 \\u062d\\u0627\\u0644 \\u0645\\u062c\\u0645\\u0648\\u0639\\u0647 \\u0639\\u0631\\u0628\\u064a\\u0647 \\u0645\\u0646\\u062f\\u0648\\u0628 \\u0627\\u0631\\u062f\\u0646 \\u062f\\u0627\\u0621\\u0645 \\u0644\\u062f\\u064a \\u0627\\u0645\\u0645 \\u0645\\u062a\\u062d\\u062f\\u0647 \\u0633\\u0641\\u064a\\u0631 \\u0645\\u062d\\u0645\\u062f \\u0639\\u0644\\u0627\\u0641 \\u0631\\u0633\\u0627\\u0644 \\u062c\\u0647 \\u0644\\u064a \\u0633\\u0643\\u0631\\u062a\\u064a\\u0631 \\u0639\\u0627\\u0645 \\u0627\\u0645\\u0645 \\u0645\\u062a\\u062d\\u062f\\u0647 \\u0627\\u0646 \\u0645\\u0648 \\u0627\\u0646 \\u062a\\u0633\\u0645 \\u0627\\u0633\\u0631\\u0627\\u0621\\u064a\\u0644 \\u0631\\u0621\\u0627\\u0633 \\u0644\\u062c\\u0646\\u0647 \\u0643\\u0648 \\u062b\\u0631 \\u0633\\u0644\\u0628 \\u0639\\u0644\\u064a \\u0639\\u0645\\u0644 \\u0644\\u062c\\u0646\\u0647 \\u0648\\u0645\\u0635\\u062f\\u0627\\u0642\\u064a\\u062a\\u0647\\u0627 \\u0631\\u0648\\u0627\\u0628\\u0637 \\u0639\\u0644\\u0627\\u0642 \\u0645\\u062f\\u0639 \\u0639\\u0627\\u0645 \\u062c\\u0631\\u0627\\u0621\\u0645 \\u062d\\u0631\\u0628 \\u0631\\u0627\\u0633 \\u062c\\u0646 \\u0642\\u0635 \\u062d\\u0642\\u0627\\u0621\\u0642 \\u063a\\u0632 \\u0627\\u0633\\u0631\\u0627\\u0621\\u064a\\u0644 \\u0647\\u062f\\u0645 \\u0645\\u0646\\u0632\\u0644 \\u0645\\u0647\\u0627\\u062c\\u0645 \\u0642\\u062a\\u0644 \\u0633\\u0637\\u064a\\u0646\\u064a\\u0627 \\u0648\\u0631\\u062f \\u0639\\u0644\\u0627\\u0641 \\u0631\\u0633\\u0627\\u0644\\u0647 \\u0639\\u062f\\u062f \\u0627\\u0633\\u0628\\u0627\\u0628 \\u062c\\u0639\\u0644 \\u0645\\u062c\\u0645\\u0648\\u0639\\u0647 \\u0639\\u0631\\u0628\\u064a\\u0647 \\u0631\\u0641\\u0636 \\u0631\\u0634\\u064a\\u062d \\u0627\\u0633\\u0631\\u0627\\u0621\\u064a\\u0644 \\u0631\\u0621\\u0627\\u0633 \\u062c\\u0646 \\u0633\\u0643 \\u062a\\u0646\\u0645\\u064a\\u0647 \\u0645\\u0642\\u062f\\u0645 \\u062f\\u0627\\u0628 \\u062f\\u0648\\u0644\\u0647 \\u0639\\u0628\\u0631\\u064a\\u0647 \\u0639\\u0644\\u064a \\u0639\\u0631\\u0642\\u0644\\u0647 \\u062a\\u0646\\u0645\\u064a\\u0647 \\u0627\\u0631\\u0627\\u0636 \\u0627\\u0644\\u0641\\u0644\\u0633\\u0637\\u064a\\u0646\\u064a\\u0647 \\u0641\\u0642 \\u0648\\u0643\\u0627\\u0644 \\u0627\\u0646\\u0628\\u0627\\u0621 \\u0627\\u0631\\u062f\\u0646\\u064a\\u0647 \\u0642\\u0627\\u0644 \\u0627\\u0646 \\u0627\\u0633\\u0628\\u0627\\u0628 \\u064a\\u0636 \\u0627\\u0644\\u0627\\u0646\\u062a\\u0647\\u0627\\u0643\\u0627\\u062a \\u062c\\u0633\\u064a\\u0645\\u0647 \\u062d\\u0642\\u0648\\u0642 \\u0633\\u0643 \\u0639\\u0631\\u0628 \\u0627\\u0631\\u0627\\u0636 \\u0627\\u0644\\u0641\\u0644\\u0633\\u0637\\u064a\\u0646\\u064a\\u0647 \\u0642\\u062f\\u0633 \\u0634\\u0631\\u0642\\u064a\\u0647 \\u0641\\u064a \\u062c\\u0648\\u0644 \\u0633\\u0648\\u0631 \\u0645\\u062d\\u062a\\u0644 \\u0628\\u0642 \\u0627\\u0631\\u0627\\u0636 \\u0644\\u0628\\u0646\\u0627\\u0646\\u064a\\u0647 \\u0645\\u062d\\u062a\\u0644\\u0647 \\u062a\\u0627\\u0628\\u0639 \\u0639\\u0644\\u0627\\u0641 \\u0627\\u0646 \\u0645\\u0639\\u0627\\u0631\\u0636 \\u0645\\u062c\\u0645\\u0648\\u0639\\u0647 \\u0631\\u0634\\u064a\\u062d \\u0627\\u0633\\u0631\\u0627\\u0621\\u064a\\u0644 \\u0646\\u0627\\u0628\\u0639 \\u0642\\u0646\\u0627\\u0639 \\u0627\\u0646 \\u062a\\u0631\\u0634\\u064a\\u062d \\u062a\\u0639\\u0627\\u0631\\u0636 \\u0645\\u0642\\u0627\\u0635\\u062f \\u0645\\u0628\\u0627\\u062f\\u0621 \\u0642\\u0627\\u0645 \\u0639\\u0644\\u064a \\u062c\\u0646 \\u0633\\u0643 \\u062a\\u0646\\u0645\\u064a\\u0647 \\u0636\\u0627\\u0641 \\u0631\\u0633\\u0627\\u0644\\u0647 \\u0627\\u0646 \\u0627\\u0633\\u0631\\u0627\\u0621\\u064a\\u0644 \\u0634\\u0646\\u062a \\u062d\\u0631\\u0628 \\u062c\\u0631\\u0627\\u0645 \\u062d\\u0634 \\u0636\\u062f \\u0645\\u0644\\u064a \\u0633\\u0637\\u064a \\u063a\\u0632 \\u062f\\u0627\\u0633 \\u0639\\u0644\\u064a \\u062d\\u0642\\u0648\\u0642 \\u0627\\u0646\\u0633 \\u0639\\u0628\\u0631 \\u0627\\u0633\\u062a\\u0647\\u062f\\u0627\\u0641 \\u0633\\u0643 \\u0645\\u062f\\u0646 \\u0628\\u0646\\u064a\\u0647 \\u062a\\u062d\\u062a\\u064a\\u0647 \\u0645\\u062f\\u0627\\u0631\\u0633 \\u0645\\u0633\\u062a\\u0634\\u0641 \\u0645\\u0621\\u0633\\u0633 \\u0627\\u0644\\u0627\\u0642\\u062a\\u0635\\u0627\\u062f\\u064a\\u0647 \\u0645\\u0628 \\u0627\\u0645\\u0645 \\u0645\\u062a\\u062d\\u062f\\u0647 \\u062a\\u0627\\u0628\\u0639 \\u0627\\u0646 \\u0627\\u0633\\u0631\\u0627\\u0621\\u064a\\u0644 \\u062f\\u0648\\u0644 \\u0642\\u0627\\u0621\\u0645 \\u0627\\u062d\\u062a\\u0644\\u0627\\u0644 \\u0647\\u064a \\u0645\\u0646\\u062a\\u0647\\u0643 \\u0631\\u0621\\u064a\\u0633 \\u0642\\u0627\\u0646 \\u062f\\u0648\\u0644 \\u0642\\u0631\\u0627\\u0631 \\u0627\\u0645\\u0645 \\u0645\\u062a\\u062d\\u062f\\u0647 \\u0641\\u062a\\u0642\\u0631 \\u062a\\u0627\\u0644 \\u0644\\u064a \\u0635\\u0641 \\u0644\\u0627\\u0632\\u0645\\u0647 \\u0631\\u0621\\u0633 \\u062c\\u0646 \\u062a\\u0627\\u0628\\u0639 \\u0627\\u0645\\u0645 \\u0645\\u062a\\u062d\\u062f\\u0647 \\u0647\\u064a \\u0643\\u0648 \\u0642\\u0627\\u062f\\u0631 \\u0639\\u0644\\u064a \\u062f\\u0627\\u0621 \\u0627\\u062c\\u0628 \\u0637\\u0631\\u064a\\u0642 \\u0646\\u0632\\u064a\\u0647\\u0647\",\n          \"\\u0639\\u0627\\u0644\\u0645 \\u062d\\u0645\\u0644 \\u0631\\u0633\\u0645 \\u0645\\u0643\\u0627\\u0641\\u062d \\u0641\\u0633\\u0627\\u062f \\u0627\\u0641\\u063a\\u0627\\u0646\\u0633 \\u0645\\u0633\\u0621\\u0648\\u0644 \\u0641\\u063a\\u0627 \\u0637\\u0644\\u0642 \\u062d\\u0645\\u0644 \\u0645\\u0643\\u0627\\u0641\\u062d \\u0641\\u0633\\u0627\\u062f \\u0634\\u0643\\u0644 \\u0642\\u0648 \\u062e\\u0627\\u0635 \\u0645\\u0643\\u0627\\u0641\\u062d \\u062c\\u0631\\u064a\\u0645\\u0647 \\u0633\\u0637 \\u0636\\u063a\\u0648\\u0637 \\u062f\\u0648\\u0644 \\u0639\\u0644\\u064a \\u062d\\u0643\\u0648\\u0645\\u0647 \\u0645\\u0643\\u0627\\u0641\\u062d \\u0641\\u0633\\u0627\\u062f \\u0627\\u0648\\u0633\\u0627\\u0637 \\u0627\\u0644\\u062d\\u0643\\u0648\\u0645\\u064a\\u0647 \\u0631\\u0621\\u064a\\u0633\\u064a\\u0647 \\u0634\\u0631\\u0642 \\u0627\\u0648\\u0633\\u0637 \\u0639\\u0627\\u0644\\u0645 \\u0634\\u0627\\u0631 \\u0631\\u0627 \\u0642\\u062a\\u0635\\u0627\\u062f \\u0639\\u0645\\u0627\\u0644 \\u0645\\u0646\\u0648\\u0639 \\u0639\\u0644\\u0648\\u0645 \\u0648\\u062a\\u0643\\u0646\\u0648\\u0644\\u0648\\u062c\\u064a\\u0627 \\u0631\\u064a\\u0627\\u0636 \\u0631\\u0627\\u062f\\u064a \\u062a\\u0644\\u0641\\u0632\\u064a \\u062e\\u0631 \\u062a\\u062d\\u062f\\u064a\\u062b \\u0627\\u062b\\u0646\\u064a\\u0646 \\u0646\\u0648\\u0641\\u0645\\u0628\\u0631 \\u062b\\u0627\\u0646\\u064a \\u062d\\u0645\\u0644 \\u0631\\u0633\\u0645 \\u0645\\u0643\\u0627\\u0641\\u062d \\u0641\\u0633\\u0627\\u062f \\u0627\\u0641\\u063a\\u0627\\u0646\\u0633 \\u0637\\u0644\\u0642 \\u0645\\u0633\\u0621\\u0648\\u0644 \\u0641\\u063a\\u0627 \\u062d\\u0645\\u0644 \\u0645\\u0643\\u0627\\u0641\\u062d \\u0641\\u0633\\u0627\\u062f \\u0634\\u0643\\u0644 \\u0642\\u0648 \\u062e\\u0627\\u0635 \\u0645\\u0643\\u0627\\u0641\\u062d \\u062c\\u0631\\u064a\\u0645\\u0647 \\u0633\\u0637 \\u0636\\u063a\\u0648\\u0637 \\u062f\\u0648\\u0644 \\u0639\\u0644\\u064a \\u062d\\u0643\\u0648\\u0645\\u0647 \\u0645\\u0643\\u0627\\u0641\\u062d \\u0641\\u0633\\u0627\\u062f \\u0627\\u0648\\u0633\\u0627\\u0637 \\u062d\\u0643\\u0648\\u0645\\u064a\\u0647 \\u0647\\u0630\\u0647 \\u062d\\u0645\\u0644\\u0647 \\u062b\\u0627\\u0644\\u062b\\u0647 \\u0637\\u0644\\u0642 \\u062d\\u0643\\u0648\\u0645\\u0647 \\u0627\\u0641\\u063a\\u0627\\u0646\\u064a\\u0647 \\u0633\\u0646\\u0648 \\u0627\\u062e\\u064a\\u0631\\u0647 \\u0645\\u0643\\u0627\\u0641\\u062d \\u0631\\u0634\\u0648\\u0647 \\u0634\\u0643\\u0627\\u0644 \\u0641\\u0633\\u0627\\u062f \\u0627\\u062e\\u0631\\u064a \\u0645\\u0633\\u0621\\u0648\\u0644 \\u0641\\u063a\\u0627 \\u0643\\u062f \\u0627\\u0646 \\u0645\\u0643\\u0627\\u0646 \\u0646\\u062c\\u0627\\u062d \\u0645\\u0631\\u0647 \\u0641\\u0636\\u0644 \\u0633\\u0628\\u0628 \\u062f\\u0639\\u0645 \\u062f\\u0648\\u0644 \\u0648\\u0641\\u0631 \\u0627\\u0631\\u0627\\u062f\\u0647 \\u0631\\u063a\\u0628\\u0647 \\u0646\\u062c\\u0627\\u062d \\u0633\\u0627\\u0647\\u0645 \\u062c\\u0647\\u0632 \\u0645\\u0646 \\u0631\\u064a\\u0637\\u0627\\u0646\\u064a\\u0627 \\u0648\\u0644\\u0627 \\u0645\\u062a\\u062d\\u062f\\u0647 \\u0628\\u0648\\u0644\\u064a\\u0633 \\u062f\\u0648\\u0644 \\u0627\\u0644\\u0627\\u0646\\u062a\\u0631\\u0628\\u0648\\u0644 \\u0646\\u0634\\u0627\\u0621 \\u0648\\u062d\\u062f\\u0647 \\u0642\\u0627\\u0644 \\u0632\\u064a\\u0631 \\u062f\\u0627\\u062e\\u0644\\u064a\\u0647 \\u0627\\u0641\\u063a\\u0627\\u0646 \\u062d\\u0646\\u064a\\u0641 \\u0627\\u062a\\u0645\\u0627\\u0631 \\u062c\\u0627\\u0621 \\u0645\\u0628\\u0627\\u062f\\u0631\\u0647 \\u0627\\u0646 \\u0635\\u062f\\u0631 \\u0631\\u062f\\u0648\\u062f \\u0639\\u0644 \\u063a\\u0627\\u0636\\u0628 \\u0631\\u0621\\u064a\\u0633 \\u062d\\u0627\\u0645\\u062f \\u0631\\u0632\\u0627 \\u0639\\u0644\\u064a \\u0645\\u062d\\u0627\\u0648\\u0644 \\u0627\\u0645\\u0645 \\u0645\\u062a\\u062d\\u062f\\u0647 \\u0648\\u0636\\u0639 \\u0647\\u062f\\u0627\\u0641 \\u062a\\u0639\\u0644\\u0642 \\u0645\\u0643\\u0627\\u0641\\u062d \\u0641\\u0633\\u0627\\u062f \\u0627\\u0646\\u062a \\u0648\\u0644\\u0627 \\u0645\\u062a\\u062d\\u062f\\u0647 \\u0631\\u064a\\u0637\\u0627\\u0646\\u064a\\u0627 \\u0637\\u0627\\u0644\\u0628 \\u0631\\u0621\\u064a\\u0633 \\u0631\\u0632\\u0627 \\u0627\\u0633\\u0627\\u0628\\u064a\\u0639 \\u0627\\u062e\\u064a\\u0631\\u0647 \\u0627\\u062c\\u0631\\u0627\\u0621 \\u0627\\u0635\\u0644\\u0627\\u062d \\u0639\\u0642\\u0628 \\u0627\\u0646\\u062a\\u062e\\u0627\\u0628 \\u0633\\u0627\\u062f \\u0641\\u0648\\u0636 \\u0627\\u062a\\u0647\\u0627\\u0645 \\u062a\\u0632\\u0648\\u064a\\u0631 \\u062a\\u0637\\u0644\\u0628 \\u0634\\u0647\\u0631 \\u0635\\u0641 \\u0627\\u0639\\u0644\\u0627 \\u062a\\u0627\\u0621\\u062c \\u0646\\u0647\\u0627\\u0621\\u064a\\u0647 \\u0637\\u0631\\u062d \\u0639\\u0644\\u0627\\u0645 \\u0627\\u0633\\u062a\\u0641\\u0647\\u0627\\u0645 \\u0639\\u0644\\u064a \\u0634\\u0631\\u0639 \\u062d\\u0643\\u0648\\u0645\\u0647 \\u0627\\u0646\\u062a \\u0632\\u064a\\u0631 \\u062e\\u0627\\u0631\\u062c\\u064a\\u0647 \\u0627\\u0645\\u0631\\u064a\\u0643\\u064a\\u0647 \\u0647\\u064a\\u0644\\u0627\\u0631 \\u0644\\u064a\\u0646\\u062a\\u0648\\u0646 \\u0635\\u0631\\u062d \\u0627\\u0646 \\u0648\\u0644\\u0627 \\u0645\\u062a\\u062d\\u062f\\u0647 \\u0642\\u062f\\u0645 \\u064a\\u0647 \\u0645\\u0633\\u0627\\u0639\\u062f \\u0645\\u062f\\u0646 \\u0644\\u0627\\u0641\\u063a\\u0627\\u0646\\u0633 \\u0644\\u0627 \\u0630\\u0627 \\u0645\\u0643 \\u0645\\u0631\\u0627\\u0642\\u0628 \\u0635\\u0631\\u0641 \\u0648\\u0632\\u0627\\u0631 \\u0627\\u0645\\u0648\\u0627\\u0644 \\u0645\\u0642\\u062f\\u0645\\u0647 \\u0634\\u0643\\u0648 \\u0645\\u0627\\u0646\\u062d \\u063a\\u0631\\u0628\\u064a\\u0647 \\u0627\\u0646 \\u0641\\u0642\\u062f \\u0633\\u064a\\u0637\\u0631\\u0647 \\u0639\\u0644\\u064a \\u0627\\u0645\\u0648\\u0627\\u0644 \\u0645\\u0645\\u0646\\u0648\\u062d\\u0647 \\u0645\\u062c\\u0631\\u062f \\u0635\\u0648\\u0644 \\u0644\\u064a \\u0648\\u0632\\u0627\\u0631 \\u0627\\u0641\\u063a\\u0627\\u0646\\u064a\\u0647 \\u064a\\u0633\\u062a\\u0637\\u064a\\u0639 \\u0645\\u062a\\u0627\\u0628\\u0639 \\u0627\\u0646\\u0641\\u0627\\u0642\\u0647\\u0627 \\u0642\\u0627\\u0644 \\u0632\\u064a\\u0631 \\u0639\\u062f\\u0644 \\u0627\\u0641\\u063a\\u0627\\u0646 \\u0645\\u062d\\u0645\\u062f \\u0633\\u0627\\u0631\\u0648\\u0627\\u0631 \\u062f\\u0627\\u0646\\u064a\\u0634 \\u0641\\u0633\\u0627\\u062f \\u0633\\u0631\\u0637 \\u062f\\u0645\\u0631 \\u062d\\u064a\\u0627 \\u0634\\u0639\\u0628 \\u0636\\u0627\\u0641 \\u0646\\u0647 \\u0621\\u062b\\u0631 \\u0639\\u0644\\u064a \\u0627\\u0642\\u062a\\u0635\\u0627\\u062f \\u062d\\u064a\\u0627\\u0647 \\u0633\\u064a\\u0627\\u0633\\u064a\\u0647 \\u0648\\u0636\\u0639 \\u0627\\u0645\\u0646\\u064a \\u0627\\u0646\\u062a \\u0648\\u0644 \\u0645\\u0621\\u0633\\u0633 \\u0627\\u0646\\u0634\\u0621 \\u0628\\u0644\\u0627\\u062f \\u0645\\u0643\\u0627\\u0641\\u062d \\u0641\\u0633\\u0627\\u062f \\u062d\\u0644 \\u0627\\u0646 \\u0635\\u062f\\u0631 \\u062d\\u0643\\u0645 \\u0639\\u0644\\u064a \\u0631\\u0621\\u064a\\u0633 \\u0648\\u0644\\u0627 \\u0645\\u062a\\u062d\\u062f\\u0647 \\u062a\\u0647\\u0645 \\u062a\\u0639\\u0644\\u0642 \\u0645\\u062e\\u062f\\u0631\\u0627\\u062a \\u0646\\u0634\\u0621 \\u0645\\u0643\\u062a\\u0628 \\u062c\\u062f\\u0628\\u062f \\u0645\\u0643\\u0627\\u0641\\u062d \\u0641\\u0633\\u0627\\u062f \\u0639\\u0627\\u0645 \\u0645\\u0627\\u0636\\u064a \\u0645\\u0636 \\u0633\\u0646 \\u0639\\u0644\\u064a \\u0646\\u0634\\u0627\\u0621 \\u0642\\u064a \\u0641\\u0633\\u0627\\u062f \\u062d\\u0643\\u0648\\u0645 \\u062d\\u062f \\u0647\\u0645 \\u0645\\u0634\\u0627\\u0643\\u0644 \\u0639\\u0627 \\u0627\\u0641\\u063a\\u0627\\u0646\",\n          \"\\u0645\\u0646\\u0648\\u0639 \\u0645\\u0647\\u0631\\u062c \\u0627\\u0641\\u0631\\u064a\\u0642 \\u062c\\u0632\\u0627\\u0621\\u0631 \\u062c\\u0633\\u0631 \\u062a\\u0648\\u0627\\u0635\\u0644 \\u0634\\u0648\\u0627\\u0631\\u0639 \\u0639\\u0627\\u0635\\u0645\\u0647 \\u062c\\u0632\\u0627\\u0621\\u0631\\u064a\\u0647 \\u0634\\u0647\\u062f \\u0648\\u062d \\u064a\\u0647 \\u062e\\u0644\\u0627\\u0644 \\u0645\\u0647\\u0631\\u062c \\u062b\\u0642\\u0627\\u0641 \\u0627\\u0644\\u0627\\u0641\\u0631\\u064a\\u0642\\u064a \\u0631\\u0621\\u064a\\u0633\\u064a\\u0647 \\u0634\\u0631\\u0642 \\u0627\\u0648\\u0633\\u0637 \\u0639\\u0627\\u0644\\u0645 \\u0634\\u0627\\u0631 \\u0631\\u0627 \\u0642\\u062a\\u0635\\u0627\\u062f \\u0639\\u0645\\u0627\\u0644 \\u0645\\u0646\\u0648\\u0639 \\u0639\\u0644\\u0648\\u0645 \\u0648\\u062a\\u0643\\u0646\\u0648\\u0644\\u0648\\u062c\\u064a\\u0627 \\u0631\\u064a\\u0627\\u0636 \\u0631\\u0627\\u062f\\u064a \\u062a\\u0644\\u0641\\u0632\\u064a \\u0645\\u0647\\u0631\\u062c \\u0627\\u0641\\u0631\\u064a\\u0642 \\u062c\\u0632\\u0627\\u0621\\u0631 \\u062c\\u0633\\u0631 \\u062a\\u0648\\u0627\\u0635\\u0644 \\u0639\\u064a\\u0634 \\u062c\\u0632\\u0627\\u0621\\u0631 \\u0639\\u0627\\u0635\\u0645\\u0647 \\u0639\\u0631\\u0633 \\u062b\\u0642\\u0627\\u0641\\u064a \\u0641\\u0631\\u064a\\u0642\\u064a \\u062d\\u064a \\u0639\\u0627\\u0644 \\u0645\\u0647\\u0631\\u062c \\u0627\\u0641\\u0631\\u064a\\u0642 \\u062b\\u0627\\u0646 \\u062b\\u0642\\u0627\\u0641\\u0647 \\u0645\\u0634\\u0627\\u0631\\u0643 \\u062b\\u0645\\u0627\\u0646 \\u0644\\u0641 \\u0634\\u062e\\u0635 \\u0645\\u062b\\u0644 \\u0645\\u062e\\u062a\\u0644\\u0641 \\u0646\\u0648\\u0627\\u0639 \\u0648\\u0627\\u0646 \\u0648\\u0646 \\u062b\\u0642\\u0627\\u0641\\u0647 \\u0627\\u0644\\u0627\\u0641\\u0631\\u064a\\u0642\\u064a\\u0647 \\u0634\\u0647\\u062f \\u0647\\u0645 \\u0634\\u0648\\u0627\\u0631\\u0639 \\u0639\\u0627\\u0635\\u0645\\u0647 \\u0648\\u062d \\u064a\\u0647 \\u062e\\u0644\\u0627\\u0644 \\u0627\\u0633\\u062a\\u0639\\u0631\\u0627\\u0636 \\u0643\\u0628\\u064a\\u0631 \\u0645\\u062c\\u0645\\u0644 \\u062f\\u0648\\u0644 \\u0645\\u0634\\u0627\\u0631\\u0643\\u0647 \\u0645\\u0647\\u0631\\u062c\\u0627\\u0646 \\u0647\\u0630\\u0647 \\u0645\\u0631\\u0647 \\u062b\\u0627\\u0646\\u064a\\u0647 \\u062d\\u0636 \\u062c\\u0632\\u0627\\u0621\\u0631 \\u0645\\u0647\\u0631\\u062c \\u062a\\u0636\\u0645 \\u0646\\u0648\\u0627\\u0639 \\u0641\\u0646 \\u0645\\u0648\\u0633\\u064a\\u0642 \\u0631\\u0642\\u0635 \\u0645\\u0633\\u0631\\u062d \\u0633\\u064a\\u0646\\u0645\\u0627 \\u0634\\u0627\\u0631 \\u0645\\u0647\\u0631\\u062c \\u062f\\u0648\\u0644 \\u0641\\u0631\\u064a\\u0642 \\u0646\\u064a\\u0646 \\u0643\\u0648\\u0646\\u063a\\u0648 \\u0633\\u0627\\u062d\\u0644 \\u0639\\u0627\\u062c \\u0645\\u0635\\u0631 \\u063a\\u0627 \\u063a\\u064a\\u0646\\u064a \\u0645\\u0627\\u0644 \\u0646\\u064a\\u062c\\u0631 \\u0633\\u0646\\u063a\\u0627\\u0644 \\u0633\\u0648\\u062f \\u062a\\u0634\\u0627\\u062f \\u0648\\u0646\\u0633 \\u0648\\u0631\\u0643 \\u0633\\u0648 \\u0643\\u0627\\u0645\\u064a\\u0631 \\u0645\\u062f\\u063a\\u0634\\u0642\\u0631 \\u0648\\u063a\\u0648 \\u063a\\u064a\\u0627\\u0628 \\u0637\\u0648\\u064a\\u0644 \\u0634\\u0647\\u062f \\u0645\\u0647\\u0631\\u062c \\u064a\\u0636 \\u0639\\u0627\\u0644 \\u0633\\u064a\\u0646\\u0645\\u0627\\u0621 \\u062a\\u0636\\u0645 \\u0639\\u0631\\u0636 \\u0644\\u0645 \\u0641\\u0631\\u064a\\u0642\\u064a \\u0628\\u064a\\u0646 \\u062c\\u0632\\u0627\\u0621\\u0631 \\u0642\\u0627\\u0645 \\u0646\\u062f\\u0648 \\u0641\\u0646 \\u0627\\u0644\\u0633\\u064a\\u0646\\u0645\\u0627\\u0621\\u064a \\u0633\\u062a\\u0645\\u0631 \\u0645\\u0647\\u0631\\u062c \\u0639\\u0644\\u064a \\u0645\\u062f \\u0633\\u0628\\u0648\\u0639\\u064a \\u062e\\u0627\\u0645\\u0633 \\u0644\\u064a \\u0639\\u0634\\u0631 \\u0645\\u0646\\u0647 \\u0636\\u0645 \\u064a\\u0636 \\u0645\\u0634\\u0627\\u0647\\u062f \\u0635\\u0648\\u0631 \\u0628\\u0631\\u0632 \\u0645\\u0639\\u0627\\u0644\\u0645 \\u0646\\u0648\\u0632 \\u0631\\u0627\\u062b \\u062d\\u0636\\u0627\\u0631 \\u062f\\u0648\\u0644 \\u0645\\u0634\\u0627\\u0631\\u0643\\u0647 \\u062c\\u0645\\u0647\\u0648\\u0631 \\u0631\\u064a \\u0627\\u0646 \\u0635\\u0648\\u0631 \\u0641\\u0646\\u064a\\u0647 \\u0627\\u0639\\u0627\\u062f \\u062d\\u064a\\u0627\\u0647 \\u0645\\u062c\\u062f\\u062f \\u062c\\u0632\\u0627\\u0621\\u0631 \\u0648\\u0627\\u062a \\u063a\\u064a\\u0627\\u0628 \\u062a\\u0638\\u0627\\u0647\\u0631 \\u062c\\u0631\\u064a \\u062e\\u0644\\u0627\\u0644 \\u062a\\u0639\\u0631\\u0641 \\u0639\\u0644\\u064a \\u0627\\u0628\\u062f\\u0627\\u0639 \\u0627\\u0646\\u0633 \\u0627\\u0641\\u0631\\u064a\\u0642\\u064a \\u062e\\u0631\\u0648 \\u0631\\u0648 \\u0645\\u0634\\u0627\\u0647\\u062f \\u0639\\u0643\\u0633 \\u0647\\u0648 \\u0641\\u0631\\u064a\\u0642\\u064a \\u062a\\u0646\\u0648\\u0639 \\u063a\\u0646 \\u062a\\u0642\\u0627\\u0644\\u064a\\u062f \\u0639\\u0627\\u062f \\u0646\\u0627\\u062f\\u0631 \\u0645\\u0645\\u064a\\u0632\\u0647 \\u0639\\u0631\\u0636 \\u062e\\u0627\\u0635 \\u062d\\u0631\\u0641 \\u062a\\u0642\\u0644\\u064a\\u062f\\u064a\\u0647 \\u062a\\u062d\\u0641 \\u0641\\u0646\\u064a\\u0647 \\u0634\\u0643\\u0644 \\u062c\\u0627\\u0646\\u0628 \\u0647\\u0627\\u0645 \\u0639\\u0627\\u0644 \\u0645\\u0647\\u0631\\u062c\\u0627\\u0646 \\u062a\\u0636\\u0645 \\u0645\\u0646\\u062d\\u0648\\u062a \\u0642\\u0648\\u0634 \\u0646\\u0648\\u0639\\u062a \\u062f\\u0648\\u0644 \\u0644\\u064a \\u0627\\u062e\\u0631\\u064a \\u0643\\u0644 \\u0645\\u0633\\u062a\\u0645\\u062f \\u0642\\u0635\\u0635 \\u0633\\u0627\\u0637\\u064a\\u0631 \\u0631\\u062a\\u0628\\u0637 \\u0631\\u062a\\u0628\\u0627\\u0637 \\u062b\\u064a\\u0642 \\u062e\\u0628\\u0627\\u064a\\u0627 \\u062a\\u0641\\u0627\\u0635\\u064a\\u0644 \\u062d\\u0636\\u0627\\u0631 \\u0639\\u0631\\u064a\\u0642 \\u0639\\u0645\\u0642 \\u062f\\u063a\\u0627\\u0644 \\u0641\\u0631\\u064a\\u0642\\u064a \\u0627\\u0647\\u0645 \\u0645\\u0631\\u0627\\u062d\\u0644 \\u062a\\u0627\\u0631\\u064a\\u062e\\u064a\\u0647 \\u0646\\u0641\\u062a\\u0627\\u062d \\u0641\\u0647\\u0645 \\u0639\\u062a\\u0628\\u0631 \\u0645\\u0647\\u0631\\u062c\\u0627\\u0646 \\u0639\\u0628\\u0631 \\u0632\\u064a\\u0631 \\u062b\\u0642\\u0627\\u0641\\u0647 \\u0627\\u0644\\u062c\\u0632\\u0627\\u0621\\u0631\\u064a\\u0647 \\u062e\\u0644\\u064a\\u062f \\u062a\\u0648\\u0645\\u064a \\u0635\\u0631\\u062d \\u0628\\u064a \\u0633\\u064a \\u062c\\u0633\\u0631 \\u062a\\u0648\\u0627\\u0635\\u0644 \\u062a\\u0642\\u0627\\u0631\\u0628 \\u0634\\u0639\\u0648\\u0628 \\u062d\\u0636\\u0627\\u0631 \\u0645\\u062e\\u062a\\u0644\\u0641 \\u0644\\u0643\\u0646 \\u062d\\u0645\\u0644 \\u0631\\u0633\\u0627\\u0644 \\u0634\\u0639\\u0648\\u0628 \\u0637\\u0645\\u062d \\u0644\\u064a \\u0646\\u0645\\u0648\\u0630\\u062c \\u062b\\u0642\\u0627\\u0641 \\u062e\\u062f\\u0645 \\u0634\\u0639\\u0648\\u0628 \\u0631\\u063a\\u0645 \\u0635\\u062f\\u0648\\u0631 \\u0627\\u0646\\u062a\\u0642\\u0627\\u062f \\u0645\\u0638\\u0627\\u0647\\u0631 \\u0627\\u0646\\u0641\\u062a\\u0627\\u062d \\u0633\\u0627\\u062f \\u0639\\u0631\\u0648\\u0636 \\u0638\\u0647\\u0648\\u0631 \\u064a\\u0627\\u062a \\u0645\\u0644\\u0627\\u0628\\u0633 \\u0645\\u0639\\u062a\\u0627\\u062f\\u0647 \\u0644\\u0627 \\u0627\\u0646 \\u0641\\u0647\\u0645 \\u0635\\u0648\\u0631 \\u0639\\u0627\\u0645 \\u0627\\u062e\\u062a\\u0644\\u0627\\u0641 \\u062b\\u0642\\u0627\\u0641\\u0627\\u062a \\u062f\\u0644\\u064a\\u0644 \\u0627\\u0646 \\u062a\\u062c\\u0627\\u0648\\u0628 \\u0639\\u0631\\u0648\\u0636 \\u064a\\u062c\\u0627\\u0628\\u064a \\u0635\\u0648\\u0631 \\u0627\\u0636\\u062d\\u0647 \\u0627\\u0646\\u062a \\u062c\\u0632\\u0627\\u0621\\u0631 \\u0627\\u062d\\u062a\\u0636\\u0646 \\u0645\\u0647\\u0631\\u062c \\u0627\\u0648\\u0644 \\u0639\\u0627\\u0645 \\u0648\\u0642\\u0641 \\u0627\\u0648\\u0633\\u0627\\u0637 \\u062b\\u0642\\u0627\\u0641\\u064a\\u0647 \\u0627\\u0633\\u0628\\u0627\\u0628 \\u0639\\u0648\\u062f \\u0631\\u0627 \\u0644\\u064a \\u062a\\u0643\\u0627\\u0644\\u064a\\u0641 \\u0628\\u0627\\u0647\\u0636\\u0647 \\u0639\\u0644 \\u0627\\u064a \\u062a\\u0642\\u062f\\u064a\\u0631 \\u0647\\u0627\"\n        ],\n        \"semantic_type\": \"\",\n        \"description\": \"\"\n      }\n    },\n    {\n      \"column\": \"stop_words\",\n      \"properties\": {\n        \"dtype\": \"number\",\n        \"std\": 10,\n        \"min\": 0,\n        \"max\": 100,\n        \"num_unique_values\": 72,\n        \"samples\": [\n          26,\n          75,\n          21\n        ],\n        \"semantic_type\": \"\",\n        \"description\": \"\"\n      }\n    }\n  ]\n}",
              "type": "dataframe",
              "variable_name": "my_data"
            },
            "text/html": [
              "\n",
              "  <div id=\"df-74db65d9-00c4-4406-b972-521bf058794d\" class=\"colab-df-container\">\n",
              "    <div>\n",
              "<style scoped>\n",
              "    .dataframe tbody tr th:only-of-type {\n",
              "        vertical-align: middle;\n",
              "    }\n",
              "\n",
              "    .dataframe tbody tr th {\n",
              "        vertical-align: top;\n",
              "    }\n",
              "\n",
              "    .dataframe thead th {\n",
              "        text-align: right;\n",
              "    }\n",
              "</style>\n",
              "<table border=\"1\" class=\"dataframe\">\n",
              "  <thead>\n",
              "    <tr style=\"text-align: right;\">\n",
              "      <th></th>\n",
              "      <th>category</th>\n",
              "      <th>Body</th>\n",
              "      <th>stop_words</th>\n",
              "    </tr>\n",
              "  </thead>\n",
              "  <tbody>\n",
              "    <tr>\n",
              "      <th>0</th>\n",
              "      <td>Business</td>\n",
              "      <td>تكهن مرعبه ركود كلف ريطانيا ملي ظيف تكهن مرعبه...</td>\n",
              "      <td>20</td>\n",
              "    </tr>\n",
              "    <tr>\n",
              "      <th>1</th>\n",
              "      <td>Business</td>\n",
              "      <td>بنك دولي طفره اسعار سلع نته باطء نمو عالم بنك ...</td>\n",
              "      <td>35</td>\n",
              "    </tr>\n",
              "    <tr>\n",
              "      <th>2</th>\n",
              "      <td>Business</td>\n",
              "      <td>عقار امريك فقد ريلي قيم عام عقار امريك فقد ريل...</td>\n",
              "      <td>18</td>\n",
              "    </tr>\n",
              "    <tr>\n",
              "      <th>3</th>\n",
              "      <td>Business</td>\n",
              "      <td>كرايسلر وقف نتاج سيار مصنع مد شهر كرايسلر وقف ...</td>\n",
              "      <td>32</td>\n",
              "    </tr>\n",
              "    <tr>\n",
              "      <th>4</th>\n",
              "      <td>Business</td>\n",
              "      <td>امريكا تفاق حول نقاذ قطاع السيارات خلاف حول دا...</td>\n",
              "      <td>26</td>\n",
              "    </tr>\n",
              "    <tr>\n",
              "      <th>...</th>\n",
              "      <td>...</td>\n",
              "      <td>...</td>\n",
              "      <td>...</td>\n",
              "    </tr>\n",
              "    <tr>\n",
              "      <th>10213</th>\n",
              "      <td>Business</td>\n",
              "      <td>قضاء صين حكم سجن ربع مسءول شرك معادن استراليه ...</td>\n",
              "      <td>3</td>\n",
              "    </tr>\n",
              "    <tr>\n",
              "      <th>10215</th>\n",
              "      <td>Business</td>\n",
              "      <td>نجح يون حصول علي قروض قيم مليار سوق ماليه عالم...</td>\n",
              "      <td>6</td>\n",
              "    </tr>\n",
              "    <tr>\n",
              "      <th>10217</th>\n",
              "      <td>Business</td>\n",
              "      <td>واصل سعار نفط حقيق رتفاع ربع وي جديد عام استمر...</td>\n",
              "      <td>9</td>\n",
              "    </tr>\n",
              "    <tr>\n",
              "      <th>10219</th>\n",
              "      <td>Business</td>\n",
              "      <td>اظهر ارقام صادر يوم مكتب احصاء وطن بريطان ان ا...</td>\n",
              "      <td>9</td>\n",
              "    </tr>\n",
              "    <tr>\n",
              "      <th>10221</th>\n",
              "      <td>Business</td>\n",
              "      <td>اعلن ولا متحده سلسل تحقيق رتفاع سرعه مباغت سيا...</td>\n",
              "      <td>3</td>\n",
              "    </tr>\n",
              "  </tbody>\n",
              "</table>\n",
              "<p>8786 rows × 3 columns</p>\n",
              "</div>\n",
              "    <div class=\"colab-df-buttons\">\n",
              "\n",
              "  <div class=\"colab-df-container\">\n",
              "    <button class=\"colab-df-convert\" onclick=\"convertToInteractive('df-74db65d9-00c4-4406-b972-521bf058794d')\"\n",
              "            title=\"Convert this dataframe to an interactive table.\"\n",
              "            style=\"display:none;\">\n",
              "\n",
              "  <svg xmlns=\"http://www.w3.org/2000/svg\" height=\"24px\" viewBox=\"0 -960 960 960\">\n",
              "    <path d=\"M120-120v-720h720v720H120Zm60-500h600v-160H180v160Zm220 220h160v-160H400v160Zm0 220h160v-160H400v160ZM180-400h160v-160H180v160Zm440 0h160v-160H620v160ZM180-180h160v-160H180v160Zm440 0h160v-160H620v160Z\"/>\n",
              "  </svg>\n",
              "    </button>\n",
              "\n",
              "  <style>\n",
              "    .colab-df-container {\n",
              "      display:flex;\n",
              "      gap: 12px;\n",
              "    }\n",
              "\n",
              "    .colab-df-convert {\n",
              "      background-color: #E8F0FE;\n",
              "      border: none;\n",
              "      border-radius: 50%;\n",
              "      cursor: pointer;\n",
              "      display: none;\n",
              "      fill: #1967D2;\n",
              "      height: 32px;\n",
              "      padding: 0 0 0 0;\n",
              "      width: 32px;\n",
              "    }\n",
              "\n",
              "    .colab-df-convert:hover {\n",
              "      background-color: #E2EBFA;\n",
              "      box-shadow: 0px 1px 2px rgba(60, 64, 67, 0.3), 0px 1px 3px 1px rgba(60, 64, 67, 0.15);\n",
              "      fill: #174EA6;\n",
              "    }\n",
              "\n",
              "    .colab-df-buttons div {\n",
              "      margin-bottom: 4px;\n",
              "    }\n",
              "\n",
              "    [theme=dark] .colab-df-convert {\n",
              "      background-color: #3B4455;\n",
              "      fill: #D2E3FC;\n",
              "    }\n",
              "\n",
              "    [theme=dark] .colab-df-convert:hover {\n",
              "      background-color: #434B5C;\n",
              "      box-shadow: 0px 1px 3px 1px rgba(0, 0, 0, 0.15);\n",
              "      filter: drop-shadow(0px 1px 2px rgba(0, 0, 0, 0.3));\n",
              "      fill: #FFFFFF;\n",
              "    }\n",
              "  </style>\n",
              "\n",
              "    <script>\n",
              "      const buttonEl =\n",
              "        document.querySelector('#df-74db65d9-00c4-4406-b972-521bf058794d button.colab-df-convert');\n",
              "      buttonEl.style.display =\n",
              "        google.colab.kernel.accessAllowed ? 'block' : 'none';\n",
              "\n",
              "      async function convertToInteractive(key) {\n",
              "        const element = document.querySelector('#df-74db65d9-00c4-4406-b972-521bf058794d');\n",
              "        const dataTable =\n",
              "          await google.colab.kernel.invokeFunction('convertToInteractive',\n",
              "                                                    [key], {});\n",
              "        if (!dataTable) return;\n",
              "\n",
              "        const docLinkHtml = 'Like what you see? Visit the ' +\n",
              "          '<a target=\"_blank\" href=https://colab.research.google.com/notebooks/data_table.ipynb>data table notebook</a>'\n",
              "          + ' to learn more about interactive tables.';\n",
              "        element.innerHTML = '';\n",
              "        dataTable['output_type'] = 'display_data';\n",
              "        await google.colab.output.renderOutput(dataTable, element);\n",
              "        const docLink = document.createElement('div');\n",
              "        docLink.innerHTML = docLinkHtml;\n",
              "        element.appendChild(docLink);\n",
              "      }\n",
              "    </script>\n",
              "  </div>\n",
              "\n",
              "\n",
              "<div id=\"df-2eb9f570-79de-414a-b11a-1a2781bedc18\">\n",
              "  <button class=\"colab-df-quickchart\" onclick=\"quickchart('df-2eb9f570-79de-414a-b11a-1a2781bedc18')\"\n",
              "            title=\"Suggest charts\"\n",
              "            style=\"display:none;\">\n",
              "\n",
              "<svg xmlns=\"http://www.w3.org/2000/svg\" height=\"24px\"viewBox=\"0 0 24 24\"\n",
              "     width=\"24px\">\n",
              "    <g>\n",
              "        <path d=\"M19 3H5c-1.1 0-2 .9-2 2v14c0 1.1.9 2 2 2h14c1.1 0 2-.9 2-2V5c0-1.1-.9-2-2-2zM9 17H7v-7h2v7zm4 0h-2V7h2v10zm4 0h-2v-4h2v4z\"/>\n",
              "    </g>\n",
              "</svg>\n",
              "  </button>\n",
              "\n",
              "<style>\n",
              "  .colab-df-quickchart {\n",
              "      --bg-color: #E8F0FE;\n",
              "      --fill-color: #1967D2;\n",
              "      --hover-bg-color: #E2EBFA;\n",
              "      --hover-fill-color: #174EA6;\n",
              "      --disabled-fill-color: #AAA;\n",
              "      --disabled-bg-color: #DDD;\n",
              "  }\n",
              "\n",
              "  [theme=dark] .colab-df-quickchart {\n",
              "      --bg-color: #3B4455;\n",
              "      --fill-color: #D2E3FC;\n",
              "      --hover-bg-color: #434B5C;\n",
              "      --hover-fill-color: #FFFFFF;\n",
              "      --disabled-bg-color: #3B4455;\n",
              "      --disabled-fill-color: #666;\n",
              "  }\n",
              "\n",
              "  .colab-df-quickchart {\n",
              "    background-color: var(--bg-color);\n",
              "    border: none;\n",
              "    border-radius: 50%;\n",
              "    cursor: pointer;\n",
              "    display: none;\n",
              "    fill: var(--fill-color);\n",
              "    height: 32px;\n",
              "    padding: 0;\n",
              "    width: 32px;\n",
              "  }\n",
              "\n",
              "  .colab-df-quickchart:hover {\n",
              "    background-color: var(--hover-bg-color);\n",
              "    box-shadow: 0 1px 2px rgba(60, 64, 67, 0.3), 0 1px 3px 1px rgba(60, 64, 67, 0.15);\n",
              "    fill: var(--button-hover-fill-color);\n",
              "  }\n",
              "\n",
              "  .colab-df-quickchart-complete:disabled,\n",
              "  .colab-df-quickchart-complete:disabled:hover {\n",
              "    background-color: var(--disabled-bg-color);\n",
              "    fill: var(--disabled-fill-color);\n",
              "    box-shadow: none;\n",
              "  }\n",
              "\n",
              "  .colab-df-spinner {\n",
              "    border: 2px solid var(--fill-color);\n",
              "    border-color: transparent;\n",
              "    border-bottom-color: var(--fill-color);\n",
              "    animation:\n",
              "      spin 1s steps(1) infinite;\n",
              "  }\n",
              "\n",
              "  @keyframes spin {\n",
              "    0% {\n",
              "      border-color: transparent;\n",
              "      border-bottom-color: var(--fill-color);\n",
              "      border-left-color: var(--fill-color);\n",
              "    }\n",
              "    20% {\n",
              "      border-color: transparent;\n",
              "      border-left-color: var(--fill-color);\n",
              "      border-top-color: var(--fill-color);\n",
              "    }\n",
              "    30% {\n",
              "      border-color: transparent;\n",
              "      border-left-color: var(--fill-color);\n",
              "      border-top-color: var(--fill-color);\n",
              "      border-right-color: var(--fill-color);\n",
              "    }\n",
              "    40% {\n",
              "      border-color: transparent;\n",
              "      border-right-color: var(--fill-color);\n",
              "      border-top-color: var(--fill-color);\n",
              "    }\n",
              "    60% {\n",
              "      border-color: transparent;\n",
              "      border-right-color: var(--fill-color);\n",
              "    }\n",
              "    80% {\n",
              "      border-color: transparent;\n",
              "      border-right-color: var(--fill-color);\n",
              "      border-bottom-color: var(--fill-color);\n",
              "    }\n",
              "    90% {\n",
              "      border-color: transparent;\n",
              "      border-bottom-color: var(--fill-color);\n",
              "    }\n",
              "  }\n",
              "</style>\n",
              "\n",
              "  <script>\n",
              "    async function quickchart(key) {\n",
              "      const quickchartButtonEl =\n",
              "        document.querySelector('#' + key + ' button');\n",
              "      quickchartButtonEl.disabled = true;  // To prevent multiple clicks.\n",
              "      quickchartButtonEl.classList.add('colab-df-spinner');\n",
              "      try {\n",
              "        const charts = await google.colab.kernel.invokeFunction(\n",
              "            'suggestCharts', [key], {});\n",
              "      } catch (error) {\n",
              "        console.error('Error during call to suggestCharts:', error);\n",
              "      }\n",
              "      quickchartButtonEl.classList.remove('colab-df-spinner');\n",
              "      quickchartButtonEl.classList.add('colab-df-quickchart-complete');\n",
              "    }\n",
              "    (() => {\n",
              "      let quickchartButtonEl =\n",
              "        document.querySelector('#df-2eb9f570-79de-414a-b11a-1a2781bedc18 button');\n",
              "      quickchartButtonEl.style.display =\n",
              "        google.colab.kernel.accessAllowed ? 'block' : 'none';\n",
              "    })();\n",
              "  </script>\n",
              "</div>\n",
              "\n",
              "  <div id=\"id_87e3acdf-30bc-4947-9bd3-5c4b4b1a7baf\">\n",
              "    <style>\n",
              "      .colab-df-generate {\n",
              "        background-color: #E8F0FE;\n",
              "        border: none;\n",
              "        border-radius: 50%;\n",
              "        cursor: pointer;\n",
              "        display: none;\n",
              "        fill: #1967D2;\n",
              "        height: 32px;\n",
              "        padding: 0 0 0 0;\n",
              "        width: 32px;\n",
              "      }\n",
              "\n",
              "      .colab-df-generate:hover {\n",
              "        background-color: #E2EBFA;\n",
              "        box-shadow: 0px 1px 2px rgba(60, 64, 67, 0.3), 0px 1px 3px 1px rgba(60, 64, 67, 0.15);\n",
              "        fill: #174EA6;\n",
              "      }\n",
              "\n",
              "      [theme=dark] .colab-df-generate {\n",
              "        background-color: #3B4455;\n",
              "        fill: #D2E3FC;\n",
              "      }\n",
              "\n",
              "      [theme=dark] .colab-df-generate:hover {\n",
              "        background-color: #434B5C;\n",
              "        box-shadow: 0px 1px 3px 1px rgba(0, 0, 0, 0.15);\n",
              "        filter: drop-shadow(0px 1px 2px rgba(0, 0, 0, 0.3));\n",
              "        fill: #FFFFFF;\n",
              "      }\n",
              "    </style>\n",
              "    <button class=\"colab-df-generate\" onclick=\"generateWithVariable('my_data')\"\n",
              "            title=\"Generate code using this dataframe.\"\n",
              "            style=\"display:none;\">\n",
              "\n",
              "  <svg xmlns=\"http://www.w3.org/2000/svg\" height=\"24px\"viewBox=\"0 0 24 24\"\n",
              "       width=\"24px\">\n",
              "    <path d=\"M7,19H8.4L18.45,9,17,7.55,7,17.6ZM5,21V16.75L18.45,3.32a2,2,0,0,1,2.83,0l1.4,1.43a1.91,1.91,0,0,1,.58,1.4,1.91,1.91,0,0,1-.58,1.4L9.25,21ZM18.45,9,17,7.55Zm-12,3A5.31,5.31,0,0,0,4.9,8.1,5.31,5.31,0,0,0,1,6.5,5.31,5.31,0,0,0,4.9,4.9,5.31,5.31,0,0,0,6.5,1,5.31,5.31,0,0,0,8.1,4.9,5.31,5.31,0,0,0,12,6.5,5.46,5.46,0,0,0,6.5,12Z\"/>\n",
              "  </svg>\n",
              "    </button>\n",
              "    <script>\n",
              "      (() => {\n",
              "      const buttonEl =\n",
              "        document.querySelector('#id_87e3acdf-30bc-4947-9bd3-5c4b4b1a7baf button.colab-df-generate');\n",
              "      buttonEl.style.display =\n",
              "        google.colab.kernel.accessAllowed ? 'block' : 'none';\n",
              "\n",
              "      buttonEl.onclick = () => {\n",
              "        google.colab.notebook.generateWithVariable('my_data');\n",
              "      }\n",
              "      })();\n",
              "    </script>\n",
              "  </div>\n",
              "\n",
              "    </div>\n",
              "  </div>\n"
            ],
            "text/plain": [
              "       category                                               Body  stop_words\n",
              "0      Business  تكهن مرعبه ركود كلف ريطانيا ملي ظيف تكهن مرعبه...          20\n",
              "1      Business  بنك دولي طفره اسعار سلع نته باطء نمو عالم بنك ...          35\n",
              "2      Business  عقار امريك فقد ريلي قيم عام عقار امريك فقد ريل...          18\n",
              "3      Business  كرايسلر وقف نتاج سيار مصنع مد شهر كرايسلر وقف ...          32\n",
              "4      Business  امريكا تفاق حول نقاذ قطاع السيارات خلاف حول دا...          26\n",
              "...         ...                                                ...         ...\n",
              "10213  Business  قضاء صين حكم سجن ربع مسءول شرك معادن استراليه ...           3\n",
              "10215  Business  نجح يون حصول علي قروض قيم مليار سوق ماليه عالم...           6\n",
              "10217  Business  واصل سعار نفط حقيق رتفاع ربع وي جديد عام استمر...           9\n",
              "10219  Business  اظهر ارقام صادر يوم مكتب احصاء وطن بريطان ان ا...           9\n",
              "10221  Business  اعلن ولا متحده سلسل تحقيق رتفاع سرعه مباغت سيا...           3\n",
              "\n",
              "[8786 rows x 3 columns]"
            ]
          },
          "execution_count": 53,
          "metadata": {},
          "output_type": "execute_result"
        }
      ],
      "source": [
        "my_data"
      ]
    },
    {
      "cell_type": "code",
      "execution_count": 54,
      "metadata": {
        "colab": {
          "base_uri": "https://localhost:8080/",
          "height": 109
        },
        "execution": {
          "iopub.execute_input": "2024-05-07T21:38:28.392858Z",
          "iopub.status.busy": "2024-05-07T21:38:28.392434Z",
          "iopub.status.idle": "2024-05-07T21:38:28.402479Z",
          "shell.execute_reply": "2024-05-07T21:38:28.401565Z",
          "shell.execute_reply.started": "2024-05-07T21:38:28.392823Z"
        },
        "id": "VaCPrDNvenXV",
        "outputId": "8eb4d71c-b180-4c0e-b8c2-54a688729e99",
        "trusted": true
      },
      "outputs": [
        {
          "data": {
            "application/vnd.google.colaboratory.intrinsic+json": {
              "type": "string"
            },
            "text/plain": [
              "'تكهن مرعبه ركود كلف ريطانيا ملي ظيف تكهن مرعبه ركود كلف ريطانيا ملي ظيف تكهن ارتفاع معدل باحث عمل دبي دول امار عربيه متحده رسم قرير حديث تاثير قاتم غايه ركود اقتصاد علي سوق عمل بريطانيا متوقع لاش لف ظيف خلال عام مقبل كه معهد توظيف تنميه قرير شر اثنين ارتفاع شتوي معدل سريح موظف خلال ربع اول عام رق لي قد لف ريطان لوظاءفهم بلغ رقام بطاله ريطانيا حالي معدل قياسيه ملي عاطل اعل ول حزب عمال سلطه عام توقع ان رتفع مليون خر عام مقبل فق فاينانشيال تايمز توقع ان بلغ خساءر سوق عمل البريطاني ذرو ربيع عام متوقع رتفاع معدل بطاله لي ملا معدل با قم ركود ضرب بلاد مطلع ثمانين والتسعينيات رجح معهد تقرير مقياس سنوي ان صل صاف خساءر سوق وظاءف عام مقبل ف لف ظيف خلال عام حالي اضافه لي لف خر عام صف يلبوت بير اقتصاد معهد سوق عمل بريطان خلال عام حالي باسترجاع حداث ماض هذا سوي مقدمه حركه بطيءه عد سو عام سوق عمل خلال عقد ماضين روابط علاق جول راون دع دول خليج مساهمه حل ازمه ماليه بريطانيا كثر دول وروب تاثر ركود مقبل قاد وروب تفق علي خط نقاذ قيم مليار ضاف محذرا الفتر عام جديد عيد فصح كو اسو قد وظاءف عام فق صحيفه دي ركود عديد شرك خفض حجم عمل توظيف بدء نهاء خدم عامل موجب عقود عمل قصير امد فقد الاف بريطان ظاءف خلال شهور قليله ماضيه متوقع فاقم وضع متداد تاثير ازمه الاقتصاديه لن قتصر انعكاس ازمه الاقتصاديه علي مملكه متحده سواها تكهن منظم تعا اقتصاد تنميه اوروبيه اسبوع ماض ان ملي ظيف حول عام عرض خطر تلاش رد ازمه الاقتصاديه انت مفوضيه اوروبيه رجح مطلع نوفمبر ثان ماضي ان بريطانيا كو اكثر تاثر ركود كبر اقتصاد اتحاد اوروبي نكمش معدل مو اقتصاد واقع ماءه عام مقبل صل معدل لي ماءه قط اظهر توقع صف سنويه ان معدل بطاله رتفع عام قادم لي ماءه ماءه سط رتفاع عجز موازنه مديون حكومه قفز عجز حكوم لي ماءه عام مقبل لي ماءه سط توقع ارتفاع مديونيه لي قراب قط ماءه نحو ماءه خلال دخل توقع سياق تصور شمل حول معدل نمو اقتصاد دول قاره الاوروبيه دخل مرحل ركود او علي شك مرجح ان قف معدل مو دول اتحاد اوروب ماءه عام مقبل تقلص لي ماءه دول محيط يورو'"
            ]
          },
          "execution_count": 54,
          "metadata": {},
          "output_type": "execute_result"
        }
      ],
      "source": [
        "my_data['Body'][0]"
      ]
    },
    {
      "cell_type": "code",
      "execution_count": 55,
      "metadata": {
        "colab": {
          "base_uri": "https://localhost:8080/",
          "height": 109
        },
        "execution": {
          "iopub.execute_input": "2024-05-07T21:38:28.403959Z",
          "iopub.status.busy": "2024-05-07T21:38:28.403636Z",
          "iopub.status.idle": "2024-05-07T21:38:28.413749Z",
          "shell.execute_reply": "2024-05-07T21:38:28.412706Z",
          "shell.execute_reply.started": "2024-05-07T21:38:28.403927Z"
        },
        "id": "Wc2BTwctenXV",
        "outputId": "23c6dca1-47da-40cb-9a47-53b6b45f46fd",
        "trusted": true
      },
      "outputs": [
        {
          "data": {
            "application/vnd.google.colaboratory.intrinsic+json": {
              "type": "string"
            },
            "text/plain": [
              "'بنك دولي طفره اسعار سلع نته باطء نمو عالم بنك دولي طفره اسعار سلع نته باطء نمو عالم ناول تقرير تاثير ازمه ماليه عصف اقتصاد عالم دبي دول امار عربيه متحده تناول قرير جديد صادر بنك دول عنوان الافاق الاقتصاديه عالميه بحث تاثير ازمه ماليه حاليه علي مو جمال ناتج محل مختلف انحاء عالم شار تقرير شر ثلاثاء لي حدوث باطء ملحوظ نشاط اقتصاد انحاء معموره بلد ناميه اتسم اقتصاد سابق مرونه قدره علي تكيف خلص تقرير لي ان امكان حقيق توازن جانب طلب عرض نسبه سلع اوليه اساسيه نفط مواد غذاءيه مستقبل ذا توافر سياس سليمه قطاع طاقه زراعه فق موقع الكترون هيءه دوليه ركود عالم ضرب بلد ناميه وقع تقرير ان تقلص معدل مو جمال ناتج محل عالم ماءه عام لي ماءه عام ان نخفض معدل نمو بلد ناميه سب ماءه عام اتسم مرونه لي ماءه عام كو معدل نمو بلد غنيه عام مقبل علي ارجح سلبيا في معرض حديث تقرير قال هانز تيمر مدير فريق معن اتجاه عالميه مجموع فاق تنميه تابعه بنك دولي نر ان اقتصاد عالم مر وقت راهن مرحل نتقال ره طويل نمو قو ـ قاد بلد ناميه ـ لي حال غه عدم يق غموض جراء اثار شديده حقته ازمه ماليه حاليه اسواق العالميه اضاف ان تباطء شهد بلد ناميه حالي بير غايه تيج تاثير مباشر ازم اءتم علي استثمار انت ركيز ساس مساند اداء قو لدان عالم ناميه علي مد سنو خمس اخيره مع ضيق وضاع اءتم نخفاض مستو قبل مخاطر مرجح ان تقلص مو استثمار لدان عالم ناميه ماءه عام لي ماءه عام هي سب بير غايه نظر لي ان ثلث مو جمال ناتج محل عزي يها توقع تيمر خبراء اقتصادي خرو بنك دولي قلص حجم تجاره عالميه نسب ماءه عام هي مره اول عام ستتاثر لدان عالم جراء نخفاض حجم صادرات عكس قط تباطء حاد طلب عالمي يض نخفاض وافر اءتمان تصدير منطق شرق سي محيط هادء باط معدل مو جمال ناتج محل لي حوالي ماءه عام توقع ان نخفض ثان لي سب ماءه عام قد تاثرت منطقه عمل بيع واسعه استثمار سهم راس مال تباطء حاد حجم صادرات متوقع ان يتباط معدل نمو صين ماءه عام لي ماءه عام لا ان رنامج تنشيط اقتصاد بقيم مليار امريكي اعلن حكومه صينيه مءخر دفع معدل نمو صين تدريجي لي سب ماءه عام فق تقرير في منطق شرق وروب سي وسطي متوقع ان يتباط مو جمال ناتج محل لي ماءه عام واصل هبوط لي ماءه عام عزي تباطء حاد لي نخفاض استثمار مرتبطه صعوب وضاع تمويل ضعف طلب سواق تصدير كو معدل نمو روسيا علي ارجح حدود ماءه عام مقابل ماءه عام ضوء استمرار ازمه مصرفيه نخفاض سعار نفط في منطق امريك لاتينيه بحر كاريبي صبح مو جمال ناتج محل ـ توقع ان كو حدود ماءه عام ـ عرض خطر ضع ضغوط علي استثمار قطاع خاص مع نخفاض سعار سلع اوليه ان لدا مصدر رءيس ارجن سجل عجوز حساب جاريه شهد لدان خر برازيل مكسيك نخفاض حجم صادر لي ولا متحده وروب عاني حال ركود متوقع ان سوء افاق الاقتصاديه منطقه عام نخفاض جمال ناتج محل لي ماءه مدفوع انخفاض انفاق الراسمالي بدو ان منطق شرق اوسط شمال فريقي شهد داء جيد عام طر اي غير علي معدل نمو بالغ ماءه عام لا ان ارقام اجماليه خف ثناي تقلب بير وضاع تجاره حساب جاري متطلب تمويل خارجي مع ناقص ايراد دول مصدره عام متوقع ان كو معدل نمو منطقه حدود ماءه عام في منطق جنوب اسيا نخفض معدل نمو صور طفيف لي سب ماءه عام مقابل عام متوقع ان هبط صل لي ماءه عام قد دي رتفاع سعار مواد غذاءيه وقود تضيق اءتمان شديد ضعف طلب اجنب لي فاقم حساب خارجيه باطء مو الاستثمار ظهر تباطء صور كثر ضوح هند اكستان نخفض انتاج صناع صور حاده في منطق فريقي جنوب صحراء رتفع حجم نمو صل لي ماءه عام توقع ان نخفض صور طفيف لي ماءه عام مساهم صاف صادر مو جمال ناتج محل فريقي تنخفض تعرض لدان ثير منطقه صدم ناشء معدل تبادل تجاري علا علي ذلك دي رتفاع سعار مواد غذاءيه وقود لي تساع جو فقر ثير مخاطر قوع اضطراب اجتماعيه سلع اوليه مفترق طرق مثل انخفاض حاده اخيره سعار نفط مواد غذاءيه هاي ابرز ره نتعاش تاريخ سعار سلع اوليه قرن اخير رجع سبب انتعاش شا شا رات انتعاش سابقه لي معدل نمو اقتصاد عالم قويه قد لغ قط نهايه تباطء مفاجء اقتصاد عالم سبب ازمه ماليه حاليه عكس طول مده الاستثناءيه انتعاش سعار سلع اوليه خمس سنوات عدد سلع اوليه صله مستو لغ اسعار مرو نمو بلد ناميه خلال فتره خلال فتره واءل عام منتصف عام ارتفع سعار نفط نسب ماءه قيمه الدولاريه ارتفع اسعار تجاريه دوليه سلع غذاءيه نسب ماءه ره انتعاش طال مد لغت محط اخيره حت ان انت اثار الاجتماعيه انسانيه ناجمه ارتفاع تاريخ اسعار نت عد صف عامه انخفض اسعار قطاعات متخل ذلك جانب بير مكاسب حقق قت سابق عزي لي باطء مو جمال ناتج محلي زياد الامدادات نقيح توقع الاقتصاديه ان اسعار مازالت عل كثير انت دا ره انتعاش متوقع ان ظل عل مستوي تسعين قرن عشر علي مد عشر سن قادمه ذلك تيج طلب علي حبوب غذاءيه مستخدمه نتاج وقود حيوي رجح ان ستقر متوسط سعار نفط حوالي دولار امريكي برميل عام مقبل ان ظل اسعار عالميه حقيقيه سلع غذاءيه علي مد سنو خمس مقبله عل نسب حوالي ماءه مستوي تسعين قرن ماضي رغم نخفاض سعار سلع اوليه مازالت مخاوف حول جانب طلب عرض علي امد طويل حول تاثير رتفاع سعار سلع اوليه علي فقراء تناول مءلف تقرير دراسه ذا عالم كو صدد دخول لي ره طويل قص امداد ـ ضوء خش بعض ناقص امداد نفط معادن حبوب غذاءيه زايد اسعار تعرض مءلف تقرير فقراء متاثر جراء ازمه افضل سبل متاحه لمساعدتهم قال ندرو رنز مءلف رءيس هذا تقرير وجد ان تكهن حول حدوث قص شي مواد غذاءيه منتج طاقه كن قاءم علي ساس قوي ان عالم عا قصا سلع اوليه اساسيه ذا توافر سياس سليمه يف فاعل امور علي مد عشر عام مقبله توقف قع امر علي خطو تخذ حكوم حد اعتماد علي نفط شجيع طاقه بديله مكافح غير مناخ زياد انتاجيه الزراعيه'"
            ]
          },
          "execution_count": 55,
          "metadata": {},
          "output_type": "execute_result"
        }
      ],
      "source": [
        "my_data['Body'][1]"
      ]
    },
    {
      "cell_type": "code",
      "execution_count": 56,
      "metadata": {
        "colab": {
          "base_uri": "https://localhost:8080/",
          "height": 109
        },
        "execution": {
          "iopub.execute_input": "2024-05-07T21:38:28.415356Z",
          "iopub.status.busy": "2024-05-07T21:38:28.415043Z",
          "iopub.status.idle": "2024-05-07T21:38:28.425283Z",
          "shell.execute_reply": "2024-05-07T21:38:28.424136Z",
          "shell.execute_reply.started": "2024-05-07T21:38:28.41533Z"
        },
        "id": "6MdBs7fvenXV",
        "outputId": "b3d5f650-52db-4379-8b83-9e0d5af9ccb3",
        "trusted": true
      },
      "outputs": [
        {
          "data": {
            "application/vnd.google.colaboratory.intrinsic+json": {
              "type": "string"
            },
            "text/plain": [
              "'ناسا يبلر بد مهم بحث اشقاء ارض نجاح ناسا يبلر بد مهم بحث اشقاء ارض نجاح علماء فضاء ستمر بحث احياء علي واكب خر دبي امار عربيه متحده اعلن ال بحاث فضاء طير امريكيه ناسا ان تليسكوب كيبلر دا عل تزويد محطه معلوم جديده مهمه رسل لاتمامها التي دات عشر ايام كد علماء ناس ان يبلر تم طلاق سادس مارس ذار ماضي عمل شكل جيد ان قدر علي رصد تغير سيط ضوء منبعث نجوم كواكب دل علماء علي ان جما مع مل غلاف جويا كد رءيس ريق علماء عامل مهم يبلر ليام وروكي ان قدر تليسكوب علي قياس ضوء جمع معلوم خاصه عنه مك علماء كتشاف واكب جديد حجم ارض تضم مهم تليسكوب متد ثلاث وات نصف حصول علي معلوم حول اف نجوم مجر طريق لبانه نتمي يه وكب ارض وصول لي واكب حجم كره ارضيه مد نتشار فضاء روابط علاق مك فضاء امريك انديفور عود لي ارض نجاح ناسا طلق كيبلر مهم بحث اشقاء ارض ناس قطع جارب هابل صوير جويف غامض علي مشتر ستخدم علماء ناس وكبا رصد تليسكوب قل طور يبلر دعي قرب لي شمس بـ مره ساوي حجم حجم وكب مشتري وكب خارج نظام شمسي ستطاع يبلر رصد غلاف جو هذا كوكب عطي صور قدر تليسكوب كبيره فق سار سيغر عض ريق بحث مهم يبلر ان تليسكوب استطاع قل معلوم كوكب وصلت علماء لي ان درج حرار كوكب لغت درج فهرنهايت هي درج حرار مرتفعه لكن جانب احد بلغ درج حرار كوكب جانب اخر حوالي درج فهرنهايت اضاف غر ان المعلومات وارده كوكب اظهر ان تغير بير حدث شد ضوء منبعث منه هذا دل علي ان كوكب دور حول جم معين تغير اضاءته مام ري قمر ارض تابع قاءل ان كيبلر وصل لي معلوم جديده حول وكب قديم معلومه جديده ان درج حراره علي كوكب مرتفع جد جدا جانب منه نفذ تليسكوب يبلر مهم سهل ظاهريا لكن شديد تعقيد قع امر تمثل تركيز علي قط حد فضاء مد ثلاث عوام نصف بحث واكب كو شبيه ارض حسب ناسا ان هدف نظر مكان عثور علي وكب دور حول شمس موجود نقطه فق ظروف مماثل ظروف ارض حتمل تال ان كو مهد ظهور حيا علي سطحه'"
            ]
          },
          "execution_count": 56,
          "metadata": {},
          "output_type": "execute_result"
        }
      ],
      "source": [
        "my_data['Body'][2002]"
      ]
    },
    {
      "cell_type": "code",
      "execution_count": 57,
      "metadata": {
        "execution": {
          "iopub.execute_input": "2024-05-07T21:38:28.427019Z",
          "iopub.status.busy": "2024-05-07T21:38:28.426622Z",
          "iopub.status.idle": "2024-05-07T21:56:41.338731Z",
          "shell.execute_reply": "2024-05-07T21:56:41.337743Z",
          "shell.execute_reply.started": "2024-05-07T21:38:28.426991Z"
        },
        "id": "Zn84yBq8enXV",
        "trusted": true
      },
      "outputs": [],
      "source": [
        "my_data['Body'] = my_data['Body'].apply(remove_stopwords_robustly)"
      ]
    },
    {
      "cell_type": "code",
      "execution_count": 58,
      "metadata": {
        "colab": {
          "base_uri": "https://localhost:8080/",
          "height": 109
        },
        "execution": {
          "iopub.execute_input": "2024-05-07T21:56:41.341062Z",
          "iopub.status.busy": "2024-05-07T21:56:41.340123Z",
          "iopub.status.idle": "2024-05-07T21:56:41.347696Z",
          "shell.execute_reply": "2024-05-07T21:56:41.346811Z",
          "shell.execute_reply.started": "2024-05-07T21:56:41.341035Z"
        },
        "id": "e3vaAGuJenXW",
        "outputId": "e3b6b313-0442-40bc-b087-36e5aebae9c0",
        "trusted": true
      },
      "outputs": [
        {
          "data": {
            "application/vnd.google.colaboratory.intrinsic+json": {
              "type": "string"
            },
            "text/plain": [
              "'بورص عربيه با اداء تشاءم خيم امار بورص عربيه با اداء تشاءم خيم امار سوق دب مال سجل راجع اثن دبي امار عربيه متحده با داء سواق مال عربيه اثنين عدما حقق اسهم كبر ورص عرب رتفاع جيدا سط قبال شراء متعامل رهق انتظار ترقب عدما راقب سهم نحدر شده قت صعد سهم سعوديه كويت مصر اردن تراجع ورصتا امار سط تقارير باطء مو اقتصاد امارات زم ءتما مقبله اد شر جواء تشاءم اسواق ماليه فق سماسره سعوديه سب مءشر ماءه قيم اثنين نهي جلس تداول مستو نقطه رابح جديده قريب قيمه راجع احد سجل سوق قيم تداول لغت مليار سعود متراجع ربع تداول احد تحقق داول ملي سهم ارتفع هايت سعار سهم شركه سجل سهم شرك خساءر متفاوته محافظ مصرف مركز امارات سلط سويد قال صحف مءتمر اثن ان باطء مو اقتصاد راجع مو قطاع عقار محتمل سط زم غاء وظاءف قطاع شهد طفر اكثر سنوات كويت صعد اسهم اثنين عمل شراء اسعه دي رتفاع مءشر سوق نقطه قيم مءشر ستقر مستو نقاط حقق سوق تداول قيم ملي سجل داول كثر ملي سهم ارتفع مءشر قطاع خدم مءشر قطاع صناعه مءشر قطاع استثمار راجع مءشر قطاع بنوك نقطه امار عربيه راجع مءشر ورص دب ماءه مستو نقطه بع مءشر ابوظب اصغر ماءه مستو نقطه يوم ثالن توالي صل قيم تعامل اسهم الاماراتيه ملي اماراتي تحصل داول ملي سهم صفقه ينما هبط مءشر سوق امار مال نسب ماءه غلق نقطه مدفوع تراجع قطاع صناع خدمات ورص خليج صغيره تراجع اسهم عمانيه ماءه غلق مءشر مستو نقطه صلت اسهم قطريه رتفاع قوي عدما صعد ماءه ستقر مءشر مستو نقطه مءشر بحرين ماءه قيم نهي وم مستو نقطه صلت اسهم اردنيه ارتفاعها سجل مءشر ورص عم صعود ماءه ستقر مستو نقطه عكس مءشر كيس رءيس بورص قاهره والاسكندريه مسار نزول مرتفع ماءه مستو نقطه'"
            ]
          },
          "execution_count": 58,
          "metadata": {},
          "output_type": "execute_result"
        }
      ],
      "source": [
        "my_data['Body'][20]"
      ]
    },
    {
      "cell_type": "code",
      "execution_count": 59,
      "metadata": {
        "colab": {
          "base_uri": "https://localhost:8080/",
          "height": 206
        },
        "execution": {
          "iopub.execute_input": "2024-05-07T21:56:41.349478Z",
          "iopub.status.busy": "2024-05-07T21:56:41.349141Z",
          "iopub.status.idle": "2024-05-07T21:56:41.36555Z",
          "shell.execute_reply": "2024-05-07T21:56:41.364816Z",
          "shell.execute_reply.started": "2024-05-07T21:56:41.349453Z"
        },
        "id": "c6GOiQ7ZenXW",
        "outputId": "287a38c8-b141-41b8-b07b-90c541f6c7c2",
        "trusted": true
      },
      "outputs": [
        {
          "data": {
            "application/vnd.google.colaboratory.intrinsic+json": {
              "summary": "{\n  \"name\": \"my_data\",\n  \"rows\": 8786,\n  \"fields\": [\n    {\n      \"column\": \"category\",\n      \"properties\": {\n        \"dtype\": \"category\",\n        \"num_unique_values\": 6,\n        \"samples\": [\n          \"Business\",\n          \"Entertainment\",\n          \"World\"\n        ],\n        \"semantic_type\": \"\",\n        \"description\": \"\"\n      }\n    },\n    {\n      \"column\": \"Body\",\n      \"properties\": {\n        \"dtype\": \"string\",\n        \"num_unique_values\": 8784,\n        \"samples\": [\n          \"\\u0642\\u062a\\u0635\\u0627\\u062f \\u0639\\u0645\\u0627\\u0644 \\u0627\\u0642\\u062a\\u0635\\u0627\\u062f \\u0628\\u0631\\u064a\\u0637\\u0627\\u0646 \\u0628\\u062f \\u0646\\u0645\\u0648 \\u0639\\u062f \\u0645\\u062c\\u0645\\u0648\\u0639 \\u0642\\u062a\\u0635\\u0627\\u062f \\u0631\\u064a \\u0627\\u0646 \\u0627\\u0642\\u062a\\u0635\\u0627\\u062f \\u0628\\u0631\\u064a\\u0637\\u0627\\u0646 \\u0628\\u062f \\u0646\\u0645\\u0648 \\u0631\\u0628\\u0639 \\u062b\\u0627\\u0644\\u062b \\u0639\\u0627\\u0645 \\u062d\\u0627\\u0644\\u064a \\u062a\\u0648\\u0642\\u0639 \\u0633\\u0627\\u0621\\u062f\\u0647 \\u0631\\u0621\\u064a\\u0633\\u064a\\u0647 \\u0627\\u0648\\u0633\\u0637 \\u0639\\u0627\\u0644\\u0645 \\u0634\\u0627\\u0631 \\u0631\\u0627 \\u0642\\u062a\\u0635\\u0627\\u062f \\u0639\\u0645\\u0627\\u0644 \\u0645\\u0646\\u0648\\u0639 \\u0639\\u0644\\u0648\\u0645 \\u0648\\u062a\\u0643\\u0646\\u0648\\u0644\\u0648\\u062c\\u064a\\u0627 \\u0631\\u064a\\u0627\\u0636 \\u0631\\u0627\\u062f\\u064a \\u062a\\u0644\\u0641\\u0632\\u064a \\u062e\\u0631 \\u062a\\u062d\\u062f\\u064a\\u062b \\u062b\\u0644\\u0627\\u062b\\u0627\\u0621 \\u0627\\u0643\\u062a\\u0648\\u0628\\u0631 \\u0627\\u0648\\u0644 \\u0627\\u0642\\u062a\\u0635\\u0627\\u062f \\u0628\\u0631\\u064a\\u0637\\u0627\\u0646 \\u0628\\u062f \\u0646\\u0645\\u0648 \\u0639\\u062f \\u0631\\u064a \\u0645\\u0639\\u0647\\u062f \\u0642\\u0648\\u0645 \\u0627\\u0628\\u062d\\u0627\\u062b \\u0627\\u0644\\u0627\\u0642\\u062a\\u0635\\u0627\\u062f\\u064a\\u0647 \\u0648\\u0627\\u0644\\u0627\\u062c\\u062a\\u0645\\u0627\\u0639\\u064a\\u0647 \\u0631\\u064a\\u0637\\u0627\\u0646\\u064a\\u0627 \\u0627\\u0646 \\u0627\\u0642\\u062a\\u0635\\u0627\\u062f \\u0628\\u0631\\u064a\\u0637\\u0627\\u0646 \\u0628\\u062f \\u0646\\u0645\\u0648 \\u0631\\u0628\\u0639 \\u062b\\u0627\\u0644\\u062b \\u0639\\u0627\\u0645 \\u062d\\u0627\\u0644\\u064a \\u062a\\u0648\\u0642\\u0639 \\u0633\\u0627\\u0621\\u062f\\u0647 \\u062a\\u063a\\u064a\\u0631 \\u0646\\u0627\\u062a\\u062c \\u0627\\u062c\\u0645\\u0627\\u0644 \\u0645\\u062d\\u0644 \\u064a\\u0648\\u0644\\u064a\\u0648 \\u062a\\u0645\\u0648\\u0632 \\u0633\\u0628\\u062a\\u0645\\u0628\\u0631 \\u0627\\u064a\\u0644\\u0648\\u0644 \\u064a\\u0627\\u0646 \\u0645\\u0631\\u0643\\u0632 \\u0643\\u0634\\u0641 \\u0628\\u064a\\u0627\\u0646 \\u0631\\u0633\\u0645\\u064a\\u0647 \\u0631\\u0628\\u0639 \\u062b\\u0627\\u0644\\u062b \\u0633\\u0646\\u0647 \\u062d\\u0627\\u0644\\u064a\\u0647 \\u0627\\u0643\\u062a\\u0648\\u0628\\u0631 \\u062a\\u0634\\u0631\\u064a\\u0646 \\u0648\\u0644 \\u062c\\u0627\\u0631\\u064a \\u0643\\u062b\\u064a\\u0631 \\u0627\\u0642\\u062a\\u0635\\u0627\\u062f \\u062a\\u0648\\u0642\\u0639 \\u0645\\u0648\\u0627 \\u0631\\u0628\\u0639 \\u062b\\u0627\\u0644\\u062b \\u0633\\u0646\\u0647 \\u0645\\u0646\\u0647\\u064a \\u0631\\u0647 \\u0631\\u0643\\u0648\\u062f \\u0627\\u0644\\u0627\\u0642\\u062a\\u0635\\u0627\\u062f\\u064a \\u0642\\u0627\\u0644 \\u064a\\u0627\\u0645 \\u064a\\u0631\\u0646 \\u0645\\u064a \\u062e\\u0632\\u0627\\u0646\\u0647 \\u0627\\u0646 \\u064a\\u0627\\u0646 \\u0645\\u0639\\u0647\\u062f \\u0627\\u0628\\u062d\\u0627\\u062b \\u0645\\u0630\\u0643\\u0648\\u0631 \\u0621\\u0643\\u062f \\u062a\\u0642\\u062f\\u064a\\u0631 \\u0632\\u064a\\u0631 \\u062e\\u0632\\u0627\\u0646\\u0647 \\u0627\\u0646 \\u0648\\u0627\\u062f\\u0631 \\u0646\\u0645\\u0648 \\u0628\\u062f\\u0627 \\u0647\\u0627\\u064a \\u0639\\u0627\\u0645 \\u0645\\u0643\\u062a\\u0628 \\u0645\\u0639\\u0647\\u062f \\u062f\\u0627 \\u064a\\u0648\\u0645 \\u0627\\u0646 \\u0645\\u0646\\u062a\\u0648\\u062c \\u0635\\u0646\\u0627\\u0639 \\u0646\\u062e\\u0641\\u0636 \\u0646\\u0633\\u0628 \\u0645\\u0621\\u0647 \\u0627\\u063a\\u0633\\u0637\\u0633 \\u0627\\u0628 \\u0633\\u0628\\u0642\\u0647 \\u062d\\u0630\\u0631 \\u0645\\u0639\\u0647\\u062f \\u0627\\u0646 \\u062a\\u0646\\u0628\\u0621 \\u0643\\u0648 \\u062f\\u0642\\u064a\\u0642 \\u0633\\u0628\\u0628 \\u0636\\u0637\\u0631\\u0627\\u0628 \\u0648\\u0636\\u0639 \\u0627\\u0644\\u0627\\u0642\\u062a\\u0635\\u0627\\u062f\\u064a \\u062a\\u0646\\u0628\\u0621 \\u0644\\u0642 \\u0638\\u0644\\u0627\\u0644 \\u0634\\u0643 \\u0645\\u0643\\u0627\\u0646 \\u0627\\u0646 \\u062a\\u0628\\u0639 \\u0631\\u064a\\u0637\\u0627\\u0646\\u064a\\u0627 \\u0631\\u0646\\u0633 \\u0645\\u0627\\u0646\\u064a \\u062e\\u0631\\u0648\\u062c \\u0643\\u0633\\u0627\\u062f \\u0627\\u0644\\u0627\\u0642\\u062a\\u0635\\u0627\\u062f\\u064a\",\n          \"\\u062e\\u0627\\u0631\\u062c\\u064a\\u0647 \\u0627\\u0644\\u0628\\u0631\\u064a\\u0637\\u0627\\u0646\\u064a\\u0647 \\u0627\\u0633\\u062a\\u0639\\u062f\\u0627\\u062f \\u0628\\u062f\\u0621 \\u062d\\u0648\\u0627\\u0631 \\u062d\\u0632\\u0628 \\u062e\\u0627\\u0631\\u062c\\u064a\\u0647 \\u0627\\u0644\\u0628\\u0631\\u064a\\u0637\\u0627\\u0646\\u064a\\u0647 \\u0627\\u0633\\u062a\\u0639\\u062f\\u0627\\u062f \\u0628\\u062f\\u0621 \\u062d\\u0648\\u0627\\u0631 \\u062d\\u0632\\u0628 \\u0639\\u0631\\u0636 \\u0639\\u0633\\u0643\\u0631 \\u062d\\u0632\\u0628 \\u062d\\u062f \\u0634\\u0648\\u0627\\u0631\\u0639 \\u064a\\u0631\\u0648\\u062a \\u0646\\u062f\\u0646 \\u0631\\u064a\\u0637\\u0627\\u0646\\u064a\\u0627 \\u0627\\u0639\\u0644\\u0646 \\u0631\\u064a\\u0637\\u0627\\u0646\\u064a\\u0627 \\u0639\\u0632\\u0645 \\u062f\\u0621 \\u062d\\u0648\\u0627\\u0631 \\u062d\\u0632\\u0628 \\u0648\\u0642\\u0641 \\u0627\\u062a\\u0635\\u0627\\u0644 \\u0631\\u0633\\u0645\\u064a\\u0647 \\u062c\\u0627\\u0646\\u0628 \\u0631\\u0628\\u0639 \\u0627\\u0639\\u0648\\u0627\\u0645 \\u0639\\u062f\\u0645\\u0627 \\u0633\\u0627\\u0631 \\u062d\\u0643\\u0648\\u0645\\u0647 \\u0627\\u0644\\u0628\\u0631\\u064a\\u0637\\u0627\\u0646\\u064a\\u0647 \\u062e\\u0637 \\u0646\\u0638\\u064a\\u0631 \\u0627\\u0644\\u0627\\u0645\\u0631\\u064a\\u0643\\u064a\\u0647 \\u0627\\u062f\\u0631\\u062c \\u062c\\u0646\\u0627\\u062d \\u0639\\u0633\\u0643\\u0631 \\u062d\\u0632\\u0628 \\u0644\\u0628\\u0646\\u0627\\u0646 \\u0642\\u0627\\u0621\\u0645 \\u0645\\u0646\\u0638\\u0645 \\u0627\\u0644\\u0627\\u0631\\u0647\\u0627\\u0628\\u064a\\u0647 \\u0634\\u0641 \\u064a\\u0644 \\u0632\\u0627\\u0631 \\u062e\\u0627\\u0631\\u062c\\u064a\\u0647 \\u0627\\u0644\\u0628\\u0631\\u064a\\u0637\\u0627\\u0646\\u064a\\u0647 \\u064a\\u0644 \\u0631\\u0627\\u0645\\u064a\\u0644 \\u0627\\u0646 \\u0645\\u0648\\u0642\\u0641 \\u062f\\u0646 \\u062d\\u0632\\u0628 \\u064a\\u0627 \\u0627\\u0644\\u062a\\u0637\\u0648\\u0631 \\u0627\\u064a\\u062c\\u0627\\u0628\\u064a\\u0647 \\u0634\\u0647\\u062f \\u0628\\u0646\\u0627\\u0646 \\u0634\\u0627\\u0631 \\u0645\\u0634\\u0627\\u0631\\u0643 \\u062d\\u0632\\u0628 \\u062d\\u0643\\u0648\\u0645 \\u0648\\u062d\\u062f\\u0647 \\u0648\\u0637\\u0646\\u064a\\u0647 \\u064a\\u0648\\u0644\\u064a\\u0648 \\u0645\\u0627\\u0636\\u064a \\u062e\\u0641\\u0641 \\u062d\\u062f \\u0635\\u0631\\u0627\\u0639 \\u0633\\u064a\\u0627\\u0633 \\u0627\\u0644\\u0641\\u0631\\u0642\\u0627\\u0621 \\u0627\\u0644\\u0644\\u0628\\u0646\\u0627\\u0646\\u064a\\u0646 \\u0642\\u0627\\u0644 \\u0631\\u0627\\u0645\\u064a\\u0644 \\u0645\\u0627\\u0645 \\u0628\\u0631\\u0644\\u0645 \\u0628\\u0631\\u064a\\u0637\\u0627\\u0646 \\u0627\\u0631\\u0628\\u0639\\u0627\\u0621 \\u0642\\u0631\\u0631 \\u0646\\u0638\\u0631 \\u0645\\u0648\\u0642\\u0641\\u0646\\u0627 \\u062a\\u0637\\u0648\\u0631 \\u0627\\u064a\\u062c\\u0627\\u0628\\u064a\\u0647 \\u0634\\u0647\\u062f \\u0628\\u0646\\u0627\\u0646 \\u0633\\u0628\\u0628 \\u0642\\u0631\\u0631 \\u0633\\u064a\\u0631 \\u0637\\u0631\\u064a\\u0642 \\u0627\\u062a\\u0635\\u0627\\u0644 \\u062d\\u0632\\u0628 \\u0642\\u0644\\u062a \\u0647\\u064a\\u0621 \\u0627\\u0630\\u0627\\u0639\\u0647 \\u0627\\u0644\\u0628\\u0631\\u064a\\u0637\\u0627\\u0646\\u064a\\u0647 \\u0646\\u0627\\u0637\\u0642 \\u0627\\u0633\\u0645 \\u062e\\u0627\\u0631\\u062c\\u064a\\u0647 \\u0642\\u0648\\u0644 \\u0627\\u0646 \\u062f\\u0646 \\u062a\\u0639\\u0627\\u0645\\u0644 \\u0627\\u0644\\u062c\\u0646\\u0627\\u062d \\u0633\\u064a\\u0627\\u0633\\u064a \\u062d\\u0632\\u0628 \\u0634\\u0641 \\u064a\\u0644 \\u0632\\u0627\\u0631 \\u062e\\u0627\\u0631\\u062c\\u064a\\u0647 \\u0627\\u0646 \\u0641\\u062f \\u0648\\u0627\\u0628 \\u0645\\u0639\\u0627\\u0631\\u0636\\u0647 \\u062d\\u0632\\u0628 \\u0627\\u0644\\u0645\\u062d\\u0627\\u0641\\u0638\\u064a\\u0646 \\u0627\\u0644\\u0628\\u0631\\u064a\\u0637\\u0627\\u0646\\u064a \\u062c\\u0631 \\u0645\\u0621\\u062e\\u0631 \\u0645\\u0628\\u0627\\u062d\\u062b \\u0627\\u0639\\u0636\\u0627\\u0621 \\u062d\\u062f \\u062c\\u0627 \\u0628\\u0631\\u0644\\u0645 \\u0644\\u0628\\u0646\\u0627\\u0646\\u064a \\u0646\\u0627\\u0621\\u0628 \\u062d\\u0632\\u0628 \\u0645\\u0634\\u064a\\u0631 \\u0627\\u0646 \\u0633\\u0641\\u064a\\u0631\\u0647 \\u0627\\u0644\\u0628\\u0631\\u064a\\u0637\\u0627\\u0646\\u064a\\u0647 \\u064a\\u0631\\u0648\\u062a \\u0631\\u0627\\u0646\\u0633\\u064a\\u0633 \\u063a\\u0627\\u064a \\u0627\\u0646\\u062a \\u062d\\u0636\\u0648\\u0631 \\u0647\\u062f\\u0641 \\u0645\\u0648\\u0642\\u0641 \\u062e\\u0627\\u0631\\u062c\\u064a\\u0647 \\u0627\\u0644\\u0628\\u0631\\u064a\\u0637\\u0627\\u0646\\u064a\\u0647 \\u0648\\u0636\\u062d \\u0631\\u0627\\u0645\\u064a\\u0644 \\u0642\\u0627\\u0621\\u0644\\u0627 \\u0631\\u063a\\u0628 \\u062c\\u0631\\u0627\\u0621 \\u0645\\u0632\\u064a\\u062f \\u0646\\u0642\\u0627\\u0634\\u0627\\u062a \\u0647\\u062f\\u0641 \\u0631\\u0621\\u064a\\u0633 \\u0636\\u063a\\u0637 \\u062d\\u0632\\u0628 \\u0639\\u0628 \\u062f\\u0648\\u0631 \\u0643\\u062b\\u0631 \\u0627\\u064a\\u062c\\u0627\\u0628\\u064a\\u0647 \\u062e\\u0627\\u0635 \\u0635\\u0639\\u064a\\u062f \\u062a\\u062e\\u0644 \\u0639\\u0646\\u0641 \\u062d\\u062f \\u062a\\u0639\\u0628\\u064a\\u0631\\u0647 \\u0627\\u0646\\u062a \\u062f\\u0646 \\u0627\\u0639\\u0644\\u0646 \\u0648\\u0627\\u0621\\u0644 \\u064a\\u0648\\u0644\\u064a\\u0648 \\u0645\\u0627\\u0636 \\u0646\\u0647 \\u0627\\u0636\\u0627\\u0641 \\u062c\\u0646\\u0627\\u062d \\u0639\\u0633\\u0643\\u0631 \\u062d\\u0632\\u0628 \\u0627\\u0621\\u062d \\u0645\\u0646\\u0638\\u0645 \\u0627\\u0644\\u0645\\u062d\\u0638\\u0648\\u0631\\u0647 \\u0631\\u0641\\u0636 \\u062c\\u0631\\u0627\\u0621 \\u062d\\u0648\\u0627\\u0631 \\u0627\\u064a \\u062c\\u0646\\u062d \\u062d\\u0632\\u0628 \\u0633\\u0648\\u0627\\u0621 \\u0639\\u0633\\u0643\\u0631 \\u0627\\u0648 \\u0627\\u0644\\u0628\\u0631\\u0644\\u0645\\u0627\\u0646\\u064a \\u0645\\u0646\\u0638\\u0645 \\u0627\\u062e\\u0631 \\u0639\\u0627\\u0645\\u0644\\u0647 \\u0645\\u062c\\u0627\\u0644 \\u0631\\u0639\\u0627\\u064a\\u0647 \\u0635\\u062d\\u064a\\u0647 \\u0648\\u0627\\u0644\\u0627\\u062c\\u062a\\u0645\\u0627\\u0639\\u064a\\u0647 \\u0642\\u0627\\u0644 \\u0632\\u064a\\u0631 \\u062f\\u0627\\u062e\\u0644\\u064a\\u0647 \\u0627\\u0644\\u0628\\u0631\\u064a\\u0637\\u0627\\u0646\\u064a \\u0637\\u0648 \\u0645\\u0627\\u0643\\u0646\\u062a\\u0644\\u064a \\u064a\\u0627\\u0646 \\u0627\\u0646\\u0630\\u0627\\u0643 \\u0627\\u0646 \\u0642\\u0631\\u0627\\u0631 \\u062a\\u0648\\u062c\\u0628 \\u0627\\u062c\\u0627\\u0632 \\u0628\\u0631\\u0644\\u0645 \\u0635\\u0628\\u062d \\u0642\\u0627\\u0646\\u0648\\u0646\\u0627 \\u064a\\u0628\\u0639\\u062b \\u0631\\u0633\\u0627\\u0644 \\u0636\\u062d \\u0646\\u0646 \\u062f\\u064a \\u0639\\u0646\\u0641 \\u062d\\u0632\\u0628 \\u062f\\u0639\\u0645 \\u0627\\u0631\\u0647\\u0627\\u0628 \\u0646\\u0647 \\u0636\\u0627\\u0641 \\u0627\\u0646 \\u0646\\u0634\\u0637 \\u062c\\u0645\\u0627\\u0639\\u0647 \\u0633\\u064a\\u0627\\u0633\\u064a\\u0647 \\u0648\\u0627\\u0644\\u0627\\u062c\\u062a\\u0645\\u0627\\u0639\\u064a\\u0647 \\u0627\\u0646\\u0633\\u0627\\u0646\\u064a\\u0647 \\u062a\\u062a\\u0627\\u062b\\u0631 \\u0642\\u0631\\u0627\\u0631 \\u062c\\u0647\\u062a\\u0647 \\u0642\\u0627\\u0644 \\u0631\\u0621\\u064a\\u0633 \\u0648\\u0632\\u0631\\u0627\\u0621 \\u0627\\u0644\\u0628\\u0631\\u064a\\u0637\\u0627\\u0646\\u064a \\u063a\\u0648\\u0631\\u062f \\u0631\\u0627\\u0648\\u0646 \\u0627\\u0646 \\u0642\\u0631\\u0627\\u0631 \\u0627\\u062f\\u0631\\u0627\\u062c \\u0642\\u0627\\u0621\\u0645 \\u0627\\u0631\\u0647\\u0627\\u0628 \\u064a\\u0627 \\u0638\\u0647\\u0648\\u0631 \\u0627\\u062f\\u0644 \\u062c\\u062f\\u064a\\u062f\\u0647 \\u0648\\u0631\\u0637 \\u062d\\u0632\\u0628 \\u0645\\u0645\\u0627\\u0631\\u0633 \\u0646\\u0648\\u0639 \\u0639\\u0631\\u0627\\u0642 \\u0627\\u0631\\u0627\\u0636 \\u0627\\u0644\\u0641\\u0644\\u0633\\u0637\\u064a\\u0646\\u064a\\u0647 \\u0645\\u062d\\u062a\\u0644\\u0647 \\u062f\\u0627\\u0639\\u064a \\u062d\\u0632\\u0628 \\u0627\\u0644\\u0642\\u0627\\u0621 \\u0633\\u0644\\u0627\\u062d \\u0627\\u0646\\u062e\\u0631\\u0627\\u0637 \\u0639\\u0645\\u0644\\u064a\\u0647 \\u0633\\u064a\\u0627\\u0633\\u064a\\u0647 \\u0644\\u0628\\u0646\\u0627\\u0646\\u064a\\u0647 \\u0633\\u0648 \\u0633\\u0627\\u0621\\u0631 \\u0627\\u062d\\u0632\\u0627\\u0628 \\u0645\\u0642\\u0627\\u0628\\u0644 \\u0631\\u062f \\u0627\\u0645 \\u0639\\u0627\\u0645 \\u062d\\u0632\\u0628 \\u062d\\u0633 \\u0635\\u0631 \\u0645\\u0621\\u062a\\u0645\\u0631 \\u0635\\u062d\\u0641 \\u0639\\u0642\\u062f \\u0639\\u0628\\u0631 \\u0634\\u0627\\u0634 \\u062a\\u0644\\u0641\\u0632\\u0647 \\u0645\\u0648\\u0642\\u0639 \\u0645\\u0639\\u0631\\u0648\\u0641 \\u064a\\u0631\\u0648\\u062a \\u0642\\u0648\\u0644 \\u0639\\u0644\\u0645 \\u0633\\u0627\\u0639 \\u0642\\u0631\\u0627\\u0631 \\u062d\\u0643\\u0648\\u0645\\u0647 \\u0627\\u0644\\u0628\\u0631\\u064a\\u0637\\u0627\\u0646\\u064a\\u0647 \\u0636\\u0639 \\u0642\\u0627\\u0644 \\u0646\\u0647 \\u062c\\u0646\\u0627\\u062d \\u0645\\u0633\\u0644\\u062d \\u0627\\u0621\\u062d \\u0627\\u0631\\u0647\\u0627\\u0628 \\u0646\\u0627 \\u0639\\u062a\\u0628\\u0631 \\u0627\\u0646 \\u0642\\u0631\\u0627\\u0631 \\u0645\\u0641\\u0627\\u062c\\u0621 \\u0637\\u0628\\u064a\\u0639 \\u062f\\u0648\\u0644 \\u0634\\u0627\\u0631\\u0643 \\u062a\\u0627\\u0633\\u064a\\u0633 \\u0635\\u0647\\u064a\\u0648\\u0646 \\u0642\\u062a\\u0644\\u0627\\u0639 \\u0634\\u0639\\u0628 \\u0627\\u0644\\u0641\\u0644\\u0633\\u0637\\u064a\\u0646\\u064a \\u0634\\u0627\\u0631 \\u0627\\u0646 \\u0645\\u062a\\u062d\\u062f\\u0647 \\u062f\\u0631\\u062c \\u062d\\u0632\\u0628 \\u0631\\u0628\\u0637 \\u0639\\u062f\\u064a\\u062f \\u0647\\u062c\\u0645 \\u0627\\u0631\\u0647\\u0627\\u0628\\u064a\\u0647 \\u0636\\u062f \\u0645\\u0648\\u0627\\u0637\\u0646 \\u0647\\u062f\\u0627\\u0641 \\u0627\\u062e\\u0631\\u064a \\u0642\\u0627\\u0621\\u0645 \\u0627\\u0631\\u0647\\u0627\\u0628 \\u062e\\u0627\\u0635\\u0647 \\u0635\\u0641 \\u0632\\u0627\\u0631 \\u062e\\u0632\\u0627\\u0646\\u0647 \\u0627\\u0645\\u0631\\u064a\\u0643\\u064a\\u0647 \\u0642\\u0646\\u0627 \\u0627\\u0644\\u0645\\u0646\\u0627\\u0631 \\u0641\\u0636\\u0627\\u0621\\u064a\\u0647 \\u062a\\u0627\\u0628\\u0639\\u0647 \\u062d\\u0632\\u0628 \\u0627\\u0646 \\u0631\\u0647\\u0627\\u0628 \\u0639\\u0627\\u0644\\u0645\\u064a\",\n          \"\\u0642\\u062a\\u0635\\u0627\\u062f \\u0639\\u0645\\u0627\\u0644 \\u062c\\u0646\\u0631\\u0627\\u0644 \\u0645\\u0648\\u062a\\u0648\\u0631\\u0632 \\u062a\\u0648\\u0642\\u0641 \\u0646\\u062a\\u0627\\u062c \\u0647\\u0627\\u0645\\u0631 \\u0646\\u0647\\u064a\\u0627\\u0631 \\u0635\\u0641\\u0642 \\u064a\\u0639 \\u0635\\u064a\\u0646 \\u0634\\u0631\\u0643 \\u0635\\u0646\\u0627\\u0639 \\u0633\\u064a\\u0627\\u0631 \\u0627\\u0645\\u0631\\u064a\\u0643\\u064a\\u0647 \\u0645\\u062a\\u0639\\u062b\\u0631\\u0647 \\u0642\\u0631\\u0631 \\u0642\\u0641 \\u0646\\u062a\\u0627\\u062c \\u0633\\u064a\\u0627\\u0631\\u0647 \\u0647\\u0627\\u0645\\u0631 \\u0634\\u0644 \\u0645\\u062d\\u0627\\u0648\\u0644 \\u064a\\u0639 \\u0635\\u0646\\u0627\\u0639 \\u0637\\u0631\\u0627\\u0632 \\u0635\\u064a\\u0646\\u064a\\u0646 \\u0631\\u0621\\u064a\\u0633\\u064a\\u0647 \\u0627\\u0648\\u0633\\u0637 \\u0639\\u0627\\u0644\\u0645 \\u0634\\u0627\\u0631 \\u0631\\u0627 \\u0642\\u062a\\u0635\\u0627\\u062f \\u0639\\u0645\\u0627\\u0644 \\u0645\\u0646\\u0648\\u0639 \\u0639\\u0644\\u0648\\u0645 \\u0648\\u062a\\u0643\\u0646\\u0648\\u0644\\u0648\\u062c\\u064a\\u0627 \\u0631\\u064a\\u0627\\u0636 \\u0631\\u0627\\u062f\\u064a \\u062a\\u0644\\u0641\\u0632\\u064a \\u062e\\u0631 \\u062a\\u062d\\u062f\\u064a\\u062b \\u062e\\u0645\\u064a\\u0633 \\u0631\\u0627\\u064a\\u0631 \\u0634\\u0628\\u0627\\u0637 \\u062c\\u0646\\u0631\\u0627\\u0644 \\u0645\\u0648\\u062a\\u0648\\u0631\\u0632 \\u062a\\u0648\\u0642\\u0641 \\u0646\\u062a\\u0627\\u062c \\u0647\\u0627\\u0645\\u0631 \\u0646\\u0647\\u064a\\u0627\\u0631 \\u0635\\u0641\\u0642 \\u064a\\u0639 \\u0635\\u064a\\u0646 \\u062a\\u0648\\u0642\\u0641 \\u0634\\u0631\\u0643 \\u0635\\u0646\\u0627\\u0639 \\u0633\\u064a\\u0627\\u0631\\u062a \\u0627\\u0645\\u0631\\u064a\\u0643\\u064a\\u0647 \\u062c\\u0646\\u0631\\u0627\\u0644 \\u0645\\u0648\\u062a\\u0648\\u0631\\u0632 \\u0646\\u062a\\u0627\\u062c \\u0633\\u064a\\u0627\\u0631\\u0647 \\u0647\\u0627\\u0645\\u0631 \\u0646\\u0647\\u064a\\u0627\\u0631 \\u0635\\u0641\\u0642 \\u0627\\u0633\\u062a\\u062d\\u0648\\u0627\\u0630 \\u0635\\u064a\\u0646 \\u0630\\u0643\\u0631 \\u062c\\u0646\\u0631\\u0627\\u0644 \\u0645\\u0648\\u062a\\u0648\\u0631\\u0632 \\u0633\\u0628\\u0627\\u0628 \\u0646\\u0647\\u064a\\u0627\\u0631 \\u0645\\u062d\\u0627\\u0648\\u0644 \\u064a\\u0639 \\u0637\\u0631\\u0627\\u0632 \\u0634\\u0631\\u0643 \\u062a\\u0646\\u062c\\u0632\\u0648\\u0646\\u062c \\u0635\\u064a\\u0646\\u064a\\u0647 \\u0627\\u0646 \\u0646\\u0628\\u0627\\u0621 \\u0630\\u0643\\u0631 \\u0627\\u0646 \\u0643\\u064a\\u0646 \\u0631\\u0641\\u0636 \\u0645\\u0648\\u0627\\u0641\\u0642\\u0647 \\u062a\\u0645\\u0627\\u0645 \\u0635\\u0641\\u0642\\u0647 \\u0627\\u0646\\u062a \\u0634\\u0631\\u0643\\u0647 \\u0627\\u0645\\u0631\\u064a\\u0643\\u064a\\u0647 \\u0642\\u0631\\u0631 \\u064a\\u0639 \\u0646\\u062a\\u0627\\u062c \\u0647\\u0627\\u0645\\u0631 \\u0639\\u0627\\u0645 \\u0645\\u0627\\u0636 \\u062e\\u0644\\u0635 \\u0639\\u062f\\u062f \\u0637\\u0631\\u0632 \\u0646\\u062a\\u062c \\u0637\\u0644\\u0628 \\u062d\\u0645\\u0627\\u064a\\u0647 \\u062f\\u0627\\u0621\\u0646 \\u0645\\u0647\\u064a\\u062f \\u0627\\u0641\\u0644\\u0627\\u0633 \\u0627\\u0639\\u0631\\u0628 \\u0634\\u0631\\u0643\\u0647 \\u062e\\u064a\\u0628 \\u0627\\u0645\\u0644\\u0647\\u0627 \\u0627\\u0646 \\u0635\\u0641\\u0642\\u0647 \\u0635\\u064a\\u0646 \\u062a\\u062a\\u0645 \\u0642\\u0627\\u0644 \\u062c\\u0648 \\u0633\\u0645\\u064a\\u062b \\u0646\\u0627\\u0621\\u0628 \\u0631\\u0621\\u064a\\u0633 \\u0634\\u0631\\u0643\\u0647 \\u0633\\u062a\\u0639\\u0645\\u0644 \\u062c\\u0646\\u0631\\u0627\\u0644 \\u0645\\u0648\\u062a\\u0648\\u0631\\u0632 \\u0639\\u0627\\u0645\\u0644 \\u0646\\u062a\\u0627\\u062c \\u0647\\u0627\\u0645\\u0631 \\u062c\\u0627\\u0631 \\u0645\\u0648\\u0631\\u062f \\u0645\\u0635\\u0646\\u0639 \\u0627\\u0646\\u0647\\u0627\\u0621 \\u0639\\u0645\\u0644 \\u0637\\u0631\\u064a\\u0642 \\u0645\\u0646\\u0638\\u0645 \\u0648\\u0645\\u0633\\u0621\\u0648\\u0644\\u0647 \\u0627\\u0636\\u0627\\u0641 \\u0634\\u0631\\u0643\\u0647 \\u0646\\u0647 \\u0648\\u0627\\u0635\\u0644 \\u0627\\u0644\\u062a\\u0632\\u0627\\u0645 \\u0636\\u0645\\u0627\\u0646 \\u0645\\u0644 \\u0633\\u064a\\u0627\\u0631\\u0647 \\u0627\\u0646\\u062d\\u0627\\u0621 \\u0639\\u0627\\u0644\\u0645 \\u0648\\u0641\\u064a\\u0631 \\u062e\\u062f\\u0645\\u0647 \\u0642\\u0637\\u0639 \\u063a\\u064a\\u0627\\u0631 \\u0627\\u0646\\u062a \\u062c\\u0646\\u0631\\u0627\\u0644 \\u0645\\u0648\\u062a\\u0648\\u0631\\u0632 \\u062a\\u0641\\u0627\\u062f \\u0627\\u0641\\u0644\\u0627\\u0633 \\u064a\\u0648\\u0644\\u064a\\u0648 \\u062a\\u0645\\u0648\\u0632 \\u0639\\u0627\\u0645 \\u0645\\u0627\\u0636 \\u0645\\u0639\\u0644 \\u0642\\u0641 \\u0646\\u062a\\u0627\\u062c \\u0633\\u064a\\u0627\\u0631 \\u0648\\u0646\\u062a\\u064a\\u0627 \\u0633\\u0627\\u062a\\u0648\\u0631 \\u064a\\u0639 \\u0637\\u0631\\u0627\\u0632 \\u0633\\u0627\\u0628 \\u0633\\u0648\\u064a\\u062f \\u0641\\u0631\\u0639 \\u0627\\u0648\\u0631\\u0648\\u0628 \\u0627\\u0648\\u0628\\u0644 \\u0646\\u0647\\u0627\\u064a\\u0647 \\u0627\\u062d\\u062a\\u0641\\u0638 \\u0627\\u0648\\u0628\\u0644 \\u0640 \\u062a\\u0636\\u0645 \\u0637\\u0631\\u0627\\u0632 \\u0628\\u0631\\u064a\\u0637\\u0627\\u0646 \\u0648\\u0643\\u0633\\u0647\\u0648\\u0644 \\u0640 \\u0627\\u0639\\u062a \\u0633\\u0627\\u0628 \\u0634\\u0631\\u0643 \\u0635\\u0646\\u0627\\u0639 \\u0633\\u064a\\u0627\\u0631 \\u0647\\u0648\\u0644\\u0646\\u062f\\u064a\\u0647 \\u0633\\u0628\\u0627\\u064a\\u0643\\u0631 \\u0627\\u0646\\u062a \\u0633\\u064a\\u0627\\u0631 \\u0647\\u0627\\u0645\\u0631 \\u0635\\u0646\\u0639 \\u0628\\u062f\\u0627\\u064a\\u0647 \\u0633\\u064a\\u0627\\u0631 \\u0639\\u0633\\u0643\\u0631 \\u0634\\u0631\\u0643 \\u064a\\u0647 \\u0627\\u0645 \\u062c\\u0646\\u0631\\u0627\\u0644 \\u0627\\u0646\\u062a\\u0634\\u0631 \\u0633\\u064a\\u0627\\u0631\\u0647 \\u0642\\u0628\\u0627\\u0644 \\u0627\\u0645\\u0631\\u064a\\u0643 \\u0641\\u0636\\u064a\\u0644 \\u0645\\u0634\\u0627\\u0647\\u064a\\u0631 \\u0627\\u0634\\u062a\\u0631 \\u062c\\u0646\\u0631\\u0627\\u0644 \\u0645\\u0648\\u062a\\u0648\\u0631\\u0632 \\u0637\\u0631\\u0627\\u0632 \\u0647\\u0627\\u0645\\u0631 \\u0639\\u0627\\u0645 \\u0645\\u0628\\u064a\\u0639 \\u062a\\u0631\\u0627\\u062c\\u0639 \\u0634\\u062f \\u062f\\u0647\\u0648\\u0631 \\u0635\\u0648\\u0631 \\u062c\\u064a\\u0634 \\u0631\\u0627\\u062c\\u0639 \\u0627\\u0633\\u062a\\u062e\\u062f\\u0627\\u0645 \\u0633\\u064a\\u0627\\u0631 \\u062b\\u064a\\u0641 \\u0633\\u062a\\u0647\\u0644\\u0627 \\u0648\\u0642\\u0648\\u062f \\u0634\\u0631\\u0643 \\u062a\\u0646\\u062c\\u0632\\u0648\\u0646\\u062c \\u0627\\u0646\\u062a \\u0634\\u062a\\u0631\\u064a \\u0645\\u0642\\u0631 \\u0642\\u0644\\u064a\\u0645 \\u0634\\u0648 \\u0635\\u064a\\u0646 \\u0645\\u062a\\u062e\\u0635\\u0635 \\u0646\\u062a\\u0627\\u062c \\u0645\\u0639\\u062f \\u0646\\u0642\\u0644 \\u0628\\u0646\\u0627\\u0621 \\u0635\\u0646\\u0627\\u0639 \\u0637\\u0627\\u0642\\u0647 \\u0627\\u0646\\u062a \\u0634\\u0631\\u0648\\u0637 \\u0635\\u0641\\u0642\\u0647 \\u0645\\u0646\\u0647\\u0627\\u0631\\u0647 \\u062a\\u0636\\u0645 \\u0634\\u0631\\u0627\\u0621 \\u062a\\u0646\\u062c\\u0632\\u0648\\u0646\\u062c \\u062d\\u0635 \\u0645\\u0621\\u0647 \\u0633\\u0647\\u0645 \\u0647\\u0627\\u0645\\u0631 \\u0634\\u0631\\u0627\\u0621 \\u0631\\u062c\\u0644 \\u0627\\u0639\\u0645\\u0627\\u0644 \\u0647\\u0648\\u0646\\u062c \\u0648\\u0646\\u062c \\u0633\\u0648\\u0644\\u0648\\u0646\\u062c \\u062f\\u0648\\u062c \\u0645\\u0621\\u0647\"\n        ],\n        \"semantic_type\": \"\",\n        \"description\": \"\"\n      }\n    },\n    {\n      \"column\": \"stop_words\",\n      \"properties\": {\n        \"dtype\": \"number\",\n        \"std\": 10,\n        \"min\": 0,\n        \"max\": 100,\n        \"num_unique_values\": 72,\n        \"samples\": [\n          26,\n          75,\n          21\n        ],\n        \"semantic_type\": \"\",\n        \"description\": \"\"\n      }\n    }\n  ]\n}",
              "type": "dataframe",
              "variable_name": "my_data"
            },
            "text/html": [
              "\n",
              "  <div id=\"df-dc78e402-ca74-4a12-a3e1-0071289f7e57\" class=\"colab-df-container\">\n",
              "    <div>\n",
              "<style scoped>\n",
              "    .dataframe tbody tr th:only-of-type {\n",
              "        vertical-align: middle;\n",
              "    }\n",
              "\n",
              "    .dataframe tbody tr th {\n",
              "        vertical-align: top;\n",
              "    }\n",
              "\n",
              "    .dataframe thead th {\n",
              "        text-align: right;\n",
              "    }\n",
              "</style>\n",
              "<table border=\"1\" class=\"dataframe\">\n",
              "  <thead>\n",
              "    <tr style=\"text-align: right;\">\n",
              "      <th></th>\n",
              "      <th>category</th>\n",
              "      <th>Body</th>\n",
              "      <th>stop_words</th>\n",
              "    </tr>\n",
              "  </thead>\n",
              "  <tbody>\n",
              "    <tr>\n",
              "      <th>0</th>\n",
              "      <td>Business</td>\n",
              "      <td>تكهن مرعبه ركود كلف ريطانيا ملي ظيف تكهن مرعبه...</td>\n",
              "      <td>20</td>\n",
              "    </tr>\n",
              "    <tr>\n",
              "      <th>1</th>\n",
              "      <td>Business</td>\n",
              "      <td>بنك دولي طفره اسعار سلع نته باطء نمو عالم بنك ...</td>\n",
              "      <td>35</td>\n",
              "    </tr>\n",
              "    <tr>\n",
              "      <th>2</th>\n",
              "      <td>Business</td>\n",
              "      <td>عقار امريك ريلي قيم عام عقار امريك ريلي قيم عا...</td>\n",
              "      <td>18</td>\n",
              "    </tr>\n",
              "    <tr>\n",
              "      <th>3</th>\n",
              "      <td>Business</td>\n",
              "      <td>كرايسلر وقف نتاج سيار مصنع مد كرايسلر وقف نتاج...</td>\n",
              "      <td>32</td>\n",
              "    </tr>\n",
              "    <tr>\n",
              "      <th>4</th>\n",
              "      <td>Business</td>\n",
              "      <td>امريكا تفاق نقاذ قطاع السيارات خلاف داء خزانه ...</td>\n",
              "      <td>26</td>\n",
              "    </tr>\n",
              "  </tbody>\n",
              "</table>\n",
              "</div>\n",
              "    <div class=\"colab-df-buttons\">\n",
              "\n",
              "  <div class=\"colab-df-container\">\n",
              "    <button class=\"colab-df-convert\" onclick=\"convertToInteractive('df-dc78e402-ca74-4a12-a3e1-0071289f7e57')\"\n",
              "            title=\"Convert this dataframe to an interactive table.\"\n",
              "            style=\"display:none;\">\n",
              "\n",
              "  <svg xmlns=\"http://www.w3.org/2000/svg\" height=\"24px\" viewBox=\"0 -960 960 960\">\n",
              "    <path d=\"M120-120v-720h720v720H120Zm60-500h600v-160H180v160Zm220 220h160v-160H400v160Zm0 220h160v-160H400v160ZM180-400h160v-160H180v160Zm440 0h160v-160H620v160ZM180-180h160v-160H180v160Zm440 0h160v-160H620v160Z\"/>\n",
              "  </svg>\n",
              "    </button>\n",
              "\n",
              "  <style>\n",
              "    .colab-df-container {\n",
              "      display:flex;\n",
              "      gap: 12px;\n",
              "    }\n",
              "\n",
              "    .colab-df-convert {\n",
              "      background-color: #E8F0FE;\n",
              "      border: none;\n",
              "      border-radius: 50%;\n",
              "      cursor: pointer;\n",
              "      display: none;\n",
              "      fill: #1967D2;\n",
              "      height: 32px;\n",
              "      padding: 0 0 0 0;\n",
              "      width: 32px;\n",
              "    }\n",
              "\n",
              "    .colab-df-convert:hover {\n",
              "      background-color: #E2EBFA;\n",
              "      box-shadow: 0px 1px 2px rgba(60, 64, 67, 0.3), 0px 1px 3px 1px rgba(60, 64, 67, 0.15);\n",
              "      fill: #174EA6;\n",
              "    }\n",
              "\n",
              "    .colab-df-buttons div {\n",
              "      margin-bottom: 4px;\n",
              "    }\n",
              "\n",
              "    [theme=dark] .colab-df-convert {\n",
              "      background-color: #3B4455;\n",
              "      fill: #D2E3FC;\n",
              "    }\n",
              "\n",
              "    [theme=dark] .colab-df-convert:hover {\n",
              "      background-color: #434B5C;\n",
              "      box-shadow: 0px 1px 3px 1px rgba(0, 0, 0, 0.15);\n",
              "      filter: drop-shadow(0px 1px 2px rgba(0, 0, 0, 0.3));\n",
              "      fill: #FFFFFF;\n",
              "    }\n",
              "  </style>\n",
              "\n",
              "    <script>\n",
              "      const buttonEl =\n",
              "        document.querySelector('#df-dc78e402-ca74-4a12-a3e1-0071289f7e57 button.colab-df-convert');\n",
              "      buttonEl.style.display =\n",
              "        google.colab.kernel.accessAllowed ? 'block' : 'none';\n",
              "\n",
              "      async function convertToInteractive(key) {\n",
              "        const element = document.querySelector('#df-dc78e402-ca74-4a12-a3e1-0071289f7e57');\n",
              "        const dataTable =\n",
              "          await google.colab.kernel.invokeFunction('convertToInteractive',\n",
              "                                                    [key], {});\n",
              "        if (!dataTable) return;\n",
              "\n",
              "        const docLinkHtml = 'Like what you see? Visit the ' +\n",
              "          '<a target=\"_blank\" href=https://colab.research.google.com/notebooks/data_table.ipynb>data table notebook</a>'\n",
              "          + ' to learn more about interactive tables.';\n",
              "        element.innerHTML = '';\n",
              "        dataTable['output_type'] = 'display_data';\n",
              "        await google.colab.output.renderOutput(dataTable, element);\n",
              "        const docLink = document.createElement('div');\n",
              "        docLink.innerHTML = docLinkHtml;\n",
              "        element.appendChild(docLink);\n",
              "      }\n",
              "    </script>\n",
              "  </div>\n",
              "\n",
              "\n",
              "<div id=\"df-1c33ff5c-859b-4bb1-8cc2-e45e87f9dc45\">\n",
              "  <button class=\"colab-df-quickchart\" onclick=\"quickchart('df-1c33ff5c-859b-4bb1-8cc2-e45e87f9dc45')\"\n",
              "            title=\"Suggest charts\"\n",
              "            style=\"display:none;\">\n",
              "\n",
              "<svg xmlns=\"http://www.w3.org/2000/svg\" height=\"24px\"viewBox=\"0 0 24 24\"\n",
              "     width=\"24px\">\n",
              "    <g>\n",
              "        <path d=\"M19 3H5c-1.1 0-2 .9-2 2v14c0 1.1.9 2 2 2h14c1.1 0 2-.9 2-2V5c0-1.1-.9-2-2-2zM9 17H7v-7h2v7zm4 0h-2V7h2v10zm4 0h-2v-4h2v4z\"/>\n",
              "    </g>\n",
              "</svg>\n",
              "  </button>\n",
              "\n",
              "<style>\n",
              "  .colab-df-quickchart {\n",
              "      --bg-color: #E8F0FE;\n",
              "      --fill-color: #1967D2;\n",
              "      --hover-bg-color: #E2EBFA;\n",
              "      --hover-fill-color: #174EA6;\n",
              "      --disabled-fill-color: #AAA;\n",
              "      --disabled-bg-color: #DDD;\n",
              "  }\n",
              "\n",
              "  [theme=dark] .colab-df-quickchart {\n",
              "      --bg-color: #3B4455;\n",
              "      --fill-color: #D2E3FC;\n",
              "      --hover-bg-color: #434B5C;\n",
              "      --hover-fill-color: #FFFFFF;\n",
              "      --disabled-bg-color: #3B4455;\n",
              "      --disabled-fill-color: #666;\n",
              "  }\n",
              "\n",
              "  .colab-df-quickchart {\n",
              "    background-color: var(--bg-color);\n",
              "    border: none;\n",
              "    border-radius: 50%;\n",
              "    cursor: pointer;\n",
              "    display: none;\n",
              "    fill: var(--fill-color);\n",
              "    height: 32px;\n",
              "    padding: 0;\n",
              "    width: 32px;\n",
              "  }\n",
              "\n",
              "  .colab-df-quickchart:hover {\n",
              "    background-color: var(--hover-bg-color);\n",
              "    box-shadow: 0 1px 2px rgba(60, 64, 67, 0.3), 0 1px 3px 1px rgba(60, 64, 67, 0.15);\n",
              "    fill: var(--button-hover-fill-color);\n",
              "  }\n",
              "\n",
              "  .colab-df-quickchart-complete:disabled,\n",
              "  .colab-df-quickchart-complete:disabled:hover {\n",
              "    background-color: var(--disabled-bg-color);\n",
              "    fill: var(--disabled-fill-color);\n",
              "    box-shadow: none;\n",
              "  }\n",
              "\n",
              "  .colab-df-spinner {\n",
              "    border: 2px solid var(--fill-color);\n",
              "    border-color: transparent;\n",
              "    border-bottom-color: var(--fill-color);\n",
              "    animation:\n",
              "      spin 1s steps(1) infinite;\n",
              "  }\n",
              "\n",
              "  @keyframes spin {\n",
              "    0% {\n",
              "      border-color: transparent;\n",
              "      border-bottom-color: var(--fill-color);\n",
              "      border-left-color: var(--fill-color);\n",
              "    }\n",
              "    20% {\n",
              "      border-color: transparent;\n",
              "      border-left-color: var(--fill-color);\n",
              "      border-top-color: var(--fill-color);\n",
              "    }\n",
              "    30% {\n",
              "      border-color: transparent;\n",
              "      border-left-color: var(--fill-color);\n",
              "      border-top-color: var(--fill-color);\n",
              "      border-right-color: var(--fill-color);\n",
              "    }\n",
              "    40% {\n",
              "      border-color: transparent;\n",
              "      border-right-color: var(--fill-color);\n",
              "      border-top-color: var(--fill-color);\n",
              "    }\n",
              "    60% {\n",
              "      border-color: transparent;\n",
              "      border-right-color: var(--fill-color);\n",
              "    }\n",
              "    80% {\n",
              "      border-color: transparent;\n",
              "      border-right-color: var(--fill-color);\n",
              "      border-bottom-color: var(--fill-color);\n",
              "    }\n",
              "    90% {\n",
              "      border-color: transparent;\n",
              "      border-bottom-color: var(--fill-color);\n",
              "    }\n",
              "  }\n",
              "</style>\n",
              "\n",
              "  <script>\n",
              "    async function quickchart(key) {\n",
              "      const quickchartButtonEl =\n",
              "        document.querySelector('#' + key + ' button');\n",
              "      quickchartButtonEl.disabled = true;  // To prevent multiple clicks.\n",
              "      quickchartButtonEl.classList.add('colab-df-spinner');\n",
              "      try {\n",
              "        const charts = await google.colab.kernel.invokeFunction(\n",
              "            'suggestCharts', [key], {});\n",
              "      } catch (error) {\n",
              "        console.error('Error during call to suggestCharts:', error);\n",
              "      }\n",
              "      quickchartButtonEl.classList.remove('colab-df-spinner');\n",
              "      quickchartButtonEl.classList.add('colab-df-quickchart-complete');\n",
              "    }\n",
              "    (() => {\n",
              "      let quickchartButtonEl =\n",
              "        document.querySelector('#df-1c33ff5c-859b-4bb1-8cc2-e45e87f9dc45 button');\n",
              "      quickchartButtonEl.style.display =\n",
              "        google.colab.kernel.accessAllowed ? 'block' : 'none';\n",
              "    })();\n",
              "  </script>\n",
              "</div>\n",
              "\n",
              "    </div>\n",
              "  </div>\n"
            ],
            "text/plain": [
              "   category                                               Body  stop_words\n",
              "0  Business  تكهن مرعبه ركود كلف ريطانيا ملي ظيف تكهن مرعبه...          20\n",
              "1  Business  بنك دولي طفره اسعار سلع نته باطء نمو عالم بنك ...          35\n",
              "2  Business  عقار امريك ريلي قيم عام عقار امريك ريلي قيم عا...          18\n",
              "3  Business  كرايسلر وقف نتاج سيار مصنع مد كرايسلر وقف نتاج...          32\n",
              "4  Business  امريكا تفاق نقاذ قطاع السيارات خلاف داء خزانه ...          26"
            ]
          },
          "execution_count": 59,
          "metadata": {},
          "output_type": "execute_result"
        }
      ],
      "source": [
        "my_data.head()"
      ]
    },
    {
      "cell_type": "code",
      "execution_count": 60,
      "metadata": {
        "colab": {
          "base_uri": "https://localhost:8080/"
        },
        "execution": {
          "iopub.execute_input": "2024-05-07T21:56:41.367423Z",
          "iopub.status.busy": "2024-05-07T21:56:41.366646Z",
          "iopub.status.idle": "2024-05-07T21:56:41.468291Z",
          "shell.execute_reply": "2024-05-07T21:56:41.467289Z",
          "shell.execute_reply.started": "2024-05-07T21:56:41.367398Z"
        },
        "id": "gojStG33enXW",
        "outputId": "b5141549-1230-4fe3-d284-52e64edc2e21",
        "trusted": true
      },
      "outputs": [
        {
          "data": {
            "text/plain": [
              "2"
            ]
          },
          "execution_count": 60,
          "metadata": {},
          "output_type": "execute_result"
        }
      ],
      "source": [
        "my_data.duplicated().sum()"
      ]
    },
    {
      "cell_type": "code",
      "execution_count": 61,
      "metadata": {
        "execution": {
          "iopub.execute_input": "2024-05-07T21:56:41.469705Z",
          "iopub.status.busy": "2024-05-07T21:56:41.469421Z",
          "iopub.status.idle": "2024-05-07T21:56:41.493214Z",
          "shell.execute_reply": "2024-05-07T21:56:41.492106Z",
          "shell.execute_reply.started": "2024-05-07T21:56:41.469682Z"
        },
        "id": "s00Gv1GienXW",
        "trusted": true
      },
      "outputs": [],
      "source": [
        "index = my_data[my_data['Body'].duplicated() == True].index\n",
        "my_data.drop(index, axis = 0, inplace = True)\n",
        "\n",
        "#resetting the index of the data\n",
        "my_data.reset_index(drop=True, inplace = True)"
      ]
    },
    {
      "cell_type": "code",
      "execution_count": 62,
      "metadata": {
        "colab": {
          "base_uri": "https://localhost:8080/"
        },
        "execution": {
          "iopub.execute_input": "2024-05-07T21:56:41.494846Z",
          "iopub.status.busy": "2024-05-07T21:56:41.494472Z",
          "iopub.status.idle": "2024-05-07T21:56:41.553355Z",
          "shell.execute_reply": "2024-05-07T21:56:41.552464Z",
          "shell.execute_reply.started": "2024-05-07T21:56:41.494758Z"
        },
        "id": "ZEhLAJTYenXW",
        "outputId": "68948abd-67c3-436c-90e6-9c9a8e356054",
        "trusted": true
      },
      "outputs": [
        {
          "data": {
            "text/plain": [
              "0"
            ]
          },
          "execution_count": 62,
          "metadata": {},
          "output_type": "execute_result"
        }
      ],
      "source": [
        "my_data.duplicated().sum()"
      ]
    },
    {
      "cell_type": "code",
      "execution_count": 63,
      "metadata": {
        "execution": {
          "iopub.execute_input": "2024-05-07T21:56:41.554961Z",
          "iopub.status.busy": "2024-05-07T21:56:41.55457Z",
          "iopub.status.idle": "2024-05-07T21:56:42.149652Z",
          "shell.execute_reply": "2024-05-07T21:56:42.148748Z",
          "shell.execute_reply.started": "2024-05-07T21:56:41.554925Z"
        },
        "id": "AexDUrKSenXW",
        "trusted": true
      },
      "outputs": [],
      "source": [
        "my_data.to_csv('newsfeed.csv', index=False)"
      ]
    },
    {
      "cell_type": "code",
      "execution_count": 65,
      "metadata": {
        "colab": {
          "base_uri": "https://localhost:8080/",
          "height": 363
        },
        "execution": {
          "iopub.execute_input": "2024-05-07T21:56:42.151132Z",
          "iopub.status.busy": "2024-05-07T21:56:42.150828Z",
          "iopub.status.idle": "2024-05-07T21:56:42.437743Z",
          "shell.execute_reply": "2024-05-07T21:56:42.436816Z",
          "shell.execute_reply.started": "2024-05-07T21:56:42.151107Z"
        },
        "id": "mXoPXwfzenXW",
        "outputId": "f52c7233-73c4-4244-efcf-df9f2229d1b7",
        "trusted": true
      },
      "outputs": [
        {
          "data": {
            "application/vnd.google.colaboratory.intrinsic+json": {
              "summary": "{\n  \"name\": \"my_df\",\n  \"rows\": 10,\n  \"fields\": [\n    {\n      \"column\": \"category\",\n      \"properties\": {\n        \"dtype\": \"string\",\n        \"num_unique_values\": 5,\n        \"samples\": [\n          \"Entertainment\",\n          \"World\",\n          \"Middle East News\"\n        ],\n        \"semantic_type\": \"\",\n        \"description\": \"\"\n      }\n    },\n    {\n      \"column\": \"Body\",\n      \"properties\": {\n        \"dtype\": \"string\",\n        \"num_unique_values\": 10,\n        \"samples\": [\n          \"\\u0627\\u0639\\u0644\\u0646 \\u0634\\u0631\\u0643 \\u0639\\u0631\\u0628\\u064a\\u0647 \\u0637\\u064a\\u0631 \\u0627\\u0644\\u0627\\u0645\\u0627\\u0631\\u0627\\u062a\\u064a\\u0647 \\u0627\\u0631\\u0628\\u0639\\u0627\\u0621 \\u0646\\u0647 \\u0621\\u0633\\u0633 \\u0634\\u0631\\u0643 \\u062c\\u062f\\u064a\\u062f \\u0644\\u0644 \\u0637\\u064a\\u0631 \\u0627\\u0642\\u062a\\u0635\\u0627\\u062f \\u0634\\u0631 \\u0645\\u0635\\u0631\\u064a \\u0627\\u0633\\u062a\\u0647\\u062f\\u0627\\u0641 \\u0642\\u0637\\u0627\\u0639 \\u0633\\u0641\\u0631 \\u0645\\u0635\\u0631 \\u0628\\u062d\\u062b \\u0633\\u0648\\u0627\\u0642 \\u062c\\u062f\\u064a\\u062f \\u0627\\u0648\\u0633\\u0637 \\u0642\\u0627\\u0644 \\u0631\\u0621\\u064a\\u0633 \\u062a\\u0646\\u0641\\u064a\\u0630 \\u0634\\u0631\\u0643\\u0647 \\u0645\\u062d\\u0645\\u062f \\u0645\\u062d\\u0645\\u062f \\u064a\\u0627\\u0646 \\u0627\\u0646 \\u0634\\u0631\\u0643\\u0647 \\u0637\\u0644\\u0642 \\u0633\\u0645 \\u062e\\u0637\\u0648\\u0637 \\u062c\\u0648 \\u0639\\u0631\\u0628 \\u0633\\u0639\\u0648\\u062f \\u0639\\u0645\\u0644 \\u0642\\u062f\\u064a\\u0645 \\u062e\\u062f\\u0645 \\u0637\\u064a\\u0631 \\u0642\\u062a\\u0635\\u0627\\u062f \\u0645\\u0646\\u062e\\u0641\\u0636 \\u062a\\u0643\\u0644\\u0641\\u0647 \\u062a\\u0631\\u0643\\u064a\\u0632 \\u0645\\u0635\\u0631 \\u0639\\u0645\\u0644 \\u0642\\u062f\\u064a\\u0645 \\u062e\\u062f\\u0645 \\u0637\\u064a\\u0631\",\n          \"\\u0632\\u0648\\u062c \\u062c\\u0627\\u0643\\u0633 \\u062a\\u0646\\u0627\\u0632\\u0644 \\u062d\\u0642 \\u062d\\u0636\\u0627 \\u0648\\u0644\\u0627\\u062f \\u0627\\u062a\\u0641\\u0627\\u0642 \\u0633\\u0631\\u064a \\u0632\\u0648\\u062c \\u062c\\u0627\\u0643\\u0633 \\u062a\\u0646\\u0627\\u0632\\u0644 \\u062d\\u0642 \\u062d\\u0636\\u0627 \\u0648\\u0644\\u0627\\u062f \\u0627\\u062a\\u0641\\u0627\\u0642 \\u0633\\u0631\\u064a \\u0627\\u062b\\u0631 \\u0631\\u0648 \\u062a\\u0646\\u0627\\u0632\\u0644 \\u062d\\u0636\\u0627 \\u0631\\u0646\\u0633 \\u0645\\u0627\\u064a\\u0643\\u0644 \\u0627\\u0631\\u064a\\u0633 \\u0641\\u0642 \\u062a\\u0641\\u0627\\u0642 \\u0641\\u0635\\u062d \\u0646\\u0648\\u062f \\u0648\\u0633 \\u0627\\u0646\\u062c\\u0644\\u0648\\u0633 \\u0645\\u062a\\u062d\\u062f\\u0647 \\u0627\\u0645\\u0631\\u064a\\u0643\\u064a\\u0647 \\u0627\\u0641\\u0642 \\u062f\\u064a\\u0628 \\u0631\\u0648 \\u0632\\u0648\\u062c\\u0647 \\u0633\\u0627\\u0628\\u0642\\u0647 \\u0645\\u063a\\u0646 \\u0627\\u0645\\u0631\\u064a\\u0643 \\u0631\\u0627\\u062d\\u0644 \\u0645\\u0627\\u064a\\u0643\\u0644 \\u062c\\u0627\\u0643\\u0633\\u0648\\u0646 \\u062f\\u0647 \\u0648\\u0644\\u0627\\u062f \\u062b\\u0644\\u0627\\u062b\\u0647 \\u062d\\u0636\\u0627 \\u0627\\u0628\\u0646\\u0627\\u0621 \\u0645\\u0644 \\u0627\\u0644\\u0628\\u0648\\u0628 \\u0639\\u0647\\u062f \\u062f\\u062a\\u0647 \\u0627\\u062b\\u0631\\u064a\\u0646 \\u0641\\u0642 \\u0630\\u0643\\u0631 \\u0645\\u062d\\u0627\\u0645 \\u0639\\u0627\\u0621\\u0644 \\u0642\\u064a\\u062f \\u0645\\u0648\\u0633\\u064a\\u0642 \\u0627\\u0633\\u0645\\u0631 \\u0642\\u0627\\u0644 \\u0648\\u0646\\u062f\\u0644 \\u0645\\u0643\\u0645\\u064a\\u0644\\u0627\\u0646 \\u0645\\u0645\\u062b\\u0644 \\u0648\\u0627\\u0644\\u062f\\u0647 \\u0627\\u062b\\u0631 \\u062c\\u0627\\u0643\\u0633\\u0648\\u0646 \\u062c\\u0644\\u0633 \\u0627\\u0633\\u062a\\u0645\\u0627\\u0639 \\u062e\\u0627\\u0635\\u0647 \\u0642\\u0636 \\u062d\\u0636\\u0627 \\u0627\\u0648\\u0644\\u0627\\u062f \\u0646\\u0647 \\u062a\\u0645 \\u062a\\u0648\\u0635\\u0644 \\u062a\\u0641\\u0627\\u0642 \\u0647\\u0627\\u0621\\u064a \\u0631\\u0648 \\u062c\\u062f \\u0627\\u0628\\u0646\\u0627\\u0621 \\u062b\\u0643\\u0644\\u064a \\u0645\\u0628 \\u0646\\u0647 \\u062e\\u0630 \\u0627\\u0639\\u062a\\u0628\\u0627\\u0631 \\u0627\\u0644\\u0645\\u0635\\u0644\\u062d \\u0627\\u0648\\u0644\\u0627\\u062f \\u0643\\u062f \\u0627\\u0646 \\u0627\\u062a\\u0641\\u0627\\u0642 \\u0643\\u0646 \\u0635\\u0641\\u0642 \\u0645\\u0627\\u0644 \\u0637\\u0631\\u0641\\u064a\\u0646 \\u0642\\u0627\\u0644 \\u0643\\u0646 \\u0627\\u062a\\u0641\\u0627\\u0642 \\u062a\\u0639\\u0644\\u0642 \\u0645\\u0627\\u0644 \\u0627\\u0637\\u0644\\u0627\\u0642 \\u0648\\u0636\\u062d \\u0645\\u0643\\u064a\\u0644\\u0627\\u0646 \\u0645\\u0642\\u0627\\u0628\\u0644 \\u0642\\u0646\\u0627 \\u0627\\u0644\\u062a\\u0644\\u0641\\u0632\\u064a\\u0648\\u0646\\u064a\\u0647 \\u0627\\u0644\\u0627\\u0645\\u0631\\u064a\\u0643\\u064a\\u0647 \\u0627\\u0646 \\u0637\\u0631\\u0641 \\u0648\\u0635\\u0644 \\u0627\\u0646 \\u0648\\u0636\\u0639 \\u0627\\u0645\\u062b\\u0644 \\u0647\\u0621\\u0644\\u0627\\u0621 \\u0627\\u0648\\u0644\\u0627\\u062f \\u0631\\u0643 \\u0639\\u0647\\u062f \\u0639\\u0646\\u0627 \\u0633\\u064a\\u062f\\u0647 \\u0627\\u062b\\u0631 \\u062c\\u0627\\u0643\\u0633\\u0648\\u0646 \\u0645\\u0628 \\u0627\\u0646 \\u0646\\u0648\\u062f \\u0627\\u062a\\u0641\\u0627\\u0642 \\u0642\\u0631\\u064a\\u0628\\u0627 \\u0645\\u062a\\u0648\\u0642\\u0639 \\u0627\\u0646 \\u0637\\u0631\\u0641 \\u0645\\u0627\\u0645 \\u0642\\u0627\\u0636 \\u0645\\u062d\\u0643\\u0645 \\u0642\\u0636\\u0627\\u0621 \\u0648\\u0633 \\u0627\\u0646\\u062c\\u0644\\u0648\\u0633 \\u0639\\u0644\\u064a\\u0627 \\u0627\\u062b\\u0646\\u064a\\u0646 \\u0631\\u0648\\u0627\\u0628\\u0637 \\u0639\\u0644\\u0627\\u0642 \\u0635\\u0631\\u0627\\u0639 \\u0648\\u0644\\u0627\\u062f \\u062c\\u0627\\u0643\\u0633\\u0648\\u0646 \\u062a\\u0627\\u062c\\u064a\\u0644 \\u062c\\u0644\\u0633 \\u0648\\u0635\\u0627\\u064a\\u0647 \\u0645\\u0631\\u0647 \\u062b\\u0627\\u0646\\u064a\\u0647 \\u0627\\u0631\\u064a\\u0633 \\u062c\\u0627\\u0643\\u0633 \\u0639\\u0627\\u0644\\u0645 \\u062d\\u0641\\u0644 \\u062a\\u0627\\u0628 \\u062f\\u0647 \\u0630\\u0643\\u0631 \\u0627\\u0646 \\u0645\\u062d\\u0643\\u0645 \\u0648\\u0633 \\u0627\\u0646\\u062c\\u0644\\u0648\\u0633 \\u0627\\u0646\\u062a \\u0642\\u0631\\u0631 \\u062a\\u0627\\u062c\\u064a\\u0644 \\u062c\\u0644\\u0633 \\u0627\\u0633\\u062a\\u0645\\u0627\\u0639 \\u0645\\u062a\\u0639\\u0644\\u0642\\u0647 \\u062d\\u0636\\u0627\\u0646 \\u0648\\u0644\\u0627\\u062f \\u062c\\u0627\\u0643\\u0633 \\u0639\\u062f \\u0645\\u0631 \\u062c\\u0627\\u0631\\u064a \\u0641\\u0627\\u0648\\u0636 \\u0645\\u062d\\u0627\\u0645 \\u0631\\u0648 \\u0627\\u062b\\u0631 \\u0645\\u0633\\u0627\\u0644\\u0647 \\u0631\\u063a\\u0645 \\u0639\\u062f\\u0645 \\u0639\\u0644\\u0627 \\u0631\\u0648 \\u0635\\u0631\\u0627\\u062d \\u0646\\u0647 \\u0633\\u0639\\u064a \\u062d\\u0635\\u0648\\u0644 \\u062d\\u0636\\u0627 \\u0627\\u0648\\u0644\\u0627\\u062f \\u0627\\u0646 \\u0635\\u062f\\u064a\\u0642 \\u0645\\u0642\\u0631\\u0628\\u0647 \\u064a\\u0631\\u064a\\u0633 \\u0641\\u064a\\u0646\\u0633\\u064a\\u0644\\u0641\\u0631 \\u0627\\u0646\\u062a \\u0642\\u0627\\u0644 \\u0646\\u0647 \\u0633\\u0639\\u064a \\u062d\\u0635\\u0648\\u0644 \\u062d\\u0642 \\u062d\\u0636\\u0627 \\u0637\\u0641\\u0644 \\u062c\\u0627\\u0643\\u0633\\u0648\\u0646 \\u0631\\u0646\\u0633 \\u0645\\u0627\\u064a\\u0643\\u0644 \\u0627\\u0631\\u064a\\u0633 \\u0627\\u0646 \\u062a\\u062e\\u0644 \\u062e\\u0637\\u064a \\u062b\\u0631 \\u0637\\u0644\\u0627\\u0642 \\u0633\\u0646 \\u062a\\u0642\\u062f\\u0645 \\u062a\\u0645\\u0627\\u0633 \\u0645\\u062d\\u0643\\u0645\\u0647 \\u0627\\u0633\\u062a\\u0639\\u0627\\u062f \\u062d\\u0636\\u0627\\u0646 \\u0639\\u0627\\u0645 \\u0641\\u0642 \\u0645\\u062c\\u0644 \\u0628\\u064a\\u0628\\u0648\\u0644 \\u0627\\u0644\\u0627\\u0645\\u0631\\u064a\\u0643\\u064a\\u0647 \\u0645\\u0635\\u062f\\u0631 \\u0645\\u0642\\u0631\\u0628 \\u0639\\u0627\\u0621\\u0644 \\u0645\\u0644 \\u0628\\u0648\\u0628 \\u0631\\u0627\\u062d\\u0644 \\u0627\\u0646 \\u0645\\u0633\\u0627\\u0644\\u0647 \\u0627\\u0646\\u062a \\u0633\\u0628\\u0628 \\u0643\\u062b\\u064a\\u0631 \\u0645\\u0634\\u0627\\u0643\\u0644 \\u062f\\u0647 \\u062c\\u0627\\u0643\\u0633 \\u0632\\u0648\\u062c \\u0633\\u0627\\u0628\\u0642\\u0647 \\u062e\\u0627\\u0635 \\u0627\\u0646 \\u0645\\u0646\\u062d \\u0645\\u063a\\u0646 \\u0634\\u0647\\u064a\\u0631 \\u0631\\u0627\\u062d\\u0644 \\u062d\\u0642 \\u062d\\u0636\\u0627 \\u0627\\u0648\\u0644\\u0627\\u062f \\u0635\\u064a \\u0648\\u0627\\u0644\\u062f\\u062a\\u0647 \\u062d\\u0627\\u0631\\u0645 \\u0631\\u0648 \\u0631\\u0639\\u0627\\u064a\\u062a\\u0647\\u0645 \\u062d\\u0635\\u0648\\u0644 \\u0627\\u064a \\u0631\\u062b \\u0627\\u0646\\u062a \\u0645\\u062d\\u0643\\u0645\\u0647 \\u0645\\u0646\\u062d \\u0645\\u0621\\u0642\\u062a \\u0643\\u0627\\u062b\\u0631 \\u0631\\u0639\\u0627 \\u0648\\u0644\\u0627\\u062f \\u0645\\u0627\\u064a\\u0643\\u0644 \\u064a\\u0648\\u0646\\u064a\\u0648 \\u0645\\u0627\\u0636\\u064a \\u0627\\u0630 \\u0646\\u0638\\u0631 \\u062c\\u0644\\u0633\\u0647 \\u0645\\u0631\\u062a\\u0642\\u0628\\u0647 \\u0634\\u0627\\u0646 \\u0646\\u0641\\u064a\\u0630 \\u0646\\u0648\\u062f \\u0635\\u064a \\u0645\\u0643\\u062a\\u0648\\u0628\\u0647 \\u0633\\u0646 \\u0646\\u0635 \\u0645\\u0646\\u062d \\u062d\\u0642 \\u0648\\u0635\\u0627\\u064a\\u0647 \\u062d\\u0627\\u0644 \\u0645\\u0646\\u062d \\u062d\\u0642 \\u0635\\u062f\\u064a\\u0642 \\u0639\\u0645\\u0631 \\u0645\\u0637\\u0631\\u0628\\u0647 \\u0633\\u0645\\u0631\\u0627\\u0621 \\u062f\\u064a \\u0631\\u0648\\u0633 \\u0627\\u064a \\u0630\\u0643\\u0631 \\u0631\\u0648 \\u062a\\u0627 \\u0635\\u0631\\u0627\\u0639 \\u0627\\u0648\\u0644\\u0627\\u062f \\u0627\\u0646 \\u062a\\u0642\\u062f\\u0645 \\u0631\\u0648 \\u062b\\u0631 \\u062c\\u0627\\u0643\\u0633 \\u0637\\u0644\\u0628 \\u0645\\u062d\\u0643\\u0645\\u0647 \\u062a\\u0648\\u0644 \\u0631\\u0639\\u0627 \\u0635\\u0648\\u0631 \\u0645\\u0621\\u0642\\u062a\\u0647 \\u0627\\u0645\\u0631 \\u0642\\u0648\\u0628\\u0644 \\u0631\\u0641\\u0636 \\u0645\\u0628\\u0642 \\u0627\\u0648\\u0644\\u0627\\u062f \\u062c\\u062f\\u0647 \\u0627\\u062b\\u0631\\u064a\\u0646 \\u0644\\u0627\\u0641\\u062a \\u0645\\u0633\\u0627\\u0644\\u0647 \\u0627\\u0646 \\u0631\\u0648 \\u062f\\u0644 \\u062d\\u062a \\u0627\\u0646 \\u0627\\u064a \\u0635\\u0631\\u064a\\u062d \\u0631\\u0633\\u0645 \\u0641\\u064a\\u062f \\u0627\\u0646 \\u0646\\u0648 \\u062a\\u0642\\u062f\\u0645 \\u0637\\u0644\\u0628 \\u062d\\u0636\\u0627 \\u062f\\u064a\\u0647\\u0627 \\u0645\\u0646\\u062a\\u0638\\u0631 \\u0628\\u062f\\u0648 \\u062c\\u0644\\u0633 \\u0627\\u0633\\u062a\\u0645\\u0627\\u0639 \\u0642\\u064a\\u0627\\u0645 \\u0627\\u0645\\u0631 \\u0630\\u0643\\u0631 \\u0627\\u0646 \\u0646\\u062c\\u0645 \\u0627\\u0633\\u0645\\u0631 \\u062b\\u0644\\u0627\\u062b \\u0627\\u0648\\u0644\\u0627\\u062f \\u0631\\u0648 \\u0631\\u0646\\u0633 \\u0645\\u0627\\u064a\\u0643\\u0644 \\u0628\\u0644\\u063a \\u0639\\u0645\\u0631 \\u0639\\u0627\\u0645 \\u0627\\u0631\\u064a\\u0633 \\u0639\\u0627\\u0645\\u0627 \\u0627\\u0636\\u0627\\u0641\\u0647 \\u0631\\u0646\\u0633 \\u0645\\u0627\\u064a\\u0643\\u0644 \\u0633\\u0646\\u0648\\u0627\\u062a \\u0646\\u062c\\u0628 \\u0627\\u0645 \\u062f\\u064a\\u0644\\u0647 \\u0627\\u064a \\u062f\\u0647 \\u062a\\u0641\\u0642 \\u0646\\u062c\\u0627\\u0628 \\u0627\\u0646 \\u0643\\u0648 \\u062d\\u0642 \\u0627\\u062d\\u062a\\u0641\\u0627\\u0638\",\n          \"\\u0639\\u0627\\u0644\\u0645 \\u0627\\u0648\\u0628\\u0627\\u0645 \\u062a\\u0639\\u0647\\u062f \\u0627\\u0646\\u062c\\u0627\\u0632 \\u0645\\u0647\\u0645\\u0647 \\u0627\\u0641\\u063a\\u0627\\u0646\\u0633 \\u0627\\u0644\\u0631\\u0621\\u064a\\u0633 \\u0627\\u0645\\u0631\\u064a\\u0643 \\u0627\\u0631\\u0627 \\u0627\\u0648\\u0628\\u0627\\u0645 \\u0621\\u0643\\u062f \\u0639\\u0632\\u0645 \\u0627\\u0646\\u062c\\u0627\\u0632 \\u0645\\u0647\\u0645\\u0647 \\u0627\\u0641\\u063a\\u0627\\u0646\\u0633\\u062a\\u0627\\u0646 \\u0645\\u0621\\u0643\\u062f \\u0646\\u0647 \\u0642\\u0631\\u064a\\u0628 \\u0642\\u0631\\u0627\\u0631 \\u0634\\u0627\\u0646 \\u0631\\u0633\\u0627\\u0644 \\u0645\\u0632\\u064a\\u062f \\u0642\\u0648 \\u063a\\u0644 \\u0631\\u0621\\u064a\\u0633\\u064a\\u0647 \\u0627\\u0648\\u0633\\u0637 \\u0639\\u0627\\u0644\\u0645 \\u0634\\u0627\\u0631 \\u0631\\u0627 \\u0642\\u062a\\u0635\\u0627\\u062f \\u0639\\u0645\\u0627\\u0644 \\u0645\\u0646\\u0648\\u0639 \\u0639\\u0644\\u0648\\u0645 \\u0648\\u062a\\u0643\\u0646\\u0648\\u0644\\u0648\\u062c\\u064a\\u0627 \\u0631\\u064a\\u0627\\u0636 \\u0631\\u0627\\u062f\\u064a \\u062a\\u0644\\u0641\\u0632\\u064a \\u062e\\u0631 \\u062a\\u062d\\u062f\\u064a\\u062b \\u062b\\u0644\\u0627\\u062b\\u0627\\u0621 \\u0646\\u0648\\u0641\\u0645\\u0628\\u0631 \\u062b\\u0627\\u0646\\u064a \\u0627\\u0648\\u0628\\u0627\\u0645 \\u062a\\u0639\\u0647\\u062f \\u0627\\u0646\\u062c\\u0627\\u0632 \\u0645\\u0647\\u0645\\u0647 \\u0627\\u0641\\u063a\\u0627\\u0646\\u0633 \\u0642\\u0627\\u0644 \\u0631\\u0621\\u064a\\u0633 \\u0627\\u0645\\u0631\\u064a\\u0643 \\u0627\\u0631\\u0627 \\u0627\\u0648\\u0628\\u0627\\u0645 \\u0646\\u0647 \\u0639\\u062a\\u0632\\u0645 \\u0627\\u0646\\u062c\\u0627\\u0632 \\u0645\\u0647\\u0645\\u0647 \\u0627\\u0641\\u063a\\u0627\\u0646\\u0633\\u062a\\u0627\\u0646 \\u062b\\u0645\\u0627\\u0646 \\u0648\\u0627\\u062a \\u0635\\u0631\\u0627\\u0639 \\u0643\\u062f \\u0646\\u0647 \\u0642\\u0631\\u064a\\u0628 \\u0642\\u0631\\u0627\\u0631 \\u0634\\u0627\\u0646 \\u0631\\u0633\\u0627\\u0644 \\u0645\\u0632\\u064a\\u062f \\u0642\\u0648 \\u0636\\u0627\\u0641 \\u0627\\u0648\\u0628\\u0627\\u0645 \\u0645\\u0621\\u062a\\u0645\\u0631 \\u0635\\u062d\\u0641 \\u0645\\u0634\\u062a\\u0631 \\u0631\\u0621\\u064a\\u0633 \\u0648\\u0632\\u0631\\u0627\\u0621 \\u0647\\u0646\\u062f \\u0645\\u0646\\u0645\\u0648\\u0647 \\u0646\\u062c \\u0627\\u0646 \\u0627\\u0641\\u063a \\u0633\\u064a\\u062a\\u062d\\u0645\\u0644\\u0648\\u0646 \\u0647\\u0627\\u064a \\u0627\\u0645\\u0631 \\u0645\\u0633\\u0621\\u0648\\u0644 \\u0627\\u0645\\u0646\\u0647\\u0645 \\u0634\\u0627\\u0631 \\u0627\\u0646 \\u0645\\u0631\\u0627\\u062c\\u0639\\u0647 \\u0645\\u0633\\u062a\\u0645\\u0631\\u0647 \\u0633\\u064a\\u0627\\u0633\\u0647 \\u0627\\u0645\\u0631\\u064a\\u0643\\u064a\\u0647 \\u0627\\u0641\\u063a\\u0627\\u0646\\u0633 \\u0627\\u0646\\u062a \\u0645\\u0641\\u064a\\u062f \\u0644\\u0644\\u063a\\u0627\\u064a\\u0647 \\u0645\\u0634\\u062f\\u062f \\u0627\\u0646 \\u0645\\u0635\\u0644\\u062d \\u0645\\u062a\\u062d\\u062f\\u0647 \\u0627\\u0644\\u0627\\u0633\\u062a\\u0631\\u0627\\u062a\\u064a\\u062c\\u064a\\u0647 \\u062a\\u0627\\u0643\\u062f \\u0627\\u0646 \\u0642\\u0627\\u0639\\u062f\\u0647 \\u062a\\u0633\\u062a\\u0637\\u064a\\u0639 \\u0642\\u064a\\u0627\\u0645 \\u0639\\u0645\\u0644 \\u0645\\u0646\\u0637\\u0642\\u0647 \\u0642\\u0627\\u0644 \\u0631\\u0621\\u064a\\u0633 \\u0627\\u0644\\u0627\\u0645\\u0631\\u064a\\u0643\\u064a \\u0642\\u0648\\u0645 \\u062a\\u0641\\u0643 \\u0636\\u0631\\u0628 \\u0642\\u062f\\u0631 \\u0621\\u062f\\u064a \\u0646\\u0647\\u0627\\u064a\\u0647 \\u062f\\u0645\\u064a\\u0631 \\u0634\\u0628\\u0643\\u0627\\u062a\\u0647\\u0645 \\u0639\\u0631\\u0628 \\u0639\\u062a\\u0642\\u0627\\u062f \\u0627\\u0646 \\u0644\\u0627\\u062f \\u0643\\u0646 \\u0631\\u0647 \\u0645\\u0648\\u0627\\u0631\\u062f \\u0627\\u0644\\u0627\\u0633\\u062a\\u0631\\u0627\\u062a\\u064a\\u062c\\u064a\\u0647 \\u0644\\u0627\\u0632\\u0645\\u0647 \\u0627\\u0643\\u0645\\u0627\\u0644 \\u0645\\u0647\\u0645 \\u0627\\u0641\\u063a\\u0627\\u0646\\u0633\\u062a\\u0627\\u0646 \\u0630\\u0643\\u0631 \\u0633\\u0627\\u0621\\u0644 \\u0639\\u0644\\u0627\\u0645 \\u0627\\u0645\\u0631\\u064a\\u0643 \\u0642\\u062a \\u0633\\u0627\\u0628\\u0642 \\u0627\\u0646 \\u0627\\u0648\\u0628\\u0627\\u0645 \\u0646\\u0648\\u064a \\u0631\\u0633\\u0627\\u0644 \\u0644\\u0641 \\u062c\\u0646\\u062f \\u0636\\u0627\\u0641 \\u0627\\u0641\\u063a\\u0627\\u0646\\u0633\\u062a\\u0627\\u0646 \\u0642\\u0627\\u0644 \\u0645\\u0633\\u0621\\u0648\\u0644 \\u0627\\u0645\\u0631\\u064a\\u0643\\u064a \\u0627\\u0646 \\u0627\\u0648\\u0628\\u0627\\u0645 \\u0642\\u0631\\u0627\\u0631 \\u0631\\u0633\\u0644 \\u0645\\u0632\\u064a\\u062f \\u0642\\u0648 \\u0627\\u0641\\u063a\\u0627\\u0646\\u0633 \\u063a\\u0636 \\u0627\\u064a\\u0627\\u0645 \\u062c\\u062a\\u0645\\u0627\\u0639 \\u062d\\u0627\\u0633\\u0645 \\u0627\\u0648\\u0628\\u0627\\u0645 \\u0639\\u0642\\u062f \\u062c\\u062a\\u0645\\u0627\\u0639 \\u0627\\u062b\\u0646 \\u0628\\u0627\\u0631 \\u0645\\u0633\\u0621\\u0648\\u0644 \\u0627\\u062f\\u0627\\u0631 \\u0642\\u0627\\u062f\\u0647 \\u0639\\u0633\\u0643\\u0631 \\u0627\\u062c\\u062a\\u0645\\u0627\\u0639 \\u0643\\u0648 \\u0627\\u062e\\u064a\\u0631 \\u062a\\u062e\\u0627\\u0630 \\u0642\\u0631\\u0627\\u0631 \\u0645\\u062a\\u0639\\u0644\\u0642 \\u0627\\u0631\\u0633\\u0627\\u0644 \\u062a\\u0639\\u0632\\u064a\\u0632 \\u0627\\u0641\\u063a\\u0627\\u0646\\u0633\\u062a\\u0627\\u0646 \\u0627\\u062c\\u062a\\u0645\\u0627\\u0639 \\u0639\\u0642\\u062f \\u0642\\u0627\\u0639 \\u062f\\u0627\\u0631 \\u0627\\u0632\\u0645 \\u0628\\u064a\\u062a \\u0627\\u0628\\u064a\\u0636 \\u062a\\u0627\\u0633\\u0639 \\u0648\\u0639 \\u0631\\u064a\\u0642 \\u0627\\u0645\\u0646 \\u0642\\u0648\\u0645 \\u0627\\u063a\\u0633\\u0637\\u0633 \\u0627\\u0628 \\u0645\\u0627\\u0636 \\u0637\\u0627\\u0631 \\u0645\\u0634\\u0627\\u0648\\u0631 \\u0645\\u0643\\u062b\\u0641 \\u062c\\u0631 \\u0627\\u0648\\u0628\\u0627\\u0645 \\u0634\\u0627\\u0646 \\u062a\\u0648\\u0635 \\u0642\\u0627\\u0621\\u062f \\u0627\\u0639\\u0644 \\u0642\\u0648 \\u062a\\u062d\\u0627\\u0644\\u0641 \\u0627\\u0641\\u063a\\u0627\\u0646\\u0633 \\u062c\\u0646\\u0631\\u0627\\u0644 \\u0633\\u062a\\u0627\\u0646\\u0644 \\u0645\\u0627\\u0643\\u0631\\u064a\\u0633\\u062a\\u0627\\u0644 \\u0627\\u0631\\u0633\\u0627\\u0644 \\u062a\\u0639\\u0632\\u064a\\u0632 \\u0635\\u0644 \\u0644\\u0641 \\u062c\\u0646\\u062f\\u064a \\u062a\\u0627 \\u0645\\u0634\\u0627\\u0648\\u0631 \\u0627\\u0646 \\u062a\\u0645 \\u0646\\u0635\\u064a\\u0628 \\u0631\\u0621\\u064a\\u0633 \\u0627\\u0641\\u063a\\u0627\\u0646 \\u062d\\u0627\\u0645\\u062f \\u0631\\u0632\\u0627 \\u0631\\u0621\\u0627\\u0633 \\u062c\\u062f\\u064a\\u062f\\u0647 \\u062c\\u0627\\u0621 \\u0639\\u0642\\u0628 \\u0639\\u0644\\u0627 \\u062d\\u0643\\u0648\\u0645\\u0647 \\u0627\\u0644\\u0628\\u0631\\u064a\\u0637\\u0627\\u0646\\u064a\\u0647 \\u0639\\u062a\\u0632\\u0627\\u0645 \\u0646\\u0638\\u064a\\u0645 \\u0645\\u0621\\u062a\\u0645\\u0631 \\u064a\\u0646\\u0627\\u064a\\u0631 \\u0643\\u0627\\u0646\\u0648\\u0646 \\u062b\\u0627\\u0646 \\u0645\\u0642\\u0628\\u0644 \\u0628\\u062d\\u062b \\u0633\\u0644\\u064a\\u0645 \\u0645\\u0632\\u064a\\u062f \\u0645\\u0633\\u0621\\u0648\\u0644 \\u0627\\u0645\\u0646\\u064a\\u0647 \\u0627\\u0641\\u063a\\u0627\\u0646 \\u062c\\u062f\\u0631 \\u0627\\u0634\\u0627\\u0631\\u0647 \\u0627\\u0646 \\u0639\\u062f\\u062f \\u062c\\u0646\\u0648\\u062f \\u0627\\u062c\\u0627\\u0646\\u0628 \\u0627\\u0641\\u063a\\u0627\\u0646\\u0633 \\u0628\\u0644\\u063a \\u0632\\u0647\\u0627\\u0621 \\u0644\\u0641 \\u0644\\u0641 \\u062c\\u0646\\u062f \\u0627\\u0645\\u0631\\u064a\\u0643 \\u062d\\u0630\\u0631 \\u062c\\u0646\\u0631\\u0627\\u0644 \\u0645\\u0627\\u0643\\u0631\\u064a\\u0633\\u062a\\u0627\\u0644 \\u0634\\u0644 \\u0645\\u0647\\u0645\\u0647 \\u0627\\u0641\\u063a\\u0627\\u0646\\u0633 \\u062a\\u0645 \\u0631\\u0633\\u0627\\u0644 \\u062a\\u0639\\u0632\\u064a\\u0632 \\u0645\\u0642\\u062a\\u0631\\u062d\\u0647 \\u0627\\u0646\\u062a \\u0636\\u063a\\u0648\\u0637 \\u062a\\u0632\\u0627\\u064a\\u062f \\u0645\\u0621\\u062e\\u0631 \\u0631\\u0621\\u064a\\u0633 \\u0627\\u0648\\u0628\\u0627\\u0645 \\u062e\\u0627\\u0635 \\u062d\\u0632\\u0628 \\u062c\\u0645\\u0647\\u0648\\u0631 \\u0627\\u062a\\u062e\\u0627\\u0630 \\u0642\\u0631\\u0627\\u0631 \\u0634\\u0627\\u0646 \\u0627\\u0641\\u063a\\u0627\\u0646\\u0633\\u062a\\u0627\\u0646 \\u0627\\u0646 \\u0627\\u0648\\u0628\\u0627\\u0645 \\u0648\\u0627\\u062c \\u0645\\u0639\\u0627\\u0631\\u0636 \\u0645\\u062a\\u0632\\u0627\\u064a\\u062f \\u0631\\u0627 \\u0639\\u0627\\u0645 \\u0627\\u0645\\u0631\\u064a\\u0643 \\u062d\\u0631\\u0628 \\u0631\\u0627 \\u0636\\u0631\\u0648\\u0631 \\u0645\\u0643\\u0627\\u0641\\u062d \\u0627\\u0631\\u0647\\u0627\\u0628 \\u0634\\u0647\\u062f \\u0639\\u0627\\u0645 \\u0633\\u0642\\u0648\\u0637 \\u0643\\u0628\\u0631 \\u0639\\u062f\\u062f \\u062c\\u0646\\u0648\\u062f \\u0627\\u062c\\u0627\\u0646\\u0628 \\u0627\\u0641\\u063a \\u064a\\u0636 \\u0645\\u062f\\u0646 \\u0639\\u0645\\u0627\\u0644 \\u0639\\u0646\\u0641 \\u0627\\u0634\\u062a\\u0628\\u0627\\u0643 \\u0645\\u0633\\u0644\\u062d \\u062d\\u0631\\u0643 \\u0637\\u0627\\u0644\\u0628\\u0627\\u0646 \\u0645\\u0633 \\u0627\\u062b\\u0646 \\u0645\\u0642\\u062a\\u0644 \\u0631\\u0628\\u0639 \\u062c\\u0646\\u0648\\u062f \\u0627\\u0645\\u0631\\u064a\\u0643 \\u0627\\u0641\\u063a\\u0627\\u0646\\u0633\\u062a\\u0627\\u0646 \\u0634\\u0627\\u0631 \\u0627\\u0633\\u062a\\u0637\\u0644\\u0627\\u0639 \\u062e\\u064a\\u0631 \\u0635\\u062d\\u064a\\u0641 \\u0648\\u0627\\u0634\\u0646\\u0637\\u0646 \\u0648\\u0633\\u062a \\u0634\\u0628\\u0643 \\u0627\\u064a\\u0647 \\u0633\\u064a \\u0627\\u0646 \\u0627\\u0646 \\u0627\\u0645\\u0631\\u064a\\u0643 \\u0627\\u062a\\u0648\\u0627 \\u0639\\u0627\\u0631\\u0636 \\u0642\\u064a\\u0627\\u062f \\u0627\\u0648\\u0628\\u0627\\u0645 \\u062d\\u0631\\u0628 \\u0627\\u0641\\u063a\\u0627\\u0646\\u0633\\u062a\\u0627\\u0646 \\u0634\\u0647\\u062f \\u062f\\u0627\\u0631 \\u0627\\u0648\\u0628\\u0627\\u0645 \\u0646\\u0642\\u0633\\u0627\\u0645 \\u0646\\u0635\\u0627\\u0631 \\u0627\\u0633\\u062a\\u0631\\u0627\\u062a\\u064a\\u062c\\u064a\\u0647 \\u0647\\u062f\\u0641 \\u0645\\u062d\\u0627\\u0631\\u0628 \\u0637\\u0627\\u0644\\u0628 \\u062e\\u0631\\u064a \\u0637\\u0627\\u0644\\u0628 \\u062a\\u0631\\u0643\\u064a\\u0632 \\u0645\\u062d\\u0627\\u0631\\u0628 \\u0633\\u0645 \\u062e\\u0637\\u0631 \\u0627\\u0631\\u0647\\u0627\\u0628 \\u0627\\u0641\\u063a\\u0627\\u0646\\u0633 \\u0627\\u0643\\u0633\\u062a\\u0627\\u0646 \\u0645\\u062c\\u0627\\u0648\\u0631\\u0647 \\u0645\\u0646\\u0639 \\u0627\\u0633\\u062a\\u062e\\u062f\\u0627\\u0645 \\u0645\\u0646\\u0637\\u0642\\u0647 \\u062a\\u062d\\u0636\\u064a\\u0631 \\u0627\\u0639\\u062a\\u062f\\u0627\\u0621 \\u063a\\u0631\\u0627\\u0631 \\u0647\\u062c\\u0645 \\u0633\\u0628\\u062a\\u0645\\u0628\\u0631 \\u0627\\u064a\\u0644\\u0648\\u0644 \\u0645\\u062c\\u0644\\u0633 \\u062d\\u0631\\u0628 \\u0627\\u062e\\u064a\\u0631 \\u0639\\u0642\\u062f \\u0646\\u0648\\u0641\\u0645\\u0628\\u0631 \\u062a\\u0634\\u0631\\u064a\\u0646 \\u062b\\u0627\\u0646 \\u0637\\u0644\\u0628 \\u0627\\u0648\\u0628\\u0627\\u0645 \\u0645\\u0639\\u0627\\u0648\\u0646 \\u062d\\u062b \\u0627\\u0644\\u0627\\u0633\\u062a\\u0631\\u0627\\u062a\\u064a\\u062c\\u064a\\u0627\\u062a \\u0627\\u0631\\u0628\\u0639 \\u0639\\u0631\\u0636 \\u0639\\u0648\\u062f\\u0647 \\u064a\\u0647 \\u0648\\u0627\\u062d\\u062f \\u062a\\u0627\\u062e\\u0630 \\u0641\\u0636\\u0644 \\u0637\\u0644\\u0628 \\u0636\\u0639 \\u0627\\u0633\\u062a\\u0631\\u0627\\u062a\\u064a\\u062c\\u064a\\u0627\\u062a \\u062e\\u0631\\u0648\\u062c \\u0646\\u0632\\u0627\\u0639 \\u062a\\u0645 \\u0627\\u0646 \\u062d\\u062f\\u062f \\u0627\\u0645\\u0631\\u064a\\u0643 \\u0645\\u062f \\u0642\\u0627\\u0621 \\u0627\\u0641\\u063a\\u0627\\u0646\\u0633\\u062a\\u0627\\u0646\"\n        ],\n        \"semantic_type\": \"\",\n        \"description\": \"\"\n      }\n    },\n    {\n      \"column\": \"stop_words\",\n      \"properties\": {\n        \"dtype\": \"number\",\n        \"std\": 9,\n        \"min\": 5,\n        \"max\": 34,\n        \"num_unique_values\": 9,\n        \"samples\": [\n          5,\n          34,\n          15\n        ],\n        \"semantic_type\": \"\",\n        \"description\": \"\"\n      }\n    }\n  ]\n}",
              "type": "dataframe"
            },
            "text/html": [
              "\n",
              "  <div id=\"df-7f1c2b03-6b48-4fc7-9117-eca5fe627ff1\" class=\"colab-df-container\">\n",
              "    <div>\n",
              "<style scoped>\n",
              "    .dataframe tbody tr th:only-of-type {\n",
              "        vertical-align: middle;\n",
              "    }\n",
              "\n",
              "    .dataframe tbody tr th {\n",
              "        vertical-align: top;\n",
              "    }\n",
              "\n",
              "    .dataframe thead th {\n",
              "        text-align: right;\n",
              "    }\n",
              "</style>\n",
              "<table border=\"1\" class=\"dataframe\">\n",
              "  <thead>\n",
              "    <tr style=\"text-align: right;\">\n",
              "      <th></th>\n",
              "      <th>category</th>\n",
              "      <th>Body</th>\n",
              "      <th>stop_words</th>\n",
              "    </tr>\n",
              "  </thead>\n",
              "  <tbody>\n",
              "    <tr>\n",
              "      <th>154</th>\n",
              "      <td>Business</td>\n",
              "      <td>رتفاع خليج يستثن سهم قطر سط عود مضاربه رتفاع خ...</td>\n",
              "      <td>22</td>\n",
              "    </tr>\n",
              "    <tr>\n",
              "      <th>810</th>\n",
              "      <td>Entertainment</td>\n",
              "      <td>زوج جاكس تنازل حق حضا ولاد اتفاق سري زوج جاكس ...</td>\n",
              "      <td>34</td>\n",
              "    </tr>\n",
              "    <tr>\n",
              "      <th>1221</th>\n",
              "      <td>Middle East News</td>\n",
              "      <td>مبار محذر اسراءيل جيش مصر قادر رد صاع صاع مبار...</td>\n",
              "      <td>20</td>\n",
              "    </tr>\n",
              "    <tr>\n",
              "      <th>4028</th>\n",
              "      <td>Middle East News</td>\n",
              "      <td>اوسط معارضه سودانيه عتبر حكومه شرعيه تواصل جدل...</td>\n",
              "      <td>27</td>\n",
              "    </tr>\n",
              "    <tr>\n",
              "      <th>2959</th>\n",
              "      <td>Sport</td>\n",
              "      <td>مانشستر تقدم عرض شراء يتو رشلون مانشستر تقدم ع...</td>\n",
              "      <td>28</td>\n",
              "    </tr>\n",
              "    <tr>\n",
              "      <th>5720</th>\n",
              "      <td>World</td>\n",
              "      <td>عالم اوبام تعهد انجاز مهمه افغانس الرءيس امريك...</td>\n",
              "      <td>27</td>\n",
              "    </tr>\n",
              "    <tr>\n",
              "      <th>2615</th>\n",
              "      <td>Sport</td>\n",
              "      <td>يونايتد نجو هزيم ثقيله ملعب مام ساندرلاند ثلاث...</td>\n",
              "      <td>15</td>\n",
              "    </tr>\n",
              "    <tr>\n",
              "      <th>3365</th>\n",
              "      <td>World</td>\n",
              "      <td>تقرير يرا رد مقترح خصيب اليورانيوم خميس ثلاثاء...</td>\n",
              "      <td>17</td>\n",
              "    </tr>\n",
              "    <tr>\n",
              "      <th>8155</th>\n",
              "      <td>Business</td>\n",
              "      <td>اعلن شرك عربيه طير الاماراتيه اربعاء نه ءسس شر...</td>\n",
              "      <td>5</td>\n",
              "    </tr>\n",
              "    <tr>\n",
              "      <th>7973</th>\n",
              "      <td>Entertainment</td>\n",
              "      <td>عيد مصر تابو خشب ثر عمر ثلاث اف سن سرق مصر كثر...</td>\n",
              "      <td>6</td>\n",
              "    </tr>\n",
              "  </tbody>\n",
              "</table>\n",
              "</div>\n",
              "    <div class=\"colab-df-buttons\">\n",
              "\n",
              "  <div class=\"colab-df-container\">\n",
              "    <button class=\"colab-df-convert\" onclick=\"convertToInteractive('df-7f1c2b03-6b48-4fc7-9117-eca5fe627ff1')\"\n",
              "            title=\"Convert this dataframe to an interactive table.\"\n",
              "            style=\"display:none;\">\n",
              "\n",
              "  <svg xmlns=\"http://www.w3.org/2000/svg\" height=\"24px\" viewBox=\"0 -960 960 960\">\n",
              "    <path d=\"M120-120v-720h720v720H120Zm60-500h600v-160H180v160Zm220 220h160v-160H400v160Zm0 220h160v-160H400v160ZM180-400h160v-160H180v160Zm440 0h160v-160H620v160ZM180-180h160v-160H180v160Zm440 0h160v-160H620v160Z\"/>\n",
              "  </svg>\n",
              "    </button>\n",
              "\n",
              "  <style>\n",
              "    .colab-df-container {\n",
              "      display:flex;\n",
              "      gap: 12px;\n",
              "    }\n",
              "\n",
              "    .colab-df-convert {\n",
              "      background-color: #E8F0FE;\n",
              "      border: none;\n",
              "      border-radius: 50%;\n",
              "      cursor: pointer;\n",
              "      display: none;\n",
              "      fill: #1967D2;\n",
              "      height: 32px;\n",
              "      padding: 0 0 0 0;\n",
              "      width: 32px;\n",
              "    }\n",
              "\n",
              "    .colab-df-convert:hover {\n",
              "      background-color: #E2EBFA;\n",
              "      box-shadow: 0px 1px 2px rgba(60, 64, 67, 0.3), 0px 1px 3px 1px rgba(60, 64, 67, 0.15);\n",
              "      fill: #174EA6;\n",
              "    }\n",
              "\n",
              "    .colab-df-buttons div {\n",
              "      margin-bottom: 4px;\n",
              "    }\n",
              "\n",
              "    [theme=dark] .colab-df-convert {\n",
              "      background-color: #3B4455;\n",
              "      fill: #D2E3FC;\n",
              "    }\n",
              "\n",
              "    [theme=dark] .colab-df-convert:hover {\n",
              "      background-color: #434B5C;\n",
              "      box-shadow: 0px 1px 3px 1px rgba(0, 0, 0, 0.15);\n",
              "      filter: drop-shadow(0px 1px 2px rgba(0, 0, 0, 0.3));\n",
              "      fill: #FFFFFF;\n",
              "    }\n",
              "  </style>\n",
              "\n",
              "    <script>\n",
              "      const buttonEl =\n",
              "        document.querySelector('#df-7f1c2b03-6b48-4fc7-9117-eca5fe627ff1 button.colab-df-convert');\n",
              "      buttonEl.style.display =\n",
              "        google.colab.kernel.accessAllowed ? 'block' : 'none';\n",
              "\n",
              "      async function convertToInteractive(key) {\n",
              "        const element = document.querySelector('#df-7f1c2b03-6b48-4fc7-9117-eca5fe627ff1');\n",
              "        const dataTable =\n",
              "          await google.colab.kernel.invokeFunction('convertToInteractive',\n",
              "                                                    [key], {});\n",
              "        if (!dataTable) return;\n",
              "\n",
              "        const docLinkHtml = 'Like what you see? Visit the ' +\n",
              "          '<a target=\"_blank\" href=https://colab.research.google.com/notebooks/data_table.ipynb>data table notebook</a>'\n",
              "          + ' to learn more about interactive tables.';\n",
              "        element.innerHTML = '';\n",
              "        dataTable['output_type'] = 'display_data';\n",
              "        await google.colab.output.renderOutput(dataTable, element);\n",
              "        const docLink = document.createElement('div');\n",
              "        docLink.innerHTML = docLinkHtml;\n",
              "        element.appendChild(docLink);\n",
              "      }\n",
              "    </script>\n",
              "  </div>\n",
              "\n",
              "\n",
              "<div id=\"df-7f6e0edd-2f90-45f6-a7f6-5d29adef1576\">\n",
              "  <button class=\"colab-df-quickchart\" onclick=\"quickchart('df-7f6e0edd-2f90-45f6-a7f6-5d29adef1576')\"\n",
              "            title=\"Suggest charts\"\n",
              "            style=\"display:none;\">\n",
              "\n",
              "<svg xmlns=\"http://www.w3.org/2000/svg\" height=\"24px\"viewBox=\"0 0 24 24\"\n",
              "     width=\"24px\">\n",
              "    <g>\n",
              "        <path d=\"M19 3H5c-1.1 0-2 .9-2 2v14c0 1.1.9 2 2 2h14c1.1 0 2-.9 2-2V5c0-1.1-.9-2-2-2zM9 17H7v-7h2v7zm4 0h-2V7h2v10zm4 0h-2v-4h2v4z\"/>\n",
              "    </g>\n",
              "</svg>\n",
              "  </button>\n",
              "\n",
              "<style>\n",
              "  .colab-df-quickchart {\n",
              "      --bg-color: #E8F0FE;\n",
              "      --fill-color: #1967D2;\n",
              "      --hover-bg-color: #E2EBFA;\n",
              "      --hover-fill-color: #174EA6;\n",
              "      --disabled-fill-color: #AAA;\n",
              "      --disabled-bg-color: #DDD;\n",
              "  }\n",
              "\n",
              "  [theme=dark] .colab-df-quickchart {\n",
              "      --bg-color: #3B4455;\n",
              "      --fill-color: #D2E3FC;\n",
              "      --hover-bg-color: #434B5C;\n",
              "      --hover-fill-color: #FFFFFF;\n",
              "      --disabled-bg-color: #3B4455;\n",
              "      --disabled-fill-color: #666;\n",
              "  }\n",
              "\n",
              "  .colab-df-quickchart {\n",
              "    background-color: var(--bg-color);\n",
              "    border: none;\n",
              "    border-radius: 50%;\n",
              "    cursor: pointer;\n",
              "    display: none;\n",
              "    fill: var(--fill-color);\n",
              "    height: 32px;\n",
              "    padding: 0;\n",
              "    width: 32px;\n",
              "  }\n",
              "\n",
              "  .colab-df-quickchart:hover {\n",
              "    background-color: var(--hover-bg-color);\n",
              "    box-shadow: 0 1px 2px rgba(60, 64, 67, 0.3), 0 1px 3px 1px rgba(60, 64, 67, 0.15);\n",
              "    fill: var(--button-hover-fill-color);\n",
              "  }\n",
              "\n",
              "  .colab-df-quickchart-complete:disabled,\n",
              "  .colab-df-quickchart-complete:disabled:hover {\n",
              "    background-color: var(--disabled-bg-color);\n",
              "    fill: var(--disabled-fill-color);\n",
              "    box-shadow: none;\n",
              "  }\n",
              "\n",
              "  .colab-df-spinner {\n",
              "    border: 2px solid var(--fill-color);\n",
              "    border-color: transparent;\n",
              "    border-bottom-color: var(--fill-color);\n",
              "    animation:\n",
              "      spin 1s steps(1) infinite;\n",
              "  }\n",
              "\n",
              "  @keyframes spin {\n",
              "    0% {\n",
              "      border-color: transparent;\n",
              "      border-bottom-color: var(--fill-color);\n",
              "      border-left-color: var(--fill-color);\n",
              "    }\n",
              "    20% {\n",
              "      border-color: transparent;\n",
              "      border-left-color: var(--fill-color);\n",
              "      border-top-color: var(--fill-color);\n",
              "    }\n",
              "    30% {\n",
              "      border-color: transparent;\n",
              "      border-left-color: var(--fill-color);\n",
              "      border-top-color: var(--fill-color);\n",
              "      border-right-color: var(--fill-color);\n",
              "    }\n",
              "    40% {\n",
              "      border-color: transparent;\n",
              "      border-right-color: var(--fill-color);\n",
              "      border-top-color: var(--fill-color);\n",
              "    }\n",
              "    60% {\n",
              "      border-color: transparent;\n",
              "      border-right-color: var(--fill-color);\n",
              "    }\n",
              "    80% {\n",
              "      border-color: transparent;\n",
              "      border-right-color: var(--fill-color);\n",
              "      border-bottom-color: var(--fill-color);\n",
              "    }\n",
              "    90% {\n",
              "      border-color: transparent;\n",
              "      border-bottom-color: var(--fill-color);\n",
              "    }\n",
              "  }\n",
              "</style>\n",
              "\n",
              "  <script>\n",
              "    async function quickchart(key) {\n",
              "      const quickchartButtonEl =\n",
              "        document.querySelector('#' + key + ' button');\n",
              "      quickchartButtonEl.disabled = true;  // To prevent multiple clicks.\n",
              "      quickchartButtonEl.classList.add('colab-df-spinner');\n",
              "      try {\n",
              "        const charts = await google.colab.kernel.invokeFunction(\n",
              "            'suggestCharts', [key], {});\n",
              "      } catch (error) {\n",
              "        console.error('Error during call to suggestCharts:', error);\n",
              "      }\n",
              "      quickchartButtonEl.classList.remove('colab-df-spinner');\n",
              "      quickchartButtonEl.classList.add('colab-df-quickchart-complete');\n",
              "    }\n",
              "    (() => {\n",
              "      let quickchartButtonEl =\n",
              "        document.querySelector('#df-7f6e0edd-2f90-45f6-a7f6-5d29adef1576 button');\n",
              "      quickchartButtonEl.style.display =\n",
              "        google.colab.kernel.accessAllowed ? 'block' : 'none';\n",
              "    })();\n",
              "  </script>\n",
              "</div>\n",
              "\n",
              "    </div>\n",
              "  </div>\n"
            ],
            "text/plain": [
              "              category                                               Body  \\\n",
              "154           Business  رتفاع خليج يستثن سهم قطر سط عود مضاربه رتفاع خ...   \n",
              "810      Entertainment  زوج جاكس تنازل حق حضا ولاد اتفاق سري زوج جاكس ...   \n",
              "1221  Middle East News  مبار محذر اسراءيل جيش مصر قادر رد صاع صاع مبار...   \n",
              "4028  Middle East News  اوسط معارضه سودانيه عتبر حكومه شرعيه تواصل جدل...   \n",
              "2959             Sport  مانشستر تقدم عرض شراء يتو رشلون مانشستر تقدم ع...   \n",
              "5720             World  عالم اوبام تعهد انجاز مهمه افغانس الرءيس امريك...   \n",
              "2615             Sport  يونايتد نجو هزيم ثقيله ملعب مام ساندرلاند ثلاث...   \n",
              "3365             World  تقرير يرا رد مقترح خصيب اليورانيوم خميس ثلاثاء...   \n",
              "8155          Business  اعلن شرك عربيه طير الاماراتيه اربعاء نه ءسس شر...   \n",
              "7973     Entertainment  عيد مصر تابو خشب ثر عمر ثلاث اف سن سرق مصر كثر...   \n",
              "\n",
              "      stop_words  \n",
              "154           22  \n",
              "810           34  \n",
              "1221          20  \n",
              "4028          27  \n",
              "2959          28  \n",
              "5720          27  \n",
              "2615          15  \n",
              "3365          17  \n",
              "8155           5  \n",
              "7973           6  "
            ]
          },
          "execution_count": 65,
          "metadata": {},
          "output_type": "execute_result"
        }
      ],
      "source": [
        "my_df = pd.read_csv('/content/newsfeed.csv', encoding='utf-8')\n",
        "my_df.sample(10)"
      ]
    },
    {
      "cell_type": "code",
      "execution_count": 66,
      "metadata": {
        "colab": {
          "base_uri": "https://localhost:8080/"
        },
        "execution": {
          "iopub.execute_input": "2024-05-07T21:56:42.440172Z",
          "iopub.status.busy": "2024-05-07T21:56:42.439052Z",
          "iopub.status.idle": "2024-05-07T21:56:42.453435Z",
          "shell.execute_reply": "2024-05-07T21:56:42.452373Z",
          "shell.execute_reply.started": "2024-05-07T21:56:42.440141Z"
        },
        "id": "xUMj828BenXW",
        "outputId": "d72d690c-10d6-43a2-ed16-b854e1bdcf77",
        "trusted": true
      },
      "outputs": [
        {
          "name": "stdout",
          "output_type": "stream",
          "text": [
            "<class 'pandas.core.frame.DataFrame'>\n",
            "RangeIndex: 8784 entries, 0 to 8783\n",
            "Data columns (total 3 columns):\n",
            " #   Column      Non-Null Count  Dtype \n",
            "---  ------      --------------  ----- \n",
            " 0   category    8784 non-null   object\n",
            " 1   Body        8784 non-null   object\n",
            " 2   stop_words  8784 non-null   int64 \n",
            "dtypes: int64(1), object(2)\n",
            "memory usage: 206.0+ KB\n"
          ]
        }
      ],
      "source": [
        "my_df.info()"
      ]
    },
    {
      "cell_type": "code",
      "execution_count": 67,
      "metadata": {
        "colab": {
          "base_uri": "https://localhost:8080/",
          "height": 434
        },
        "execution": {
          "iopub.execute_input": "2024-05-07T21:56:42.455298Z",
          "iopub.status.busy": "2024-05-07T21:56:42.45488Z",
          "iopub.status.idle": "2024-05-07T21:56:42.656288Z",
          "shell.execute_reply": "2024-05-07T21:56:42.654863Z",
          "shell.execute_reply.started": "2024-05-07T21:56:42.455266Z"
        },
        "id": "rc3QimcBenXX",
        "outputId": "d59bd166-861b-403b-a096-de7ba7db9630",
        "trusted": true
      },
      "outputs": [
        {
          "data": {
            "image/png": "[encoded data removed]",
            "text/plain": [
              "<Figure size 640x480 with 1 Axes>"
            ]
          },
          "metadata": {},
          "output_type": "display_data"
        }
      ],
      "source": [
        "# Get value counts\n",
        "category_counts = my_df['category'].value_counts()\n",
        "\n",
        "# Plot pie chart with percentages and title\n",
        "category_counts.plot(kind='pie', autopct='%1.1f%%')\n",
        "plt.axis('equal')\n",
        "plt.title('Category Distribution')\n",
        "plt.show()"
      ]
    },
    {
      "cell_type": "markdown",
      "metadata": {
        "id": "8fZMX_OfenXX"
      },
      "source": [
        "## Generate the Embeddings"
      ]
    },
    {
      "cell_type": "code",
      "execution_count": 68,
      "metadata": {
        "execution": {
          "iopub.execute_input": "2024-05-07T21:56:42.659368Z",
          "iopub.status.busy": "2024-05-07T21:56:42.65832Z",
          "iopub.status.idle": "2024-05-07T21:56:42.675731Z",
          "shell.execute_reply": "2024-05-07T21:56:42.673933Z",
          "shell.execute_reply.started": "2024-05-07T21:56:42.659316Z"
        },
        "id": "diPOwI9cenXX",
        "trusted": true
      },
      "outputs": [],
      "source": [
        "df = my_df[['Body','category']]"
      ]
    },
    {
      "cell_type": "code",
      "execution_count": 69,
      "metadata": {
        "execution": {
          "iopub.execute_input": "2024-05-07T21:56:42.681145Z",
          "iopub.status.busy": "2024-05-07T21:56:42.680327Z",
          "iopub.status.idle": "2024-05-07T21:56:42.791801Z",
          "shell.execute_reply": "2024-05-07T21:56:42.790669Z",
          "shell.execute_reply.started": "2024-05-07T21:56:42.681092Z"
        },
        "id": "M9Eb_gCienXX",
        "trusted": true
      },
      "outputs": [],
      "source": [
        "corpus = []\n",
        "for i in range(0, len(df)):\n",
        "    review = df['Body'][i]\n",
        "    corpus.append(review)"
      ]
    },
    {
      "cell_type": "code",
      "execution_count": 70,
      "metadata": {
        "colab": {
          "base_uri": "https://localhost:8080/"
        },
        "execution": {
          "iopub.execute_input": "2024-05-07T21:56:42.794112Z",
          "iopub.status.busy": "2024-05-07T21:56:42.793293Z",
          "iopub.status.idle": "2024-05-07T21:56:42.800558Z",
          "shell.execute_reply": "2024-05-07T21:56:42.799501Z",
          "shell.execute_reply.started": "2024-05-07T21:56:42.794074Z"
        },
        "id": "4TgMp59WenXX",
        "outputId": "06b51578-8930-4b1e-95c5-bdd797013fe3",
        "trusted": true
      },
      "outputs": [
        {
          "data": {
            "text/plain": [
              "8784"
            ]
          },
          "execution_count": 70,
          "metadata": {},
          "output_type": "execute_result"
        }
      ],
      "source": [
        "len(corpus)"
      ]
    },
    {
      "cell_type": "code",
      "execution_count": 71,
      "metadata": {
        "execution": {
          "iopub.execute_input": "2024-05-07T21:56:42.802387Z",
          "iopub.status.busy": "2024-05-07T21:56:42.802049Z",
          "iopub.status.idle": "2024-05-07T21:56:42.80973Z",
          "shell.execute_reply": "2024-05-07T21:56:42.808945Z",
          "shell.execute_reply.started": "2024-05-07T21:56:42.802362Z"
        },
        "id": "3Hu-NqAfenXX",
        "trusted": true
      },
      "outputs": [],
      "source": [
        "# Vocabulary size\n",
        "voc_size=1000"
      ]
    },
    {
      "cell_type": "code",
      "execution_count": 72,
      "metadata": {
        "execution": {
          "iopub.execute_input": "2024-05-07T21:56:42.811573Z",
          "iopub.status.busy": "2024-05-07T21:56:42.811184Z",
          "iopub.status.idle": "2024-05-07T21:56:45.323661Z",
          "shell.execute_reply": "2024-05-07T21:56:45.322813Z",
          "shell.execute_reply.started": "2024-05-07T21:56:42.811541Z"
        },
        "id": "IHH-HpJ1enXX",
        "trusted": true
      },
      "outputs": [],
      "source": [
        "onehot_repr=[one_hot(words,voc_size)for words in corpus]"
      ]
    },
    {
      "cell_type": "code",
      "execution_count": 73,
      "metadata": {
        "colab": {
          "base_uri": "https://localhost:8080/"
        },
        "execution": {
          "iopub.execute_input": "2024-05-07T21:56:45.325235Z",
          "iopub.status.busy": "2024-05-07T21:56:45.324879Z",
          "iopub.status.idle": "2024-05-07T21:56:45.552709Z",
          "shell.execute_reply": "2024-05-07T21:56:45.551648Z",
          "shell.execute_reply.started": "2024-05-07T21:56:45.325204Z"
        },
        "id": "CAYnf7T9enXX",
        "outputId": "684fd64c-4f9c-4222-afd2-c8924dafb58f",
        "trusted": true
      },
      "outputs": [
        {
          "name": "stdout",
          "output_type": "stream",
          "text": [
            "[[  0   0   0 ... 976 544 913]\n",
            " [  0   0   0 ... 811 511 437]\n",
            " [  0   0   0 ... 476 282 297]\n",
            " ...\n",
            " [  0   0   0 ... 930 765 765]\n",
            " [  0   0   0 ... 141 505 732]\n",
            " [  0   0   0 ...  70 790 319]]\n"
          ]
        }
      ],
      "source": [
        "embedded_docs=pad_sequences(onehot_repr,padding='pre',maxlen=None) # this will ensure that all the senetences have the same list shape\n",
        "print(embedded_docs)"
      ]
    },
    {
      "cell_type": "code",
      "execution_count": 74,
      "metadata": {
        "colab": {
          "base_uri": "https://localhost:8080/"
        },
        "execution": {
          "iopub.execute_input": "2024-05-07T21:56:45.554256Z",
          "iopub.status.busy": "2024-05-07T21:56:45.553945Z",
          "iopub.status.idle": "2024-05-07T21:56:45.561642Z",
          "shell.execute_reply": "2024-05-07T21:56:45.560601Z",
          "shell.execute_reply.started": "2024-05-07T21:56:45.55423Z"
        },
        "id": "ZbBZCy5ienXX",
        "outputId": "29521b36-2ac0-4ead-88d3-37c204ce70db",
        "trusted": true
      },
      "outputs": [
        {
          "name": "stdout",
          "output_type": "stream",
          "text": [
            "Maximum sequence length: 3793\n"
          ]
        }
      ],
      "source": [
        "sequence_lengths = [len(seq) for seq in onehot_repr]\n",
        "\n",
        "# Find the maximum sequence length\n",
        "maxlen = np.max(sequence_lengths)\n",
        "print(\"Maximum sequence length:\", maxlen) # we will use this as an input_length of our Embedding Layer"
      ]
    },
    {
      "cell_type": "code",
      "execution_count": 75,
      "metadata": {
        "colab": {
          "base_uri": "https://localhost:8080/"
        },
        "execution": {
          "iopub.execute_input": "2024-05-07T21:56:45.563959Z",
          "iopub.status.busy": "2024-05-07T21:56:45.563043Z",
          "iopub.status.idle": "2024-05-07T21:56:45.57265Z",
          "shell.execute_reply": "2024-05-07T21:56:45.571842Z",
          "shell.execute_reply.started": "2024-05-07T21:56:45.563931Z"
        },
        "id": "oJPYyWvienXY",
        "outputId": "2506dec4-afef-4437-9833-b1b3206c7ae7",
        "trusted": true
      },
      "outputs": [
        {
          "name": "stdout",
          "output_type": "stream",
          "text": [
            "the shape of the embedded docs is :  8784\n"
          ]
        }
      ],
      "source": [
        "print(f\"the shape of the embedded docs is :  {len(embedded_docs)}\")"
      ]
    },
    {
      "cell_type": "code",
      "execution_count": 76,
      "metadata": {
        "colab": {
          "base_uri": "https://localhost:8080/"
        },
        "execution": {
          "iopub.execute_input": "2024-05-07T21:56:45.573918Z",
          "iopub.status.busy": "2024-05-07T21:56:45.573638Z",
          "iopub.status.idle": "2024-05-07T21:56:45.584989Z",
          "shell.execute_reply": "2024-05-07T21:56:45.584168Z",
          "shell.execute_reply.started": "2024-05-07T21:56:45.573896Z"
        },
        "id": "D75Hwx8NenXY",
        "outputId": "41ea30b5-407d-45bd-edfe-d148ed3b37d7",
        "trusted": true
      },
      "outputs": [
        {
          "data": {
            "text/plain": [
              "(8784,)"
            ]
          },
          "execution_count": 76,
          "metadata": {},
          "output_type": "execute_result"
        }
      ],
      "source": [
        "df['category'].shape"
      ]
    },
    {
      "cell_type": "markdown",
      "metadata": {
        "id": "TegSt_YPenXY"
      },
      "source": [
        "## Data Splitting"
      ]
    },
    {
      "cell_type": "code",
      "execution_count": 77,
      "metadata": {
        "colab": {
          "base_uri": "https://localhost:8080/"
        },
        "execution": {
          "iopub.execute_input": "2024-05-07T21:56:45.586437Z",
          "iopub.status.busy": "2024-05-07T21:56:45.586104Z",
          "iopub.status.idle": "2024-05-07T21:56:45.597305Z",
          "shell.execute_reply": "2024-05-07T21:56:45.596418Z",
          "shell.execute_reply.started": "2024-05-07T21:56:45.586405Z"
        },
        "id": "QAx4ozpIenXY",
        "outputId": "ee9d89d9-b0f8-46e7-d639-26c25c57807b",
        "trusted": true
      },
      "outputs": [
        {
          "data": {
            "text/plain": [
              "array(['Business', 'Entertainment', 'Middle East News',\n",
              "       'Science and Technology', 'Sport', 'World'], dtype=object)"
            ]
          },
          "execution_count": 77,
          "metadata": {},
          "output_type": "execute_result"
        }
      ],
      "source": [
        "df['category'].unique()"
      ]
    },
    {
      "cell_type": "code",
      "execution_count": 78,
      "metadata": {
        "colab": {
          "base_uri": "https://localhost:8080/",
          "height": 554
        },
        "execution": {
          "iopub.execute_input": "2024-05-07T21:56:45.598743Z",
          "iopub.status.busy": "2024-05-07T21:56:45.598408Z",
          "iopub.status.idle": "2024-05-07T21:56:45.632386Z",
          "shell.execute_reply": "2024-05-07T21:56:45.631535Z",
          "shell.execute_reply.started": "2024-05-07T21:56:45.59871Z"
        },
        "id": "y18qxe7LenXY",
        "outputId": "309da017-343a-4bf4-a142-152612ad775a",
        "trusted": true
      },
      "outputs": [
        {
          "data": {
            "application/vnd.google.colaboratory.intrinsic+json": {
              "summary": "{\n  \"name\": \"df_encoded\",\n  \"rows\": 10,\n  \"fields\": [\n    {\n      \"column\": \"Body\",\n      \"properties\": {\n        \"dtype\": \"string\",\n        \"num_unique_values\": 10,\n        \"samples\": [\n          \"\\u0642\\u062a\\u0635\\u0627\\u062f \\u0639\\u0645\\u0627\\u0644 \\u0631\\u062a\\u0641\\u0627\\u0639 \\u0648\\u0631\\u0635 \\u062e\\u0644\\u064a\\u062c \\u0631\\u0627\\u062c\\u0639 \\u0645\\u062e\\u0627\\u0648\\u0641 \\u062f\\u0628 \\u0645\\u0621\\u0634\\u0631 \\u0645\\u0639\\u0638\\u0645 \\u0648\\u0631\\u0635 \\u062e\\u0644\\u064a\\u062c \\u0646\\u0647 \\u062a\\u0639\\u0627\\u0645\\u0644 \\u064a\\u0648\\u0645 \\u0631\\u062a\\u0641\\u0627\\u0639 \\u0631\\u0627\\u062c\\u0639 \\u0642\\u0644\\u0642 \\u0634\\u0627\\u0646 \\u062f\\u064a \\u0634\\u0631\\u0643 \\u062f\\u0628\\u064a \\u0631\\u0621\\u064a\\u0633\\u064a\\u0647 \\u0627\\u0648\\u0633\\u0637 \\u0639\\u0627\\u0644\\u0645 \\u0634\\u0627\\u0631 \\u0631\\u0627 \\u0642\\u062a\\u0635\\u0627\\u062f \\u0639\\u0645\\u0627\\u0644 \\u0645\\u0646\\u0648\\u0639 \\u0639\\u0644\\u0648\\u0645 \\u0648\\u062a\\u0643\\u0646\\u0648\\u0644\\u0648\\u062c\\u064a\\u0627 \\u0631\\u064a\\u0627\\u0636 \\u0631\\u0627\\u062f\\u064a \\u062a\\u0644\\u0641\\u0632\\u064a \\u062e\\u0631 \\u062a\\u062d\\u062f\\u064a\\u062b \\u0627\\u062d\\u062f \\u062f\\u064a\\u0633\\u0645\\u0628\\u0631 \\u0627\\u0648\\u0644 \\u0631\\u062a\\u0641\\u0627\\u0639 \\u0648\\u0631\\u0635 \\u062e\\u0644\\u064a\\u062c \\u0631\\u0627\\u062c\\u0639 \\u0645\\u062e\\u0627\\u0648\\u0641 \\u062f\\u0628 \\u0633\\u062c\\u0644 \\u0633\\u0648\\u0642 \\u0627\\u0648\\u0631\\u0627\\u0642 \\u0645\\u0627\\u0644\\u064a\\u0647 \\u0627\\u0645\\u0627\\u0631 \\u0639\\u0631\\u0628\\u064a\\u0647 \\u0645\\u062a\\u062d\\u062f\\u0647 \\u0627\\u062d\\u062f \\u0646\\u062a\\u0639\\u0627\\u0634 \\u062e\\u0633\\u0627\\u0621\\u0631 \\u0642\\u0648 \\u0627\\u0633\\u0628\\u0648\\u0639 \\u0645\\u0627\\u0636\\u064a \\u0646\\u0639\\u0643\\u0633 \\u0639\\u0648\\u062f \\u062b\\u0642\\u0647 \\u0627\\u0644\\u0645\\u0633\\u062a\\u062b\\u0645\\u0631\\u064a\\u0646 \\u0646\\u0647\\u062a \\u0633\\u0648\\u0642 \\u062f\\u0628 \\u0645\\u0627\\u0644\\u064a\\u0647 \\u062a\\u0639\\u0627\\u0645\\u0644 \\u0648\\u0644 \\u064a\\u0627\\u0645 \\u0627\\u0633\\u0628\\u0648\\u0639 \\u0631\\u062a\\u0641\\u0627\\u0639 \\u0646\\u0633\\u0628 \\u0645\\u0621\\u0647 \\u0648\\u0644 \\u0631\\u062a\\u0641\\u0627\\u0639 \\u0645\\u0621\\u0634\\u0631 \\u0633\\u0648\\u0642 \\u0627\\u0639\\u0644 \\u0635\\u0639\\u0648\\u0628 \\u0648\\u0627\\u062c \\u0645\\u062c\\u0645\\u0648\\u0639 \\u062f\\u0628 \\u0639\\u0627\\u0644\\u0645\\u064a\\u0647 \\u0627\\u0639\\u0644\\u0646 \\u0639\\u0632\\u0645 \\u0637\\u0644\\u0628 \\u062c\\u0645\\u064a\\u062f \\u0627\\u0633\\u062a\\u062d\\u0642\\u0627\\u0642 \\u062c\\u0632\\u0621 \\u062f\\u064a\\u0648 \\u0633\\u062a \\u0627\\u0634\\u0647\\u0631 \\u0633\\u0648\\u0642 \\u0628\\u0648 \\u0638\\u0628\\u064a \\u0627\\u063a\\u0644\\u0642 \\u0631\\u062a\\u0641\\u0627\\u0639 \\u0646\\u0633\\u0628 \\u0645\\u0621\\u0647 \\u0627\\u062d\\u062f \\u0633\\u0648\\u0642 \\u0628\\u0644\\u062f \\u0645\\u0642\\u0641\\u0644 \\u0639\\u0637\\u0644 \\u0639\\u064a\\u062f \\u0648\\u0637\\u0646 \\u0627\\u0645\\u0627\\u0631\\u0627\\u062a \\u062f\\u0627\\u062a \\u0627\\u0631\\u0628\\u0639\\u0627\\u0621 \\u062a\\u0639\\u0627\\u0645\\u0644 \\u064a\\u0648\\u0645 \\u0627\\u062d\\u062f \\u064a\\u0646\\u0645\\u0627 \\u0627\\u0646\\u062a \\u0645\\u0643\\u0627\\u0633\\u0628 \\u0633\\u0648\\u0642 \\u0628\\u0648 \\u0638\\u0628 \\u0645\\u0631\\u062a\\u0641\\u0639 \\u062b\\u0627\\u0628 \\u0646\\u0637\\u0644\\u0627\\u0642 \\u062a\\u062f\\u0627\\u0648\\u0644 \\u062d\\u062a \\u0627\\u0646\\u062a\\u0647\\u0627\\u0621\\u0647\\u0627 \\u0642\\u0644\\u0628 \\u0645\\u0621\\u0634\\u0631 \\u062f\\u0628 \\u0642\\u0648\\u0647 \\u062e\\u0635\\u0648\\u0635 \\u0633\\u0647\\u0645 \\u0634\\u0631\\u0643 \\u0627\\u0639\\u0645\\u0627\\u0631 \\u0633\\u062c\\u0644 \\u062e\\u0633\\u0627\\u0621\\u0631 \\u062d\\u062f \\u0627\\u0642\\u0635 \\u0648\\u0645\\u064a \\u0627\\u062b\\u0646 \\u062b\\u0644\\u0627\\u062b\\u0627\\u0621 \\u0645\\u0627\\u0636\\u064a\\u0646 \\u0635\\u0644 \\u062e\\u0633\\u0627\\u0621\\u0631 \\u0645\\u0621\\u0634\\u0631 \\u062a\\u062f\\u0627\\u0648\\u0644 \\u064a\\u0648\\u0645 \\u0627\\u062d\\u062f \\u0645\\u0621\\u0647 \\u0627\\u0646 \\u062e\\u0633\\u0627\\u0621\\u0631 \\u0646\\u0647\\u064a \\u0646\\u0647\\u0627\\u0631 \\u0627\\u0631\\u062a\\u0641\\u0627\\u0639 \\u0639\\u0644\\u0627 \\u062f\\u0628 \\u0645\\u0641\\u0627\\u062c\\u0621 \\u0647\\u0632 \\u0627\\u0633\\u0648\\u0627\\u0642 \\u0645\\u0627\\u0644\\u064a\\u0647 \\u0627\\u0642\\u0644\\u064a\\u0645\\u064a\\u0647 \\u062f\\u0648\\u0644\\u064a\\u0647 \\u0627\\u064a\\u0627\\u0645 \\u0627\\u0633\\u0648\\u0627\\u0642 \\u0627\\u0633\\u062a\\u0627\\u0646\\u0641\\u062a \\u062d\\u0633 \\u0647\\u0627\\u064a \\u0627\\u0633\\u0628\\u0648\\u0639 \\u0631\\u0627\\u062c\\u0639 \\u0645\\u062e\\u0627\\u0648\\u0641 \\u0628\\u062f\\u0648 \\u0632\\u0627\\u0621 \\u0632\\u0645 \\u062f\\u064a \\u062f\\u0628\\u064a \\u0646\\u0639\\u0643\\u0633 \\u062a\\u062d\\u0633\\u0646 \\u0633\\u0648\\u0627\\u0642 \\u062e\\u0644\\u064a\\u062c \\u0627\\u062e\\u0631\\u064a \\u0633\\u0639\\u0648\\u062f\\u064a\\u0647 \\u0628\\u0631 \\u0627\\u0633\\u0648\\u0627\\u0642 \\u0645\\u0627\\u0644\\u064a\\u0647 \\u0639\\u0631\\u0628\\u064a\\u0647 \\u063a\\u0644\\u0642 \\u0645\\u0621\\u0634\\u0631 \\u0631\\u062a\\u0641\\u0627\\u0639 \\u0646\\u0633\\u0628 \\u0645\\u0621\\u0647 \\u0633\\u0648\\u0642 \\u0643\\u0648\\u064a\\u062a\\u064a\\u0647 \\u0643\\u0628\\u0631 \\u0627\\u0633\\u0648\\u0627\\u0642 \\u0645\\u0627\\u0644\\u064a\\u0647 \\u0639\\u0631\\u0628\\u064a\\u0647 \\u0627\\u063a\\u0644\\u0642 \\u0631\\u062a\\u0641\\u0627\\u0639 \\u0646\\u0633\\u0628 \\u0645\\u0621\\u0647 \\u0627\\u0646\\u062a \\u0633\\u0648\\u0642 \\u0643\\u0648\\u064a\\u062a \\u0627\\u0646\\u062a\\u0639\\u0634 \\u0627\\u0631\\u0628\\u0639\\u0627\\u0621 \\u0645\\u0627\\u0636 \\u0648\\u0645\\u064a \\u062e\\u0633\\u0627\\u0621\\u0631 \\u0633\\u0648\\u0642 \\u0642\\u0637\\u0631\\u064a\\u0647 \\u0627\\u063a\\u0644\\u0642 \\u064a\\u0636 \\u0631\\u062a\\u0641\\u0627\\u0639 \\u0646\\u0633\\u0628 \\u0645\\u0621\\u0647\",\n          \"\\u062d\\u0645\\u0644 \\u0627\\u0633\\u0631\\u0627\\u0621\\u064a\\u0644 \\u0645\\u0642\\u062a\\u0631\\u062d \\u0633\\u0648\\u064a\\u062f \\u0627\\u0639\\u062a\\u0631\\u0627\\u0641 \\u0642\\u062f\\u0633 \\u0639\\u0627\\u0635\\u0645 \\u0633\\u0637 \\u062c\\u0645\\u0639\\u0647 \\u0627\\u0644\\u062b\\u0627\\u0646\\u064a \\u064a\\u0646\\u0627\\u064a\\u0631 \\u062e\\u0631 \\u062d\\u062f\\u064a\\u062b \\u062d\\u0645\\u0644 \\u0627\\u0633\\u0631\\u0627\\u0621\\u064a\\u0644 \\u0645\\u0642\\u062a\\u0631\\u062d \\u0633\\u0648\\u064a\\u062f \\u0627\\u0639\\u062a\\u0631\\u0627\\u0641 \\u0642\\u062f\\u0633 \\u0639\\u0627\\u0635\\u0645 \\u0633\\u0637 \\u0646\\u0627\\u0634\\u0637 \\u0627\\u0633\\u0631\\u0627\\u0621\\u064a\\u0644\\u064a\\u0648\\u0646 \\u0646\\u062f\\u062f \\u0633\\u064a\\u0627\\u0633 \\u062d\\u0643\\u0648\\u0645\\u0647 \\u0642\\u062f\\u0633 \\u0642\\u062f\\u0633 \\u0642\\u0644\\u062a \\u062a\\u0642\\u0627\\u0631\\u064a\\u0631 \\u0627\\u0633\\u0631\\u0627\\u0621\\u064a\\u0644 \\u062b\\u0644\\u0627\\u062b\\u0627\\u0621 \\u0627\\u0646 \\u062d\\u0643\\u0648\\u0645\\u0647 \\u0642\\u0648\\u0645 \\u062d\\u0645\\u0644 \\u062f\\u0628\\u0644\\u0648\\u0645\\u0627\\u0633 \\u0645\\u0646\\u0639 \\u0627\\u062a\\u062d\\u0627\\u062f \\u0627\\u0648\\u0631\\u0648\\u0628 \\u0639\\u062a\\u0631\\u0627\\u0641 \\u0645\\u062d\\u062a\\u0645\\u0644 \\u0642\\u062f\\u0633 \\u0634\\u0631\\u0642\\u064a\\u0647 \\u0639\\u0627\\u0635\\u0645 \\u062f\\u0648\\u0644\\u0647 \\u0627\\u0644\\u0641\\u0644\\u0633\\u0637\\u064a\\u0646\\u064a\\u0647 \\u0645\\u0642\\u0628\\u0644\\u0647 \\u062c\\u0627\\u0621 \\u0639\\u0642\\u0628 \\u062a\\u0633\\u0631\\u064a\\u0628 \\u0646\\u0635 \\u0645\\u0633\\u0648\\u062f \\u0645\\u0628\\u0627\\u062f\\u0631 \\u0633\\u0648\\u064a\\u062f \\u0635\\u062f\\u062f \\u0639\\u0631\\u0636 \\u0632\\u0631\\u0627\\u0621 \\u062e\\u0627\\u0631\\u062c \\u0627\\u062a\\u062d\\u0627\\u062f \\u062c\\u062a\\u0645\\u0627\\u0639 \\u0631\\u0648\\u0643\\u0633\\u0644 \\u0627\\u062b\\u0646 \\u0645\\u0642\\u0628\\u0644 \\u062a\\u0636\\u0645 \\u0645\\u0628\\u0627\\u062f\\u0631\\u0647 \\u0633\\u0648\\u064a\\u062f\\u064a\\u0647 \\u0645\\u0632\\u0639\\u0648\\u0645\\u0647 \\u0634\\u0641 \\u0635\\u062d\\u064a\\u0641 \\u0647\\u0627\\u0631\\u062a\\u0633 \\u0627\\u0644\\u0627\\u0633\\u0631\\u0627\\u0621\\u064a\\u0644\\u064a\\u0647 \\u062f\\u0639\\u0648\\u0647 \\u0642\\u0633\\u064a\\u0645 \\u0642\\u062f\\u0633 \\u0643\\u0648 \\u0639\\u0627\\u0635\\u0645 \\u0627\\u0633\\u0631\\u0627\\u0621\\u064a\\u0644 \\u0641\\u0644\\u0633\\u0637\\u064a\\u0646 \\u0639\\u062a\\u0631\\u0627\\u0641 \\u062a\\u0643\\u062a\\u0644 \\u0627\\u0648\\u0631\\u0648\\u0628 \\u0627\\u064a \\u0639\\u0644\\u0627 \\u062d\\u0627\\u062f \\u062c\\u0627\\u0646\\u0628 \\u0627\\u0642\\u0627\\u0645 \\u062f\\u0648\\u0644\\u0647 \\u0627\\u0644\\u0641\\u0644\\u0633\\u0637\\u064a\\u0646\\u064a\\u0647 \\u0627\\u0636\\u0627\\u0641 \\u0635\\u062d\\u064a\\u0641\\u0647 \\u0645\\u0648\\u0642\\u0639 \\u0627\\u0644\\u0643\\u062a\\u0631\\u0648\\u0646 \\u0627\\u0646 \\u0627\\u0633\\u0631\\u0627\\u0621\\u064a\\u0644 \\u0634\\u0646 \\u062d\\u0645\\u0644 \\u062f\\u0628\\u0644\\u0648\\u0645\\u0627\\u0633 \\u0645\\u0646\\u0639 \\u0627\\u062a\\u062d\\u0627\\u062f \\u0627\\u0648\\u0631\\u0648\\u0628 \\u062a\\u0635\\u062f\\u064a\\u0642 \\u062a\\u0642\\u0631\\u064a\\u0631 \\u0627\\u0646 \\u0645\\u0635\\u0627\\u062f\\u0631 \\u062f\\u0628\\u0644\\u0648\\u0645\\u0627\\u0633 \\u0645\\u0637\\u0644\\u0639 \\u0645\\u0634\\u0627\\u0648\\u0631 \\u0627\\u062a\\u062d\\u0627\\u062f \\u0639\\u062a\\u0642\\u062f \\u0627\\u0646 \\u0627\\u0645\\u0631 \\u0636\\u062d \\u0646\\u0627\\u062d\\u064a\\u0647 \\u0639\\u0645\\u0644\\u064a\\u0647 \\u0645\\u0641\\u0631 \\u062e\\u0635\\u0635 \\u062c\\u0644\\u0633 \\u0627\\u062a\\u062d\\u0627\\u062f \\u0627\\u0648\\u0631\\u0648\\u0628 \\u0639\\u0642\\u062f \\u0631\\u0648\\u0643\\u0633\\u0644 \\u0633\\u0627\\u0628\\u0639 \\u062f\\u064a\\u0633\\u0645\\u0628\\u0631 \\u0643\\u0627\\u0646\\u0648\\u0646 \\u0627\\u0648\\u0644 \\u062c\\u0627\\u0631\\u064a \\u0628\\u062d\\u062b \\u0639\\u0645\\u0644 \\u0633\\u0644\\u0627\\u0645 \\u0627\\u0648\\u0633\\u0637 \\u0635\\u062f\\u0631 \\u062e\\u062a\\u0627\\u0645 \\u0642\\u0631\\u0627\\u0631 \\u062d\\u062f\\u062f \\u0633\\u064a\\u0627\\u0633 \\u0627\\u062a\\u062d\\u0627\\u062f \\u0635\\u062d\\u0641\\u064a\\u0647 \\u0627\\u0644\\u0627\\u0633\\u0631\\u0627\\u0621\\u064a\\u0644\\u064a\\u0647 \\u0627\\u0646 \\u0645\\u0634\\u0631\\u0648\\u0639 \\u0642\\u0631\\u0627\\u0631 \\u0633\\u0648\\u064a\\u062f \\u0639\\u0628\\u0631 \\u0642\\u0644\\u0642 \\u062c\\u0645\\u0648\\u062f \\u0633\\u064a\\u0627\\u0633\\u064a \\u062f\\u0639\\u0648 \\u062a\\u062c\\u062f\\u064a\\u062f \\u0639\\u0645\\u0644 \\u0633\\u0644\\u0627\\u0645 \\u0634\\u0643\\u0644 \\u0648\\u0631\\u064a \\u0631\\u064a \\u0627\\u0646 \\u0645\\u0641\\u0627\\u0648\\u0636 \\u0647\\u062f\\u0641 \\u0627\\u0642\\u0627\\u0645 \\u062f\\u0648\\u0644 \\u0633\\u0637\\u064a\\u0646 \\u0645\\u0633\\u062a\\u0642\\u0644 \\u062f\\u064a\\u0645\\u0642\\u0631\\u0627\\u0637\\u064a\\u0647 \\u0642\\u0627\\u0628\\u0644 \\u062d\\u064a\\u0627\\u0647 \\u0648\\u0627\\u0635\\u0644 \\u062c\\u063a\\u0631\\u0627\\u0641\\u064a \\u0634\\u0645\\u0644 \\u0636\\u0641\\u0647 \\u063a\\u0631\\u0628\\u064a\\u0647 \\u0642\\u0637\\u0627\\u0639 \\u063a\\u0632 \\u0639\\u0627\\u0635\\u0645 \\u0642\\u062f\\u0633 \\u0634\\u0631\\u0642\\u064a\\u0647 \\u0639\\u0628\\u0631 \\u0645\\u0634\\u0631\\u0648\\u0639 \\u0642\\u0631\\u0627\\u0631 \\u0642\\u0644\\u0642 \\u0627\\u062a\\u062d\\u0627\\u062f \\u0627\\u0648\\u0631\\u0648\\u0628 \\u0634\\u062f\\u064a\\u062f \\u0632\\u0627\\u0621 \\u0627\\u0648\\u0636\\u0627\\u0639 \\u0642\\u062f\\u0633 \\u0634\\u0631\\u0642\\u064a\\u0647 \\u0627\\u0644\\u0645\\u062c\\u0644\\u0633 \\u062f\\u0639\\u0648 \\u0627\\u0637\\u0631\\u0627\\u0641 \\u0627\\u0645\\u062a\\u0646\\u0627\\u0639 \\u0642\\u064a\\u0627\\u0645 \\u062e\\u0637\\u0648 \\u0627\\u0633\\u062a\\u0641\\u0632\\u0627\\u0632\\u064a\\u0647 \\u0630\\u0643\\u0631 \\u0645\\u062c\\u0644\\u0633 \\u0627\\u062a\\u062d\\u0627\\u062f \\u0627\\u0648\\u0631\\u0648\\u0628 \\u0639\\u062a\\u0631\\u0641 \\u0645\\u0637\\u0644\\u0642 \\u0636\\u0645 \\u0642\\u062f\\u0633 \\u0634\\u0631\\u0642\\u064a\\u0647 \\u0631\\u064a\\u062f \\u0627\\u0646 \\u0643\\u0648 \\u0633\\u0644\\u0627\\u0645 \\u062d\\u0642\\u064a\\u0642\\u064a \\u062c\\u0628 \\u064a\\u062c\\u0627\\u062f \\u0639\\u062b\\u0648\\u0631 \\u062d\\u0644 \\u0648\\u0636\\u0639 \\u0642\\u062f\\u0633 \\u0639\\u0627\\u0635\\u0645 \\u0644\\u0644\\u062f\\u0648\\u0644\\u062a\\u064a\\u0646 \\u062f\\u0639\\u0648 \\u0645\\u062c\\u0644\\u0633 \\u062a\\u062d \\u0645\\u0621\\u0633\\u0633 \\u0627\\u0644\\u0641\\u0644\\u0633\\u0637\\u064a\\u0646\\u064a\\u0647 \\u0642\\u062f\\u0633 \\u0641\\u0642 \\u062e\\u0627\\u0631\\u0637 \\u0637\\u0631\\u064a\\u0642 \\u062f\\u0639\\u0648 \\u062d\\u0643\\u0648\\u0645\\u0647 \\u0627\\u0644\\u0627\\u0633\\u0631\\u0627\\u0621\\u064a\\u0644\\u064a\\u0647 \\u0642\\u0641 \\u0627\\u0641 \\u0634\\u0643\\u0627\\u0644 \\u062a\\u0645\\u064a\\u0632 \\u0636\\u062f \\u0641\\u0644\\u0633\\u0637\\u064a\\u0646 \\u0642\\u062f\\u0633 \\u0634\\u0631\\u0642\\u064a\\u0647 \\u0647\\u0627\\u0631\\u062a\\u0633 \\u062a\\u0637\\u0631\\u0642 \\u0645\\u0634\\u0631\\u0648\\u0639 \\u0642\\u0631\\u0627\\u0631 \\u0627\\u0639\\u0644 \\u0627\\u0633\\u0631\\u0627\\u0621\\u064a\\u0644 \\u062c\\u0632\\u0621 \\u0645\\u0621\\u0642\\u062a \\u062c\\u0645\\u064a\\u062f \\u0627\\u0633\\u062a\\u064a\\u0637 \\u0627\\u0642\\u062a\\u0636\\u0627\\u0628 \\u0639\\u062a\\u0628\\u0631 \\u062e\\u0637 \\u062c\\u062f\\u064a\\u062f \\u0627\\u0644\\u0645\\u0641\\u0627\\u0648\\u0636\\u0627\\u062a \\u0645\\u062c\\u0644\\u0633 \\u0632\\u0631\\u0627\\u0621 \\u062e\\u0627\\u0631\\u062c\\u064a\\u0647 \\u0633\\u062c\\u0644 \\u0645\\u0627\\u0645 \\u0642\\u0631\\u0627\\u0631 \\u062d\\u0643\\u0648\\u0645\\u0647 \\u0627\\u0644\\u0627\\u0633\\u0631\\u0627\\u0621\\u064a\\u0644\\u064a\\u0647 \\u062c\\u0645\\u064a\\u062f \\u0628\\u0646\\u0627\\u0621 \\u0645\\u0633\\u062a\\u0648\\u0637\\u0646 \\u0634\\u0643\\u0644 \\u062c\\u0632\\u0621 \\u0645\\u0621\\u0642\\u062a \\u064a\\u0627\\u0645\\u0644 \\u0627\\u0646 \\u0643\\u0648 \\u062e\\u0637 \\u0627\\u062a\\u062c\\u0627 \\u062c\\u062f\\u064a\\u062f \\u0627\\u0644\\u0645\\u0641\\u0627\\u0648\\u0636\\u0627\\u062a \\u0634\\u064a\\u0631 \\u0645\\u0634\\u0631\\u0648\\u0639 \\u0642\\u0631\\u0627\\u0631 \\u062d\\u0648\\u0627\\u062c\\u0632 \\u0643\\u062b\\u064a\\u0631\\u0647 \\u0639\\u064a\\u0642 \\u0646\\u0642\\u0644 \\u0641\\u0644\\u0633\\u0637\\u064a\\u0646 \\u0636\\u0641\\u0647 \\u063a\\u0631\\u0628\\u064a\\u0647 \\u0628\\u0642\\u064a\\u062a \\u062d\\u0648\\u0627\\u062c\\u0632 \\u062b\\u064a\\u0631 \\u0645\\u0643\\u0627 \\u062c\\u0644 \\u0648\\u0641\\u064a\\u0631 \\u062d\\u0645\\u0627\\u064a\\u0647 \\u0644\\u0644\\u0645\\u0633\\u062a\\u0648\\u0637\\u0646\\u0627\\u062a \\u0631\\u0648\\u0627\\u0628\\u0637 \\u0639\\u0644\\u0627\\u0642 \\u0639\\u0631\\u064a\\u0642\\u0627\\u062a \\u0637\\u0644\\u0628 \\u0639\\u0644\\u0627 \\u062f\\u0648\\u0644\\u0647 \\u0627\\u0644\\u0641\\u0644\\u0633\\u0637\\u064a\\u0646\\u064a\\u0647 \\u062d\\u0631\\u0643 \\u062d\\u0627\\u062f \\u062c\\u0627\\u0646\\u0628 \\u062d\\u0643\\u0648\\u0645\\u0647 \\u0627\\u0644\\u0627\\u0633\\u0631\\u0627\\u0621\\u064a\\u0644\\u064a\\u0647 \\u0648\\u0627\\u0641\\u0642 \\u062e\\u0637 \\u062c\\u0645\\u064a\\u062f \\u0627\\u0633\\u062a\\u064a\\u0637 \\u0627\\u0645\\u0631\\u064a\\u0643 \\u0646\\u062f\\u062f \\u062a\\u062d\\u0631 \\u0627\\u0633\\u0631\\u0627\\u0621\\u064a\\u0644 \\u0628\\u0646\\u0627\\u0621 \\u062d\\u062f \\u0633\\u0643\\u0646 \\u0642\\u062f\\u0633 \\u0634\\u0631\\u0642\\u064a\\u0647 \\u0634\\u0627\\u0646 \\u062d\\u062f\\u0648\\u062f \\u0634\\u062f\\u062f \\u0627\\u062a\\u062d\\u0627\\u062f \\u0627\\u0648\\u0631\\u0648\\u0628 \\u0646\\u0647 \\u0627\\u064a \\u062d\\u062f\\u0648\\u062f \\u0639\\u0627\\u0645 \\u0645\\u0648\\u0627\\u0641\\u0642 \\u0627\\u0644\\u0641\\u0644\\u0633\\u0637\\u064a\\u0646\\u064a\\u0646 \\u062b\\u0646\\u064a \\u062e\\u0637 \\u0631\\u0621\\u064a\\u0633 \\u0648\\u0632\\u0631\\u0627\\u0621 \\u0641\\u0644\\u0633\\u0637\\u064a\\u0646 \\u0633\\u0644\\u0627\\u0645 \\u064a\\u0627\\u0636 \\u0634\\u064a\\u0631 \\u0627\\u0646 \\u0627\\u062a\\u062d\\u0627\\u062f \\u0627\\u0648\\u0631\\u0648\\u0628 \\u0633\\u064a\\u062a\\u0645 \\u0645\\u0646\\u0627\\u0633\\u0628 \\u0627\\u0639\\u062a\\u0631\\u0627\\u0641 \\u062f\\u0648\\u0644 \\u0641\\u0644\\u0633\\u0637\\u064a\\u0646\\u064a\\u0647 \\u0632\\u0639\\u0645 \\u0647\\u0627\\u0631\\u062a\\u0633 \\u0627\\u0646 \\u062e\\u0627\\u0631\\u062c\\u064a\\u0647 \\u0627\\u0644\\u0627\\u0633\\u0631\\u0627\\u0621\\u064a\\u0644\\u064a\\u0647 \\u0641\\u0633\\u0631 \\u0641\\u0642\\u0631\\u0647 \\u0627\\u0646 \\u0627\\u062a\\u062d\\u0627\\u062f \\u0627\\u0648\\u0631\\u0648\\u0628 \\u0639\\u062a\\u0631\\u0641 \\u062f\\u0648\\u0644 \\u0633\\u0637\\u064a\\u0646 \\u0645\\u0633\\u062a\\u0642\\u0644 \\u062c\\u0627\\u0646\\u0628 \\u062d\\u0627\\u0644 \\u0627\\u0644\\u0641\\u0644\\u0633\\u0637\\u064a\\u0646\\u064a\\u0648\\u0646 \\u0627\\u0636\\u0627\\u0641 \\u0627\\u0646 \\u0645\\u0645\\u062b\\u0644 \\u0627\\u0633\\u0631\\u0627\\u0621\\u064a\\u0644 \\u062f\\u0648\\u0644 \\u0627\\u062a\\u062d\\u0627\\u062f \\u0627\\u0648\\u0631\\u0648\\u0628 \\u062a\\u0627\\u0628\\u0639 \\u0645\\u0628\\u0627\\u062f\\u0631\\u0647 \\u0633\\u0648\\u064a\\u062f\\u064a\\u0647 \\u0627\\u0633\\u0627\\u0628\\u064a\\u0639 \\u0646\\u0647 \\u0627\\u0631\\u0633\\u0644 \\u0645\\u0621\\u062e\\u0631 \\u0639\\u062f \\u0631\\u0642 \\u062d\\u0630\\u0631 \\u062a\\u062f\\u0627\\u0639 \\u0645\\u0634\\u0631\\u0648\\u0639 \\u0642\\u0631\\u0627\\u0631 \\u0633\\u0648\\u064a\\u062f\\u064a \\u062a\\u0647\\u0645 \\u0633\\u0641\\u064a\\u0631 \\u0627\\u0633\\u0631\\u0627\\u0621\\u064a\\u0644 \\u0645\\u0621\\u0633\\u0633 \\u0627\\u062a\\u062d\\u0627\\u062f \\u0627\\u0648\\u0631\\u0648\\u0628 \\u0631\\u0648\\u0643\\u0633\\u064a\\u0644 \\u0631\\u0627 \\u0648\\u0631\\u064a\\u0627\\u0644 \\u0633\\u0648\\u064a\\u062f \\u0631\\u0642 \\u0631\\u0633\\u0644 \\u062e\\u0627\\u0631\\u062c\\u064a\\u0647 \\u0627\\u0644\\u0627\\u0633\\u0631\\u0627\\u0621\\u064a\\u0644\\u064a\\u0647 \\u0627\\u0633\\u0628\\u0648\\u0639 \\u0645\\u0627\\u0636 \\u0627\\u0646 \\u062a\\u0642\\u0648\\u062f \\u0627\\u062a\\u062d\\u0627\\u062f \\u0627\\u0648\\u0631\\u0648\\u0628 \\u0645\\u0633\\u0627\\u0631 \\u0635\\u062f\\u0627\\u0645 \\u0627\\u0633\\u0631\\u0627\\u0621\\u064a\\u0644 \\u0642\\u0627\\u0644 \\u0645\\u0633\\u0621\\u0648\\u0644 \\u062e\\u0627\\u0631\\u062c\\u064a\\u0647 \\u0627\\u0644\\u0627\\u0633\\u0631\\u0627\\u0621\\u064a\\u0644\\u064a\\u0647 \\u0627\\u0646 \\u0633\\u0648\\u064a\\u062f \\u062a\\u0642\\u0648\\u062f \\u062e\\u0637 \\u0645\\u0639\\u0627\\u062f\\u064a \\u0627\\u0633\\u0631\\u0627\\u0621\\u064a\\u0644 \\u0634\\u062f\\u0647 \\u0646\\u0627 \\u0627\\u062a\\u062d\\u0627\\u062f \\u0627\\u0648\\u0631\\u0648\\u0628 \\u0639\\u0645\\u0644 \\u0633\\u0644\\u0627\\u0645 \\u0627\\u0645\\u0631 \\u0639\\u0627\\u0645 \\u0627\\u0646\\u062a\\u0642\\u062f \\u0645\\u0635\\u0627\\u062f\\u0631 \\u0631\\u0641\\u064a\\u0639 \\u0645\\u0633\\u062a\\u0648 \\u0632\\u0627\\u0631 \\u062e\\u0627\\u0631\\u062c\\u064a\\u0647 \\u0645\\u0642\\u062a\\u0631\\u062d \\u0645\\u0646\\u0633\\u0648\\u0628 \\u0633\\u0648\\u064a\\u062f \\u0648\\u0646 \\u064a\\u062b\\u064a\\u0631 \\u0627\\u0633\\u062a\\u063a\\u0631\\u0627\\u0628 \\u0642\\u0644 \\u062a\\u0639\\u0628\\u064a\\u0631 \\u062d\\u0633\\u0628\\u0645 \\u0642\\u0644\\u062a \\u0630\\u0627\\u0639 \\u0627\\u0633\\u0631\\u0627\\u0621\\u064a\\u0644 \\u0630\\u0643\\u0631 \\u0645\\u0635\\u0627\\u062f\\u0631 \\u0627\\u0646 \\u0627\\u064a \\u0645\\u0645\\u062b\\u0644 \\u0633\\u0648\\u064a\\u062f \\u0631\\u0633\\u0645 \\u0621\\u062f \\u0632\\u064a\\u0627\\u0631 \\u0627\\u0633\\u0631\\u0627\\u0621\\u064a\\u0644 \\u0648\\u0644 \\u0644\\u0627\\u062f \\u0631\\u0621\\u0627\\u0633\\u0647 \\u062f\\u0648\\u0631\\u064a\\u0647 \\u0627\\u062a\\u062d\\u0627\\u062f \\u062e\\u0645\\u0633 \\u0627\\u0634\\u0647\\u0631 \\u0642\\u0627\\u0644 \\u0627\\u0646 \\u062f\\u0628\\u0644\\u0648\\u0645\\u0627\\u0633 \\u0627\\u0633\\u0631\\u0627\\u0621\\u064a\\u0644 \\u0645\\u0639\\u062a\\u0645\\u062f \\u062f\\u0648\\u0644 \\u0627\\u0648\\u0631\\u0648\\u0628\\u064a\\u0647 \\u0639\\u0645\\u0644 \\u062c\\u0627\\u0647\\u062f \\u0642\\u0644\\u064a\\u0635 \\u062d\\u062c\\u0645 \\u0627\\u0636\\u0631\\u0627\\u0631 \\u062a\\u0639\\u0631\\u0636 \\u0639\\u0644\\u0627\\u0642 \\u0627\\u0633\\u0631\\u0627\\u0621\\u064a\\u0644 \\u062e\\u0627\\u0631\\u062c\\u064a\\u0647 \\u062a\\u0645 \\u0637\\u0628\\u064a\\u0642 \\u062e\\u0637\\u0647 \\u0633\\u0648\\u064a\\u062f\\u064a\\u0647 \\u0631\\u0636 \\u0648\\u0627\\u0642\\u0639 \\u062d\\u062f \\u062a\\u0639\\u0628\\u064a\\u0631\\u0647\\u0627 \\u062c\\u0627\\u0646\\u0628\\u0647\\u0627 \\u0639\\u062b\\u062a \\u0631\\u0621\\u064a\\u0633 \\u062d\\u0632\\u0628 \\u0643\\u0627\\u062f\\u064a\\u0645\\u0627 \\u0633\\u064a\\u0628 \\u064a\\u0641\\u0646\\u064a \\u062b\\u0644\\u0627\\u062b\\u0627\\u0621 \\u0631\\u0633\\u0627\\u0644 \\u0632\\u064a\\u0631 \\u062e\\u0627\\u0631\\u062c\\u064a\\u0647 \\u0633\\u0648\\u064a\\u062f\\u064a \\u0627\\u0631\\u0644 \\u064a\\u0644\\u062f\\u062a \\u0637\\u0627\\u0644\\u0628 \\u0633\\u0648\\u064a\\u062f \\u062a\\u0631\\u0627\\u062c\\u0639 \\u0645\\u0628\\u0627\\u062f\\u0631\\u0647 \\u0634\\u0627\\u0646 \\u0642\\u0633\\u064a\\u0645 \\u0642\\u062f\\u0633 \\u0627\\u0639\\u0644 \\u0642\\u062f\\u0633 \\u0634\\u0631\\u0642\\u064a\\u0647 \\u0639\\u0627\\u0635\\u0645 \\u062f\\u0648\\u0644\\u0647 \\u0627\\u0644\\u0641\\u0644\\u0633\\u0637\\u064a\\u0646\\u064a\\u0647 \\u0645\\u062f\\u0639 \\u0646\\u0647 \\u0645\\u0633 \\u0627\\u0645\\u0643\\u0627\\u0646 \\u0639\\u0648\\u062f\\u0647 \\u0627\\u0644\\u0645\\u0641\\u0627\\u0648\\u0636\\u0627\\u062a \\u062c\\u0627\\u0621 \\u0631\\u0633\\u0627\\u0644 \\u0641\\u0646\\u064a \\u0646\\u0647 \\u062a\\u0642\\u0627\\u0631\\u064a\\u0631 \\u0635\\u0641 \\u0628\\u0640 \\u0627\\u0644\\u0645\\u0642\\u0644\\u0642\\u0647 \\u0634\\u0627\\u0646 \\u062b\\u064a\\u0642 \\u0627\\u062a\\u062d\\u0627\\u062f \\u0627\\u0648\\u0631\\u0648\\u0628 \\u062d\\u062f\\u062f \\u0645\\u0648\\u0642\\u0641 \\u0627\\u062a\\u062d\\u0627\\u062f \\u0642\\u062f\\u0633 \\u0646\\u0647 \\u0639\\u0628\\u0631 \\u0642\\u0644\\u0642 \\u0635\\u0641 \\u0627\\u0646 \\u0645\\u062d\\u0627\\u0648\\u0644 \\u062d\\u062f\\u064a\\u062f \\u062a\\u0627\\u0621\\u062c \\u0645\\u0641\\u0627\\u0648\\u0636 \\u0645\\u0648\\u0636\\u0648\\u0639 \\u062d\\u0633\\u0627\\u0633 \\u0645\\u0641\\u0627\\u0648\\u0636 \\u0634\\u0627\\u0646 \\u062d\\u0644 \\u062f\\u0627\\u0621\\u0645 \\u0634\\u0643\\u0644 \\u0645\\u0633\\u0628\\u0642 \\u062d\\u062f \\u062a\\u0639\\u0628\\u064a\\u0631\\u0647\\u0627 \\u062d\\u062b \\u0641\\u0646\\u064a \\u0632\\u064a\\u0631 \\u062e\\u0627\\u0631\\u062c\\u064a\\u0647 \\u0633\\u0648\\u064a\\u062f \\u0627\\u0645\\u062a\\u0646\\u0627\\u0639 \\u0627\\u064a \\u0645\\u0648\\u0642\\u0641 \\u0634\\u0627\\u0646 \\u0642\\u062f\\u0633 \\u0627\\u0636\\u0627\\u0641 \\u0646\\u0647 \\u0639\\u062a\\u0642\\u062f \\u0646\\u0647 \\u0627\\u0637\\u0631\\u0627\\u0641 \\u0639\\u0648\\u062f\\u0647 \\u0645\\u0641\\u0627\\u0648\\u0636 \\u0646\\u0642\\u0637\\u0647 \\u062a\\u0648\\u0642\\u0641 \\u064a\\u0647\\u0627 \\u0627\\u0648\\u0631\\u062f \\u0647\\u0627\\u0631\\u062a\\u0633 \\u062c\\u0627\\u0646\\u0628 \\u0627\\u0644\\u0641\\u0644\\u0633\\u0637\\u064a\\u0646\\u064a \\u0627\\u0639\\u062a\\u0628\\u0631 \\u0631\\u0644\\u0645\\u0627\\u0646 \\u062a\\u0634\\u0631\\u064a\\u0639 \\u0641\\u0644\\u0633\\u0637\\u064a\\u0646 \\u062a\\u0644 \\u0641\\u062a\\u062d \\u0627\\u0646 \\u062e\\u0637 \\u0627\\u062a\\u062d\\u0627\\u062f \\u0627\\u0648\\u0631\\u0648\\u0628 \\u0645\\u0632\\u0645\\u0639\\u0647 \\u062a\\u062d\\u0642\\u0642\\u062a \\u0639\\u062a\\u0628\\u0631 \\u062e\\u0637 \\u0647\\u0627\\u0645 \\u0635\\u0639\\u064a\\u062f \\u062d\\u0642\\u064a\\u0642 \\u062d\\u0644\\u0645 \\u0648\\u0637\\u0646 \\u0627\\u0642\\u0627\\u0645 \\u062f\\u0648\\u0644\\u0647 \\u0645\\u0633\\u062a\\u0642\\u0644\\u0647 \\u0639\\u0627\\u0635\\u0645 \\u0642\\u062f\\u0633 \\u0634\\u0631\\u064a\\u0641 \\u0642\\u0644\\u062a \\u0627\\u0644 \\u0627\\u0643\\u064a \\u0627\\u064a\\u0637\\u0627\\u0644\\u064a\\u0647 \\u062c\\u0647\\u0627\\u062f \\u0628\\u0648 \\u0632\\u0646\\u064a\\u062f \\u0642\\u0648\\u0644 \\u0636\\u0631\\u0648\\u0631 \\u0648\\u062d\\u064a\\u062f \\u062c\\u0647\\u0648\\u062f \\u062f\\u0639\\u0645 \\u0645\\u0633\\u0627\\u0639 \\u0642\\u064a\\u0627\\u062f\\u0647 \\u0627\\u0644\\u0641\\u0644\\u0633\\u0637\\u064a\\u0646\\u064a\\u0647 \\u0645\\u0645\\u062b\\u0644 \\u0631\\u0621\\u064a\\u0633 \\u0645\\u062d\\u0645\\u0648\\u062f \\u0639\\u0628\\u0627\\u0633 \\u062a\\u0648\\u062c\\u0647 \\u0645\\u062c\\u0644\\u0633 \\u0627\\u0645\\u0646 \\u0627\\u0633\\u062a\\u0635\\u062f\\u0627\\u0631 \\u0642\\u0631\\u0627\\u0631 \\u0627\\u0639\\u062a\\u0631\\u0627\\u0641 \\u062f\\u0648\\u0644\\u0647 \\u0627\\u0644\\u0641\\u0644\\u0633\\u0637\\u064a\\u0646\\u064a\\u0647 \\u0627\\u0636\\u0627\\u0641 \\u0627\\u0646 \\u0648\\u062b\\u064a\\u0642\\u0647 \\u0647\\u0627\\u0645 \\u062d\\u0627\\u062c \\u0637\\u0628\\u064a\\u0642 \\u0639\\u0645\\u0644 \\u0627\\u0631\\u0636 \\u0632\\u0627\\u0645 \\u0627\\u0633\\u0631\\u0627\\u0621\\u064a\\u0644 \\u0627\\u0639\\u062a\\u0631\\u0627\\u0641 \\u062d\\u0642\\u0648\\u0642 \\u0627\\u0628\\u0646\\u0627\\u0621 \\u0634\\u0639\\u0628 \\u0641\\u0644\\u0633\\u0637\\u064a\\u0646 \\u0641\\u0642 \\u0642\\u0631\\u0627\\u0631 \\u062f\\u0648\\u0644\\u064a\\u0647 \\u0635\\u0644\\u0647 \\u0642\\u0641 \\u0627\\u0633\\u062a\\u064a\\u0637 \\u0643\\u0627\\u0641 \\u0627\\u0634\\u0643\\u0627\\u0644\\u0647 \\u0627\\u0643\\u064a\",\n          \"\\u0627\\u0644\\u0641\\u064a\\u0641\\u0627 \\u0631\\u0635\\u062f \\u0644\\u062d\\u0638 \\u0645\\u0644\\u0627\\u0639\\u0628 \\u0643\\u0631\\u0647 \\u0639\\u0631\\u0628\\u064a\\u0647 \\u0627\\u0631\\u0628\\u0639\\u0627\\u0621 \\u0627\\u0644\\u0627\\u0648\\u0644 \\u062f\\u064a\\u0633\\u0645\\u0628\\u0631 \\u062e\\u0631 \\u062d\\u062f\\u064a\\u062b \\u0627\\u0644\\u0641\\u064a\\u0641\\u0627 \\u0631\\u0635\\u062f \\u0644\\u062d\\u0638 \\u0645\\u0644\\u0627\\u0639\\u0628 \\u0643\\u0631\\u0647 \\u0639\\u0631\\u0628\\u064a\\u0647 \\u0631\\u0627\\u0633 \\u062d\\u0645\\u0635 \\u0637\\u0631\\u064a\\u0642 \\u0645\\u0631\\u0645 \\u064a\\u0637\\u0627\\u0644\\u064a \\u0637\\u0648\\u0644 \\u0627\\u0633 \\u0639\\u0627\\u0644\\u0645 \\u0634\\u0628\\u0627\\u0628 \\u062f\\u0628\\u064a \\u0627\\u0645\\u0627\\u0631 \\u0639\\u0631\\u0628\\u064a\\u0647 \\u0645\\u062a\\u062d\\u062f\\u0647 \\u0634\\u0647\\u062f \\u0639\\u0627\\u0645 \\u0648\\u0634 \\u0646\\u0647\\u0627\\u064a\\u062a\\u0647 \\u0643\\u062b\\u064a\\u0631 \\u0627\\u062d\\u062f\\u0627\\u062b \\u0631\\u064a\\u0627\\u0636\\u064a\\u0647 \\u0634\\u0647\\u062f \\u0645\\u0644\\u0627\\u0639\\u0628 \\u0631\\u0647 \\u0642\\u062f\\u0645 \\u0628\\u0631\\u0632 \\u062a\\u0627\\u0647\\u0644 \\u0645\\u0646\\u062a\\u062e\\u0628 \\u062c\\u0632\\u0627\\u0621\\u0631 \\u0646\\u0647\\u0627\\u0621 \\u0627\\u0633 \\u0639\\u0627\\u0644\\u0645 \\u0641\\u0631\\u064a\\u0642\\u064a \\u062d\\u0633\\u0627\\u0628 \\u0638\\u064a\\u0631 \\u0645\\u0635\\u0631\\u064a \\u0627\\u0636\\u0627\\u0641\\u0647 \\u0641\\u0648\\u0632 \\u062a\\u0627\\u0631\\u064a\\u062e \\u062d\\u0631\\u0632 \\u0627\\u062e\\u064a\\u0631 \\u0645\\u0646\\u062a\\u062e\\u0628 \\u0627\\u064a\\u0637\\u0627\\u0644\\u064a\\u0627 \\u0637\\u0644 \\u0639\\u0627\\u0644\\u0645 \\u0637\\u0648\\u0644 \\u0627\\u0633 \\u0639\\u0627\\u0644\\u0645 \\u0642\\u0627\\u0631\\u0627\\u062a \\u062c\\u0627\\u0621 \\u0645\\u0648\\u0642\\u0639 \\u0627\\u062a\\u062d\\u0627\\u062f \\u062f\\u0648\\u0644 \\u0643\\u0631 \\u0642\\u062f\\u0645 \\u0627\\u0644\\u0641\\u064a\\u0641\\u0627 \\u0634\\u0647\\u062f \\u0635\\u064a\\u0641 \\u0645\\u0627\\u0636 \\u062d\\u062f \\u0644\\u062d\\u0638 \\u062a\\u0627\\u0631\\u064a\\u062e \\u0643\\u0631\\u0647 \\u0639\\u0631\\u0628\\u064a\\u0647 \\u062a\\u0636\\u0645\\u0646 \\u0637\\u0648\\u0644 \\u0627\\u0633 \\u0642\\u0627\\u0631 \\u0641\\u0631\\u064a\\u0642\\u064a \\u0645\\u0628\\u0627\\u0631\\u0627 \\u0633\\u0631\\u062a \\u0639\\u062f\\u064a\\u062f \\u0627\\u0631\\u0642\\u0627\\u0645 \\u0639\\u062f\\u0645\\u0627 \\u0645\\u0643 \\u0645\\u0646\\u062a\\u062e\\u0628 \\u0645\\u0635\\u0631 \\u0647\\u0632\\u064a\\u0645 \\u0628\\u0637\\u0627\\u0644 \\u0639\\u0627\\u0644\\u0645 \\u064a\\u0637\\u0627\\u0644\\u064a \\u0647\\u062f\\u0641 \\u0631\\u062f \\u0647\\u062f\\u0641 \\u0645\\u062d\\u0645\\u062f \\u062d\\u0645\\u0635 \\u062d\\u0631\\u0632 \\u062f\\u0642\\u064a\\u0642\\u0647 \\u0645\\u0628\\u0627\\u0631\\u0627\\u0647 \\u0633\\u0628\\u0628 \\u0627\\u0646 \\u0633\\u062c\\u0644 \\u0645\\u0635\\u0631 \\u0633\\u0645 \\u0633\\u062c\\u0644 \\u062a\\u0627\\u0631\\u064a\\u062e \\u0627\\u0635\\u0628\\u062d \\u0648\\u0644 \\u0631\\u064a\\u0642 \\u0641\\u0631\\u064a\\u0642 \\u0642\\u0647\\u0631 \\u0627\\u0632\\u0648\\u0631\\u064a \\u0627\\u0646\\u062a \\u0645\\u0628\\u0627\\u0631\\u0627\\u0647 \\u064a\\u0636 \\u0648\\u0644 \\u0645\\u0628\\u0627\\u0631\\u0627 \\u0641\\u0648\\u0632 \\u0641\\u0631\\u0627\\u0639\\u0646\\u0647 \\u0627\\u0633 \\u0642\\u0627\\u0631\\u0627\\u062a \\u0633\\u0628\\u062a\\u0645\\u0628\\u0631 \\u0627\\u064a\\u0644\\u0648\\u0644 \\u0642\\u0639 \\u062d\\u062f \\u0645\\u0646\\u0627\\u0632\\u0644 \\u0639\\u0631\\u0628\\u064a\\u0647 \\u062a\\u0642 \\u0645\\u0646\\u062a\\u062e\\u0628 \\u0633\\u0639\\u0648\\u062f \\u0646\\u0638\\u064a\\u0631 \\u0628\\u062d\\u0631\\u064a\\u0646\\u064a \\u0645\\u0628\\u0627\\u0631\\u0627 \\u0645\\u0644\\u062d\\u0642 \\u0627\\u0633\\u064a\\u0648\\u064a \\u0641\\u0648\\u0632 \\u0645\\u0643\\u0627\\u0646 \\u0645\\u0644\\u062d\\u0642 \\u0627\\u0633\\u064a\\u0627 \\u0627\\u0648\\u0642\\u064a\\u0627\\u0646\\u0648\\u0633\\u064a\\u0627 \\u062a\\u0635\\u0641 \\u0645\\u0621\\u0647\\u0644\\u0647 \\u0628\\u0637\\u0648\\u0644 \\u0627\\u0633 \\u0639\\u0627\\u0644\\u0645 \\u0627\\u0646\\u062a \\u0645\\u0628\\u0627\\u0631\\u0627 \\u0630\\u0647\\u0627\\u0628 \\u0627\\u0646\\u062a\\u0647 \\u062a\\u0639\\u0627\\u062f\\u0644 \\u0633\\u0644\\u0628 \\u0645\\u0646\\u0627\\u0645\\u0647 \\u062c\\u0627\\u0621 \\u0645\\u0628\\u0627\\u0631\\u0627 \\u0639\\u0648\\u062f\\u0647 \\u0633\\u0627\\u062e \\u062d\\u062a \\u062e\\u0631 \\u062f\\u0642\\u064a\\u0642\\u0647 \\u062a\\u0639\\u0627\\u062f\\u0644 \\u0647\\u062f\\u0641 \\u0633\\u064a\\u062f \\u0645\\u0648\\u0642\\u0641 \\u062a\\u064a\\u062c \\u0635\\u0628 \\u0637\\u0628\\u0639 \\u0635\\u0627\\u0644\\u062d \\u0645\\u0646\\u062a\\u062e\\u0628 \\u0628\\u062d\\u0631\\u064a\\u0646\\u064a \\u0645\\u0646\\u062a\\u062e\\u0628 \\u0633\\u0639\\u0648\\u062f \\u062c\\u062d \\u062d\\u0631\\u0627\\u0632 \\u0647\\u062f\\u0641 \\u062a\\u0642\\u062f\\u0645 \\u062f\\u0642\\u064a\\u0642\\u0647 \\u0637\\u0631\\u064a\\u0642 \\u0631\\u0627\\u0633 \\u062d\\u0645\\u062f \\u0645\\u0646\\u062a\\u0634\\u0631\\u064a \\u0631\\u0648\\u0627\\u0628\\u0637 \\u0639\\u0644\\u0627\\u0642 \\u0647\\u062f\\u0641 \\u0639\\u0627\\u062f\\u0644 \\u0627\\u0633 \\u0639\\u0627\\u0644\\u0645 \\u062c\\u0632\\u0627\\u0621\\u0631 \\u0646\\u062a\\u0632\\u0639 \\u062a\\u0627\\u0647\\u0644 \\u0645\\u0648\\u0646\\u062f\\u064a\\u0627\\u0644 \\u0645\\u0635\\u0631 \\u062c\\u0632\\u0627\\u0621\\u0631 \\u0645\\u062d\\u0637 \\u0637\\u0631\\u064a\\u0642 \\u0645\\u0648\\u0627\\u062c\\u0647\\u0647 \\u0627\\u0645\\u0627\\u0631 \\u0631\\u0628\\u0639 \\u0647\\u0627\\u0621\\u064a \\u0645\\u0648\\u0646\\u062f\\u064a\\u0627\\u0644 \\u0634\\u0628\\u0627\\u0628 \\u062d\\u0633\\u0627\\u0628 \\u0646\\u0632\\u0648\\u064a\\u0644 \\u0639\\u0627\\u062f\\u0644 \\u0627\\u0644\\u0633\\u0639\\u0648\\u062f\\u064a\\u0647 \\u0628\\u062d\\u0631 \\u0639\\u062a\\u0627\\u0628 \\u0645\\u0648\\u0646\\u062f\\u064a\\u0627\\u0644 \\u064a\\u0646\\u0645\\u0627 \\u062c\\u0645\\u0647\\u0648\\u0631 \\u0633\\u0639\\u0648\\u062f \\u062d\\u062a\\u0641\\u0644 \\u0641\\u0648\\u0632 \\u0630\\u0647\\u0644 \\u0644\\u0627\\u0639\\u0628 \\u0628\\u062d\\u0631\\u064a\\u0646 \\u0627\\u0633\\u0645\\u0627\\u0639\\u064a\\u0644 \\u0639\\u0628\\u062f \\u0644\\u0637\\u064a\\u0641 \\u0639\\u0646\\u062f\\u0645 \\u062d\\u0631\\u0632 \\u0647\\u062f\\u0641 \\u062a\\u0639\\u0627\\u062f\\u0644 \\u0645\\u0646\\u062a\\u062e\\u0628 \\u0628\\u062d\\u0631\\u064a\\u0646 \\u062f\\u0642\\u064a\\u0642\\u0647 \\u0631\\u0627\\u0628\\u0639\\u0647 \\u062f\\u0644 \\u0636\\u0627\\u0621\\u0639 \\u062a\\u0627\\u0647\\u0644 \\u0628\\u062d\\u0631\\u064a\\u0646\\u064a \\u0645\\u0644\\u062d\\u0642 \\u0634\\u0628\\u0627\\u0628 \\u064a\\u0636 \\u062f\\u0648\\u0631 \\u062f\\u062e\\u0627\\u0644 \\u0633\\u0639\\u0627\\u062f\\u0647 \\u0642\\u0644\\u0648\\u0628 \\u062c\\u0645\\u0627\\u0647\\u064a\\u0631 \\u0639\\u0631\\u0628\\u064a\\u0647 \\u062c\\u062d \\u0645\\u0646\\u062a\\u062e\\u0628 \\u0627\\u0645\\u0627\\u0631\\u0627\\u062a \\u0633\\u0646 \\u062d\\u0642\\u064a\\u0642 \\u0646\\u062c\\u0627\\u0632 \\u0628\\u064a\\u0631 \\u0648\\u0635\\u0648\\u0644 \\u062f\\u0648\\u0631 \\u0631\\u0628\\u0639 \\u0646\\u0647\\u0627\\u0621 \\u0637\\u0648\\u0644 \\u0627\\u0633 \\u0639\\u0627\\u0644\\u0645 \\u0634\\u0628\\u0627\\u0628 \\u0645\\u0635\\u0631 \\u0639\\u0646\\u062f\\u0645 \\u0627\\u0632 \\u0645\\u0646\\u062a\\u062e\\u0628 \\u0646\\u0632\\u0648\\u064a\\u0644 \\u0647\\u062f\\u0641 \\u0645\\u0642\\u0627\\u0628\\u0644 \\u0647\\u062f\\u0641 \\u0627\\u062d\\u062f \\u0627\\u0646\\u062a \\u062f\\u0642\\u064a\\u0642\\u0647 \\u062d\\u062f\\u064a\\u062f \\u0627\\u0647\\u0645 \\u0645\\u0628\\u0627\\u0631\\u0627\\u0647 \\u0627\\u0646\\u062a \\u0646\\u062a\\u064a\\u062c\\u0647 \\u0631\\u062a\\u0643\\u0628 \\u0627\\u0631\\u0644\\u0648\\u0633 \\u0633\\u0627\\u0644\\u0627\\u0632\\u0627\\u0631 \\u062e\\u0637 \\u0642\\u0627\\u062a\\u0644 \\u0637\\u0631\\u0641 \\u0627\\u064a\\u0645\\u0646 \\u0643\\u0631\\u0647 \\u0627\\u0639\\u0628 \\u062d\\u0645\\u062f \\u0633\\u062a\\u0628\\u0633\\u0644 \\u062d\\u0635\\u0648\\u0644 \\u0643\\u0631\\u0647 \\u0632\\u0645\\u064a\\u0644 \\u062d\\u0645\\u062f \\u062e\\u0644\\u064a\\u0644 \\u062d\\u0631\\u0632 \\u0627\\u062e\\u064a\\u0631 \\u0647\\u062f\\u0641 \\u0641\\u0648\\u0632 \\u0645\\u0646\\u062a\\u062e\\u0628 \\u0627\\u0644\\u0627\\u0645\\u0627\\u0631\\u0627\\u062a\\u064a \\u0635\\u0639\\u064a\\u062f \\u0627\\u0646\\u062f\\u064a\\u0647 \\u0646\\u0648\\u0641\\u0645\\u0628\\u0631 \\u062b\\u0627\\u0646 \\u0634\\u0627\\u0647\\u062f \\u0647\\u0627\\u0621\\u064a \\u0627\\u0633 \\u0627\\u062a\\u062d\\u0627\\u062f \\u0627\\u0633\\u064a\\u0648 \\u0631\\u064a\\u0642 \\u0639\\u0631\\u0628\\u064a\\u0646 \\u0627\\u0644\\u0643\\u0631\\u0627\\u0645\\u0647 \\u0633\\u0648\\u0631 \\u0627\\u0644\\u0643\\u0648\\u064a\\u062a \\u0643\\u0648\\u064a\\u062a\\u064a \\u0627\\u0646\\u062a\\u0647 \\u0645\\u0628\\u0627\\u0631\\u0627\\u0647 \\u0641\\u0648\\u0632 \\u0641\\u0631\\u064a\\u0642 \\u0643\\u0648\\u064a\\u062a \\u062d\\u0631\\u0632 \\u0648\\u0644 \\u0642\\u0628 \\u062e\\u0627\\u0631\\u062c \\u0641\\u0631\\u064a\\u0642 \\u0648\\u064a\\u062a\\u064a \\u0643\\u0648 \\u0644\\u0642\\u0628 \\u0633\\u0627\\u062f\\u0633 \\u0627\\u0646\\u062f\\u064a\\u0647 \\u0639\\u0631\\u0628\\u064a\\u0647 \\u062a\\u0648\\u0627\\u0644 \\u0645\\u0633\\u0627\\u0628\\u0642\\u0647 \\u0627\\u0646\\u062a \\u062a\\u0635\\u0641 \\u0627\\u0633 \\u0639\\u0627\\u0644\\u0645 \\u0641\\u0631\\u064a\\u0642\\u064a \\u0635\\u064a\\u0628 \\u0627\\u0633\\u062f \\u062d\\u0638 \\u0643\\u0631\\u0647 \\u0639\\u0631\\u0628\\u064a\\u0647 \\u0627\\u0636\\u0627\\u0641\\u0647 \\u0645\\u0644\\u062d\\u0642 \\u0627\\u0633\\u064a\\u0648 \\u0634\\u0647\\u062f \\u062a\\u0635\\u0641 \\u0627\\u0641\\u0631\\u064a\\u0642\\u064a\\u0647 \\u062d\\u062f \\u0634\\u062f \\u0645\\u0646\\u0627\\u0641\\u0633 \\u0633\\u062e\\u0648 \\u062a\\u0627\\u0631\\u064a\\u062e \\u0643\\u0631\\u0647 \\u0639\\u0631\\u0628\\u064a\\u0647 \\u0633\\u0628\\u0627\\u0642 \\u062a\\u0627\\u0647\\u0644 \\u0645\\u062c\\u0645\\u0648\\u0639\\u0647 \\u062b\\u0627\\u0644\\u062b\\u0647 \\u0627\\u0634\\u062f\\u0647 \\u0645\\u0646\\u062a\\u062e\\u0628 \\u0645\\u0635\\u0631 \\u062c\\u0632\\u0627\\u0621\\u0631 \\u062d\\u062a \\u062e\\u0631 \\u062d\\u0638\\u0647 \\u062a\\u0636\\u0645\\u0646 \\u0645\\u0628\\u0627\\u0631\\u0627\\u0647 \\u0627\\u062e\\u064a\\u0631\\u0647 \\u0645\\u062c\\u0645\\u0648\\u0639\\u0647 \\u0645\\u0635\\u0631 \\u062c\\u0632\\u0627\\u0621\\u0631 \\u0648\\u0645 \\u0646\\u0648\\u0641\\u0645\\u0628\\u0631 \\u062b\\u0627\\u0646 \\u062d\\u062f \\u062d\\u0638 \\u062f\\u0642\\u064a\\u0642\\u0647 \\u062e\\u0627\\u0645\\u0633\\u0647 \\u062f\\u0644 \\u0636\\u0627\\u0621\\u0639 \\u0627\\u0646 \\u0638\\u0646 \\u0627\\u0646 \\u062c\\u0632\\u0627\\u0621\\u0631 \\u062a\\u0627\\u0647\\u0644 \\u0627\\u0644\\u0645\\u0648\\u0646\\u062f\\u064a\\u0627\\u0644 \\u062e\\u064a\\u0628 \\u0645\\u0647\\u0627\\u062c\\u0645 \\u0645\\u0635\\u0631 \\u0639\\u0645\\u0627\\u062f \\u0645\\u062a\\u0639\\u0628 \\u0638\\u0646 \\u062a\\u0633\\u062c\\u064a\\u0644 \\u0647\\u062f\\u0641 \\u062b\\u0627\\u0646 \\u0641\\u0631\\u0627\\u0639\\u0646\\u0647 \\u0646\\u062a\\u0647 \\u0645\\u0628\\u0627\\u0631\\u0627\\u0647 \\u0641\\u0631\\u0636 \\u0642\\u0627\\u0621 \\u0635\\u0644 \\u0641\\u0643 \\u0627\\u0634\\u062a\\u0628\\u0627\\u0643 \\u0641\\u0631\\u064a\\u0642 \\u062a\\u0627\\u0647\\u0644 \\u0627\\u0646\\u062a \\u0645\\u0628\\u0627\\u0631\\u0627\\u0647 \\u0641\\u0627\\u0635\\u0644\\u0647 \\u0646\\u0627\\u0644 \\u0647\\u062a\\u0645\\u0627\\u0645 \\u0645\\u0633\\u0628\\u0648\\u0642 \\u0627\\u0644\\u0645\\u062a\\u0627\\u0628\\u0639\\u064a\\u0646 \\u0627\\u0642\\u064a\\u0645 \\u0645\\u062f\\u064a \\u062e\\u0631\\u0637\\u0648\\u0645 \\u0633\\u0648\\u062f\\u0627\\u0646 \\u0634\\u0627\\u0647\\u062f \\u062e\\u0631 \\u062d\\u0638 \\u0643\\u0631\\u0647 \\u0639\\u0631\\u0628\\u064a\\u0647 \\u0639\\u0627\\u0645 \\u062f\\u0642\\u064a\\u0642\\u0647 \\u0633\\u062c\\u0644 \\u0645\\u0647\\u0627\\u062c\\u0645 \\u062c\\u0632\\u0627\\u0621\\u0631 \\u0639\\u0646\\u062a\\u0631 \\u0647\\u062f\\u0641 \\u0645\\u0628\\u0627\\u0631\\u0627\\u0647 \\u0648\\u062d\\u064a\\u062f \\u062a\\u0627\\u0647\\u0644 \\u062c\\u0632\\u0627\\u0621\\u0631 \\u0627\\u0633 \\u0639\\u0627\\u0644\\u0645 \\u0635\\u0628\\u062d \\u0645\\u062d\\u0627\\u0631\\u0628 \\u0635\\u062d\\u0631\\u0627\\u0621 \\u0641\\u0631\\u064a\\u0642 \\u0639\\u0631\\u0628 \\u0648\\u062d\\u064a\\u062f \\u0639\\u0631\\u0633 \\u0643\\u0631\\u0648 \\u0639\\u0627\\u0644\\u0645\\u064a\"\n        ],\n        \"semantic_type\": \"\",\n        \"description\": \"\"\n      }\n    },\n    {\n      \"column\": \"category_Business\",\n      \"properties\": {\n        \"dtype\": \"number\",\n        \"std\": 0.42163702135578396,\n        \"min\": 0.0,\n        \"max\": 1.0,\n        \"num_unique_values\": 2,\n        \"samples\": [\n          1.0,\n          0.0\n        ],\n        \"semantic_type\": \"\",\n        \"description\": \"\"\n      }\n    },\n    {\n      \"column\": \"category_Entertainment\",\n      \"properties\": {\n        \"dtype\": \"number\",\n        \"std\": 0.0,\n        \"min\": 0.0,\n        \"max\": 0.0,\n        \"num_unique_values\": 1,\n        \"samples\": [\n          0.0\n        ],\n        \"semantic_type\": \"\",\n        \"description\": \"\"\n      }\n    },\n    {\n      \"column\": \"category_Middle East News\",\n      \"properties\": {\n        \"dtype\": \"number\",\n        \"std\": 0.5163977794943222,\n        \"min\": 0.0,\n        \"max\": 1.0,\n        \"num_unique_values\": 2,\n        \"samples\": [\n          0.0\n        ],\n        \"semantic_type\": \"\",\n        \"description\": \"\"\n      }\n    },\n    {\n      \"column\": \"category_Science and Technology\",\n      \"properties\": {\n        \"dtype\": \"number\",\n        \"std\": 0.31622776601683794,\n        \"min\": 0.0,\n        \"max\": 1.0,\n        \"num_unique_values\": 2,\n        \"samples\": [\n          1.0\n        ],\n        \"semantic_type\": \"\",\n        \"description\": \"\"\n      }\n    },\n    {\n      \"column\": \"category_Sport\",\n      \"properties\": {\n        \"dtype\": \"number\",\n        \"std\": 0.31622776601683794,\n        \"min\": 0.0,\n        \"max\": 1.0,\n        \"num_unique_values\": 2,\n        \"samples\": [\n          1.0\n        ],\n        \"semantic_type\": \"\",\n        \"description\": \"\"\n      }\n    },\n    {\n      \"column\": \"category_World\",\n      \"properties\": {\n        \"dtype\": \"number\",\n        \"std\": 0.42163702135578396,\n        \"min\": 0.0,\n        \"max\": 1.0,\n        \"num_unique_values\": 2,\n        \"samples\": [\n          1.0\n        ],\n        \"semantic_type\": \"\",\n        \"description\": \"\"\n      }\n    }\n  ]\n}",
              "type": "dataframe"
            },
            "text/html": [
              "\n",
              "  <div id=\"df-f6e55512-31e6-4a04-b0bc-0ad41482fc5a\" class=\"colab-df-container\">\n",
              "    <div>\n",
              "<style scoped>\n",
              "    .dataframe tbody tr th:only-of-type {\n",
              "        vertical-align: middle;\n",
              "    }\n",
              "\n",
              "    .dataframe tbody tr th {\n",
              "        vertical-align: top;\n",
              "    }\n",
              "\n",
              "    .dataframe thead th {\n",
              "        text-align: right;\n",
              "    }\n",
              "</style>\n",
              "<table border=\"1\" class=\"dataframe\">\n",
              "  <thead>\n",
              "    <tr style=\"text-align: right;\">\n",
              "      <th></th>\n",
              "      <th>Body</th>\n",
              "      <th>category_Business</th>\n",
              "      <th>category_Entertainment</th>\n",
              "      <th>category_Middle East News</th>\n",
              "      <th>category_Science and Technology</th>\n",
              "      <th>category_Sport</th>\n",
              "      <th>category_World</th>\n",
              "    </tr>\n",
              "  </thead>\n",
              "  <tbody>\n",
              "    <tr>\n",
              "      <th>1202</th>\n",
              "      <td>مسلح قتل شرط اسراءيل ضفه غربيه مسلح قتل شرط اس...</td>\n",
              "      <td>0.0</td>\n",
              "      <td>0.0</td>\n",
              "      <td>1.0</td>\n",
              "      <td>0.0</td>\n",
              "      <td>0.0</td>\n",
              "      <td>0.0</td>\n",
              "    </tr>\n",
              "    <tr>\n",
              "      <th>1349</th>\n",
              "      <td>حمل اسراءيل مقترح سويد اعتراف قدس عاصم سط جمعه...</td>\n",
              "      <td>0.0</td>\n",
              "      <td>0.0</td>\n",
              "      <td>1.0</td>\n",
              "      <td>0.0</td>\n",
              "      <td>0.0</td>\n",
              "      <td>0.0</td>\n",
              "    </tr>\n",
              "    <tr>\n",
              "      <th>3248</th>\n",
              "      <td>تريوس هجم شتد افغانس ربيع صيف جمعه الثاني يناي...</td>\n",
              "      <td>0.0</td>\n",
              "      <td>0.0</td>\n",
              "      <td>0.0</td>\n",
              "      <td>0.0</td>\n",
              "      <td>0.0</td>\n",
              "      <td>1.0</td>\n",
              "    </tr>\n",
              "    <tr>\n",
              "      <th>7210</th>\n",
              "      <td>اظهر دراس علم جديد ان رضاعه طبيعيه ساعد شكل بي...</td>\n",
              "      <td>0.0</td>\n",
              "      <td>0.0</td>\n",
              "      <td>0.0</td>\n",
              "      <td>1.0</td>\n",
              "      <td>0.0</td>\n",
              "      <td>0.0</td>\n",
              "    </tr>\n",
              "    <tr>\n",
              "      <th>4779</th>\n",
              "      <td>اوسط زير عراقي مسءول شل استجابه تحذير هجم وزير...</td>\n",
              "      <td>0.0</td>\n",
              "      <td>0.0</td>\n",
              "      <td>1.0</td>\n",
              "      <td>0.0</td>\n",
              "      <td>0.0</td>\n",
              "      <td>0.0</td>\n",
              "    </tr>\n",
              "    <tr>\n",
              "      <th>2718</th>\n",
              "      <td>الفيفا رصد لحظ ملاعب كره عربيه اربعاء الاول دي...</td>\n",
              "      <td>0.0</td>\n",
              "      <td>0.0</td>\n",
              "      <td>0.0</td>\n",
              "      <td>0.0</td>\n",
              "      <td>1.0</td>\n",
              "      <td>0.0</td>\n",
              "    </tr>\n",
              "    <tr>\n",
              "      <th>6021</th>\n",
              "      <td>عالم نزاع جوجل صين مرتبط علاق كين اشنطن الص قو...</td>\n",
              "      <td>0.0</td>\n",
              "      <td>0.0</td>\n",
              "      <td>0.0</td>\n",
              "      <td>0.0</td>\n",
              "      <td>0.0</td>\n",
              "      <td>1.0</td>\n",
              "    </tr>\n",
              "    <tr>\n",
              "      <th>145</th>\n",
              "      <td>دبي ندماج مقترح فرز يا قيم مليار دبي ندماج مقت...</td>\n",
              "      <td>1.0</td>\n",
              "      <td>0.0</td>\n",
              "      <td>0.0</td>\n",
              "      <td>0.0</td>\n",
              "      <td>0.0</td>\n",
              "      <td>0.0</td>\n",
              "    </tr>\n",
              "    <tr>\n",
              "      <th>6440</th>\n",
              "      <td>قتصاد عمال رتفاع ورص خليج راجع مخاوف دب مءشر م...</td>\n",
              "      <td>1.0</td>\n",
              "      <td>0.0</td>\n",
              "      <td>0.0</td>\n",
              "      <td>0.0</td>\n",
              "      <td>0.0</td>\n",
              "      <td>0.0</td>\n",
              "    </tr>\n",
              "    <tr>\n",
              "      <th>4826</th>\n",
              "      <td>اوسط مصر صر دخول قافل شري حياه عبر عريش قافل ش...</td>\n",
              "      <td>0.0</td>\n",
              "      <td>0.0</td>\n",
              "      <td>1.0</td>\n",
              "      <td>0.0</td>\n",
              "      <td>0.0</td>\n",
              "      <td>0.0</td>\n",
              "    </tr>\n",
              "  </tbody>\n",
              "</table>\n",
              "</div>\n",
              "    <div class=\"colab-df-buttons\">\n",
              "\n",
              "  <div class=\"colab-df-container\">\n",
              "    <button class=\"colab-df-convert\" onclick=\"convertToInteractive('df-f6e55512-31e6-4a04-b0bc-0ad41482fc5a')\"\n",
              "            title=\"Convert this dataframe to an interactive table.\"\n",
              "            style=\"display:none;\">\n",
              "\n",
              "  <svg xmlns=\"http://www.w3.org/2000/svg\" height=\"24px\" viewBox=\"0 -960 960 960\">\n",
              "    <path d=\"M120-120v-720h720v720H120Zm60-500h600v-160H180v160Zm220 220h160v-160H400v160Zm0 220h160v-160H400v160ZM180-400h160v-160H180v160Zm440 0h160v-160H620v160ZM180-180h160v-160H180v160Zm440 0h160v-160H620v160Z\"/>\n",
              "  </svg>\n",
              "    </button>\n",
              "\n",
              "  <style>\n",
              "    .colab-df-container {\n",
              "      display:flex;\n",
              "      gap: 12px;\n",
              "    }\n",
              "\n",
              "    .colab-df-convert {\n",
              "      background-color: #E8F0FE;\n",
              "      border: none;\n",
              "      border-radius: 50%;\n",
              "      cursor: pointer;\n",
              "      display: none;\n",
              "      fill: #1967D2;\n",
              "      height: 32px;\n",
              "      padding: 0 0 0 0;\n",
              "      width: 32px;\n",
              "    }\n",
              "\n",
              "    .colab-df-convert:hover {\n",
              "      background-color: #E2EBFA;\n",
              "      box-shadow: 0px 1px 2px rgba(60, 64, 67, 0.3), 0px 1px 3px 1px rgba(60, 64, 67, 0.15);\n",
              "      fill: #174EA6;\n",
              "    }\n",
              "\n",
              "    .colab-df-buttons div {\n",
              "      margin-bottom: 4px;\n",
              "    }\n",
              "\n",
              "    [theme=dark] .colab-df-convert {\n",
              "      background-color: #3B4455;\n",
              "      fill: #D2E3FC;\n",
              "    }\n",
              "\n",
              "    [theme=dark] .colab-df-convert:hover {\n",
              "      background-color: #434B5C;\n",
              "      box-shadow: 0px 1px 3px 1px rgba(0, 0, 0, 0.15);\n",
              "      filter: drop-shadow(0px 1px 2px rgba(0, 0, 0, 0.3));\n",
              "      fill: #FFFFFF;\n",
              "    }\n",
              "  </style>\n",
              "\n",
              "    <script>\n",
              "      const buttonEl =\n",
              "        document.querySelector('#df-f6e55512-31e6-4a04-b0bc-0ad41482fc5a button.colab-df-convert');\n",
              "      buttonEl.style.display =\n",
              "        google.colab.kernel.accessAllowed ? 'block' : 'none';\n",
              "\n",
              "      async function convertToInteractive(key) {\n",
              "        const element = document.querySelector('#df-f6e55512-31e6-4a04-b0bc-0ad41482fc5a');\n",
              "        const dataTable =\n",
              "          await google.colab.kernel.invokeFunction('convertToInteractive',\n",
              "                                                    [key], {});\n",
              "        if (!dataTable) return;\n",
              "\n",
              "        const docLinkHtml = 'Like what you see? Visit the ' +\n",
              "          '<a target=\"_blank\" href=https://colab.research.google.com/notebooks/data_table.ipynb>data table notebook</a>'\n",
              "          + ' to learn more about interactive tables.';\n",
              "        element.innerHTML = '';\n",
              "        dataTable['output_type'] = 'display_data';\n",
              "        await google.colab.output.renderOutput(dataTable, element);\n",
              "        const docLink = document.createElement('div');\n",
              "        docLink.innerHTML = docLinkHtml;\n",
              "        element.appendChild(docLink);\n",
              "      }\n",
              "    </script>\n",
              "  </div>\n",
              "\n",
              "\n",
              "<div id=\"df-580d0749-cb80-44de-9879-642ff7cdf782\">\n",
              "  <button class=\"colab-df-quickchart\" onclick=\"quickchart('df-580d0749-cb80-44de-9879-642ff7cdf782')\"\n",
              "            title=\"Suggest charts\"\n",
              "            style=\"display:none;\">\n",
              "\n",
              "<svg xmlns=\"http://www.w3.org/2000/svg\" height=\"24px\"viewBox=\"0 0 24 24\"\n",
              "     width=\"24px\">\n",
              "    <g>\n",
              "        <path d=\"M19 3H5c-1.1 0-2 .9-2 2v14c0 1.1.9 2 2 2h14c1.1 0 2-.9 2-2V5c0-1.1-.9-2-2-2zM9 17H7v-7h2v7zm4 0h-2V7h2v10zm4 0h-2v-4h2v4z\"/>\n",
              "    </g>\n",
              "</svg>\n",
              "  </button>\n",
              "\n",
              "<style>\n",
              "  .colab-df-quickchart {\n",
              "      --bg-color: #E8F0FE;\n",
              "      --fill-color: #1967D2;\n",
              "      --hover-bg-color: #E2EBFA;\n",
              "      --hover-fill-color: #174EA6;\n",
              "      --disabled-fill-color: #AAA;\n",
              "      --disabled-bg-color: #DDD;\n",
              "  }\n",
              "\n",
              "  [theme=dark] .colab-df-quickchart {\n",
              "      --bg-color: #3B4455;\n",
              "      --fill-color: #D2E3FC;\n",
              "      --hover-bg-color: #434B5C;\n",
              "      --hover-fill-color: #FFFFFF;\n",
              "      --disabled-bg-color: #3B4455;\n",
              "      --disabled-fill-color: #666;\n",
              "  }\n",
              "\n",
              "  .colab-df-quickchart {\n",
              "    background-color: var(--bg-color);\n",
              "    border: none;\n",
              "    border-radius: 50%;\n",
              "    cursor: pointer;\n",
              "    display: none;\n",
              "    fill: var(--fill-color);\n",
              "    height: 32px;\n",
              "    padding: 0;\n",
              "    width: 32px;\n",
              "  }\n",
              "\n",
              "  .colab-df-quickchart:hover {\n",
              "    background-color: var(--hover-bg-color);\n",
              "    box-shadow: 0 1px 2px rgba(60, 64, 67, 0.3), 0 1px 3px 1px rgba(60, 64, 67, 0.15);\n",
              "    fill: var(--button-hover-fill-color);\n",
              "  }\n",
              "\n",
              "  .colab-df-quickchart-complete:disabled,\n",
              "  .colab-df-quickchart-complete:disabled:hover {\n",
              "    background-color: var(--disabled-bg-color);\n",
              "    fill: var(--disabled-fill-color);\n",
              "    box-shadow: none;\n",
              "  }\n",
              "\n",
              "  .colab-df-spinner {\n",
              "    border: 2px solid var(--fill-color);\n",
              "    border-color: transparent;\n",
              "    border-bottom-color: var(--fill-color);\n",
              "    animation:\n",
              "      spin 1s steps(1) infinite;\n",
              "  }\n",
              "\n",
              "  @keyframes spin {\n",
              "    0% {\n",
              "      border-color: transparent;\n",
              "      border-bottom-color: var(--fill-color);\n",
              "      border-left-color: var(--fill-color);\n",
              "    }\n",
              "    20% {\n",
              "      border-color: transparent;\n",
              "      border-left-color: var(--fill-color);\n",
              "      border-top-color: var(--fill-color);\n",
              "    }\n",
              "    30% {\n",
              "      border-color: transparent;\n",
              "      border-left-color: var(--fill-color);\n",
              "      border-top-color: var(--fill-color);\n",
              "      border-right-color: var(--fill-color);\n",
              "    }\n",
              "    40% {\n",
              "      border-color: transparent;\n",
              "      border-right-color: var(--fill-color);\n",
              "      border-top-color: var(--fill-color);\n",
              "    }\n",
              "    60% {\n",
              "      border-color: transparent;\n",
              "      border-right-color: var(--fill-color);\n",
              "    }\n",
              "    80% {\n",
              "      border-color: transparent;\n",
              "      border-right-color: var(--fill-color);\n",
              "      border-bottom-color: var(--fill-color);\n",
              "    }\n",
              "    90% {\n",
              "      border-color: transparent;\n",
              "      border-bottom-color: var(--fill-color);\n",
              "    }\n",
              "  }\n",
              "</style>\n",
              "\n",
              "  <script>\n",
              "    async function quickchart(key) {\n",
              "      const quickchartButtonEl =\n",
              "        document.querySelector('#' + key + ' button');\n",
              "      quickchartButtonEl.disabled = true;  // To prevent multiple clicks.\n",
              "      quickchartButtonEl.classList.add('colab-df-spinner');\n",
              "      try {\n",
              "        const charts = await google.colab.kernel.invokeFunction(\n",
              "            'suggestCharts', [key], {});\n",
              "      } catch (error) {\n",
              "        console.error('Error during call to suggestCharts:', error);\n",
              "      }\n",
              "      quickchartButtonEl.classList.remove('colab-df-spinner');\n",
              "      quickchartButtonEl.classList.add('colab-df-quickchart-complete');\n",
              "    }\n",
              "    (() => {\n",
              "      let quickchartButtonEl =\n",
              "        document.querySelector('#df-580d0749-cb80-44de-9879-642ff7cdf782 button');\n",
              "      quickchartButtonEl.style.display =\n",
              "        google.colab.kernel.accessAllowed ? 'block' : 'none';\n",
              "    })();\n",
              "  </script>\n",
              "</div>\n",
              "\n",
              "    </div>\n",
              "  </div>\n"
            ],
            "text/plain": [
              "                                                   Body  category_Business  \\\n",
              "1202  مسلح قتل شرط اسراءيل ضفه غربيه مسلح قتل شرط اس...                0.0   \n",
              "1349  حمل اسراءيل مقترح سويد اعتراف قدس عاصم سط جمعه...                0.0   \n",
              "3248  تريوس هجم شتد افغانس ربيع صيف جمعه الثاني يناي...                0.0   \n",
              "7210  اظهر دراس علم جديد ان رضاعه طبيعيه ساعد شكل بي...                0.0   \n",
              "4779  اوسط زير عراقي مسءول شل استجابه تحذير هجم وزير...                0.0   \n",
              "2718  الفيفا رصد لحظ ملاعب كره عربيه اربعاء الاول دي...                0.0   \n",
              "6021  عالم نزاع جوجل صين مرتبط علاق كين اشنطن الص قو...                0.0   \n",
              "145   دبي ندماج مقترح فرز يا قيم مليار دبي ندماج مقت...                1.0   \n",
              "6440  قتصاد عمال رتفاع ورص خليج راجع مخاوف دب مءشر م...                1.0   \n",
              "4826  اوسط مصر صر دخول قافل شري حياه عبر عريش قافل ش...                0.0   \n",
              "\n",
              "      category_Entertainment  category_Middle East News  \\\n",
              "1202                     0.0                        1.0   \n",
              "1349                     0.0                        1.0   \n",
              "3248                     0.0                        0.0   \n",
              "7210                     0.0                        0.0   \n",
              "4779                     0.0                        1.0   \n",
              "2718                     0.0                        0.0   \n",
              "6021                     0.0                        0.0   \n",
              "145                      0.0                        0.0   \n",
              "6440                     0.0                        0.0   \n",
              "4826                     0.0                        1.0   \n",
              "\n",
              "      category_Science and Technology  category_Sport  category_World  \n",
              "1202                              0.0             0.0             0.0  \n",
              "1349                              0.0             0.0             0.0  \n",
              "3248                              0.0             0.0             1.0  \n",
              "7210                              1.0             0.0             0.0  \n",
              "4779                              0.0             0.0             0.0  \n",
              "2718                              0.0             1.0             0.0  \n",
              "6021                              0.0             0.0             1.0  \n",
              "145                               0.0             0.0             0.0  \n",
              "6440                              0.0             0.0             0.0  \n",
              "4826                              0.0             0.0             0.0  "
            ]
          },
          "execution_count": 78,
          "metadata": {},
          "output_type": "execute_result"
        }
      ],
      "source": [
        "# Initialize OneHotEncoder\n",
        "one_hot_encoder = OneHotEncoder()\n",
        "\n",
        "# Fit and transform the 'category' column\n",
        "encoded_categories = one_hot_encoder.fit_transform(df['category'].values.reshape(-1, 1))\n",
        "\n",
        "# Convert to DataFrame\n",
        "encoded_df = pd.DataFrame(encoded_categories.toarray(), columns=one_hot_encoder.get_feature_names_out(['category']))\n",
        "\n",
        "# Concatenate with the original DataFrame\n",
        "df_encoded = pd.concat([df, encoded_df], axis=1)\n",
        "\n",
        "# Drop the original 'category' column if needed\n",
        "df_encoded.drop('category', axis=1, inplace=True)\n",
        "\n",
        "# Print the first few rows of the encoded DataFrame\n",
        "df_encoded.sample(10)"
      ]
    },
    {
      "cell_type": "code",
      "execution_count": 79,
      "metadata": {
        "execution": {
          "iopub.execute_input": "2024-05-07T21:56:45.633697Z",
          "iopub.status.busy": "2024-05-07T21:56:45.633435Z",
          "iopub.status.idle": "2024-05-07T21:56:45.690316Z",
          "shell.execute_reply": "2024-05-07T21:56:45.689414Z",
          "shell.execute_reply.started": "2024-05-07T21:56:45.633675Z"
        },
        "id": "i_3kWYQzenXY",
        "trusted": true
      },
      "outputs": [],
      "source": [
        "X = np.array(embedded_docs)\n",
        "y = df_encoded.drop('Body', axis=1)"
      ]
    },
    {
      "cell_type": "code",
      "execution_count": 80,
      "metadata": {
        "execution": {
          "iopub.execute_input": "2024-05-07T21:56:45.692402Z",
          "iopub.status.busy": "2024-05-07T21:56:45.691733Z",
          "iopub.status.idle": "2024-05-07T21:56:45.849632Z",
          "shell.execute_reply": "2024-05-07T21:56:45.848787Z",
          "shell.execute_reply.started": "2024-05-07T21:56:45.692367Z"
        },
        "id": "HHFr0LHvenXY",
        "trusted": true
      },
      "outputs": [],
      "source": [
        "X_train, X_test, y_train, y_test = train_test_split(X, y, test_size=0.2, random_state=0,stratify=y)"
      ]
    },
    {
      "cell_type": "code",
      "execution_count": 81,
      "metadata": {
        "colab": {
          "base_uri": "https://localhost:8080/"
        },
        "execution": {
          "iopub.execute_input": "2024-05-07T21:56:45.851225Z",
          "iopub.status.busy": "2024-05-07T21:56:45.850896Z",
          "iopub.status.idle": "2024-05-07T21:56:45.857538Z",
          "shell.execute_reply": "2024-05-07T21:56:45.856467Z",
          "shell.execute_reply.started": "2024-05-07T21:56:45.851198Z"
        },
        "id": "sn5RviuhenXY",
        "outputId": "e01077e5-4ee1-4f98-916d-7196cb9b469d",
        "trusted": true
      },
      "outputs": [
        {
          "name": "stdout",
          "output_type": "stream",
          "text": [
            "Shape of X_train: (7027, 3793)\n",
            "Shape of y_train: (7027, 6)\n",
            "Shape of X_test: (1757, 3793)\n",
            "Shape of y_test: (1757, 6)\n"
          ]
        }
      ],
      "source": [
        "print('Shape of X_train:', X_train.shape)\n",
        "print('Shape of y_train:', y_train.shape)\n",
        "print('Shape of X_test:', X_test.shape)\n",
        "print('Shape of y_test:', y_test.shape)"
      ]
    },
    {
      "cell_type": "markdown",
      "metadata": {
        "id": "2yakzAf5enXY"
      },
      "source": [
        "# lstmModel Creation"
      ]
    },
    {
      "cell_type": "code",
      "execution_count": 82,
      "metadata": {
        "execution": {
          "iopub.execute_input": "2024-05-07T21:56:45.859249Z",
          "iopub.status.busy": "2024-05-07T21:56:45.858884Z",
          "iopub.status.idle": "2024-05-07T21:56:49.48727Z",
          "shell.execute_reply": "2024-05-07T21:56:49.486386Z",
          "shell.execute_reply.started": "2024-05-07T21:56:45.859215Z"
        },
        "id": "lTqZy9KPenXY",
        "trusted": true
      },
      "outputs": [],
      "source": [
        "import torch"
      ]
    },
    {
      "cell_type": "code",
      "execution_count": 83,
      "metadata": {
        "colab": {
          "base_uri": "https://localhost:8080/",
          "height": 36
        },
        "execution": {
          "iopub.execute_input": "2024-05-07T21:56:49.489011Z",
          "iopub.status.busy": "2024-05-07T21:56:49.488373Z",
          "iopub.status.idle": "2024-05-07T21:56:49.528797Z",
          "shell.execute_reply": "2024-05-07T21:56:49.527838Z",
          "shell.execute_reply.started": "2024-05-07T21:56:49.488985Z"
        },
        "id": "iH6xh3pSenXY",
        "outputId": "8e3e5675-69eb-49a3-c55b-353ec2816e97",
        "trusted": true
      },
      "outputs": [
        {
          "data": {
            "application/vnd.google.colaboratory.intrinsic+json": {
              "type": "string"
            },
            "text/plain": [
              "'cuda'"
            ]
          },
          "execution_count": 83,
          "metadata": {},
          "output_type": "execute_result"
        }
      ],
      "source": [
        "device = 'cuda' if torch.cuda.is_available() else 'cpu'\n",
        "device"
      ]
    },
    {
      "cell_type": "code",
      "execution_count": 84,
      "metadata": {
        "execution": {
          "iopub.execute_input": "2024-05-07T21:56:49.530317Z",
          "iopub.status.busy": "2024-05-07T21:56:49.529994Z",
          "iopub.status.idle": "2024-05-07T21:56:49.539656Z",
          "shell.execute_reply": "2024-05-07T21:56:49.538807Z",
          "shell.execute_reply.started": "2024-05-07T21:56:49.530279Z"
        },
        "id": "LuSVakakenXZ",
        "trusted": true
      },
      "outputs": [],
      "source": [
        "embedding_vector_features = 1000\n",
        "input_length = maxlen  # Sequence length\n",
        "num_classes = 6"
      ]
    },
    {
      "cell_type": "markdown",
      "metadata": {
        "id": "u0gyesIuenXZ"
      },
      "source": [
        "## LSTM"
      ]
    },
    {
      "cell_type": "code",
      "execution_count": 85,
      "metadata": {
        "execution": {
          "iopub.execute_input": "2024-05-07T22:18:50.015164Z",
          "iopub.status.busy": "2024-05-07T22:18:50.014496Z",
          "iopub.status.idle": "2024-05-07T22:18:50.061658Z",
          "shell.execute_reply": "2024-05-07T22:18:50.060692Z",
          "shell.execute_reply.started": "2024-05-07T22:18:50.015132Z"
        },
        "id": "C9Pgv4WoenXZ",
        "trusted": true
      },
      "outputs": [],
      "source": [
        "# Creating the lstmModel\n",
        "lstmModel = Sequential()\n",
        "lstmModel.add(Embedding(voc_size, embedding_vector_features, input_length=input_length))\n",
        "lstmModel.add(Bidirectional(LSTM(128, return_sequences=True)))\n",
        "lstmModel.add(Dropout(0.2))\n",
        "lstmModel.add(Bidirectional(LSTM(64)))\n",
        "lstmModel.add(Dropout(0.4))\n",
        "lstmModel.add(Dense(num_classes, activation='softmax', kernel_regularizer=tf.keras.regularizers.l2(0.001)))\n",
        "\n",
        "# Compiling the lstmModel\n",
        "lstmModel.compile(loss=tf.keras.losses.CategoricalCrossentropy(),\n",
        "              optimizer=tf.keras.optimizers.Adam(learning_rate=0.001),\n",
        "              metrics=['accuracy'])"
      ]
    },
    {
      "cell_type": "code",
      "execution_count": 86,
      "metadata": {
        "colab": {
          "base_uri": "https://localhost:8080/"
        },
        "execution": {
          "iopub.execute_input": "2024-05-07T22:18:16.283249Z",
          "iopub.status.busy": "2024-05-07T22:18:16.282862Z",
          "iopub.status.idle": "2024-05-07T22:18:16.303793Z",
          "shell.execute_reply": "2024-05-07T22:18:16.302848Z",
          "shell.execute_reply.started": "2024-05-07T22:18:16.28322Z"
        },
        "id": "giaK5e_NenXZ",
        "outputId": "1801ef0e-b051-4912-b8eb-d3f1d226261a",
        "trusted": true
      },
      "outputs": [
        {
          "name": "stdout",
          "output_type": "stream",
          "text": [
            "Model: \"sequential\"\n",
            "_________________________________________________________________\n",
            " Layer (type)                Output Shape              Param #   \n",
            "=================================================================\n",
            " embedding (Embedding)       (None, 3793, 1000)        1000000   \n",
            "                                                                 \n",
            " bidirectional (Bidirection  (None, 3793, 256)         1156096   \n",
            " al)                                                             \n",
            "                                                                 \n",
            " dropout (Dropout)           (None, 3793, 256)         0         \n",
            "                                                                 \n",
            " bidirectional_1 (Bidirecti  (None, 128)               164352    \n",
            " onal)                                                           \n",
            "                                                                 \n",
            " dropout_1 (Dropout)         (None, 128)               0         \n",
            "                                                                 \n",
            " dense (Dense)               (None, 6)                 774       \n",
            "                                                                 \n",
            "=================================================================\n",
            "Total params: 2321222 (8.85 MB)\n",
            "Trainable params: 2321222 (8.85 MB)\n",
            "Non-trainable params: 0 (0.00 Byte)\n",
            "_________________________________________________________________\n"
          ]
        }
      ],
      "source": [
        "lstmModel.summary()"
      ]
    },
    {
      "cell_type": "code",
      "execution_count": 87,
      "metadata": {
        "execution": {
          "iopub.execute_input": "2024-05-07T22:18:20.133555Z",
          "iopub.status.busy": "2024-05-07T22:18:20.13314Z",
          "iopub.status.idle": "2024-05-07T22:18:20.139504Z",
          "shell.execute_reply": "2024-05-07T22:18:20.138537Z",
          "shell.execute_reply.started": "2024-05-07T22:18:20.133524Z"
        },
        "id": "bsEjsWu2enXZ",
        "trusted": true
      },
      "outputs": [],
      "source": [
        "# Save best points when the model is improving\n",
        "lstmModel_best_points_path = 'lstmModel_Best_points.keras'\n",
        "MCP = ModelCheckpoint(lstmModel_best_points_path, verbose = 1, save_best_only = True, monitor = 'val_accuracy', mode = 'max')\n",
        "\n",
        "# Early stop when the model stops improving\n",
        "ES = EarlyStopping(monitor = 'val_accuracy', min_delta = 0, verbose = 0, restore_best_weights = True, patience = 3, mode = 'max')\n",
        "\n",
        "# Reduce the learning rate when the model stops improving, val_loss specifically\n",
        "RLP = ReduceLROnPlateau(monitor = 'val_loss', patience = 3, factor = 0.2, min_lr = 0.0001)"
      ]
    },
    {
      "cell_type": "code",
      "execution_count": 88,
      "metadata": {
        "colab": {
          "base_uri": "https://localhost:8080/"
        },
        "execution": {
          "iopub.execute_input": "2024-05-07T22:18:58.776819Z",
          "iopub.status.busy": "2024-05-07T22:18:58.775971Z",
          "iopub.status.idle": "2024-05-07T23:27:22.5813Z",
          "shell.execute_reply": "2024-05-07T23:27:22.580322Z",
          "shell.execute_reply.started": "2024-05-07T22:18:58.776788Z"
        },
        "id": "wWsXPOnIenXZ",
        "outputId": "4751fe7d-70c7-4065-e7f1-cad7e145860d",
        "trusted": true
      },
      "outputs": [
        {
          "name": "stdout",
          "output_type": "stream",
          "text": [
            "Epoch 1/25\n",
            "220/220 [==============================] - ETA: 0s - loss: 1.1988 - accuracy: 0.5164\n",
            "Epoch 1: val_accuracy improved from -inf to 0.61696, saving model to lstmModel_Best_points.keras\n",
            "220/220 [==============================] - 174s 731ms/step - loss: 1.1988 - accuracy: 0.5164 - val_loss: 0.9908 - val_accuracy: 0.6170 - lr: 0.0010\n",
            "Epoch 2/25\n",
            "220/220 [==============================] - ETA: 0s - loss: 0.9389 - accuracy: 0.6804\n",
            "Epoch 2: val_accuracy improved from 0.61696 to 0.70290, saving model to lstmModel_Best_points.keras\n",
            "220/220 [==============================] - 150s 684ms/step - loss: 0.9389 - accuracy: 0.6804 - val_loss: 0.8775 - val_accuracy: 0.7029 - lr: 0.0010\n",
            "Epoch 3/25\n",
            "220/220 [==============================] - ETA: 0s - loss: 0.9714 - accuracy: 0.6586\n",
            "Epoch 3: val_accuracy did not improve from 0.70290\n",
            "220/220 [==============================] - 152s 692ms/step - loss: 0.9714 - accuracy: 0.6586 - val_loss: 0.9874 - val_accuracy: 0.6551 - lr: 0.0010\n",
            "Epoch 4/25\n",
            "220/220 [==============================] - ETA: 0s - loss: 0.9214 - accuracy: 0.6898\n",
            "Epoch 4: val_accuracy improved from 0.70290 to 0.71827, saving model to lstmModel_Best_points.keras\n",
            "220/220 [==============================] - 153s 695ms/step - loss: 0.9214 - accuracy: 0.6898 - val_loss: 0.8262 - val_accuracy: 0.7183 - lr: 0.0010\n",
            "Epoch 5/25\n",
            "220/220 [==============================] - ETA: 0s - loss: 0.8750 - accuracy: 0.7054\n",
            "Epoch 5: val_accuracy did not improve from 0.71827\n",
            "220/220 [==============================] - 160s 726ms/step - loss: 0.8750 - accuracy: 0.7054 - val_loss: 0.8437 - val_accuracy: 0.6796 - lr: 0.0010\n",
            "Epoch 6/25\n",
            "220/220 [==============================] - ETA: 0s - loss: 0.7735 - accuracy: 0.7352\n",
            "Epoch 6: val_accuracy improved from 0.71827 to 0.74445, saving model to lstmModel_Best_points.keras\n",
            "220/220 [==============================] - 160s 728ms/step - loss: 0.7735 - accuracy: 0.7352 - val_loss: 0.7008 - val_accuracy: 0.7445 - lr: 0.0010\n",
            "Epoch 7/25\n",
            "220/220 [==============================] - ETA: 0s - loss: 0.6930 - accuracy: 0.7602\n",
            "Epoch 7: val_accuracy did not improve from 0.74445\n",
            "220/220 [==============================] - 160s 727ms/step - loss: 0.6930 - accuracy: 0.7602 - val_loss: 0.7526 - val_accuracy: 0.7422 - lr: 0.0010\n",
            "Epoch 8/25\n",
            "220/220 [==============================] - ETA: 0s - loss: 0.6712 - accuracy: 0.7662\n",
            "Epoch 8: val_accuracy improved from 0.74445 to 0.76096, saving model to lstmModel_Best_points.keras\n",
            "220/220 [==============================] - 153s 696ms/step - loss: 0.6712 - accuracy: 0.7662 - val_loss: 0.6917 - val_accuracy: 0.7610 - lr: 0.0010\n",
            "Epoch 9/25\n",
            "220/220 [==============================] - ETA: 0s - loss: 0.5998 - accuracy: 0.7917\n",
            "Epoch 9: val_accuracy improved from 0.76096 to 0.77917, saving model to lstmModel_Best_points.keras\n",
            "220/220 [==============================] - 153s 696ms/step - loss: 0.5998 - accuracy: 0.7917 - val_loss: 0.6284 - val_accuracy: 0.7792 - lr: 0.0010\n",
            "Epoch 10/25\n",
            "220/220 [==============================] - ETA: 0s - loss: 0.5918 - accuracy: 0.7961\n",
            "Epoch 10: val_accuracy improved from 0.77917 to 0.79738, saving model to lstmModel_Best_points.keras\n",
            "220/220 [==============================] - 160s 728ms/step - loss: 0.5918 - accuracy: 0.7961 - val_loss: 0.6146 - val_accuracy: 0.7974 - lr: 0.0010\n",
            "Epoch 11/25\n",
            "220/220 [==============================] - ETA: 0s - loss: 0.5292 - accuracy: 0.8201\n",
            "Epoch 11: val_accuracy did not improve from 0.79738\n",
            "220/220 [==============================] - 160s 728ms/step - loss: 0.5292 - accuracy: 0.8201 - val_loss: 0.6138 - val_accuracy: 0.7883 - lr: 0.0010\n",
            "Epoch 12/25\n",
            "220/220 [==============================] - ETA: 0s - loss: 0.5183 - accuracy: 0.8221\n",
            "Epoch 12: val_accuracy did not improve from 0.79738\n",
            "220/220 [==============================] - 160s 727ms/step - loss: 0.5183 - accuracy: 0.8221 - val_loss: 0.7224 - val_accuracy: 0.7541 - lr: 0.0010\n",
            "Epoch 13/25\n",
            "220/220 [==============================] - ETA: 0s - loss: 0.5049 - accuracy: 0.8267\n",
            "Epoch 13: val_accuracy did not improve from 0.79738\n",
            "220/220 [==============================] - 160s 727ms/step - loss: 0.5049 - accuracy: 0.8267 - val_loss: 0.6170 - val_accuracy: 0.7849 - lr: 0.0010\n"
          ]
        }
      ],
      "source": [
        "epochs=25\n",
        "batch_size=32\n",
        "history = lstmModel.fit(X_train,\n",
        "                    y_train,\n",
        "                    validation_data=(X_test,y_test),\n",
        "                    epochs=epochs,\n",
        "                    batch_size=batch_size,\n",
        "                    callbacks = [MCP, ES, RLP]\n",
        "                    )"
      ]
    },
    {
      "cell_type": "markdown",
      "metadata": {
        "id": "4wyLL2HqenXZ"
      },
      "source": [
        "### Model Evaluation"
      ]
    },
    {
      "cell_type": "code",
      "execution_count": 89,
      "metadata": {
        "colab": {
          "base_uri": "https://localhost:8080/",
          "height": 472
        },
        "execution": {
          "iopub.execute_input": "2024-05-07T23:27:49.012866Z",
          "iopub.status.busy": "2024-05-07T23:27:49.011955Z",
          "iopub.status.idle": "2024-05-07T23:27:49.339867Z",
          "shell.execute_reply": "2024-05-07T23:27:49.338839Z",
          "shell.execute_reply.started": "2024-05-07T23:27:49.012835Z"
        },
        "id": "ype2dUuNenXZ",
        "outputId": "4deda9d3-482d-44aa-8cc8-e8f6149445f3",
        "trusted": true
      },
      "outputs": [
        {
          "data": {
            "image/png": "[encoded data removed]",
            "text/plain": [
              "<Figure size 640x480 with 1 Axes>"
            ]
          },
          "metadata": {},
          "output_type": "display_data"
        }
      ],
      "source": [
        "plt.plot(history.history['accuracy'], label='Training acc')\n",
        "plt.plot(history.history['val_accuracy'],label='Validation acc')\n",
        "plt.title('model accuracy')\n",
        "plt.ylabel('Accuracy')\n",
        "plt.xlabel('Epoch')\n",
        "plt.legend()\n",
        "plt.show()"
      ]
    },
    {
      "cell_type": "code",
      "execution_count": 90,
      "metadata": {
        "colab": {
          "base_uri": "https://localhost:8080/",
          "height": 472
        },
        "execution": {
          "iopub.execute_input": "2024-05-07T23:27:53.288823Z",
          "iopub.status.busy": "2024-05-07T23:27:53.288416Z",
          "iopub.status.idle": "2024-05-07T23:27:53.634068Z",
          "shell.execute_reply": "2024-05-07T23:27:53.633149Z",
          "shell.execute_reply.started": "2024-05-07T23:27:53.288794Z"
        },
        "id": "SHr1VxCoenXZ",
        "outputId": "fb12c734-1b99-4189-eb0c-286162787077",
        "trusted": true
      },
      "outputs": [
        {
          "data": {
            "image/png": "[encoded data removed]",
            "text/plain": [
              "<Figure size 640x480 with 1 Axes>"
            ]
          },
          "metadata": {},
          "output_type": "display_data"
        }
      ],
      "source": [
        "plt.plot(history.history['loss'], label='Training loss')\n",
        "plt.plot(history.history['val_loss'],label='Validation loss')\n",
        "plt.title('model loss')\n",
        "plt.ylabel('Accuracy')\n",
        "plt.xlabel('Epoch')\n",
        "plt.legend()\n",
        "plt.show()"
      ]
    },
    {
      "cell_type": "code",
      "execution_count": 97,
      "metadata": {
        "colab": {
          "base_uri": "https://localhost:8080/"
        },
        "execution": {
          "iopub.execute_input": "2024-05-07T23:27:57.135713Z",
          "iopub.status.busy": "2024-05-07T23:27:57.135319Z",
          "iopub.status.idle": "2024-05-07T23:28:19.285678Z",
          "shell.execute_reply": "2024-05-07T23:28:19.284721Z",
          "shell.execute_reply.started": "2024-05-07T23:27:57.135682Z"
        },
        "id": "AeGKf3XWenXZ",
        "outputId": "4044cb10-087c-4d36-f48d-efd05fd47898",
        "trusted": true
      },
      "outputs": [
        {
          "name": "stdout",
          "output_type": "stream",
          "text": [
            "55/55 [==============================] - 15s 245ms/step\n"
          ]
        }
      ],
      "source": [
        "# Make predictions on the test data\n",
        "lstmPredictions_prob = lstmModel.predict(X_test)\n",
        "lstmPredictions = np.argmax(lstmPredictions_prob, axis=1)"
      ]
    },
    {
      "cell_type": "code",
      "execution_count": 98,
      "metadata": {
        "execution": {
          "iopub.execute_input": "2024-05-07T23:28:19.287986Z",
          "iopub.status.busy": "2024-05-07T23:28:19.287554Z",
          "iopub.status.idle": "2024-05-07T23:28:19.293592Z",
          "shell.execute_reply": "2024-05-07T23:28:19.292608Z",
          "shell.execute_reply.started": "2024-05-07T23:28:19.287954Z"
        },
        "id": "imR6GZBRenXa",
        "trusted": true
      },
      "outputs": [],
      "source": [
        "lstm_true_labels = np.argmax(y_test, axis=1)"
      ]
    },
    {
      "cell_type": "code",
      "execution_count": 99,
      "metadata": {
        "colab": {
          "base_uri": "https://localhost:8080/"
        },
        "execution": {
          "iopub.execute_input": "2024-05-07T23:28:19.295526Z",
          "iopub.status.busy": "2024-05-07T23:28:19.29522Z",
          "iopub.status.idle": "2024-05-07T23:28:19.316965Z",
          "shell.execute_reply": "2024-05-07T23:28:19.315917Z",
          "shell.execute_reply.started": "2024-05-07T23:28:19.295481Z"
        },
        "id": "tYIKztKdenXa",
        "outputId": "2669bdb7-bad5-4fa9-9426-82bc394772e1",
        "trusted": true
      },
      "outputs": [
        {
          "name": "stdout",
          "output_type": "stream",
          "text": [
            "              precision    recall  f1-score   support\n",
            "\n",
            "           0       0.95      0.81      0.87       347\n",
            "           1       0.38      0.18      0.25       153\n",
            "           2       0.87      0.82      0.84       402\n",
            "           3       0.65      0.86      0.74       272\n",
            "           4       0.98      0.95      0.96       182\n",
            "           5       0.75      0.88      0.81       401\n",
            "\n",
            "    accuracy                           0.80      1757\n",
            "   macro avg       0.76      0.75      0.75      1757\n",
            "weighted avg       0.79      0.80      0.79      1757\n",
            "\n"
          ]
        }
      ],
      "source": [
        "#Generate the classification report\n",
        "report = classification_report(lstm_true_labels, lstmPredictions)\n",
        "print(report)"
      ]
    },
    {
      "cell_type": "code",
      "execution_count": 100,
      "metadata": {
        "execution": {
          "iopub.execute_input": "2024-05-07T23:28:19.319928Z",
          "iopub.status.busy": "2024-05-07T23:28:19.319336Z",
          "iopub.status.idle": "2024-05-07T23:28:19.327387Z",
          "shell.execute_reply": "2024-05-07T23:28:19.326374Z",
          "shell.execute_reply.started": "2024-05-07T23:28:19.319891Z"
        },
        "id": "GlSO8T5kenXa",
        "trusted": true
      },
      "outputs": [],
      "source": [
        "# Calculate the confusion matrix\n",
        "lstm_conf_matrix = confusion_matrix(lstm_true_labels, lstmPredictions)"
      ]
    },
    {
      "cell_type": "code",
      "execution_count": 101,
      "metadata": {
        "execution": {
          "iopub.execute_input": "2024-05-07T23:28:19.329609Z",
          "iopub.status.busy": "2024-05-07T23:28:19.328877Z",
          "iopub.status.idle": "2024-05-07T23:28:19.336413Z",
          "shell.execute_reply": "2024-05-07T23:28:19.335465Z",
          "shell.execute_reply.started": "2024-05-07T23:28:19.329583Z"
        },
        "id": "MWdbtW_wenXa",
        "trusted": true
      },
      "outputs": [],
      "source": [
        "class_names = ['Business', 'Entertainment', 'Middle East News','Science and Technology', 'Sport', 'World']"
      ]
    },
    {
      "cell_type": "code",
      "execution_count": 102,
      "metadata": {
        "colab": {
          "base_uri": "https://localhost:8080/",
          "height": 870
        },
        "execution": {
          "iopub.execute_input": "2024-05-07T23:28:19.338246Z",
          "iopub.status.busy": "2024-05-07T23:28:19.337666Z",
          "iopub.status.idle": "2024-05-07T23:28:19.841438Z",
          "shell.execute_reply": "2024-05-07T23:28:19.840352Z",
          "shell.execute_reply.started": "2024-05-07T23:28:19.338222Z"
        },
        "id": "PGj_YGmxenXa",
        "outputId": "4c1c83b4-dfb2-480e-d820-9f662a061653",
        "trusted": true
      },
      "outputs": [
        {
          "data": {
            "image/png": "[encoded data removed]",
            "text/plain": [
              "<Figure size 1000x800 with 2 Axes>"
            ]
          },
          "metadata": {},
          "output_type": "display_data"
        }
      ],
      "source": [
        "# Set up the matplotlib figure\n",
        "plt.figure(figsize=(10, 8))\n",
        "\n",
        "# Draw the heatmap with the mask and correct aspect ratio\n",
        "sns.heatmap(lstm_conf_matrix, annot=True, fmt='d', cmap='Blues', xticklabels=class_names, yticklabels=class_names)\n",
        "\n",
        "# Add labels and title\n",
        "plt.ylabel('True Label')\n",
        "plt.xlabel('Predicted Label')\n",
        "plt.title('Confusion Matrix')\n",
        "\n",
        "# Show the plot\n",
        "plt.show()"
      ]
    },
    {
      "cell_type": "markdown",
      "metadata": {
        "id": "U7Mje9vienXa"
      },
      "source": [
        "## CNN"
      ]
    },
    {
      "cell_type": "code",
      "execution_count": 103,
      "metadata": {
        "execution": {
          "iopub.execute_input": "2024-05-07T23:28:32.79354Z",
          "iopub.status.busy": "2024-05-07T23:28:32.793012Z",
          "iopub.status.idle": "2024-05-07T23:28:32.809877Z",
          "shell.execute_reply": "2024-05-07T23:28:32.808828Z",
          "shell.execute_reply.started": "2024-05-07T23:28:32.793498Z"
        },
        "id": "3d6FCJvJenXa",
        "trusted": true
      },
      "outputs": [],
      "source": [
        "cnnModel = Sequential()\n",
        "cnnModel.add(Embedding(voc_size, embedding_vector_features, input_length = input_length))\n",
        "cnnModel.add(Conv1D(128, 5, activation = 'relu'))\n",
        "cnnModel.add(GlobalMaxPooling1D())\n",
        "cnnModel.add(Dense(16, activation = 'relu'))\n",
        "cnnModel.add(Dropout(0.7))\n",
        "cnnModel.add(Dense(num_classes, activation = 'softmax'))"
      ]
    },
    {
      "cell_type": "code",
      "execution_count": 104,
      "metadata": {
        "execution": {
          "iopub.execute_input": "2024-05-07T23:28:34.668766Z",
          "iopub.status.busy": "2024-05-07T23:28:34.668346Z",
          "iopub.status.idle": "2024-05-07T23:28:34.678766Z",
          "shell.execute_reply": "2024-05-07T23:28:34.677752Z",
          "shell.execute_reply.started": "2024-05-07T23:28:34.66873Z"
        },
        "id": "xqyYCaW_enXa",
        "trusted": true
      },
      "outputs": [],
      "source": [
        "cnnModel.compile(optimizer=tf.keras.optimizers.Adam(learning_rate=0.001),\n",
        "                  loss='categorical_crossentropy',\n",
        "                  metrics=['accuracy'])"
      ]
    },
    {
      "cell_type": "code",
      "execution_count": 105,
      "metadata": {
        "colab": {
          "base_uri": "https://localhost:8080/"
        },
        "execution": {
          "iopub.execute_input": "2024-05-07T23:28:36.158038Z",
          "iopub.status.busy": "2024-05-07T23:28:36.157036Z",
          "iopub.status.idle": "2024-05-07T23:28:36.179663Z",
          "shell.execute_reply": "2024-05-07T23:28:36.178734Z",
          "shell.execute_reply.started": "2024-05-07T23:28:36.157992Z"
        },
        "id": "cD6VHxb1enXa",
        "outputId": "303878f3-5957-4ff1-d151-23a1150e71e4",
        "trusted": true
      },
      "outputs": [
        {
          "name": "stdout",
          "output_type": "stream",
          "text": [
            "Model: \"sequential_1\"\n",
            "_________________________________________________________________\n",
            " Layer (type)                Output Shape              Param #   \n",
            "=================================================================\n",
            " embedding_1 (Embedding)     (None, 3793, 1000)        1000000   \n",
            "                                                                 \n",
            " conv1d (Conv1D)             (None, 3789, 128)         640128    \n",
            "                                                                 \n",
            " global_max_pooling1d (Glob  (None, 128)               0         \n",
            " alMaxPooling1D)                                                 \n",
            "                                                                 \n",
            " dense_1 (Dense)             (None, 16)                2064      \n",
            "                                                                 \n",
            " dropout_2 (Dropout)         (None, 16)                0         \n",
            "                                                                 \n",
            " dense_2 (Dense)             (None, 6)                 102       \n",
            "                                                                 \n",
            "=================================================================\n",
            "Total params: 1642294 (6.26 MB)\n",
            "Trainable params: 1642294 (6.26 MB)\n",
            "Non-trainable params: 0 (0.00 Byte)\n",
            "_________________________________________________________________\n"
          ]
        }
      ],
      "source": [
        "cnnModel.summary()"
      ]
    },
    {
      "cell_type": "code",
      "execution_count": 106,
      "metadata": {
        "execution": {
          "iopub.execute_input": "2024-05-07T23:28:39.805986Z",
          "iopub.status.busy": "2024-05-07T23:28:39.804778Z",
          "iopub.status.idle": "2024-05-07T23:28:39.813415Z",
          "shell.execute_reply": "2024-05-07T23:28:39.812241Z",
          "shell.execute_reply.started": "2024-05-07T23:28:39.805948Z"
        },
        "id": "ovOSiU06enXa",
        "trusted": true
      },
      "outputs": [],
      "source": [
        "# Save best points when the model is improving\n",
        "cnnModel_best_points_path = 'cnnModel_Best_points.keras'\n",
        "MCP = ModelCheckpoint(cnnModel_best_points_path, verbose = 1, save_best_only = True, monitor = 'val_accuracy', mode = 'max')\n",
        "\n",
        "# Early stop when the model stops improving\n",
        "ES = EarlyStopping(monitor = 'val_accuracy', min_delta = 0, verbose = 0, restore_best_weights = True, patience = 3, mode = 'max')\n",
        "\n",
        "# Reduce the learning rate when the model stops improving, val_loss specifically\n",
        "RLP = ReduceLROnPlateau(monitor = 'val_loss', patience = 3, factor = 0.2, min_lr = 0.0001)"
      ]
    },
    {
      "cell_type": "code",
      "execution_count": 107,
      "metadata": {
        "colab": {
          "base_uri": "https://localhost:8080/"
        },
        "execution": {
          "iopub.execute_input": "2024-05-07T23:28:40.797854Z",
          "iopub.status.busy": "2024-05-07T23:28:40.797445Z",
          "iopub.status.idle": "2024-05-07T23:36:28.295366Z",
          "shell.execute_reply": "2024-05-07T23:36:28.294178Z",
          "shell.execute_reply.started": "2024-05-07T23:28:40.797821Z"
        },
        "id": "qRGY6zcnenXb",
        "outputId": "f209b62b-3cca-4963-de32-13b7ff7e1637",
        "trusted": true
      },
      "outputs": [
        {
          "name": "stdout",
          "output_type": "stream",
          "text": [
            "Epoch 1/25\n",
            "110/110 [==============================] - ETA: 0s - loss: 1.5469 - accuracy: 0.3219\n",
            "Epoch 1: val_accuracy improved from -inf to 0.80080, saving model to cnnModel_Best_points.keras\n",
            "110/110 [==============================] - 50s 381ms/step - loss: 1.5469 - accuracy: 0.3219 - val_loss: 1.0795 - val_accuracy: 0.8008 - lr: 0.0010\n",
            "Epoch 2/25\n",
            "110/110 [==============================] - ETA: 0s - loss: 1.2439 - accuracy: 0.4689\n",
            "Epoch 2: val_accuracy improved from 0.80080 to 0.83267, saving model to cnnModel_Best_points.keras\n",
            "110/110 [==============================] - 31s 283ms/step - loss: 1.2439 - accuracy: 0.4689 - val_loss: 0.8123 - val_accuracy: 0.8327 - lr: 0.0010\n",
            "Epoch 3/25\n",
            "110/110 [==============================] - ETA: 0s - loss: 1.1270 - accuracy: 0.5036\n",
            "Epoch 3: val_accuracy improved from 0.83267 to 0.86340, saving model to cnnModel_Best_points.keras\n",
            "110/110 [==============================] - 31s 282ms/step - loss: 1.1270 - accuracy: 0.5036 - val_loss: 0.6246 - val_accuracy: 0.8634 - lr: 0.0010\n",
            "Epoch 4/25\n",
            "110/110 [==============================] - ETA: 0s - loss: 1.0602 - accuracy: 0.5167\n",
            "Epoch 4: val_accuracy improved from 0.86340 to 0.86454, saving model to cnnModel_Best_points.keras\n",
            "110/110 [==============================] - 31s 280ms/step - loss: 1.0602 - accuracy: 0.5167 - val_loss: 0.5669 - val_accuracy: 0.8645 - lr: 0.0010\n",
            "Epoch 5/25\n",
            "110/110 [==============================] - ETA: 0s - loss: 1.0248 - accuracy: 0.5290\n",
            "Epoch 5: val_accuracy improved from 0.86454 to 0.87194, saving model to cnnModel_Best_points.keras\n",
            "110/110 [==============================] - 31s 278ms/step - loss: 1.0248 - accuracy: 0.5290 - val_loss: 0.5226 - val_accuracy: 0.8719 - lr: 0.0010\n",
            "Epoch 6/25\n",
            "110/110 [==============================] - ETA: 0s - loss: 1.0027 - accuracy: 0.5384\n",
            "Epoch 6: val_accuracy did not improve from 0.87194\n",
            "110/110 [==============================] - 31s 284ms/step - loss: 1.0027 - accuracy: 0.5384 - val_loss: 0.5116 - val_accuracy: 0.8668 - lr: 0.0010\n",
            "Epoch 7/25\n",
            "110/110 [==============================] - ETA: 0s - loss: 1.0012 - accuracy: 0.5412\n",
            "Epoch 7: val_accuracy improved from 0.87194 to 0.90154, saving model to cnnModel_Best_points.keras\n",
            "110/110 [==============================] - 31s 280ms/step - loss: 1.0012 - accuracy: 0.5412 - val_loss: 0.4385 - val_accuracy: 0.9015 - lr: 0.0010\n",
            "Epoch 8/25\n",
            "110/110 [==============================] - ETA: 0s - loss: 0.9551 - accuracy: 0.5571\n",
            "Epoch 8: val_accuracy did not improve from 0.90154\n",
            "110/110 [==============================] - 31s 279ms/step - loss: 0.9551 - accuracy: 0.5571 - val_loss: 0.4263 - val_accuracy: 0.8782 - lr: 0.0010\n",
            "Epoch 9/25\n",
            "110/110 [==============================] - ETA: 0s - loss: 0.9311 - accuracy: 0.5630\n",
            "Epoch 9: val_accuracy did not improve from 0.90154\n",
            "110/110 [==============================] - 31s 283ms/step - loss: 0.9311 - accuracy: 0.5630 - val_loss: 0.4184 - val_accuracy: 0.8685 - lr: 0.0010\n",
            "Epoch 10/25\n",
            "110/110 [==============================] - ETA: 0s - loss: 0.9326 - accuracy: 0.5702\n",
            "Epoch 10: val_accuracy did not improve from 0.90154\n",
            "110/110 [==============================] - 30s 277ms/step - loss: 0.9326 - accuracy: 0.5702 - val_loss: 0.3930 - val_accuracy: 0.8839 - lr: 0.0010\n"
          ]
        }
      ],
      "source": [
        "cnnHistory = cnnModel.fit(X_train, y_train,\n",
        "                    epochs = 25,\n",
        "                    validation_data = (X_test, y_test),\n",
        "                    batch_size = 64,\n",
        "                    callbacks = [MCP, ES, RLP])"
      ]
    },
    {
      "cell_type": "code",
      "execution_count": 108,
      "metadata": {
        "colab": {
          "base_uri": "https://localhost:8080/"
        },
        "execution": {
          "iopub.execute_input": "2024-05-07T23:36:45.360389Z",
          "iopub.status.busy": "2024-05-07T23:36:45.359983Z",
          "iopub.status.idle": "2024-05-07T23:36:48.801494Z",
          "shell.execute_reply": "2024-05-07T23:36:48.800547Z",
          "shell.execute_reply.started": "2024-05-07T23:36:45.36036Z"
        },
        "id": "RMRj8iO6enXb",
        "outputId": "b3d865ef-4d5e-451c-c168-4c2b18939b0c",
        "trusted": true
      },
      "outputs": [
        {
          "name": "stdout",
          "output_type": "stream",
          "text": [
            "55/55 - 3s - loss: 0.4385 - accuracy: 0.9015 - 3s/epoch - 57ms/step\n",
            "Test score: 0.43851038813591003\n",
            "Test accuracy: 0.9015367031097412\n"
          ]
        }
      ],
      "source": [
        "score = cnnModel.evaluate(X_test, y_test, verbose = 2)\n",
        "print(\"Test score:\", score[0])\n",
        "print('Test accuracy:', score[1])"
      ]
    },
    {
      "cell_type": "code",
      "execution_count": 109,
      "metadata": {
        "execution": {
          "iopub.execute_input": "2024-05-07T23:36:48.803421Z",
          "iopub.status.busy": "2024-05-07T23:36:48.803114Z",
          "iopub.status.idle": "2024-05-07T23:36:48.812749Z",
          "shell.execute_reply": "2024-05-07T23:36:48.811644Z",
          "shell.execute_reply.started": "2024-05-07T23:36:48.803395Z"
        },
        "id": "-dSDi3VLenXb",
        "trusted": true
      },
      "outputs": [],
      "source": [
        "plt.style.use('ggplot')\n",
        "\n",
        "def plot_history(history):\n",
        "    acc = history.history['accuracy']\n",
        "    val_acc = history.history['val_accuracy']\n",
        "    loss = history.history['loss']\n",
        "    val_loss = history.history['val_loss']\n",
        "    x = range(1, len(acc) + 1)\n",
        "\n",
        "    plt.figure(figsize=(12, 5))\n",
        "    plt.subplot(1, 2, 1)\n",
        "    plt.plot(x, acc, 'b', label='Training acc')\n",
        "    plt.plot(x, val_acc, 'r', label='Validation acc')\n",
        "    plt.title('Training and validation accuracy')\n",
        "    plt.legend()\n",
        "    plt.subplot(1, 2, 2)\n",
        "    plt.plot(x, loss, 'b', label='Training loss')\n",
        "    plt.plot(x, val_loss, 'r', label='Validation loss')\n",
        "    plt.title('Training and validation loss')\n",
        "    plt.legend()"
      ]
    },
    {
      "cell_type": "code",
      "execution_count": 110,
      "metadata": {
        "colab": {
          "base_uri": "https://localhost:8080/",
          "height": 469
        },
        "execution": {
          "iopub.execute_input": "2024-05-07T23:36:48.814396Z",
          "iopub.status.busy": "2024-05-07T23:36:48.814055Z",
          "iopub.status.idle": "2024-05-07T23:36:49.470305Z",
          "shell.execute_reply": "2024-05-07T23:36:49.46934Z",
          "shell.execute_reply.started": "2024-05-07T23:36:48.814371Z"
        },
        "id": "2CMSZB3genXb",
        "outputId": "dfd1ff8d-4142-42ed-f547-1b2978a8b88f",
        "trusted": true
      },
      "outputs": [
        {
          "data": {
            "image/png": "[encoded data removed]",
            "text/plain": [
              "<Figure size 1200x500 with 2 Axes>"
            ]
          },
          "metadata": {},
          "output_type": "display_data"
        }
      ],
      "source": [
        "plot_history(cnnHistory)"
      ]
    },
    {
      "cell_type": "code",
      "execution_count": 111,
      "metadata": {
        "colab": {
          "base_uri": "https://localhost:8080/"
        },
        "execution": {
          "iopub.execute_input": "2024-05-07T23:37:23.635369Z",
          "iopub.status.busy": "2024-05-07T23:37:23.634969Z",
          "iopub.status.idle": "2024-05-07T23:37:25.213637Z",
          "shell.execute_reply": "2024-05-07T23:37:25.21175Z",
          "shell.execute_reply.started": "2024-05-07T23:37:23.635341Z"
        },
        "id": "EcM7Hvl9enXb",
        "outputId": "53bd412b-6308-4150-e2fb-b6fc8060b61a",
        "trusted": true
      },
      "outputs": [
        {
          "name": "stdout",
          "output_type": "stream",
          "text": [
            "55/55 [==============================] - 2s 40ms/step\n"
          ]
        }
      ],
      "source": [
        "cnnPredictions_prob = cnnModel.predict(X_test)\n",
        "cnnPredictions = np.argmax(cnnPredictions_prob, axis=1)"
      ]
    },
    {
      "cell_type": "code",
      "execution_count": 112,
      "metadata": {
        "execution": {
          "iopub.execute_input": "2024-05-07T23:37:25.21679Z",
          "iopub.status.busy": "2024-05-07T23:37:25.216292Z",
          "iopub.status.idle": "2024-05-07T23:37:25.223686Z",
          "shell.execute_reply": "2024-05-07T23:37:25.222489Z",
          "shell.execute_reply.started": "2024-05-07T23:37:25.216726Z"
        },
        "id": "rSupIF7tenXb",
        "trusted": true
      },
      "outputs": [],
      "source": [
        "cnn_true_labels = np.argmax(y_test, axis=1)"
      ]
    },
    {
      "cell_type": "code",
      "execution_count": 113,
      "metadata": {
        "colab": {
          "base_uri": "https://localhost:8080/"
        },
        "execution": {
          "iopub.execute_input": "2024-05-07T23:37:25.22632Z",
          "iopub.status.busy": "2024-05-07T23:37:25.225151Z",
          "iopub.status.idle": "2024-05-07T23:37:25.250894Z",
          "shell.execute_reply": "2024-05-07T23:37:25.249435Z",
          "shell.execute_reply.started": "2024-05-07T23:37:25.226277Z"
        },
        "id": "BSIAcx4denXb",
        "outputId": "9e02bafc-8613-498c-ab97-2bacfb1b00da",
        "trusted": true
      },
      "outputs": [
        {
          "name": "stdout",
          "output_type": "stream",
          "text": [
            "              precision    recall  f1-score   support\n",
            "\n",
            "           0       0.95      0.81      0.87       347\n",
            "           1       0.38      0.18      0.25       153\n",
            "           2       0.87      0.82      0.84       402\n",
            "           3       0.65      0.86      0.74       272\n",
            "           4       0.98      0.95      0.96       182\n",
            "           5       0.75      0.88      0.81       401\n",
            "\n",
            "    accuracy                           0.80      1757\n",
            "   macro avg       0.76      0.75      0.75      1757\n",
            "weighted avg       0.79      0.80      0.79      1757\n",
            "\n"
          ]
        }
      ],
      "source": [
        "cnn_report = classification_report(cnn_true_labels, cnnPredictions)\n",
        "print(report)"
      ]
    },
    {
      "cell_type": "code",
      "execution_count": 114,
      "metadata": {
        "colab": {
          "base_uri": "https://localhost:8080/",
          "height": 875
        },
        "execution": {
          "iopub.execute_input": "2024-05-07T23:37:29.536502Z",
          "iopub.status.busy": "2024-05-07T23:37:29.536131Z",
          "iopub.status.idle": "2024-05-07T23:37:30.041967Z",
          "shell.execute_reply": "2024-05-07T23:37:30.041047Z",
          "shell.execute_reply.started": "2024-05-07T23:37:29.536478Z"
        },
        "id": "9y1kFh1GenXb",
        "outputId": "d744b670-29b1-4798-f419-70d5a1c4fcf3",
        "trusted": true
      },
      "outputs": [
        {
          "data": {
            "image/png": "[encoded data removed]",
            "text/plain": [
              "<Figure size 1000x800 with 2 Axes>"
            ]
          },
          "metadata": {},
          "output_type": "display_data"
        }
      ],
      "source": [
        "# confusion matrix\n",
        "cnn_conf_matrix = confusion_matrix(cnn_true_labels, cnnPredictions)\n",
        "class_names = ['Business', 'Entertainment', 'Middle East News','Science and Technology', 'Sport', 'World']\n",
        "# Set up the matplotlib figure\n",
        "plt.figure(figsize=(10, 8))\n",
        "\n",
        "# Draw the heatmap with the mask and correct aspect ratio\n",
        "sns.heatmap(cnn_conf_matrix, annot=True, fmt='d', cmap='Blues', xticklabels=class_names, yticklabels=class_names)\n",
        "\n",
        "# Add labels and title\n",
        "plt.ylabel('True Label')\n",
        "plt.xlabel('Predicted Label')\n",
        "plt.title('Confusion Matrix for cnn Model')\n",
        "\n",
        "# Show the plot\n",
        "plt.show()"
      ]
    }
  ],
  "metadata": {
    "accelerator": "GPU",
    "colab": {
      "gpuType": "T4",
      "include_colab_link": true,
      "name": "arabic_text_classification_LSTM_CNN",
      "provenance": []
    },
    "kaggle": {
      "accelerator": "nvidiaTeslaT4",
      "dataSources": [
        {
          "datasetId": 4919625,
          "sourceId": 8283296,
          "sourceType": "datasetVersion"
        },
        {
          "datasetId": 4950602,
          "sourceId": 8335875,
          "sourceType": "datasetVersion"
        }
      ],
      "dockerImageVersionId": 30699,
      "isGpuEnabled": true,
      "isInternetEnabled": true,
      "language": "python",
      "sourceType": "notebook"
    },
    "kernelspec": {
      "display_name": "Python 3",
      "name": "python3"
    },
    "language_info": {
      "codemirror_mode": {
        "name": "ipython",
        "version": 3
      },
      "file_extension": ".py",
      "mimetype": "text/x-python",
      "name": "python",
      "nbconvert_exporter": "python",
      "pygments_lexer": "ipython3",
      "version": "3.10.13"
    }
  },
  "nbformat": 4,
  "nbformat_minor": 0
}
