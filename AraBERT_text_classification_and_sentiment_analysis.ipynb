{
 "cells": [
  {
   "cell_type": "code",
   "execution_count": 1,
   "id": "6760c45a",
   "metadata": {
    "_cell_guid": "b1076dfc-b9ad-4769-8c92-a6c4dae69d19",
    "_uuid": "8f2839f25d086af736a60e9eeb907d3b93b6e0e5",
    "execution": {
     "iopub.execute_input": "2024-06-10T09:29:44.659601Z",
     "iopub.status.busy": "2024-06-10T09:29:44.659289Z",
     "iopub.status.idle": "2024-06-10T09:29:45.396436Z",
     "shell.execute_reply": "2024-06-10T09:29:45.395470Z"
    },
    "papermill": {
     "duration": 0.749579,
     "end_time": "2024-06-10T09:29:45.398694",
     "exception": false,
     "start_time": "2024-06-10T09:29:44.649115",
     "status": "completed"
    },
    "tags": []
   },
   "outputs": [
    {
     "name": "stdout",
     "output_type": "stream",
     "text": [
      "/kaggle/input/my-data/train_Arabic_tweets_positive_20190413.tsv\n",
      "/kaggle/input/my-data/train_Arabic_tweets_negative_20190413.tsv\n",
      "/kaggle/input/my-data/test_Arabic_tweets_positive_20190413.tsv\n",
      "/kaggle/input/my-data/test_Arabic_tweets_negative_20190413.tsv\n",
      "/kaggle/input/my-data/newsfeed.csv\n"
     ]
    }
   ],
   "source": [
    "# This Python 3 environment comes with many helpful analytics libraries installed\n",
    "# It is defined by the kaggle/python Docker image: https://github.com/kaggle/docker-python\n",
    "# For example, here's several helpful packages to load\n",
    "\n",
    "import numpy as np # linear algebra\n",
    "import pandas as pd # data processing, CSV file I/O (e.g. pd.read_csv)\n",
    "\n",
    "# Input data files are available in the read-only \"../input/\" directory\n",
    "# For example, running this (by clicking run or pressing Shift+Enter) will list all files under the input directory\n",
    "\n",
    "import os\n",
    "for dirname, _, filenames in os.walk('/kaggle/input'):\n",
    "    for filename in filenames:\n",
    "        print(os.path.join(dirname, filename))\n",
    "\n",
    "# You can write up to 20GB to the current directory (/kaggle/working/) that gets preserved as output when you create a version using \"Save & Run All\" \n",
    "# You can also write temporary files to /kaggle/temp/, but they won't be saved outside of the current session"
   ]
  },
  {
   "cell_type": "code",
   "execution_count": 2,
   "id": "17bf3b3f",
   "metadata": {
    "execution": {
     "iopub.execute_input": "2024-06-10T09:29:45.417565Z",
     "iopub.status.busy": "2024-06-10T09:29:45.417162Z",
     "iopub.status.idle": "2024-06-10T09:30:08.661915Z",
     "shell.execute_reply": "2024-06-10T09:30:08.660995Z"
    },
    "papermill": {
     "duration": 23.256546,
     "end_time": "2024-06-10T09:30:08.664249",
     "exception": false,
     "start_time": "2024-06-10T09:29:45.407703",
     "status": "completed"
    },
    "tags": []
   },
   "outputs": [
    {
     "name": "stdout",
     "output_type": "stream",
     "text": [
      "Collecting transformers==4.37.2\r\n",
      "  Downloading transformers-4.37.2-py3-none-any.whl.metadata (129 kB)\r\n",
      "\u001b[2K     \u001b[90m━━━━━━━━━━━━━━━━━━━━━━━━━━━━━━━━━━━━━━━\u001b[0m \u001b[32m129.4/129.4 kB\u001b[0m \u001b[31m5.0 MB/s\u001b[0m eta \u001b[36m0:00:00\u001b[0m\r\n",
      "\u001b[?25hRequirement already satisfied: filelock in /opt/conda/lib/python3.10/site-packages (from transformers==4.37.2) (3.13.1)\r\n",
      "Requirement already satisfied: huggingface-hub<1.0,>=0.19.3 in /opt/conda/lib/python3.10/site-packages (from transformers==4.37.2) (0.22.2)\r\n",
      "Requirement already satisfied: numpy>=1.17 in /opt/conda/lib/python3.10/site-packages (from transformers==4.37.2) (1.26.4)\r\n",
      "Requirement already satisfied: packaging>=20.0 in /opt/conda/lib/python3.10/site-packages (from transformers==4.37.2) (21.3)\r\n",
      "Requirement already satisfied: pyyaml>=5.1 in /opt/conda/lib/python3.10/site-packages (from transformers==4.37.2) (6.0.1)\r\n",
      "Requirement already satisfied: regex!=2019.12.17 in /opt/conda/lib/python3.10/site-packages (from transformers==4.37.2) (2023.12.25)\r\n",
      "Requirement already satisfied: requests in /opt/conda/lib/python3.10/site-packages (from transformers==4.37.2) (2.31.0)\r\n",
      "Requirement already satisfied: tokenizers<0.19,>=0.14 in /opt/conda/lib/python3.10/site-packages (from transformers==4.37.2) (0.15.2)\r\n",
      "Requirement already satisfied: safetensors>=0.4.1 in /opt/conda/lib/python3.10/site-packages (from transformers==4.37.2) (0.4.3)\r\n",
      "Requirement already satisfied: tqdm>=4.27 in /opt/conda/lib/python3.10/site-packages (from transformers==4.37.2) (4.66.1)\r\n",
      "Requirement already satisfied: fsspec>=2023.5.0 in /opt/conda/lib/python3.10/site-packages (from huggingface-hub<1.0,>=0.19.3->transformers==4.37.2) (2024.2.0)\r\n",
      "Requirement already satisfied: typing-extensions>=3.7.4.3 in /opt/conda/lib/python3.10/site-packages (from huggingface-hub<1.0,>=0.19.3->transformers==4.37.2) (4.9.0)\r\n",
      "Requirement already satisfied: pyparsing!=3.0.5,>=2.0.2 in /opt/conda/lib/python3.10/site-packages (from packaging>=20.0->transformers==4.37.2) (3.1.1)\r\n",
      "Requirement already satisfied: charset-normalizer<4,>=2 in /opt/conda/lib/python3.10/site-packages (from requests->transformers==4.37.2) (3.3.2)\r\n",
      "Requirement already satisfied: idna<4,>=2.5 in /opt/conda/lib/python3.10/site-packages (from requests->transformers==4.37.2) (3.6)\r\n",
      "Requirement already satisfied: urllib3<3,>=1.21.1 in /opt/conda/lib/python3.10/site-packages (from requests->transformers==4.37.2) (1.26.18)\r\n",
      "Requirement already satisfied: certifi>=2017.4.17 in /opt/conda/lib/python3.10/site-packages (from requests->transformers==4.37.2) (2024.2.2)\r\n",
      "Downloading transformers-4.37.2-py3-none-any.whl (8.4 MB)\r\n",
      "\u001b[2K   \u001b[90m━━━━━━━━━━━━━━━━━━━━━━━━━━━━━━━━━━━━━━━━\u001b[0m \u001b[32m8.4/8.4 MB\u001b[0m \u001b[31m80.1 MB/s\u001b[0m eta \u001b[36m0:00:00\u001b[0m\r\n",
      "\u001b[?25hInstalling collected packages: transformers\r\n",
      "  Attempting uninstall: transformers\r\n",
      "    Found existing installation: transformers 4.39.3\r\n",
      "    Uninstalling transformers-4.39.3:\r\n",
      "      Successfully uninstalled transformers-4.39.3\r\n",
      "Successfully installed transformers-4.37.2\r\n"
     ]
    }
   ],
   "source": [
    "!pip install transformers==4.37.2"
   ]
  },
  {
   "cell_type": "code",
   "execution_count": 3,
   "id": "dd1dbc5c",
   "metadata": {
    "execution": {
     "iopub.execute_input": "2024-06-10T09:30:08.685672Z",
     "iopub.status.busy": "2024-06-10T09:30:08.685339Z",
     "iopub.status.idle": "2024-06-10T09:31:05.327412Z",
     "shell.execute_reply": "2024-06-10T09:31:05.326040Z"
    },
    "papermill": {
     "duration": 56.656157,
     "end_time": "2024-06-10T09:31:05.330522",
     "exception": false,
     "start_time": "2024-06-10T09:30:08.674365",
     "status": "completed"
    },
    "tags": []
   },
   "outputs": [
    {
     "name": "stdout",
     "output_type": "stream",
     "text": [
      "Collecting tensorflow==2.15.1\r\n",
      "  Downloading tensorflow-2.15.1-cp310-cp310-manylinux_2_17_x86_64.manylinux2014_x86_64.whl.metadata (4.2 kB)\r\n",
      "Requirement already satisfied: absl-py>=1.0.0 in /opt/conda/lib/python3.10/site-packages (from tensorflow==2.15.1) (1.4.0)\r\n",
      "Requirement already satisfied: astunparse>=1.6.0 in /opt/conda/lib/python3.10/site-packages (from tensorflow==2.15.1) (1.6.3)\r\n",
      "Requirement already satisfied: flatbuffers>=23.5.26 in /opt/conda/lib/python3.10/site-packages (from tensorflow==2.15.1) (23.5.26)\r\n",
      "Requirement already satisfied: gast!=0.5.0,!=0.5.1,!=0.5.2,>=0.2.1 in /opt/conda/lib/python3.10/site-packages (from tensorflow==2.15.1) (0.5.4)\r\n",
      "Requirement already satisfied: google-pasta>=0.1.1 in /opt/conda/lib/python3.10/site-packages (from tensorflow==2.15.1) (0.2.0)\r\n",
      "Requirement already satisfied: h5py>=2.9.0 in /opt/conda/lib/python3.10/site-packages (from tensorflow==2.15.1) (3.10.0)\r\n",
      "Requirement already satisfied: libclang>=13.0.0 in /opt/conda/lib/python3.10/site-packages (from tensorflow==2.15.1) (16.0.6)\r\n",
      "Collecting ml-dtypes~=0.3.1 (from tensorflow==2.15.1)\r\n",
      "  Downloading ml_dtypes-0.3.2-cp310-cp310-manylinux_2_17_x86_64.manylinux2014_x86_64.whl.metadata (20 kB)\r\n",
      "Requirement already satisfied: numpy<2.0.0,>=1.23.5 in /opt/conda/lib/python3.10/site-packages (from tensorflow==2.15.1) (1.26.4)\r\n",
      "Requirement already satisfied: opt-einsum>=2.3.2 in /opt/conda/lib/python3.10/site-packages (from tensorflow==2.15.1) (3.3.0)\r\n",
      "Requirement already satisfied: packaging in /opt/conda/lib/python3.10/site-packages (from tensorflow==2.15.1) (21.3)\r\n",
      "Requirement already satisfied: protobuf!=4.21.0,!=4.21.1,!=4.21.2,!=4.21.3,!=4.21.4,!=4.21.5,<5.0.0dev,>=3.20.3 in /opt/conda/lib/python3.10/site-packages (from tensorflow==2.15.1) (3.20.3)\r\n",
      "Requirement already satisfied: setuptools in /opt/conda/lib/python3.10/site-packages (from tensorflow==2.15.1) (69.0.3)\r\n",
      "Requirement already satisfied: six>=1.12.0 in /opt/conda/lib/python3.10/site-packages (from tensorflow==2.15.1) (1.16.0)\r\n",
      "Requirement already satisfied: termcolor>=1.1.0 in /opt/conda/lib/python3.10/site-packages (from tensorflow==2.15.1) (2.4.0)\r\n",
      "Requirement already satisfied: typing-extensions>=3.6.6 in /opt/conda/lib/python3.10/site-packages (from tensorflow==2.15.1) (4.9.0)\r\n",
      "Requirement already satisfied: wrapt<1.15,>=1.11.0 in /opt/conda/lib/python3.10/site-packages (from tensorflow==2.15.1) (1.14.1)\r\n",
      "Requirement already satisfied: tensorflow-io-gcs-filesystem>=0.23.1 in /opt/conda/lib/python3.10/site-packages (from tensorflow==2.15.1) (0.35.0)\r\n",
      "Requirement already satisfied: grpcio<2.0,>=1.24.3 in /opt/conda/lib/python3.10/site-packages (from tensorflow==2.15.1) (1.51.1)\r\n",
      "Requirement already satisfied: tensorboard<2.16,>=2.15 in /opt/conda/lib/python3.10/site-packages (from tensorflow==2.15.1) (2.15.1)\r\n",
      "Requirement already satisfied: tensorflow-estimator<2.16,>=2.15.0 in /opt/conda/lib/python3.10/site-packages (from tensorflow==2.15.1) (2.15.0)\r\n",
      "Collecting keras<2.16,>=2.15.0 (from tensorflow==2.15.1)\r\n",
      "  Downloading keras-2.15.0-py3-none-any.whl.metadata (2.4 kB)\r\n",
      "Requirement already satisfied: wheel<1.0,>=0.23.0 in /opt/conda/lib/python3.10/site-packages (from astunparse>=1.6.0->tensorflow==2.15.1) (0.42.0)\r\n",
      "Requirement already satisfied: google-auth<3,>=1.6.3 in /opt/conda/lib/python3.10/site-packages (from tensorboard<2.16,>=2.15->tensorflow==2.15.1) (2.26.1)\r\n",
      "Requirement already satisfied: google-auth-oauthlib<2,>=0.5 in /opt/conda/lib/python3.10/site-packages (from tensorboard<2.16,>=2.15->tensorflow==2.15.1) (1.2.0)\r\n",
      "Requirement already satisfied: markdown>=2.6.8 in /opt/conda/lib/python3.10/site-packages (from tensorboard<2.16,>=2.15->tensorflow==2.15.1) (3.5.2)\r\n",
      "Requirement already satisfied: requests<3,>=2.21.0 in /opt/conda/lib/python3.10/site-packages (from tensorboard<2.16,>=2.15->tensorflow==2.15.1) (2.31.0)\r\n",
      "Requirement already satisfied: tensorboard-data-server<0.8.0,>=0.7.0 in /opt/conda/lib/python3.10/site-packages (from tensorboard<2.16,>=2.15->tensorflow==2.15.1) (0.7.2)\r\n",
      "Requirement already satisfied: werkzeug>=1.0.1 in /opt/conda/lib/python3.10/site-packages (from tensorboard<2.16,>=2.15->tensorflow==2.15.1) (3.0.2)\r\n",
      "Requirement already satisfied: pyparsing!=3.0.5,>=2.0.2 in /opt/conda/lib/python3.10/site-packages (from packaging->tensorflow==2.15.1) (3.1.1)\r\n",
      "Requirement already satisfied: cachetools<6.0,>=2.0.0 in /opt/conda/lib/python3.10/site-packages (from google-auth<3,>=1.6.3->tensorboard<2.16,>=2.15->tensorflow==2.15.1) (4.2.4)\r\n",
      "Requirement already satisfied: pyasn1-modules>=0.2.1 in /opt/conda/lib/python3.10/site-packages (from google-auth<3,>=1.6.3->tensorboard<2.16,>=2.15->tensorflow==2.15.1) (0.3.0)\r\n",
      "Requirement already satisfied: rsa<5,>=3.1.4 in /opt/conda/lib/python3.10/site-packages (from google-auth<3,>=1.6.3->tensorboard<2.16,>=2.15->tensorflow==2.15.1) (4.9)\r\n",
      "Requirement already satisfied: requests-oauthlib>=0.7.0 in /opt/conda/lib/python3.10/site-packages (from google-auth-oauthlib<2,>=0.5->tensorboard<2.16,>=2.15->tensorflow==2.15.1) (1.3.1)\r\n",
      "Requirement already satisfied: charset-normalizer<4,>=2 in /opt/conda/lib/python3.10/site-packages (from requests<3,>=2.21.0->tensorboard<2.16,>=2.15->tensorflow==2.15.1) (3.3.2)\r\n",
      "Requirement already satisfied: idna<4,>=2.5 in /opt/conda/lib/python3.10/site-packages (from requests<3,>=2.21.0->tensorboard<2.16,>=2.15->tensorflow==2.15.1) (3.6)\r\n",
      "Requirement already satisfied: urllib3<3,>=1.21.1 in /opt/conda/lib/python3.10/site-packages (from requests<3,>=2.21.0->tensorboard<2.16,>=2.15->tensorflow==2.15.1) (1.26.18)\r\n",
      "Requirement already satisfied: certifi>=2017.4.17 in /opt/conda/lib/python3.10/site-packages (from requests<3,>=2.21.0->tensorboard<2.16,>=2.15->tensorflow==2.15.1) (2024.2.2)\r\n",
      "Requirement already satisfied: MarkupSafe>=2.1.1 in /opt/conda/lib/python3.10/site-packages (from werkzeug>=1.0.1->tensorboard<2.16,>=2.15->tensorflow==2.15.1) (2.1.3)\r\n",
      "Requirement already satisfied: pyasn1<0.6.0,>=0.4.6 in /opt/conda/lib/python3.10/site-packages (from pyasn1-modules>=0.2.1->google-auth<3,>=1.6.3->tensorboard<2.16,>=2.15->tensorflow==2.15.1) (0.5.1)\r\n",
      "Requirement already satisfied: oauthlib>=3.0.0 in /opt/conda/lib/python3.10/site-packages (from requests-oauthlib>=0.7.0->google-auth-oauthlib<2,>=0.5->tensorboard<2.16,>=2.15->tensorflow==2.15.1) (3.2.2)\r\n",
      "Downloading tensorflow-2.15.1-cp310-cp310-manylinux_2_17_x86_64.manylinux2014_x86_64.whl (475.2 MB)\r\n",
      "\u001b[2K   \u001b[90m━━━━━━━━━━━━━━━━━━━━━━━━━━━━━━━━━━━━━━━━\u001b[0m \u001b[32m475.2/475.2 MB\u001b[0m \u001b[31m3.3 MB/s\u001b[0m eta \u001b[36m0:00:00\u001b[0m\r\n",
      "\u001b[?25hDownloading keras-2.15.0-py3-none-any.whl (1.7 MB)\r\n",
      "\u001b[2K   \u001b[90m━━━━━━━━━━━━━━━━━━━━━━━━━━━━━━━━━━━━━━━━\u001b[0m \u001b[32m1.7/1.7 MB\u001b[0m \u001b[31m58.3 MB/s\u001b[0m eta \u001b[36m0:00:00\u001b[0m\r\n",
      "\u001b[?25hDownloading ml_dtypes-0.3.2-cp310-cp310-manylinux_2_17_x86_64.manylinux2014_x86_64.whl (2.2 MB)\r\n",
      "\u001b[2K   \u001b[90m━━━━━━━━━━━━━━━━━━━━━━━━━━━━━━━━━━━━━━━━\u001b[0m \u001b[32m2.2/2.2 MB\u001b[0m \u001b[31m67.1 MB/s\u001b[0m eta \u001b[36m0:00:00\u001b[0m\r\n",
      "\u001b[?25hInstalling collected packages: ml-dtypes, keras, tensorflow\r\n",
      "  Attempting uninstall: ml-dtypes\r\n",
      "    Found existing installation: ml-dtypes 0.2.0\r\n",
      "    Uninstalling ml-dtypes-0.2.0:\r\n",
      "      Successfully uninstalled ml-dtypes-0.2.0\r\n",
      "  Attempting uninstall: keras\r\n",
      "    Found existing installation: keras 3.2.1\r\n",
      "    Uninstalling keras-3.2.1:\r\n",
      "      Successfully uninstalled keras-3.2.1\r\n",
      "  Attempting uninstall: tensorflow\r\n",
      "    Found existing installation: tensorflow 2.15.0\r\n",
      "    Uninstalling tensorflow-2.15.0:\r\n",
      "      Successfully uninstalled tensorflow-2.15.0\r\n",
      "\u001b[31mERROR: pip's dependency resolver does not currently take into account all the packages that are installed. This behaviour is the source of the following dependency conflicts.\r\n",
      "tensorflow-decision-forests 1.8.1 requires wurlitzer, which is not installed.\u001b[0m\u001b[31m\r\n",
      "\u001b[0mSuccessfully installed keras-2.15.0 ml-dtypes-0.3.2 tensorflow-2.15.1\r\n"
     ]
    }
   ],
   "source": [
    "!pip install tensorflow==2.15.1"
   ]
  },
  {
   "cell_type": "code",
   "execution_count": 4,
   "id": "97b54583",
   "metadata": {
    "execution": {
     "iopub.execute_input": "2024-06-10T09:31:05.380492Z",
     "iopub.status.busy": "2024-06-10T09:31:05.379305Z",
     "iopub.status.idle": "2024-06-10T09:31:14.032486Z",
     "shell.execute_reply": "2024-06-10T09:31:14.031531Z"
    },
    "papermill": {
     "duration": 8.68092,
     "end_time": "2024-06-10T09:31:14.034872",
     "exception": false,
     "start_time": "2024-06-10T09:31:05.353952",
     "status": "completed"
    },
    "tags": []
   },
   "outputs": [
    {
     "name": "stdout",
     "output_type": "stream",
     "text": [
      "2024-06-10 09:31:07.078104: E external/local_xla/xla/stream_executor/cuda/cuda_dnn.cc:9261] Unable to register cuDNN factory: Attempting to register factory for plugin cuDNN when one has already been registered\r\n",
      "2024-06-10 09:31:07.078159: E external/local_xla/xla/stream_executor/cuda/cuda_fft.cc:607] Unable to register cuFFT factory: Attempting to register factory for plugin cuFFT when one has already been registered\r\n",
      "2024-06-10 09:31:07.079840: E external/local_xla/xla/stream_executor/cuda/cuda_blas.cc:1515] Unable to register cuBLAS factory: Attempting to register factory for plugin cuBLAS when one has already been registered\r\n",
      "2.15.1\r\n"
     ]
    }
   ],
   "source": [
    "!python -c \"import tensorflow as tf; print(tf.__version__)\""
   ]
  },
  {
   "cell_type": "code",
   "execution_count": 5,
   "id": "e8ba068c",
   "metadata": {
    "execution": {
     "iopub.execute_input": "2024-06-10T09:31:14.079578Z",
     "iopub.status.busy": "2024-06-10T09:31:14.079253Z",
     "iopub.status.idle": "2024-06-10T09:31:57.106917Z",
     "shell.execute_reply": "2024-06-10T09:31:57.105979Z"
    },
    "papermill": {
     "duration": 43.052621,
     "end_time": "2024-06-10T09:31:57.109262",
     "exception": false,
     "start_time": "2024-06-10T09:31:14.056641",
     "status": "completed"
    },
    "tags": []
   },
   "outputs": [
    {
     "name": "stdout",
     "output_type": "stream",
     "text": [
      "Collecting ktrain\r\n",
      "  Downloading ktrain-0.41.3.tar.gz (25.3 MB)\r\n",
      "\u001b[2K     \u001b[90m━━━━━━━━━━━━━━━━━━━━━━━━━━━━━━━━━━━━━━━━\u001b[0m \u001b[32m25.3/25.3 MB\u001b[0m \u001b[31m66.6 MB/s\u001b[0m eta \u001b[36m0:00:00\u001b[0m\r\n",
      "\u001b[?25h  Preparing metadata (setup.py) ... \u001b[?25l-\b \bdone\r\n",
      "\u001b[?25hRequirement already satisfied: scikit-learn in /opt/conda/lib/python3.10/site-packages (from ktrain) (1.2.2)\r\n",
      "Requirement already satisfied: matplotlib>=3.0.0 in /opt/conda/lib/python3.10/site-packages (from ktrain) (3.7.5)\r\n",
      "Requirement already satisfied: pandas>=1.0.1 in /opt/conda/lib/python3.10/site-packages (from ktrain) (2.1.4)\r\n",
      "Requirement already satisfied: fastprogress>=0.1.21 in /opt/conda/lib/python3.10/site-packages (from ktrain) (1.0.3)\r\n",
      "Requirement already satisfied: requests in /opt/conda/lib/python3.10/site-packages (from ktrain) (2.31.0)\r\n",
      "Requirement already satisfied: joblib in /opt/conda/lib/python3.10/site-packages (from ktrain) (1.4.0)\r\n",
      "Requirement already satisfied: packaging in /opt/conda/lib/python3.10/site-packages (from ktrain) (21.3)\r\n",
      "Collecting langdetect (from ktrain)\r\n",
      "  Downloading langdetect-1.0.9.tar.gz (981 kB)\r\n",
      "\u001b[2K     \u001b[90m━━━━━━━━━━━━━━━━━━━━━━━━━━━━━━━━━━━━━━\u001b[0m \u001b[32m981.5/981.5 kB\u001b[0m \u001b[31m41.7 MB/s\u001b[0m eta \u001b[36m0:00:00\u001b[0m\r\n",
      "\u001b[?25h  Preparing metadata (setup.py) ... \u001b[?25l-\b \bdone\r\n",
      "\u001b[?25hRequirement already satisfied: jieba in /opt/conda/lib/python3.10/site-packages (from ktrain) (0.42.1)\r\n",
      "Requirement already satisfied: charset-normalizer in /opt/conda/lib/python3.10/site-packages (from ktrain) (3.3.2)\r\n",
      "Collecting chardet (from ktrain)\r\n",
      "  Downloading chardet-5.2.0-py3-none-any.whl.metadata (3.4 kB)\r\n",
      "Collecting syntok>1.3.3 (from ktrain)\r\n",
      "  Downloading syntok-1.4.4-py3-none-any.whl.metadata (10 kB)\r\n",
      "Collecting tika (from ktrain)\r\n",
      "  Downloading tika-2.6.0.tar.gz (27 kB)\r\n",
      "  Preparing metadata (setup.py) ... \u001b[?25l-\b \bdone\r\n",
      "\u001b[?25hRequirement already satisfied: transformers in /opt/conda/lib/python3.10/site-packages (from ktrain) (4.37.2)\r\n",
      "Requirement already satisfied: sentencepiece in /opt/conda/lib/python3.10/site-packages (from ktrain) (0.2.0)\r\n",
      "Collecting keras_bert>=0.86.0 (from ktrain)\r\n",
      "  Downloading keras-bert-0.89.0.tar.gz (25 kB)\r\n",
      "  Preparing metadata (setup.py) ... \u001b[?25l-\b \bdone\r\n",
      "\u001b[?25hCollecting whoosh (from ktrain)\r\n",
      "  Downloading Whoosh-2.7.4-py2.py3-none-any.whl.metadata (3.1 kB)\r\n",
      "Requirement already satisfied: numpy in /opt/conda/lib/python3.10/site-packages (from keras_bert>=0.86.0->ktrain) (1.26.4)\r\n",
      "Collecting keras-transformer==0.40.0 (from keras_bert>=0.86.0->ktrain)\r\n",
      "  Downloading keras-transformer-0.40.0.tar.gz (9.7 kB)\r\n",
      "  Preparing metadata (setup.py) ... \u001b[?25l-\b \bdone\r\n",
      "\u001b[?25hCollecting keras-pos-embd==0.13.0 (from keras-transformer==0.40.0->keras_bert>=0.86.0->ktrain)\r\n",
      "  Downloading keras-pos-embd-0.13.0.tar.gz (5.6 kB)\r\n",
      "  Preparing metadata (setup.py) ... \u001b[?25l-\b \bdone\r\n",
      "\u001b[?25hCollecting keras-multi-head==0.29.0 (from keras-transformer==0.40.0->keras_bert>=0.86.0->ktrain)\r\n",
      "  Downloading keras-multi-head-0.29.0.tar.gz (13 kB)\r\n",
      "  Preparing metadata (setup.py) ... \u001b[?25l-\b \bdone\r\n",
      "\u001b[?25hCollecting keras-layer-normalization==0.16.0 (from keras-transformer==0.40.0->keras_bert>=0.86.0->ktrain)\r\n",
      "  Downloading keras-layer-normalization-0.16.0.tar.gz (3.9 kB)\r\n",
      "  Preparing metadata (setup.py) ... \u001b[?25l-\b \bdone\r\n",
      "\u001b[?25hCollecting keras-position-wise-feed-forward==0.8.0 (from keras-transformer==0.40.0->keras_bert>=0.86.0->ktrain)\r\n",
      "  Downloading keras-position-wise-feed-forward-0.8.0.tar.gz (4.1 kB)\r\n",
      "  Preparing metadata (setup.py) ... \u001b[?25l-\b \bdone\r\n",
      "\u001b[?25hCollecting keras-embed-sim==0.10.0 (from keras-transformer==0.40.0->keras_bert>=0.86.0->ktrain)\r\n",
      "  Downloading keras-embed-sim-0.10.0.tar.gz (3.6 kB)\r\n",
      "  Preparing metadata (setup.py) ... \u001b[?25l-\b \bdone\r\n",
      "\u001b[?25hCollecting keras-self-attention==0.51.0 (from keras-multi-head==0.29.0->keras-transformer==0.40.0->keras_bert>=0.86.0->ktrain)\r\n",
      "  Downloading keras-self-attention-0.51.0.tar.gz (11 kB)\r\n",
      "  Preparing metadata (setup.py) ... \u001b[?25l-\b \bdone\r\n",
      "\u001b[?25hRequirement already satisfied: contourpy>=1.0.1 in /opt/conda/lib/python3.10/site-packages (from matplotlib>=3.0.0->ktrain) (1.2.0)\r\n",
      "Requirement already satisfied: cycler>=0.10 in /opt/conda/lib/python3.10/site-packages (from matplotlib>=3.0.0->ktrain) (0.12.1)\r\n",
      "Requirement already satisfied: fonttools>=4.22.0 in /opt/conda/lib/python3.10/site-packages (from matplotlib>=3.0.0->ktrain) (4.47.0)\r\n",
      "Requirement already satisfied: kiwisolver>=1.0.1 in /opt/conda/lib/python3.10/site-packages (from matplotlib>=3.0.0->ktrain) (1.4.5)\r\n",
      "Requirement already satisfied: pillow>=6.2.0 in /opt/conda/lib/python3.10/site-packages (from matplotlib>=3.0.0->ktrain) (9.5.0)\r\n",
      "Requirement already satisfied: pyparsing>=2.3.1 in /opt/conda/lib/python3.10/site-packages (from matplotlib>=3.0.0->ktrain) (3.1.1)\r\n",
      "Requirement already satisfied: python-dateutil>=2.7 in /opt/conda/lib/python3.10/site-packages (from matplotlib>=3.0.0->ktrain) (2.9.0.post0)\r\n",
      "Requirement already satisfied: pytz>=2020.1 in /opt/conda/lib/python3.10/site-packages (from pandas>=1.0.1->ktrain) (2023.3.post1)\r\n",
      "Requirement already satisfied: tzdata>=2022.1 in /opt/conda/lib/python3.10/site-packages (from pandas>=1.0.1->ktrain) (2023.4)\r\n",
      "Requirement already satisfied: regex>2016 in /opt/conda/lib/python3.10/site-packages (from syntok>1.3.3->ktrain) (2023.12.25)\r\n",
      "Requirement already satisfied: six in /opt/conda/lib/python3.10/site-packages (from langdetect->ktrain) (1.16.0)\r\n",
      "Requirement already satisfied: idna<4,>=2.5 in /opt/conda/lib/python3.10/site-packages (from requests->ktrain) (3.6)\r\n",
      "Requirement already satisfied: urllib3<3,>=1.21.1 in /opt/conda/lib/python3.10/site-packages (from requests->ktrain) (1.26.18)\r\n",
      "Requirement already satisfied: certifi>=2017.4.17 in /opt/conda/lib/python3.10/site-packages (from requests->ktrain) (2024.2.2)\r\n",
      "Requirement already satisfied: scipy>=1.3.2 in /opt/conda/lib/python3.10/site-packages (from scikit-learn->ktrain) (1.11.4)\r\n",
      "Requirement already satisfied: threadpoolctl>=2.0.0 in /opt/conda/lib/python3.10/site-packages (from scikit-learn->ktrain) (3.2.0)\r\n",
      "Requirement already satisfied: setuptools in /opt/conda/lib/python3.10/site-packages (from tika->ktrain) (69.0.3)\r\n",
      "Requirement already satisfied: filelock in /opt/conda/lib/python3.10/site-packages (from transformers->ktrain) (3.13.1)\r\n",
      "Requirement already satisfied: huggingface-hub<1.0,>=0.19.3 in /opt/conda/lib/python3.10/site-packages (from transformers->ktrain) (0.22.2)\r\n",
      "Requirement already satisfied: pyyaml>=5.1 in /opt/conda/lib/python3.10/site-packages (from transformers->ktrain) (6.0.1)\r\n",
      "Requirement already satisfied: tokenizers<0.19,>=0.14 in /opt/conda/lib/python3.10/site-packages (from transformers->ktrain) (0.15.2)\r\n",
      "Requirement already satisfied: safetensors>=0.4.1 in /opt/conda/lib/python3.10/site-packages (from transformers->ktrain) (0.4.3)\r\n",
      "Requirement already satisfied: tqdm>=4.27 in /opt/conda/lib/python3.10/site-packages (from transformers->ktrain) (4.66.1)\r\n",
      "Requirement already satisfied: fsspec>=2023.5.0 in /opt/conda/lib/python3.10/site-packages (from huggingface-hub<1.0,>=0.19.3->transformers->ktrain) (2024.2.0)\r\n",
      "Requirement already satisfied: typing-extensions>=3.7.4.3 in /opt/conda/lib/python3.10/site-packages (from huggingface-hub<1.0,>=0.19.3->transformers->ktrain) (4.9.0)\r\n",
      "Downloading syntok-1.4.4-py3-none-any.whl (24 kB)\r\n",
      "Downloading chardet-5.2.0-py3-none-any.whl (199 kB)\r\n",
      "\u001b[2K   \u001b[90m━━━━━━━━━━━━━━━━━━━━━━━━━━━━━━━━━━━━━━━━\u001b[0m \u001b[32m199.4/199.4 kB\u001b[0m \u001b[31m11.4 MB/s\u001b[0m eta \u001b[36m0:00:00\u001b[0m\r\n",
      "\u001b[?25hDownloading Whoosh-2.7.4-py2.py3-none-any.whl (468 kB)\r\n",
      "\u001b[2K   \u001b[90m━━━━━━━━━━━━━━━━━━━━━━━━━━━━━━━━━━━━━━━━\u001b[0m \u001b[32m468.8/468.8 kB\u001b[0m \u001b[31m25.6 MB/s\u001b[0m eta \u001b[36m0:00:00\u001b[0m\r\n",
      "\u001b[?25hBuilding wheels for collected packages: ktrain, keras_bert, keras-transformer, keras-embed-sim, keras-layer-normalization, keras-multi-head, keras-pos-embd, keras-position-wise-feed-forward, keras-self-attention, langdetect, tika\r\n",
      "  Building wheel for ktrain (setup.py) ... \u001b[?25l-\b \b\\\b \bdone\r\n",
      "\u001b[?25h  Created wheel for ktrain: filename=ktrain-0.41.3-py3-none-any.whl size=25316959 sha256=ec9e11d5e064cafac6405cf2172e02e0784846005110e68ca6e86cac388ca7a6\r\n",
      "  Stored in directory: /root/.cache/pip/wheels/fc/76/11/5b953090eebf531f660948a30cd26e70260619f6480f186a5a\r\n",
      "  Building wheel for keras_bert (setup.py) ... \u001b[?25l-\b \b\\\b \bdone\r\n",
      "\u001b[?25h  Created wheel for keras_bert: filename=keras_bert-0.89.0-py3-none-any.whl size=33499 sha256=609afaf515f0c0ae37174eeadcb562c21d18231fa1957bd061aa2659eb695d9c\r\n",
      "  Stored in directory: /root/.cache/pip/wheels/89/0c/04/646b6fdf6375911b42c8d540a8a3fda8d5d77634e5dcbe7b26\r\n",
      "  Building wheel for keras-transformer (setup.py) ... \u001b[?25l-\b \b\\\b \bdone\r\n",
      "\u001b[?25h  Created wheel for keras-transformer: filename=keras_transformer-0.40.0-py3-none-any.whl size=12286 sha256=956daea630f7ed9d040c6e7195c26cd677f43a8e217456673ff3aee20ba7bf21\r\n",
      "  Stored in directory: /root/.cache/pip/wheels/f2/cb/22/75a0ad376129177f7c95c0d91331a18f5368fd657f4035ba7c\r\n",
      "  Building wheel for keras-embed-sim (setup.py) ... \u001b[?25l-\b \b\\\b \bdone\r\n",
      "\u001b[?25h  Created wheel for keras-embed-sim: filename=keras_embed_sim-0.10.0-py3-none-any.whl size=3943 sha256=83158c82275ddb2abcbfdfa561cd15cd1448239598566872c3f5849ce5f40eb0\r\n",
      "  Stored in directory: /root/.cache/pip/wheels/82/32/c7/fd35d0d1b840a6c7cbd4343f808d10d0f7b87d271a4dbe796f\r\n",
      "  Building wheel for keras-layer-normalization (setup.py) ... \u001b[?25l-\b \b\\\b \bdone\r\n",
      "\u001b[?25h  Created wheel for keras-layer-normalization: filename=keras_layer_normalization-0.16.0-py3-none-any.whl size=4653 sha256=b0ea1761b69d9864edbee18022d5937e9db85c803f0ec95fc39a450d689fcf7e\r\n",
      "  Stored in directory: /root/.cache/pip/wheels/ed/3a/4b/21db23c0cc56c4b219616e181f258eb7c57d36cc5d056fae9a\r\n",
      "  Building wheel for keras-multi-head (setup.py) ... \u001b[?25l-\b \b\\\b \bdone\r\n",
      "\u001b[?25h  Created wheel for keras-multi-head: filename=keras_multi_head-0.29.0-py3-none-any.whl size=14975 sha256=d7914c5a3331e86fe5a76dd8e7f34f458ef646085d8274e6f9d135ae286e894a\r\n",
      "  Stored in directory: /root/.cache/pip/wheels/cb/23/4b/06d7ae21714f70fcc25b48f972cc8e5e7f4b6b764a038b509d\r\n",
      "  Building wheel for keras-pos-embd (setup.py) ... \u001b[?25l-\b \b\\\b \bdone\r\n",
      "\u001b[?25h  Created wheel for keras-pos-embd: filename=keras_pos_embd-0.13.0-py3-none-any.whl size=6946 sha256=431593efbc07f9ef3be690d6d1db6e2c438f1675683a992a11a9195449f0e71e\r\n",
      "  Stored in directory: /root/.cache/pip/wheels/78/07/1b/b1ca47b6ac338554b75c8f52c54e6a2bfbe1b07d79579979a4\r\n",
      "  Building wheel for keras-position-wise-feed-forward (setup.py) ... \u001b[?25l-\b \b\\\b \bdone\r\n",
      "\u001b[?25h  Created wheel for keras-position-wise-feed-forward: filename=keras_position_wise_feed_forward-0.8.0-py3-none-any.whl size=4968 sha256=cc5550eac11c5b7675f04507104b19fa7714fa466a7b1d6247ee59779a4c9fcb\r\n",
      "  Stored in directory: /root/.cache/pip/wheels/c1/6a/04/d1706a53b23b2cb5f9a0a76269bf87925daa1bca09eac01b21\r\n",
      "  Building wheel for keras-self-attention (setup.py) ... \u001b[?25l-\b \b\\\b \bdone\r\n",
      "\u001b[?25h  Created wheel for keras-self-attention: filename=keras_self_attention-0.51.0-py3-none-any.whl size=18895 sha256=318d9744c74c6ef7f646181260eef498f3febbbb3a4930d7be3b3444eec35f66\r\n",
      "  Stored in directory: /root/.cache/pip/wheels/b8/f7/24/607b483144fb9c47b4ba2c5fba6b68e54aeee2d5bf6c05302e\r\n",
      "  Building wheel for langdetect (setup.py) ... \u001b[?25l-\b \bdone\r\n",
      "\u001b[?25h  Created wheel for langdetect: filename=langdetect-1.0.9-py3-none-any.whl size=993225 sha256=0e5f1c3a598602947211db8b79a51cea8a64528dfc5de4e367f0087b78829859\r\n",
      "  Stored in directory: /root/.cache/pip/wheels/95/03/7d/59ea870c70ce4e5a370638b5462a7711ab78fba2f655d05106\r\n",
      "  Building wheel for tika (setup.py) ... \u001b[?25l-\b \bdone\r\n",
      "\u001b[?25h  Created wheel for tika: filename=tika-2.6.0-py3-none-any.whl size=32622 sha256=d14e427d411c7290b8365f0d17e54824011f172b42f5d54a38ddd00702ff2b11\r\n",
      "  Stored in directory: /root/.cache/pip/wheels/5f/71/c7/b757709531121b1700cffda5b6b0d4aad095fb507ec84316d0\r\n",
      "Successfully built ktrain keras_bert keras-transformer keras-embed-sim keras-layer-normalization keras-multi-head keras-pos-embd keras-position-wise-feed-forward keras-self-attention langdetect tika\r\n",
      "Installing collected packages: whoosh, syntok, langdetect, keras-self-attention, keras-position-wise-feed-forward, keras-pos-embd, keras-layer-normalization, keras-embed-sim, chardet, tika, keras-multi-head, keras-transformer, keras_bert, ktrain\r\n",
      "Successfully installed chardet-5.2.0 keras-embed-sim-0.10.0 keras-layer-normalization-0.16.0 keras-multi-head-0.29.0 keras-pos-embd-0.13.0 keras-position-wise-feed-forward-0.8.0 keras-self-attention-0.51.0 keras-transformer-0.40.0 keras_bert-0.89.0 ktrain-0.41.3 langdetect-1.0.9 syntok-1.4.4 tika-2.6.0 whoosh-2.7.4\r\n"
     ]
    }
   ],
   "source": [
    "!pip install ktrain"
   ]
  },
  {
   "cell_type": "code",
   "execution_count": 6,
   "id": "cd7eeddc",
   "metadata": {
    "execution": {
     "iopub.execute_input": "2024-06-10T09:31:57.167955Z",
     "iopub.status.busy": "2024-06-10T09:31:57.167623Z",
     "iopub.status.idle": "2024-06-10T09:32:01.759917Z",
     "shell.execute_reply": "2024-06-10T09:32:01.758689Z"
    },
    "papermill": {
     "duration": 4.624368,
     "end_time": "2024-06-10T09:32:01.762331",
     "exception": false,
     "start_time": "2024-06-10T09:31:57.137963",
     "status": "completed"
    },
    "tags": []
   },
   "outputs": [
    {
     "name": "stdout",
     "output_type": "stream",
     "text": [
      "There are 1 GPU(s) available.\n",
      "We will use the GPU: Tesla P100-PCIE-16GB\n",
      "Mon Jun 10 09:32:01 2024       \r\n",
      "+---------------------------------------------------------------------------------------+\r\n",
      "| NVIDIA-SMI 535.129.03             Driver Version: 535.129.03   CUDA Version: 12.2     |\r\n",
      "|-----------------------------------------+----------------------+----------------------+\r\n",
      "| GPU  Name                 Persistence-M | Bus-Id        Disp.A | Volatile Uncorr. ECC |\r\n",
      "| Fan  Temp   Perf          Pwr:Usage/Cap |         Memory-Usage | GPU-Util  Compute M. |\r\n",
      "|                                         |                      |               MIG M. |\r\n",
      "|=========================================+======================+======================|\r\n",
      "|   0  Tesla P100-PCIE-16GB           Off | 00000000:00:04.0 Off |                    0 |\r\n",
      "| N/A   37C    P0              25W / 250W |      2MiB / 16384MiB |      0%      Default |\r\n",
      "|                                         |                      |                  N/A |\r\n",
      "+-----------------------------------------+----------------------+----------------------+\r\n",
      "                                                                                         \r\n",
      "+---------------------------------------------------------------------------------------+\r\n",
      "| Processes:                                                                            |\r\n",
      "|  GPU   GI   CI        PID   Type   Process name                            GPU Memory |\r\n",
      "|        ID   ID                                                             Usage      |\r\n",
      "|=======================================================================================|\r\n",
      "|  No running processes found                                                           |\r\n",
      "+---------------------------------------------------------------------------------------+\r\n"
     ]
    }
   ],
   "source": [
    "#Checking for GPU\n",
    "import torch\n",
    "\n",
    "# If there's a GPU available...\n",
    "if torch.cuda.is_available():\n",
    "\n",
    "    # Tell PyTorch to use the GPU.\n",
    "    device = torch.device(\"cuda\")\n",
    "\n",
    "    print('There are %d GPU(s) available.' % torch.cuda.device_count())\n",
    "\n",
    "    print('We will use the GPU:', torch.cuda.get_device_name(0))\n",
    "    !nvidia-smi\n",
    "\n",
    "# If not...\n",
    "else:\n",
    "    print('No GPU available, using the CPU instead.')\n",
    "    device = torch.device(\"cpu\")"
   ]
  },
  {
   "cell_type": "code",
   "execution_count": 7,
   "id": "b994f81a",
   "metadata": {
    "execution": {
     "iopub.execute_input": "2024-06-10T09:32:01.821163Z",
     "iopub.status.busy": "2024-06-10T09:32:01.820475Z",
     "iopub.status.idle": "2024-06-10T09:32:07.420873Z",
     "shell.execute_reply": "2024-06-10T09:32:07.420001Z"
    },
    "papermill": {
     "duration": 5.63258,
     "end_time": "2024-06-10T09:32:07.423555",
     "exception": false,
     "start_time": "2024-06-10T09:32:01.790975",
     "status": "completed"
    },
    "tags": []
   },
   "outputs": [],
   "source": [
    "# Generic\n",
    "import numpy as np\n",
    "import pandas as pd\n",
    "import matplotlib.pyplot as plt\n",
    "import seaborn as sns\n",
    "import warnings, gc\n",
    "warnings.filterwarnings(\"ignore\")\n",
    "\n",
    "# ktrain\n",
    "import ktrain\n",
    "from ktrain import text\n",
    "\n",
    "# sklearn\n",
    "from sklearn.model_selection import train_test_split"
   ]
  },
  {
   "cell_type": "code",
   "execution_count": 8,
   "id": "e1ca9d78",
   "metadata": {
    "execution": {
     "iopub.execute_input": "2024-06-10T09:32:07.484801Z",
     "iopub.status.busy": "2024-06-10T09:32:07.484048Z",
     "iopub.status.idle": "2024-06-10T09:32:08.126844Z",
     "shell.execute_reply": "2024-06-10T09:32:08.125980Z"
    },
    "papermill": {
     "duration": 0.675183,
     "end_time": "2024-06-10T09:32:08.129000",
     "exception": false,
     "start_time": "2024-06-10T09:32:07.453817",
     "status": "completed"
    },
    "tags": []
   },
   "outputs": [
    {
     "data": {
      "text/html": [
       "<div>\n",
       "<style scoped>\n",
       "    .dataframe tbody tr th:only-of-type {\n",
       "        vertical-align: middle;\n",
       "    }\n",
       "\n",
       "    .dataframe tbody tr th {\n",
       "        vertical-align: top;\n",
       "    }\n",
       "\n",
       "    .dataframe thead th {\n",
       "        text-align: right;\n",
       "    }\n",
       "</style>\n",
       "<table border=\"1\" class=\"dataframe\">\n",
       "  <thead>\n",
       "    <tr style=\"text-align: right;\">\n",
       "      <th></th>\n",
       "      <th>category</th>\n",
       "      <th>Body</th>\n",
       "    </tr>\n",
       "  </thead>\n",
       "  <tbody>\n",
       "    <tr>\n",
       "      <th>3403</th>\n",
       "      <td>World</td>\n",
       "      <td>محكم اسبان نظر تهام اسراءيل ارتكاب جراءم انسان...</td>\n",
       "    </tr>\n",
       "    <tr>\n",
       "      <th>899</th>\n",
       "      <td>Entertainment</td>\n",
       "      <td>مدونات جور صيف بحر برقعكين المصر زايغه مدونات ...</td>\n",
       "    </tr>\n",
       "    <tr>\n",
       "      <th>6687</th>\n",
       "      <td>Sport</td>\n",
       "      <td>رياض ماذ ساصوت مايكل يسيا ابراهيم سا كتب اسباب...</td>\n",
       "    </tr>\n",
       "    <tr>\n",
       "      <th>4775</th>\n",
       "      <td>Middle East News</td>\n",
       "      <td>اوسط واب حزب المجتمع الديمقراطي كرد قاطع برلم ...</td>\n",
       "    </tr>\n",
       "    <tr>\n",
       "      <th>6390</th>\n",
       "      <td>Business</td>\n",
       "      <td>قتصاد عمال اقتصاد روس ينكمش نسب مءه الرءيس روس...</td>\n",
       "    </tr>\n",
       "    <tr>\n",
       "      <th>4792</th>\n",
       "      <td>Middle East News</td>\n",
       "      <td>اوسط نديد تجربه صاروخيه ايرانيه توال ردود افعا...</td>\n",
       "    </tr>\n",
       "    <tr>\n",
       "      <th>1197</th>\n",
       "      <td>Middle East News</td>\n",
       "      <td>قتيل جريح معار صومال اشنطن منزعجه قتيل جريح مع...</td>\n",
       "    </tr>\n",
       "    <tr>\n",
       "      <th>4005</th>\n",
       "      <td>Middle East News</td>\n",
       "      <td>اوسط معارضه ايرانيه دعو اطلاق سراح معتقل قاد م...</td>\n",
       "    </tr>\n",
       "    <tr>\n",
       "      <th>3389</th>\n",
       "      <td>World</td>\n",
       "      <td>دن حقق تهام استخبار تعذيب سجناء خارج ريطانيا د...</td>\n",
       "    </tr>\n",
       "    <tr>\n",
       "      <th>5480</th>\n",
       "      <td>World</td>\n",
       "      <td>عالم رءيس ارمين زيار تاريخ ركي الرءيس ارمين رج...</td>\n",
       "    </tr>\n",
       "  </tbody>\n",
       "</table>\n",
       "</div>"
      ],
      "text/plain": [
       "              category                                               Body\n",
       "3403             World  محكم اسبان نظر تهام اسراءيل ارتكاب جراءم انسان...\n",
       "899      Entertainment  مدونات جور صيف بحر برقعكين المصر زايغه مدونات ...\n",
       "6687             Sport  رياض ماذ ساصوت مايكل يسيا ابراهيم سا كتب اسباب...\n",
       "4775  Middle East News  اوسط واب حزب المجتمع الديمقراطي كرد قاطع برلم ...\n",
       "6390          Business  قتصاد عمال اقتصاد روس ينكمش نسب مءه الرءيس روس...\n",
       "4792  Middle East News  اوسط نديد تجربه صاروخيه ايرانيه توال ردود افعا...\n",
       "1197  Middle East News  قتيل جريح معار صومال اشنطن منزعجه قتيل جريح مع...\n",
       "4005  Middle East News  اوسط معارضه ايرانيه دعو اطلاق سراح معتقل قاد م...\n",
       "3389             World  دن حقق تهام استخبار تعذيب سجناء خارج ريطانيا د...\n",
       "5480             World  عالم رءيس ارمين زيار تاريخ ركي الرءيس ارمين رج..."
      ]
     },
     "execution_count": 8,
     "metadata": {},
     "output_type": "execute_result"
    }
   ],
   "source": [
    "df = pd.read_csv('/kaggle/input/my-data/newsfeed.csv',usecols=['Body','category'])\n",
    "df.sample(10)"
   ]
  },
  {
   "cell_type": "code",
   "execution_count": 9,
   "id": "c396106f",
   "metadata": {
    "execution": {
     "iopub.execute_input": "2024-06-10T09:32:08.188523Z",
     "iopub.status.busy": "2024-06-10T09:32:08.188128Z",
     "iopub.status.idle": "2024-06-10T09:32:08.208240Z",
     "shell.execute_reply": "2024-06-10T09:32:08.207338Z"
    },
    "papermill": {
     "duration": 0.051073,
     "end_time": "2024-06-10T09:32:08.210036",
     "exception": false,
     "start_time": "2024-06-10T09:32:08.158963",
     "status": "completed"
    },
    "tags": []
   },
   "outputs": [
    {
     "name": "stdout",
     "output_type": "stream",
     "text": [
      "Shape of X_train: (7027,)\n",
      "Shape of y_train: (7027,)\n",
      "Shape of X_test: (1757,)\n",
      "Shape of y_test: (1757,)\n"
     ]
    }
   ],
   "source": [
    "X = df['Body']\n",
    "y = df['category']\n",
    "X_train, X_test , y_train,y_test = train_test_split(np.array(X),np.array(y),test_size=0.2, random_state=0,stratify=y)\n",
    "print('Shape of X_train:', X_train.shape)\n",
    "print('Shape of y_train:', y_train.shape)\n",
    "print('Shape of X_test:', X_test.shape)\n",
    "print('Shape of y_test:', y_test.shape)"
   ]
  },
  {
   "cell_type": "code",
   "execution_count": 10,
   "id": "54d3af81",
   "metadata": {
    "execution": {
     "iopub.execute_input": "2024-06-10T09:32:08.267674Z",
     "iopub.status.busy": "2024-06-10T09:32:08.267336Z",
     "iopub.status.idle": "2024-06-10T09:32:08.271087Z",
     "shell.execute_reply": "2024-06-10T09:32:08.270285Z"
    },
    "papermill": {
     "duration": 0.034645,
     "end_time": "2024-06-10T09:32:08.272958",
     "exception": false,
     "start_time": "2024-06-10T09:32:08.238313",
     "status": "completed"
    },
    "tags": []
   },
   "outputs": [],
   "source": [
    "MODEL_NAME = 'aubmindlab/bert-base-arabertv01'"
   ]
  },
  {
   "cell_type": "code",
   "execution_count": 11,
   "id": "96fb2330",
   "metadata": {
    "execution": {
     "iopub.execute_input": "2024-06-10T09:32:08.330660Z",
     "iopub.status.busy": "2024-06-10T09:32:08.330373Z",
     "iopub.status.idle": "2024-06-10T09:33:04.282747Z",
     "shell.execute_reply": "2024-06-10T09:33:04.281951Z"
    },
    "papermill": {
     "duration": 55.983758,
     "end_time": "2024-06-10T09:33:04.284868",
     "exception": false,
     "start_time": "2024-06-10T09:32:08.301110",
     "status": "completed"
    },
    "tags": []
   },
   "outputs": [
    {
     "data": {
      "application/vnd.jupyter.widget-view+json": {
       "model_id": "9aca8102dca2444e8efc7445f47848e8",
       "version_major": 2,
       "version_minor": 0
      },
      "text/plain": [
       "config.json:   0%|          | 0.00/576 [00:00<?, ?B/s]"
      ]
     },
     "metadata": {},
     "output_type": "display_data"
    },
    {
     "data": {
      "application/vnd.jupyter.widget-view+json": {
       "model_id": "b8e4293ee1184e29a3df809dd6f944c8",
       "version_major": 2,
       "version_minor": 0
      },
      "text/plain": [
       "model.safetensors:   0%|          | 0.00/543M [00:00<?, ?B/s]"
      ]
     },
     "metadata": {},
     "output_type": "display_data"
    },
    {
     "name": "stdout",
     "output_type": "stream",
     "text": [
      "preprocessing train...\n",
      "language: ar\n",
      "train sequence lengths:\n",
      "\tmean : 256\n",
      "\t95percentile : 567\n",
      "\t99percentile : 834\n"
     ]
    },
    {
     "data": {
      "application/vnd.jupyter.widget-view+json": {
       "model_id": "77e5e11df4d040ebbcd6d3e504d01e24",
       "version_major": 2,
       "version_minor": 0
      },
      "text/plain": [
       "tokenizer_config.json:   0%|          | 0.00/379 [00:00<?, ?B/s]"
      ]
     },
     "metadata": {},
     "output_type": "display_data"
    },
    {
     "data": {
      "application/vnd.jupyter.widget-view+json": {
       "model_id": "a1644ad462f84a94ad9a9e6d6ffea07c",
       "version_major": 2,
       "version_minor": 0
      },
      "text/plain": [
       "vocab.txt:   0%|          | 0.00/780k [00:00<?, ?B/s]"
      ]
     },
     "metadata": {},
     "output_type": "display_data"
    },
    {
     "data": {
      "application/vnd.jupyter.widget-view+json": {
       "model_id": "36d284c0272045b1b6abdeede3c36198",
       "version_major": 2,
       "version_minor": 0
      },
      "text/plain": [
       "tokenizer.json:   0%|          | 0.00/2.70M [00:00<?, ?B/s]"
      ]
     },
     "metadata": {},
     "output_type": "display_data"
    },
    {
     "data": {
      "application/vnd.jupyter.widget-view+json": {
       "model_id": "7c6ac0e418e7404bb0903bc9215f3f75",
       "version_major": 2,
       "version_minor": 0
      },
      "text/plain": [
       "special_tokens_map.json:   0%|          | 0.00/112 [00:00<?, ?B/s]"
      ]
     },
     "metadata": {},
     "output_type": "display_data"
    },
    {
     "data": {
      "text/html": [
       "\n",
       "<style>\n",
       "    /* Turns off some styling */\n",
       "    progress {\n",
       "        /* gets rid of default border in Firefox and Opera. */\n",
       "        border: none;\n",
       "        /* Needs to be in here for Safari polyfill so background images work as expected. */\n",
       "        background-size: auto;\n",
       "    }\n",
       "    progress:not([value]), progress:not([value])::-webkit-progress-bar {\n",
       "        background: repeating-linear-gradient(45deg, #7e7e7e, #7e7e7e 10px, #5c5c5c 10px, #5c5c5c 20px);\n",
       "    }\n",
       "    .progress-bar-interrupted, .progress-bar-interrupted::-webkit-progress-bar {\n",
       "        background: #F44336;\n",
       "    }\n",
       "</style>\n"
      ],
      "text/plain": [
       "<IPython.core.display.HTML object>"
      ]
     },
     "metadata": {},
     "output_type": "display_data"
    },
    {
     "data": {
      "text/html": [],
      "text/plain": [
       "<IPython.core.display.HTML object>"
      ]
     },
     "metadata": {},
     "output_type": "display_data"
    },
    {
     "name": "stdout",
     "output_type": "stream",
     "text": [
      "Is Multi-Label? False\n",
      "preprocessing test...\n",
      "language: ar\n",
      "test sequence lengths:\n",
      "\tmean : 250\n",
      "\t95percentile : 531\n",
      "\t99percentile : 795\n"
     ]
    },
    {
     "data": {
      "text/html": [
       "\n",
       "<style>\n",
       "    /* Turns off some styling */\n",
       "    progress {\n",
       "        /* gets rid of default border in Firefox and Opera. */\n",
       "        border: none;\n",
       "        /* Needs to be in here for Safari polyfill so background images work as expected. */\n",
       "        background-size: auto;\n",
       "    }\n",
       "    progress:not([value]), progress:not([value])::-webkit-progress-bar {\n",
       "        background: repeating-linear-gradient(45deg, #7e7e7e, #7e7e7e 10px, #5c5c5c 10px, #5c5c5c 20px);\n",
       "    }\n",
       "    .progress-bar-interrupted, .progress-bar-interrupted::-webkit-progress-bar {\n",
       "        background: #F44336;\n",
       "    }\n",
       "</style>\n"
      ],
      "text/plain": [
       "<IPython.core.display.HTML object>"
      ]
     },
     "metadata": {},
     "output_type": "display_data"
    },
    {
     "data": {
      "text/html": [],
      "text/plain": [
       "<IPython.core.display.HTML object>"
      ]
     },
     "metadata": {},
     "output_type": "display_data"
    }
   ],
   "source": [
    "t = text.Transformer(MODEL_NAME, maxlen=128)\n",
    "train = t.preprocess_train(X_train, y_train)\n",
    "val = t.preprocess_test(X_test, y_test)"
   ]
  },
  {
   "cell_type": "code",
   "execution_count": 12,
   "id": "824e0ff4",
   "metadata": {
    "execution": {
     "iopub.execute_input": "2024-06-10T09:33:04.353815Z",
     "iopub.status.busy": "2024-06-10T09:33:04.352907Z",
     "iopub.status.idle": "2024-06-10T09:52:27.368120Z",
     "shell.execute_reply": "2024-06-10T09:52:27.367187Z"
    },
    "papermill": {
     "duration": 1163.050755,
     "end_time": "2024-06-10T09:52:27.370134",
     "exception": false,
     "start_time": "2024-06-10T09:33:04.319379",
     "status": "completed"
    },
    "tags": []
   },
   "outputs": [
    {
     "name": "stdout",
     "output_type": "stream",
     "text": [
      "\n",
      "\n",
      "begin training using onecycle policy with max lr of 5e-05...\n",
      "Epoch 1/10\n",
      "220/220 [==============================] - 142s 533ms/step - loss: 0.7957 - accuracy: 0.7601 - val_loss: 0.2661 - val_accuracy: 0.9197\n",
      "Epoch 2/10\n",
      "220/220 [==============================] - 113s 514ms/step - loss: 0.2039 - accuracy: 0.9444 - val_loss: 0.2168 - val_accuracy: 0.9328\n",
      "Epoch 3/10\n",
      "220/220 [==============================] - 113s 513ms/step - loss: 0.1482 - accuracy: 0.9590 - val_loss: 0.1933 - val_accuracy: 0.9397\n",
      "Epoch 4/10\n",
      "220/220 [==============================] - 113s 514ms/step - loss: 0.0985 - accuracy: 0.9728 - val_loss: 0.2174 - val_accuracy: 0.9363\n",
      "Epoch 5/10\n",
      "220/220 [==============================] - 113s 514ms/step - loss: 0.0932 - accuracy: 0.9748 - val_loss: 0.2119 - val_accuracy: 0.9391\n",
      "Epoch 6/10\n",
      "220/220 [==============================] - 113s 514ms/step - loss: 0.0892 - accuracy: 0.9754 - val_loss: 0.2312 - val_accuracy: 0.9380\n",
      "Epoch 7/10\n",
      "220/220 [==============================] - 113s 515ms/step - loss: 0.0438 - accuracy: 0.9900 - val_loss: 0.2285 - val_accuracy: 0.9459\n",
      "Epoch 8/10\n",
      "220/220 [==============================] - 113s 514ms/step - loss: 0.0269 - accuracy: 0.9949 - val_loss: 0.2350 - val_accuracy: 0.9488\n",
      "Epoch 9/10\n",
      "220/220 [==============================] - 113s 514ms/step - loss: 0.0205 - accuracy: 0.9957 - val_loss: 0.2298 - val_accuracy: 0.9493\n",
      "Epoch 10/10\n",
      "220/220 [==============================] - 113s 515ms/step - loss: 0.0156 - accuracy: 0.9973 - val_loss: 0.2317 - val_accuracy: 0.9465\n"
     ]
    },
    {
     "data": {
      "text/plain": [
       "<keras.src.callbacks.History at 0x7a8bdcf31ae0>"
      ]
     },
     "execution_count": 12,
     "metadata": {},
     "output_type": "execute_result"
    }
   ],
   "source": [
    "model = t.get_classifier(metrics=['accuracy'])\n",
    "learner = ktrain.get_learner(model, train_data=train, val_data=val, batch_size=32)\n",
    "learner.fit_onecycle(5e-5,10)"
   ]
  },
  {
   "cell_type": "code",
   "execution_count": 13,
   "id": "99dd8d43",
   "metadata": {
    "execution": {
     "iopub.execute_input": "2024-06-10T09:52:27.784290Z",
     "iopub.status.busy": "2024-06-10T09:52:27.783937Z",
     "iopub.status.idle": "2024-06-10T09:52:40.163362Z",
     "shell.execute_reply": "2024-06-10T09:52:40.162353Z"
    },
    "papermill": {
     "duration": 12.589133,
     "end_time": "2024-06-10T09:52:40.165448",
     "exception": false,
     "start_time": "2024-06-10T09:52:27.576315",
     "status": "completed"
    },
    "tags": []
   },
   "outputs": [
    {
     "name": "stdout",
     "output_type": "stream",
     "text": [
      "55/55 [==============================] - 12s 168ms/step\n",
      "                        precision    recall  f1-score   support\n",
      "\n",
      "              Business       0.96      0.95      0.96       347\n",
      "         Entertainment       0.86      0.83      0.84       153\n",
      "      Middle East News       0.98      0.95      0.96       402\n",
      "Science and Technology       0.90      0.93      0.91       272\n",
      "                 Sport       0.98      0.99      0.99       182\n",
      "                 World       0.95      0.98      0.96       401\n",
      "\n",
      "              accuracy                           0.95      1757\n",
      "             macro avg       0.94      0.94      0.94      1757\n",
      "          weighted avg       0.95      0.95      0.95      1757\n",
      "\n"
     ]
    },
    {
     "data": {
      "text/plain": [
       "array([[329,   8,   1,   8,   0,   1],\n",
       "       [  3, 127,   2,  17,   1,   3],\n",
       "       [  2,   1, 383,   2,   2,  12],\n",
       "       [  7,   8,   2, 252,   0,   3],\n",
       "       [  0,   1,   0,   0, 180,   1],\n",
       "       [  0,   3,   4,   2,   0, 392]])"
      ]
     },
     "execution_count": 13,
     "metadata": {},
     "output_type": "execute_result"
    }
   ],
   "source": [
    "validation = learner.validate(class_names=t.get_classes())\n",
    "validation"
   ]
  },
  {
   "cell_type": "code",
   "execution_count": 14,
   "id": "2bcddcb9",
   "metadata": {
    "execution": {
     "iopub.execute_input": "2024-06-10T09:52:40.596259Z",
     "iopub.status.busy": "2024-06-10T09:52:40.595864Z",
     "iopub.status.idle": "2024-06-10T09:52:40.602197Z",
     "shell.execute_reply": "2024-06-10T09:52:40.601272Z"
    },
    "papermill": {
     "duration": 0.220462,
     "end_time": "2024-06-10T09:52:40.604338",
     "exception": false,
     "start_time": "2024-06-10T09:52:40.383876",
     "status": "completed"
    },
    "tags": []
   },
   "outputs": [
    {
     "data": {
      "text/plain": [
       "array([[329,   8,   1,   8,   0,   1],\n",
       "       [  3, 127,   2,  17,   1,   3],\n",
       "       [  2,   1, 383,   2,   2,  12],\n",
       "       [  7,   8,   2, 252,   0,   3],\n",
       "       [  0,   1,   0,   0, 180,   1],\n",
       "       [  0,   3,   4,   2,   0, 392]])"
      ]
     },
     "execution_count": 14,
     "metadata": {},
     "output_type": "execute_result"
    }
   ],
   "source": [
    "validation[:]"
   ]
  },
  {
   "cell_type": "code",
   "execution_count": 15,
   "id": "f7e82fd5",
   "metadata": {
    "execution": {
     "iopub.execute_input": "2024-06-10T09:52:41.031004Z",
     "iopub.status.busy": "2024-06-10T09:52:41.030644Z",
     "iopub.status.idle": "2024-06-10T09:52:41.596606Z",
     "shell.execute_reply": "2024-06-10T09:52:41.595654Z"
    },
    "papermill": {
     "duration": 0.779453,
     "end_time": "2024-06-10T09:52:41.599266",
     "exception": false,
     "start_time": "2024-06-10T09:52:40.819813",
     "status": "completed"
    },
    "tags": []
   },
   "outputs": [
    {
     "data": {
      "image/png": "[encoded data removed]",
      "text/plain": [
       "<Figure size 1000x800 with 2 Axes>"
      ]
     },
     "metadata": {},
     "output_type": "display_data"
    }
   ],
   "source": [
    "# Class names\n",
    "class_names = df.category.unique()\n",
    "\n",
    "# Plotting confusion matrix\n",
    "plt.figure(figsize=(10, 8))\n",
    "sns.set(font_scale=1.2)  # Adjust font scale if needed\n",
    "sns.heatmap(validation[:], annot=True, cmap='Blues', fmt='g',\n",
    "            xticklabels=class_names, yticklabels=class_names)\n",
    "plt.xlabel('Predicted')\n",
    "plt.ylabel('Actual')\n",
    "plt.title('Confusion Matrix')\n",
    "plt.xticks(rotation=45, ha='right')\n",
    "plt.yticks(rotation=0)\n",
    "plt.show()"
   ]
  },
  {
   "cell_type": "markdown",
   "id": "4294fbd7",
   "metadata": {
    "papermill": {
     "duration": 0.209626,
     "end_time": "2024-06-10T09:52:42.019932",
     "exception": false,
     "start_time": "2024-06-10T09:52:41.810306",
     "status": "completed"
    },
    "tags": []
   },
   "source": [
    "# Test the Model for Sentiment Analysis"
   ]
  },
  {
   "cell_type": "markdown",
   "id": "a175a55b",
   "metadata": {
    "papermill": {
     "duration": 0.211011,
     "end_time": "2024-06-10T09:52:42.442137",
     "exception": false,
     "start_time": "2024-06-10T09:52:42.231126",
     "status": "completed"
    },
    "tags": []
   },
   "source": [
    "## Installing the Libraries"
   ]
  },
  {
   "cell_type": "code",
   "execution_count": 16,
   "id": "905722dd",
   "metadata": {
    "execution": {
     "iopub.execute_input": "2024-06-10T09:52:42.866046Z",
     "iopub.status.busy": "2024-06-10T09:52:42.865663Z",
     "iopub.status.idle": "2024-06-10T09:52:56.545092Z",
     "shell.execute_reply": "2024-06-10T09:52:56.544009Z"
    },
    "papermill": {
     "duration": 13.89446,
     "end_time": "2024-06-10T09:52:56.547577",
     "exception": false,
     "start_time": "2024-06-10T09:52:42.653117",
     "status": "completed"
    },
    "tags": []
   },
   "outputs": [
    {
     "name": "stderr",
     "output_type": "stream",
     "text": [
      "huggingface/tokenizers: The current process just got forked, after parallelism has already been used. Disabling parallelism to avoid deadlocks...\n",
      "To disable this warning, you can either:\n",
      "\t- Avoid using `tokenizers` before the fork if possible\n",
      "\t- Explicitly set the environment variable TOKENIZERS_PARALLELISM=(true | false)\n"
     ]
    },
    {
     "name": "stdout",
     "output_type": "stream",
     "text": [
      "Collecting Arabic-Stopwords\r\n",
      "  Downloading Arabic_Stopwords-0.4.3-py3-none-any.whl.metadata (8.9 kB)\r\n",
      "Requirement already satisfied: pyarabic>=0.6.2 in /opt/conda/lib/python3.10/site-packages (from Arabic-Stopwords) (0.6.15)\r\n",
      "Requirement already satisfied: six>=1.14.0 in /opt/conda/lib/python3.10/site-packages (from pyarabic>=0.6.2->Arabic-Stopwords) (1.16.0)\r\n",
      "Downloading Arabic_Stopwords-0.4.3-py3-none-any.whl (360 kB)\r\n",
      "\u001b[2K   \u001b[90m━━━━━━━━━━━━━━━━━━━━━━━━━━━━━━━━━━━━━━━━\u001b[0m \u001b[32m360.5/360.5 kB\u001b[0m \u001b[31m7.8 MB/s\u001b[0m eta \u001b[36m0:00:00\u001b[0m\r\n",
      "\u001b[?25hInstalling collected packages: Arabic-Stopwords\r\n",
      "Successfully installed Arabic-Stopwords-0.4.3\r\n"
     ]
    }
   ],
   "source": [
    "!pip install Arabic-Stopwords"
   ]
  },
  {
   "cell_type": "code",
   "execution_count": 17,
   "id": "8756d72b",
   "metadata": {
    "execution": {
     "iopub.execute_input": "2024-06-10T09:52:57.035358Z",
     "iopub.status.busy": "2024-06-10T09:52:57.034888Z",
     "iopub.status.idle": "2024-06-10T09:53:10.301583Z",
     "shell.execute_reply": "2024-06-10T09:53:10.300402Z"
    },
    "papermill": {
     "duration": 13.544674,
     "end_time": "2024-06-10T09:53:10.303979",
     "exception": false,
     "start_time": "2024-06-10T09:52:56.759305",
     "status": "completed"
    },
    "tags": []
   },
   "outputs": [
    {
     "name": "stderr",
     "output_type": "stream",
     "text": [
      "huggingface/tokenizers: The current process just got forked, after parallelism has already been used. Disabling parallelism to avoid deadlocks...\n",
      "To disable this warning, you can either:\n",
      "\t- Avoid using `tokenizers` before the fork if possible\n",
      "\t- Explicitly set the environment variable TOKENIZERS_PARALLELISM=(true | false)\n"
     ]
    },
    {
     "name": "stdout",
     "output_type": "stream",
     "text": [
      "Requirement already satisfied: nltk in /opt/conda/lib/python3.10/site-packages (3.2.4)\r\n",
      "Requirement already satisfied: PyArabic in /opt/conda/lib/python3.10/site-packages (0.6.15)\r\n",
      "Collecting Tashaphyne\r\n",
      "  Downloading Tashaphyne-0.3.6-py3-none-any.whl.metadata (18 kB)\r\n",
      "Requirement already satisfied: six in /opt/conda/lib/python3.10/site-packages (from nltk) (1.16.0)\r\n",
      "Downloading Tashaphyne-0.3.6-py3-none-any.whl (251 kB)\r\n",
      "\u001b[2K   \u001b[90m━━━━━━━━━━━━━━━━━━━━━━━━━━━━━━━━━━━━━━━━\u001b[0m \u001b[32m251.5/251.5 kB\u001b[0m \u001b[31m6.8 MB/s\u001b[0m eta \u001b[36m0:00:00\u001b[0m\r\n",
      "\u001b[?25hInstalling collected packages: Tashaphyne\r\n",
      "Successfully installed Tashaphyne-0.3.6\r\n"
     ]
    }
   ],
   "source": [
    "!pip install nltk PyArabic Tashaphyne"
   ]
  },
  {
   "cell_type": "code",
   "execution_count": 18,
   "id": "6a791796",
   "metadata": {
    "execution": {
     "iopub.execute_input": "2024-06-10T09:53:10.740656Z",
     "iopub.status.busy": "2024-06-10T09:53:10.739576Z",
     "iopub.status.idle": "2024-06-10T09:53:11.205178Z",
     "shell.execute_reply": "2024-06-10T09:53:11.204191Z"
    },
    "papermill": {
     "duration": 0.691801,
     "end_time": "2024-06-10T09:53:11.207830",
     "exception": false,
     "start_time": "2024-06-10T09:53:10.516029",
     "status": "completed"
    },
    "tags": []
   },
   "outputs": [],
   "source": [
    "import string\n",
    "import re\n",
    "import regex\n",
    "import nltk\n",
    "from nltk.corpus import stopwords # Stopwords\n",
    "import arabicstopwords.arabicstopwords as stp #more of arabic stop words\n",
    "from nltk.stem.isri import ISRIStemmer\n",
    "import pyarabic.araby as araby\n",
    "from tashaphyne.stemming import ArabicLightStemmer"
   ]
  },
  {
   "cell_type": "code",
   "execution_count": 19,
   "id": "64d3fbe6",
   "metadata": {
    "execution": {
     "iopub.execute_input": "2024-06-10T09:53:11.637070Z",
     "iopub.status.busy": "2024-06-10T09:53:11.636425Z",
     "iopub.status.idle": "2024-06-10T09:53:11.708325Z",
     "shell.execute_reply": "2024-06-10T09:53:11.707365Z"
    },
    "papermill": {
     "duration": 0.287202,
     "end_time": "2024-06-10T09:53:11.710345",
     "exception": false,
     "start_time": "2024-06-10T09:53:11.423143",
     "status": "completed"
    },
    "tags": []
   },
   "outputs": [
    {
     "name": "stdout",
     "output_type": "stream",
     "text": [
      "[nltk_data] Downloading package stopwords to /usr/share/nltk_data...\n",
      "[nltk_data]   Package stopwords is already up-to-date!\n"
     ]
    },
    {
     "data": {
      "text/plain": [
       "True"
      ]
     },
     "execution_count": 19,
     "metadata": {},
     "output_type": "execute_result"
    }
   ],
   "source": [
    "nltk.download('stopwords')"
   ]
  },
  {
   "cell_type": "code",
   "execution_count": 20,
   "id": "892ef9d8",
   "metadata": {
    "execution": {
     "iopub.execute_input": "2024-06-10T09:53:12.138300Z",
     "iopub.status.busy": "2024-06-10T09:53:12.137481Z",
     "iopub.status.idle": "2024-06-10T09:53:12.423645Z",
     "shell.execute_reply": "2024-06-10T09:53:12.422812Z"
    },
    "papermill": {
     "duration": 0.500212,
     "end_time": "2024-06-10T09:53:12.425938",
     "exception": false,
     "start_time": "2024-06-10T09:53:11.925726",
     "status": "completed"
    },
    "tags": []
   },
   "outputs": [],
   "source": [
    "train_neg = pd.read_csv(\"/kaggle/input/my-data/train_Arabic_tweets_negative_20190413.tsv\", sep=\"\\t\", header=None)\n",
    "train_neg.rename(columns={0:'label', 1:'tweet'}, inplace=True)\n",
    "train_neg['label'] = 0\n",
    "\n",
    "train_pos = pd.read_csv(\"/kaggle/input/my-data/train_Arabic_tweets_positive_20190413.tsv\", sep=\"\\t\", header=None)\n",
    "train_pos.rename(columns={0:'label', 1:'tweet'}, inplace=True)\n",
    "train_pos['label'] = 1\n",
    "\n",
    "\n",
    "train_df = pd.concat([train_neg, train_pos], axis=0).reset_index(drop=True)"
   ]
  },
  {
   "cell_type": "code",
   "execution_count": 21,
   "id": "47eb6ea6",
   "metadata": {
    "execution": {
     "iopub.execute_input": "2024-06-10T09:53:12.848611Z",
     "iopub.status.busy": "2024-06-10T09:53:12.847810Z",
     "iopub.status.idle": "2024-06-10T09:53:12.909531Z",
     "shell.execute_reply": "2024-06-10T09:53:12.908788Z"
    },
    "papermill": {
     "duration": 0.274594,
     "end_time": "2024-06-10T09:53:12.911592",
     "exception": false,
     "start_time": "2024-06-10T09:53:12.636998",
     "status": "completed"
    },
    "tags": []
   },
   "outputs": [],
   "source": [
    "test_pos = pd.read_csv(\"/kaggle/input/my-data/test_Arabic_tweets_positive_20190413.tsv\", sep=\"\\t\", header=None)\n",
    "test_pos.rename(columns={0:'label', 1:'tweet'}, inplace=True)\n",
    "test_pos['label']=1\n",
    "\n",
    "test_neg = pd.read_csv(\"/kaggle/input/my-data/test_Arabic_tweets_positive_20190413.tsv\", sep=\"\\t\", header=None)\n",
    "test_neg.rename(columns={0:'label', 1:'tweet'}, inplace=True)\n",
    "test_neg['label']=0\n",
    "\n",
    "test_df = pd.concat([test_neg, test_pos], axis=0).reset_index(drop=True)"
   ]
  },
  {
   "cell_type": "code",
   "execution_count": 22,
   "id": "bcd9d922",
   "metadata": {
    "execution": {
     "iopub.execute_input": "2024-06-10T09:53:13.337808Z",
     "iopub.status.busy": "2024-06-10T09:53:13.337160Z",
     "iopub.status.idle": "2024-06-10T09:53:13.345200Z",
     "shell.execute_reply": "2024-06-10T09:53:13.344340Z"
    },
    "papermill": {
     "duration": 0.223639,
     "end_time": "2024-06-10T09:53:13.347145",
     "exception": false,
     "start_time": "2024-06-10T09:53:13.123506",
     "status": "completed"
    },
    "tags": []
   },
   "outputs": [],
   "source": [
    "arabic_stopwords = stopwords.words(\"arabic\")"
   ]
  },
  {
   "cell_type": "markdown",
   "id": "f984bf25",
   "metadata": {
    "papermill": {
     "duration": 0.255015,
     "end_time": "2024-06-10T09:53:13.816832",
     "exception": false,
     "start_time": "2024-06-10T09:53:13.561817",
     "status": "completed"
    },
    "tags": []
   },
   "source": [
    "# Preprocessing The test Set and Cleaning"
   ]
  },
  {
   "cell_type": "code",
   "execution_count": 23,
   "id": "bab0024d",
   "metadata": {
    "execution": {
     "iopub.execute_input": "2024-06-10T09:53:14.242333Z",
     "iopub.status.busy": "2024-06-10T09:53:14.241360Z",
     "iopub.status.idle": "2024-06-10T09:53:14.257915Z",
     "shell.execute_reply": "2024-06-10T09:53:14.257005Z"
    },
    "papermill": {
     "duration": 0.231263,
     "end_time": "2024-06-10T09:53:14.259718",
     "exception": false,
     "start_time": "2024-06-10T09:53:14.028455",
     "status": "completed"
    },
    "tags": []
   },
   "outputs": [],
   "source": [
    "def Arabic_Light_Stemmer(text):\n",
    "    #making an object\n",
    "    Arabic_Stemmer = ArabicLightStemmer()\n",
    "\n",
    "    #stemming each word\n",
    "    text=[Arabic_Stemmer.light_stem(y) for y in text.split()]\n",
    "\n",
    "    return \" \" .join(text)\n",
    "\n",
    "def normalizeArabic(text):\n",
    "    text = text.strip()\n",
    "    text = re.sub(\"ى\", \"ي\", text)\n",
    "    text = re.sub(\"ؤ\", \"ء\", text)\n",
    "    text = re.sub(\"ئ\", \"ء\", text)\n",
    "    text = re.sub(\"ة\", \"ه\", text)\n",
    "\n",
    "    #remove repetetions\n",
    "    text = re.sub(\"[إأٱآا]\", \"ا\", text)\n",
    "    text = text.replace('وو', 'و')\n",
    "    text = text.replace('يي', 'ي')\n",
    "    text = text.replace('ييي', 'ي')\n",
    "    text = text.replace('اا', 'ا')\n",
    "\n",
    "    ## remove extra whitespace\n",
    "    text = re.sub('\\s+', ' ', text)\n",
    "\n",
    "    # Remove longation\n",
    "    text = re.sub(r'(.)\\1+', r\"\\1\\1\", text)\n",
    "\n",
    "    #Strip vowels from a text, include Shadda.\n",
    "    text = araby.strip_tashkeel(text)\n",
    "\n",
    "    #Strip diacritics from a text, include harakats and small lettres The striped marks are\n",
    "    text = araby.strip_diacritics(text)\n",
    "    text=''.join([i for i in text if not i.isdigit()])\n",
    "    return text\n",
    "\n",
    "def Removing_non_arabic(text):\n",
    "    text = re.sub('[A-Za-z]+',' ',text)\n",
    "    return text\n",
    "\n",
    "def Removing_numbers(text):\n",
    "    text=''.join([i for i in text if not i.isdigit()])\n",
    "    return text\n",
    "\n",
    "def Removing_punctuations(text):\n",
    "    ## Remove punctuations\n",
    "    text = re.sub('[%s]' % re.escape(\"\"\"!\"#$%&'()*+,،-./:;<=>؟?@[\\]^_`{|}~\"\"\"), ' ', text)\n",
    "    text = text.replace('؛',\"\", )\n",
    "\n",
    "    ## remove extra whitespace\n",
    "    text = re.sub('\\s+', ' ', text)\n",
    "    text =  \" \".join(text.split())\n",
    "    return text.strip()\n",
    "\n",
    "def remove_extra_Space(text):\n",
    "    ## remove extra whitespace\n",
    "    text = re.sub('\\s+', ' ', text)\n",
    "    return  \" \".join(text.split())\n",
    "\n",
    "def remove_hashtages_and_mentions(text):\n",
    "    text = re.sub(\"@[A-Za-z0-9_]+\",\"\", text)\n",
    "    text = re.sub(\"#[A-Za-z0-9_]+\",\"\", text)\n",
    "    return text\n",
    "\n",
    "def replace_random_text(text):\n",
    "    text = text.replace('\\u202c', '')\n",
    "    text = text.replace('\\u202e', '')\n",
    "    text = text.replace('\\u202d', '')\n",
    "    return text\n",
    "\n",
    "def remove_stopwords_robustly(text):\n",
    "    # Split the text into words\n",
    "    words = text.split()\n",
    "\n",
    "    # Remove stop words\n",
    "    filtered_words = [word for word in words if word not in stp.stopwords_list()]\n",
    "\n",
    "    # Join the filtered words back into a string\n",
    "    filtered_text = ' '.join(filtered_words)\n",
    "\n",
    "    return filtered_text\n",
    "\n",
    "def remove_stop_words(text):\n",
    "    Text=[i for i in str(text).split() if i not in arabic_stopwords]\n",
    "    return \" \".join(Text)"
   ]
  },
  {
   "cell_type": "code",
   "execution_count": 24,
   "id": "ba7e8912",
   "metadata": {
    "execution": {
     "iopub.execute_input": "2024-06-10T09:53:14.689771Z",
     "iopub.status.busy": "2024-06-10T09:53:14.689085Z",
     "iopub.status.idle": "2024-06-10T09:53:14.703787Z",
     "shell.execute_reply": "2024-06-10T09:53:14.702872Z"
    },
    "papermill": {
     "duration": 0.229418,
     "end_time": "2024-06-10T09:53:14.706301",
     "exception": false,
     "start_time": "2024-06-10T09:53:14.476883",
     "status": "completed"
    },
    "tags": []
   },
   "outputs": [
    {
     "data": {
      "text/html": [
       "<div>\n",
       "<style scoped>\n",
       "    .dataframe tbody tr th:only-of-type {\n",
       "        vertical-align: middle;\n",
       "    }\n",
       "\n",
       "    .dataframe tbody tr th {\n",
       "        vertical-align: top;\n",
       "    }\n",
       "\n",
       "    .dataframe thead th {\n",
       "        text-align: right;\n",
       "    }\n",
       "</style>\n",
       "<table border=\"1\" class=\"dataframe\">\n",
       "  <thead>\n",
       "    <tr style=\"text-align: right;\">\n",
       "      <th></th>\n",
       "      <th>label</th>\n",
       "      <th>tweet</th>\n",
       "    </tr>\n",
       "  </thead>\n",
       "  <tbody>\n",
       "    <tr>\n",
       "      <th>28084</th>\n",
       "      <td>1</td>\n",
       "      <td>ملاكمة قرود في تايلاند 😂</td>\n",
       "    </tr>\n",
       "    <tr>\n",
       "      <th>14848</th>\n",
       "      <td>0</td>\n",
       "      <td>تخيلوا يسويها جوليانو وحمدلله اليوم وتضيع جلطه...</td>\n",
       "    </tr>\n",
       "    <tr>\n",
       "      <th>20071</th>\n",
       "      <td>0</td>\n",
       "      <td>تلاتين سنة بترقص .. الليلة رقصتنا أنا ببكي 😭 د...</td>\n",
       "    </tr>\n",
       "    <tr>\n",
       "      <th>21152</th>\n",
       "      <td>0</td>\n",
       "      <td>صوتي رايح فيها 💔</td>\n",
       "    </tr>\n",
       "    <tr>\n",
       "      <th>3248</th>\n",
       "      <td>0</td>\n",
       "      <td>جزائريون ضد التطبيع من مسيرات جمعة البارحة معا...</td>\n",
       "    </tr>\n",
       "    <tr>\n",
       "      <th>36696</th>\n",
       "      <td>1</td>\n",
       "      <td>ﺍﻟﻠﻬﻢ في هذا الصباح ﺍجعل لنا ﻧﺼﻴﺒﺎ ﻓﻲ ﻛﻞ ﺧﻴﺮ ﺗ...</td>\n",
       "    </tr>\n",
       "    <tr>\n",
       "      <th>19263</th>\n",
       "      <td>0</td>\n",
       "      <td>ماعايزين بيان لأننا ماعايزين العسكر 😤 عايزين ح...</td>\n",
       "    </tr>\n",
       "    <tr>\n",
       "      <th>36498</th>\n",
       "      <td>1</td>\n",
       "      <td>لا يوجد في الحيآة إكتفاء .. ولكن ﯾوجد رضا وقنا...</td>\n",
       "    </tr>\n",
       "    <tr>\n",
       "      <th>23867</th>\n",
       "      <td>1</td>\n",
       "      <td>🎥 من قلب الجوهرة : الجماهير الهلالية وتفاعلها ...</td>\n",
       "    </tr>\n",
       "    <tr>\n",
       "      <th>10157</th>\n",
       "      <td>0</td>\n",
       "      <td>يب بالضبط 😭</td>\n",
       "    </tr>\n",
       "    <tr>\n",
       "      <th>13216</th>\n",
       "      <td>0</td>\n",
       "      <td>ولا انا 😬</td>\n",
       "    </tr>\n",
       "    <tr>\n",
       "      <th>10127</th>\n",
       "      <td>0</td>\n",
       "      <td>يا نمر تذكر 😏 #النصر_الاتحاد</td>\n",
       "    </tr>\n",
       "  </tbody>\n",
       "</table>\n",
       "</div>"
      ],
      "text/plain": [
       "       label                                              tweet\n",
       "28084      1                           ملاكمة قرود في تايلاند 😂\n",
       "14848      0  تخيلوا يسويها جوليانو وحمدلله اليوم وتضيع جلطه...\n",
       "20071      0  تلاتين سنة بترقص .. الليلة رقصتنا أنا ببكي 😭 د...\n",
       "21152      0                                   صوتي رايح فيها 💔\n",
       "3248       0  جزائريون ضد التطبيع من مسيرات جمعة البارحة معا...\n",
       "36696      1  ﺍﻟﻠﻬﻢ في هذا الصباح ﺍجعل لنا ﻧﺼﻴﺒﺎ ﻓﻲ ﻛﻞ ﺧﻴﺮ ﺗ...\n",
       "19263      0  ماعايزين بيان لأننا ماعايزين العسكر 😤 عايزين ح...\n",
       "36498      1  لا يوجد في الحيآة إكتفاء .. ولكن ﯾوجد رضا وقنا...\n",
       "23867      1  🎥 من قلب الجوهرة : الجماهير الهلالية وتفاعلها ...\n",
       "10157      0                                        يب بالضبط 😭\n",
       "13216      0                                          ولا انا 😬\n",
       "10127      0                       يا نمر تذكر 😏 #النصر_الاتحاد"
      ]
     },
     "execution_count": 24,
     "metadata": {},
     "output_type": "execute_result"
    }
   ],
   "source": [
    "train_df.sample(12)"
   ]
  },
  {
   "cell_type": "code",
   "execution_count": 25,
   "id": "8a783239",
   "metadata": {
    "execution": {
     "iopub.execute_input": "2024-06-10T09:53:15.164441Z",
     "iopub.status.busy": "2024-06-10T09:53:15.163751Z",
     "iopub.status.idle": "2024-06-10T09:53:15.169398Z",
     "shell.execute_reply": "2024-06-10T09:53:15.168432Z"
    },
    "papermill": {
     "duration": 0.225664,
     "end_time": "2024-06-10T09:53:15.171511",
     "exception": false,
     "start_time": "2024-06-10T09:53:14.945847",
     "status": "completed"
    },
    "tags": []
   },
   "outputs": [],
   "source": [
    "def preprocess_text(text):\n",
    "    text = normalizeArabic(text)\n",
    "    text = Removing_non_arabic(text)\n",
    "    text = Removing_numbers(text)\n",
    "    text = Removing_punctuations(text)\n",
    "    text = remove_extra_Space(text)\n",
    "    text = remove_hashtages_and_mentions(text)\n",
    "    text = remove_stop_words(text)\n",
    "    text = Arabic_Light_Stemmer(text)\n",
    "    return text"
   ]
  },
  {
   "cell_type": "code",
   "execution_count": 26,
   "id": "122a7cae",
   "metadata": {
    "execution": {
     "iopub.execute_input": "2024-06-10T09:53:15.609067Z",
     "iopub.status.busy": "2024-06-10T09:53:15.608479Z",
     "iopub.status.idle": "2024-06-10T09:55:16.693668Z",
     "shell.execute_reply": "2024-06-10T09:55:16.692626Z"
    },
    "papermill": {
     "duration": 121.307939,
     "end_time": "2024-06-10T09:55:16.696260",
     "exception": false,
     "start_time": "2024-06-10T09:53:15.388321",
     "status": "completed"
    },
    "tags": []
   },
   "outputs": [],
   "source": [
    "train_df['tweet'] = train_df['tweet'].apply(preprocess_text)"
   ]
  },
  {
   "cell_type": "code",
   "execution_count": 27,
   "id": "fc5cf2ee",
   "metadata": {
    "execution": {
     "iopub.execute_input": "2024-06-10T09:55:17.138463Z",
     "iopub.status.busy": "2024-06-10T09:55:17.138064Z",
     "iopub.status.idle": "2024-06-10T09:55:17.149731Z",
     "shell.execute_reply": "2024-06-10T09:55:17.148852Z"
    },
    "papermill": {
     "duration": 0.231795,
     "end_time": "2024-06-10T09:55:17.151774",
     "exception": false,
     "start_time": "2024-06-10T09:55:16.919979",
     "status": "completed"
    },
    "tags": []
   },
   "outputs": [
    {
     "data": {
      "text/html": [
       "<div>\n",
       "<style scoped>\n",
       "    .dataframe tbody tr th:only-of-type {\n",
       "        vertical-align: middle;\n",
       "    }\n",
       "\n",
       "    .dataframe tbody tr th {\n",
       "        vertical-align: top;\n",
       "    }\n",
       "\n",
       "    .dataframe thead th {\n",
       "        text-align: right;\n",
       "    }\n",
       "</style>\n",
       "<table border=\"1\" class=\"dataframe\">\n",
       "  <thead>\n",
       "    <tr style=\"text-align: right;\">\n",
       "      <th></th>\n",
       "      <th>label</th>\n",
       "      <th>tweet</th>\n",
       "    </tr>\n",
       "  </thead>\n",
       "  <tbody>\n",
       "    <tr>\n",
       "      <th>8396</th>\n",
       "      <td>0</td>\n",
       "      <td>عنجد مال 😟</td>\n",
       "    </tr>\n",
       "    <tr>\n",
       "      <th>28423</th>\n",
       "      <td>1</td>\n",
       "      <td>اشرق شمس وم جديد 🌼 لهم جعل سعد خلق قرب عباد يك...</td>\n",
       "    </tr>\n",
       "    <tr>\n",
       "      <th>35346</th>\n",
       "      <td>1</td>\n",
       "      <td>ديوث اك شرقيه 🍆</td>\n",
       "    </tr>\n",
       "    <tr>\n",
       "      <th>12969</th>\n",
       "      <td>0</td>\n",
       "      <td>صحاب ويتر ده دل تقوليلو زوج قر عين 😡</td>\n",
       "    </tr>\n",
       "    <tr>\n",
       "      <th>40806</th>\n",
       "      <td>1</td>\n",
       "      <td>كوب شكل موبايل 😎</td>\n",
       "    </tr>\n",
       "    <tr>\n",
       "      <th>25682</th>\n",
       "      <td>1</td>\n",
       "      <td>اي نجاز ستحق نو فرح يهو لكن نتظار فرح حقيق احت...</td>\n",
       "    </tr>\n",
       "    <tr>\n",
       "      <th>28402</th>\n",
       "      <td>1</td>\n",
       "      <td>سال له ان شفي عافي رغم نصراو لا نه اعب عجب 💛</td>\n",
       "    </tr>\n",
       "    <tr>\n",
       "      <th>1248</th>\n",
       "      <td>0</td>\n",
       "      <td>عال مساء 🔥🔥 تق شر انث ذا 🌚</td>\n",
       "    </tr>\n",
       "    <tr>\n",
       "      <th>13304</th>\n",
       "      <td>0</td>\n",
       "      <td>عروس تحب ال 🤣 سيار عرس اردن تم زي يس 😱</td>\n",
       "    </tr>\n",
       "    <tr>\n",
       "      <th>5630</th>\n",
       "      <td>0</td>\n",
       "      <td>📌 فا ترك اتحاد بطول قاريه ترك قضاي دوليه ترك م...</td>\n",
       "    </tr>\n",
       "    <tr>\n",
       "      <th>25961</th>\n",
       "      <td>1</td>\n",
       "      <td>《اللہم صبح على وكل نت خير حافظين》 لهم طهر قلوب...</td>\n",
       "    </tr>\n",
       "    <tr>\n",
       "      <th>43725</th>\n",
       "      <td>1</td>\n",
       "      <td>🌿 سلام على رحم له رك</td>\n",
       "    </tr>\n",
       "  </tbody>\n",
       "</table>\n",
       "</div>"
      ],
      "text/plain": [
       "       label                                              tweet\n",
       "8396       0                                         عنجد مال 😟\n",
       "28423      1  اشرق شمس وم جديد 🌼 لهم جعل سعد خلق قرب عباد يك...\n",
       "35346      1                                    ديوث اك شرقيه 🍆\n",
       "12969      0               صحاب ويتر ده دل تقوليلو زوج قر عين 😡\n",
       "40806      1                                   كوب شكل موبايل 😎\n",
       "25682      1  اي نجاز ستحق نو فرح يهو لكن نتظار فرح حقيق احت...\n",
       "28402      1       سال له ان شفي عافي رغم نصراو لا نه اعب عجب 💛\n",
       "1248       0                         عال مساء 🔥🔥 تق شر انث ذا 🌚\n",
       "13304      0             عروس تحب ال 🤣 سيار عرس اردن تم زي يس 😱\n",
       "5630       0  📌 فا ترك اتحاد بطول قاريه ترك قضاي دوليه ترك م...\n",
       "25961      1  《اللہم صبح على وكل نت خير حافظين》 لهم طهر قلوب...\n",
       "43725      1                               🌿 سلام على رحم له رك"
      ]
     },
     "execution_count": 27,
     "metadata": {},
     "output_type": "execute_result"
    }
   ],
   "source": [
    "train_df.sample(12)"
   ]
  },
  {
   "cell_type": "code",
   "execution_count": 28,
   "id": "1c91ff28",
   "metadata": {
    "execution": {
     "iopub.execute_input": "2024-06-10T09:55:17.595483Z",
     "iopub.status.busy": "2024-06-10T09:55:17.594850Z",
     "iopub.status.idle": "2024-06-10T09:55:17.600017Z",
     "shell.execute_reply": "2024-06-10T09:55:17.599172Z"
    },
    "papermill": {
     "duration": 0.22985,
     "end_time": "2024-06-10T09:55:17.601966",
     "exception": false,
     "start_time": "2024-06-10T09:55:17.372116",
     "status": "completed"
    },
    "tags": []
   },
   "outputs": [],
   "source": [
    "def remove_emojis(text):\n",
    "    emoji_pattern = re.compile(\"[\"\n",
    "                           u\"\\U0001F600-\\U0001F64F\"  # emoticons\n",
    "                           u\"\\U0001F300-\\U0001F5FF\"  # symbols & pictographs\n",
    "                           u\"\\U0001F680-\\U0001F6FF\"  # transport & map symbols\n",
    "                           u\"\\U0001F1E0-\\U0001F1FF\"  # flags (iOS)\n",
    "                           u\"\\U00002702-\\U000027B0\"\n",
    "                           u\"\\U000024C2-\\U0001F251\"\n",
    "                           \"]+\", flags=re.UNICODE)\n",
    "    return emoji_pattern.sub(r'', text)"
   ]
  },
  {
   "cell_type": "code",
   "execution_count": 29,
   "id": "16be75c6",
   "metadata": {
    "execution": {
     "iopub.execute_input": "2024-06-10T09:55:18.043743Z",
     "iopub.status.busy": "2024-06-10T09:55:18.042974Z",
     "iopub.status.idle": "2024-06-10T09:57:07.094278Z",
     "shell.execute_reply": "2024-06-10T09:57:07.093457Z"
    },
    "papermill": {
     "duration": 109.273039,
     "end_time": "2024-06-10T09:57:07.096818",
     "exception": false,
     "start_time": "2024-06-10T09:55:17.823779",
     "status": "completed"
    },
    "tags": []
   },
   "outputs": [],
   "source": [
    "train_df['tweet'] = train_df['tweet'].apply(preprocess_text)"
   ]
  },
  {
   "cell_type": "code",
   "execution_count": 30,
   "id": "e8fe3147",
   "metadata": {
    "execution": {
     "iopub.execute_input": "2024-06-10T09:57:07.587436Z",
     "iopub.status.busy": "2024-06-10T09:57:07.587011Z",
     "iopub.status.idle": "2024-06-10T09:57:07.817376Z",
     "shell.execute_reply": "2024-06-10T09:57:07.816510Z"
    },
    "papermill": {
     "duration": 0.452341,
     "end_time": "2024-06-10T09:57:07.819781",
     "exception": false,
     "start_time": "2024-06-10T09:57:07.367440",
     "status": "completed"
    },
    "tags": []
   },
   "outputs": [],
   "source": [
    "train_df['tweet'] = train_df['tweet'].apply(remove_emojis)"
   ]
  },
  {
   "cell_type": "code",
   "execution_count": 31,
   "id": "f1b86405",
   "metadata": {
    "execution": {
     "iopub.execute_input": "2024-06-10T09:57:08.266047Z",
     "iopub.status.busy": "2024-06-10T09:57:08.265174Z",
     "iopub.status.idle": "2024-06-10T09:57:08.276147Z",
     "shell.execute_reply": "2024-06-10T09:57:08.275305Z"
    },
    "papermill": {
     "duration": 0.235628,
     "end_time": "2024-06-10T09:57:08.278319",
     "exception": false,
     "start_time": "2024-06-10T09:57:08.042691",
     "status": "completed"
    },
    "tags": []
   },
   "outputs": [
    {
     "data": {
      "text/html": [
       "<div>\n",
       "<style scoped>\n",
       "    .dataframe tbody tr th:only-of-type {\n",
       "        vertical-align: middle;\n",
       "    }\n",
       "\n",
       "    .dataframe tbody tr th {\n",
       "        vertical-align: top;\n",
       "    }\n",
       "\n",
       "    .dataframe thead th {\n",
       "        text-align: right;\n",
       "    }\n",
       "</style>\n",
       "<table border=\"1\" class=\"dataframe\">\n",
       "  <thead>\n",
       "    <tr style=\"text-align: right;\">\n",
       "      <th></th>\n",
       "      <th>label</th>\n",
       "      <th>tweet</th>\n",
       "    </tr>\n",
       "  </thead>\n",
       "  <tbody>\n",
       "    <tr>\n",
       "      <th>36651</th>\n",
       "      <td>1</td>\n",
       "      <td>جمل ان هد روح رتق جمل ان سك طمءن ذكر  ذكر تط…</td>\n",
       "    </tr>\n",
       "    <tr>\n",
       "      <th>30547</th>\n",
       "      <td>1</td>\n",
       "      <td>تح با يءذيڪ حرم ال حت ڪان طارق شخص حب  ول</td>\n",
       "    </tr>\n",
       "    <tr>\n",
       "      <th>15575</th>\n",
       "      <td>0</td>\n",
       "      <td>يارب طول رمض جو جذ</td>\n",
       "    </tr>\n",
       "    <tr>\n",
       "      <th>35783</th>\n",
       "      <td>1</td>\n",
       "      <td>خير</td>\n",
       "    </tr>\n",
       "    <tr>\n",
       "      <th>16955</th>\n",
       "      <td>0</td>\n",
       "      <td>سير خط ثاب عرف خف ني متكء ثقل على دعاء ني متكل...</td>\n",
       "    </tr>\n",
       "    <tr>\n",
       "      <th>1669</th>\n",
       "      <td>0</td>\n",
       "      <td>كل  نحيف  رشاقه متابع دور خلال مد ورس  خبراء غ...</td>\n",
       "    </tr>\n",
       "    <tr>\n",
       "      <th>23810</th>\n",
       "      <td>1</td>\n",
       "      <td>وم  ساع ظهر وق</td>\n",
       "    </tr>\n",
       "    <tr>\n",
       "      <th>6693</th>\n",
       "      <td>0</td>\n",
       "      <td>سعد</td>\n",
       "    </tr>\n",
       "    <tr>\n",
       "      <th>15471</th>\n",
       "      <td>0</td>\n",
       "      <td>زي دا خوف جد دا رب تل عز ناس وي  يارب متبتليش ...</td>\n",
       "    </tr>\n",
       "    <tr>\n",
       "      <th>36449</th>\n",
       "      <td>1</td>\n",
       "      <td>علاق ول ان حس علاق كو سعيد حس علاق شخص سعيد جذ...</td>\n",
       "    </tr>\n",
       "  </tbody>\n",
       "</table>\n",
       "</div>"
      ],
      "text/plain": [
       "       label                                              tweet\n",
       "36651      1      جمل ان هد روح رتق جمل ان سك طمءن ذكر  ذكر تط…\n",
       "30547      1          تح با يءذيڪ حرم ال حت ڪان طارق شخص حب  ول\n",
       "15575      0                                يارب طول رمض جو جذ \n",
       "35783      1                                               خير \n",
       "16955      0  سير خط ثاب عرف خف ني متكء ثقل على دعاء ني متكل...\n",
       "1669       0  كل  نحيف  رشاقه متابع دور خلال مد ورس  خبراء غ...\n",
       "23810      1                                     وم  ساع ظهر وق\n",
       "6693       0                                               سعد \n",
       "15471      0  زي دا خوف جد دا رب تل عز ناس وي  يارب متبتليش ...\n",
       "36449      1  علاق ول ان حس علاق كو سعيد حس علاق شخص سعيد جذ..."
      ]
     },
     "execution_count": 31,
     "metadata": {},
     "output_type": "execute_result"
    }
   ],
   "source": [
    "train_df.sample(10)"
   ]
  },
  {
   "cell_type": "code",
   "execution_count": 32,
   "id": "90177913",
   "metadata": {
    "execution": {
     "iopub.execute_input": "2024-06-10T09:57:08.725319Z",
     "iopub.status.busy": "2024-06-10T09:57:08.724540Z",
     "iopub.status.idle": "2024-06-10T09:57:08.738596Z",
     "shell.execute_reply": "2024-06-10T09:57:08.737695Z"
    },
    "papermill": {
     "duration": 0.23863,
     "end_time": "2024-06-10T09:57:08.740598",
     "exception": false,
     "start_time": "2024-06-10T09:57:08.501968",
     "status": "completed"
    },
    "tags": []
   },
   "outputs": [
    {
     "data": {
      "text/plain": [
       "array(['negative', 'positive'], dtype=object)"
      ]
     },
     "execution_count": 32,
     "metadata": {},
     "output_type": "execute_result"
    }
   ],
   "source": [
    "mapping = {\n",
    "    0: \"negative\",\n",
    "    1: \"positive\",\n",
    "}\n",
    "train_df['label'] = train_df['label'].map(mapping)\n",
    "train_df.label.unique()"
   ]
  },
  {
   "cell_type": "code",
   "execution_count": 33,
   "id": "230d3faf",
   "metadata": {
    "execution": {
     "iopub.execute_input": "2024-06-10T09:57:09.187717Z",
     "iopub.status.busy": "2024-06-10T09:57:09.187361Z",
     "iopub.status.idle": "2024-06-10T09:57:09.269146Z",
     "shell.execute_reply": "2024-06-10T09:57:09.268096Z"
    },
    "papermill": {
     "duration": 0.309066,
     "end_time": "2024-06-10T09:57:09.271070",
     "exception": false,
     "start_time": "2024-06-10T09:57:08.962004",
     "status": "completed"
    },
    "tags": []
   },
   "outputs": [
    {
     "name": "stdout",
     "output_type": "stream",
     "text": [
      "Shape of X_train: (36220,)\n",
      "Shape of y_train: (36220,)\n",
      "Shape of X_test: (9055,)\n",
      "Shape of y_test: (9055,)\n"
     ]
    }
   ],
   "source": [
    "X = train_df['tweet']\n",
    "y = train_df['label']\n",
    "X_train, X_test , y_train,y_test = train_test_split(np.array(X),np.array(y),test_size=0.2, random_state=0,stratify=y)\n",
    "print('Shape of X_train:', X_train.shape)\n",
    "print('Shape of y_train:', y_train.shape)\n",
    "print('Shape of X_test:', X_test.shape)\n",
    "print('Shape of y_test:', y_test.shape)"
   ]
  },
  {
   "cell_type": "code",
   "execution_count": 34,
   "id": "c84df8e2",
   "metadata": {
    "execution": {
     "iopub.execute_input": "2024-06-10T09:57:09.736992Z",
     "iopub.status.busy": "2024-06-10T09:57:09.736092Z",
     "iopub.status.idle": "2024-06-10T09:57:21.381793Z",
     "shell.execute_reply": "2024-06-10T09:57:21.380975Z"
    },
    "papermill": {
     "duration": 11.879586,
     "end_time": "2024-06-10T09:57:21.384020",
     "exception": false,
     "start_time": "2024-06-10T09:57:09.504434",
     "status": "completed"
    },
    "tags": []
   },
   "outputs": [
    {
     "name": "stdout",
     "output_type": "stream",
     "text": [
      "preprocessing train...\n",
      "language: ar\n",
      "train sequence lengths:\n",
      "\tmean : 9\n",
      "\t95percentile : 17\n",
      "\t99percentile : 19\n"
     ]
    },
    {
     "data": {
      "text/html": [
       "\n",
       "<style>\n",
       "    /* Turns off some styling */\n",
       "    progress {\n",
       "        /* gets rid of default border in Firefox and Opera. */\n",
       "        border: none;\n",
       "        /* Needs to be in here for Safari polyfill so background images work as expected. */\n",
       "        background-size: auto;\n",
       "    }\n",
       "    progress:not([value]), progress:not([value])::-webkit-progress-bar {\n",
       "        background: repeating-linear-gradient(45deg, #7e7e7e, #7e7e7e 10px, #5c5c5c 10px, #5c5c5c 20px);\n",
       "    }\n",
       "    .progress-bar-interrupted, .progress-bar-interrupted::-webkit-progress-bar {\n",
       "        background: #F44336;\n",
       "    }\n",
       "</style>\n"
      ],
      "text/plain": [
       "<IPython.core.display.HTML object>"
      ]
     },
     "metadata": {},
     "output_type": "display_data"
    },
    {
     "data": {
      "text/html": [],
      "text/plain": [
       "<IPython.core.display.HTML object>"
      ]
     },
     "metadata": {},
     "output_type": "display_data"
    },
    {
     "name": "stdout",
     "output_type": "stream",
     "text": [
      "Is Multi-Label? False\n",
      "preprocessing test...\n",
      "language: ar\n",
      "test sequence lengths:\n",
      "\tmean : 9\n",
      "\t95percentile : 17\n",
      "\t99percentile : 19\n"
     ]
    },
    {
     "data": {
      "text/html": [
       "\n",
       "<style>\n",
       "    /* Turns off some styling */\n",
       "    progress {\n",
       "        /* gets rid of default border in Firefox and Opera. */\n",
       "        border: none;\n",
       "        /* Needs to be in here for Safari polyfill so background images work as expected. */\n",
       "        background-size: auto;\n",
       "    }\n",
       "    progress:not([value]), progress:not([value])::-webkit-progress-bar {\n",
       "        background: repeating-linear-gradient(45deg, #7e7e7e, #7e7e7e 10px, #5c5c5c 10px, #5c5c5c 20px);\n",
       "    }\n",
       "    .progress-bar-interrupted, .progress-bar-interrupted::-webkit-progress-bar {\n",
       "        background: #F44336;\n",
       "    }\n",
       "</style>\n"
      ],
      "text/plain": [
       "<IPython.core.display.HTML object>"
      ]
     },
     "metadata": {},
     "output_type": "display_data"
    },
    {
     "data": {
      "text/html": [],
      "text/plain": [
       "<IPython.core.display.HTML object>"
      ]
     },
     "metadata": {},
     "output_type": "display_data"
    }
   ],
   "source": [
    "t = text.Transformer(MODEL_NAME, maxlen=128)\n",
    "train = t.preprocess_train(X_train, y_train)\n",
    "val = t.preprocess_test(X_test, y_test)"
   ]
  },
  {
   "cell_type": "code",
   "execution_count": 35,
   "id": "818abbf4",
   "metadata": {
    "execution": {
     "iopub.execute_input": "2024-06-10T09:57:21.829632Z",
     "iopub.status.busy": "2024-06-10T09:57:21.829270Z",
     "iopub.status.idle": "2024-06-10T11:35:03.771027Z",
     "shell.execute_reply": "2024-06-10T11:35:03.770069Z"
    },
    "papermill": {
     "duration": 5862.167725,
     "end_time": "2024-06-10T11:35:03.773037",
     "exception": false,
     "start_time": "2024-06-10T09:57:21.605312",
     "status": "completed"
    },
    "tags": []
   },
   "outputs": [
    {
     "name": "stdout",
     "output_type": "stream",
     "text": [
      "\n",
      "\n",
      "begin training using onecycle policy with max lr of 1e-05...\n",
      "Epoch 1/10\n",
      "1132/1132 [==============================] - 612s 518ms/step - loss: 0.6121 - accuracy: 0.6538 - val_loss: 0.5491 - val_accuracy: 0.7136\n",
      "Epoch 2/10\n",
      "1132/1132 [==============================] - 583s 515ms/step - loss: 0.5223 - accuracy: 0.7311 - val_loss: 0.5047 - val_accuracy: 0.7421\n",
      "Epoch 3/10\n",
      "1132/1132 [==============================] - 582s 515ms/step - loss: 0.4564 - accuracy: 0.7734 - val_loss: 0.4775 - val_accuracy: 0.7621\n",
      "Epoch 4/10\n",
      "1132/1132 [==============================] - 582s 515ms/step - loss: 0.3994 - accuracy: 0.8108 - val_loss: 0.4844 - val_accuracy: 0.7691\n",
      "Epoch 5/10\n",
      "1132/1132 [==============================] - 583s 515ms/step - loss: 0.3372 - accuracy: 0.8431 - val_loss: 0.4906 - val_accuracy: 0.7706\n",
      "Epoch 6/10\n",
      "1132/1132 [==============================] - 583s 515ms/step - loss: 0.2760 - accuracy: 0.8756 - val_loss: 0.5446 - val_accuracy: 0.7729\n",
      "Epoch 7/10\n",
      "1132/1132 [==============================] - 583s 515ms/step - loss: 0.2093 - accuracy: 0.9088 - val_loss: 0.6159 - val_accuracy: 0.7773\n",
      "Epoch 8/10\n",
      "1132/1132 [==============================] - 582s 515ms/step - loss: 0.1664 - accuracy: 0.9277 - val_loss: 0.7046 - val_accuracy: 0.7753\n",
      "Epoch 9/10\n",
      "1132/1132 [==============================] - 583s 515ms/step - loss: 0.1332 - accuracy: 0.9421 - val_loss: 0.7569 - val_accuracy: 0.7734\n",
      "Epoch 10/10\n",
      "1132/1132 [==============================] - 582s 515ms/step - loss: 0.1087 - accuracy: 0.9525 - val_loss: 0.8062 - val_accuracy: 0.7736\n"
     ]
    },
    {
     "data": {
      "text/plain": [
       "<keras.src.callbacks.History at 0x7a87c4998490>"
      ]
     },
     "execution_count": 35,
     "metadata": {},
     "output_type": "execute_result"
    }
   ],
   "source": [
    "model = t.get_classifier(metrics=['accuracy'])\n",
    "learner = ktrain.get_learner(model, train_data=train, val_data=val, batch_size=32)\n",
    "learner.fit_onecycle(1e-5,10)"
   ]
  },
  {
   "cell_type": "code",
   "execution_count": 36,
   "id": "6eef20f8",
   "metadata": {
    "execution": {
     "iopub.execute_input": "2024-06-10T11:35:06.110661Z",
     "iopub.status.busy": "2024-06-10T11:35:06.110297Z",
     "iopub.status.idle": "2024-06-10T11:35:55.205061Z",
     "shell.execute_reply": "2024-06-10T11:35:55.204081Z"
    },
    "papermill": {
     "duration": 50.238524,
     "end_time": "2024-06-10T11:35:55.207138",
     "exception": false,
     "start_time": "2024-06-10T11:35:04.968614",
     "status": "completed"
    },
    "tags": []
   },
   "outputs": [
    {
     "name": "stdout",
     "output_type": "stream",
     "text": [
      "283/283 [==============================] - 49s 162ms/step\n",
      "              precision    recall  f1-score   support\n",
      "\n",
      "    negative       0.77      0.78      0.77      4503\n",
      "    positive       0.78      0.77      0.77      4552\n",
      "\n",
      "    accuracy                           0.77      9055\n",
      "   macro avg       0.77      0.77      0.77      9055\n",
      "weighted avg       0.77      0.77      0.77      9055\n",
      "\n"
     ]
    },
    {
     "data": {
      "text/plain": [
       "array([[3514,  989],\n",
       "       [1061, 3491]])"
      ]
     },
     "execution_count": 36,
     "metadata": {},
     "output_type": "execute_result"
    }
   ],
   "source": [
    "validation_test_df = learner.validate(class_names=t.get_classes())\n",
    "validation_test_df"
   ]
  },
  {
   "cell_type": "code",
   "execution_count": null,
   "id": "35ee9b42",
   "metadata": {
    "papermill": {
     "duration": 1.227678,
     "end_time": "2024-06-10T11:35:57.590122",
     "exception": false,
     "start_time": "2024-06-10T11:35:56.362444",
     "status": "completed"
    },
    "tags": []
   },
   "outputs": [],
   "source": []
  },
  {
   "cell_type": "code",
   "execution_count": null,
   "id": "3418cada",
   "metadata": {
    "papermill": {
     "duration": 1.245096,
     "end_time": "2024-06-10T11:35:59.992156",
     "exception": false,
     "start_time": "2024-06-10T11:35:58.747060",
     "status": "completed"
    },
    "tags": []
   },
   "outputs": [],
   "source": []
  }
 ],
 "metadata": {
  "kaggle": {
   "accelerator": "gpu",
   "dataSources": [
    {
     "datasetId": 5026753,
     "sourceId": 8438772,
     "sourceType": "datasetVersion"
    }
   ],
   "dockerImageVersionId": 30699,
   "isGpuEnabled": true,
   "isInternetEnabled": true,
   "language": "python",
   "sourceType": "notebook"
  },
  "kernelspec": {
   "display_name": "Python 3",
   "language": "python",
   "name": "python3"
  },
  "language_info": {
   "codemirror_mode": {
    "name": "ipython",
    "version": 3
   },
   "file_extension": ".py",
   "mimetype": "text/x-python",
   "name": "python",
   "nbconvert_exporter": "python",
   "pygments_lexer": "ipython3",
   "version": "3.10.13"
  },
  "papermill": {
   "default_parameters": {},
   "duration": 7582.149151,
   "end_time": "2024-06-10T11:36:04.040043",
   "environment_variables": {},
   "exception": null,
   "input_path": "__notebook__.ipynb",
   "output_path": "__notebook__.ipynb",
   "parameters": {},
   "start_time": "2024-06-10T09:29:41.890892",
   "version": "2.5.0"
  },
  "widgets": {
   "application/vnd.jupyter.widget-state+json": {
    "state": {
     "004922de03394ee7b0d4096cb09a7df7": {
      "model_module": "@jupyter-widgets/base",
      "model_module_version": "1.2.0",
      "model_name": "LayoutModel",
      "state": {
       "_model_module": "@jupyter-widgets/base",
       "_model_module_version": "1.2.0",
       "_model_name": "LayoutModel",
       "_view_count": null,
       "_view_module": "@jupyter-widgets/base",
       "_view_module_version": "1.2.0",
       "_view_name": "LayoutView",
       "align_content": null,
       "align_items": null,
       "align_self": null,
       "border": null,
       "bottom": null,
       "display": null,
       "flex": null,
       "flex_flow": null,
       "grid_area": null,
       "grid_auto_columns": null,
       "grid_auto_flow": null,
       "grid_auto_rows": null,
       "grid_column": null,
       "grid_gap": null,
       "grid_row": null,
       "grid_template_areas": null,
       "grid_template_columns": null,
       "grid_template_rows": null,
       "height": null,
       "justify_content": null,
       "justify_items": null,
       "left": null,
       "margin": null,
       "max_height": null,
       "max_width": null,
       "min_height": null,
       "min_width": null,
       "object_fit": null,
       "object_position": null,
       "order": null,
       "overflow": null,
       "overflow_x": null,
       "overflow_y": null,
       "padding": null,
       "right": null,
       "top": null,
       "visibility": null,
       "width": null
      }
     },
     "03eb0e403c814b8e8aebdaab652b3b1f": {
      "model_module": "@jupyter-widgets/controls",
      "model_module_version": "1.5.0",
      "model_name": "DescriptionStyleModel",
      "state": {
       "_model_module": "@jupyter-widgets/controls",
       "_model_module_version": "1.5.0",
       "_model_name": "DescriptionStyleModel",
       "_view_count": null,
       "_view_module": "@jupyter-widgets/base",
       "_view_module_version": "1.2.0",
       "_view_name": "StyleView",
       "description_width": ""
      }
     },
     "0479a14108fe4dafbb413960b64ac354": {
      "model_module": "@jupyter-widgets/base",
      "model_module_version": "1.2.0",
      "model_name": "LayoutModel",
      "state": {
       "_model_module": "@jupyter-widgets/base",
       "_model_module_version": "1.2.0",
       "_model_name": "LayoutModel",
       "_view_count": null,
       "_view_module": "@jupyter-widgets/base",
       "_view_module_version": "1.2.0",
       "_view_name": "LayoutView",
       "align_content": null,
       "align_items": null,
       "align_self": null,
       "border": null,
       "bottom": null,
       "display": null,
       "flex": null,
       "flex_flow": null,
       "grid_area": null,
       "grid_auto_columns": null,
       "grid_auto_flow": null,
       "grid_auto_rows": null,
       "grid_column": null,
       "grid_gap": null,
       "grid_row": null,
       "grid_template_areas": null,
       "grid_template_columns": null,
       "grid_template_rows": null,
       "height": null,
       "justify_content": null,
       "justify_items": null,
       "left": null,
       "margin": null,
       "max_height": null,
       "max_width": null,
       "min_height": null,
       "min_width": null,
       "object_fit": null,
       "object_position": null,
       "order": null,
       "overflow": null,
       "overflow_x": null,
       "overflow_y": null,
       "padding": null,
       "right": null,
       "top": null,
       "visibility": null,
       "width": null
      }
     },
     "093bd13eee5a425b89ac2e85373161f3": {
      "model_module": "@jupyter-widgets/base",
      "model_module_version": "1.2.0",
      "model_name": "LayoutModel",
      "state": {
       "_model_module": "@jupyter-widgets/base",
       "_model_module_version": "1.2.0",
       "_model_name": "LayoutModel",
       "_view_count": null,
       "_view_module": "@jupyter-widgets/base",
       "_view_module_version": "1.2.0",
       "_view_name": "LayoutView",
       "align_content": null,
       "align_items": null,
       "align_self": null,
       "border": null,
       "bottom": null,
       "display": null,
       "flex": null,
       "flex_flow": null,
       "grid_area": null,
       "grid_auto_columns": null,
       "grid_auto_flow": null,
       "grid_auto_rows": null,
       "grid_column": null,
       "grid_gap": null,
       "grid_row": null,
       "grid_template_areas": null,
       "grid_template_columns": null,
       "grid_template_rows": null,
       "height": null,
       "justify_content": null,
       "justify_items": null,
       "left": null,
       "margin": null,
       "max_height": null,
       "max_width": null,
       "min_height": null,
       "min_width": null,
       "object_fit": null,
       "object_position": null,
       "order": null,
       "overflow": null,
       "overflow_x": null,
       "overflow_y": null,
       "padding": null,
       "right": null,
       "top": null,
       "visibility": null,
       "width": null
      }
     },
     "094e00ae45b44c17ab8fc333f6df4cce": {
      "model_module": "@jupyter-widgets/controls",
      "model_module_version": "1.5.0",
      "model_name": "HTMLModel",
      "state": {
       "_dom_classes": [],
       "_model_module": "@jupyter-widgets/controls",
       "_model_module_version": "1.5.0",
       "_model_name": "HTMLModel",
       "_view_count": null,
       "_view_module": "@jupyter-widgets/controls",
       "_view_module_version": "1.5.0",
       "_view_name": "HTMLView",
       "description": "",
       "description_tooltip": null,
       "layout": "IPY_MODEL_914b2264742846b8ae8ececb21601e2e",
       "placeholder": "​",
       "style": "IPY_MODEL_18788ca7e0cc49fcbf1208c6ad4d0b0f",
       "value": " 112/112 [00:00&lt;00:00, 9.57kB/s]"
      }
     },
     "1308d4921b7e452fa3ad1ff64b7d14d0": {
      "model_module": "@jupyter-widgets/controls",
      "model_module_version": "1.5.0",
      "model_name": "HTMLModel",
      "state": {
       "_dom_classes": [],
       "_model_module": "@jupyter-widgets/controls",
       "_model_module_version": "1.5.0",
       "_model_name": "HTMLModel",
       "_view_count": null,
       "_view_module": "@jupyter-widgets/controls",
       "_view_module_version": "1.5.0",
       "_view_name": "HTMLView",
       "description": "",
       "description_tooltip": null,
       "layout": "IPY_MODEL_caf86080684b40f494521d6ee21c55da",
       "placeholder": "​",
       "style": "IPY_MODEL_8eb8a9d93c56483b842dc56b9ff7f8c6",
       "value": " 2.70M/2.70M [00:01&lt;00:00, 1.43MB/s]"
      }
     },
     "18788ca7e0cc49fcbf1208c6ad4d0b0f": {
      "model_module": "@jupyter-widgets/controls",
      "model_module_version": "1.5.0",
      "model_name": "DescriptionStyleModel",
      "state": {
       "_model_module": "@jupyter-widgets/controls",
       "_model_module_version": "1.5.0",
       "_model_name": "DescriptionStyleModel",
       "_view_count": null,
       "_view_module": "@jupyter-widgets/base",
       "_view_module_version": "1.2.0",
       "_view_name": "StyleView",
       "description_width": ""
      }
     },
     "18fc746d84a744488c5da539103e448e": {
      "model_module": "@jupyter-widgets/controls",
      "model_module_version": "1.5.0",
      "model_name": "HTMLModel",
      "state": {
       "_dom_classes": [],
       "_model_module": "@jupyter-widgets/controls",
       "_model_module_version": "1.5.0",
       "_model_name": "HTMLModel",
       "_view_count": null,
       "_view_module": "@jupyter-widgets/controls",
       "_view_module_version": "1.5.0",
       "_view_name": "HTMLView",
       "description": "",
       "description_tooltip": null,
       "layout": "IPY_MODEL_bf35090bb8ae4a49bcede4b88787c65b",
       "placeholder": "​",
       "style": "IPY_MODEL_f02d532ff22146e0a550cdf5e08b9ccc",
       "value": "special_tokens_map.json: 100%"
      }
     },
     "2669a73c6adb46e694ea651084f929f2": {
      "model_module": "@jupyter-widgets/controls",
      "model_module_version": "1.5.0",
      "model_name": "HTMLModel",
      "state": {
       "_dom_classes": [],
       "_model_module": "@jupyter-widgets/controls",
       "_model_module_version": "1.5.0",
       "_model_name": "HTMLModel",
       "_view_count": null,
       "_view_module": "@jupyter-widgets/controls",
       "_view_module_version": "1.5.0",
       "_view_name": "HTMLView",
       "description": "",
       "description_tooltip": null,
       "layout": "IPY_MODEL_093bd13eee5a425b89ac2e85373161f3",
       "placeholder": "​",
       "style": "IPY_MODEL_ba595d09e8a742fd9db06027444e5b48",
       "value": " 543M/543M [00:32&lt;00:00, 4.93MB/s]"
      }
     },
     "286006bdacb149438634f810c997488f": {
      "model_module": "@jupyter-widgets/controls",
      "model_module_version": "1.5.0",
      "model_name": "HTMLModel",
      "state": {
       "_dom_classes": [],
       "_model_module": "@jupyter-widgets/controls",
       "_model_module_version": "1.5.0",
       "_model_name": "HTMLModel",
       "_view_count": null,
       "_view_module": "@jupyter-widgets/controls",
       "_view_module_version": "1.5.0",
       "_view_name": "HTMLView",
       "description": "",
       "description_tooltip": null,
       "layout": "IPY_MODEL_62809e08160442ba8dd2ffd1d61bb0a7",
       "placeholder": "​",
       "style": "IPY_MODEL_6ca59a70e8654c778302e843a9f92d1a",
       "value": "config.json: 100%"
      }
     },
     "2f3ac619c93a42619f741e2a24124fca": {
      "model_module": "@jupyter-widgets/controls",
      "model_module_version": "1.5.0",
      "model_name": "DescriptionStyleModel",
      "state": {
       "_model_module": "@jupyter-widgets/controls",
       "_model_module_version": "1.5.0",
       "_model_name": "DescriptionStyleModel",
       "_view_count": null,
       "_view_module": "@jupyter-widgets/base",
       "_view_module_version": "1.2.0",
       "_view_name": "StyleView",
       "description_width": ""
      }
     },
     "36d284c0272045b1b6abdeede3c36198": {
      "model_module": "@jupyter-widgets/controls",
      "model_module_version": "1.5.0",
      "model_name": "HBoxModel",
      "state": {
       "_dom_classes": [],
       "_model_module": "@jupyter-widgets/controls",
       "_model_module_version": "1.5.0",
       "_model_name": "HBoxModel",
       "_view_count": null,
       "_view_module": "@jupyter-widgets/controls",
       "_view_module_version": "1.5.0",
       "_view_name": "HBoxView",
       "box_style": "",
       "children": [
        "IPY_MODEL_94a0c43f79d04a74bf9bbca4874f4ca5",
        "IPY_MODEL_b089a567c15f4d149301ca1dbf5ecdaf",
        "IPY_MODEL_1308d4921b7e452fa3ad1ff64b7d14d0"
       ],
       "layout": "IPY_MODEL_0479a14108fe4dafbb413960b64ac354"
      }
     },
     "3d959fee9e88468697f0547ec0a529dc": {
      "model_module": "@jupyter-widgets/base",
      "model_module_version": "1.2.0",
      "model_name": "LayoutModel",
      "state": {
       "_model_module": "@jupyter-widgets/base",
       "_model_module_version": "1.2.0",
       "_model_name": "LayoutModel",
       "_view_count": null,
       "_view_module": "@jupyter-widgets/base",
       "_view_module_version": "1.2.0",
       "_view_name": "LayoutView",
       "align_content": null,
       "align_items": null,
       "align_self": null,
       "border": null,
       "bottom": null,
       "display": null,
       "flex": null,
       "flex_flow": null,
       "grid_area": null,
       "grid_auto_columns": null,
       "grid_auto_flow": null,
       "grid_auto_rows": null,
       "grid_column": null,
       "grid_gap": null,
       "grid_row": null,
       "grid_template_areas": null,
       "grid_template_columns": null,
       "grid_template_rows": null,
       "height": null,
       "justify_content": null,
       "justify_items": null,
       "left": null,
       "margin": null,
       "max_height": null,
       "max_width": null,
       "min_height": null,
       "min_width": null,
       "object_fit": null,
       "object_position": null,
       "order": null,
       "overflow": null,
       "overflow_x": null,
       "overflow_y": null,
       "padding": null,
       "right": null,
       "top": null,
       "visibility": null,
       "width": null
      }
     },
     "4f5cf6cb79c04b25a1060f8ee782536e": {
      "model_module": "@jupyter-widgets/controls",
      "model_module_version": "1.5.0",
      "model_name": "ProgressStyleModel",
      "state": {
       "_model_module": "@jupyter-widgets/controls",
       "_model_module_version": "1.5.0",
       "_model_name": "ProgressStyleModel",
       "_view_count": null,
       "_view_module": "@jupyter-widgets/base",
       "_view_module_version": "1.2.0",
       "_view_name": "StyleView",
       "bar_color": null,
       "description_width": ""
      }
     },
     "525e0d2ebda84046ba917a588fb8de2c": {
      "model_module": "@jupyter-widgets/base",
      "model_module_version": "1.2.0",
      "model_name": "LayoutModel",
      "state": {
       "_model_module": "@jupyter-widgets/base",
       "_model_module_version": "1.2.0",
       "_model_name": "LayoutModel",
       "_view_count": null,
       "_view_module": "@jupyter-widgets/base",
       "_view_module_version": "1.2.0",
       "_view_name": "LayoutView",
       "align_content": null,
       "align_items": null,
       "align_self": null,
       "border": null,
       "bottom": null,
       "display": null,
       "flex": null,
       "flex_flow": null,
       "grid_area": null,
       "grid_auto_columns": null,
       "grid_auto_flow": null,
       "grid_auto_rows": null,
       "grid_column": null,
       "grid_gap": null,
       "grid_row": null,
       "grid_template_areas": null,
       "grid_template_columns": null,
       "grid_template_rows": null,
       "height": null,
       "justify_content": null,
       "justify_items": null,
       "left": null,
       "margin": null,
       "max_height": null,
       "max_width": null,
       "min_height": null,
       "min_width": null,
       "object_fit": null,
       "object_position": null,
       "order": null,
       "overflow": null,
       "overflow_x": null,
       "overflow_y": null,
       "padding": null,
       "right": null,
       "top": null,
       "visibility": null,
       "width": null
      }
     },
     "52cae7005ce14deeac85321115941440": {
      "model_module": "@jupyter-widgets/base",
      "model_module_version": "1.2.0",
      "model_name": "LayoutModel",
      "state": {
       "_model_module": "@jupyter-widgets/base",
       "_model_module_version": "1.2.0",
       "_model_name": "LayoutModel",
       "_view_count": null,
       "_view_module": "@jupyter-widgets/base",
       "_view_module_version": "1.2.0",
       "_view_name": "LayoutView",
       "align_content": null,
       "align_items": null,
       "align_self": null,
       "border": null,
       "bottom": null,
       "display": null,
       "flex": null,
       "flex_flow": null,
       "grid_area": null,
       "grid_auto_columns": null,
       "grid_auto_flow": null,
       "grid_auto_rows": null,
       "grid_column": null,
       "grid_gap": null,
       "grid_row": null,
       "grid_template_areas": null,
       "grid_template_columns": null,
       "grid_template_rows": null,
       "height": null,
       "justify_content": null,
       "justify_items": null,
       "left": null,
       "margin": null,
       "max_height": null,
       "max_width": null,
       "min_height": null,
       "min_width": null,
       "object_fit": null,
       "object_position": null,
       "order": null,
       "overflow": null,
       "overflow_x": null,
       "overflow_y": null,
       "padding": null,
       "right": null,
       "top": null,
       "visibility": null,
       "width": null
      }
     },
     "584d34a764624f218444f2ec5404dfa5": {
      "model_module": "@jupyter-widgets/controls",
      "model_module_version": "1.5.0",
      "model_name": "HTMLModel",
      "state": {
       "_dom_classes": [],
       "_model_module": "@jupyter-widgets/controls",
       "_model_module_version": "1.5.0",
       "_model_name": "HTMLModel",
       "_view_count": null,
       "_view_module": "@jupyter-widgets/controls",
       "_view_module_version": "1.5.0",
       "_view_name": "HTMLView",
       "description": "",
       "description_tooltip": null,
       "layout": "IPY_MODEL_004922de03394ee7b0d4096cb09a7df7",
       "placeholder": "​",
       "style": "IPY_MODEL_2f3ac619c93a42619f741e2a24124fca",
       "value": " 379/379 [00:00&lt;00:00, 31.1kB/s]"
      }
     },
     "5c08971392ac459b87890bed1ddeef12": {
      "model_module": "@jupyter-widgets/controls",
      "model_module_version": "1.5.0",
      "model_name": "DescriptionStyleModel",
      "state": {
       "_model_module": "@jupyter-widgets/controls",
       "_model_module_version": "1.5.0",
       "_model_name": "DescriptionStyleModel",
       "_view_count": null,
       "_view_module": "@jupyter-widgets/base",
       "_view_module_version": "1.2.0",
       "_view_name": "StyleView",
       "description_width": ""
      }
     },
     "604944ded39f4730b40f7695585882d3": {
      "model_module": "@jupyter-widgets/controls",
      "model_module_version": "1.5.0",
      "model_name": "FloatProgressModel",
      "state": {
       "_dom_classes": [],
       "_model_module": "@jupyter-widgets/controls",
       "_model_module_version": "1.5.0",
       "_model_name": "FloatProgressModel",
       "_view_count": null,
       "_view_module": "@jupyter-widgets/controls",
       "_view_module_version": "1.5.0",
       "_view_name": "ProgressView",
       "bar_style": "success",
       "description": "",
       "description_tooltip": null,
       "layout": "IPY_MODEL_82cf9e9eb3c94b31aeaed9c5a68f938d",
       "max": 576.0,
       "min": 0.0,
       "orientation": "horizontal",
       "style": "IPY_MODEL_4f5cf6cb79c04b25a1060f8ee782536e",
       "value": 576.0
      }
     },
     "62809e08160442ba8dd2ffd1d61bb0a7": {
      "model_module": "@jupyter-widgets/base",
      "model_module_version": "1.2.0",
      "model_name": "LayoutModel",
      "state": {
       "_model_module": "@jupyter-widgets/base",
       "_model_module_version": "1.2.0",
       "_model_name": "LayoutModel",
       "_view_count": null,
       "_view_module": "@jupyter-widgets/base",
       "_view_module_version": "1.2.0",
       "_view_name": "LayoutView",
       "align_content": null,
       "align_items": null,
       "align_self": null,
       "border": null,
       "bottom": null,
       "display": null,
       "flex": null,
       "flex_flow": null,
       "grid_area": null,
       "grid_auto_columns": null,
       "grid_auto_flow": null,
       "grid_auto_rows": null,
       "grid_column": null,
       "grid_gap": null,
       "grid_row": null,
       "grid_template_areas": null,
       "grid_template_columns": null,
       "grid_template_rows": null,
       "height": null,
       "justify_content": null,
       "justify_items": null,
       "left": null,
       "margin": null,
       "max_height": null,
       "max_width": null,
       "min_height": null,
       "min_width": null,
       "object_fit": null,
       "object_position": null,
       "order": null,
       "overflow": null,
       "overflow_x": null,
       "overflow_y": null,
       "padding": null,
       "right": null,
       "top": null,
       "visibility": null,
       "width": null
      }
     },
     "690f0757ca7142bc8862361d2a3dcfa4": {
      "model_module": "@jupyter-widgets/base",
      "model_module_version": "1.2.0",
      "model_name": "LayoutModel",
      "state": {
       "_model_module": "@jupyter-widgets/base",
       "_model_module_version": "1.2.0",
       "_model_name": "LayoutModel",
       "_view_count": null,
       "_view_module": "@jupyter-widgets/base",
       "_view_module_version": "1.2.0",
       "_view_name": "LayoutView",
       "align_content": null,
       "align_items": null,
       "align_self": null,
       "border": null,
       "bottom": null,
       "display": null,
       "flex": null,
       "flex_flow": null,
       "grid_area": null,
       "grid_auto_columns": null,
       "grid_auto_flow": null,
       "grid_auto_rows": null,
       "grid_column": null,
       "grid_gap": null,
       "grid_row": null,
       "grid_template_areas": null,
       "grid_template_columns": null,
       "grid_template_rows": null,
       "height": null,
       "justify_content": null,
       "justify_items": null,
       "left": null,
       "margin": null,
       "max_height": null,
       "max_width": null,
       "min_height": null,
       "min_width": null,
       "object_fit": null,
       "object_position": null,
       "order": null,
       "overflow": null,
       "overflow_x": null,
       "overflow_y": null,
       "padding": null,
       "right": null,
       "top": null,
       "visibility": null,
       "width": null
      }
     },
     "6ad5dd881d564939b1e53dfd6af66e43": {
      "model_module": "@jupyter-widgets/base",
      "model_module_version": "1.2.0",
      "model_name": "LayoutModel",
      "state": {
       "_model_module": "@jupyter-widgets/base",
       "_model_module_version": "1.2.0",
       "_model_name": "LayoutModel",
       "_view_count": null,
       "_view_module": "@jupyter-widgets/base",
       "_view_module_version": "1.2.0",
       "_view_name": "LayoutView",
       "align_content": null,
       "align_items": null,
       "align_self": null,
       "border": null,
       "bottom": null,
       "display": null,
       "flex": null,
       "flex_flow": null,
       "grid_area": null,
       "grid_auto_columns": null,
       "grid_auto_flow": null,
       "grid_auto_rows": null,
       "grid_column": null,
       "grid_gap": null,
       "grid_row": null,
       "grid_template_areas": null,
       "grid_template_columns": null,
       "grid_template_rows": null,
       "height": null,
       "justify_content": null,
       "justify_items": null,
       "left": null,
       "margin": null,
       "max_height": null,
       "max_width": null,
       "min_height": null,
       "min_width": null,
       "object_fit": null,
       "object_position": null,
       "order": null,
       "overflow": null,
       "overflow_x": null,
       "overflow_y": null,
       "padding": null,
       "right": null,
       "top": null,
       "visibility": null,
       "width": null
      }
     },
     "6ca59a70e8654c778302e843a9f92d1a": {
      "model_module": "@jupyter-widgets/controls",
      "model_module_version": "1.5.0",
      "model_name": "DescriptionStyleModel",
      "state": {
       "_model_module": "@jupyter-widgets/controls",
       "_model_module_version": "1.5.0",
       "_model_name": "DescriptionStyleModel",
       "_view_count": null,
       "_view_module": "@jupyter-widgets/base",
       "_view_module_version": "1.2.0",
       "_view_name": "StyleView",
       "description_width": ""
      }
     },
     "6f50617b3c48460bbc73dee134c952ab": {
      "model_module": "@jupyter-widgets/controls",
      "model_module_version": "1.5.0",
      "model_name": "FloatProgressModel",
      "state": {
       "_dom_classes": [],
       "_model_module": "@jupyter-widgets/controls",
       "_model_module_version": "1.5.0",
       "_model_name": "FloatProgressModel",
       "_view_count": null,
       "_view_module": "@jupyter-widgets/controls",
       "_view_module_version": "1.5.0",
       "_view_name": "ProgressView",
       "bar_style": "success",
       "description": "",
       "description_tooltip": null,
       "layout": "IPY_MODEL_a35c7f68b7904d0c9f4d4a8248b15b5c",
       "max": 379.0,
       "min": 0.0,
       "orientation": "horizontal",
       "style": "IPY_MODEL_d6c373a01a7f4bf299ece72a04ef8394",
       "value": 379.0
      }
     },
     "71a9b967fc7d45848b8d16414eac82c3": {
      "model_module": "@jupyter-widgets/controls",
      "model_module_version": "1.5.0",
      "model_name": "DescriptionStyleModel",
      "state": {
       "_model_module": "@jupyter-widgets/controls",
       "_model_module_version": "1.5.0",
       "_model_name": "DescriptionStyleModel",
       "_view_count": null,
       "_view_module": "@jupyter-widgets/base",
       "_view_module_version": "1.2.0",
       "_view_name": "StyleView",
       "description_width": ""
      }
     },
     "77e5e11df4d040ebbcd6d3e504d01e24": {
      "model_module": "@jupyter-widgets/controls",
      "model_module_version": "1.5.0",
      "model_name": "HBoxModel",
      "state": {
       "_dom_classes": [],
       "_model_module": "@jupyter-widgets/controls",
       "_model_module_version": "1.5.0",
       "_model_name": "HBoxModel",
       "_view_count": null,
       "_view_module": "@jupyter-widgets/controls",
       "_view_module_version": "1.5.0",
       "_view_name": "HBoxView",
       "box_style": "",
       "children": [
        "IPY_MODEL_f170d83fde7b45af85332f90f8177312",
        "IPY_MODEL_6f50617b3c48460bbc73dee134c952ab",
        "IPY_MODEL_584d34a764624f218444f2ec5404dfa5"
       ],
       "layout": "IPY_MODEL_8a2414d9df1e40acbe0b85b989e30ff9"
      }
     },
     "78b2232f083644f399f98d13170c47a7": {
      "model_module": "@jupyter-widgets/base",
      "model_module_version": "1.2.0",
      "model_name": "LayoutModel",
      "state": {
       "_model_module": "@jupyter-widgets/base",
       "_model_module_version": "1.2.0",
       "_model_name": "LayoutModel",
       "_view_count": null,
       "_view_module": "@jupyter-widgets/base",
       "_view_module_version": "1.2.0",
       "_view_name": "LayoutView",
       "align_content": null,
       "align_items": null,
       "align_self": null,
       "border": null,
       "bottom": null,
       "display": null,
       "flex": null,
       "flex_flow": null,
       "grid_area": null,
       "grid_auto_columns": null,
       "grid_auto_flow": null,
       "grid_auto_rows": null,
       "grid_column": null,
       "grid_gap": null,
       "grid_row": null,
       "grid_template_areas": null,
       "grid_template_columns": null,
       "grid_template_rows": null,
       "height": null,
       "justify_content": null,
       "justify_items": null,
       "left": null,
       "margin": null,
       "max_height": null,
       "max_width": null,
       "min_height": null,
       "min_width": null,
       "object_fit": null,
       "object_position": null,
       "order": null,
       "overflow": null,
       "overflow_x": null,
       "overflow_y": null,
       "padding": null,
       "right": null,
       "top": null,
       "visibility": null,
       "width": null
      }
     },
     "78d04d9cceb7407ea568fc25fd520b25": {
      "model_module": "@jupyter-widgets/base",
      "model_module_version": "1.2.0",
      "model_name": "LayoutModel",
      "state": {
       "_model_module": "@jupyter-widgets/base",
       "_model_module_version": "1.2.0",
       "_model_name": "LayoutModel",
       "_view_count": null,
       "_view_module": "@jupyter-widgets/base",
       "_view_module_version": "1.2.0",
       "_view_name": "LayoutView",
       "align_content": null,
       "align_items": null,
       "align_self": null,
       "border": null,
       "bottom": null,
       "display": null,
       "flex": null,
       "flex_flow": null,
       "grid_area": null,
       "grid_auto_columns": null,
       "grid_auto_flow": null,
       "grid_auto_rows": null,
       "grid_column": null,
       "grid_gap": null,
       "grid_row": null,
       "grid_template_areas": null,
       "grid_template_columns": null,
       "grid_template_rows": null,
       "height": null,
       "justify_content": null,
       "justify_items": null,
       "left": null,
       "margin": null,
       "max_height": null,
       "max_width": null,
       "min_height": null,
       "min_width": null,
       "object_fit": null,
       "object_position": null,
       "order": null,
       "overflow": null,
       "overflow_x": null,
       "overflow_y": null,
       "padding": null,
       "right": null,
       "top": null,
       "visibility": null,
       "width": null
      }
     },
     "7c6ac0e418e7404bb0903bc9215f3f75": {
      "model_module": "@jupyter-widgets/controls",
      "model_module_version": "1.5.0",
      "model_name": "HBoxModel",
      "state": {
       "_dom_classes": [],
       "_model_module": "@jupyter-widgets/controls",
       "_model_module_version": "1.5.0",
       "_model_name": "HBoxModel",
       "_view_count": null,
       "_view_module": "@jupyter-widgets/controls",
       "_view_module_version": "1.5.0",
       "_view_name": "HBoxView",
       "box_style": "",
       "children": [
        "IPY_MODEL_18fc746d84a744488c5da539103e448e",
        "IPY_MODEL_b4418a447cbc4b7bb7cacc17bf91cf55",
        "IPY_MODEL_094e00ae45b44c17ab8fc333f6df4cce"
       ],
       "layout": "IPY_MODEL_525e0d2ebda84046ba917a588fb8de2c"
      }
     },
     "8244ffe9327b4671925708c505cdf1f5": {
      "model_module": "@jupyter-widgets/controls",
      "model_module_version": "1.5.0",
      "model_name": "HTMLModel",
      "state": {
       "_dom_classes": [],
       "_model_module": "@jupyter-widgets/controls",
       "_model_module_version": "1.5.0",
       "_model_name": "HTMLModel",
       "_view_count": null,
       "_view_module": "@jupyter-widgets/controls",
       "_view_module_version": "1.5.0",
       "_view_name": "HTMLView",
       "description": "",
       "description_tooltip": null,
       "layout": "IPY_MODEL_3d959fee9e88468697f0547ec0a529dc",
       "placeholder": "​",
       "style": "IPY_MODEL_03eb0e403c814b8e8aebdaab652b3b1f",
       "value": "vocab.txt: 100%"
      }
     },
     "82cf9e9eb3c94b31aeaed9c5a68f938d": {
      "model_module": "@jupyter-widgets/base",
      "model_module_version": "1.2.0",
      "model_name": "LayoutModel",
      "state": {
       "_model_module": "@jupyter-widgets/base",
       "_model_module_version": "1.2.0",
       "_model_name": "LayoutModel",
       "_view_count": null,
       "_view_module": "@jupyter-widgets/base",
       "_view_module_version": "1.2.0",
       "_view_name": "LayoutView",
       "align_content": null,
       "align_items": null,
       "align_self": null,
       "border": null,
       "bottom": null,
       "display": null,
       "flex": null,
       "flex_flow": null,
       "grid_area": null,
       "grid_auto_columns": null,
       "grid_auto_flow": null,
       "grid_auto_rows": null,
       "grid_column": null,
       "grid_gap": null,
       "grid_row": null,
       "grid_template_areas": null,
       "grid_template_columns": null,
       "grid_template_rows": null,
       "height": null,
       "justify_content": null,
       "justify_items": null,
       "left": null,
       "margin": null,
       "max_height": null,
       "max_width": null,
       "min_height": null,
       "min_width": null,
       "object_fit": null,
       "object_position": null,
       "order": null,
       "overflow": null,
       "overflow_x": null,
       "overflow_y": null,
       "padding": null,
       "right": null,
       "top": null,
       "visibility": null,
       "width": null
      }
     },
     "852ed59cad134ce58c1bdac2cb8bc090": {
      "model_module": "@jupyter-widgets/controls",
      "model_module_version": "1.5.0",
      "model_name": "ProgressStyleModel",
      "state": {
       "_model_module": "@jupyter-widgets/controls",
       "_model_module_version": "1.5.0",
       "_model_name": "ProgressStyleModel",
       "_view_count": null,
       "_view_module": "@jupyter-widgets/base",
       "_view_module_version": "1.2.0",
       "_view_name": "StyleView",
       "bar_color": null,
       "description_width": ""
      }
     },
     "893187ad29da43d7be397533953d5cb2": {
      "model_module": "@jupyter-widgets/base",
      "model_module_version": "1.2.0",
      "model_name": "LayoutModel",
      "state": {
       "_model_module": "@jupyter-widgets/base",
       "_model_module_version": "1.2.0",
       "_model_name": "LayoutModel",
       "_view_count": null,
       "_view_module": "@jupyter-widgets/base",
       "_view_module_version": "1.2.0",
       "_view_name": "LayoutView",
       "align_content": null,
       "align_items": null,
       "align_self": null,
       "border": null,
       "bottom": null,
       "display": null,
       "flex": null,
       "flex_flow": null,
       "grid_area": null,
       "grid_auto_columns": null,
       "grid_auto_flow": null,
       "grid_auto_rows": null,
       "grid_column": null,
       "grid_gap": null,
       "grid_row": null,
       "grid_template_areas": null,
       "grid_template_columns": null,
       "grid_template_rows": null,
       "height": null,
       "justify_content": null,
       "justify_items": null,
       "left": null,
       "margin": null,
       "max_height": null,
       "max_width": null,
       "min_height": null,
       "min_width": null,
       "object_fit": null,
       "object_position": null,
       "order": null,
       "overflow": null,
       "overflow_x": null,
       "overflow_y": null,
       "padding": null,
       "right": null,
       "top": null,
       "visibility": null,
       "width": null
      }
     },
     "8a2414d9df1e40acbe0b85b989e30ff9": {
      "model_module": "@jupyter-widgets/base",
      "model_module_version": "1.2.0",
      "model_name": "LayoutModel",
      "state": {
       "_model_module": "@jupyter-widgets/base",
       "_model_module_version": "1.2.0",
       "_model_name": "LayoutModel",
       "_view_count": null,
       "_view_module": "@jupyter-widgets/base",
       "_view_module_version": "1.2.0",
       "_view_name": "LayoutView",
       "align_content": null,
       "align_items": null,
       "align_self": null,
       "border": null,
       "bottom": null,
       "display": null,
       "flex": null,
       "flex_flow": null,
       "grid_area": null,
       "grid_auto_columns": null,
       "grid_auto_flow": null,
       "grid_auto_rows": null,
       "grid_column": null,
       "grid_gap": null,
       "grid_row": null,
       "grid_template_areas": null,
       "grid_template_columns": null,
       "grid_template_rows": null,
       "height": null,
       "justify_content": null,
       "justify_items": null,
       "left": null,
       "margin": null,
       "max_height": null,
       "max_width": null,
       "min_height": null,
       "min_width": null,
       "object_fit": null,
       "object_position": null,
       "order": null,
       "overflow": null,
       "overflow_x": null,
       "overflow_y": null,
       "padding": null,
       "right": null,
       "top": null,
       "visibility": null,
       "width": null
      }
     },
     "8ea8fdff06a14a729ebcfc364ac9fd6d": {
      "model_module": "@jupyter-widgets/base",
      "model_module_version": "1.2.0",
      "model_name": "LayoutModel",
      "state": {
       "_model_module": "@jupyter-widgets/base",
       "_model_module_version": "1.2.0",
       "_model_name": "LayoutModel",
       "_view_count": null,
       "_view_module": "@jupyter-widgets/base",
       "_view_module_version": "1.2.0",
       "_view_name": "LayoutView",
       "align_content": null,
       "align_items": null,
       "align_self": null,
       "border": null,
       "bottom": null,
       "display": null,
       "flex": null,
       "flex_flow": null,
       "grid_area": null,
       "grid_auto_columns": null,
       "grid_auto_flow": null,
       "grid_auto_rows": null,
       "grid_column": null,
       "grid_gap": null,
       "grid_row": null,
       "grid_template_areas": null,
       "grid_template_columns": null,
       "grid_template_rows": null,
       "height": null,
       "justify_content": null,
       "justify_items": null,
       "left": null,
       "margin": null,
       "max_height": null,
       "max_width": null,
       "min_height": null,
       "min_width": null,
       "object_fit": null,
       "object_position": null,
       "order": null,
       "overflow": null,
       "overflow_x": null,
       "overflow_y": null,
       "padding": null,
       "right": null,
       "top": null,
       "visibility": null,
       "width": null
      }
     },
     "8eb8a9d93c56483b842dc56b9ff7f8c6": {
      "model_module": "@jupyter-widgets/controls",
      "model_module_version": "1.5.0",
      "model_name": "DescriptionStyleModel",
      "state": {
       "_model_module": "@jupyter-widgets/controls",
       "_model_module_version": "1.5.0",
       "_model_name": "DescriptionStyleModel",
       "_view_count": null,
       "_view_module": "@jupyter-widgets/base",
       "_view_module_version": "1.2.0",
       "_view_name": "StyleView",
       "description_width": ""
      }
     },
     "8f8c63ea0a86466d9419105cc8892a08": {
      "model_module": "@jupyter-widgets/base",
      "model_module_version": "1.2.0",
      "model_name": "LayoutModel",
      "state": {
       "_model_module": "@jupyter-widgets/base",
       "_model_module_version": "1.2.0",
       "_model_name": "LayoutModel",
       "_view_count": null,
       "_view_module": "@jupyter-widgets/base",
       "_view_module_version": "1.2.0",
       "_view_name": "LayoutView",
       "align_content": null,
       "align_items": null,
       "align_self": null,
       "border": null,
       "bottom": null,
       "display": null,
       "flex": null,
       "flex_flow": null,
       "grid_area": null,
       "grid_auto_columns": null,
       "grid_auto_flow": null,
       "grid_auto_rows": null,
       "grid_column": null,
       "grid_gap": null,
       "grid_row": null,
       "grid_template_areas": null,
       "grid_template_columns": null,
       "grid_template_rows": null,
       "height": null,
       "justify_content": null,
       "justify_items": null,
       "left": null,
       "margin": null,
       "max_height": null,
       "max_width": null,
       "min_height": null,
       "min_width": null,
       "object_fit": null,
       "object_position": null,
       "order": null,
       "overflow": null,
       "overflow_x": null,
       "overflow_y": null,
       "padding": null,
       "right": null,
       "top": null,
       "visibility": null,
       "width": null
      }
     },
     "914b2264742846b8ae8ececb21601e2e": {
      "model_module": "@jupyter-widgets/base",
      "model_module_version": "1.2.0",
      "model_name": "LayoutModel",
      "state": {
       "_model_module": "@jupyter-widgets/base",
       "_model_module_version": "1.2.0",
       "_model_name": "LayoutModel",
       "_view_count": null,
       "_view_module": "@jupyter-widgets/base",
       "_view_module_version": "1.2.0",
       "_view_name": "LayoutView",
       "align_content": null,
       "align_items": null,
       "align_self": null,
       "border": null,
       "bottom": null,
       "display": null,
       "flex": null,
       "flex_flow": null,
       "grid_area": null,
       "grid_auto_columns": null,
       "grid_auto_flow": null,
       "grid_auto_rows": null,
       "grid_column": null,
       "grid_gap": null,
       "grid_row": null,
       "grid_template_areas": null,
       "grid_template_columns": null,
       "grid_template_rows": null,
       "height": null,
       "justify_content": null,
       "justify_items": null,
       "left": null,
       "margin": null,
       "max_height": null,
       "max_width": null,
       "min_height": null,
       "min_width": null,
       "object_fit": null,
       "object_position": null,
       "order": null,
       "overflow": null,
       "overflow_x": null,
       "overflow_y": null,
       "padding": null,
       "right": null,
       "top": null,
       "visibility": null,
       "width": null
      }
     },
     "91a34929deff4881980394fd6176ce49": {
      "model_module": "@jupyter-widgets/base",
      "model_module_version": "1.2.0",
      "model_name": "LayoutModel",
      "state": {
       "_model_module": "@jupyter-widgets/base",
       "_model_module_version": "1.2.0",
       "_model_name": "LayoutModel",
       "_view_count": null,
       "_view_module": "@jupyter-widgets/base",
       "_view_module_version": "1.2.0",
       "_view_name": "LayoutView",
       "align_content": null,
       "align_items": null,
       "align_self": null,
       "border": null,
       "bottom": null,
       "display": null,
       "flex": null,
       "flex_flow": null,
       "grid_area": null,
       "grid_auto_columns": null,
       "grid_auto_flow": null,
       "grid_auto_rows": null,
       "grid_column": null,
       "grid_gap": null,
       "grid_row": null,
       "grid_template_areas": null,
       "grid_template_columns": null,
       "grid_template_rows": null,
       "height": null,
       "justify_content": null,
       "justify_items": null,
       "left": null,
       "margin": null,
       "max_height": null,
       "max_width": null,
       "min_height": null,
       "min_width": null,
       "object_fit": null,
       "object_position": null,
       "order": null,
       "overflow": null,
       "overflow_x": null,
       "overflow_y": null,
       "padding": null,
       "right": null,
       "top": null,
       "visibility": null,
       "width": null
      }
     },
     "94a0c43f79d04a74bf9bbca4874f4ca5": {
      "model_module": "@jupyter-widgets/controls",
      "model_module_version": "1.5.0",
      "model_name": "HTMLModel",
      "state": {
       "_dom_classes": [],
       "_model_module": "@jupyter-widgets/controls",
       "_model_module_version": "1.5.0",
       "_model_name": "HTMLModel",
       "_view_count": null,
       "_view_module": "@jupyter-widgets/controls",
       "_view_module_version": "1.5.0",
       "_view_name": "HTMLView",
       "description": "",
       "description_tooltip": null,
       "layout": "IPY_MODEL_c472aae52b944538b44dfe1c43efb1d7",
       "placeholder": "​",
       "style": "IPY_MODEL_5c08971392ac459b87890bed1ddeef12",
       "value": "tokenizer.json: 100%"
      }
     },
     "9aca8102dca2444e8efc7445f47848e8": {
      "model_module": "@jupyter-widgets/controls",
      "model_module_version": "1.5.0",
      "model_name": "HBoxModel",
      "state": {
       "_dom_classes": [],
       "_model_module": "@jupyter-widgets/controls",
       "_model_module_version": "1.5.0",
       "_model_name": "HBoxModel",
       "_view_count": null,
       "_view_module": "@jupyter-widgets/controls",
       "_view_module_version": "1.5.0",
       "_view_name": "HBoxView",
       "box_style": "",
       "children": [
        "IPY_MODEL_286006bdacb149438634f810c997488f",
        "IPY_MODEL_604944ded39f4730b40f7695585882d3",
        "IPY_MODEL_d389716d1816456c9061026ec0a3387d"
       ],
       "layout": "IPY_MODEL_78d04d9cceb7407ea568fc25fd520b25"
      }
     },
     "9f9cbd0d34654a40b1eef1d7731e3d8d": {
      "model_module": "@jupyter-widgets/controls",
      "model_module_version": "1.5.0",
      "model_name": "FloatProgressModel",
      "state": {
       "_dom_classes": [],
       "_model_module": "@jupyter-widgets/controls",
       "_model_module_version": "1.5.0",
       "_model_name": "FloatProgressModel",
       "_view_count": null,
       "_view_module": "@jupyter-widgets/controls",
       "_view_module_version": "1.5.0",
       "_view_name": "ProgressView",
       "bar_style": "success",
       "description": "",
       "description_tooltip": null,
       "layout": "IPY_MODEL_91a34929deff4881980394fd6176ce49",
       "max": 543428136.0,
       "min": 0.0,
       "orientation": "horizontal",
       "style": "IPY_MODEL_ffd6f566a1494bea9b4bbdc6b03dc2cd",
       "value": 543428136.0
      }
     },
     "a1644ad462f84a94ad9a9e6d6ffea07c": {
      "model_module": "@jupyter-widgets/controls",
      "model_module_version": "1.5.0",
      "model_name": "HBoxModel",
      "state": {
       "_dom_classes": [],
       "_model_module": "@jupyter-widgets/controls",
       "_model_module_version": "1.5.0",
       "_model_name": "HBoxModel",
       "_view_count": null,
       "_view_module": "@jupyter-widgets/controls",
       "_view_module_version": "1.5.0",
       "_view_name": "HBoxView",
       "box_style": "",
       "children": [
        "IPY_MODEL_8244ffe9327b4671925708c505cdf1f5",
        "IPY_MODEL_cc250dd5c15045aab9320e711dddaac4",
        "IPY_MODEL_d20a6e2c69744e9ca583aac890e1ddee"
       ],
       "layout": "IPY_MODEL_893187ad29da43d7be397533953d5cb2"
      }
     },
     "a35c7f68b7904d0c9f4d4a8248b15b5c": {
      "model_module": "@jupyter-widgets/base",
      "model_module_version": "1.2.0",
      "model_name": "LayoutModel",
      "state": {
       "_model_module": "@jupyter-widgets/base",
       "_model_module_version": "1.2.0",
       "_model_name": "LayoutModel",
       "_view_count": null,
       "_view_module": "@jupyter-widgets/base",
       "_view_module_version": "1.2.0",
       "_view_name": "LayoutView",
       "align_content": null,
       "align_items": null,
       "align_self": null,
       "border": null,
       "bottom": null,
       "display": null,
       "flex": null,
       "flex_flow": null,
       "grid_area": null,
       "grid_auto_columns": null,
       "grid_auto_flow": null,
       "grid_auto_rows": null,
       "grid_column": null,
       "grid_gap": null,
       "grid_row": null,
       "grid_template_areas": null,
       "grid_template_columns": null,
       "grid_template_rows": null,
       "height": null,
       "justify_content": null,
       "justify_items": null,
       "left": null,
       "margin": null,
       "max_height": null,
       "max_width": null,
       "min_height": null,
       "min_width": null,
       "object_fit": null,
       "object_position": null,
       "order": null,
       "overflow": null,
       "overflow_x": null,
       "overflow_y": null,
       "padding": null,
       "right": null,
       "top": null,
       "visibility": null,
       "width": null
      }
     },
     "adb57fbba87948a180688365caefc78a": {
      "model_module": "@jupyter-widgets/controls",
      "model_module_version": "1.5.0",
      "model_name": "ProgressStyleModel",
      "state": {
       "_model_module": "@jupyter-widgets/controls",
       "_model_module_version": "1.5.0",
       "_model_name": "ProgressStyleModel",
       "_view_count": null,
       "_view_module": "@jupyter-widgets/base",
       "_view_module_version": "1.2.0",
       "_view_name": "StyleView",
       "bar_color": null,
       "description_width": ""
      }
     },
     "b089a567c15f4d149301ca1dbf5ecdaf": {
      "model_module": "@jupyter-widgets/controls",
      "model_module_version": "1.5.0",
      "model_name": "FloatProgressModel",
      "state": {
       "_dom_classes": [],
       "_model_module": "@jupyter-widgets/controls",
       "_model_module_version": "1.5.0",
       "_model_name": "FloatProgressModel",
       "_view_count": null,
       "_view_module": "@jupyter-widgets/controls",
       "_view_module_version": "1.5.0",
       "_view_name": "ProgressView",
       "bar_style": "success",
       "description": "",
       "description_tooltip": null,
       "layout": "IPY_MODEL_690f0757ca7142bc8862361d2a3dcfa4",
       "max": 2697421.0,
       "min": 0.0,
       "orientation": "horizontal",
       "style": "IPY_MODEL_ebfff38a5a464b92a4d8c144514ca7ea",
       "value": 2697421.0
      }
     },
     "b4418a447cbc4b7bb7cacc17bf91cf55": {
      "model_module": "@jupyter-widgets/controls",
      "model_module_version": "1.5.0",
      "model_name": "FloatProgressModel",
      "state": {
       "_dom_classes": [],
       "_model_module": "@jupyter-widgets/controls",
       "_model_module_version": "1.5.0",
       "_model_name": "FloatProgressModel",
       "_view_count": null,
       "_view_module": "@jupyter-widgets/controls",
       "_view_module_version": "1.5.0",
       "_view_name": "ProgressView",
       "bar_style": "success",
       "description": "",
       "description_tooltip": null,
       "layout": "IPY_MODEL_bcef6f5e8b1b48dba8e5f840d2795b24",
       "max": 112.0,
       "min": 0.0,
       "orientation": "horizontal",
       "style": "IPY_MODEL_adb57fbba87948a180688365caefc78a",
       "value": 112.0
      }
     },
     "b8e4293ee1184e29a3df809dd6f944c8": {
      "model_module": "@jupyter-widgets/controls",
      "model_module_version": "1.5.0",
      "model_name": "HBoxModel",
      "state": {
       "_dom_classes": [],
       "_model_module": "@jupyter-widgets/controls",
       "_model_module_version": "1.5.0",
       "_model_name": "HBoxModel",
       "_view_count": null,
       "_view_module": "@jupyter-widgets/controls",
       "_view_module_version": "1.5.0",
       "_view_name": "HBoxView",
       "box_style": "",
       "children": [
        "IPY_MODEL_f84f4a2daaae45fe8c465f96f19916e9",
        "IPY_MODEL_9f9cbd0d34654a40b1eef1d7731e3d8d",
        "IPY_MODEL_2669a73c6adb46e694ea651084f929f2"
       ],
       "layout": "IPY_MODEL_52cae7005ce14deeac85321115941440"
      }
     },
     "ba595d09e8a742fd9db06027444e5b48": {
      "model_module": "@jupyter-widgets/controls",
      "model_module_version": "1.5.0",
      "model_name": "DescriptionStyleModel",
      "state": {
       "_model_module": "@jupyter-widgets/controls",
       "_model_module_version": "1.5.0",
       "_model_name": "DescriptionStyleModel",
       "_view_count": null,
       "_view_module": "@jupyter-widgets/base",
       "_view_module_version": "1.2.0",
       "_view_name": "StyleView",
       "description_width": ""
      }
     },
     "bcef6f5e8b1b48dba8e5f840d2795b24": {
      "model_module": "@jupyter-widgets/base",
      "model_module_version": "1.2.0",
      "model_name": "LayoutModel",
      "state": {
       "_model_module": "@jupyter-widgets/base",
       "_model_module_version": "1.2.0",
       "_model_name": "LayoutModel",
       "_view_count": null,
       "_view_module": "@jupyter-widgets/base",
       "_view_module_version": "1.2.0",
       "_view_name": "LayoutView",
       "align_content": null,
       "align_items": null,
       "align_self": null,
       "border": null,
       "bottom": null,
       "display": null,
       "flex": null,
       "flex_flow": null,
       "grid_area": null,
       "grid_auto_columns": null,
       "grid_auto_flow": null,
       "grid_auto_rows": null,
       "grid_column": null,
       "grid_gap": null,
       "grid_row": null,
       "grid_template_areas": null,
       "grid_template_columns": null,
       "grid_template_rows": null,
       "height": null,
       "justify_content": null,
       "justify_items": null,
       "left": null,
       "margin": null,
       "max_height": null,
       "max_width": null,
       "min_height": null,
       "min_width": null,
       "object_fit": null,
       "object_position": null,
       "order": null,
       "overflow": null,
       "overflow_x": null,
       "overflow_y": null,
       "padding": null,
       "right": null,
       "top": null,
       "visibility": null,
       "width": null
      }
     },
     "bf35090bb8ae4a49bcede4b88787c65b": {
      "model_module": "@jupyter-widgets/base",
      "model_module_version": "1.2.0",
      "model_name": "LayoutModel",
      "state": {
       "_model_module": "@jupyter-widgets/base",
       "_model_module_version": "1.2.0",
       "_model_name": "LayoutModel",
       "_view_count": null,
       "_view_module": "@jupyter-widgets/base",
       "_view_module_version": "1.2.0",
       "_view_name": "LayoutView",
       "align_content": null,
       "align_items": null,
       "align_self": null,
       "border": null,
       "bottom": null,
       "display": null,
       "flex": null,
       "flex_flow": null,
       "grid_area": null,
       "grid_auto_columns": null,
       "grid_auto_flow": null,
       "grid_auto_rows": null,
       "grid_column": null,
       "grid_gap": null,
       "grid_row": null,
       "grid_template_areas": null,
       "grid_template_columns": null,
       "grid_template_rows": null,
       "height": null,
       "justify_content": null,
       "justify_items": null,
       "left": null,
       "margin": null,
       "max_height": null,
       "max_width": null,
       "min_height": null,
       "min_width": null,
       "object_fit": null,
       "object_position": null,
       "order": null,
       "overflow": null,
       "overflow_x": null,
       "overflow_y": null,
       "padding": null,
       "right": null,
       "top": null,
       "visibility": null,
       "width": null
      }
     },
     "c472aae52b944538b44dfe1c43efb1d7": {
      "model_module": "@jupyter-widgets/base",
      "model_module_version": "1.2.0",
      "model_name": "LayoutModel",
      "state": {
       "_model_module": "@jupyter-widgets/base",
       "_model_module_version": "1.2.0",
       "_model_name": "LayoutModel",
       "_view_count": null,
       "_view_module": "@jupyter-widgets/base",
       "_view_module_version": "1.2.0",
       "_view_name": "LayoutView",
       "align_content": null,
       "align_items": null,
       "align_self": null,
       "border": null,
       "bottom": null,
       "display": null,
       "flex": null,
       "flex_flow": null,
       "grid_area": null,
       "grid_auto_columns": null,
       "grid_auto_flow": null,
       "grid_auto_rows": null,
       "grid_column": null,
       "grid_gap": null,
       "grid_row": null,
       "grid_template_areas": null,
       "grid_template_columns": null,
       "grid_template_rows": null,
       "height": null,
       "justify_content": null,
       "justify_items": null,
       "left": null,
       "margin": null,
       "max_height": null,
       "max_width": null,
       "min_height": null,
       "min_width": null,
       "object_fit": null,
       "object_position": null,
       "order": null,
       "overflow": null,
       "overflow_x": null,
       "overflow_y": null,
       "padding": null,
       "right": null,
       "top": null,
       "visibility": null,
       "width": null
      }
     },
     "caf86080684b40f494521d6ee21c55da": {
      "model_module": "@jupyter-widgets/base",
      "model_module_version": "1.2.0",
      "model_name": "LayoutModel",
      "state": {
       "_model_module": "@jupyter-widgets/base",
       "_model_module_version": "1.2.0",
       "_model_name": "LayoutModel",
       "_view_count": null,
       "_view_module": "@jupyter-widgets/base",
       "_view_module_version": "1.2.0",
       "_view_name": "LayoutView",
       "align_content": null,
       "align_items": null,
       "align_self": null,
       "border": null,
       "bottom": null,
       "display": null,
       "flex": null,
       "flex_flow": null,
       "grid_area": null,
       "grid_auto_columns": null,
       "grid_auto_flow": null,
       "grid_auto_rows": null,
       "grid_column": null,
       "grid_gap": null,
       "grid_row": null,
       "grid_template_areas": null,
       "grid_template_columns": null,
       "grid_template_rows": null,
       "height": null,
       "justify_content": null,
       "justify_items": null,
       "left": null,
       "margin": null,
       "max_height": null,
       "max_width": null,
       "min_height": null,
       "min_width": null,
       "object_fit": null,
       "object_position": null,
       "order": null,
       "overflow": null,
       "overflow_x": null,
       "overflow_y": null,
       "padding": null,
       "right": null,
       "top": null,
       "visibility": null,
       "width": null
      }
     },
     "cc250dd5c15045aab9320e711dddaac4": {
      "model_module": "@jupyter-widgets/controls",
      "model_module_version": "1.5.0",
      "model_name": "FloatProgressModel",
      "state": {
       "_dom_classes": [],
       "_model_module": "@jupyter-widgets/controls",
       "_model_module_version": "1.5.0",
       "_model_name": "FloatProgressModel",
       "_view_count": null,
       "_view_module": "@jupyter-widgets/controls",
       "_view_module_version": "1.5.0",
       "_view_name": "ProgressView",
       "bar_style": "success",
       "description": "",
       "description_tooltip": null,
       "layout": "IPY_MODEL_dda61348d9604ec7b9d8ca7c5d4a7526",
       "max": 780034.0,
       "min": 0.0,
       "orientation": "horizontal",
       "style": "IPY_MODEL_852ed59cad134ce58c1bdac2cb8bc090",
       "value": 780034.0
      }
     },
     "d20a6e2c69744e9ca583aac890e1ddee": {
      "model_module": "@jupyter-widgets/controls",
      "model_module_version": "1.5.0",
      "model_name": "HTMLModel",
      "state": {
       "_dom_classes": [],
       "_model_module": "@jupyter-widgets/controls",
       "_model_module_version": "1.5.0",
       "_model_name": "HTMLModel",
       "_view_count": null,
       "_view_module": "@jupyter-widgets/controls",
       "_view_module_version": "1.5.0",
       "_view_name": "HTMLView",
       "description": "",
       "description_tooltip": null,
       "layout": "IPY_MODEL_6ad5dd881d564939b1e53dfd6af66e43",
       "placeholder": "​",
       "style": "IPY_MODEL_71a9b967fc7d45848b8d16414eac82c3",
       "value": " 780k/780k [00:00&lt;00:00, 3.05MB/s]"
      }
     },
     "d389716d1816456c9061026ec0a3387d": {
      "model_module": "@jupyter-widgets/controls",
      "model_module_version": "1.5.0",
      "model_name": "HTMLModel",
      "state": {
       "_dom_classes": [],
       "_model_module": "@jupyter-widgets/controls",
       "_model_module_version": "1.5.0",
       "_model_name": "HTMLModel",
       "_view_count": null,
       "_view_module": "@jupyter-widgets/controls",
       "_view_module_version": "1.5.0",
       "_view_name": "HTMLView",
       "description": "",
       "description_tooltip": null,
       "layout": "IPY_MODEL_8f8c63ea0a86466d9419105cc8892a08",
       "placeholder": "​",
       "style": "IPY_MODEL_e66a527389b94eb1b2b5c575fc5b76d2",
       "value": " 576/576 [00:00&lt;00:00, 51.4kB/s]"
      }
     },
     "d6c373a01a7f4bf299ece72a04ef8394": {
      "model_module": "@jupyter-widgets/controls",
      "model_module_version": "1.5.0",
      "model_name": "ProgressStyleModel",
      "state": {
       "_model_module": "@jupyter-widgets/controls",
       "_model_module_version": "1.5.0",
       "_model_name": "ProgressStyleModel",
       "_view_count": null,
       "_view_module": "@jupyter-widgets/base",
       "_view_module_version": "1.2.0",
       "_view_name": "StyleView",
       "bar_color": null,
       "description_width": ""
      }
     },
     "d7c5610ff0844c0c9a69ba3bcf0c4bae": {
      "model_module": "@jupyter-widgets/controls",
      "model_module_version": "1.5.0",
      "model_name": "DescriptionStyleModel",
      "state": {
       "_model_module": "@jupyter-widgets/controls",
       "_model_module_version": "1.5.0",
       "_model_name": "DescriptionStyleModel",
       "_view_count": null,
       "_view_module": "@jupyter-widgets/base",
       "_view_module_version": "1.2.0",
       "_view_name": "StyleView",
       "description_width": ""
      }
     },
     "d83e05cdbd3b4dc1b554b69e65f2c8ca": {
      "model_module": "@jupyter-widgets/controls",
      "model_module_version": "1.5.0",
      "model_name": "DescriptionStyleModel",
      "state": {
       "_model_module": "@jupyter-widgets/controls",
       "_model_module_version": "1.5.0",
       "_model_name": "DescriptionStyleModel",
       "_view_count": null,
       "_view_module": "@jupyter-widgets/base",
       "_view_module_version": "1.2.0",
       "_view_name": "StyleView",
       "description_width": ""
      }
     },
     "dda61348d9604ec7b9d8ca7c5d4a7526": {
      "model_module": "@jupyter-widgets/base",
      "model_module_version": "1.2.0",
      "model_name": "LayoutModel",
      "state": {
       "_model_module": "@jupyter-widgets/base",
       "_model_module_version": "1.2.0",
       "_model_name": "LayoutModel",
       "_view_count": null,
       "_view_module": "@jupyter-widgets/base",
       "_view_module_version": "1.2.0",
       "_view_name": "LayoutView",
       "align_content": null,
       "align_items": null,
       "align_self": null,
       "border": null,
       "bottom": null,
       "display": null,
       "flex": null,
       "flex_flow": null,
       "grid_area": null,
       "grid_auto_columns": null,
       "grid_auto_flow": null,
       "grid_auto_rows": null,
       "grid_column": null,
       "grid_gap": null,
       "grid_row": null,
       "grid_template_areas": null,
       "grid_template_columns": null,
       "grid_template_rows": null,
       "height": null,
       "justify_content": null,
       "justify_items": null,
       "left": null,
       "margin": null,
       "max_height": null,
       "max_width": null,
       "min_height": null,
       "min_width": null,
       "object_fit": null,
       "object_position": null,
       "order": null,
       "overflow": null,
       "overflow_x": null,
       "overflow_y": null,
       "padding": null,
       "right": null,
       "top": null,
       "visibility": null,
       "width": null
      }
     },
     "e66a527389b94eb1b2b5c575fc5b76d2": {
      "model_module": "@jupyter-widgets/controls",
      "model_module_version": "1.5.0",
      "model_name": "DescriptionStyleModel",
      "state": {
       "_model_module": "@jupyter-widgets/controls",
       "_model_module_version": "1.5.0",
       "_model_name": "DescriptionStyleModel",
       "_view_count": null,
       "_view_module": "@jupyter-widgets/base",
       "_view_module_version": "1.2.0",
       "_view_name": "StyleView",
       "description_width": ""
      }
     },
     "ebfff38a5a464b92a4d8c144514ca7ea": {
      "model_module": "@jupyter-widgets/controls",
      "model_module_version": "1.5.0",
      "model_name": "ProgressStyleModel",
      "state": {
       "_model_module": "@jupyter-widgets/controls",
       "_model_module_version": "1.5.0",
       "_model_name": "ProgressStyleModel",
       "_view_count": null,
       "_view_module": "@jupyter-widgets/base",
       "_view_module_version": "1.2.0",
       "_view_name": "StyleView",
       "bar_color": null,
       "description_width": ""
      }
     },
     "f02d532ff22146e0a550cdf5e08b9ccc": {
      "model_module": "@jupyter-widgets/controls",
      "model_module_version": "1.5.0",
      "model_name": "DescriptionStyleModel",
      "state": {
       "_model_module": "@jupyter-widgets/controls",
       "_model_module_version": "1.5.0",
       "_model_name": "DescriptionStyleModel",
       "_view_count": null,
       "_view_module": "@jupyter-widgets/base",
       "_view_module_version": "1.2.0",
       "_view_name": "StyleView",
       "description_width": ""
      }
     },
     "f170d83fde7b45af85332f90f8177312": {
      "model_module": "@jupyter-widgets/controls",
      "model_module_version": "1.5.0",
      "model_name": "HTMLModel",
      "state": {
       "_dom_classes": [],
       "_model_module": "@jupyter-widgets/controls",
       "_model_module_version": "1.5.0",
       "_model_name": "HTMLModel",
       "_view_count": null,
       "_view_module": "@jupyter-widgets/controls",
       "_view_module_version": "1.5.0",
       "_view_name": "HTMLView",
       "description": "",
       "description_tooltip": null,
       "layout": "IPY_MODEL_78b2232f083644f399f98d13170c47a7",
       "placeholder": "​",
       "style": "IPY_MODEL_d83e05cdbd3b4dc1b554b69e65f2c8ca",
       "value": "tokenizer_config.json: 100%"
      }
     },
     "f84f4a2daaae45fe8c465f96f19916e9": {
      "model_module": "@jupyter-widgets/controls",
      "model_module_version": "1.5.0",
      "model_name": "HTMLModel",
      "state": {
       "_dom_classes": [],
       "_model_module": "@jupyter-widgets/controls",
       "_model_module_version": "1.5.0",
       "_model_name": "HTMLModel",
       "_view_count": null,
       "_view_module": "@jupyter-widgets/controls",
       "_view_module_version": "1.5.0",
       "_view_name": "HTMLView",
       "description": "",
       "description_tooltip": null,
       "layout": "IPY_MODEL_8ea8fdff06a14a729ebcfc364ac9fd6d",
       "placeholder": "​",
       "style": "IPY_MODEL_d7c5610ff0844c0c9a69ba3bcf0c4bae",
       "value": "model.safetensors: 100%"
      }
     },
     "ffd6f566a1494bea9b4bbdc6b03dc2cd": {
      "model_module": "@jupyter-widgets/controls",
      "model_module_version": "1.5.0",
      "model_name": "ProgressStyleModel",
      "state": {
       "_model_module": "@jupyter-widgets/controls",
       "_model_module_version": "1.5.0",
       "_model_name": "ProgressStyleModel",
       "_view_count": null,
       "_view_module": "@jupyter-widgets/base",
       "_view_module_version": "1.2.0",
       "_view_name": "StyleView",
       "bar_color": null,
       "description_width": ""
      }
     }
    },
    "version_major": 2,
    "version_minor": 0
   }
  }
 },
 "nbformat": 4,
 "nbformat_minor": 5
}
