{
 "cells": [
  {
   "cell_type": "markdown",
   "id": "1ac322ad-9eeb-4e80-a95d-1dfa3ead7bdb",
   "metadata": {},
   "source": [
    "# Creating the Dataset from txt files"
   ]
  },
  {
   "cell_type": "code",
   "execution_count": 11,
   "id": "84a10d95-e4ba-4ee0-b925-9bcf01ba148e",
   "metadata": {},
   "outputs": [],
   "source": [
    "import os\n",
    "import pandas as pd"
   ]
  },
  {
   "cell_type": "code",
   "execution_count": 2,
   "id": "011ef1c1-d5e9-44e5-ae9c-17152aa5f6fc",
   "metadata": {},
   "outputs": [],
   "source": [
    "def read_txt_file(file_path):\n",
    "    with open(file_path, 'r', encoding='utf-8') as file:\n",
    "        content = file.read()\n",
    "    return content"
   ]
  },
  {
   "cell_type": "code",
   "execution_count": 3,
   "id": "cf206d32-87c9-468d-81d1-be97c4c19f35",
   "metadata": {},
   "outputs": [],
   "source": [
    "base_dir = r'C:\\Users\\yuguerten\\Desktop\\MBDIOT\\Semestre 2\\TM\\mini-project\\bbc-arabic-utf8'\n",
    "dfs = []"
   ]
  },
  {
   "cell_type": "code",
   "execution_count": 4,
   "id": "8532f5fb-b158-4325-a777-d8003f687553",
   "metadata": {},
   "outputs": [
    {
     "name": "stdout",
     "output_type": "stream",
     "text": [
      "['اخبار الشرق الاوسط', 'اخبار العالم', 'اقتصاد و اعمال', 'رياضة', 'عرض الصحف', 'علوم وتكنولوجيا', 'منوعات']\n"
     ]
    }
   ],
   "source": [
    "print(os.listdir(base_dir))"
   ]
  },
  {
   "cell_type": "code",
   "execution_count": 5,
   "id": "fa1670d7-7657-426e-ac7a-c9540bbcb5bc",
   "metadata": {},
   "outputs": [],
   "source": [
    "for category in os.listdir(base_dir):\n",
    "    category_dir = os.path.join(base_dir, category)\n",
    "    if os.path.isdir(category_dir):\n",
    "        # Loop through .txt files in the category directory\n",
    "        for txt_file in os.listdir(category_dir):\n",
    "            if txt_file.endswith('.txt'):\n",
    "                txt_file_path = os.path.join(category_dir, txt_file)\n",
    "                # Read the content of the .txt file\n",
    "                body = read_txt_file(txt_file_path)\n",
    "                # Create a DataFrame for the current .txt file\n",
    "                df = pd.DataFrame({'Body': [body], 'category': [category]})\n",
    "                # Append the DataFrame to the list\n",
    "                dfs.append(df)"
   ]
  },
  {
   "cell_type": "code",
   "execution_count": 6,
   "id": "c805bfb0-28a6-4067-9096-550d7c395645",
   "metadata": {},
   "outputs": [],
   "source": [
    "df = pd.concat(dfs, ignore_index=True)"
   ]
  },
  {
   "cell_type": "code",
   "execution_count": 7,
   "id": "5c73ad7e-eb95-4ec7-9f2f-2b69ce0d2979",
   "metadata": {},
   "outputs": [
    {
     "data": {
      "text/plain": [
       "'                           \\u202dBBC Arabic\\u202c - \\u202eالشرق الأوسط\\u202c - \\u202eمقتل العشرات في هجوم انتحاري قرب كركوك\\u202c                          content=\"مقتل واصابة العشرات في انفجار شاحنة مفخخة قرب مسجد شيعي في مدينة كركوك الواقعة شمالي العراق.\" />                           الرئيسية          الشرق الأوسط   \\t\\t  العالم   \\t\\t  شارك برأيك   \\t\\t  اقتصاد وأعمال   \\t\\t  منوعات  \\t \\t\\t  علوم وتكنولوجيا   \\t\\t  رياضة   \\t\\t  راديو وتلفزيون                  مقتل العشرات في هجوم انتحاري قرب كركوك                 قالت الشرطة العراقية ان 64 شخصا على الاقل قتلوا في انفجار شاحنة مفخخة في مدينة كركوك شمال العراق.               وقال المسؤولون العراقيون ان 160 شخصا اخرين جرحوا في التفجير الذي وقع قرب مسجد شيعي في بلدة تازة.               وسويت اكثر من عشرة منازل مجاورة لمكان الانفجار بالارض كما اصيب المسجد ايضا بشكل بالغ.               وياتي الهجوم الاخير قبل ايام من الموعد المقرر لانسحاب القوات الامريكية من المدن العراقية، مما يزيد القلق من احتمال تصاعد اعمال العنف.               وقبل التفجير بساعات كان رئيس الوزراء العراقي نوري المالكي يعلن ان الانسحاب سيتم كما هو مقرر ووصفه بانه \"نصر عظيم\".               واضاف: \"لا تيأسوا ان وقع خرق امني هنا او هناك\".               ويقول مراسل بي بي سي في بغداد جيم ميور ان التفجير يعد اكثر الهجمات دموية في العراق العام الجاري.               ووقع الانفجار فيما كان المصلون يغادرون مسجد الرسول المزدحم، الذي يتبع الاقلية التركمانية في المدينة في بلدة تازة جنوب كركوك، بعد صلاة الظهر.               ولشدة الانفجار خلف حفرة عميقة في الارض.               ونقل الضحايا الى مستشفى ازادي الرئيسي في كركوك، الذي شهد حالة فوضى مع نقل الضحايا الغارقين في دمائهم، وبينهم اطفال، الى اجنحة المستشفى.               وكانت كركوك، الواقعة على بعد 250 كيلومترا من بغداد، شهدت انفجارين انتحاريين الشهر الماضي قتل فيهما 14 شخصا.               وتعد مدينة كركوك مركز الصناعة النفطية العراقية في الشمال وتضم خليطا من الاكراد والعرب والمسيحيين والتركمان.               وتخطط الولايات المتحدة لسحب قواتها من المدن والبلدات الرئيسية بحلول 30 يونيو ومن المقرر ان تنهي العمليات الحربية في انحاء العراق بحلول سبتمبر 2010 تاركة الامر لقوات الامن العراقية .               وهناك مخاوف من ان يحاول المتمردون الاستفادة من الانسحاب مع ان قادة البلاد يقولون ان القوات العراقية قادرة على تولي الامن الداخلي دون مساعدة من القوات الامريكية.                         '"
      ]
     },
     "execution_count": 7,
     "metadata": {},
     "output_type": "execute_result"
    }
   ],
   "source": [
    "df['Body'][5]"
   ]
  },
  {
   "cell_type": "code",
   "execution_count": 8,
   "id": "1f77b6b8-5e9e-4b5a-9437-9eb02e29314a",
   "metadata": {},
   "outputs": [
    {
     "name": "stdout",
     "output_type": "stream",
     "text": [
      "<class 'pandas.core.frame.DataFrame'>\n",
      "RangeIndex: 4763 entries, 0 to 4762\n",
      "Data columns (total 2 columns):\n",
      " #   Column    Non-Null Count  Dtype \n",
      "---  ------    --------------  ----- \n",
      " 0   Body      4763 non-null   object\n",
      " 1   category  4763 non-null   object\n",
      "dtypes: object(2)\n",
      "memory usage: 74.6+ KB\n"
     ]
    }
   ],
   "source": [
    "df.info()"
   ]
  },
  {
   "cell_type": "code",
   "execution_count": 9,
   "id": "4e5f0ab7-fe1c-4cdb-a398-1cbe1e88a086",
   "metadata": {
    "scrolled": true
   },
   "outputs": [
    {
     "data": {
      "text/plain": [
       "Body        0\n",
       "category    0\n",
       "dtype: int64"
      ]
     },
     "execution_count": 9,
     "metadata": {},
     "output_type": "execute_result"
    }
   ],
   "source": [
    "df.isnull().sum()"
   ]
  },
  {
   "cell_type": "code",
   "execution_count": 10,
   "id": "96e0243f-ab1b-45e8-9f81-e2194e95ddeb",
   "metadata": {},
   "outputs": [],
   "source": [
    "#save the df into dataset.csv\n",
    "df.to_csv('dataset.csv', index=False) "
   ]
  }
 ],
 "metadata": {
  "kernelspec": {
   "display_name": "Python 3 (ipykernel)",
   "language": "python",
   "name": "python3"
  },
  "language_info": {
   "codemirror_mode": {
    "name": "ipython",
    "version": 3
   },
   "file_extension": ".py",
   "mimetype": "text/x-python",
   "name": "python",
   "nbconvert_exporter": "python",
   "pygments_lexer": "ipython3",
   "version": "3.11.5"
  }
 },
 "nbformat": 4,
 "nbformat_minor": 5
}
